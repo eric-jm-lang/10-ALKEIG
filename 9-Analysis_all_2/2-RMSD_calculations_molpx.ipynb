{
 "cells": [
  {
   "cell_type": "code",
   "execution_count": 1,
   "metadata": {},
   "outputs": [
    {
     "data": {
      "application/vnd.jupyter.widget-view+json": {
       "model_id": "5e600054a98d445cac7aaa21b9ba4571",
       "version_major": 2,
       "version_minor": 0
      },
      "text/plain": [
       "_ColormakerRegistry()"
      ]
     },
     "metadata": {},
     "output_type": "display_data"
    }
   ],
   "source": [
    "%matplotlib ipympl\n",
    "from matplotlib import pylab as plt\n",
    "import matplotlib\n",
    "import molpx\n",
    "import mdtraj as md\n",
    "\n",
    "import numpy as np\n",
    "import pandas as pd\n",
    "\n",
    "import pytraj as pt\n",
    "import pyemma\n",
    "\n",
    "#import matplotlib \n",
    "#import matplotlib.pyplot as plt\n",
    "import seaborn as sns\n",
    "\n",
    "import os\n",
    "import sys\n",
    "import glob"
   ]
  },
  {
   "cell_type": "markdown",
   "metadata": {},
   "source": [
    "## Load reference structures"
   ]
  },
  {
   "cell_type": "code",
   "execution_count": 2,
   "metadata": {},
   "outputs": [],
   "source": [
    "rf0=pt.load('./parm_rst/closed6_dry_rot0.rst7', './parm_rst/closed6_dry_rot0.parm7')\n",
    "rf1=pt.load('./parm_rst/closed6_dry_rot1.rst7', './parm_rst/closed6_dry_rot1.parm7')\n",
    "rf2=pt.load('./parm_rst/closed6_dry_rot2.rst7', './parm_rst/closed6_dry_rot2.parm7')\n",
    "rf3=pt.load('./parm_rst/closed6_dry_rot3.rst7', './parm_rst/closed6_dry_rot3.parm7')\n",
    "rf4=pt.load('./parm_rst/closed6_dry_rot4.rst7', './parm_rst/closed6_dry_rot4.parm7')\n",
    "rf5=pt.load('./parm_rst/closed6_dry_rot5.rst7', './parm_rst/closed6_dry_rot5.parm7')\n",
    "\n",
    "rfopen=pt.load('./parm_rst/open10_dry.rst7', './parm_rst/open10_dry.parm7')"
   ]
  },
  {
   "cell_type": "markdown",
   "metadata": {},
   "source": [
    "## Free energy surface plot"
   ]
  },
  {
   "cell_type": "markdown",
   "metadata": {},
   "source": [
    "List the trajectories"
   ]
  },
  {
   "cell_type": "code",
   "execution_count": 3,
   "metadata": {},
   "outputs": [
    {
     "data": {
      "text/plain": [
       "['./traj_dry_noeq_without_ipa/closed_dry_1.nc',\n",
       " './traj_dry_noeq_without_ipa/closed_dry_10.nc',\n",
       " './traj_dry_noeq_without_ipa/closed_dry_2.nc',\n",
       " './traj_dry_noeq_without_ipa/closed_dry_3.nc',\n",
       " './traj_dry_noeq_without_ipa/closed_dry_4.nc',\n",
       " './traj_dry_noeq_without_ipa/closed_dry_5.nc',\n",
       " './traj_dry_noeq_without_ipa/closed_dry_6.nc',\n",
       " './traj_dry_noeq_without_ipa/closed_dry_7.nc',\n",
       " './traj_dry_noeq_without_ipa/closed_dry_8.nc',\n",
       " './traj_dry_noeq_without_ipa/closed_dry_9.nc',\n",
       " './traj_dry_noeq_without_ipa/open_dry_1.nc',\n",
       " './traj_dry_noeq_without_ipa/open_dry_10.nc',\n",
       " './traj_dry_noeq_without_ipa/open_dry_2.nc',\n",
       " './traj_dry_noeq_without_ipa/open_dry_3.nc',\n",
       " './traj_dry_noeq_without_ipa/open_dry_4.nc',\n",
       " './traj_dry_noeq_without_ipa/open_dry_5.nc',\n",
       " './traj_dry_noeq_without_ipa/open_dry_6.nc',\n",
       " './traj_dry_noeq_without_ipa/open_dry_7.nc',\n",
       " './traj_dry_noeq_without_ipa/open_dry_8.nc',\n",
       " './traj_dry_noeq_without_ipa/open_dry_9.nc']"
      ]
     },
     "execution_count": 3,
     "metadata": {},
     "output_type": "execute_result"
    }
   ],
   "source": [
    "indir = './traj_dry_noeq_without_ipa'\n",
    "topfile = './parm_rst/open10_dry.parm7'\n",
    "from glob import glob\n",
    "traj_list = sorted(glob(indir+'/*.nc'))\n",
    "traj_list"
   ]
  },
  {
   "cell_type": "markdown",
   "metadata": {},
   "source": [
    "Calculate the RMSD of each trajectory frames with one of teh reference structure. \n",
    "6 reference structures are used for the closed form in order to account to chain symmetry. Only the minimum RMSD value for each frame with respect to the closed crystal structures is kept"
   ]
  },
  {
   "cell_type": "code",
   "execution_count": 4,
   "metadata": {},
   "outputs": [],
   "source": [
    "results_open=[]\n",
    "results_closed=[]\n",
    "for t in traj_list:\n",
    "    traj=pt.load(t, topfile)\n",
    "    rmsd0=pt.rmsd(traj,ref=rf0, mask=\"@CA,N,C,O\")\n",
    "    rmsd1=pt.rmsd(traj,ref=rf1, mask=\"@CA,N,C,O\")\n",
    "    rmsd2=pt.rmsd(traj,ref=rf2, mask=\"@CA,N,C,O\")\n",
    "    rmsd3=pt.rmsd(traj,ref=rf3, mask=\"@CA,N,C,O\")\n",
    "    rmsd4=pt.rmsd(traj,ref=rf4, mask=\"@CA,N,C,O\")\n",
    "    rmsd5=pt.rmsd(traj,ref=rf5, mask=\"@CA,N,C,O\")\n",
    "    \n",
    "    rmsd_closed=np.nanmin(np.array([rmsd0,rmsd1,rmsd2,rmsd3,rmsd4,rmsd5]), axis=0)\n",
    "    results_closed.append(rmsd_closed)\n",
    "    \n",
    "    rmsd_open=pt.rmsd(traj,ref=rfopen, mask=\"@CA,N,C,O\")\n",
    "    results_open.append(rmsd_open)"
   ]
  },
  {
   "cell_type": "markdown",
   "metadata": {},
   "source": [
    "Create a Y matrix similar to that optained with PyEMMA after TICA analysis"
   ]
  },
  {
   "cell_type": "code",
   "execution_count": 42,
   "metadata": {},
   "outputs": [
    {
     "name": "stdout",
     "output_type": "stream",
     "text": [
      "20\n",
      "48680\n",
      "2\n"
     ]
    }
   ],
   "source": [
    "Y=[]\n",
    "for i in range(0,len(results_open)):  \n",
    "    Z=[]\n",
    "    for j in range(0,len(results_open[i])):\n",
    "        a=np.array([results_closed[i][j],results_open[i][j]])\n",
    "        Z.append(a)\n",
    "    Z=np.array(Z)\n",
    "    Y.append(Z)\n",
    "print(len(Y))\n",
    "print(len(Y[0]))\n",
    "print(len(Y[0][0]))"
   ]
  },
  {
   "cell_type": "markdown",
   "metadata": {},
   "source": [
    "Plot interactive FES "
   ]
  },
  {
   "cell_type": "code",
   "execution_count": 43,
   "metadata": {
    "slideshow": {
     "slide_type": "slide"
    }
   },
   "outputs": [
    {
     "data": {
      "application/vnd.jupyter.widget-view+json": {
       "model_id": "",
       "version_major": 2,
       "version_minor": 0
      },
      "text/plain": [
       "HBox(children=(FloatProgress(value=0.0, description='Obtaining file info', layout=Layout(flex='2'), max=20.0, …"
      ]
     },
     "metadata": {},
     "output_type": "display_data"
    },
    {
     "name": "stdout",
     "output_type": "stream",
     "text": [
      "21-04-20 15:30:32 pyemma.coordinates.clustering.regspace.RegularSpaceClustering[63] WARNING  Maximum number of cluster centers reached. Consider increasing max_centers or choose a larger minimum distance, dmin.\n",
      "21-04-20 15:30:32 pyemma.coordinates.clustering.regspace.RegularSpaceClustering[63] INFO     Presumably finished estimation. Message: Used data for centers: 9.93%\n"
     ]
    },
    {
     "name": "stderr",
     "output_type": "stream",
     "text": [
      "/home/el14718/Software/anaconda3_2019/lib/python3.7/site-packages/pyemma/coordinates/clustering/regspace.py:153: UserWarning: Maximum number of cluster centers reached. Consider increasing max_centers or choose a larger minimum distance, dmin.\n",
      "  warnings.warn(msg)\n"
     ]
    },
    {
     "data": {
      "application/vnd.jupyter.widget-view+json": {
       "model_id": "",
       "version_major": 2,
       "version_minor": 0
      },
      "text/plain": [
       "HBox(children=(FloatProgress(value=0.0, description='getting output of RegularSpaceClustering', layout=Layout(…"
      ]
     },
     "metadata": {},
     "output_type": "display_data"
    },
    {
     "data": {
      "application/vnd.jupyter.widget-view+json": {
       "model_id": "ea4544fa56c4496fac335e97df695c76",
       "version_major": 2,
       "version_minor": 0
      },
      "text/plain": [
       "MolPXHBox(children=(NGLWidget(max_frame=512), Canvas(toolbar=Toolbar(toolitems=[('Home', 'Reset original view'…"
      ]
     },
     "metadata": {},
     "output_type": "display_data"
    }
   ],
   "source": [
    "mpx_wdg_box = molpx.visualize.FES(traj_list, topfile, Y, nbins=200, n_sample= 500,\n",
    "                                  proj_labels=[r'RMSD to closed crystal structure ($\\AA$)',\n",
    "                                               r'RMSD to open crystal structure ($\\AA$)'])\n",
    "mpx_wdg_box.linked_ngl_wdgs[0].camera = 'orthographic'\n",
    "mpx_wdg_box"
   ]
  },
  {
   "cell_type": "code",
   "execution_count": 44,
   "metadata": {},
   "outputs": [],
   "source": [
    "mpx_wdg_box.linked_ngl_wdgs[0].remove_line()\n",
    "mpx_wdg_box.linked_ngl_wdgs[0].remove_licorice()\n",
    "mpx_wdg_box.linked_ngl_wdgs[0].remove_surface()"
   ]
  },
  {
   "cell_type": "code",
   "execution_count": 45,
   "metadata": {},
   "outputs": [],
   "source": [
    "mpx_wdg_box.linked_ngl_wdgs[0].add_line(selection=\"(not hydrogen) and (not backbone)\")"
   ]
  },
  {
   "cell_type": "code",
   "execution_count": null,
   "metadata": {},
   "outputs": [],
   "source": [
    "mpx_wdg_box.linked_ngl_wdgs[0].add_surface(selection=\"all\", surfacetype=\"ms\",probeRadius=0.8 )"
   ]
  },
  {
   "cell_type": "markdown",
   "metadata": {},
   "source": [
    "K-mean clustering"
   ]
  },
  {
   "cell_type": "code",
   "execution_count": 9,
   "metadata": {},
   "outputs": [
    {
     "data": {
      "application/vnd.jupyter.widget-view+json": {
       "model_id": "",
       "version_major": 2,
       "version_minor": 0
      },
      "text/plain": [
       "HBox(children=(FloatProgress(value=0.0, description='kmeans iterations', layout=Layout(flex='2'), max=1000.0, …"
      ]
     },
     "metadata": {},
     "output_type": "display_data"
    }
   ],
   "source": [
    "n_clusters = 6\n",
    "clustering = pyemma.coordinates.cluster_kmeans(Y,k=n_clusters, max_iter=1000, fixed_seed=True,\n",
    "                                               n_jobs=1, init_strategy='uniform')"
   ]
  },
  {
   "cell_type": "code",
   "execution_count": 10,
   "metadata": {},
   "outputs": [],
   "source": [
    "def plot_labels(ax=None):\n",
    "    #if ax is None:\n",
    "        #ax = gca()\n",
    "    for i in range(0,len(clustering.clustercenters)):\n",
    "        plt.text(clustering.clustercenters[i][0]+0.04, clustering.clustercenters[i][1]+0.04, \n",
    "                 i, fontsize=10, color='white')\n"
   ]
  },
  {
   "cell_type": "code",
   "execution_count": 11,
   "metadata": {
    "scrolled": true
   },
   "outputs": [
    {
     "data": {
      "application/vnd.jupyter.widget-view+json": {
       "model_id": "c4e9dd7a71fc4ad9ba83f0077f36183d",
       "version_major": 2,
       "version_minor": 0
      },
      "text/plain": [
       "Canvas(toolbar=Toolbar(toolitems=[('Home', 'Reset original view', 'home', 'home'), ('Back', 'Back to previous …"
      ]
     },
     "metadata": {},
     "output_type": "display_data"
    }
   ],
   "source": [
    "pyemma.plots.plot_free_energy(np.vstack(Y)[:, 0], np.vstack(Y)[:, 1])\n",
    "cc_x = clustering.clustercenters[:, 0]\n",
    "cc_y = clustering.clustercenters[:, 1]\n",
    "plt.plot(cc_x, cc_y, linewidth=0, marker='o', markersize=5, color='white')\n",
    "plot_labels()"
   ]
  },
  {
   "cell_type": "markdown",
   "metadata": {},
   "source": [
    "Extract representative structures"
   ]
  },
  {
   "cell_type": "code",
   "execution_count": 12,
   "metadata": {},
   "outputs": [
    {
     "data": {
      "application/vnd.jupyter.widget-view+json": {
       "model_id": "",
       "version_major": 2,
       "version_minor": 0
      },
      "text/plain": [
       "HBox(children=(FloatProgress(value=0.0, description='Obtaining file info', layout=Layout(flex='2'), max=20.0, …"
      ]
     },
     "metadata": {},
     "output_type": "display_data"
    },
    {
     "data": {
      "application/vnd.jupyter.widget-view+json": {
       "model_id": "",
       "version_major": 2,
       "version_minor": 0
      },
      "text/plain": [
       "HBox(children=(FloatProgress(value=0.0, description='getting output of KmeansClustering', layout=Layout(flex='…"
      ]
     },
     "metadata": {},
     "output_type": "display_data"
    }
   ],
   "source": [
    "data_sample, geoms = molpx.generate.sample(traj_list, topfile, clustering, \n",
    "                                                   n_geom_samples=100, n_points=100)"
   ]
  },
  {
   "cell_type": "code",
   "execution_count": 13,
   "metadata": {},
   "outputs": [],
   "source": [
    "for i in range(0,len(clustering.clustercenters)):\n",
    "    geoms[i].save('./rep_struct_1/{}.pdb'.format(i))"
   ]
  },
  {
   "cell_type": "markdown",
   "metadata": {},
   "source": [
    "## Free energy surface for IPA containing simulations"
   ]
  },
  {
   "cell_type": "code",
   "execution_count": 14,
   "metadata": {},
   "outputs": [
    {
     "data": {
      "text/plain": [
       "['./traj_dry_noeq_with_ipa/closed_ipa_dry_1.nc',\n",
       " './traj_dry_noeq_with_ipa/closed_ipa_dry_10.nc',\n",
       " './traj_dry_noeq_with_ipa/closed_ipa_dry_2.nc',\n",
       " './traj_dry_noeq_with_ipa/closed_ipa_dry_3.nc',\n",
       " './traj_dry_noeq_with_ipa/closed_ipa_dry_4.nc',\n",
       " './traj_dry_noeq_with_ipa/closed_ipa_dry_5.nc',\n",
       " './traj_dry_noeq_with_ipa/closed_ipa_dry_6.nc',\n",
       " './traj_dry_noeq_with_ipa/closed_ipa_dry_7.nc',\n",
       " './traj_dry_noeq_with_ipa/closed_ipa_dry_8.nc',\n",
       " './traj_dry_noeq_with_ipa/closed_ipa_dry_9.nc',\n",
       " './traj_dry_noeq_with_ipa/open_ipa_dry_1.nc',\n",
       " './traj_dry_noeq_with_ipa/open_ipa_dry_10.nc',\n",
       " './traj_dry_noeq_with_ipa/open_ipa_dry_2.nc',\n",
       " './traj_dry_noeq_with_ipa/open_ipa_dry_3.nc',\n",
       " './traj_dry_noeq_with_ipa/open_ipa_dry_4.nc',\n",
       " './traj_dry_noeq_with_ipa/open_ipa_dry_5.nc',\n",
       " './traj_dry_noeq_with_ipa/open_ipa_dry_6.nc',\n",
       " './traj_dry_noeq_with_ipa/open_ipa_dry_7.nc',\n",
       " './traj_dry_noeq_with_ipa/open_ipa_dry_8.nc',\n",
       " './traj_dry_noeq_with_ipa/open_ipa_dry_9.nc']"
      ]
     },
     "execution_count": 14,
     "metadata": {},
     "output_type": "execute_result"
    }
   ],
   "source": [
    "indir = './traj_dry_noeq_with_ipa'\n",
    "topfile = './parm_rst/open10_dry.parm7'\n",
    "from glob import glob\n",
    "traj_list2 = sorted(glob(indir+'/*.nc'))\n",
    "traj_list2"
   ]
  },
  {
   "cell_type": "code",
   "execution_count": 15,
   "metadata": {},
   "outputs": [],
   "source": [
    "results_open_ipa=[]\n",
    "results_closed_ipa=[]\n",
    "for t in traj_list2:\n",
    "    traj=pt.load(t, topfile)\n",
    "    rmsd0=pt.rmsd(traj,ref=rf0, mask=\"@CA,N,C,O\")\n",
    "    rmsd1=pt.rmsd(traj,ref=rf1, mask=\"@CA,N,C,O\")\n",
    "    rmsd2=pt.rmsd(traj,ref=rf2, mask=\"@CA,N,C,O\")\n",
    "    rmsd3=pt.rmsd(traj,ref=rf3, mask=\"@CA,N,C,O\")\n",
    "    rmsd4=pt.rmsd(traj,ref=rf4, mask=\"@CA,N,C,O\")\n",
    "    rmsd5=pt.rmsd(traj,ref=rf5, mask=\"@CA,N,C,O\")\n",
    "    \n",
    "    rmsd_closed_ipa=np.nanmin(np.array([rmsd0,rmsd1,rmsd2,rmsd3,rmsd4,rmsd5]), axis=0)\n",
    "    results_closed_ipa.append(rmsd_closed_ipa)\n",
    "    \n",
    "    rmsd_open_ipa=pt.rmsd(traj,ref=rfopen, mask=\"@CA,N,C,O\")\n",
    "    results_open_ipa.append(rmsd_open_ipa)"
   ]
  },
  {
   "cell_type": "code",
   "execution_count": 46,
   "metadata": {},
   "outputs": [],
   "source": [
    "Y_ipa=[]\n",
    "for i in range(0,len(results_open_ipa)):  \n",
    "    Z_ipa=[]\n",
    "    for j in range(0,len(results_open_ipa[i])):\n",
    "        a_ipa=np.array([results_closed_ipa[i][j],results_open_ipa[i][j]])\n",
    "        Z_ipa.append(a_ipa)\n",
    "    Z_ipa=np.array(Z_ipa)\n",
    "    Y_ipa.append(Z_ipa)"
   ]
  },
  {
   "cell_type": "code",
   "execution_count": 47,
   "metadata": {},
   "outputs": [
    {
     "data": {
      "application/vnd.jupyter.widget-view+json": {
       "model_id": "",
       "version_major": 2,
       "version_minor": 0
      },
      "text/plain": [
       "HBox(children=(FloatProgress(value=0.0, description='Obtaining file info', layout=Layout(flex='2'), max=20.0, …"
      ]
     },
     "metadata": {},
     "output_type": "display_data"
    },
    {
     "name": "stdout",
     "output_type": "stream",
     "text": [
      "21-04-20 15:44:43 pyemma.coordinates.clustering.regspace.RegularSpaceClustering[74] WARNING  Maximum number of cluster centers reached. Consider increasing max_centers or choose a larger minimum distance, dmin.\n",
      "21-04-20 15:44:43 pyemma.coordinates.clustering.regspace.RegularSpaceClustering[74] INFO     Presumably finished estimation. Message: Used data for centers: 5.00%\n"
     ]
    },
    {
     "name": "stderr",
     "output_type": "stream",
     "text": [
      "/home/el14718/Software/anaconda3_2019/lib/python3.7/site-packages/pyemma/coordinates/clustering/regspace.py:153: UserWarning: Maximum number of cluster centers reached. Consider increasing max_centers or choose a larger minimum distance, dmin.\n",
      "  warnings.warn(msg)\n"
     ]
    },
    {
     "data": {
      "application/vnd.jupyter.widget-view+json": {
       "model_id": "",
       "version_major": 2,
       "version_minor": 0
      },
      "text/plain": [
       "HBox(children=(FloatProgress(value=0.0, description='getting output of RegularSpaceClustering', layout=Layout(…"
      ]
     },
     "metadata": {},
     "output_type": "display_data"
    },
    {
     "data": {
      "application/vnd.jupyter.widget-view+json": {
       "model_id": "6432186a3c4640c18bca2a15f8400d80",
       "version_major": 2,
       "version_minor": 0
      },
      "text/plain": [
       "MolPXHBox(children=(NGLWidget(max_frame=461), Canvas(toolbar=Toolbar(toolitems=[('Home', 'Reset original view'…"
      ]
     },
     "metadata": {},
     "output_type": "display_data"
    }
   ],
   "source": [
    "mpx_wdg_box_ipa = molpx.visualize.FES(traj_list2, topfile, Y_ipa, nbins=200, n_sample= 500,\n",
    "                                  proj_labels=[r'RMSD to closed crystal structure ($\\AA$)',\n",
    "                                               r'RMSD to open crystal structure ($\\AA$)'])\n",
    "mpx_wdg_box_ipa.linked_ngl_wdgs[0].camera = 'orthographic'\n",
    "mpx_wdg_box_ipa"
   ]
  },
  {
   "cell_type": "code",
   "execution_count": 48,
   "metadata": {},
   "outputs": [],
   "source": [
    "mpx_wdg_box_ipa.linked_ngl_wdgs[0].remove_line()\n",
    "mpx_wdg_box_ipa.linked_ngl_wdgs[0].remove_licorice()\n",
    "mpx_wdg_box_ipa.linked_ngl_wdgs[0].remove_surface()"
   ]
  },
  {
   "cell_type": "code",
   "execution_count": 44,
   "metadata": {},
   "outputs": [],
   "source": [
    "mpx_wdg_box_ipa.linked_ngl_wdgs[0].add_surface(selection=\"all\", surfacetype=\"ms\",probeRadius=0.8 )"
   ]
  },
  {
   "cell_type": "code",
   "execution_count": 50,
   "metadata": {},
   "outputs": [],
   "source": [
    "mpx_wdg_box.linked_ngl_wdgs[0].add_line(selection=\"(not hydrogen) and (not backbone)\")"
   ]
  },
  {
   "cell_type": "code",
   "execution_count": 20,
   "metadata": {},
   "outputs": [
    {
     "data": {
      "application/vnd.jupyter.widget-view+json": {
       "model_id": "",
       "version_major": 2,
       "version_minor": 0
      },
      "text/plain": [
       "HBox(children=(FloatProgress(value=0.0, description='kmeans iterations', layout=Layout(flex='2'), max=1000.0, …"
      ]
     },
     "metadata": {},
     "output_type": "display_data"
    }
   ],
   "source": [
    "n_clusters = 4\n",
    "clustering_ipa = pyemma.coordinates.cluster_kmeans(Y_ipa,k=n_clusters, max_iter=1000, fixed_seed=True,\n",
    "                                               n_jobs=1, init_strategy='uniform')"
   ]
  },
  {
   "cell_type": "code",
   "execution_count": 21,
   "metadata": {},
   "outputs": [],
   "source": [
    "def plot_labels(ax=None):\n",
    "    #if ax is None:\n",
    "        #ax = gca()\n",
    "    for i in range(0,len(clustering_ipa.clustercenters)):\n",
    "        plt.text(clustering_ipa.clustercenters[i][0]+0.04, clustering_ipa.clustercenters[i][1]+0.04, \n",
    "                 i, fontsize=10, color='white')\n"
   ]
  },
  {
   "cell_type": "code",
   "execution_count": 22,
   "metadata": {},
   "outputs": [
    {
     "data": {
      "application/vnd.jupyter.widget-view+json": {
       "model_id": "f3b1ecdd561e4441b71ed1774fe8b671",
       "version_major": 2,
       "version_minor": 0
      },
      "text/plain": [
       "Canvas(toolbar=Toolbar(toolitems=[('Home', 'Reset original view', 'home', 'home'), ('Back', 'Back to previous …"
      ]
     },
     "metadata": {},
     "output_type": "display_data"
    }
   ],
   "source": [
    "pyemma.plots.plot_free_energy(np.vstack(Y_ipa)[:, 0], np.vstack(Y_ipa)[:, 1])\n",
    "cc_ipa_x = clustering_ipa.clustercenters[:, 0]\n",
    "cc_ipa_y = clustering_ipa.clustercenters[:, 1]\n",
    "plt.plot(cc_ipa_x, cc_ipa_y, linewidth=0, marker='o', markersize=5, color='white')\n",
    "plot_labels()"
   ]
  },
  {
   "cell_type": "code",
   "execution_count": 23,
   "metadata": {},
   "outputs": [
    {
     "data": {
      "text/plain": [
       "KmeansClustering(clustercenters=array([[3.58863, 3.15464],\n",
       "       [2.98035, 1.93679],\n",
       "       [2.12217, 2.95009],\n",
       "       [2.63718, 2.66528]], dtype=float32),\n",
       "         fixed_seed=42, init_strategy='uniform', keep_data=False,\n",
       "         max_iter=1000, metric='euclidean', n_clusters=4, n_jobs=1,\n",
       "         oom_strategy='memmap', skip=0, stride=1, tolerance=1e-05)"
      ]
     },
     "execution_count": 23,
     "metadata": {},
     "output_type": "execute_result"
    }
   ],
   "source": [
    "clustering_ipa"
   ]
  },
  {
   "cell_type": "code",
   "execution_count": 24,
   "metadata": {},
   "outputs": [
    {
     "data": {
      "application/vnd.jupyter.widget-view+json": {
       "model_id": "",
       "version_major": 2,
       "version_minor": 0
      },
      "text/plain": [
       "HBox(children=(FloatProgress(value=0.0, description='Obtaining file info', layout=Layout(flex='2'), max=20.0, …"
      ]
     },
     "metadata": {},
     "output_type": "display_data"
    },
    {
     "data": {
      "application/vnd.jupyter.widget-view+json": {
       "model_id": "",
       "version_major": 2,
       "version_minor": 0
      },
      "text/plain": [
       "HBox(children=(FloatProgress(value=0.0, description='getting output of KmeansClustering', layout=Layout(flex='…"
      ]
     },
     "metadata": {},
     "output_type": "display_data"
    }
   ],
   "source": [
    "data_sample_ipa, geoms_ipa = molpx.generate.sample(traj_list2, topfile, clustering_ipa, \n",
    "                                                   n_geom_samples=500, n_points=1000)"
   ]
  },
  {
   "cell_type": "code",
   "execution_count": 25,
   "metadata": {},
   "outputs": [],
   "source": [
    "for i in range(0,len(clustering_ipa.clustercenters)):\n",
    "    geoms_ipa[i].save('./rep_struct_ipa_1/{}.pdb'.format(i))"
   ]
  },
  {
   "cell_type": "code",
   "execution_count": 61,
   "metadata": {},
   "outputs": [
    {
     "data": {
      "application/vnd.jupyter.widget-view+json": {
       "model_id": "",
       "version_major": 2,
       "version_minor": 0
      },
      "text/plain": [
       "HBox(children=(FloatProgress(value=0.0, description='kmeans iterations', layout=Layout(flex='2'), max=1000.0, …"
      ]
     },
     "metadata": {},
     "output_type": "display_data"
    }
   ],
   "source": [
    "clkmeans = pyemma.coordinates.cluster_kmeans([iY[:,:2] for iY in Y_ipa], 4, max_iter=1000, n_jobs=1, init_strategy='uniform')"
   ]
  },
  {
   "cell_type": "code",
   "execution_count": 62,
   "metadata": {},
   "outputs": [
    {
     "data": {
      "text/plain": [
       "KmeansClustering(clustercenters=array([[2.63718, 2.66528],\n",
       "       [2.98035, 1.93679],\n",
       "       [3.58863, 3.15464],\n",
       "       [2.12217, 2.95008]], dtype=float32),\n",
       "         fixed_seed=1420792865, init_strategy='uniform', keep_data=False,\n",
       "         max_iter=1000, metric='euclidean', n_clusters=4, n_jobs=1,\n",
       "         oom_strategy='memmap', skip=0, stride=1, tolerance=1e-05)"
      ]
     },
     "execution_count": 62,
     "metadata": {},
     "output_type": "execute_result"
    }
   ],
   "source": [
    "clkmeans"
   ]
  },
  {
   "cell_type": "code",
   "execution_count": 63,
   "metadata": {},
   "outputs": [],
   "source": [
    "def plot_labels(ax=None):\n",
    "    #if ax is None:\n",
    "        #ax = gca()\n",
    "    for i in range(0,len(clkmeans.clustercenters)):\n",
    "        plt.text(clkmeans.clustercenters[i][0]+0.04, clkmeans.clustercenters[i][1]+0.04, \n",
    "                 i, fontsize=10, color='white')"
   ]
  },
  {
   "cell_type": "code",
   "execution_count": 64,
   "metadata": {},
   "outputs": [
    {
     "data": {
      "application/vnd.jupyter.widget-view+json": {
       "model_id": "7881203d7edc42af83039600e43e7579",
       "version_major": 2,
       "version_minor": 0
      },
      "text/plain": [
       "Canvas(toolbar=Toolbar(toolitems=[('Home', 'Reset original view', 'home', 'home'), ('Back', 'Back to previous …"
      ]
     },
     "metadata": {},
     "output_type": "display_data"
    }
   ],
   "source": [
    "pyemma.plots.plot_free_energy(np.vstack(Y_ipa)[:, 0], np.vstack(Y_ipa)[:, 1])\n",
    "cc_ipa_x = clkmeans.clustercenters[:, 0]\n",
    "cc_ipa_y = clkmeans.clustercenters[:, 1]\n",
    "plt.plot(cc_ipa_x, cc_ipa_y, linewidth=0, marker='o', markersize=5, color='white')\n",
    "plot_labels()"
   ]
  },
  {
   "cell_type": "code",
   "execution_count": 68,
   "metadata": {},
   "outputs": [
    {
     "data": {
      "application/vnd.jupyter.widget-view+json": {
       "model_id": "",
       "version_major": 2,
       "version_minor": 0
      },
      "text/plain": [
       "HBox(children=(FloatProgress(value=0.0, description='Obtaining file info', layout=Layout(flex='2'), max=20.0, …"
      ]
     },
     "metadata": {},
     "output_type": "display_data"
    }
   ],
   "source": [
    "data_sample, geoms = molpx.generate.sample(traj_list2, topfile, clkmeans,n_geom_samples=1000, n_points=10000)"
   ]
  },
  {
   "cell_type": "code",
   "execution_count": 69,
   "metadata": {},
   "outputs": [],
   "source": [
    "for i in range(0,len(clkmeans.clustercenters)):\n",
    "    geoms[i].save('./rep_struct_ipa_1/{}.pdb'.format(i))"
   ]
  },
  {
   "cell_type": "code",
   "execution_count": null,
   "metadata": {},
   "outputs": [],
   "source": []
  },
  {
   "cell_type": "code",
   "execution_count": null,
   "metadata": {},
   "outputs": [],
   "source": []
  },
  {
   "cell_type": "code",
   "execution_count": null,
   "metadata": {},
   "outputs": [],
   "source": []
  },
  {
   "cell_type": "code",
   "execution_count": null,
   "metadata": {},
   "outputs": [],
   "source": [
    "rmsd_open=np.concatenate(results_open, axis=0)\n",
    "rmsd_closed=np.concatenate(results_closed, axis=0)"
   ]
  },
  {
   "cell_type": "code",
   "execution_count": null,
   "metadata": {},
   "outputs": [],
   "source": [
    "plt.plot(rmsd_closed, rmsd_open, marker=\".\", ms=0.5, ls='None') "
   ]
  },
  {
   "cell_type": "code",
   "execution_count": null,
   "metadata": {},
   "outputs": [],
   "source": [
    "pyemma.plots.plot_free_energy(rmsd_closed, rmsd_open, nbins=200)"
   ]
  },
  {
   "cell_type": "code",
   "execution_count": null,
   "metadata": {},
   "outputs": [],
   "source": [
    "n_clusters = 8\n",
    "clustering = pyemma.coordinates.cluster_kmeans(Y,k=n_clusters, max_iter=1000, n_jobs=1)"
   ]
  },
  {
   "cell_type": "code",
   "execution_count": null,
   "metadata": {},
   "outputs": [],
   "source": [
    "clustering.clustercenters"
   ]
  },
  {
   "cell_type": "code",
   "execution_count": null,
   "metadata": {},
   "outputs": [],
   "source": [
    "def plot_labels(ax=None):\n",
    "    for i in range(0,len(clustering.clustercenters)):\n",
    "        plt.text(clustering.clustercenters[i][0]+0.06, clustering.clustercenters[i][1]+0.07, \n",
    "                 i, fontsize=10, color='black')"
   ]
  },
  {
   "cell_type": "code",
   "execution_count": null,
   "metadata": {},
   "outputs": [],
   "source": [
    "pyemma.plots.plot_free_energy(np.vstack(Y)[:, 0], np.vstack(Y)[:, 1], nbins=200)\n",
    "cc_x = clustering.clustercenters[:, 0]\n",
    "cc_y = clustering.clustercenters[:, 1]\n",
    "plt.plot(cc_x, cc_y, linewidth=0, marker='o', markersize=5, color='white')\n",
    "plot_labels()"
   ]
  },
  {
   "cell_type": "code",
   "execution_count": null,
   "metadata": {},
   "outputs": [],
   "source": [
    "import molpx\n",
    "import mdtraj as md"
   ]
  },
  {
   "cell_type": "code",
   "execution_count": null,
   "metadata": {},
   "outputs": [],
   "source": [
    "indir = './Trajectories_all'\n",
    "topfile =  indir+'/open10_dry.parm7'\n",
    "from glob import glob\n",
    "traj_list = sorted(glob(indir+'/*.nc'))\n",
    "traj_list"
   ]
  },
  {
   "cell_type": "code",
   "execution_count": null,
   "metadata": {},
   "outputs": [],
   "source": [
    "mpx_wdg_box = molpx.visualize.FES(traj_list,\n",
    "                                 #MD_trajfiles,\n",
    "                                 topfile,\n",
    "                                 Y,\n",
    "                                 #Y,\n",
    "                                 nbins=50,\n",
    "                                 #proj_idxs=[1,2],\n",
    "                                 #proj_labels='RMSD',\n",
    "                                 #n_overlays=5,\n",
    "                                )\n",
    "mpx_wdg_box"
   ]
  },
  {
   "cell_type": "code",
   "execution_count": null,
   "metadata": {},
   "outputs": [],
   "source": []
  }
 ],
 "metadata": {
  "kernelspec": {
   "display_name": "Python 3",
   "language": "python",
   "name": "python3"
  },
  "language_info": {
   "codemirror_mode": {
    "name": "ipython",
    "version": 3
   },
   "file_extension": ".py",
   "mimetype": "text/x-python",
   "name": "python",
   "nbconvert_exporter": "python",
   "pygments_lexer": "ipython3",
   "version": "3.7.6"
  },
  "toc": {
   "base_numbering": 1,
   "nav_menu": {},
   "number_sections": true,
   "sideBar": true,
   "skip_h1_title": false,
   "title_cell": "Table of Contents",
   "title_sidebar": "Contents",
   "toc_cell": false,
   "toc_position": {},
   "toc_section_display": true,
   "toc_window_display": false
  }
 },
 "nbformat": 4,
 "nbformat_minor": 2
}
