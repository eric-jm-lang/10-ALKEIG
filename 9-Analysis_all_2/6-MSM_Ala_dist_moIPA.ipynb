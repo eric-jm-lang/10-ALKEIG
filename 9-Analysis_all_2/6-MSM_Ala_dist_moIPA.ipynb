{
 "cells": [
  {
   "cell_type": "code",
   "execution_count": 1,
   "metadata": {},
   "outputs": [],
   "source": [
    "%matplotlib inline\n",
    "import matplotlib as mpl\n",
    "mpl.rc(\"font\", family=\"Arial\")\n",
    "import matplotlib.pyplot as plt\n",
    "\n",
    "import numpy as np\n",
    "import pyemma\n",
    "import pytraj as pt\n",
    "import mdtraj as md\n",
    "\n",
    "from pyemma.util.contexts import settings\n",
    "from glob import glob"
   ]
  },
  {
   "cell_type": "code",
   "execution_count": 3,
   "metadata": {},
   "outputs": [],
   "source": [
    "refclosed=md.load(['./parm_rst/closed6_dry_rot0.rst7', './parm_rst/closed6_dry_rot1.rst7',\n",
    "                  './parm_rst/closed6_dry_rot2.rst7', './parm_rst/closed6_dry_rot3.rst7', \n",
    "                  './parm_rst/closed6_dry_rot4.rst7', './parm_rst/closed6_dry_rot5.rst7'], \n",
    "                  top='./parm_rst/closed6_dry_rot0.parm7')\n",
    "\n",
    "refopen=md.load('./parm_rst/open10_dry.rst7', top='./parm_rst/open10_dry.parm7')"
   ]
  },
  {
   "cell_type": "code",
   "execution_count": 2,
   "metadata": {},
   "outputs": [
    {
     "data": {
      "text/plain": [
       "['./traj_dry_noeq_without_ipa/closed_dry_1.nc',\n",
       " './traj_dry_noeq_without_ipa/closed_dry_10.nc',\n",
       " './traj_dry_noeq_without_ipa/closed_dry_2.nc',\n",
       " './traj_dry_noeq_without_ipa/closed_dry_3.nc',\n",
       " './traj_dry_noeq_without_ipa/closed_dry_4.nc',\n",
       " './traj_dry_noeq_without_ipa/closed_dry_5.nc',\n",
       " './traj_dry_noeq_without_ipa/closed_dry_6.nc',\n",
       " './traj_dry_noeq_without_ipa/closed_dry_7.nc',\n",
       " './traj_dry_noeq_without_ipa/closed_dry_8.nc',\n",
       " './traj_dry_noeq_without_ipa/closed_dry_9.nc',\n",
       " './traj_dry_noeq_without_ipa/open_dry_1.nc',\n",
       " './traj_dry_noeq_without_ipa/open_dry_10.nc',\n",
       " './traj_dry_noeq_without_ipa/open_dry_2.nc',\n",
       " './traj_dry_noeq_without_ipa/open_dry_3.nc',\n",
       " './traj_dry_noeq_without_ipa/open_dry_4.nc',\n",
       " './traj_dry_noeq_without_ipa/open_dry_5.nc',\n",
       " './traj_dry_noeq_without_ipa/open_dry_6.nc',\n",
       " './traj_dry_noeq_without_ipa/open_dry_7.nc',\n",
       " './traj_dry_noeq_without_ipa/open_dry_8.nc',\n",
       " './traj_dry_noeq_without_ipa/open_dry_9.nc']"
      ]
     },
     "execution_count": 2,
     "metadata": {},
     "output_type": "execute_result"
    }
   ],
   "source": [
    "indir = './traj_dry_noeq_without_ipa'\n",
    "topfile = './parm_rst/open10_dry.parm7'\n",
    "from glob import glob\n",
    "traj_list = sorted(glob(indir+'/*.nc'))\n",
    "traj_list"
   ]
  },
  {
   "cell_type": "code",
   "execution_count": 4,
   "metadata": {},
   "outputs": [
    {
     "data": {
      "text/plain": [
       "\"[atom.index for atom in topology.atoms if ((atom.residue.name == 'ALA') and (atom.name == 'CA'))]\""
      ]
     },
     "execution_count": 4,
     "metadata": {},
     "output_type": "execute_result"
    }
   ],
   "source": [
    "top=refopen.topology\n",
    "top.select_expression(\"resname ALA and name CA\")"
   ]
  },
  {
   "cell_type": "code",
   "execution_count": 8,
   "metadata": {},
   "outputs": [],
   "source": [
    "Ala_CA=[atom.index for atom in top.atoms if ((atom.residue.name == 'ALA') and (atom.name == 'CA'))]"
   ]
  },
  {
   "cell_type": "code",
   "execution_count": 9,
   "metadata": {},
   "outputs": [
    {
     "name": "stdout",
     "output_type": "stream",
     "text": [
      "26-04-20 16:30:57 pyemma.coordinates.data.featurization.featurizer.MDFeaturizer[0] WARNING  The 1D arrays input for add_distances() have been sorted, and index duplicates have been eliminated.\n",
      "Check the output of describe() to see the actual order of the features\n"
     ]
    },
    {
     "data": {
      "application/vnd.jupyter.widget-view+json": {
       "model_id": "",
       "version_major": 2,
       "version_minor": 0
      },
      "text/plain": [
       "HBox(children=(FloatProgress(value=0.0, description='Obtaining file info', layout=Layout(flex='2'), max=20.0, …"
      ]
     },
     "metadata": {},
     "output_type": "display_data"
    },
    {
     "data": {
      "application/vnd.jupyter.widget-view+json": {
       "model_id": "",
       "version_major": 2,
       "version_minor": 0
      },
      "text/plain": [
       "HBox(children=(FloatProgress(value=0.0, description='getting output of FeatureReader', layout=Layout(flex='2')…"
      ]
     },
     "metadata": {},
     "output_type": "display_data"
    }
   ],
   "source": [
    "distca_feat = pyemma.coordinates.featurizer(topfile)\n",
    "distca_feat.add_distances(Ala_CA,periodic=False)\n",
    "distca_data = pyemma.coordinates.load(traj_list, features=distca_feat, stride=10)\n",
    "labels = ['backbone\\ndist CA']\n"
   ]
  },
  {
   "cell_type": "code",
   "execution_count": 10,
   "metadata": {},
   "outputs": [
    {
     "data": {
      "text/plain": [
       "['DIST: ALA 6 CA 73 - ALA 13 CA 187',\n",
       " 'DIST: ALA 6 CA 73 - ALA 20 CA 300',\n",
       " 'DIST: ALA 6 CA 73 - ALA 27 CA 409',\n",
       " 'DIST: ALA 6 CA 73 - ALA 38 CA 541',\n",
       " 'DIST: ALA 6 CA 73 - ALA 45 CA 655',\n",
       " 'DIST: ALA 6 CA 73 - ALA 52 CA 768',\n",
       " 'DIST: ALA 6 CA 73 - ALA 59 CA 877',\n",
       " 'DIST: ALA 6 CA 73 - ALA 70 CA 1009',\n",
       " 'DIST: ALA 6 CA 73 - ALA 77 CA 1123',\n",
       " 'DIST: ALA 6 CA 73 - ALA 84 CA 1236',\n",
       " 'DIST: ALA 6 CA 73 - ALA 91 CA 1345',\n",
       " 'DIST: ALA 6 CA 73 - ALA 102 CA 1477',\n",
       " 'DIST: ALA 6 CA 73 - ALA 109 CA 1591',\n",
       " 'DIST: ALA 6 CA 73 - ALA 116 CA 1704',\n",
       " 'DIST: ALA 6 CA 73 - ALA 123 CA 1813',\n",
       " 'DIST: ALA 6 CA 73 - ALA 134 CA 1945',\n",
       " 'DIST: ALA 6 CA 73 - ALA 141 CA 2059',\n",
       " 'DIST: ALA 6 CA 73 - ALA 148 CA 2172',\n",
       " 'DIST: ALA 6 CA 73 - ALA 155 CA 2281',\n",
       " 'DIST: ALA 6 CA 73 - ALA 166 CA 2413',\n",
       " 'DIST: ALA 6 CA 73 - ALA 173 CA 2527',\n",
       " 'DIST: ALA 6 CA 73 - ALA 180 CA 2640',\n",
       " 'DIST: ALA 6 CA 73 - ALA 187 CA 2749',\n",
       " 'DIST: ALA 13 CA 187 - ALA 20 CA 300',\n",
       " 'DIST: ALA 13 CA 187 - ALA 27 CA 409',\n",
       " 'DIST: ALA 13 CA 187 - ALA 38 CA 541',\n",
       " 'DIST: ALA 13 CA 187 - ALA 45 CA 655',\n",
       " 'DIST: ALA 13 CA 187 - ALA 52 CA 768',\n",
       " 'DIST: ALA 13 CA 187 - ALA 59 CA 877',\n",
       " 'DIST: ALA 13 CA 187 - ALA 70 CA 1009',\n",
       " 'DIST: ALA 13 CA 187 - ALA 77 CA 1123',\n",
       " 'DIST: ALA 13 CA 187 - ALA 84 CA 1236',\n",
       " 'DIST: ALA 13 CA 187 - ALA 91 CA 1345',\n",
       " 'DIST: ALA 13 CA 187 - ALA 102 CA 1477',\n",
       " 'DIST: ALA 13 CA 187 - ALA 109 CA 1591',\n",
       " 'DIST: ALA 13 CA 187 - ALA 116 CA 1704',\n",
       " 'DIST: ALA 13 CA 187 - ALA 123 CA 1813',\n",
       " 'DIST: ALA 13 CA 187 - ALA 134 CA 1945',\n",
       " 'DIST: ALA 13 CA 187 - ALA 141 CA 2059',\n",
       " 'DIST: ALA 13 CA 187 - ALA 148 CA 2172',\n",
       " 'DIST: ALA 13 CA 187 - ALA 155 CA 2281',\n",
       " 'DIST: ALA 13 CA 187 - ALA 166 CA 2413',\n",
       " 'DIST: ALA 13 CA 187 - ALA 173 CA 2527',\n",
       " 'DIST: ALA 13 CA 187 - ALA 180 CA 2640',\n",
       " 'DIST: ALA 13 CA 187 - ALA 187 CA 2749',\n",
       " 'DIST: ALA 20 CA 300 - ALA 27 CA 409',\n",
       " 'DIST: ALA 20 CA 300 - ALA 38 CA 541',\n",
       " 'DIST: ALA 20 CA 300 - ALA 45 CA 655',\n",
       " 'DIST: ALA 20 CA 300 - ALA 52 CA 768',\n",
       " 'DIST: ALA 20 CA 300 - ALA 59 CA 877',\n",
       " 'DIST: ALA 20 CA 300 - ALA 70 CA 1009',\n",
       " 'DIST: ALA 20 CA 300 - ALA 77 CA 1123',\n",
       " 'DIST: ALA 20 CA 300 - ALA 84 CA 1236',\n",
       " 'DIST: ALA 20 CA 300 - ALA 91 CA 1345',\n",
       " 'DIST: ALA 20 CA 300 - ALA 102 CA 1477',\n",
       " 'DIST: ALA 20 CA 300 - ALA 109 CA 1591',\n",
       " 'DIST: ALA 20 CA 300 - ALA 116 CA 1704',\n",
       " 'DIST: ALA 20 CA 300 - ALA 123 CA 1813',\n",
       " 'DIST: ALA 20 CA 300 - ALA 134 CA 1945',\n",
       " 'DIST: ALA 20 CA 300 - ALA 141 CA 2059',\n",
       " 'DIST: ALA 20 CA 300 - ALA 148 CA 2172',\n",
       " 'DIST: ALA 20 CA 300 - ALA 155 CA 2281',\n",
       " 'DIST: ALA 20 CA 300 - ALA 166 CA 2413',\n",
       " 'DIST: ALA 20 CA 300 - ALA 173 CA 2527',\n",
       " 'DIST: ALA 20 CA 300 - ALA 180 CA 2640',\n",
       " 'DIST: ALA 20 CA 300 - ALA 187 CA 2749',\n",
       " 'DIST: ALA 27 CA 409 - ALA 38 CA 541',\n",
       " 'DIST: ALA 27 CA 409 - ALA 45 CA 655',\n",
       " 'DIST: ALA 27 CA 409 - ALA 52 CA 768',\n",
       " 'DIST: ALA 27 CA 409 - ALA 59 CA 877',\n",
       " 'DIST: ALA 27 CA 409 - ALA 70 CA 1009',\n",
       " 'DIST: ALA 27 CA 409 - ALA 77 CA 1123',\n",
       " 'DIST: ALA 27 CA 409 - ALA 84 CA 1236',\n",
       " 'DIST: ALA 27 CA 409 - ALA 91 CA 1345',\n",
       " 'DIST: ALA 27 CA 409 - ALA 102 CA 1477',\n",
       " 'DIST: ALA 27 CA 409 - ALA 109 CA 1591',\n",
       " 'DIST: ALA 27 CA 409 - ALA 116 CA 1704',\n",
       " 'DIST: ALA 27 CA 409 - ALA 123 CA 1813',\n",
       " 'DIST: ALA 27 CA 409 - ALA 134 CA 1945',\n",
       " 'DIST: ALA 27 CA 409 - ALA 141 CA 2059',\n",
       " 'DIST: ALA 27 CA 409 - ALA 148 CA 2172',\n",
       " 'DIST: ALA 27 CA 409 - ALA 155 CA 2281',\n",
       " 'DIST: ALA 27 CA 409 - ALA 166 CA 2413',\n",
       " 'DIST: ALA 27 CA 409 - ALA 173 CA 2527',\n",
       " 'DIST: ALA 27 CA 409 - ALA 180 CA 2640',\n",
       " 'DIST: ALA 27 CA 409 - ALA 187 CA 2749',\n",
       " 'DIST: ALA 38 CA 541 - ALA 45 CA 655',\n",
       " 'DIST: ALA 38 CA 541 - ALA 52 CA 768',\n",
       " 'DIST: ALA 38 CA 541 - ALA 59 CA 877',\n",
       " 'DIST: ALA 38 CA 541 - ALA 70 CA 1009',\n",
       " 'DIST: ALA 38 CA 541 - ALA 77 CA 1123',\n",
       " 'DIST: ALA 38 CA 541 - ALA 84 CA 1236',\n",
       " 'DIST: ALA 38 CA 541 - ALA 91 CA 1345',\n",
       " 'DIST: ALA 38 CA 541 - ALA 102 CA 1477',\n",
       " 'DIST: ALA 38 CA 541 - ALA 109 CA 1591',\n",
       " 'DIST: ALA 38 CA 541 - ALA 116 CA 1704',\n",
       " 'DIST: ALA 38 CA 541 - ALA 123 CA 1813',\n",
       " 'DIST: ALA 38 CA 541 - ALA 134 CA 1945',\n",
       " 'DIST: ALA 38 CA 541 - ALA 141 CA 2059',\n",
       " 'DIST: ALA 38 CA 541 - ALA 148 CA 2172',\n",
       " 'DIST: ALA 38 CA 541 - ALA 155 CA 2281',\n",
       " 'DIST: ALA 38 CA 541 - ALA 166 CA 2413',\n",
       " 'DIST: ALA 38 CA 541 - ALA 173 CA 2527',\n",
       " 'DIST: ALA 38 CA 541 - ALA 180 CA 2640',\n",
       " 'DIST: ALA 38 CA 541 - ALA 187 CA 2749',\n",
       " 'DIST: ALA 45 CA 655 - ALA 52 CA 768',\n",
       " 'DIST: ALA 45 CA 655 - ALA 59 CA 877',\n",
       " 'DIST: ALA 45 CA 655 - ALA 70 CA 1009',\n",
       " 'DIST: ALA 45 CA 655 - ALA 77 CA 1123',\n",
       " 'DIST: ALA 45 CA 655 - ALA 84 CA 1236',\n",
       " 'DIST: ALA 45 CA 655 - ALA 91 CA 1345',\n",
       " 'DIST: ALA 45 CA 655 - ALA 102 CA 1477',\n",
       " 'DIST: ALA 45 CA 655 - ALA 109 CA 1591',\n",
       " 'DIST: ALA 45 CA 655 - ALA 116 CA 1704',\n",
       " 'DIST: ALA 45 CA 655 - ALA 123 CA 1813',\n",
       " 'DIST: ALA 45 CA 655 - ALA 134 CA 1945',\n",
       " 'DIST: ALA 45 CA 655 - ALA 141 CA 2059',\n",
       " 'DIST: ALA 45 CA 655 - ALA 148 CA 2172',\n",
       " 'DIST: ALA 45 CA 655 - ALA 155 CA 2281',\n",
       " 'DIST: ALA 45 CA 655 - ALA 166 CA 2413',\n",
       " 'DIST: ALA 45 CA 655 - ALA 173 CA 2527',\n",
       " 'DIST: ALA 45 CA 655 - ALA 180 CA 2640',\n",
       " 'DIST: ALA 45 CA 655 - ALA 187 CA 2749',\n",
       " 'DIST: ALA 52 CA 768 - ALA 59 CA 877',\n",
       " 'DIST: ALA 52 CA 768 - ALA 70 CA 1009',\n",
       " 'DIST: ALA 52 CA 768 - ALA 77 CA 1123',\n",
       " 'DIST: ALA 52 CA 768 - ALA 84 CA 1236',\n",
       " 'DIST: ALA 52 CA 768 - ALA 91 CA 1345',\n",
       " 'DIST: ALA 52 CA 768 - ALA 102 CA 1477',\n",
       " 'DIST: ALA 52 CA 768 - ALA 109 CA 1591',\n",
       " 'DIST: ALA 52 CA 768 - ALA 116 CA 1704',\n",
       " 'DIST: ALA 52 CA 768 - ALA 123 CA 1813',\n",
       " 'DIST: ALA 52 CA 768 - ALA 134 CA 1945',\n",
       " 'DIST: ALA 52 CA 768 - ALA 141 CA 2059',\n",
       " 'DIST: ALA 52 CA 768 - ALA 148 CA 2172',\n",
       " 'DIST: ALA 52 CA 768 - ALA 155 CA 2281',\n",
       " 'DIST: ALA 52 CA 768 - ALA 166 CA 2413',\n",
       " 'DIST: ALA 52 CA 768 - ALA 173 CA 2527',\n",
       " 'DIST: ALA 52 CA 768 - ALA 180 CA 2640',\n",
       " 'DIST: ALA 52 CA 768 - ALA 187 CA 2749',\n",
       " 'DIST: ALA 59 CA 877 - ALA 70 CA 1009',\n",
       " 'DIST: ALA 59 CA 877 - ALA 77 CA 1123',\n",
       " 'DIST: ALA 59 CA 877 - ALA 84 CA 1236',\n",
       " 'DIST: ALA 59 CA 877 - ALA 91 CA 1345',\n",
       " 'DIST: ALA 59 CA 877 - ALA 102 CA 1477',\n",
       " 'DIST: ALA 59 CA 877 - ALA 109 CA 1591',\n",
       " 'DIST: ALA 59 CA 877 - ALA 116 CA 1704',\n",
       " 'DIST: ALA 59 CA 877 - ALA 123 CA 1813',\n",
       " 'DIST: ALA 59 CA 877 - ALA 134 CA 1945',\n",
       " 'DIST: ALA 59 CA 877 - ALA 141 CA 2059',\n",
       " 'DIST: ALA 59 CA 877 - ALA 148 CA 2172',\n",
       " 'DIST: ALA 59 CA 877 - ALA 155 CA 2281',\n",
       " 'DIST: ALA 59 CA 877 - ALA 166 CA 2413',\n",
       " 'DIST: ALA 59 CA 877 - ALA 173 CA 2527',\n",
       " 'DIST: ALA 59 CA 877 - ALA 180 CA 2640',\n",
       " 'DIST: ALA 59 CA 877 - ALA 187 CA 2749',\n",
       " 'DIST: ALA 70 CA 1009 - ALA 77 CA 1123',\n",
       " 'DIST: ALA 70 CA 1009 - ALA 84 CA 1236',\n",
       " 'DIST: ALA 70 CA 1009 - ALA 91 CA 1345',\n",
       " 'DIST: ALA 70 CA 1009 - ALA 102 CA 1477',\n",
       " 'DIST: ALA 70 CA 1009 - ALA 109 CA 1591',\n",
       " 'DIST: ALA 70 CA 1009 - ALA 116 CA 1704',\n",
       " 'DIST: ALA 70 CA 1009 - ALA 123 CA 1813',\n",
       " 'DIST: ALA 70 CA 1009 - ALA 134 CA 1945',\n",
       " 'DIST: ALA 70 CA 1009 - ALA 141 CA 2059',\n",
       " 'DIST: ALA 70 CA 1009 - ALA 148 CA 2172',\n",
       " 'DIST: ALA 70 CA 1009 - ALA 155 CA 2281',\n",
       " 'DIST: ALA 70 CA 1009 - ALA 166 CA 2413',\n",
       " 'DIST: ALA 70 CA 1009 - ALA 173 CA 2527',\n",
       " 'DIST: ALA 70 CA 1009 - ALA 180 CA 2640',\n",
       " 'DIST: ALA 70 CA 1009 - ALA 187 CA 2749',\n",
       " 'DIST: ALA 77 CA 1123 - ALA 84 CA 1236',\n",
       " 'DIST: ALA 77 CA 1123 - ALA 91 CA 1345',\n",
       " 'DIST: ALA 77 CA 1123 - ALA 102 CA 1477',\n",
       " 'DIST: ALA 77 CA 1123 - ALA 109 CA 1591',\n",
       " 'DIST: ALA 77 CA 1123 - ALA 116 CA 1704',\n",
       " 'DIST: ALA 77 CA 1123 - ALA 123 CA 1813',\n",
       " 'DIST: ALA 77 CA 1123 - ALA 134 CA 1945',\n",
       " 'DIST: ALA 77 CA 1123 - ALA 141 CA 2059',\n",
       " 'DIST: ALA 77 CA 1123 - ALA 148 CA 2172',\n",
       " 'DIST: ALA 77 CA 1123 - ALA 155 CA 2281',\n",
       " 'DIST: ALA 77 CA 1123 - ALA 166 CA 2413',\n",
       " 'DIST: ALA 77 CA 1123 - ALA 173 CA 2527',\n",
       " 'DIST: ALA 77 CA 1123 - ALA 180 CA 2640',\n",
       " 'DIST: ALA 77 CA 1123 - ALA 187 CA 2749',\n",
       " 'DIST: ALA 84 CA 1236 - ALA 91 CA 1345',\n",
       " 'DIST: ALA 84 CA 1236 - ALA 102 CA 1477',\n",
       " 'DIST: ALA 84 CA 1236 - ALA 109 CA 1591',\n",
       " 'DIST: ALA 84 CA 1236 - ALA 116 CA 1704',\n",
       " 'DIST: ALA 84 CA 1236 - ALA 123 CA 1813',\n",
       " 'DIST: ALA 84 CA 1236 - ALA 134 CA 1945',\n",
       " 'DIST: ALA 84 CA 1236 - ALA 141 CA 2059',\n",
       " 'DIST: ALA 84 CA 1236 - ALA 148 CA 2172',\n",
       " 'DIST: ALA 84 CA 1236 - ALA 155 CA 2281',\n",
       " 'DIST: ALA 84 CA 1236 - ALA 166 CA 2413',\n",
       " 'DIST: ALA 84 CA 1236 - ALA 173 CA 2527',\n",
       " 'DIST: ALA 84 CA 1236 - ALA 180 CA 2640',\n",
       " 'DIST: ALA 84 CA 1236 - ALA 187 CA 2749',\n",
       " 'DIST: ALA 91 CA 1345 - ALA 102 CA 1477',\n",
       " 'DIST: ALA 91 CA 1345 - ALA 109 CA 1591',\n",
       " 'DIST: ALA 91 CA 1345 - ALA 116 CA 1704',\n",
       " 'DIST: ALA 91 CA 1345 - ALA 123 CA 1813',\n",
       " 'DIST: ALA 91 CA 1345 - ALA 134 CA 1945',\n",
       " 'DIST: ALA 91 CA 1345 - ALA 141 CA 2059',\n",
       " 'DIST: ALA 91 CA 1345 - ALA 148 CA 2172',\n",
       " 'DIST: ALA 91 CA 1345 - ALA 155 CA 2281',\n",
       " 'DIST: ALA 91 CA 1345 - ALA 166 CA 2413',\n",
       " 'DIST: ALA 91 CA 1345 - ALA 173 CA 2527',\n",
       " 'DIST: ALA 91 CA 1345 - ALA 180 CA 2640',\n",
       " 'DIST: ALA 91 CA 1345 - ALA 187 CA 2749',\n",
       " 'DIST: ALA 102 CA 1477 - ALA 109 CA 1591',\n",
       " 'DIST: ALA 102 CA 1477 - ALA 116 CA 1704',\n",
       " 'DIST: ALA 102 CA 1477 - ALA 123 CA 1813',\n",
       " 'DIST: ALA 102 CA 1477 - ALA 134 CA 1945',\n",
       " 'DIST: ALA 102 CA 1477 - ALA 141 CA 2059',\n",
       " 'DIST: ALA 102 CA 1477 - ALA 148 CA 2172',\n",
       " 'DIST: ALA 102 CA 1477 - ALA 155 CA 2281',\n",
       " 'DIST: ALA 102 CA 1477 - ALA 166 CA 2413',\n",
       " 'DIST: ALA 102 CA 1477 - ALA 173 CA 2527',\n",
       " 'DIST: ALA 102 CA 1477 - ALA 180 CA 2640',\n",
       " 'DIST: ALA 102 CA 1477 - ALA 187 CA 2749',\n",
       " 'DIST: ALA 109 CA 1591 - ALA 116 CA 1704',\n",
       " 'DIST: ALA 109 CA 1591 - ALA 123 CA 1813',\n",
       " 'DIST: ALA 109 CA 1591 - ALA 134 CA 1945',\n",
       " 'DIST: ALA 109 CA 1591 - ALA 141 CA 2059',\n",
       " 'DIST: ALA 109 CA 1591 - ALA 148 CA 2172',\n",
       " 'DIST: ALA 109 CA 1591 - ALA 155 CA 2281',\n",
       " 'DIST: ALA 109 CA 1591 - ALA 166 CA 2413',\n",
       " 'DIST: ALA 109 CA 1591 - ALA 173 CA 2527',\n",
       " 'DIST: ALA 109 CA 1591 - ALA 180 CA 2640',\n",
       " 'DIST: ALA 109 CA 1591 - ALA 187 CA 2749',\n",
       " 'DIST: ALA 116 CA 1704 - ALA 123 CA 1813',\n",
       " 'DIST: ALA 116 CA 1704 - ALA 134 CA 1945',\n",
       " 'DIST: ALA 116 CA 1704 - ALA 141 CA 2059',\n",
       " 'DIST: ALA 116 CA 1704 - ALA 148 CA 2172',\n",
       " 'DIST: ALA 116 CA 1704 - ALA 155 CA 2281',\n",
       " 'DIST: ALA 116 CA 1704 - ALA 166 CA 2413',\n",
       " 'DIST: ALA 116 CA 1704 - ALA 173 CA 2527',\n",
       " 'DIST: ALA 116 CA 1704 - ALA 180 CA 2640',\n",
       " 'DIST: ALA 116 CA 1704 - ALA 187 CA 2749',\n",
       " 'DIST: ALA 123 CA 1813 - ALA 134 CA 1945',\n",
       " 'DIST: ALA 123 CA 1813 - ALA 141 CA 2059',\n",
       " 'DIST: ALA 123 CA 1813 - ALA 148 CA 2172',\n",
       " 'DIST: ALA 123 CA 1813 - ALA 155 CA 2281',\n",
       " 'DIST: ALA 123 CA 1813 - ALA 166 CA 2413',\n",
       " 'DIST: ALA 123 CA 1813 - ALA 173 CA 2527',\n",
       " 'DIST: ALA 123 CA 1813 - ALA 180 CA 2640',\n",
       " 'DIST: ALA 123 CA 1813 - ALA 187 CA 2749',\n",
       " 'DIST: ALA 134 CA 1945 - ALA 141 CA 2059',\n",
       " 'DIST: ALA 134 CA 1945 - ALA 148 CA 2172',\n",
       " 'DIST: ALA 134 CA 1945 - ALA 155 CA 2281',\n",
       " 'DIST: ALA 134 CA 1945 - ALA 166 CA 2413',\n",
       " 'DIST: ALA 134 CA 1945 - ALA 173 CA 2527',\n",
       " 'DIST: ALA 134 CA 1945 - ALA 180 CA 2640',\n",
       " 'DIST: ALA 134 CA 1945 - ALA 187 CA 2749',\n",
       " 'DIST: ALA 141 CA 2059 - ALA 148 CA 2172',\n",
       " 'DIST: ALA 141 CA 2059 - ALA 155 CA 2281',\n",
       " 'DIST: ALA 141 CA 2059 - ALA 166 CA 2413',\n",
       " 'DIST: ALA 141 CA 2059 - ALA 173 CA 2527',\n",
       " 'DIST: ALA 141 CA 2059 - ALA 180 CA 2640',\n",
       " 'DIST: ALA 141 CA 2059 - ALA 187 CA 2749',\n",
       " 'DIST: ALA 148 CA 2172 - ALA 155 CA 2281',\n",
       " 'DIST: ALA 148 CA 2172 - ALA 166 CA 2413',\n",
       " 'DIST: ALA 148 CA 2172 - ALA 173 CA 2527',\n",
       " 'DIST: ALA 148 CA 2172 - ALA 180 CA 2640',\n",
       " 'DIST: ALA 148 CA 2172 - ALA 187 CA 2749',\n",
       " 'DIST: ALA 155 CA 2281 - ALA 166 CA 2413',\n",
       " 'DIST: ALA 155 CA 2281 - ALA 173 CA 2527',\n",
       " 'DIST: ALA 155 CA 2281 - ALA 180 CA 2640',\n",
       " 'DIST: ALA 155 CA 2281 - ALA 187 CA 2749',\n",
       " 'DIST: ALA 166 CA 2413 - ALA 173 CA 2527',\n",
       " 'DIST: ALA 166 CA 2413 - ALA 180 CA 2640',\n",
       " 'DIST: ALA 166 CA 2413 - ALA 187 CA 2749',\n",
       " 'DIST: ALA 173 CA 2527 - ALA 180 CA 2640',\n",
       " 'DIST: ALA 173 CA 2527 - ALA 187 CA 2749',\n",
       " 'DIST: ALA 180 CA 2640 - ALA 187 CA 2749']"
      ]
     },
     "execution_count": 10,
     "metadata": {},
     "output_type": "execute_result"
    }
   ],
   "source": [
    "distca_feat.describe()"
   ]
  },
  {
   "cell_type": "code",
   "execution_count": 12,
   "metadata": {},
   "outputs": [
    {
     "data": {
      "text/plain": [
       "276"
      ]
     },
     "execution_count": 12,
     "metadata": {},
     "output_type": "execute_result"
    }
   ],
   "source": [
    "distca_feat.dimension()"
   ]
  },
  {
   "cell_type": "code",
   "execution_count": 15,
   "metadata": {},
   "outputs": [],
   "source": [
    "def score_cv(data, dim, lag, number_of_splits=5, validation_fraction=0.25):\n",
    "    \"\"\"Compute a cross-validated VAMP2 score.\n",
    "    \n",
    "    We randomly split the list of independent trajectories into\n",
    "    a training and a validation set, compute the VAMP2 score,\n",
    "    and repeat this process several times.\n",
    "    \n",
    "    Parameters\n",
    "    ----------\n",
    "    data : list of numpy.ndarrays\n",
    "        The input data.\n",
    "    dim : int\n",
    "        Number of processes to score; equivalent to the dimension\n",
    "        after projecting the data with VAMP2.\n",
    "    lag : int\n",
    "        Lag time for the VAMP2 scoring.\n",
    "    number_of_splits : int, optional, default=10\n",
    "        How often do we repeat the splitting and score calculation.\n",
    "    validation_fraction : int, optional, default=0.5\n",
    "        Fraction of trajectories which should go into the validation\n",
    "        set during a split.\n",
    "    \"\"\"\n",
    "    # we temporarily suppress very short-lived progress bars\n",
    "    #with pyemma.util.contexts.settings(show_progress_bars=False):\n",
    "    nval = int(len(data) * validation_fraction)\n",
    "    scores = np.zeros(number_of_splits)\n",
    "    for n in range(number_of_splits):\n",
    "        ival = np.random.choice(len(data), size=nval, replace=False)\n",
    "        vamp = pyemma.coordinates.vamp(\n",
    "            [d for i, d in enumerate(data) if i not in ival], lag=lag, dim=dim)\n",
    "        scores[n] = vamp.score([d for i, d in enumerate(data) if i in ival])\n",
    "    return scores"
   ]
  },
  {
   "cell_type": "code",
   "execution_count": 18,
   "metadata": {},
   "outputs": [
    {
     "data": {
      "application/vnd.jupyter.widget-view+json": {
       "model_id": "",
       "version_major": 2,
       "version_minor": 0
      },
      "text/plain": [
       "HBox(children=(FloatProgress(value=0.0, description='calculate covariances', layout=Layout(flex='2'), max=15.0…"
      ]
     },
     "metadata": {},
     "output_type": "display_data"
    },
    {
     "data": {
      "application/vnd.jupyter.widget-view+json": {
       "model_id": "",
       "version_major": 2,
       "version_minor": 0
      },
      "text/plain": [
       "HBox(children=(FloatProgress(value=0.0, description='calculate covariances', layout=Layout(flex='2'), max=5.0,…"
      ]
     },
     "metadata": {},
     "output_type": "display_data"
    },
    {
     "data": {
      "application/vnd.jupyter.widget-view+json": {
       "model_id": "",
       "version_major": 2,
       "version_minor": 0
      },
      "text/plain": [
       "HBox(children=(FloatProgress(value=0.0, description='calculate covariances', layout=Layout(flex='2'), max=15.0…"
      ]
     },
     "metadata": {},
     "output_type": "display_data"
    },
    {
     "data": {
      "application/vnd.jupyter.widget-view+json": {
       "model_id": "",
       "version_major": 2,
       "version_minor": 0
      },
      "text/plain": [
       "HBox(children=(FloatProgress(value=0.0, description='calculate covariances', layout=Layout(flex='2'), max=5.0,…"
      ]
     },
     "metadata": {},
     "output_type": "display_data"
    },
    {
     "data": {
      "application/vnd.jupyter.widget-view+json": {
       "model_id": "",
       "version_major": 2,
       "version_minor": 0
      },
      "text/plain": [
       "HBox(children=(FloatProgress(value=0.0, description='calculate covariances', layout=Layout(flex='2'), max=15.0…"
      ]
     },
     "metadata": {},
     "output_type": "display_data"
    },
    {
     "data": {
      "application/vnd.jupyter.widget-view+json": {
       "model_id": "",
       "version_major": 2,
       "version_minor": 0
      },
      "text/plain": [
       "HBox(children=(FloatProgress(value=0.0, description='calculate covariances', layout=Layout(flex='2'), max=5.0,…"
      ]
     },
     "metadata": {},
     "output_type": "display_data"
    },
    {
     "data": {
      "application/vnd.jupyter.widget-view+json": {
       "model_id": "",
       "version_major": 2,
       "version_minor": 0
      },
      "text/plain": [
       "HBox(children=(FloatProgress(value=0.0, description='calculate covariances', layout=Layout(flex='2'), max=15.0…"
      ]
     },
     "metadata": {},
     "output_type": "display_data"
    },
    {
     "data": {
      "application/vnd.jupyter.widget-view+json": {
       "model_id": "",
       "version_major": 2,
       "version_minor": 0
      },
      "text/plain": [
       "HBox(children=(FloatProgress(value=0.0, description='calculate covariances', layout=Layout(flex='2'), max=5.0,…"
      ]
     },
     "metadata": {},
     "output_type": "display_data"
    },
    {
     "data": {
      "application/vnd.jupyter.widget-view+json": {
       "model_id": "",
       "version_major": 2,
       "version_minor": 0
      },
      "text/plain": [
       "HBox(children=(FloatProgress(value=0.0, description='calculate covariances', layout=Layout(flex='2'), max=15.0…"
      ]
     },
     "metadata": {},
     "output_type": "display_data"
    },
    {
     "data": {
      "application/vnd.jupyter.widget-view+json": {
       "model_id": "",
       "version_major": 2,
       "version_minor": 0
      },
      "text/plain": [
       "HBox(children=(FloatProgress(value=0.0, description='calculate covariances', layout=Layout(flex='2'), max=5.0,…"
      ]
     },
     "metadata": {},
     "output_type": "display_data"
    },
    {
     "data": {
      "application/vnd.jupyter.widget-view+json": {
       "model_id": "",
       "version_major": 2,
       "version_minor": 0
      },
      "text/plain": [
       "HBox(children=(FloatProgress(value=0.0, description='calculate covariances', layout=Layout(flex='2'), max=15.0…"
      ]
     },
     "metadata": {},
     "output_type": "display_data"
    },
    {
     "data": {
      "application/vnd.jupyter.widget-view+json": {
       "model_id": "",
       "version_major": 2,
       "version_minor": 0
      },
      "text/plain": [
       "HBox(children=(FloatProgress(value=0.0, description='calculate covariances', layout=Layout(flex='2'), max=5.0,…"
      ]
     },
     "metadata": {},
     "output_type": "display_data"
    },
    {
     "data": {
      "application/vnd.jupyter.widget-view+json": {
       "model_id": "",
       "version_major": 2,
       "version_minor": 0
      },
      "text/plain": [
       "HBox(children=(FloatProgress(value=0.0, description='calculate covariances', layout=Layout(flex='2'), max=15.0…"
      ]
     },
     "metadata": {},
     "output_type": "display_data"
    },
    {
     "data": {
      "application/vnd.jupyter.widget-view+json": {
       "model_id": "",
       "version_major": 2,
       "version_minor": 0
      },
      "text/plain": [
       "HBox(children=(FloatProgress(value=0.0, description='calculate covariances', layout=Layout(flex='2'), max=5.0,…"
      ]
     },
     "metadata": {},
     "output_type": "display_data"
    },
    {
     "data": {
      "application/vnd.jupyter.widget-view+json": {
       "model_id": "",
       "version_major": 2,
       "version_minor": 0
      },
      "text/plain": [
       "HBox(children=(FloatProgress(value=0.0, description='calculate covariances', layout=Layout(flex='2'), max=15.0…"
      ]
     },
     "metadata": {},
     "output_type": "display_data"
    },
    {
     "data": {
      "application/vnd.jupyter.widget-view+json": {
       "model_id": "",
       "version_major": 2,
       "version_minor": 0
      },
      "text/plain": [
       "HBox(children=(FloatProgress(value=0.0, description='calculate covariances', layout=Layout(flex='2'), max=5.0,…"
      ]
     },
     "metadata": {},
     "output_type": "display_data"
    },
    {
     "data": {
      "application/vnd.jupyter.widget-view+json": {
       "model_id": "",
       "version_major": 2,
       "version_minor": 0
      },
      "text/plain": [
       "HBox(children=(FloatProgress(value=0.0, description='calculate covariances', layout=Layout(flex='2'), max=15.0…"
      ]
     },
     "metadata": {},
     "output_type": "display_data"
    },
    {
     "data": {
      "application/vnd.jupyter.widget-view+json": {
       "model_id": "",
       "version_major": 2,
       "version_minor": 0
      },
      "text/plain": [
       "HBox(children=(FloatProgress(value=0.0, description='calculate covariances', layout=Layout(flex='2'), max=5.0,…"
      ]
     },
     "metadata": {},
     "output_type": "display_data"
    },
    {
     "data": {
      "application/vnd.jupyter.widget-view+json": {
       "model_id": "",
       "version_major": 2,
       "version_minor": 0
      },
      "text/plain": [
       "HBox(children=(FloatProgress(value=0.0, description='calculate covariances', layout=Layout(flex='2'), max=15.0…"
      ]
     },
     "metadata": {},
     "output_type": "display_data"
    },
    {
     "data": {
      "application/vnd.jupyter.widget-view+json": {
       "model_id": "",
       "version_major": 2,
       "version_minor": 0
      },
      "text/plain": [
       "HBox(children=(FloatProgress(value=0.0, description='calculate covariances', layout=Layout(flex='2'), max=5.0,…"
      ]
     },
     "metadata": {},
     "output_type": "display_data"
    },
    {
     "data": {
      "application/vnd.jupyter.widget-view+json": {
       "model_id": "",
       "version_major": 2,
       "version_minor": 0
      },
      "text/plain": [
       "HBox(children=(FloatProgress(value=0.0, description='calculate covariances', layout=Layout(flex='2'), max=15.0…"
      ]
     },
     "metadata": {},
     "output_type": "display_data"
    },
    {
     "data": {
      "application/vnd.jupyter.widget-view+json": {
       "model_id": "",
       "version_major": 2,
       "version_minor": 0
      },
      "text/plain": [
       "HBox(children=(FloatProgress(value=0.0, description='calculate covariances', layout=Layout(flex='2'), max=5.0,…"
      ]
     },
     "metadata": {},
     "output_type": "display_data"
    },
    {
     "data": {
      "application/vnd.jupyter.widget-view+json": {
       "model_id": "",
       "version_major": 2,
       "version_minor": 0
      },
      "text/plain": [
       "HBox(children=(FloatProgress(value=0.0, description='calculate covariances', layout=Layout(flex='2'), max=15.0…"
      ]
     },
     "metadata": {},
     "output_type": "display_data"
    },
    {
     "data": {
      "application/vnd.jupyter.widget-view+json": {
       "model_id": "",
       "version_major": 2,
       "version_minor": 0
      },
      "text/plain": [
       "HBox(children=(FloatProgress(value=0.0, description='calculate covariances', layout=Layout(flex='2'), max=5.0,…"
      ]
     },
     "metadata": {},
     "output_type": "display_data"
    },
    {
     "data": {
      "application/vnd.jupyter.widget-view+json": {
       "model_id": "",
       "version_major": 2,
       "version_minor": 0
      },
      "text/plain": [
       "HBox(children=(FloatProgress(value=0.0, description='calculate covariances', layout=Layout(flex='2'), max=15.0…"
      ]
     },
     "metadata": {},
     "output_type": "display_data"
    },
    {
     "data": {
      "application/vnd.jupyter.widget-view+json": {
       "model_id": "",
       "version_major": 2,
       "version_minor": 0
      },
      "text/plain": [
       "HBox(children=(FloatProgress(value=0.0, description='calculate covariances', layout=Layout(flex='2'), max=5.0,…"
      ]
     },
     "metadata": {},
     "output_type": "display_data"
    },
    {
     "data": {
      "application/vnd.jupyter.widget-view+json": {
       "model_id": "",
       "version_major": 2,
       "version_minor": 0
      },
      "text/plain": [
       "HBox(children=(FloatProgress(value=0.0, description='calculate covariances', layout=Layout(flex='2'), max=15.0…"
      ]
     },
     "metadata": {},
     "output_type": "display_data"
    },
    {
     "data": {
      "application/vnd.jupyter.widget-view+json": {
       "model_id": "",
       "version_major": 2,
       "version_minor": 0
      },
      "text/plain": [
       "HBox(children=(FloatProgress(value=0.0, description='calculate covariances', layout=Layout(flex='2'), max=5.0,…"
      ]
     },
     "metadata": {},
     "output_type": "display_data"
    },
    {
     "data": {
      "application/vnd.jupyter.widget-view+json": {
       "model_id": "",
       "version_major": 2,
       "version_minor": 0
      },
      "text/plain": [
       "HBox(children=(FloatProgress(value=0.0, description='calculate covariances', layout=Layout(flex='2'), max=15.0…"
      ]
     },
     "metadata": {},
     "output_type": "display_data"
    },
    {
     "data": {
      "application/vnd.jupyter.widget-view+json": {
       "model_id": "",
       "version_major": 2,
       "version_minor": 0
      },
      "text/plain": [
       "HBox(children=(FloatProgress(value=0.0, description='calculate covariances', layout=Layout(flex='2'), max=5.0,…"
      ]
     },
     "metadata": {},
     "output_type": "display_data"
    },
    {
     "data": {
      "application/vnd.jupyter.widget-view+json": {
       "model_id": "",
       "version_major": 2,
       "version_minor": 0
      },
      "text/plain": [
       "HBox(children=(FloatProgress(value=0.0, description='calculate covariances', layout=Layout(flex='2'), max=15.0…"
      ]
     },
     "metadata": {},
     "output_type": "display_data"
    },
    {
     "data": {
      "application/vnd.jupyter.widget-view+json": {
       "model_id": "",
       "version_major": 2,
       "version_minor": 0
      },
      "text/plain": [
       "HBox(children=(FloatProgress(value=0.0, description='calculate covariances', layout=Layout(flex='2'), max=5.0,…"
      ]
     },
     "metadata": {},
     "output_type": "display_data"
    },
    {
     "data": {
      "application/vnd.jupyter.widget-view+json": {
       "model_id": "",
       "version_major": 2,
       "version_minor": 0
      },
      "text/plain": [
       "HBox(children=(FloatProgress(value=0.0, description='calculate covariances', layout=Layout(flex='2'), max=15.0…"
      ]
     },
     "metadata": {},
     "output_type": "display_data"
    },
    {
     "data": {
      "application/vnd.jupyter.widget-view+json": {
       "model_id": "",
       "version_major": 2,
       "version_minor": 0
      },
      "text/plain": [
       "HBox(children=(FloatProgress(value=0.0, description='calculate covariances', layout=Layout(flex='2'), max=5.0,…"
      ]
     },
     "metadata": {},
     "output_type": "display_data"
    },
    {
     "data": {
      "application/vnd.jupyter.widget-view+json": {
       "model_id": "",
       "version_major": 2,
       "version_minor": 0
      },
      "text/plain": [
       "HBox(children=(FloatProgress(value=0.0, description='calculate covariances', layout=Layout(flex='2'), max=15.0…"
      ]
     },
     "metadata": {},
     "output_type": "display_data"
    },
    {
     "data": {
      "application/vnd.jupyter.widget-view+json": {
       "model_id": "",
       "version_major": 2,
       "version_minor": 0
      },
      "text/plain": [
       "HBox(children=(FloatProgress(value=0.0, description='calculate covariances', layout=Layout(flex='2'), max=5.0,…"
      ]
     },
     "metadata": {},
     "output_type": "display_data"
    },
    {
     "data": {
      "application/vnd.jupyter.widget-view+json": {
       "model_id": "",
       "version_major": 2,
       "version_minor": 0
      },
      "text/plain": [
       "HBox(children=(FloatProgress(value=0.0, description='calculate covariances', layout=Layout(flex='2'), max=15.0…"
      ]
     },
     "metadata": {},
     "output_type": "display_data"
    },
    {
     "data": {
      "application/vnd.jupyter.widget-view+json": {
       "model_id": "",
       "version_major": 2,
       "version_minor": 0
      },
      "text/plain": [
       "HBox(children=(FloatProgress(value=0.0, description='calculate covariances', layout=Layout(flex='2'), max=5.0,…"
      ]
     },
     "metadata": {},
     "output_type": "display_data"
    },
    {
     "data": {
      "application/vnd.jupyter.widget-view+json": {
       "model_id": "",
       "version_major": 2,
       "version_minor": 0
      },
      "text/plain": [
       "HBox(children=(FloatProgress(value=0.0, description='calculate covariances', layout=Layout(flex='2'), max=15.0…"
      ]
     },
     "metadata": {},
     "output_type": "display_data"
    },
    {
     "data": {
      "application/vnd.jupyter.widget-view+json": {
       "model_id": "",
       "version_major": 2,
       "version_minor": 0
      },
      "text/plain": [
       "HBox(children=(FloatProgress(value=0.0, description='calculate covariances', layout=Layout(flex='2'), max=5.0,…"
      ]
     },
     "metadata": {},
     "output_type": "display_data"
    },
    {
     "data": {
      "application/vnd.jupyter.widget-view+json": {
       "model_id": "",
       "version_major": 2,
       "version_minor": 0
      },
      "text/plain": [
       "HBox(children=(FloatProgress(value=0.0, description='calculate covariances', layout=Layout(flex='2'), max=15.0…"
      ]
     },
     "metadata": {},
     "output_type": "display_data"
    },
    {
     "data": {
      "application/vnd.jupyter.widget-view+json": {
       "model_id": "",
       "version_major": 2,
       "version_minor": 0
      },
      "text/plain": [
       "HBox(children=(FloatProgress(value=0.0, description='calculate covariances', layout=Layout(flex='2'), max=5.0,…"
      ]
     },
     "metadata": {},
     "output_type": "display_data"
    },
    {
     "data": {
      "application/vnd.jupyter.widget-view+json": {
       "model_id": "",
       "version_major": 2,
       "version_minor": 0
      },
      "text/plain": [
       "HBox(children=(FloatProgress(value=0.0, description='calculate covariances', layout=Layout(flex='2'), max=15.0…"
      ]
     },
     "metadata": {},
     "output_type": "display_data"
    },
    {
     "data": {
      "application/vnd.jupyter.widget-view+json": {
       "model_id": "",
       "version_major": 2,
       "version_minor": 0
      },
      "text/plain": [
       "HBox(children=(FloatProgress(value=0.0, description='calculate covariances', layout=Layout(flex='2'), max=5.0,…"
      ]
     },
     "metadata": {},
     "output_type": "display_data"
    },
    {
     "data": {
      "application/vnd.jupyter.widget-view+json": {
       "model_id": "",
       "version_major": 2,
       "version_minor": 0
      },
      "text/plain": [
       "HBox(children=(FloatProgress(value=0.0, description='calculate covariances', layout=Layout(flex='2'), max=15.0…"
      ]
     },
     "metadata": {},
     "output_type": "display_data"
    },
    {
     "data": {
      "application/vnd.jupyter.widget-view+json": {
       "model_id": "",
       "version_major": 2,
       "version_minor": 0
      },
      "text/plain": [
       "HBox(children=(FloatProgress(value=0.0, description='calculate covariances', layout=Layout(flex='2'), max=5.0,…"
      ]
     },
     "metadata": {},
     "output_type": "display_data"
    },
    {
     "data": {
      "application/vnd.jupyter.widget-view+json": {
       "model_id": "",
       "version_major": 2,
       "version_minor": 0
      },
      "text/plain": [
       "HBox(children=(FloatProgress(value=0.0, description='calculate covariances', layout=Layout(flex='2'), max=15.0…"
      ]
     },
     "metadata": {},
     "output_type": "display_data"
    },
    {
     "data": {
      "application/vnd.jupyter.widget-view+json": {
       "model_id": "",
       "version_major": 2,
       "version_minor": 0
      },
      "text/plain": [
       "HBox(children=(FloatProgress(value=0.0, description='calculate covariances', layout=Layout(flex='2'), max=5.0,…"
      ]
     },
     "metadata": {},
     "output_type": "display_data"
    },
    {
     "data": {
      "application/vnd.jupyter.widget-view+json": {
       "model_id": "",
       "version_major": 2,
       "version_minor": 0
      },
      "text/plain": [
       "HBox(children=(FloatProgress(value=0.0, description='calculate covariances', layout=Layout(flex='2'), max=15.0…"
      ]
     },
     "metadata": {},
     "output_type": "display_data"
    },
    {
     "data": {
      "application/vnd.jupyter.widget-view+json": {
       "model_id": "",
       "version_major": 2,
       "version_minor": 0
      },
      "text/plain": [
       "HBox(children=(FloatProgress(value=0.0, description='calculate covariances', layout=Layout(flex='2'), max=5.0,…"
      ]
     },
     "metadata": {},
     "output_type": "display_data"
    },
    {
     "data": {
      "application/vnd.jupyter.widget-view+json": {
       "model_id": "",
       "version_major": 2,
       "version_minor": 0
      },
      "text/plain": [
       "HBox(children=(FloatProgress(value=0.0, description='calculate covariances', layout=Layout(flex='2'), max=15.0…"
      ]
     },
     "metadata": {},
     "output_type": "display_data"
    },
    {
     "data": {
      "application/vnd.jupyter.widget-view+json": {
       "model_id": "",
       "version_major": 2,
       "version_minor": 0
      },
      "text/plain": [
       "HBox(children=(FloatProgress(value=0.0, description='calculate covariances', layout=Layout(flex='2'), max=5.0,…"
      ]
     },
     "metadata": {},
     "output_type": "display_data"
    },
    {
     "data": {
      "application/vnd.jupyter.widget-view+json": {
       "model_id": "",
       "version_major": 2,
       "version_minor": 0
      },
      "text/plain": [
       "HBox(children=(FloatProgress(value=0.0, description='calculate covariances', layout=Layout(flex='2'), max=15.0…"
      ]
     },
     "metadata": {},
     "output_type": "display_data"
    },
    {
     "data": {
      "application/vnd.jupyter.widget-view+json": {
       "model_id": "",
       "version_major": 2,
       "version_minor": 0
      },
      "text/plain": [
       "HBox(children=(FloatProgress(value=0.0, description='calculate covariances', layout=Layout(flex='2'), max=5.0,…"
      ]
     },
     "metadata": {},
     "output_type": "display_data"
    },
    {
     "data": {
      "application/vnd.jupyter.widget-view+json": {
       "model_id": "",
       "version_major": 2,
       "version_minor": 0
      },
      "text/plain": [
       "HBox(children=(FloatProgress(value=0.0, description='calculate covariances', layout=Layout(flex='2'), max=15.0…"
      ]
     },
     "metadata": {},
     "output_type": "display_data"
    },
    {
     "data": {
      "application/vnd.jupyter.widget-view+json": {
       "model_id": "",
       "version_major": 2,
       "version_minor": 0
      },
      "text/plain": [
       "HBox(children=(FloatProgress(value=0.0, description='calculate covariances', layout=Layout(flex='2'), max=5.0,…"
      ]
     },
     "metadata": {},
     "output_type": "display_data"
    },
    {
     "data": {
      "application/vnd.jupyter.widget-view+json": {
       "model_id": "",
       "version_major": 2,
       "version_minor": 0
      },
      "text/plain": [
       "HBox(children=(FloatProgress(value=0.0, description='calculate covariances', layout=Layout(flex='2'), max=15.0…"
      ]
     },
     "metadata": {},
     "output_type": "display_data"
    },
    {
     "data": {
      "application/vnd.jupyter.widget-view+json": {
       "model_id": "",
       "version_major": 2,
       "version_minor": 0
      },
      "text/plain": [
       "HBox(children=(FloatProgress(value=0.0, description='calculate covariances', layout=Layout(flex='2'), max=5.0,…"
      ]
     },
     "metadata": {},
     "output_type": "display_data"
    },
    {
     "data": {
      "application/vnd.jupyter.widget-view+json": {
       "model_id": "",
       "version_major": 2,
       "version_minor": 0
      },
      "text/plain": [
       "HBox(children=(FloatProgress(value=0.0, description='calculate covariances', layout=Layout(flex='2'), max=15.0…"
      ]
     },
     "metadata": {},
     "output_type": "display_data"
    },
    {
     "data": {
      "application/vnd.jupyter.widget-view+json": {
       "model_id": "",
       "version_major": 2,
       "version_minor": 0
      },
      "text/plain": [
       "HBox(children=(FloatProgress(value=0.0, description='calculate covariances', layout=Layout(flex='2'), max=5.0,…"
      ]
     },
     "metadata": {},
     "output_type": "display_data"
    },
    {
     "data": {
      "application/vnd.jupyter.widget-view+json": {
       "model_id": "",
       "version_major": 2,
       "version_minor": 0
      },
      "text/plain": [
       "HBox(children=(FloatProgress(value=0.0, description='calculate covariances', layout=Layout(flex='2'), max=15.0…"
      ]
     },
     "metadata": {},
     "output_type": "display_data"
    },
    {
     "data": {
      "application/vnd.jupyter.widget-view+json": {
       "model_id": "",
       "version_major": 2,
       "version_minor": 0
      },
      "text/plain": [
       "HBox(children=(FloatProgress(value=0.0, description='calculate covariances', layout=Layout(flex='2'), max=5.0,…"
      ]
     },
     "metadata": {},
     "output_type": "display_data"
    },
    {
     "data": {
      "application/vnd.jupyter.widget-view+json": {
       "model_id": "",
       "version_major": 2,
       "version_minor": 0
      },
      "text/plain": [
       "HBox(children=(FloatProgress(value=0.0, description='calculate covariances', layout=Layout(flex='2'), max=15.0…"
      ]
     },
     "metadata": {},
     "output_type": "display_data"
    },
    {
     "data": {
      "application/vnd.jupyter.widget-view+json": {
       "model_id": "",
       "version_major": 2,
       "version_minor": 0
      },
      "text/plain": [
       "HBox(children=(FloatProgress(value=0.0, description='calculate covariances', layout=Layout(flex='2'), max=5.0,…"
      ]
     },
     "metadata": {},
     "output_type": "display_data"
    },
    {
     "data": {
      "application/vnd.jupyter.widget-view+json": {
       "model_id": "",
       "version_major": 2,
       "version_minor": 0
      },
      "text/plain": [
       "HBox(children=(FloatProgress(value=0.0, description='calculate covariances', layout=Layout(flex='2'), max=15.0…"
      ]
     },
     "metadata": {},
     "output_type": "display_data"
    },
    {
     "data": {
      "application/vnd.jupyter.widget-view+json": {
       "model_id": "",
       "version_major": 2,
       "version_minor": 0
      },
      "text/plain": [
       "HBox(children=(FloatProgress(value=0.0, description='calculate covariances', layout=Layout(flex='2'), max=5.0,…"
      ]
     },
     "metadata": {},
     "output_type": "display_data"
    },
    {
     "data": {
      "application/vnd.jupyter.widget-view+json": {
       "model_id": "",
       "version_major": 2,
       "version_minor": 0
      },
      "text/plain": [
       "HBox(children=(FloatProgress(value=0.0, description='calculate covariances', layout=Layout(flex='2'), max=15.0…"
      ]
     },
     "metadata": {},
     "output_type": "display_data"
    },
    {
     "data": {
      "application/vnd.jupyter.widget-view+json": {
       "model_id": "",
       "version_major": 2,
       "version_minor": 0
      },
      "text/plain": [
       "HBox(children=(FloatProgress(value=0.0, description='calculate covariances', layout=Layout(flex='2'), max=5.0,…"
      ]
     },
     "metadata": {},
     "output_type": "display_data"
    },
    {
     "data": {
      "application/vnd.jupyter.widget-view+json": {
       "model_id": "",
       "version_major": 2,
       "version_minor": 0
      },
      "text/plain": [
       "HBox(children=(FloatProgress(value=0.0, description='calculate covariances', layout=Layout(flex='2'), max=15.0…"
      ]
     },
     "metadata": {},
     "output_type": "display_data"
    },
    {
     "data": {
      "application/vnd.jupyter.widget-view+json": {
       "model_id": "",
       "version_major": 2,
       "version_minor": 0
      },
      "text/plain": [
       "HBox(children=(FloatProgress(value=0.0, description='calculate covariances', layout=Layout(flex='2'), max=5.0,…"
      ]
     },
     "metadata": {},
     "output_type": "display_data"
    },
    {
     "data": {
      "application/vnd.jupyter.widget-view+json": {
       "model_id": "",
       "version_major": 2,
       "version_minor": 0
      },
      "text/plain": [
       "HBox(children=(FloatProgress(value=0.0, description='calculate covariances', layout=Layout(flex='2'), max=15.0…"
      ]
     },
     "metadata": {},
     "output_type": "display_data"
    },
    {
     "data": {
      "application/vnd.jupyter.widget-view+json": {
       "model_id": "",
       "version_major": 2,
       "version_minor": 0
      },
      "text/plain": [
       "HBox(children=(FloatProgress(value=0.0, description='calculate covariances', layout=Layout(flex='2'), max=5.0,…"
      ]
     },
     "metadata": {},
     "output_type": "display_data"
    },
    {
     "data": {
      "application/vnd.jupyter.widget-view+json": {
       "model_id": "",
       "version_major": 2,
       "version_minor": 0
      },
      "text/plain": [
       "HBox(children=(FloatProgress(value=0.0, description='calculate covariances', layout=Layout(flex='2'), max=15.0…"
      ]
     },
     "metadata": {},
     "output_type": "display_data"
    },
    {
     "data": {
      "application/vnd.jupyter.widget-view+json": {
       "model_id": "",
       "version_major": 2,
       "version_minor": 0
      },
      "text/plain": [
       "HBox(children=(FloatProgress(value=0.0, description='calculate covariances', layout=Layout(flex='2'), max=5.0,…"
      ]
     },
     "metadata": {},
     "output_type": "display_data"
    },
    {
     "data": {
      "application/vnd.jupyter.widget-view+json": {
       "model_id": "",
       "version_major": 2,
       "version_minor": 0
      },
      "text/plain": [
       "HBox(children=(FloatProgress(value=0.0, description='calculate covariances', layout=Layout(flex='2'), max=15.0…"
      ]
     },
     "metadata": {},
     "output_type": "display_data"
    },
    {
     "data": {
      "application/vnd.jupyter.widget-view+json": {
       "model_id": "",
       "version_major": 2,
       "version_minor": 0
      },
      "text/plain": [
       "HBox(children=(FloatProgress(value=0.0, description='calculate covariances', layout=Layout(flex='2'), max=5.0,…"
      ]
     },
     "metadata": {},
     "output_type": "display_data"
    },
    {
     "data": {
      "application/vnd.jupyter.widget-view+json": {
       "model_id": "",
       "version_major": 2,
       "version_minor": 0
      },
      "text/plain": [
       "HBox(children=(FloatProgress(value=0.0, description='calculate covariances', layout=Layout(flex='2'), max=15.0…"
      ]
     },
     "metadata": {},
     "output_type": "display_data"
    },
    {
     "data": {
      "application/vnd.jupyter.widget-view+json": {
       "model_id": "",
       "version_major": 2,
       "version_minor": 0
      },
      "text/plain": [
       "HBox(children=(FloatProgress(value=0.0, description='calculate covariances', layout=Layout(flex='2'), max=5.0,…"
      ]
     },
     "metadata": {},
     "output_type": "display_data"
    },
    {
     "data": {
      "application/vnd.jupyter.widget-view+json": {
       "model_id": "",
       "version_major": 2,
       "version_minor": 0
      },
      "text/plain": [
       "HBox(children=(FloatProgress(value=0.0, description='calculate covariances', layout=Layout(flex='2'), max=15.0…"
      ]
     },
     "metadata": {},
     "output_type": "display_data"
    },
    {
     "data": {
      "application/vnd.jupyter.widget-view+json": {
       "model_id": "",
       "version_major": 2,
       "version_minor": 0
      },
      "text/plain": [
       "HBox(children=(FloatProgress(value=0.0, description='calculate covariances', layout=Layout(flex='2'), max=5.0,…"
      ]
     },
     "metadata": {},
     "output_type": "display_data"
    },
    {
     "data": {
      "application/vnd.jupyter.widget-view+json": {
       "model_id": "",
       "version_major": 2,
       "version_minor": 0
      },
      "text/plain": [
       "HBox(children=(FloatProgress(value=0.0, description='calculate covariances', layout=Layout(flex='2'), max=15.0…"
      ]
     },
     "metadata": {},
     "output_type": "display_data"
    },
    {
     "data": {
      "application/vnd.jupyter.widget-view+json": {
       "model_id": "",
       "version_major": 2,
       "version_minor": 0
      },
      "text/plain": [
       "HBox(children=(FloatProgress(value=0.0, description='calculate covariances', layout=Layout(flex='2'), max=5.0,…"
      ]
     },
     "metadata": {},
     "output_type": "display_data"
    },
    {
     "data": {
      "application/vnd.jupyter.widget-view+json": {
       "model_id": "",
       "version_major": 2,
       "version_minor": 0
      },
      "text/plain": [
       "HBox(children=(FloatProgress(value=0.0, description='calculate covariances', layout=Layout(flex='2'), max=15.0…"
      ]
     },
     "metadata": {},
     "output_type": "display_data"
    },
    {
     "data": {
      "application/vnd.jupyter.widget-view+json": {
       "model_id": "",
       "version_major": 2,
       "version_minor": 0
      },
      "text/plain": [
       "HBox(children=(FloatProgress(value=0.0, description='calculate covariances', layout=Layout(flex='2'), max=5.0,…"
      ]
     },
     "metadata": {},
     "output_type": "display_data"
    },
    {
     "data": {
      "application/vnd.jupyter.widget-view+json": {
       "model_id": "",
       "version_major": 2,
       "version_minor": 0
      },
      "text/plain": [
       "HBox(children=(FloatProgress(value=0.0, description='calculate covariances', layout=Layout(flex='2'), max=15.0…"
      ]
     },
     "metadata": {},
     "output_type": "display_data"
    },
    {
     "data": {
      "application/vnd.jupyter.widget-view+json": {
       "model_id": "",
       "version_major": 2,
       "version_minor": 0
      },
      "text/plain": [
       "HBox(children=(FloatProgress(value=0.0, description='calculate covariances', layout=Layout(flex='2'), max=5.0,…"
      ]
     },
     "metadata": {},
     "output_type": "display_data"
    },
    {
     "data": {
      "application/vnd.jupyter.widget-view+json": {
       "model_id": "",
       "version_major": 2,
       "version_minor": 0
      },
      "text/plain": [
       "HBox(children=(FloatProgress(value=0.0, description='calculate covariances', layout=Layout(flex='2'), max=15.0…"
      ]
     },
     "metadata": {},
     "output_type": "display_data"
    },
    {
     "data": {
      "application/vnd.jupyter.widget-view+json": {
       "model_id": "",
       "version_major": 2,
       "version_minor": 0
      },
      "text/plain": [
       "HBox(children=(FloatProgress(value=0.0, description='calculate covariances', layout=Layout(flex='2'), max=5.0,…"
      ]
     },
     "metadata": {},
     "output_type": "display_data"
    },
    {
     "data": {
      "application/vnd.jupyter.widget-view+json": {
       "model_id": "",
       "version_major": 2,
       "version_minor": 0
      },
      "text/plain": [
       "HBox(children=(FloatProgress(value=0.0, description='calculate covariances', layout=Layout(flex='2'), max=15.0…"
      ]
     },
     "metadata": {},
     "output_type": "display_data"
    },
    {
     "data": {
      "application/vnd.jupyter.widget-view+json": {
       "model_id": "",
       "version_major": 2,
       "version_minor": 0
      },
      "text/plain": [
       "HBox(children=(FloatProgress(value=0.0, description='calculate covariances', layout=Layout(flex='2'), max=5.0,…"
      ]
     },
     "metadata": {},
     "output_type": "display_data"
    },
    {
     "data": {
      "application/vnd.jupyter.widget-view+json": {
       "model_id": "",
       "version_major": 2,
       "version_minor": 0
      },
      "text/plain": [
       "HBox(children=(FloatProgress(value=0.0, description='calculate covariances', layout=Layout(flex='2'), max=15.0…"
      ]
     },
     "metadata": {},
     "output_type": "display_data"
    },
    {
     "data": {
      "application/vnd.jupyter.widget-view+json": {
       "model_id": "",
       "version_major": 2,
       "version_minor": 0
      },
      "text/plain": [
       "HBox(children=(FloatProgress(value=0.0, description='calculate covariances', layout=Layout(flex='2'), max=5.0,…"
      ]
     },
     "metadata": {},
     "output_type": "display_data"
    },
    {
     "data": {
      "application/vnd.jupyter.widget-view+json": {
       "model_id": "",
       "version_major": 2,
       "version_minor": 0
      },
      "text/plain": [
       "HBox(children=(FloatProgress(value=0.0, description='calculate covariances', layout=Layout(flex='2'), max=15.0…"
      ]
     },
     "metadata": {},
     "output_type": "display_data"
    },
    {
     "data": {
      "application/vnd.jupyter.widget-view+json": {
       "model_id": "",
       "version_major": 2,
       "version_minor": 0
      },
      "text/plain": [
       "HBox(children=(FloatProgress(value=0.0, description='calculate covariances', layout=Layout(flex='2'), max=5.0,…"
      ]
     },
     "metadata": {},
     "output_type": "display_data"
    },
    {
     "data": {
      "application/vnd.jupyter.widget-view+json": {
       "model_id": "",
       "version_major": 2,
       "version_minor": 0
      },
      "text/plain": [
       "HBox(children=(FloatProgress(value=0.0, description='calculate covariances', layout=Layout(flex='2'), max=15.0…"
      ]
     },
     "metadata": {},
     "output_type": "display_data"
    },
    {
     "data": {
      "application/vnd.jupyter.widget-view+json": {
       "model_id": "",
       "version_major": 2,
       "version_minor": 0
      },
      "text/plain": [
       "HBox(children=(FloatProgress(value=0.0, description='calculate covariances', layout=Layout(flex='2'), max=5.0,…"
      ]
     },
     "metadata": {},
     "output_type": "display_data"
    },
    {
     "data": {
      "application/vnd.jupyter.widget-view+json": {
       "model_id": "",
       "version_major": 2,
       "version_minor": 0
      },
      "text/plain": [
       "HBox(children=(FloatProgress(value=0.0, description='calculate covariances', layout=Layout(flex='2'), max=15.0…"
      ]
     },
     "metadata": {},
     "output_type": "display_data"
    },
    {
     "data": {
      "application/vnd.jupyter.widget-view+json": {
       "model_id": "",
       "version_major": 2,
       "version_minor": 0
      },
      "text/plain": [
       "HBox(children=(FloatProgress(value=0.0, description='calculate covariances', layout=Layout(flex='2'), max=5.0,…"
      ]
     },
     "metadata": {},
     "output_type": "display_data"
    },
    {
     "data": {
      "application/vnd.jupyter.widget-view+json": {
       "model_id": "",
       "version_major": 2,
       "version_minor": 0
      },
      "text/plain": [
       "HBox(children=(FloatProgress(value=0.0, description='calculate covariances', layout=Layout(flex='2'), max=15.0…"
      ]
     },
     "metadata": {},
     "output_type": "display_data"
    },
    {
     "data": {
      "application/vnd.jupyter.widget-view+json": {
       "model_id": "",
       "version_major": 2,
       "version_minor": 0
      },
      "text/plain": [
       "HBox(children=(FloatProgress(value=0.0, description='calculate covariances', layout=Layout(flex='2'), max=5.0,…"
      ]
     },
     "metadata": {},
     "output_type": "display_data"
    },
    {
     "data": {
      "application/vnd.jupyter.widget-view+json": {
       "model_id": "",
       "version_major": 2,
       "version_minor": 0
      },
      "text/plain": [
       "HBox(children=(FloatProgress(value=0.0, description='calculate covariances', layout=Layout(flex='2'), max=15.0…"
      ]
     },
     "metadata": {},
     "output_type": "display_data"
    },
    {
     "data": {
      "application/vnd.jupyter.widget-view+json": {
       "model_id": "",
       "version_major": 2,
       "version_minor": 0
      },
      "text/plain": [
       "HBox(children=(FloatProgress(value=0.0, description='calculate covariances', layout=Layout(flex='2'), max=5.0,…"
      ]
     },
     "metadata": {},
     "output_type": "display_data"
    },
    {
     "data": {
      "application/vnd.jupyter.widget-view+json": {
       "model_id": "",
       "version_major": 2,
       "version_minor": 0
      },
      "text/plain": [
       "HBox(children=(FloatProgress(value=0.0, description='calculate covariances', layout=Layout(flex='2'), max=15.0…"
      ]
     },
     "metadata": {},
     "output_type": "display_data"
    },
    {
     "data": {
      "application/vnd.jupyter.widget-view+json": {
       "model_id": "",
       "version_major": 2,
       "version_minor": 0
      },
      "text/plain": [
       "HBox(children=(FloatProgress(value=0.0, description='calculate covariances', layout=Layout(flex='2'), max=5.0,…"
      ]
     },
     "metadata": {},
     "output_type": "display_data"
    },
    {
     "data": {
      "application/vnd.jupyter.widget-view+json": {
       "model_id": "",
       "version_major": 2,
       "version_minor": 0
      },
      "text/plain": [
       "HBox(children=(FloatProgress(value=0.0, description='calculate covariances', layout=Layout(flex='2'), max=15.0…"
      ]
     },
     "metadata": {},
     "output_type": "display_data"
    },
    {
     "data": {
      "application/vnd.jupyter.widget-view+json": {
       "model_id": "",
       "version_major": 2,
       "version_minor": 0
      },
      "text/plain": [
       "HBox(children=(FloatProgress(value=0.0, description='calculate covariances', layout=Layout(flex='2'), max=5.0,…"
      ]
     },
     "metadata": {},
     "output_type": "display_data"
    },
    {
     "data": {
      "application/vnd.jupyter.widget-view+json": {
       "model_id": "",
       "version_major": 2,
       "version_minor": 0
      },
      "text/plain": [
       "HBox(children=(FloatProgress(value=0.0, description='calculate covariances', layout=Layout(flex='2'), max=15.0…"
      ]
     },
     "metadata": {},
     "output_type": "display_data"
    },
    {
     "data": {
      "application/vnd.jupyter.widget-view+json": {
       "model_id": "",
       "version_major": 2,
       "version_minor": 0
      },
      "text/plain": [
       "HBox(children=(FloatProgress(value=0.0, description='calculate covariances', layout=Layout(flex='2'), max=5.0,…"
      ]
     },
     "metadata": {},
     "output_type": "display_data"
    },
    {
     "data": {
      "application/vnd.jupyter.widget-view+json": {
       "model_id": "",
       "version_major": 2,
       "version_minor": 0
      },
      "text/plain": [
       "HBox(children=(FloatProgress(value=0.0, description='calculate covariances', layout=Layout(flex='2'), max=15.0…"
      ]
     },
     "metadata": {},
     "output_type": "display_data"
    },
    {
     "data": {
      "application/vnd.jupyter.widget-view+json": {
       "model_id": "",
       "version_major": 2,
       "version_minor": 0
      },
      "text/plain": [
       "HBox(children=(FloatProgress(value=0.0, description='calculate covariances', layout=Layout(flex='2'), max=5.0,…"
      ]
     },
     "metadata": {},
     "output_type": "display_data"
    },
    {
     "data": {
      "application/vnd.jupyter.widget-view+json": {
       "model_id": "",
       "version_major": 2,
       "version_minor": 0
      },
      "text/plain": [
       "HBox(children=(FloatProgress(value=0.0, description='calculate covariances', layout=Layout(flex='2'), max=15.0…"
      ]
     },
     "metadata": {},
     "output_type": "display_data"
    },
    {
     "data": {
      "application/vnd.jupyter.widget-view+json": {
       "model_id": "",
       "version_major": 2,
       "version_minor": 0
      },
      "text/plain": [
       "HBox(children=(FloatProgress(value=0.0, description='calculate covariances', layout=Layout(flex='2'), max=5.0,…"
      ]
     },
     "metadata": {},
     "output_type": "display_data"
    },
    {
     "data": {
      "application/vnd.jupyter.widget-view+json": {
       "model_id": "",
       "version_major": 2,
       "version_minor": 0
      },
      "text/plain": [
       "HBox(children=(FloatProgress(value=0.0, description='calculate covariances', layout=Layout(flex='2'), max=15.0…"
      ]
     },
     "metadata": {},
     "output_type": "display_data"
    },
    {
     "data": {
      "application/vnd.jupyter.widget-view+json": {
       "model_id": "",
       "version_major": 2,
       "version_minor": 0
      },
      "text/plain": [
       "HBox(children=(FloatProgress(value=0.0, description='calculate covariances', layout=Layout(flex='2'), max=5.0,…"
      ]
     },
     "metadata": {},
     "output_type": "display_data"
    },
    {
     "data": {
      "application/vnd.jupyter.widget-view+json": {
       "model_id": "",
       "version_major": 2,
       "version_minor": 0
      },
      "text/plain": [
       "HBox(children=(FloatProgress(value=0.0, description='calculate covariances', layout=Layout(flex='2'), max=15.0…"
      ]
     },
     "metadata": {},
     "output_type": "display_data"
    },
    {
     "data": {
      "application/vnd.jupyter.widget-view+json": {
       "model_id": "",
       "version_major": 2,
       "version_minor": 0
      },
      "text/plain": [
       "HBox(children=(FloatProgress(value=0.0, description='calculate covariances', layout=Layout(flex='2'), max=5.0,…"
      ]
     },
     "metadata": {},
     "output_type": "display_data"
    },
    {
     "data": {
      "application/vnd.jupyter.widget-view+json": {
       "model_id": "",
       "version_major": 2,
       "version_minor": 0
      },
      "text/plain": [
       "HBox(children=(FloatProgress(value=0.0, description='calculate covariances', layout=Layout(flex='2'), max=15.0…"
      ]
     },
     "metadata": {},
     "output_type": "display_data"
    },
    {
     "data": {
      "application/vnd.jupyter.widget-view+json": {
       "model_id": "",
       "version_major": 2,
       "version_minor": 0
      },
      "text/plain": [
       "HBox(children=(FloatProgress(value=0.0, description='calculate covariances', layout=Layout(flex='2'), max=5.0,…"
      ]
     },
     "metadata": {},
     "output_type": "display_data"
    },
    {
     "data": {
      "application/vnd.jupyter.widget-view+json": {
       "model_id": "",
       "version_major": 2,
       "version_minor": 0
      },
      "text/plain": [
       "HBox(children=(FloatProgress(value=0.0, description='calculate covariances', layout=Layout(flex='2'), max=15.0…"
      ]
     },
     "metadata": {},
     "output_type": "display_data"
    },
    {
     "data": {
      "application/vnd.jupyter.widget-view+json": {
       "model_id": "",
       "version_major": 2,
       "version_minor": 0
      },
      "text/plain": [
       "HBox(children=(FloatProgress(value=0.0, description='calculate covariances', layout=Layout(flex='2'), max=5.0,…"
      ]
     },
     "metadata": {},
     "output_type": "display_data"
    },
    {
     "data": {
      "application/vnd.jupyter.widget-view+json": {
       "model_id": "",
       "version_major": 2,
       "version_minor": 0
      },
      "text/plain": [
       "HBox(children=(FloatProgress(value=0.0, description='calculate covariances', layout=Layout(flex='2'), max=15.0…"
      ]
     },
     "metadata": {},
     "output_type": "display_data"
    },
    {
     "data": {
      "application/vnd.jupyter.widget-view+json": {
       "model_id": "",
       "version_major": 2,
       "version_minor": 0
      },
      "text/plain": [
       "HBox(children=(FloatProgress(value=0.0, description='calculate covariances', layout=Layout(flex='2'), max=5.0,…"
      ]
     },
     "metadata": {},
     "output_type": "display_data"
    },
    {
     "data": {
      "application/vnd.jupyter.widget-view+json": {
       "model_id": "",
       "version_major": 2,
       "version_minor": 0
      },
      "text/plain": [
       "HBox(children=(FloatProgress(value=0.0, description='calculate covariances', layout=Layout(flex='2'), max=15.0…"
      ]
     },
     "metadata": {},
     "output_type": "display_data"
    },
    {
     "data": {
      "application/vnd.jupyter.widget-view+json": {
       "model_id": "",
       "version_major": 2,
       "version_minor": 0
      },
      "text/plain": [
       "HBox(children=(FloatProgress(value=0.0, description='calculate covariances', layout=Layout(flex='2'), max=5.0,…"
      ]
     },
     "metadata": {},
     "output_type": "display_data"
    },
    {
     "data": {
      "application/vnd.jupyter.widget-view+json": {
       "model_id": "",
       "version_major": 2,
       "version_minor": 0
      },
      "text/plain": [
       "HBox(children=(FloatProgress(value=0.0, description='calculate covariances', layout=Layout(flex='2'), max=15.0…"
      ]
     },
     "metadata": {},
     "output_type": "display_data"
    },
    {
     "data": {
      "application/vnd.jupyter.widget-view+json": {
       "model_id": "",
       "version_major": 2,
       "version_minor": 0
      },
      "text/plain": [
       "HBox(children=(FloatProgress(value=0.0, description='calculate covariances', layout=Layout(flex='2'), max=5.0,…"
      ]
     },
     "metadata": {},
     "output_type": "display_data"
    },
    {
     "data": {
      "application/vnd.jupyter.widget-view+json": {
       "model_id": "",
       "version_major": 2,
       "version_minor": 0
      },
      "text/plain": [
       "HBox(children=(FloatProgress(value=0.0, description='calculate covariances', layout=Layout(flex='2'), max=15.0…"
      ]
     },
     "metadata": {},
     "output_type": "display_data"
    },
    {
     "data": {
      "application/vnd.jupyter.widget-view+json": {
       "model_id": "",
       "version_major": 2,
       "version_minor": 0
      },
      "text/plain": [
       "HBox(children=(FloatProgress(value=0.0, description='calculate covariances', layout=Layout(flex='2'), max=5.0,…"
      ]
     },
     "metadata": {},
     "output_type": "display_data"
    },
    {
     "data": {
      "application/vnd.jupyter.widget-view+json": {
       "model_id": "",
       "version_major": 2,
       "version_minor": 0
      },
      "text/plain": [
       "HBox(children=(FloatProgress(value=0.0, description='calculate covariances', layout=Layout(flex='2'), max=15.0…"
      ]
     },
     "metadata": {},
     "output_type": "display_data"
    },
    {
     "data": {
      "application/vnd.jupyter.widget-view+json": {
       "model_id": "",
       "version_major": 2,
       "version_minor": 0
      },
      "text/plain": [
       "HBox(children=(FloatProgress(value=0.0, description='calculate covariances', layout=Layout(flex='2'), max=5.0,…"
      ]
     },
     "metadata": {},
     "output_type": "display_data"
    },
    {
     "data": {
      "application/vnd.jupyter.widget-view+json": {
       "model_id": "",
       "version_major": 2,
       "version_minor": 0
      },
      "text/plain": [
       "HBox(children=(FloatProgress(value=0.0, description='calculate covariances', layout=Layout(flex='2'), max=15.0…"
      ]
     },
     "metadata": {},
     "output_type": "display_data"
    },
    {
     "data": {
      "application/vnd.jupyter.widget-view+json": {
       "model_id": "",
       "version_major": 2,
       "version_minor": 0
      },
      "text/plain": [
       "HBox(children=(FloatProgress(value=0.0, description='calculate covariances', layout=Layout(flex='2'), max=5.0,…"
      ]
     },
     "metadata": {},
     "output_type": "display_data"
    },
    {
     "data": {
      "application/vnd.jupyter.widget-view+json": {
       "model_id": "",
       "version_major": 2,
       "version_minor": 0
      },
      "text/plain": [
       "HBox(children=(FloatProgress(value=0.0, description='calculate covariances', layout=Layout(flex='2'), max=15.0…"
      ]
     },
     "metadata": {},
     "output_type": "display_data"
    },
    {
     "data": {
      "application/vnd.jupyter.widget-view+json": {
       "model_id": "",
       "version_major": 2,
       "version_minor": 0
      },
      "text/plain": [
       "HBox(children=(FloatProgress(value=0.0, description='calculate covariances', layout=Layout(flex='2'), max=5.0,…"
      ]
     },
     "metadata": {},
     "output_type": "display_data"
    },
    {
     "data": {
      "application/vnd.jupyter.widget-view+json": {
       "model_id": "",
       "version_major": 2,
       "version_minor": 0
      },
      "text/plain": [
       "HBox(children=(FloatProgress(value=0.0, description='calculate covariances', layout=Layout(flex='2'), max=15.0…"
      ]
     },
     "metadata": {},
     "output_type": "display_data"
    },
    {
     "data": {
      "application/vnd.jupyter.widget-view+json": {
       "model_id": "",
       "version_major": 2,
       "version_minor": 0
      },
      "text/plain": [
       "HBox(children=(FloatProgress(value=0.0, description='calculate covariances', layout=Layout(flex='2'), max=5.0,…"
      ]
     },
     "metadata": {},
     "output_type": "display_data"
    },
    {
     "data": {
      "application/vnd.jupyter.widget-view+json": {
       "model_id": "",
       "version_major": 2,
       "version_minor": 0
      },
      "text/plain": [
       "HBox(children=(FloatProgress(value=0.0, description='calculate covariances', layout=Layout(flex='2'), max=15.0…"
      ]
     },
     "metadata": {},
     "output_type": "display_data"
    },
    {
     "data": {
      "application/vnd.jupyter.widget-view+json": {
       "model_id": "",
       "version_major": 2,
       "version_minor": 0
      },
      "text/plain": [
       "HBox(children=(FloatProgress(value=0.0, description='calculate covariances', layout=Layout(flex='2'), max=5.0,…"
      ]
     },
     "metadata": {},
     "output_type": "display_data"
    },
    {
     "data": {
      "application/vnd.jupyter.widget-view+json": {
       "model_id": "",
       "version_major": 2,
       "version_minor": 0
      },
      "text/plain": [
       "HBox(children=(FloatProgress(value=0.0, description='calculate covariances', layout=Layout(flex='2'), max=15.0…"
      ]
     },
     "metadata": {},
     "output_type": "display_data"
    },
    {
     "data": {
      "application/vnd.jupyter.widget-view+json": {
       "model_id": "",
       "version_major": 2,
       "version_minor": 0
      },
      "text/plain": [
       "HBox(children=(FloatProgress(value=0.0, description='calculate covariances', layout=Layout(flex='2'), max=5.0,…"
      ]
     },
     "metadata": {},
     "output_type": "display_data"
    },
    {
     "data": {
      "application/vnd.jupyter.widget-view+json": {
       "model_id": "",
       "version_major": 2,
       "version_minor": 0
      },
      "text/plain": [
       "HBox(children=(FloatProgress(value=0.0, description='calculate covariances', layout=Layout(flex='2'), max=15.0…"
      ]
     },
     "metadata": {},
     "output_type": "display_data"
    },
    {
     "data": {
      "application/vnd.jupyter.widget-view+json": {
       "model_id": "",
       "version_major": 2,
       "version_minor": 0
      },
      "text/plain": [
       "HBox(children=(FloatProgress(value=0.0, description='calculate covariances', layout=Layout(flex='2'), max=5.0,…"
      ]
     },
     "metadata": {},
     "output_type": "display_data"
    },
    {
     "data": {
      "application/vnd.jupyter.widget-view+json": {
       "model_id": "",
       "version_major": 2,
       "version_minor": 0
      },
      "text/plain": [
       "HBox(children=(FloatProgress(value=0.0, description='calculate covariances', layout=Layout(flex='2'), max=15.0…"
      ]
     },
     "metadata": {},
     "output_type": "display_data"
    },
    {
     "data": {
      "application/vnd.jupyter.widget-view+json": {
       "model_id": "",
       "version_major": 2,
       "version_minor": 0
      },
      "text/plain": [
       "HBox(children=(FloatProgress(value=0.0, description='calculate covariances', layout=Layout(flex='2'), max=5.0,…"
      ]
     },
     "metadata": {},
     "output_type": "display_data"
    },
    {
     "data": {
      "application/vnd.jupyter.widget-view+json": {
       "model_id": "",
       "version_major": 2,
       "version_minor": 0
      },
      "text/plain": [
       "HBox(children=(FloatProgress(value=0.0, description='calculate covariances', layout=Layout(flex='2'), max=15.0…"
      ]
     },
     "metadata": {},
     "output_type": "display_data"
    },
    {
     "data": {
      "application/vnd.jupyter.widget-view+json": {
       "model_id": "",
       "version_major": 2,
       "version_minor": 0
      },
      "text/plain": [
       "HBox(children=(FloatProgress(value=0.0, description='calculate covariances', layout=Layout(flex='2'), max=5.0,…"
      ]
     },
     "metadata": {},
     "output_type": "display_data"
    },
    {
     "data": {
      "application/vnd.jupyter.widget-view+json": {
       "model_id": "",
       "version_major": 2,
       "version_minor": 0
      },
      "text/plain": [
       "HBox(children=(FloatProgress(value=0.0, description='calculate covariances', layout=Layout(flex='2'), max=15.0…"
      ]
     },
     "metadata": {},
     "output_type": "display_data"
    },
    {
     "data": {
      "application/vnd.jupyter.widget-view+json": {
       "model_id": "",
       "version_major": 2,
       "version_minor": 0
      },
      "text/plain": [
       "HBox(children=(FloatProgress(value=0.0, description='calculate covariances', layout=Layout(flex='2'), max=5.0,…"
      ]
     },
     "metadata": {},
     "output_type": "display_data"
    },
    {
     "data": {
      "application/vnd.jupyter.widget-view+json": {
       "model_id": "",
       "version_major": 2,
       "version_minor": 0
      },
      "text/plain": [
       "HBox(children=(FloatProgress(value=0.0, description='calculate covariances', layout=Layout(flex='2'), max=15.0…"
      ]
     },
     "metadata": {},
     "output_type": "display_data"
    },
    {
     "data": {
      "application/vnd.jupyter.widget-view+json": {
       "model_id": "",
       "version_major": 2,
       "version_minor": 0
      },
      "text/plain": [
       "HBox(children=(FloatProgress(value=0.0, description='calculate covariances', layout=Layout(flex='2'), max=5.0,…"
      ]
     },
     "metadata": {},
     "output_type": "display_data"
    },
    {
     "data": {
      "application/vnd.jupyter.widget-view+json": {
       "model_id": "",
       "version_major": 2,
       "version_minor": 0
      },
      "text/plain": [
       "HBox(children=(FloatProgress(value=0.0, description='calculate covariances', layout=Layout(flex='2'), max=15.0…"
      ]
     },
     "metadata": {},
     "output_type": "display_data"
    },
    {
     "data": {
      "application/vnd.jupyter.widget-view+json": {
       "model_id": "",
       "version_major": 2,
       "version_minor": 0
      },
      "text/plain": [
       "HBox(children=(FloatProgress(value=0.0, description='calculate covariances', layout=Layout(flex='2'), max=5.0,…"
      ]
     },
     "metadata": {},
     "output_type": "display_data"
    },
    {
     "data": {
      "application/vnd.jupyter.widget-view+json": {
       "model_id": "",
       "version_major": 2,
       "version_minor": 0
      },
      "text/plain": [
       "HBox(children=(FloatProgress(value=0.0, description='calculate covariances', layout=Layout(flex='2'), max=15.0…"
      ]
     },
     "metadata": {},
     "output_type": "display_data"
    },
    {
     "data": {
      "application/vnd.jupyter.widget-view+json": {
       "model_id": "",
       "version_major": 2,
       "version_minor": 0
      },
      "text/plain": [
       "HBox(children=(FloatProgress(value=0.0, description='calculate covariances', layout=Layout(flex='2'), max=5.0,…"
      ]
     },
     "metadata": {},
     "output_type": "display_data"
    },
    {
     "data": {
      "application/vnd.jupyter.widget-view+json": {
       "model_id": "",
       "version_major": 2,
       "version_minor": 0
      },
      "text/plain": [
       "HBox(children=(FloatProgress(value=0.0, description='calculate covariances', layout=Layout(flex='2'), max=15.0…"
      ]
     },
     "metadata": {},
     "output_type": "display_data"
    },
    {
     "data": {
      "application/vnd.jupyter.widget-view+json": {
       "model_id": "",
       "version_major": 2,
       "version_minor": 0
      },
      "text/plain": [
       "HBox(children=(FloatProgress(value=0.0, description='calculate covariances', layout=Layout(flex='2'), max=5.0,…"
      ]
     },
     "metadata": {},
     "output_type": "display_data"
    },
    {
     "data": {
      "application/vnd.jupyter.widget-view+json": {
       "model_id": "",
       "version_major": 2,
       "version_minor": 0
      },
      "text/plain": [
       "HBox(children=(FloatProgress(value=0.0, description='calculate covariances', layout=Layout(flex='2'), max=15.0…"
      ]
     },
     "metadata": {},
     "output_type": "display_data"
    },
    {
     "data": {
      "application/vnd.jupyter.widget-view+json": {
       "model_id": "",
       "version_major": 2,
       "version_minor": 0
      },
      "text/plain": [
       "HBox(children=(FloatProgress(value=0.0, description='calculate covariances', layout=Layout(flex='2'), max=5.0,…"
      ]
     },
     "metadata": {},
     "output_type": "display_data"
    },
    {
     "data": {
      "application/vnd.jupyter.widget-view+json": {
       "model_id": "",
       "version_major": 2,
       "version_minor": 0
      },
      "text/plain": [
       "HBox(children=(FloatProgress(value=0.0, description='calculate covariances', layout=Layout(flex='2'), max=15.0…"
      ]
     },
     "metadata": {},
     "output_type": "display_data"
    },
    {
     "data": {
      "application/vnd.jupyter.widget-view+json": {
       "model_id": "",
       "version_major": 2,
       "version_minor": 0
      },
      "text/plain": [
       "HBox(children=(FloatProgress(value=0.0, description='calculate covariances', layout=Layout(flex='2'), max=5.0,…"
      ]
     },
     "metadata": {},
     "output_type": "display_data"
    },
    {
     "data": {
      "application/vnd.jupyter.widget-view+json": {
       "model_id": "",
       "version_major": 2,
       "version_minor": 0
      },
      "text/plain": [
       "HBox(children=(FloatProgress(value=0.0, description='calculate covariances', layout=Layout(flex='2'), max=15.0…"
      ]
     },
     "metadata": {},
     "output_type": "display_data"
    },
    {
     "data": {
      "application/vnd.jupyter.widget-view+json": {
       "model_id": "",
       "version_major": 2,
       "version_minor": 0
      },
      "text/plain": [
       "HBox(children=(FloatProgress(value=0.0, description='calculate covariances', layout=Layout(flex='2'), max=5.0,…"
      ]
     },
     "metadata": {},
     "output_type": "display_data"
    },
    {
     "data": {
      "application/vnd.jupyter.widget-view+json": {
       "model_id": "",
       "version_major": 2,
       "version_minor": 0
      },
      "text/plain": [
       "HBox(children=(FloatProgress(value=0.0, description='calculate covariances', layout=Layout(flex='2'), max=15.0…"
      ]
     },
     "metadata": {},
     "output_type": "display_data"
    },
    {
     "data": {
      "application/vnd.jupyter.widget-view+json": {
       "model_id": "",
       "version_major": 2,
       "version_minor": 0
      },
      "text/plain": [
       "HBox(children=(FloatProgress(value=0.0, description='calculate covariances', layout=Layout(flex='2'), max=5.0,…"
      ]
     },
     "metadata": {},
     "output_type": "display_data"
    },
    {
     "data": {
      "application/vnd.jupyter.widget-view+json": {
       "model_id": "",
       "version_major": 2,
       "version_minor": 0
      },
      "text/plain": [
       "HBox(children=(FloatProgress(value=0.0, description='calculate covariances', layout=Layout(flex='2'), max=15.0…"
      ]
     },
     "metadata": {},
     "output_type": "display_data"
    },
    {
     "data": {
      "application/vnd.jupyter.widget-view+json": {
       "model_id": "",
       "version_major": 2,
       "version_minor": 0
      },
      "text/plain": [
       "HBox(children=(FloatProgress(value=0.0, description='calculate covariances', layout=Layout(flex='2'), max=5.0,…"
      ]
     },
     "metadata": {},
     "output_type": "display_data"
    },
    {
     "data": {
      "application/vnd.jupyter.widget-view+json": {
       "model_id": "",
       "version_major": 2,
       "version_minor": 0
      },
      "text/plain": [
       "HBox(children=(FloatProgress(value=0.0, description='calculate covariances', layout=Layout(flex='2'), max=15.0…"
      ]
     },
     "metadata": {},
     "output_type": "display_data"
    },
    {
     "data": {
      "application/vnd.jupyter.widget-view+json": {
       "model_id": "",
       "version_major": 2,
       "version_minor": 0
      },
      "text/plain": [
       "HBox(children=(FloatProgress(value=0.0, description='calculate covariances', layout=Layout(flex='2'), max=5.0,…"
      ]
     },
     "metadata": {},
     "output_type": "display_data"
    },
    {
     "data": {
      "application/vnd.jupyter.widget-view+json": {
       "model_id": "",
       "version_major": 2,
       "version_minor": 0
      },
      "text/plain": [
       "HBox(children=(FloatProgress(value=0.0, description='calculate covariances', layout=Layout(flex='2'), max=15.0…"
      ]
     },
     "metadata": {},
     "output_type": "display_data"
    },
    {
     "data": {
      "application/vnd.jupyter.widget-view+json": {
       "model_id": "",
       "version_major": 2,
       "version_minor": 0
      },
      "text/plain": [
       "HBox(children=(FloatProgress(value=0.0, description='calculate covariances', layout=Layout(flex='2'), max=5.0,…"
      ]
     },
     "metadata": {},
     "output_type": "display_data"
    },
    {
     "data": {
      "application/vnd.jupyter.widget-view+json": {
       "model_id": "",
       "version_major": 2,
       "version_minor": 0
      },
      "text/plain": [
       "HBox(children=(FloatProgress(value=0.0, description='calculate covariances', layout=Layout(flex='2'), max=15.0…"
      ]
     },
     "metadata": {},
     "output_type": "display_data"
    },
    {
     "data": {
      "application/vnd.jupyter.widget-view+json": {
       "model_id": "",
       "version_major": 2,
       "version_minor": 0
      },
      "text/plain": [
       "HBox(children=(FloatProgress(value=0.0, description='calculate covariances', layout=Layout(flex='2'), max=5.0,…"
      ]
     },
     "metadata": {},
     "output_type": "display_data"
    },
    {
     "data": {
      "application/vnd.jupyter.widget-view+json": {
       "model_id": "",
       "version_major": 2,
       "version_minor": 0
      },
      "text/plain": [
       "HBox(children=(FloatProgress(value=0.0, description='calculate covariances', layout=Layout(flex='2'), max=15.0…"
      ]
     },
     "metadata": {},
     "output_type": "display_data"
    },
    {
     "data": {
      "application/vnd.jupyter.widget-view+json": {
       "model_id": "",
       "version_major": 2,
       "version_minor": 0
      },
      "text/plain": [
       "HBox(children=(FloatProgress(value=0.0, description='calculate covariances', layout=Layout(flex='2'), max=5.0,…"
      ]
     },
     "metadata": {},
     "output_type": "display_data"
    },
    {
     "data": {
      "application/vnd.jupyter.widget-view+json": {
       "model_id": "",
       "version_major": 2,
       "version_minor": 0
      },
      "text/plain": [
       "HBox(children=(FloatProgress(value=0.0, description='calculate covariances', layout=Layout(flex='2'), max=15.0…"
      ]
     },
     "metadata": {},
     "output_type": "display_data"
    },
    {
     "data": {
      "application/vnd.jupyter.widget-view+json": {
       "model_id": "",
       "version_major": 2,
       "version_minor": 0
      },
      "text/plain": [
       "HBox(children=(FloatProgress(value=0.0, description='calculate covariances', layout=Layout(flex='2'), max=5.0,…"
      ]
     },
     "metadata": {},
     "output_type": "display_data"
    },
    {
     "data": {
      "application/vnd.jupyter.widget-view+json": {
       "model_id": "",
       "version_major": 2,
       "version_minor": 0
      },
      "text/plain": [
       "HBox(children=(FloatProgress(value=0.0, description='calculate covariances', layout=Layout(flex='2'), max=15.0…"
      ]
     },
     "metadata": {},
     "output_type": "display_data"
    },
    {
     "data": {
      "application/vnd.jupyter.widget-view+json": {
       "model_id": "",
       "version_major": 2,
       "version_minor": 0
      },
      "text/plain": [
       "HBox(children=(FloatProgress(value=0.0, description='calculate covariances', layout=Layout(flex='2'), max=5.0,…"
      ]
     },
     "metadata": {},
     "output_type": "display_data"
    },
    {
     "data": {
      "application/vnd.jupyter.widget-view+json": {
       "model_id": "",
       "version_major": 2,
       "version_minor": 0
      },
      "text/plain": [
       "HBox(children=(FloatProgress(value=0.0, description='calculate covariances', layout=Layout(flex='2'), max=15.0…"
      ]
     },
     "metadata": {},
     "output_type": "display_data"
    },
    {
     "data": {
      "application/vnd.jupyter.widget-view+json": {
       "model_id": "",
       "version_major": 2,
       "version_minor": 0
      },
      "text/plain": [
       "HBox(children=(FloatProgress(value=0.0, description='calculate covariances', layout=Layout(flex='2'), max=5.0,…"
      ]
     },
     "metadata": {},
     "output_type": "display_data"
    },
    {
     "data": {
      "application/vnd.jupyter.widget-view+json": {
       "model_id": "",
       "version_major": 2,
       "version_minor": 0
      },
      "text/plain": [
       "HBox(children=(FloatProgress(value=0.0, description='calculate covariances', layout=Layout(flex='2'), max=15.0…"
      ]
     },
     "metadata": {},
     "output_type": "display_data"
    },
    {
     "data": {
      "application/vnd.jupyter.widget-view+json": {
       "model_id": "",
       "version_major": 2,
       "version_minor": 0
      },
      "text/plain": [
       "HBox(children=(FloatProgress(value=0.0, description='calculate covariances', layout=Layout(flex='2'), max=5.0,…"
      ]
     },
     "metadata": {},
     "output_type": "display_data"
    },
    {
     "data": {
      "application/vnd.jupyter.widget-view+json": {
       "model_id": "",
       "version_major": 2,
       "version_minor": 0
      },
      "text/plain": [
       "HBox(children=(FloatProgress(value=0.0, description='calculate covariances', layout=Layout(flex='2'), max=15.0…"
      ]
     },
     "metadata": {},
     "output_type": "display_data"
    },
    {
     "data": {
      "application/vnd.jupyter.widget-view+json": {
       "model_id": "",
       "version_major": 2,
       "version_minor": 0
      },
      "text/plain": [
       "HBox(children=(FloatProgress(value=0.0, description='calculate covariances', layout=Layout(flex='2'), max=5.0,…"
      ]
     },
     "metadata": {},
     "output_type": "display_data"
    },
    {
     "data": {
      "application/vnd.jupyter.widget-view+json": {
       "model_id": "",
       "version_major": 2,
       "version_minor": 0
      },
      "text/plain": [
       "HBox(children=(FloatProgress(value=0.0, description='calculate covariances', layout=Layout(flex='2'), max=15.0…"
      ]
     },
     "metadata": {},
     "output_type": "display_data"
    },
    {
     "data": {
      "application/vnd.jupyter.widget-view+json": {
       "model_id": "",
       "version_major": 2,
       "version_minor": 0
      },
      "text/plain": [
       "HBox(children=(FloatProgress(value=0.0, description='calculate covariances', layout=Layout(flex='2'), max=5.0,…"
      ]
     },
     "metadata": {},
     "output_type": "display_data"
    },
    {
     "data": {
      "application/vnd.jupyter.widget-view+json": {
       "model_id": "",
       "version_major": 2,
       "version_minor": 0
      },
      "text/plain": [
       "HBox(children=(FloatProgress(value=0.0, description='calculate covariances', layout=Layout(flex='2'), max=15.0…"
      ]
     },
     "metadata": {},
     "output_type": "display_data"
    },
    {
     "data": {
      "application/vnd.jupyter.widget-view+json": {
       "model_id": "",
       "version_major": 2,
       "version_minor": 0
      },
      "text/plain": [
       "HBox(children=(FloatProgress(value=0.0, description='calculate covariances', layout=Layout(flex='2'), max=5.0,…"
      ]
     },
     "metadata": {},
     "output_type": "display_data"
    },
    {
     "data": {
      "application/vnd.jupyter.widget-view+json": {
       "model_id": "",
       "version_major": 2,
       "version_minor": 0
      },
      "text/plain": [
       "HBox(children=(FloatProgress(value=0.0, description='calculate covariances', layout=Layout(flex='2'), max=15.0…"
      ]
     },
     "metadata": {},
     "output_type": "display_data"
    },
    {
     "data": {
      "application/vnd.jupyter.widget-view+json": {
       "model_id": "",
       "version_major": 2,
       "version_minor": 0
      },
      "text/plain": [
       "HBox(children=(FloatProgress(value=0.0, description='calculate covariances', layout=Layout(flex='2'), max=5.0,…"
      ]
     },
     "metadata": {},
     "output_type": "display_data"
    },
    {
     "data": {
      "application/vnd.jupyter.widget-view+json": {
       "model_id": "",
       "version_major": 2,
       "version_minor": 0
      },
      "text/plain": [
       "HBox(children=(FloatProgress(value=0.0, description='calculate covariances', layout=Layout(flex='2'), max=15.0…"
      ]
     },
     "metadata": {},
     "output_type": "display_data"
    },
    {
     "data": {
      "application/vnd.jupyter.widget-view+json": {
       "model_id": "",
       "version_major": 2,
       "version_minor": 0
      },
      "text/plain": [
       "HBox(children=(FloatProgress(value=0.0, description='calculate covariances', layout=Layout(flex='2'), max=5.0,…"
      ]
     },
     "metadata": {},
     "output_type": "display_data"
    },
    {
     "data": {
      "application/vnd.jupyter.widget-view+json": {
       "model_id": "",
       "version_major": 2,
       "version_minor": 0
      },
      "text/plain": [
       "HBox(children=(FloatProgress(value=0.0, description='calculate covariances', layout=Layout(flex='2'), max=15.0…"
      ]
     },
     "metadata": {},
     "output_type": "display_data"
    },
    {
     "data": {
      "application/vnd.jupyter.widget-view+json": {
       "model_id": "",
       "version_major": 2,
       "version_minor": 0
      },
      "text/plain": [
       "HBox(children=(FloatProgress(value=0.0, description='calculate covariances', layout=Layout(flex='2'), max=5.0,…"
      ]
     },
     "metadata": {},
     "output_type": "display_data"
    },
    {
     "data": {
      "application/vnd.jupyter.widget-view+json": {
       "model_id": "",
       "version_major": 2,
       "version_minor": 0
      },
      "text/plain": [
       "HBox(children=(FloatProgress(value=0.0, description='calculate covariances', layout=Layout(flex='2'), max=15.0…"
      ]
     },
     "metadata": {},
     "output_type": "display_data"
    },
    {
     "data": {
      "application/vnd.jupyter.widget-view+json": {
       "model_id": "",
       "version_major": 2,
       "version_minor": 0
      },
      "text/plain": [
       "HBox(children=(FloatProgress(value=0.0, description='calculate covariances', layout=Layout(flex='2'), max=5.0,…"
      ]
     },
     "metadata": {},
     "output_type": "display_data"
    },
    {
     "data": {
      "application/vnd.jupyter.widget-view+json": {
       "model_id": "",
       "version_major": 2,
       "version_minor": 0
      },
      "text/plain": [
       "HBox(children=(FloatProgress(value=0.0, description='calculate covariances', layout=Layout(flex='2'), max=15.0…"
      ]
     },
     "metadata": {},
     "output_type": "display_data"
    },
    {
     "data": {
      "application/vnd.jupyter.widget-view+json": {
       "model_id": "",
       "version_major": 2,
       "version_minor": 0
      },
      "text/plain": [
       "HBox(children=(FloatProgress(value=0.0, description='calculate covariances', layout=Layout(flex='2'), max=5.0,…"
      ]
     },
     "metadata": {},
     "output_type": "display_data"
    },
    {
     "data": {
      "application/vnd.jupyter.widget-view+json": {
       "model_id": "",
       "version_major": 2,
       "version_minor": 0
      },
      "text/plain": [
       "HBox(children=(FloatProgress(value=0.0, description='calculate covariances', layout=Layout(flex='2'), max=15.0…"
      ]
     },
     "metadata": {},
     "output_type": "display_data"
    },
    {
     "data": {
      "application/vnd.jupyter.widget-view+json": {
       "model_id": "",
       "version_major": 2,
       "version_minor": 0
      },
      "text/plain": [
       "HBox(children=(FloatProgress(value=0.0, description='calculate covariances', layout=Layout(flex='2'), max=5.0,…"
      ]
     },
     "metadata": {},
     "output_type": "display_data"
    },
    {
     "data": {
      "image/png": "[encoded data removed]",
      "text/plain": [
       "<Figure size 432x288 with 1 Axes>"
      ]
     },
     "metadata": {
      "needs_background": "light"
     },
     "output_type": "display_data"
    }
   ],
   "source": [
    "lags = [1, 2, 5, 50]\n",
    "dims = [i + i for i in range(1,6)]\n",
    "\n",
    "fig, ax = plt.subplots()\n",
    "for i, lag in enumerate(lags):\n",
    "    scores_ = np.array([score_cv(distca_data, dim, lag)\n",
    "                        for dim in dims])\n",
    "    scores = np.mean(scores_, axis=1)\n",
    "    errors = np.std(scores_, axis=1, ddof=1)\n",
    "    color = 'C{}'.format(i)\n",
    "    ax.fill_between(dims, scores - errors, scores + errors, alpha=0.3, facecolor=color)\n",
    "    ax.plot(dims, scores, '--o', color=color, label='lag={:.1f}ns'.format(lag * 0.5))\n",
    "ax.legend()\n",
    "ax.set_xlabel('number of dimensions')\n",
    "ax.set_ylabel('VAMP2 score')\n",
    "fig.tight_layout()"
   ]
  },
  {
   "cell_type": "code",
   "execution_count": null,
   "metadata": {},
   "outputs": [],
   "source": []
  }
 ],
 "metadata": {
  "kernelspec": {
   "display_name": "Python 3",
   "language": "python",
   "name": "python3"
  },
  "language_info": {
   "codemirror_mode": {
    "name": "ipython",
    "version": 3
   },
   "file_extension": ".py",
   "mimetype": "text/x-python",
   "name": "python",
   "nbconvert_exporter": "python",
   "pygments_lexer": "ipython3",
   "version": "3.7.6"
  },
  "toc": {
   "base_numbering": 1,
   "nav_menu": {},
   "number_sections": true,
   "sideBar": true,
   "skip_h1_title": false,
   "title_cell": "Table of Contents",
   "title_sidebar": "Contents",
   "toc_cell": false,
   "toc_position": {},
   "toc_section_display": true,
   "toc_window_display": false
  }
 },
 "nbformat": 4,
 "nbformat_minor": 4
}
