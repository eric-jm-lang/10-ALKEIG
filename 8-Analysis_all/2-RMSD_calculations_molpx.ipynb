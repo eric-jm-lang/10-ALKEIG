{
 "cells": [
  {
   "cell_type": "code",
   "execution_count": 1,
   "metadata": {},
   "outputs": [
    {
     "data": {
      "application/vnd.jupyter.widget-view+json": {
       "model_id": "0f385fefc000444397cb042b55eb471b",
       "version_major": 2,
       "version_minor": 0
      },
      "text/plain": [
       "_ColormakerRegistry()"
      ]
     },
     "metadata": {},
     "output_type": "display_data"
    }
   ],
   "source": [
    "%matplotlib ipympl\n",
    "from matplotlib import pylab as plt\n",
    "import matplotlib\n",
    "import molpx\n",
    "import mdtraj as md\n",
    "\n",
    "import numpy as np\n",
    "import pandas as pd\n",
    "\n",
    "import pytraj as pt\n",
    "import pyemma\n",
    "\n",
    "#import matplotlib \n",
    "#import matplotlib.pyplot as plt\n",
    "import seaborn as sns\n",
    "\n",
    "import os\n",
    "import sys\n",
    "import glob"
   ]
  },
  {
   "cell_type": "markdown",
   "metadata": {},
   "source": [
    "## Load reference structures"
   ]
  },
  {
   "cell_type": "code",
   "execution_count": 2,
   "metadata": {},
   "outputs": [],
   "source": [
    "rf0=pt.load('./parm_rst/closed6_dry_rot0.rst7', './parm_rst/closed6_dry_rot0.parm7')\n",
    "rf1=pt.load('./parm_rst/closed6_dry_rot1.rst7', './parm_rst/closed6_dry_rot1.parm7')\n",
    "rf2=pt.load('./parm_rst/closed6_dry_rot2.rst7', './parm_rst/closed6_dry_rot2.parm7')\n",
    "rf3=pt.load('./parm_rst/closed6_dry_rot3.rst7', './parm_rst/closed6_dry_rot3.parm7')\n",
    "rf4=pt.load('./parm_rst/closed6_dry_rot4.rst7', './parm_rst/closed6_dry_rot4.parm7')\n",
    "rf5=pt.load('./parm_rst/closed6_dry_rot5.rst7', './parm_rst/closed6_dry_rot5.parm7')\n",
    "\n",
    "rfopen=pt.load('./parm_rst/open10_dry.rst7', './parm_rst/open10_dry.parm7')"
   ]
  },
  {
   "cell_type": "markdown",
   "metadata": {},
   "source": [
    "## Free energy surface plot"
   ]
  },
  {
   "cell_type": "markdown",
   "metadata": {},
   "source": [
    "List the trajectories"
   ]
  },
  {
   "cell_type": "code",
   "execution_count": 3,
   "metadata": {},
   "outputs": [
    {
     "data": {
      "text/plain": [
       "['./traj_dry_open_closed_adapt_all/adapt1_dry_1.nc',\n",
       " './traj_dry_open_closed_adapt_all/adapt1_dry_10.nc',\n",
       " './traj_dry_open_closed_adapt_all/adapt1_dry_100.nc',\n",
       " './traj_dry_open_closed_adapt_all/adapt1_dry_101.nc',\n",
       " './traj_dry_open_closed_adapt_all/adapt1_dry_102.nc',\n",
       " './traj_dry_open_closed_adapt_all/adapt1_dry_105.nc',\n",
       " './traj_dry_open_closed_adapt_all/adapt1_dry_11.nc',\n",
       " './traj_dry_open_closed_adapt_all/adapt1_dry_110.nc',\n",
       " './traj_dry_open_closed_adapt_all/adapt1_dry_114.nc',\n",
       " './traj_dry_open_closed_adapt_all/adapt1_dry_115.nc',\n",
       " './traj_dry_open_closed_adapt_all/adapt1_dry_117.nc',\n",
       " './traj_dry_open_closed_adapt_all/adapt1_dry_118.nc',\n",
       " './traj_dry_open_closed_adapt_all/adapt1_dry_125.nc',\n",
       " './traj_dry_open_closed_adapt_all/adapt1_dry_129.nc',\n",
       " './traj_dry_open_closed_adapt_all/adapt1_dry_13.nc',\n",
       " './traj_dry_open_closed_adapt_all/adapt1_dry_132.nc',\n",
       " './traj_dry_open_closed_adapt_all/adapt1_dry_133.nc',\n",
       " './traj_dry_open_closed_adapt_all/adapt1_dry_134.nc',\n",
       " './traj_dry_open_closed_adapt_all/adapt1_dry_135.nc',\n",
       " './traj_dry_open_closed_adapt_all/adapt1_dry_136.nc',\n",
       " './traj_dry_open_closed_adapt_all/adapt1_dry_137.nc',\n",
       " './traj_dry_open_closed_adapt_all/adapt1_dry_139.nc',\n",
       " './traj_dry_open_closed_adapt_all/adapt1_dry_14.nc',\n",
       " './traj_dry_open_closed_adapt_all/adapt1_dry_140.nc',\n",
       " './traj_dry_open_closed_adapt_all/adapt1_dry_142.nc',\n",
       " './traj_dry_open_closed_adapt_all/adapt1_dry_144.nc',\n",
       " './traj_dry_open_closed_adapt_all/adapt1_dry_15.nc',\n",
       " './traj_dry_open_closed_adapt_all/adapt1_dry_150.nc',\n",
       " './traj_dry_open_closed_adapt_all/adapt1_dry_151.nc',\n",
       " './traj_dry_open_closed_adapt_all/adapt1_dry_152.nc',\n",
       " './traj_dry_open_closed_adapt_all/adapt1_dry_154.nc',\n",
       " './traj_dry_open_closed_adapt_all/adapt1_dry_158.nc',\n",
       " './traj_dry_open_closed_adapt_all/adapt1_dry_159.nc',\n",
       " './traj_dry_open_closed_adapt_all/adapt1_dry_160.nc',\n",
       " './traj_dry_open_closed_adapt_all/adapt1_dry_161.nc',\n",
       " './traj_dry_open_closed_adapt_all/adapt1_dry_164.nc',\n",
       " './traj_dry_open_closed_adapt_all/adapt1_dry_165.nc',\n",
       " './traj_dry_open_closed_adapt_all/adapt1_dry_167.nc',\n",
       " './traj_dry_open_closed_adapt_all/adapt1_dry_168.nc',\n",
       " './traj_dry_open_closed_adapt_all/adapt1_dry_17.nc',\n",
       " './traj_dry_open_closed_adapt_all/adapt1_dry_170.nc',\n",
       " './traj_dry_open_closed_adapt_all/adapt1_dry_172.nc',\n",
       " './traj_dry_open_closed_adapt_all/adapt1_dry_178.nc',\n",
       " './traj_dry_open_closed_adapt_all/adapt1_dry_179.nc',\n",
       " './traj_dry_open_closed_adapt_all/adapt1_dry_18.nc',\n",
       " './traj_dry_open_closed_adapt_all/adapt1_dry_180.nc',\n",
       " './traj_dry_open_closed_adapt_all/adapt1_dry_181.nc',\n",
       " './traj_dry_open_closed_adapt_all/adapt1_dry_185.nc',\n",
       " './traj_dry_open_closed_adapt_all/adapt1_dry_187.nc',\n",
       " './traj_dry_open_closed_adapt_all/adapt1_dry_19.nc',\n",
       " './traj_dry_open_closed_adapt_all/adapt1_dry_190.nc',\n",
       " './traj_dry_open_closed_adapt_all/adapt1_dry_191.nc',\n",
       " './traj_dry_open_closed_adapt_all/adapt1_dry_192.nc',\n",
       " './traj_dry_open_closed_adapt_all/adapt1_dry_193.nc',\n",
       " './traj_dry_open_closed_adapt_all/adapt1_dry_194.nc',\n",
       " './traj_dry_open_closed_adapt_all/adapt1_dry_196.nc',\n",
       " './traj_dry_open_closed_adapt_all/adapt1_dry_2.nc',\n",
       " './traj_dry_open_closed_adapt_all/adapt1_dry_20.nc',\n",
       " './traj_dry_open_closed_adapt_all/adapt1_dry_201.nc',\n",
       " './traj_dry_open_closed_adapt_all/adapt1_dry_204.nc',\n",
       " './traj_dry_open_closed_adapt_all/adapt1_dry_206.nc',\n",
       " './traj_dry_open_closed_adapt_all/adapt1_dry_209.nc',\n",
       " './traj_dry_open_closed_adapt_all/adapt1_dry_21.nc',\n",
       " './traj_dry_open_closed_adapt_all/adapt1_dry_210.nc',\n",
       " './traj_dry_open_closed_adapt_all/adapt1_dry_211.nc',\n",
       " './traj_dry_open_closed_adapt_all/adapt1_dry_212.nc',\n",
       " './traj_dry_open_closed_adapt_all/adapt1_dry_214.nc',\n",
       " './traj_dry_open_closed_adapt_all/adapt1_dry_216.nc',\n",
       " './traj_dry_open_closed_adapt_all/adapt1_dry_218.nc',\n",
       " './traj_dry_open_closed_adapt_all/adapt1_dry_219.nc',\n",
       " './traj_dry_open_closed_adapt_all/adapt1_dry_222.nc',\n",
       " './traj_dry_open_closed_adapt_all/adapt1_dry_223.nc',\n",
       " './traj_dry_open_closed_adapt_all/adapt1_dry_224.nc',\n",
       " './traj_dry_open_closed_adapt_all/adapt1_dry_226.nc',\n",
       " './traj_dry_open_closed_adapt_all/adapt1_dry_229.nc',\n",
       " './traj_dry_open_closed_adapt_all/adapt1_dry_237.nc',\n",
       " './traj_dry_open_closed_adapt_all/adapt1_dry_238.nc',\n",
       " './traj_dry_open_closed_adapt_all/adapt1_dry_239.nc',\n",
       " './traj_dry_open_closed_adapt_all/adapt1_dry_24.nc',\n",
       " './traj_dry_open_closed_adapt_all/adapt1_dry_240.nc',\n",
       " './traj_dry_open_closed_adapt_all/adapt1_dry_241.nc',\n",
       " './traj_dry_open_closed_adapt_all/adapt1_dry_245.nc',\n",
       " './traj_dry_open_closed_adapt_all/adapt1_dry_25.nc',\n",
       " './traj_dry_open_closed_adapt_all/adapt1_dry_27.nc',\n",
       " './traj_dry_open_closed_adapt_all/adapt1_dry_29.nc',\n",
       " './traj_dry_open_closed_adapt_all/adapt1_dry_3.nc',\n",
       " './traj_dry_open_closed_adapt_all/adapt1_dry_34.nc',\n",
       " './traj_dry_open_closed_adapt_all/adapt1_dry_35.nc',\n",
       " './traj_dry_open_closed_adapt_all/adapt1_dry_36.nc',\n",
       " './traj_dry_open_closed_adapt_all/adapt1_dry_37.nc',\n",
       " './traj_dry_open_closed_adapt_all/adapt1_dry_38.nc',\n",
       " './traj_dry_open_closed_adapt_all/adapt1_dry_39.nc',\n",
       " './traj_dry_open_closed_adapt_all/adapt1_dry_4.nc',\n",
       " './traj_dry_open_closed_adapt_all/adapt1_dry_40.nc',\n",
       " './traj_dry_open_closed_adapt_all/adapt1_dry_41.nc',\n",
       " './traj_dry_open_closed_adapt_all/adapt1_dry_43.nc',\n",
       " './traj_dry_open_closed_adapt_all/adapt1_dry_44.nc',\n",
       " './traj_dry_open_closed_adapt_all/adapt1_dry_47.nc',\n",
       " './traj_dry_open_closed_adapt_all/adapt1_dry_49.nc',\n",
       " './traj_dry_open_closed_adapt_all/adapt1_dry_51.nc',\n",
       " './traj_dry_open_closed_adapt_all/adapt1_dry_54.nc',\n",
       " './traj_dry_open_closed_adapt_all/adapt1_dry_55.nc',\n",
       " './traj_dry_open_closed_adapt_all/adapt1_dry_56.nc',\n",
       " './traj_dry_open_closed_adapt_all/adapt1_dry_57.nc',\n",
       " './traj_dry_open_closed_adapt_all/adapt1_dry_58.nc',\n",
       " './traj_dry_open_closed_adapt_all/adapt1_dry_59.nc',\n",
       " './traj_dry_open_closed_adapt_all/adapt1_dry_6.nc',\n",
       " './traj_dry_open_closed_adapt_all/adapt1_dry_60.nc',\n",
       " './traj_dry_open_closed_adapt_all/adapt1_dry_62.nc',\n",
       " './traj_dry_open_closed_adapt_all/adapt1_dry_65.nc',\n",
       " './traj_dry_open_closed_adapt_all/adapt1_dry_67.nc',\n",
       " './traj_dry_open_closed_adapt_all/adapt1_dry_68.nc',\n",
       " './traj_dry_open_closed_adapt_all/adapt1_dry_69.nc',\n",
       " './traj_dry_open_closed_adapt_all/adapt1_dry_7.nc',\n",
       " './traj_dry_open_closed_adapt_all/adapt1_dry_72.nc',\n",
       " './traj_dry_open_closed_adapt_all/adapt1_dry_73.nc',\n",
       " './traj_dry_open_closed_adapt_all/adapt1_dry_75.nc',\n",
       " './traj_dry_open_closed_adapt_all/adapt1_dry_79.nc',\n",
       " './traj_dry_open_closed_adapt_all/adapt1_dry_80.nc',\n",
       " './traj_dry_open_closed_adapt_all/adapt1_dry_86.nc',\n",
       " './traj_dry_open_closed_adapt_all/adapt1_dry_9.nc',\n",
       " './traj_dry_open_closed_adapt_all/adapt1_dry_93.nc',\n",
       " './traj_dry_open_closed_adapt_all/adapt1_dry_95.nc',\n",
       " './traj_dry_open_closed_adapt_all/adapt1_dry_97.nc',\n",
       " './traj_dry_open_closed_adapt_all/adapt1_dry_98.nc',\n",
       " './traj_dry_open_closed_adapt_all/adapt1_dry_99.nc',\n",
       " './traj_dry_open_closed_adapt_all/closed2_all_dry_1.nc',\n",
       " './traj_dry_open_closed_adapt_all/closed2_all_dry_2.nc',\n",
       " './traj_dry_open_closed_adapt_all/closed2_all_dry_3.nc',\n",
       " './traj_dry_open_closed_adapt_all/closed2_all_dry_4.nc',\n",
       " './traj_dry_open_closed_adapt_all/closed2_all_dry_5.nc',\n",
       " './traj_dry_open_closed_adapt_all/closed_all_dry_1.nc',\n",
       " './traj_dry_open_closed_adapt_all/closed_all_dry_2.nc',\n",
       " './traj_dry_open_closed_adapt_all/closed_all_dry_3.nc',\n",
       " './traj_dry_open_closed_adapt_all/closed_all_dry_4.nc',\n",
       " './traj_dry_open_closed_adapt_all/closed_all_dry_5.nc',\n",
       " './traj_dry_open_closed_adapt_all/open2_all_dry_1.nc',\n",
       " './traj_dry_open_closed_adapt_all/open2_all_dry_2.nc',\n",
       " './traj_dry_open_closed_adapt_all/open2_all_dry_3.nc',\n",
       " './traj_dry_open_closed_adapt_all/open2_all_dry_4.nc',\n",
       " './traj_dry_open_closed_adapt_all/open2_all_dry_5.nc',\n",
       " './traj_dry_open_closed_adapt_all/open_all_dry_1.nc',\n",
       " './traj_dry_open_closed_adapt_all/open_all_dry_2.nc',\n",
       " './traj_dry_open_closed_adapt_all/open_all_dry_3.nc',\n",
       " './traj_dry_open_closed_adapt_all/open_all_dry_4.nc',\n",
       " './traj_dry_open_closed_adapt_all/open_all_dry_5.nc']"
      ]
     },
     "execution_count": 3,
     "metadata": {},
     "output_type": "execute_result"
    }
   ],
   "source": [
    "indir = './traj_dry_open_closed_adapt_all'\n",
    "topfile = './parm_rst/open10_dry.parm7'\n",
    "from glob import glob\n",
    "traj_list = sorted(glob(indir+'/*.nc'))\n",
    "traj_list"
   ]
  },
  {
   "cell_type": "markdown",
   "metadata": {},
   "source": [
    "Calculate the RMSD of each trajectory frames with one of teh reference structure. \n",
    "6 reference structures are used for the closed form in order to account to chain symmetry. Only the minimum RMSD value for each frame with respect to the closed crystal structures is kept"
   ]
  },
  {
   "cell_type": "code",
   "execution_count": 4,
   "metadata": {},
   "outputs": [],
   "source": [
    "results_open=[]\n",
    "results_closed=[]\n",
    "for t in traj_list:\n",
    "    traj=pt.load(t, topfile)\n",
    "    rmsd0=pt.rmsd(traj,ref=rf0, mask=\"@CA,N,C,O\")\n",
    "    rmsd1=pt.rmsd(traj,ref=rf1, mask=\"@CA,N,C,O\")\n",
    "    rmsd2=pt.rmsd(traj,ref=rf2, mask=\"@CA,N,C,O\")\n",
    "    rmsd3=pt.rmsd(traj,ref=rf3, mask=\"@CA,N,C,O\")\n",
    "    rmsd4=pt.rmsd(traj,ref=rf4, mask=\"@CA,N,C,O\")\n",
    "    rmsd5=pt.rmsd(traj,ref=rf5, mask=\"@CA,N,C,O\")\n",
    "    \n",
    "    rmsd_closed=np.nanmin(np.array([rmsd0,rmsd1,rmsd2,rmsd3,rmsd4,rmsd5]), axis=0)\n",
    "    results_closed.append(rmsd_closed)\n",
    "    \n",
    "    rmsd_open=pt.rmsd(traj,ref=rfopen, mask=\"@CA,N,C,O\")\n",
    "    results_open.append(rmsd_open)"
   ]
  },
  {
   "cell_type": "markdown",
   "metadata": {},
   "source": [
    "Create a Y matrix similar to that optained with PyEMMA after TICA analysis"
   ]
  },
  {
   "cell_type": "code",
   "execution_count": 5,
   "metadata": {},
   "outputs": [
    {
     "name": "stdout",
     "output_type": "stream",
     "text": [
      "146\n",
      "1000\n",
      "2\n"
     ]
    }
   ],
   "source": [
    "Y=[]\n",
    "for i in range(0,len(results_open)):  \n",
    "    Z=[]\n",
    "    for j in range(0,len(results_open[i])):\n",
    "        a=np.array([results_closed[i][j],results_open[i][j]])\n",
    "        Z.append(a)\n",
    "    Z=np.array(Z)\n",
    "    Y.append(Z)\n",
    "print(len(Y))\n",
    "print(len(Y[0]))\n",
    "print(len(Y[0][0]))"
   ]
  },
  {
   "cell_type": "markdown",
   "metadata": {},
   "source": [
    "Plot interactive FES "
   ]
  },
  {
   "cell_type": "code",
   "execution_count": 6,
   "metadata": {
    "slideshow": {
     "slide_type": "slide"
    }
   },
   "outputs": [
    {
     "data": {
      "application/vnd.jupyter.widget-view+json": {
       "model_id": "",
       "version_major": 2,
       "version_minor": 0
      },
      "text/plain": [
       "HBox(children=(FloatProgress(value=0.0, description='Obtaining file info', layout=Layout(flex='2'), max=146.0,…"
      ]
     },
     "metadata": {},
     "output_type": "display_data"
    },
    {
     "name": "stdout",
     "output_type": "stream",
     "text": [
      "17-12-19 14:20:03 pyemma.coordinates.clustering.regspace.RegularSpaceClustering[0] WARNING  Maximum number of cluster centers reached. Consider increasing max_centers or choose a larger minimum distance, dmin.\n",
      "17-12-19 14:20:03 pyemma.coordinates.clustering.regspace.RegularSpaceClustering[0] INFO     Presumably finished estimation. Message: Used data for centers: 0.97%\n"
     ]
    },
    {
     "name": "stderr",
     "output_type": "stream",
     "text": [
      "/home/el14718/Software/anaconda3_2019/lib/python3.7/site-packages/pyemma/coordinates/clustering/regspace.py:153: UserWarning: Maximum number of cluster centers reached. Consider increasing max_centers or choose a larger minimum distance, dmin.\n",
      "  warnings.warn(msg)\n"
     ]
    },
    {
     "name": "stdout",
     "output_type": "stream",
     "text": [
      "17-12-19 14:20:09 pyemma.coordinates.clustering.regspace.RegularSpaceClustering[2] WARNING  Maximum number of cluster centers reached. Consider increasing max_centers or choose a larger minimum distance, dmin.\n",
      "17-12-19 14:20:09 pyemma.coordinates.clustering.regspace.RegularSpaceClustering[2] INFO     Presumably finished estimation. Message: Used data for centers: 6.12%\n"
     ]
    },
    {
     "name": "stderr",
     "output_type": "stream",
     "text": [
      "/home/el14718/Software/anaconda3_2019/lib/python3.7/site-packages/pyemma/coordinates/clustering/regspace.py:153: UserWarning: Maximum number of cluster centers reached. Consider increasing max_centers or choose a larger minimum distance, dmin.\n",
      "  warnings.warn(msg)\n"
     ]
    },
    {
     "data": {
      "application/vnd.jupyter.widget-view+json": {
       "model_id": "",
       "version_major": 2,
       "version_minor": 0
      },
      "text/plain": [
       "HBox(children=(FloatProgress(value=0.0, description='getting output of RegularSpaceClustering', layout=Layout(…"
      ]
     },
     "metadata": {},
     "output_type": "display_data"
    },
    {
     "name": "stdout",
     "output_type": "stream",
     "text": [
      "\r"
     ]
    },
    {
     "data": {
      "application/vnd.jupyter.widget-view+json": {
       "model_id": "2901142cb7944afda430e64611ddf166",
       "version_major": 2,
       "version_minor": 0
      },
      "text/plain": [
       "MolPXHBox(children=(NGLWidget(max_frame=862), FigureCanvasNbAgg()))"
      ]
     },
     "metadata": {},
     "output_type": "display_data"
    }
   ],
   "source": [
    "mpx_wdg_box = molpx.visualize.FES(traj_list, topfile, Y, nbins=200, n_sample= 1000,\n",
    "                                  proj_labels=[r'RMSD to closed crystal structure ($\\AA$)',\n",
    "                                               r'RMSD to open crystal structure ($\\AA$)'])\n",
    "mpx_wdg_box.linked_ngl_wdgs[0].camera = 'orthographic'\n",
    "mpx_wdg_box"
   ]
  },
  {
   "cell_type": "code",
   "execution_count": 43,
   "metadata": {},
   "outputs": [],
   "source": [
    "mpx_wdg_box.linked_ngl_wdgs[0].remove_line()\n",
    "mpx_wdg_box.linked_ngl_wdgs[0].remove_licorice()\n",
    "mpx_wdg_box.linked_ngl_wdgs[0].remove_surface()"
   ]
  },
  {
   "cell_type": "code",
   "execution_count": 42,
   "metadata": {},
   "outputs": [],
   "source": [
    "mpx_wdg_box.linked_ngl_wdgs[0].add_line(selection=\"(not hydrogen) and (not backbone)\")"
   ]
  },
  {
   "cell_type": "code",
   "execution_count": null,
   "metadata": {},
   "outputs": [],
   "source": [
    "mpx_wdg_box.linked_ngl_wdgs[0].add_surface(selection=\"all\", surfacetype=\"ms\",probeRadius=0.8 )"
   ]
  },
  {
   "cell_type": "markdown",
   "metadata": {},
   "source": [
    "K-mean clustering"
   ]
  },
  {
   "cell_type": "code",
   "execution_count": null,
   "metadata": {},
   "outputs": [],
   "source": [
    "n_clusters = 14\n",
    "clustering = pyemma.coordinates.cluster_kmeans(Y,k=n_clusters, max_iter=1000, fixed_seed=True,\n",
    "                                               n_jobs=1, init_strategy='uniform')"
   ]
  },
  {
   "cell_type": "code",
   "execution_count": null,
   "metadata": {},
   "outputs": [],
   "source": [
    "def plot_labels(ax=None):\n",
    "    #if ax is None:\n",
    "        #ax = gca()\n",
    "    for i in range(0,len(clustering.clustercenters)):\n",
    "        plt.text(clustering.clustercenters[i][0]+0.04, clustering.clustercenters[i][1]+0.04, \n",
    "                 i, fontsize=10, color='white')\n"
   ]
  },
  {
   "cell_type": "code",
   "execution_count": null,
   "metadata": {},
   "outputs": [],
   "source": [
    "pyemma.plots.plot_free_energy(np.vstack(Y)[:, 0], np.vstack(Y)[:, 1])\n",
    "cc_x = clustering.clustercenters[:, 0]\n",
    "cc_y = clustering.clustercenters[:, 1]\n",
    "plt.plot(cc_x, cc_y, linewidth=0, marker='o', markersize=5, color='white')\n",
    "plot_labels()"
   ]
  },
  {
   "cell_type": "markdown",
   "metadata": {},
   "source": [
    "Extract representative structures"
   ]
  },
  {
   "cell_type": "code",
   "execution_count": null,
   "metadata": {},
   "outputs": [],
   "source": [
    "clkmeans = pyemma.coordinates.cluster_kmeans([iY[:,:2] for iY in Y], 10)"
   ]
  },
  {
   "cell_type": "code",
   "execution_count": null,
   "metadata": {},
   "outputs": [],
   "source": [
    "data_sample, geoms = molpx.generate.sample(traj_list, topfile, clkmeans,n_geom_samples=50)"
   ]
  },
  {
   "cell_type": "markdown",
   "metadata": {},
   "source": [
    "## Free energy surface for IPA containing simulations"
   ]
  },
  {
   "cell_type": "code",
   "execution_count": 7,
   "metadata": {},
   "outputs": [
    {
     "data": {
      "text/plain": [
       "['./traj_IPA_dry/open_ipa_dry_1.nc',\n",
       " './traj_IPA_dry/open_ipa_dry_2.nc',\n",
       " './traj_IPA_dry/open_ipa_dry_3.nc',\n",
       " './traj_IPA_dry/open_ipa_dry_4.nc',\n",
       " './traj_IPA_dry/open_ipa_dry_5.nc']"
      ]
     },
     "execution_count": 7,
     "metadata": {},
     "output_type": "execute_result"
    }
   ],
   "source": [
    "indir = './traj_IPA_dry'\n",
    "topfile = './parm_rst/open10_dry.parm7'\n",
    "from glob import glob\n",
    "traj_list2 = sorted(glob(indir+'/*.nc'))\n",
    "traj_list2"
   ]
  },
  {
   "cell_type": "code",
   "execution_count": 8,
   "metadata": {},
   "outputs": [],
   "source": [
    "results_open_ipa=[]\n",
    "results_closed_ipa=[]\n",
    "for t in traj_list2:\n",
    "    traj=pt.load(t, topfile)\n",
    "    rmsd0=pt.rmsd(traj,ref=rf0, mask=\"@CA,N,C,O\")\n",
    "    rmsd1=pt.rmsd(traj,ref=rf1, mask=\"@CA,N,C,O\")\n",
    "    rmsd2=pt.rmsd(traj,ref=rf2, mask=\"@CA,N,C,O\")\n",
    "    rmsd3=pt.rmsd(traj,ref=rf3, mask=\"@CA,N,C,O\")\n",
    "    rmsd4=pt.rmsd(traj,ref=rf4, mask=\"@CA,N,C,O\")\n",
    "    rmsd5=pt.rmsd(traj,ref=rf5, mask=\"@CA,N,C,O\")\n",
    "    \n",
    "    rmsd_closed_ipa=np.nanmin(np.array([rmsd0,rmsd1,rmsd2,rmsd3,rmsd4,rmsd5]), axis=0)\n",
    "    results_closed_ipa.append(rmsd_closed_ipa)\n",
    "    \n",
    "    rmsd_open_ipa=pt.rmsd(traj,ref=rfopen, mask=\"@CA,N,C,O\")\n",
    "    results_open_ipa.append(rmsd_open_ipa)"
   ]
  },
  {
   "cell_type": "code",
   "execution_count": 9,
   "metadata": {},
   "outputs": [],
   "source": [
    "Y_ipa=[]\n",
    "for i in range(0,len(results_open_ipa)):  \n",
    "    Z_ipa=[]\n",
    "    for j in range(0,len(results_open_ipa[i])):\n",
    "        a_ipa=np.array([results_closed_ipa[i][j],results_open_ipa[i][j]])\n",
    "        Z_ipa.append(a_ipa)\n",
    "    Z_ipa=np.array(Z_ipa)\n",
    "    Y_ipa.append(Z_ipa)"
   ]
  },
  {
   "cell_type": "code",
   "execution_count": 10,
   "metadata": {},
   "outputs": [
    {
     "data": {
      "application/vnd.jupyter.widget-view+json": {
       "model_id": "",
       "version_major": 2,
       "version_minor": 0
      },
      "text/plain": [
       "HBox(children=(FloatProgress(value=0.0, description='Obtaining file info', layout=Layout(flex='2'), max=5.0, s…"
      ]
     },
     "metadata": {},
     "output_type": "display_data"
    },
    {
     "name": "stdout",
     "output_type": "stream",
     "text": [
      "17-12-19 14:32:15 pyemma.coordinates.clustering.regspace.RegularSpaceClustering[23] WARNING  Maximum number of cluster centers reached. Consider increasing max_centers or choose a larger minimum distance, dmin.\n",
      "17-12-19 14:32:15 pyemma.coordinates.clustering.regspace.RegularSpaceClustering[23] INFO     Presumably finished estimation. Message: Used data for centers: 40.00%\n"
     ]
    },
    {
     "name": "stderr",
     "output_type": "stream",
     "text": [
      "/home/el14718/Software/anaconda3_2019/lib/python3.7/site-packages/pyemma/coordinates/clustering/regspace.py:153: UserWarning: Maximum number of cluster centers reached. Consider increasing max_centers or choose a larger minimum distance, dmin.\n",
      "  warnings.warn(msg)\n"
     ]
    },
    {
     "data": {
      "application/vnd.jupyter.widget-view+json": {
       "model_id": "",
       "version_major": 2,
       "version_minor": 0
      },
      "text/plain": [
       "HBox(children=(FloatProgress(value=0.0, description='getting output of RegularSpaceClustering', layout=Layout(…"
      ]
     },
     "metadata": {},
     "output_type": "display_data"
    },
    {
     "name": "stdout",
     "output_type": "stream",
     "text": [
      "\r"
     ]
    },
    {
     "data": {
      "application/vnd.jupyter.widget-view+json": {
       "model_id": "2162c45105d647bc89d0bfa54926a153",
       "version_major": 2,
       "version_minor": 0
      },
      "text/plain": [
       "MolPXHBox(children=(NGLWidget(max_frame=481), FigureCanvasNbAgg()))"
      ]
     },
     "metadata": {},
     "output_type": "display_data"
    }
   ],
   "source": [
    "mpx_wdg_box_ipa = molpx.visualize.FES(traj_list2, topfile, Y_ipa, nbins=200, n_sample= 500,\n",
    "                                  proj_labels=[r'RMSD to closed crystal structure ($\\AA$)',\n",
    "                                               r'RMSD to open crystal structure ($\\AA$)'])\n",
    "mpx_wdg_box_ipa.linked_ngl_wdgs[0].camera = 'orthographic'\n",
    "mpx_wdg_box_ipa"
   ]
  },
  {
   "cell_type": "code",
   "execution_count": 41,
   "metadata": {},
   "outputs": [],
   "source": [
    "mpx_wdg_box_ipa.linked_ngl_wdgs[0].remove_line()\n",
    "mpx_wdg_box_ipa.linked_ngl_wdgs[0].remove_licorice()\n",
    "mpx_wdg_box_ipa.linked_ngl_wdgs[0].remove_surface()"
   ]
  },
  {
   "cell_type": "code",
   "execution_count": 35,
   "metadata": {},
   "outputs": [],
   "source": [
    "mpx_wdg_box_ipa.linked_ngl_wdgs[0].add_surface(selection=\"all\", surfacetype=\"ms\",probeRadius=0.8 )"
   ]
  },
  {
   "cell_type": "code",
   "execution_count": 36,
   "metadata": {},
   "outputs": [],
   "source": [
    "mpx_wdg_box_ipa.linked_ngl_wdgs[0].add_line(selection=\"(not hydrogen) and (not backbone)\")"
   ]
  },
  {
   "cell_type": "code",
   "execution_count": null,
   "metadata": {},
   "outputs": [],
   "source": []
  },
  {
   "cell_type": "code",
   "execution_count": null,
   "metadata": {},
   "outputs": [],
   "source": []
  },
  {
   "cell_type": "code",
   "execution_count": null,
   "metadata": {},
   "outputs": [],
   "source": []
  },
  {
   "cell_type": "code",
   "execution_count": null,
   "metadata": {},
   "outputs": [],
   "source": [
    "rmsd_open=np.concatenate(results_open, axis=0)\n",
    "rmsd_closed=np.concatenate(results_closed, axis=0)"
   ]
  },
  {
   "cell_type": "code",
   "execution_count": null,
   "metadata": {},
   "outputs": [],
   "source": [
    "plt.plot(rmsd_closed, rmsd_open, marker=\".\", ms=0.5, ls='None') "
   ]
  },
  {
   "cell_type": "code",
   "execution_count": null,
   "metadata": {},
   "outputs": [],
   "source": [
    "pyemma.plots.plot_free_energy(rmsd_closed, rmsd_open, nbins=200)"
   ]
  },
  {
   "cell_type": "code",
   "execution_count": null,
   "metadata": {},
   "outputs": [],
   "source": [
    "n_clusters = 8\n",
    "clustering = pyemma.coordinates.cluster_kmeans(Y,k=n_clusters, max_iter=1000, n_jobs=1)"
   ]
  },
  {
   "cell_type": "code",
   "execution_count": null,
   "metadata": {},
   "outputs": [],
   "source": [
    "clustering.clustercenters"
   ]
  },
  {
   "cell_type": "code",
   "execution_count": null,
   "metadata": {},
   "outputs": [],
   "source": [
    "def plot_labels(ax=None):\n",
    "    for i in range(0,len(clustering.clustercenters)):\n",
    "        plt.text(clustering.clustercenters[i][0]+0.06, clustering.clustercenters[i][1]+0.07, \n",
    "                 i, fontsize=10, color='black')"
   ]
  },
  {
   "cell_type": "code",
   "execution_count": null,
   "metadata": {},
   "outputs": [],
   "source": [
    "pyemma.plots.plot_free_energy(np.vstack(Y)[:, 0], np.vstack(Y)[:, 1], nbins=200)\n",
    "cc_x = clustering.clustercenters[:, 0]\n",
    "cc_y = clustering.clustercenters[:, 1]\n",
    "plt.plot(cc_x, cc_y, linewidth=0, marker='o', markersize=5, color='white')\n",
    "plot_labels()"
   ]
  },
  {
   "cell_type": "code",
   "execution_count": null,
   "metadata": {},
   "outputs": [],
   "source": [
    "import molpx\n",
    "import mdtraj as md"
   ]
  },
  {
   "cell_type": "code",
   "execution_count": null,
   "metadata": {},
   "outputs": [],
   "source": [
    "indir = './Trajectories_all'\n",
    "topfile =  indir+'/open10_dry.parm7'\n",
    "from glob import glob\n",
    "traj_list = sorted(glob(indir+'/*.nc'))\n",
    "traj_list"
   ]
  },
  {
   "cell_type": "code",
   "execution_count": null,
   "metadata": {},
   "outputs": [],
   "source": [
    "mpx_wdg_box = molpx.visualize.FES(traj_list,\n",
    "                                 #MD_trajfiles,\n",
    "                                 topfile,\n",
    "                                 Y,\n",
    "                                 #Y,\n",
    "                                 nbins=50,\n",
    "                                 #proj_idxs=[1,2],\n",
    "                                 #proj_labels='RMSD',\n",
    "                                 #n_overlays=5,\n",
    "                                )\n",
    "mpx_wdg_box"
   ]
  },
  {
   "cell_type": "code",
   "execution_count": null,
   "metadata": {},
   "outputs": [],
   "source": []
  }
 ],
 "metadata": {
  "kernelspec": {
   "display_name": "Python 3",
   "language": "python",
   "name": "python3"
  },
  "language_info": {
   "codemirror_mode": {
    "name": "ipython",
    "version": 3
   },
   "file_extension": ".py",
   "mimetype": "text/x-python",
   "name": "python",
   "nbconvert_exporter": "python",
   "pygments_lexer": "ipython3",
   "version": "3.7.5"
  }
 },
 "nbformat": 4,
 "nbformat_minor": 2
}
