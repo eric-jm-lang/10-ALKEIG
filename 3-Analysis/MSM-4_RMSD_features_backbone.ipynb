{
 "cells": [
  {
   "cell_type": "code",
   "execution_count": 1,
   "metadata": {},
   "outputs": [
    {
     "name": "stdout",
     "output_type": "stream",
     "text": [
      "Python version:\n",
      "3.6.8 |Anaconda custom (64-bit)| (default, Dec 30 2018, 01:22:34) \n",
      "[GCC 7.3.0]\n",
      "\n",
      "matplotlib version: 3.1.0\n",
      "pandas version: 0.24.2\n",
      "numpy version: 1.16.4\n",
      "seaborn version: 0.9.0\n"
     ]
    }
   ],
   "source": [
    "%matplotlib ipympl\n",
    "from matplotlib import pylab as plt\n",
    "import matplotlib\n",
    "import molpx\n",
    "\n",
    "import os\n",
    "import sys\n",
    "import glob\n",
    "from itertools import cycle\n",
    "\n",
    "import numpy as np\n",
    "import pandas as pd\n",
    "\n",
    "from os.path import join\n",
    "\n",
    "import seaborn as sns\n",
    "\n",
    "import mdtraj as md\n",
    "import scipy.cluster.hierarchy\n",
    "from scipy.spatial.distance import squareform\n",
    "\n",
    "import pyemma\n",
    "\n",
    "import random\n",
    "\n",
    "from os.path import join\n",
    "\n",
    "from collections import OrderedDict\n",
    "from collections import defaultdict\n",
    "\n",
    "import unicodedata\n",
    "\n",
    "\n",
    "print(\"Python version:\\n{}\\n\".format(sys.version))\n",
    "print(\"matplotlib version: {}\".format(matplotlib.__version__))\n",
    "print(\"pandas version: {}\".format(pd.__version__))\n",
    "print(\"numpy version: {}\".format(np.__version__))\n",
    "print(\"seaborn version: {}\".format(sns.__version__))"
   ]
  },
  {
   "cell_type": "code",
   "execution_count": 28,
   "metadata": {},
   "outputs": [],
   "source": [
    "indir = './Trajectories_all_old'\n",
    "topfile =  indir+'/open10_dry.parm7'\n",
    "from glob import glob\n",
    "traj_list = glob(indir+'/*.nc')"
   ]
  },
  {
   "cell_type": "code",
   "execution_count": 29,
   "metadata": {},
   "outputs": [],
   "source": [
    "ref1 = md.load('./Trajectories_all/open10_dry.rst7', top='./Trajectories_all/open10_dry.parm7')\n",
    "ref2 = md.load('./Trajectories_all/closed10_dry.rst7', top='./Trajectories_all/closed10_dry.parm7')\n",
    "ref3 = md.load_pdb('./cluster_centre_2/0.pdb')\n",
    "ref4 = md.load_pdb('./cluster_centre_2/1.pdb')\n",
    "ref5 = md.load_pdb('./cluster_centre_2/2.pdb')\n",
    "ref6 = md.load_pdb('./cluster_centre_2/3.pdb')\n",
    "ref7 = md.load_pdb('./cluster_centre_2/4.pdb')\n",
    "ref8 = md.load_pdb('./cluster_centre_2/5.pdb')\n",
    "ref9 = md.load_pdb('./cluster_centre_2/6.pdb')\n",
    "ref10 = md.load_pdb('./cluster_centre_2/7.pdb')\n",
    "ref11 = md.load_pdb('./cluster_centre_2/8.pdb')\n",
    "ref12 = md.load_pdb('./cluster_centre_2/9.pdb')\n",
    "    "
   ]
  },
  {
   "cell_type": "code",
   "execution_count": 30,
   "metadata": {},
   "outputs": [
    {
     "name": "stdout",
     "output_type": "stream",
     "text": [
      "[atom.index for atom in topology.atoms if atom.is_backbone]\n"
     ]
    }
   ],
   "source": [
    "selection = ref1.topology.select_expression('backbone')\n",
    "print(selection)"
   ]
  },
  {
   "cell_type": "code",
   "execution_count": 31,
   "metadata": {},
   "outputs": [],
   "source": [
    "BB=[atom.index for atom in ref1.topology.atoms if atom.is_backbone]\n"
   ]
  },
  {
   "cell_type": "code",
   "execution_count": 32,
   "metadata": {},
   "outputs": [
    {
     "data": {
      "text/plain": [
       "['minrmsd to frame 0 of <mdtraj.Trajectory with 1 frames, 2808 atoms, 192 residues, and unitcells at 0x7f606ac2e780>, subset of atoms  ',\n",
       " 'minrmsd to frame 0 of <mdtraj.Trajectory with 1 frames, 2808 atoms, 192 residues, and unitcells at 0x7f606f341978>, subset of atoms  ']"
      ]
     },
     "execution_count": 32,
     "metadata": {},
     "output_type": "execute_result"
    }
   ],
   "source": [
    "feat = pyemma.coordinates.featurizer(topfile)\n",
    "feat.add_minrmsd_to_ref(ref1, atom_indices=BB)\n",
    "feat.add_minrmsd_to_ref(ref2, atom_indices=BB)\n",
    "\n",
    "\n",
    "feat.describe()"
   ]
  },
  {
   "cell_type": "code",
   "execution_count": 33,
   "metadata": {},
   "outputs": [
    {
     "data": {
      "text/plain": [
       "2"
      ]
     },
     "execution_count": 33,
     "metadata": {},
     "output_type": "execute_result"
    }
   ],
   "source": [
    "feat.dimension()"
   ]
  },
  {
   "cell_type": "code",
   "execution_count": 34,
   "metadata": {},
   "outputs": [
    {
     "data": {
      "application/vnd.jupyter.widget-view+json": {
       "model_id": "",
       "version_major": 2,
       "version_minor": 0
      },
      "text/plain": [
       "HBox(children=(HBox(children=(Label(value='Obtaining file info'),), layout=Layout(max_width='35%', min_width='…"
      ]
     },
     "metadata": {},
     "output_type": "display_data"
    },
    {
     "name": "stdout",
     "output_type": "stream",
     "text": [
      "\r"
     ]
    }
   ],
   "source": [
    "inp = pyemma.coordinates.source(traj_list, feat)"
   ]
  },
  {
   "cell_type": "code",
   "execution_count": 35,
   "metadata": {},
   "outputs": [
    {
     "name": "stdout",
     "output_type": "stream",
     "text": [
      "number of trajectories = 10\n",
      "trajectory length = 40200 frames\n",
      "trajectory time = 2010.0 ns\n",
      "trajectory time step = 50.0 ps\n",
      "number of dimension = 2\n",
      "total length = 398311 frames\n",
      "total simulated time = 19.91555 μs\n"
     ]
    }
   ],
   "source": [
    "print('number of trajectories =',inp.number_of_trajectories())\n",
    "print('trajectory length =',inp.trajectory_length(0),'frames')\n",
    "print('trajectory time =',(inp.trajectory_length(0)*50/1000),'ns')\n",
    "print('trajectory time step =',(inp.trajectory_length(0)*50)/inp.trajectory_length(0),'ps')\n",
    "print('number of dimension =',inp.dimension())\n",
    "\n",
    "S=0\n",
    "for i in range(0, inp.number_of_trajectories()):\n",
    "    #print(inp.trajectory_length(i))\n",
    "    S += inp.trajectory_length(i)\n",
    "print('total length =',S,'frames')\n",
    "T=S*50/1000000\n",
    "print('total simulated time =',T,'μs')"
   ]
  },
  {
   "cell_type": "code",
   "execution_count": 36,
   "metadata": {},
   "outputs": [
    {
     "data": {
      "application/vnd.jupyter.widget-view+json": {
       "model_id": "",
       "version_major": 2,
       "version_minor": 0
      },
      "text/plain": [
       "HBox(children=(HBox(children=(Label(value='calculate covariances'),), layout=Layout(max_width='35%', min_width…"
      ]
     },
     "metadata": {},
     "output_type": "display_data"
    },
    {
     "name": "stdout",
     "output_type": "stream",
     "text": [
      "\r",
      "TICA dimension  2\n"
     ]
    }
   ],
   "source": [
    "tica_obj = pyemma.coordinates.tica(data=inp, lag=20, var_cutoff=1)\n",
    "print('TICA dimension ', tica_obj.dimension())"
   ]
  },
  {
   "cell_type": "code",
   "execution_count": 37,
   "metadata": {},
   "outputs": [
    {
     "data": {
      "text/plain": [
       "array([0.56416682, 1.        ])"
      ]
     },
     "execution_count": 37,
     "metadata": {},
     "output_type": "execute_result"
    }
   ],
   "source": [
    "tica_obj.cumvar"
   ]
  },
  {
   "cell_type": "code",
   "execution_count": 38,
   "metadata": {},
   "outputs": [
    {
     "data": {
      "application/vnd.jupyter.widget-view+json": {
       "model_id": "",
       "version_major": 2,
       "version_minor": 0
      },
      "text/plain": [
       "HBox(children=(HBox(children=(Label(value='getting output of TICA'),), layout=Layout(max_width='35%', min_widt…"
      ]
     },
     "metadata": {},
     "output_type": "display_data"
    },
    {
     "name": "stdout",
     "output_type": "stream",
     "text": [
      "\r"
     ]
    }
   ],
   "source": [
    "Y = tica_obj.get_output()"
   ]
  },
  {
   "cell_type": "code",
   "execution_count": 39,
   "metadata": {},
   "outputs": [
    {
     "data": {
      "application/vnd.jupyter.widget-view+json": {
       "model_id": "",
       "version_major": 2,
       "version_minor": 0
      },
      "text/plain": [
       "HBox(children=(HBox(children=(Label(value='Obtaining file info'),), layout=Layout(max_width='35%', min_width='…"
      ]
     },
     "metadata": {},
     "output_type": "display_data"
    },
    {
     "name": "stdout",
     "output_type": "stream",
     "text": [
      "\r"
     ]
    },
    {
     "ename": "KeyboardInterrupt",
     "evalue": "",
     "output_type": "error",
     "traceback": [
      "\u001b[0;31m---------------------------------------------------------------------------\u001b[0m",
      "\u001b[0;31mAttributeError\u001b[0m                            Traceback (most recent call last)",
      "\u001b[0;32m~/Software/anaconda3/lib/python3.6/site-packages/molpx/generate.py\u001b[0m in \u001b[0;36msample\u001b[0;34m(MD_trajectories, MD_top, projected_trajectories, atom_selection, proj_idxs, n_points, n_geom_samples, keep_all_samples, proj_stride, verbose, return_data)\u001b[0m\n\u001b[1;32m    296\u001b[0m     \u001b[0;32mtry\u001b[0m\u001b[0;34m:\u001b[0m\u001b[0;34m\u001b[0m\u001b[0;34m\u001b[0m\u001b[0m\n\u001b[0;32m--> 297\u001b[0;31m         \u001b[0mprojected_trajectories\u001b[0m\u001b[0;34m.\u001b[0m\u001b[0mdtrajs\u001b[0m\u001b[0;34m\u001b[0m\u001b[0;34m\u001b[0m\u001b[0m\n\u001b[0m\u001b[1;32m    298\u001b[0m         \u001b[0mcl\u001b[0m \u001b[0;34m=\u001b[0m \u001b[0mprojected_trajectories\u001b[0m\u001b[0;34m\u001b[0m\u001b[0;34m\u001b[0m\u001b[0m\n",
      "\u001b[0;31mAttributeError\u001b[0m: 'list' object has no attribute 'dtrajs'",
      "\nDuring handling of the above exception, another exception occurred:\n",
      "\u001b[0;31mKeyboardInterrupt\u001b[0m                         Traceback (most recent call last)",
      "\u001b[0;32m<ipython-input-39-7e359f71167b>\u001b[0m in \u001b[0;36m<module>\u001b[0;34m\u001b[0m\n\u001b[1;32m      6\u001b[0m                                  \u001b[0mnbins\u001b[0m\u001b[0;34m=\u001b[0m\u001b[0;36m50\u001b[0m\u001b[0;34m,\u001b[0m\u001b[0;34m\u001b[0m\u001b[0;34m\u001b[0m\u001b[0m\n\u001b[1;32m      7\u001b[0m                                  \u001b[0;31m#proj_idxs=[1,2],\u001b[0m\u001b[0;34m\u001b[0m\u001b[0;34m\u001b[0m\u001b[0;34m\u001b[0m\u001b[0m\n\u001b[0;32m----> 8\u001b[0;31m                                  \u001b[0mproj_labels\u001b[0m\u001b[0;34m=\u001b[0m\u001b[0;34m'TIC'\u001b[0m\u001b[0;34m,\u001b[0m\u001b[0;34m\u001b[0m\u001b[0;34m\u001b[0m\u001b[0m\n\u001b[0m\u001b[1;32m      9\u001b[0m                                  \u001b[0;31m#n_overlays=5,\u001b[0m\u001b[0;34m\u001b[0m\u001b[0;34m\u001b[0m\u001b[0;34m\u001b[0m\u001b[0m\n\u001b[1;32m     10\u001b[0m                                 )\n",
      "\u001b[0;32m~/Software/anaconda3/lib/python3.6/site-packages/molpx/visualize.py\u001b[0m in \u001b[0;36mFES\u001b[0;34m(MD_trajectories, MD_top, projected_trajectories, proj_idxs, nbins, n_sample, proj_stride, weights, proj_labels, n_overlays, atom_selection, **sample_kwargs)\u001b[0m\n\u001b[1;32m    185\u001b[0m                                                \u001b[0mn_geom_samples\u001b[0m\u001b[0;34m=\u001b[0m\u001b[0mn_overlays\u001b[0m\u001b[0;34m,\u001b[0m\u001b[0;34m\u001b[0m\u001b[0;34m\u001b[0m\u001b[0m\n\u001b[1;32m    186\u001b[0m                                                \u001b[0mkeep_all_samples\u001b[0m\u001b[0;34m=\u001b[0m\u001b[0mkeep_all_samples\u001b[0m\u001b[0;34m,\u001b[0m\u001b[0;34m\u001b[0m\u001b[0;34m\u001b[0m\u001b[0m\n\u001b[0;32m--> 187\u001b[0;31m                                                \u001b[0mproj_stride\u001b[0m\u001b[0;34m=\u001b[0m\u001b[0mproj_stride\u001b[0m\u001b[0;34m\u001b[0m\u001b[0;34m\u001b[0m\u001b[0m\n\u001b[0m\u001b[1;32m    188\u001b[0m                                                )\n\u001b[1;32m    189\u001b[0m \u001b[0;34m\u001b[0m\u001b[0m\n",
      "\u001b[0;32m~/Software/anaconda3/lib/python3.6/site-packages/molpx/generate.py\u001b[0m in \u001b[0;36msample\u001b[0;34m(MD_trajectories, MD_top, projected_trajectories, atom_selection, proj_idxs, n_points, n_geom_samples, keep_all_samples, proj_stride, verbose, return_data)\u001b[0m\n\u001b[1;32m    299\u001b[0m     \u001b[0;32mexcept\u001b[0m\u001b[0;34m:\u001b[0m\u001b[0;34m\u001b[0m\u001b[0;34m\u001b[0m\u001b[0m\n\u001b[1;32m    300\u001b[0m         \u001b[0midata\u001b[0m \u001b[0;34m=\u001b[0m \u001b[0m_bmutils\u001b[0m\u001b[0;34m.\u001b[0m\u001b[0mdata_from_input\u001b[0m\u001b[0;34m(\u001b[0m\u001b[0mprojected_trajectories\u001b[0m\u001b[0;34m)\u001b[0m\u001b[0;34m\u001b[0m\u001b[0;34m\u001b[0m\u001b[0m\n\u001b[0;32m--> 301\u001b[0;31m         \u001b[0mcl\u001b[0m \u001b[0;34m=\u001b[0m \u001b[0m_bmutils\u001b[0m\u001b[0;34m.\u001b[0m\u001b[0mregspace_cluster_to_target\u001b[0m\u001b[0;34m(\u001b[0m\u001b[0;34m[\u001b[0m\u001b[0mdd\u001b[0m\u001b[0;34m[\u001b[0m\u001b[0;34m:\u001b[0m\u001b[0;34m,\u001b[0m\u001b[0mproj_idxs\u001b[0m\u001b[0;34m]\u001b[0m \u001b[0;32mfor\u001b[0m \u001b[0mdd\u001b[0m \u001b[0;32min\u001b[0m \u001b[0midata\u001b[0m\u001b[0;34m]\u001b[0m\u001b[0;34m,\u001b[0m \u001b[0mn_points\u001b[0m\u001b[0;34m,\u001b[0m \u001b[0mn_try_max\u001b[0m\u001b[0;34m=\u001b[0m\u001b[0;36m10\u001b[0m\u001b[0;34m,\u001b[0m \u001b[0mverbose\u001b[0m\u001b[0;34m=\u001b[0m\u001b[0mverbose\u001b[0m\u001b[0;34m)\u001b[0m\u001b[0;34m\u001b[0m\u001b[0;34m\u001b[0m\u001b[0m\n\u001b[0m\u001b[1;32m    302\u001b[0m \u001b[0;34m\u001b[0m\u001b[0m\n\u001b[1;32m    303\u001b[0m     \u001b[0mpos\u001b[0m \u001b[0;34m=\u001b[0m \u001b[0mcl\u001b[0m\u001b[0;34m.\u001b[0m\u001b[0mclustercenters\u001b[0m\u001b[0;34m\u001b[0m\u001b[0;34m\u001b[0m\u001b[0m\n",
      "\u001b[0;32m~/Software/anaconda3/lib/python3.6/site-packages/molpx/_bmutils.py\u001b[0m in \u001b[0;36mregspace_cluster_to_target\u001b[0;34m(data, n_clusters_target, n_try_max, delta, verbose)\u001b[0m\n\u001b[1;32m    202\u001b[0m             \u001b[0;31m# Cheap (VERY BAD IN HIGH DIM) heuristic to get relatively close relatively quick\u001b[0m\u001b[0;34m\u001b[0m\u001b[0;34m\u001b[0m\u001b[0;34m\u001b[0m\u001b[0m\n\u001b[1;32m    203\u001b[0m             \u001b[0mdmin\u001b[0m \u001b[0;34m=\u001b[0m \u001b[0mcl\u001b[0m\u001b[0;34m.\u001b[0m\u001b[0mdmin\u001b[0m\u001b[0;34m*\u001b[0m\u001b[0mcl\u001b[0m\u001b[0;34m.\u001b[0m\u001b[0mn_clusters\u001b[0m\u001b[0;34m/\u001b[0m   \u001b[0mn_clusters_target\u001b[0m\u001b[0;34m\u001b[0m\u001b[0;34m\u001b[0m\u001b[0m\n\u001b[0;32m--> 204\u001b[0;31m             \u001b[0mcl\u001b[0m \u001b[0;34m=\u001b[0m \u001b[0m_cluster_regspace\u001b[0m\u001b[0;34m(\u001b[0m\u001b[0mdata\u001b[0m\u001b[0;34m,\u001b[0m \u001b[0mdmin\u001b[0m\u001b[0;34m=\u001b[0m\u001b[0mdmin\u001b[0m\u001b[0;34m,\u001b[0m \u001b[0mmax_centers\u001b[0m\u001b[0;34m=\u001b[0m\u001b[0;36m5000\u001b[0m\u001b[0;34m)\u001b[0m\u001b[0;31m# max_centers is given so that we never reach it (dangerous)\u001b[0m\u001b[0;34m\u001b[0m\u001b[0;34m\u001b[0m\u001b[0m\n\u001b[0m\u001b[1;32m    205\u001b[0m         \u001b[0;32melse\u001b[0m\u001b[0;34m:\u001b[0m\u001b[0;34m\u001b[0m\u001b[0;34m\u001b[0m\u001b[0m\n\u001b[1;32m    206\u001b[0m             \u001b[0;32mbreak\u001b[0m\u001b[0;34m\u001b[0m\u001b[0;34m\u001b[0m\u001b[0m\n",
      "\u001b[0;32m~/Software/anaconda3/lib/python3.6/site-packages/pyemma/coordinates/api.py\u001b[0m in \u001b[0;36mcluster_regspace\u001b[0;34m(data, dmin, max_centers, stride, metric, n_jobs, chunksize, skip, **kwargs)\u001b[0m\n\u001b[1;32m   2003\u001b[0m     \u001b[0mcs\u001b[0m \u001b[0;34m=\u001b[0m \u001b[0m_check_old_chunksize_arg\u001b[0m\u001b[0;34m(\u001b[0m\u001b[0mchunksize\u001b[0m\u001b[0;34m,\u001b[0m \u001b[0mget_default_args\u001b[0m\u001b[0;34m(\u001b[0m\u001b[0mcluster_regspace\u001b[0m\u001b[0;34m)\u001b[0m\u001b[0;34m[\u001b[0m\u001b[0;34m'chunksize'\u001b[0m\u001b[0;34m]\u001b[0m\u001b[0;34m,\u001b[0m \u001b[0;34m**\u001b[0m\u001b[0mkwargs\u001b[0m\u001b[0;34m)\u001b[0m\u001b[0;34m\u001b[0m\u001b[0;34m\u001b[0m\u001b[0m\n\u001b[1;32m   2004\u001b[0m     \u001b[0;32mif\u001b[0m \u001b[0mdata\u001b[0m \u001b[0;32mis\u001b[0m \u001b[0;32mnot\u001b[0m \u001b[0;32mNone\u001b[0m\u001b[0;34m:\u001b[0m\u001b[0;34m\u001b[0m\u001b[0;34m\u001b[0m\u001b[0m\n\u001b[0;32m-> 2005\u001b[0;31m         \u001b[0mres\u001b[0m\u001b[0;34m.\u001b[0m\u001b[0mestimate\u001b[0m\u001b[0;34m(\u001b[0m\u001b[0mdata\u001b[0m\u001b[0;34m,\u001b[0m \u001b[0mchunksize\u001b[0m\u001b[0;34m=\u001b[0m\u001b[0mcs\u001b[0m\u001b[0;34m)\u001b[0m\u001b[0;34m\u001b[0m\u001b[0;34m\u001b[0m\u001b[0m\n\u001b[0m\u001b[1;32m   2006\u001b[0m     \u001b[0;32melse\u001b[0m\u001b[0;34m:\u001b[0m\u001b[0;34m\u001b[0m\u001b[0;34m\u001b[0m\u001b[0m\n\u001b[1;32m   2007\u001b[0m         \u001b[0mres\u001b[0m\u001b[0;34m.\u001b[0m\u001b[0mchunksize\u001b[0m \u001b[0;34m=\u001b[0m \u001b[0mcs\u001b[0m\u001b[0;34m\u001b[0m\u001b[0;34m\u001b[0m\u001b[0m\n",
      "\u001b[0;32m~/Software/anaconda3/lib/python3.6/site-packages/pyemma/coordinates/data/_base/transformer.py\u001b[0m in \u001b[0;36mestimate\u001b[0;34m(self, X, **kwargs)\u001b[0m\n\u001b[1;32m    213\u001b[0m     \u001b[0;34m\"\"\" Basis class for pipelined Transformers, which perform also estimation. \"\"\"\u001b[0m\u001b[0;34m\u001b[0m\u001b[0;34m\u001b[0m\u001b[0m\n\u001b[1;32m    214\u001b[0m     \u001b[0;32mdef\u001b[0m \u001b[0mestimate\u001b[0m\u001b[0;34m(\u001b[0m\u001b[0mself\u001b[0m\u001b[0;34m,\u001b[0m \u001b[0mX\u001b[0m\u001b[0;34m,\u001b[0m \u001b[0;34m**\u001b[0m\u001b[0mkwargs\u001b[0m\u001b[0;34m)\u001b[0m\u001b[0;34m:\u001b[0m\u001b[0;34m\u001b[0m\u001b[0;34m\u001b[0m\u001b[0m\n\u001b[0;32m--> 215\u001b[0;31m         \u001b[0msuper\u001b[0m\u001b[0;34m(\u001b[0m\u001b[0mStreamingEstimationTransformer\u001b[0m\u001b[0;34m,\u001b[0m \u001b[0mself\u001b[0m\u001b[0;34m)\u001b[0m\u001b[0;34m.\u001b[0m\u001b[0mestimate\u001b[0m\u001b[0;34m(\u001b[0m\u001b[0mX\u001b[0m\u001b[0;34m,\u001b[0m \u001b[0;34m**\u001b[0m\u001b[0mkwargs\u001b[0m\u001b[0;34m)\u001b[0m\u001b[0;34m\u001b[0m\u001b[0;34m\u001b[0m\u001b[0m\n\u001b[0m\u001b[1;32m    216\u001b[0m         \u001b[0;31m# we perform the mapping to memory exactly here, because a StreamingEstimator on its own\u001b[0m\u001b[0;34m\u001b[0m\u001b[0;34m\u001b[0m\u001b[0;34m\u001b[0m\u001b[0m\n\u001b[1;32m    217\u001b[0m         \u001b[0;31m# has not output to be mapped. Only the combination of Estimation/Transforming has this feature.\u001b[0m\u001b[0;34m\u001b[0m\u001b[0;34m\u001b[0m\u001b[0;34m\u001b[0m\u001b[0m\n",
      "\u001b[0;32m~/Software/anaconda3/lib/python3.6/site-packages/pyemma/coordinates/data/_base/streaming_estimator.py\u001b[0m in \u001b[0;36mestimate\u001b[0;34m(self, X, chunksize, **kwargs)\u001b[0m\n\u001b[1;32m     42\u001b[0m         \u001b[0;31m# run estimation\u001b[0m\u001b[0;34m\u001b[0m\u001b[0;34m\u001b[0m\u001b[0;34m\u001b[0m\u001b[0m\n\u001b[1;32m     43\u001b[0m         \u001b[0;32mtry\u001b[0m\u001b[0;34m:\u001b[0m\u001b[0;34m\u001b[0m\u001b[0;34m\u001b[0m\u001b[0m\n\u001b[0;32m---> 44\u001b[0;31m             \u001b[0msuper\u001b[0m\u001b[0;34m(\u001b[0m\u001b[0mStreamingEstimator\u001b[0m\u001b[0;34m,\u001b[0m \u001b[0mself\u001b[0m\u001b[0;34m)\u001b[0m\u001b[0;34m.\u001b[0m\u001b[0mestimate\u001b[0m\u001b[0;34m(\u001b[0m\u001b[0mX\u001b[0m\u001b[0;34m,\u001b[0m \u001b[0;34m**\u001b[0m\u001b[0mkwargs\u001b[0m\u001b[0;34m)\u001b[0m\u001b[0;34m\u001b[0m\u001b[0;34m\u001b[0m\u001b[0m\n\u001b[0m\u001b[1;32m     45\u001b[0m         \u001b[0;32mexcept\u001b[0m \u001b[0mNotConvergedWarning\u001b[0m \u001b[0;32mas\u001b[0m \u001b[0mncw\u001b[0m\u001b[0;34m:\u001b[0m\u001b[0;34m\u001b[0m\u001b[0;34m\u001b[0m\u001b[0m\n\u001b[1;32m     46\u001b[0m             self.logger.info(\n",
      "\u001b[0;32m~/Software/anaconda3/lib/python3.6/site-packages/pyemma/_base/estimator.py\u001b[0m in \u001b[0;36mestimate\u001b[0;34m(self, X, **params)\u001b[0m\n\u001b[1;32m    405\u001b[0m         \u001b[0;32mif\u001b[0m \u001b[0mparams\u001b[0m\u001b[0;34m:\u001b[0m\u001b[0;34m\u001b[0m\u001b[0;34m\u001b[0m\u001b[0m\n\u001b[1;32m    406\u001b[0m             \u001b[0mself\u001b[0m\u001b[0;34m.\u001b[0m\u001b[0mset_params\u001b[0m\u001b[0;34m(\u001b[0m\u001b[0;34m**\u001b[0m\u001b[0mparams\u001b[0m\u001b[0;34m)\u001b[0m\u001b[0;34m\u001b[0m\u001b[0;34m\u001b[0m\u001b[0m\n\u001b[0;32m--> 407\u001b[0;31m         \u001b[0mself\u001b[0m\u001b[0;34m.\u001b[0m\u001b[0m_model\u001b[0m \u001b[0;34m=\u001b[0m \u001b[0mself\u001b[0m\u001b[0;34m.\u001b[0m\u001b[0m_estimate\u001b[0m\u001b[0;34m(\u001b[0m\u001b[0mX\u001b[0m\u001b[0;34m)\u001b[0m\u001b[0;34m\u001b[0m\u001b[0;34m\u001b[0m\u001b[0m\n\u001b[0m\u001b[1;32m    408\u001b[0m         \u001b[0;31m# ensure _estimate returned something\u001b[0m\u001b[0;34m\u001b[0m\u001b[0;34m\u001b[0m\u001b[0;34m\u001b[0m\u001b[0m\n\u001b[1;32m    409\u001b[0m         \u001b[0;32massert\u001b[0m \u001b[0mself\u001b[0m\u001b[0;34m.\u001b[0m\u001b[0m_model\u001b[0m \u001b[0;32mis\u001b[0m \u001b[0;32mnot\u001b[0m \u001b[0;32mNone\u001b[0m\u001b[0;34m\u001b[0m\u001b[0;34m\u001b[0m\u001b[0m\n",
      "\u001b[0;32m~/Software/anaconda3/lib/python3.6/site-packages/pyemma/coordinates/clustering/regspace.py\u001b[0m in \u001b[0;36m_estimate\u001b[0;34m(self, iterable, **kwargs)\u001b[0m\n\u001b[1;32m    143\u001b[0m                     \u001b[0mused_frames\u001b[0m \u001b[0;34m+=\u001b[0m \u001b[0mlen\u001b[0m\u001b[0;34m(\u001b[0m\u001b[0mX\u001b[0m\u001b[0;34m)\u001b[0m\u001b[0;34m\u001b[0m\u001b[0;34m\u001b[0m\u001b[0m\n\u001b[1;32m    144\u001b[0m                     self._inst.cluster(X.astype(np.float32, order='C', copy=False),\n\u001b[0;32m--> 145\u001b[0;31m                                        clustercenters, self.n_jobs)\n\u001b[0m\u001b[1;32m    146\u001b[0m             \u001b[0mself\u001b[0m\u001b[0;34m.\u001b[0m\u001b[0m_converged\u001b[0m \u001b[0;34m=\u001b[0m \u001b[0;32mTrue\u001b[0m\u001b[0;34m\u001b[0m\u001b[0;34m\u001b[0m\u001b[0m\n\u001b[1;32m    147\u001b[0m         \u001b[0;32mexcept\u001b[0m \u001b[0mregspace\u001b[0m\u001b[0;34m.\u001b[0m\u001b[0mMaxCentersReachedException\u001b[0m\u001b[0;34m:\u001b[0m\u001b[0;34m\u001b[0m\u001b[0;34m\u001b[0m\u001b[0m\n",
      "\u001b[0;31mKeyboardInterrupt\u001b[0m: "
     ]
    }
   ],
   "source": [
    "mpx_wdg_box = molpx.visualize.FES(traj_list,\n",
    "                                 #MD_trajfiles,\n",
    "                                 topfile,\n",
    "                                 Y,\n",
    "                                 #Y,\n",
    "                                 nbins=50,\n",
    "                                 #proj_idxs=[1,2],\n",
    "                                 proj_labels='TIC',\n",
    "                                 #n_overlays=5,\n",
    "                                )\n",
    "mpx_wdg_box"
   ]
  },
  {
   "cell_type": "code",
   "execution_count": null,
   "metadata": {},
   "outputs": [],
   "source": [
    "#plt.figure()\n",
    "pyemma.plots.plot_free_energy(np.vstack(Y)[:, 0], np.vstack(Y)[:, 1]);"
   ]
  },
  {
   "cell_type": "code",
   "execution_count": null,
   "metadata": {},
   "outputs": [],
   "source": [
    "mpx_wdg_box = molpx.visualize.traj(traj_list, \n",
    "                                   topfile, \n",
    "                                   Y,\n",
    "                                   #Y_filenames,                                          \n",
    "                                   plot_FES = False,                                        \n",
    "                                   dt = 0.01, tunits='ns',    \n",
    "                                   #traj_selection = 1,\n",
    "                                   #sharey_traj=False,\n",
    "                                   #max_frames=100,\n",
    "                                   proj_idxs=[0, 1],\n",
    "                                   panel_height=2,    \n",
    "                                   #proj_labels='TIC'\n",
    "                                  )\n",
    "mpx_wdg_box"
   ]
  },
  {
   "cell_type": "markdown",
   "metadata": {},
   "source": [
    "## Regspace Clustering"
   ]
  },
  {
   "cell_type": "code",
   "execution_count": 13,
   "metadata": {},
   "outputs": [],
   "source": [
    "clustering = pyemma.coordinates.cluster_regspace(Y,dmin=0.25)"
   ]
  },
  {
   "cell_type": "code",
   "execution_count": 14,
   "metadata": {},
   "outputs": [],
   "source": [
    "def plot_labels(ax=None):\n",
    "    #if ax is None:\n",
    "        #ax = gca()\n",
    "    for i in range(0,len(clustering.clustercenters)):\n",
    "        plt.text(clustering.clustercenters[i][0]+0.05, clustering.clustercenters[i][1]+0.05, i, fontsize=10, color='black')\n"
   ]
  },
  {
   "cell_type": "code",
   "execution_count": 15,
   "metadata": {},
   "outputs": [
    {
     "data": {
      "application/vnd.jupyter.widget-view+json": {
       "model_id": "f8d13cf8d9da488bab1a0ad07b9da1bd",
       "version_major": 2,
       "version_minor": 0
      },
      "text/plain": [
       "FigureCanvasNbAgg()"
      ]
     },
     "metadata": {},
     "output_type": "display_data"
    },
    {
     "data": {
      "text/plain": [
       "[<matplotlib.lines.Line2D at 0x7f6f8645af28>]"
      ]
     },
     "execution_count": 15,
     "metadata": {},
     "output_type": "execute_result"
    }
   ],
   "source": [
    "#plt.figure()\n",
    "pyemma.plots.plot_free_energy(np.vstack(Y)[:, 0], np.vstack(Y)[:, 1])\n",
    "cc_x = clustering.clustercenters[:, 0]\n",
    "cc_y = clustering.clustercenters[:, 1]\n",
    "plt.plot(cc_x, cc_y, linewidth=0, marker='o', markersize=5, color='black')\n",
    "#plot_labels()"
   ]
  },
  {
   "cell_type": "code",
   "execution_count": 20,
   "metadata": {},
   "outputs": [
    {
     "name": "stdout",
     "output_type": "stream",
     "text": [
      "size of cluster 0: 34 structures\n",
      "size of cluster 1: 9 structures\n",
      "size of cluster 2: 66 structures\n",
      "size of cluster 3: 1611 structures\n",
      "size of cluster 4: 286 structures\n",
      "size of cluster 5: 1538 structures\n",
      "size of cluster 6: 97 structures\n",
      "size of cluster 7: 918 structures\n",
      "size of cluster 8: 77 structures\n",
      "size of cluster 9: 234 structures\n",
      "size of cluster 10: 832 structures\n",
      "size of cluster 11: 50 structures\n",
      "size of cluster 12: 777 structures\n",
      "size of cluster 13: 3073 structures\n",
      "size of cluster 14: 2785 structures\n",
      "size of cluster 15: 1828 structures\n",
      "size of cluster 16: 2226 structures\n",
      "size of cluster 17: 1895 structures\n",
      "size of cluster 18: 144 structures\n",
      "size of cluster 19: 355 structures\n",
      "size of cluster 20: 545 structures\n",
      "size of cluster 21: 262 structures\n",
      "size of cluster 22: 224 structures\n",
      "size of cluster 23: 465 structures\n",
      "size of cluster 24: 591 structures\n",
      "size of cluster 25: 22 structures\n",
      "size of cluster 26: 2225 structures\n",
      "size of cluster 27: 1007 structures\n",
      "size of cluster 28: 954 structures\n",
      "size of cluster 29: 701 structures\n",
      "size of cluster 30: 1452 structures\n",
      "size of cluster 31: 1272 structures\n",
      "size of cluster 32: 2736 structures\n",
      "size of cluster 33: 729 structures\n",
      "size of cluster 34: 3817 structures\n",
      "size of cluster 35: 2416 structures\n",
      "size of cluster 36: 286 structures\n",
      "size of cluster 37: 857 structures\n",
      "size of cluster 38: 313 structures\n",
      "size of cluster 39: 228 structures\n",
      "size of cluster 40: 1223 structures\n",
      "size of cluster 41: 5974 structures\n",
      "size of cluster 42: 4557 structures\n",
      "size of cluster 43: 15326 structures\n",
      "size of cluster 44: 33381 structures\n",
      "size of cluster 45: 22606 structures\n",
      "size of cluster 46: 13640 structures\n",
      "size of cluster 47: 10966 structures\n",
      "size of cluster 48: 20171 structures\n",
      "size of cluster 49: 6506 structures\n",
      "size of cluster 50: 3929 structures\n",
      "size of cluster 51: 771 structures\n",
      "size of cluster 52: 1743 structures\n",
      "size of cluster 53: 9024 structures\n",
      "size of cluster 54: 6667 structures\n",
      "size of cluster 55: 1572 structures\n",
      "size of cluster 56: 7801 structures\n",
      "size of cluster 57: 3078 structures\n",
      "size of cluster 58: 604 structures\n",
      "size of cluster 59: 6262 structures\n",
      "size of cluster 60: 4083 structures\n",
      "size of cluster 61: 1936 structures\n",
      "size of cluster 62: 6076 structures\n",
      "size of cluster 63: 177 structures\n",
      "size of cluster 64: 135 structures\n",
      "size of cluster 65: 32 structures\n",
      "size of cluster 66: 177 structures\n",
      "size of cluster 67: 83 structures\n",
      "size of cluster 68: 566 structures\n",
      "size of cluster 69: 5 structures\n",
      "size of cluster 70: 17 structures\n",
      "size of cluster 71: 175 structures\n",
      "size of cluster 72: 1573 structures\n",
      "size of cluster 73: 716 structures\n",
      "size of cluster 74: 1847 structures\n",
      "size of cluster 75: 3063 structures\n",
      "size of cluster 76: 195 structures\n",
      "size of cluster 77: 449 structures\n",
      "size of cluster 78: 858 structures\n",
      "size of cluster 79: 46 structures\n",
      "size of cluster 80: 2 structures\n",
      "size of cluster 81: 297 structures\n",
      "size of cluster 82: 10 structures\n",
      "size of cluster 83: 34 structures\n",
      "size of cluster 84: 122 structures\n",
      "size of cluster 85: 7 structures\n",
      "size of cluster 86: 476 structures\n",
      "size of cluster 87: 44 structures\n",
      "size of cluster 88: 49 structures\n",
      "size of cluster 89: 941 structures\n",
      "size of cluster 90: 152 structures\n",
      "size of cluster 91: 566 structures\n",
      "size of cluster 92: 67 structures\n",
      "size of cluster 93: 2 structures\n",
      "size of cluster 94: 1 structures\n",
      "size of cluster 95: 160 structures\n",
      "size of cluster 96: 730 structures\n",
      "size of cluster 97: 129 structures\n",
      "size of cluster 98: 23 structures\n",
      "size of cluster 99: 356 structures\n",
      "size of cluster 100: 94 structures\n",
      "size of cluster 101: 8 structures\n",
      "size of cluster 102: 1336 structures\n",
      "size of cluster 103: 138 structures\n",
      "size of cluster 104: 15 structures\n",
      "size of cluster 105: 21 structures\n",
      "size of cluster 106: 10 structures\n",
      "size of cluster 107: 19 structures\n",
      "size of cluster 108: 5 structures\n",
      "size of cluster 109: 2 structures\n",
      "size of cluster 110: 1 structures\n",
      "size of cluster 111: 1 structures\n",
      "size of cluster 112: 40 structures\n",
      "size of cluster 113: 7 structures\n",
      "size of cluster 114: 34 structures\n",
      "size of cluster 115: 5 structures\n",
      "size of cluster 116: 3 structures\n",
      "size of cluster 117: 45 structures\n",
      "size of cluster 118: 1 structures\n",
      "size of cluster 119: 802 structures\n",
      "size of cluster 120: 5554 structures\n",
      "size of cluster 121: 169 structures\n",
      "size of cluster 122: 244 structures\n",
      "size of cluster 123: 2269 structures\n",
      "size of cluster 124: 6543 structures\n",
      "size of cluster 125: 10 structures\n",
      "size of cluster 126: 19 structures\n",
      "size of cluster 127: 9 structures\n",
      "size of cluster 128: 15 structures\n",
      "size of cluster 129: 20 structures\n",
      "size of cluster 130: 9 structures\n",
      "size of cluster 131: 9 structures\n",
      "size of cluster 132: 16 structures\n",
      "size of cluster 133: 16 structures\n",
      "size of cluster 134: 19 structures\n",
      "size of cluster 135: 3 structures\n",
      "size of cluster 136: 20 structures\n",
      "size of cluster 137: 9 structures\n",
      "size of cluster 138: 37 structures\n",
      "size of cluster 139: 8 structures\n",
      "size of cluster 140: 50 structures\n",
      "size of cluster 141: 72 structures\n",
      "size of cluster 142: 11 structures\n",
      "size of cluster 143: 239 structures\n",
      "size of cluster 144: 98 structures\n",
      "size of cluster 145: 1098 structures\n",
      "size of cluster 146: 2975 structures\n",
      "size of cluster 147: 1403 structures\n",
      "size of cluster 148: 17 structures\n",
      "size of cluster 149: 5255 structures\n",
      "size of cluster 150: 1359 structures\n",
      "size of cluster 151: 846 structures\n",
      "size of cluster 152: 11539 structures\n",
      "size of cluster 153: 12464 structures\n",
      "size of cluster 154: 1376 structures\n",
      "size of cluster 155: 3372 structures\n",
      "size of cluster 156: 15294 structures\n",
      "size of cluster 157: 2027 structures\n",
      "size of cluster 158: 104 structures\n",
      "size of cluster 159: 10031 structures\n",
      "size of cluster 160: 2696 structures\n",
      "size of cluster 161: 5942 structures\n",
      "size of cluster 162: 1693 structures\n",
      "size of cluster 163: 2580 structures\n",
      "size of cluster 164: 2220 structures\n",
      "size of cluster 165: 1801 structures\n",
      "size of cluster 166: 7061 structures\n",
      "size of cluster 167: 1545 structures\n",
      "size of cluster 168: 852 structures\n",
      "size of cluster 169: 1077 structures\n",
      "size of cluster 170: 639 structures\n",
      "size of cluster 171: 3127 structures\n",
      "size of cluster 172: 55 structures\n",
      "size of cluster 173: 28 structures\n",
      "size of cluster 174: 4349 structures\n",
      "size of cluster 175: 316 structures\n",
      "size of cluster 176: 17 structures\n",
      "size of cluster 177: 8 structures\n",
      "size of cluster 178: 10 structures\n",
      "size of cluster 179: 9 structures\n",
      "size of cluster 180: 3 structures\n",
      "size of cluster 181: 8 structures\n",
      "size of cluster 182: 10 structures\n",
      "size of cluster 183: 10 structures\n",
      "size of cluster 184: 20 structures\n",
      "size of cluster 185: 11 structures\n",
      "size of cluster 186: 30 structures\n",
      "size of cluster 187: 35 structures\n",
      "size of cluster 188: 12 structures\n",
      "size of cluster 189: 7 structures\n",
      "size of cluster 190: 2 structures\n",
      "size of cluster 191: 76 structures\n",
      "size of cluster 192: 943 structures\n",
      "size of cluster 193: 75 structures\n",
      "size of cluster 194: 1618 structures\n",
      "size of cluster 195: 305 structures\n",
      "size of cluster 196: 147 structures\n",
      "size of cluster 197: 4454 structures\n",
      "size of cluster 198: 791 structures\n",
      "size of cluster 199: 2483 structures\n",
      "size of cluster 200: 67 structures\n",
      "size of cluster 201: 11 structures\n",
      "size of cluster 202: 230 structures\n",
      "size of cluster 203: 1355 structures\n",
      "size of cluster 204: 37 structures\n",
      "size of cluster 205: 472 structures\n",
      "size of cluster 206: 16 structures\n",
      "size of cluster 207: 86 structures\n",
      "size of cluster 208: 3721 structures\n",
      "size of cluster 209: 1053 structures\n",
      "size of cluster 210: 749 structures\n",
      "size of cluster 211: 11 structures\n",
      "size of cluster 212: 1 structures\n",
      "size of cluster 213: 1 structures\n",
      "size of cluster 214: 86 structures\n",
      "size of cluster 215: 118 structures\n",
      "size of cluster 216: 299 structures\n",
      "size of cluster 217: 20 structures\n",
      "size of cluster 218: 575 structures\n",
      "size of cluster 219: 449 structures\n",
      "size of cluster 220: 21 structures\n",
      "size of cluster 221: 17 structures\n",
      "size of cluster 222: 7 structures\n",
      "size of cluster 223: 16 structures\n",
      "size of cluster 224: 4 structures\n",
      "size of cluster 225: 1 structures\n",
      "size of cluster 226: 1 structures\n",
      "size of cluster 227: 4 structures\n",
      "size of cluster 228: 4 structures\n",
      "size of cluster 229: 5 structures\n",
      "size of cluster 230: 5 structures\n",
      "size of cluster 231: 1 structures\n",
      "size of cluster 232: 3 structures\n",
      "size of cluster 233: 264 structures\n",
      "size of cluster 234: 2739 structures\n",
      "size of cluster 235: 782 structures\n",
      "size of cluster 236: 866 structures\n",
      "size of cluster 237: 943 structures\n",
      "size of cluster 238: 1023 structures\n",
      "size of cluster 239: 1356 structures\n",
      "size of cluster 240: 119 structures\n",
      "size of cluster 241: 31 structures\n",
      "size of cluster 242: 994 structures\n",
      "size of cluster 243: 456 structures\n",
      "size of cluster 244: 11 structures\n",
      "size of cluster 245: 666 structures\n",
      "size of cluster 246: 108 structures\n",
      "size of cluster 247: 142 structures\n",
      "size of cluster 248: 115 structures\n",
      "size of cluster 249: 176 structures\n",
      "size of cluster 250: 310 structures\n",
      "size of cluster 251: 152 structures\n",
      "size of cluster 252: 97 structures\n",
      "size of cluster 253: 4 structures\n",
      "size of cluster 254: 17 structures\n",
      "size of cluster 255: 8 structures\n",
      "size of cluster 256: 14 structures\n",
      "size of cluster 257: 85 structures\n",
      "size of cluster 258: 1 structures\n",
      "size of cluster 259: 484 structures\n",
      "size of cluster 260: 189 structures\n",
      "size of cluster 261: 4 structures\n",
      "size of cluster 262: 54 structures\n",
      "size of cluster 263: 60 structures\n",
      "size of cluster 264: 6 structures\n",
      "size of cluster 265: 23 structures\n",
      "size of cluster 266: 47 structures\n",
      "size of cluster 267: 38 structures\n",
      "size of cluster 268: 86 structures\n"
     ]
    }
   ],
   "source": [
    "labels = np.concatenate(clustering.dtrajs)\n",
    "mapping = defaultdict(lambda : [])\n",
    "for i, label in enumerate(labels):\n",
    "    mapping[label].append(i)\n",
    "for i in range(0,len(clustering.clustercenters)):\n",
    "    print('size of cluster %d: %d structures' % (i, len(mapping[i])))\n"
   ]
  },
  {
   "cell_type": "code",
   "execution_count": 21,
   "metadata": {},
   "outputs": [
    {
     "data": {
      "application/vnd.jupyter.widget-view+json": {
       "model_id": "",
       "version_major": 2,
       "version_minor": 0
      },
      "text/plain": [
       "HBox(children=(HBox(children=(Label(value='Obtaining file info'),), layout=Layout(max_width='35%', min_width='…"
      ]
     },
     "metadata": {},
     "output_type": "display_data"
    },
    {
     "name": "stdout",
     "output_type": "stream",
     "text": [
      "\r"
     ]
    }
   ],
   "source": [
    "data_sample, geoms = molpx.generate.sample(traj_list, topfile, clustering, n_geom_samples=200, n_points=200)"
   ]
  },
  {
   "cell_type": "code",
   "execution_count": 22,
   "metadata": {},
   "outputs": [
    {
     "data": {
      "text/plain": [
       "269"
      ]
     },
     "execution_count": 22,
     "metadata": {},
     "output_type": "execute_result"
    }
   ],
   "source": [
    "clustering.max_centers"
   ]
  },
  {
   "cell_type": "code",
   "execution_count": 23,
   "metadata": {},
   "outputs": [
    {
     "name": "stdout",
     "output_type": "stream",
     "text": [
      "size of cluster 0: 34 structures\n",
      "size of cluster 1: 9 structures\n",
      "size of cluster 2: 66 structures\n",
      "size of cluster 3: 1611 structures\n",
      "size of cluster 4: 286 structures\n",
      "size of cluster 5: 1538 structures\n",
      "size of cluster 6: 97 structures\n",
      "size of cluster 7: 918 structures\n",
      "size of cluster 8: 77 structures\n",
      "size of cluster 9: 234 structures\n",
      "size of cluster 10: 832 structures\n",
      "size of cluster 11: 50 structures\n",
      "size of cluster 12: 777 structures\n",
      "size of cluster 13: 3073 structures\n",
      "size of cluster 14: 2785 structures\n",
      "size of cluster 15: 1828 structures\n",
      "size of cluster 16: 2226 structures\n",
      "size of cluster 17: 1895 structures\n",
      "size of cluster 18: 144 structures\n",
      "size of cluster 19: 355 structures\n",
      "size of cluster 20: 545 structures\n",
      "size of cluster 21: 262 structures\n",
      "size of cluster 22: 224 structures\n",
      "size of cluster 23: 465 structures\n",
      "size of cluster 24: 591 structures\n",
      "size of cluster 25: 22 structures\n",
      "size of cluster 26: 2225 structures\n",
      "size of cluster 27: 1007 structures\n",
      "size of cluster 28: 954 structures\n",
      "size of cluster 29: 701 structures\n",
      "size of cluster 30: 1452 structures\n",
      "size of cluster 31: 1272 structures\n",
      "size of cluster 32: 2736 structures\n",
      "size of cluster 33: 729 structures\n",
      "size of cluster 34: 3817 structures\n",
      "size of cluster 35: 2416 structures\n",
      "size of cluster 36: 286 structures\n",
      "size of cluster 37: 857 structures\n",
      "size of cluster 38: 313 structures\n",
      "size of cluster 39: 228 structures\n",
      "size of cluster 40: 1223 structures\n",
      "size of cluster 41: 5974 structures\n",
      "size of cluster 42: 4557 structures\n",
      "size of cluster 43: 15326 structures\n",
      "size of cluster 44: 33381 structures\n",
      "size of cluster 45: 22606 structures\n",
      "size of cluster 46: 13640 structures\n",
      "size of cluster 47: 10966 structures\n",
      "size of cluster 48: 20171 structures\n",
      "size of cluster 49: 6506 structures\n",
      "size of cluster 50: 3929 structures\n",
      "size of cluster 51: 771 structures\n",
      "size of cluster 52: 1743 structures\n",
      "size of cluster 53: 9024 structures\n",
      "size of cluster 54: 6667 structures\n",
      "size of cluster 55: 1572 structures\n",
      "size of cluster 56: 7801 structures\n",
      "size of cluster 57: 3078 structures\n",
      "size of cluster 58: 604 structures\n",
      "size of cluster 59: 6262 structures\n",
      "size of cluster 60: 4083 structures\n",
      "size of cluster 61: 1936 structures\n",
      "size of cluster 62: 6076 structures\n",
      "size of cluster 63: 177 structures\n",
      "size of cluster 64: 135 structures\n",
      "size of cluster 65: 32 structures\n",
      "size of cluster 66: 177 structures\n",
      "size of cluster 67: 83 structures\n",
      "size of cluster 68: 566 structures\n",
      "size of cluster 69: 5 structures\n",
      "size of cluster 70: 17 structures\n",
      "size of cluster 71: 175 structures\n",
      "size of cluster 72: 1573 structures\n",
      "size of cluster 73: 716 structures\n",
      "size of cluster 74: 1847 structures\n",
      "size of cluster 75: 3063 structures\n",
      "size of cluster 76: 195 structures\n",
      "size of cluster 77: 449 structures\n",
      "size of cluster 78: 858 structures\n",
      "size of cluster 79: 46 structures\n",
      "size of cluster 80: 2 structures\n",
      "size of cluster 81: 297 structures\n",
      "size of cluster 82: 10 structures\n",
      "size of cluster 83: 34 structures\n",
      "size of cluster 84: 122 structures\n",
      "size of cluster 85: 7 structures\n",
      "size of cluster 86: 476 structures\n",
      "size of cluster 87: 44 structures\n",
      "size of cluster 88: 49 structures\n",
      "size of cluster 89: 941 structures\n",
      "size of cluster 90: 152 structures\n",
      "size of cluster 91: 566 structures\n",
      "size of cluster 92: 67 structures\n",
      "size of cluster 93: 2 structures\n",
      "size of cluster 94: 1 structures\n",
      "size of cluster 95: 160 structures\n",
      "size of cluster 96: 730 structures\n",
      "size of cluster 97: 129 structures\n",
      "size of cluster 98: 23 structures\n",
      "size of cluster 99: 356 structures\n",
      "size of cluster 100: 94 structures\n",
      "size of cluster 101: 8 structures\n",
      "size of cluster 102: 1336 structures\n",
      "size of cluster 103: 138 structures\n",
      "size of cluster 104: 15 structures\n",
      "size of cluster 105: 21 structures\n",
      "size of cluster 106: 10 structures\n",
      "size of cluster 107: 19 structures\n",
      "size of cluster 108: 5 structures\n",
      "size of cluster 109: 2 structures\n",
      "size of cluster 110: 1 structures\n",
      "size of cluster 111: 1 structures\n",
      "size of cluster 112: 40 structures\n",
      "size of cluster 113: 7 structures\n",
      "size of cluster 114: 34 structures\n",
      "size of cluster 115: 5 structures\n",
      "size of cluster 116: 3 structures\n",
      "size of cluster 117: 45 structures\n",
      "size of cluster 118: 1 structures\n",
      "size of cluster 119: 802 structures\n",
      "size of cluster 120: 5554 structures\n",
      "size of cluster 121: 169 structures\n",
      "size of cluster 122: 244 structures\n",
      "size of cluster 123: 2269 structures\n",
      "size of cluster 124: 6543 structures\n",
      "size of cluster 125: 10 structures\n",
      "size of cluster 126: 19 structures\n",
      "size of cluster 127: 9 structures\n",
      "size of cluster 128: 15 structures\n",
      "size of cluster 129: 20 structures\n",
      "size of cluster 130: 9 structures\n",
      "size of cluster 131: 9 structures\n",
      "size of cluster 132: 16 structures\n",
      "size of cluster 133: 16 structures\n",
      "size of cluster 134: 19 structures\n",
      "size of cluster 135: 3 structures\n",
      "size of cluster 136: 20 structures\n",
      "size of cluster 137: 9 structures\n",
      "size of cluster 138: 37 structures\n",
      "size of cluster 139: 8 structures\n",
      "size of cluster 140: 50 structures\n",
      "size of cluster 141: 72 structures\n",
      "size of cluster 142: 11 structures\n",
      "size of cluster 143: 239 structures\n",
      "size of cluster 144: 98 structures\n",
      "size of cluster 145: 1098 structures\n",
      "size of cluster 146: 2975 structures\n",
      "size of cluster 147: 1403 structures\n",
      "size of cluster 148: 17 structures\n",
      "size of cluster 149: 5255 structures\n",
      "size of cluster 150: 1359 structures\n",
      "size of cluster 151: 846 structures\n",
      "size of cluster 152: 11539 structures\n",
      "size of cluster 153: 12464 structures\n",
      "size of cluster 154: 1376 structures\n",
      "size of cluster 155: 3372 structures\n",
      "size of cluster 156: 15294 structures\n",
      "size of cluster 157: 2027 structures\n",
      "size of cluster 158: 104 structures\n",
      "size of cluster 159: 10031 structures\n",
      "size of cluster 160: 2696 structures\n",
      "size of cluster 161: 5942 structures\n",
      "size of cluster 162: 1693 structures\n",
      "size of cluster 163: 2580 structures\n",
      "size of cluster 164: 2220 structures\n",
      "size of cluster 165: 1801 structures\n",
      "size of cluster 166: 7061 structures\n",
      "size of cluster 167: 1545 structures\n",
      "size of cluster 168: 852 structures\n",
      "size of cluster 169: 1077 structures\n",
      "size of cluster 170: 639 structures\n",
      "size of cluster 171: 3127 structures\n",
      "size of cluster 172: 55 structures\n",
      "size of cluster 173: 28 structures\n",
      "size of cluster 174: 4349 structures\n",
      "size of cluster 175: 316 structures\n",
      "size of cluster 176: 17 structures\n",
      "size of cluster 177: 8 structures\n",
      "size of cluster 178: 10 structures\n",
      "size of cluster 179: 9 structures\n",
      "size of cluster 180: 3 structures\n",
      "size of cluster 181: 8 structures\n",
      "size of cluster 182: 10 structures\n",
      "size of cluster 183: 10 structures\n",
      "size of cluster 184: 20 structures\n",
      "size of cluster 185: 11 structures\n",
      "size of cluster 186: 30 structures\n",
      "size of cluster 187: 35 structures\n",
      "size of cluster 188: 12 structures\n",
      "size of cluster 189: 7 structures\n",
      "size of cluster 190: 2 structures\n",
      "size of cluster 191: 76 structures\n",
      "size of cluster 192: 943 structures\n",
      "size of cluster 193: 75 structures\n",
      "size of cluster 194: 1618 structures\n",
      "size of cluster 195: 305 structures\n",
      "size of cluster 196: 147 structures\n",
      "size of cluster 197: 4454 structures\n",
      "size of cluster 198: 791 structures\n",
      "size of cluster 199: 2483 structures\n",
      "size of cluster 200: 67 structures\n",
      "size of cluster 201: 11 structures\n",
      "size of cluster 202: 230 structures\n",
      "size of cluster 203: 1355 structures\n",
      "size of cluster 204: 37 structures\n",
      "size of cluster 205: 472 structures\n",
      "size of cluster 206: 16 structures\n",
      "size of cluster 207: 86 structures\n",
      "size of cluster 208: 3721 structures\n",
      "size of cluster 209: 1053 structures\n",
      "size of cluster 210: 749 structures\n",
      "size of cluster 211: 11 structures\n",
      "size of cluster 212: 1 structures\n",
      "size of cluster 213: 1 structures\n",
      "size of cluster 214: 86 structures\n",
      "size of cluster 215: 118 structures\n",
      "size of cluster 216: 299 structures\n",
      "size of cluster 217: 20 structures\n",
      "size of cluster 218: 575 structures\n",
      "size of cluster 219: 449 structures\n",
      "size of cluster 220: 21 structures\n",
      "size of cluster 221: 17 structures\n",
      "size of cluster 222: 7 structures\n",
      "size of cluster 223: 16 structures\n",
      "size of cluster 224: 4 structures\n",
      "size of cluster 225: 1 structures\n",
      "size of cluster 226: 1 structures\n",
      "size of cluster 227: 4 structures\n",
      "size of cluster 228: 4 structures\n",
      "size of cluster 229: 5 structures\n",
      "size of cluster 230: 5 structures\n",
      "size of cluster 231: 1 structures\n",
      "size of cluster 232: 3 structures\n",
      "size of cluster 233: 264 structures\n",
      "size of cluster 234: 2739 structures\n"
     ]
    },
    {
     "name": "stdout",
     "output_type": "stream",
     "text": [
      "size of cluster 235: 782 structures\n",
      "size of cluster 236: 866 structures\n",
      "size of cluster 237: 943 structures\n",
      "size of cluster 238: 1023 structures\n",
      "size of cluster 239: 1356 structures\n",
      "size of cluster 240: 119 structures\n",
      "size of cluster 241: 31 structures\n",
      "size of cluster 242: 994 structures\n",
      "size of cluster 243: 456 structures\n",
      "size of cluster 244: 11 structures\n",
      "size of cluster 245: 666 structures\n",
      "size of cluster 246: 108 structures\n",
      "size of cluster 247: 142 structures\n",
      "size of cluster 248: 115 structures\n",
      "size of cluster 249: 176 structures\n",
      "size of cluster 250: 310 structures\n",
      "size of cluster 251: 152 structures\n",
      "size of cluster 252: 97 structures\n",
      "size of cluster 253: 4 structures\n",
      "size of cluster 254: 17 structures\n",
      "size of cluster 255: 8 structures\n",
      "size of cluster 256: 14 structures\n",
      "size of cluster 257: 85 structures\n",
      "size of cluster 258: 1 structures\n",
      "size of cluster 259: 484 structures\n",
      "size of cluster 260: 189 structures\n",
      "size of cluster 261: 4 structures\n",
      "size of cluster 262: 54 structures\n",
      "size of cluster 263: 60 structures\n",
      "size of cluster 264: 6 structures\n",
      "size of cluster 265: 23 structures\n",
      "size of cluster 266: 47 structures\n",
      "size of cluster 267: 38 structures\n",
      "size of cluster 268: 86 structures\n"
     ]
    }
   ],
   "source": [
    "FILE = open( './cluster_centre_1/clustering.log', \"w\" )\n",
    "\n",
    "#trajs={}\n",
    "\n",
    "for i in range(0,clustering.max_centers):\n",
    "    print('size of cluster %d: %d structures' % (i, len(mapping[i])))\n",
    "    print('size of cluster %d: %d structures' % (i, len(mapping[i])), file=FILE)\n",
    "    geoms[i].save('./cluster_centre_1/{}.pdb'.format(i))"
   ]
  },
  {
   "cell_type": "markdown",
   "metadata": {},
   "source": [
    "## K-mean clustering - key clusters"
   ]
  },
  {
   "cell_type": "code",
   "execution_count": 13,
   "metadata": {},
   "outputs": [],
   "source": [
    "n_clusters = 10"
   ]
  },
  {
   "cell_type": "code",
   "execution_count": 14,
   "metadata": {},
   "outputs": [
    {
     "data": {
      "application/vnd.jupyter.widget-view+json": {
       "model_id": "",
       "version_major": 2,
       "version_minor": 0
      },
      "text/plain": [
       "HBox(children=(HBox(children=(Label(value='initialize kmeans++ centers'),), layout=Layout(max_width='35%', min…"
      ]
     },
     "metadata": {},
     "output_type": "display_data"
    },
    {
     "data": {
      "application/vnd.jupyter.widget-view+json": {
       "model_id": "",
       "version_major": 2,
       "version_minor": 0
      },
      "text/plain": [
       "HBox(children=(HBox(children=(Label(value='kmeans iterations'),), layout=Layout(max_width='35%', min_width='35…"
      ]
     },
     "metadata": {},
     "output_type": "display_data"
    },
    {
     "name": "stdout",
     "output_type": "stream",
     "text": [
      "01-07-18 23:12:14 pyemma.coordinates.clustering.kmeans.KmeansClustering[3] INFO     Algorithm did not reach convergence criterion of 1e-05 in 10 iterations. Consider increasing max_iter.\n",
      "\r"
     ]
    }
   ],
   "source": [
    "clustering = pyemma.coordinates.cluster_kmeans(Y,k=n_clusters)"
   ]
  },
  {
   "cell_type": "code",
   "execution_count": 21,
   "metadata": {},
   "outputs": [],
   "source": [
    "def plot_labels(ax=None):\n",
    "    #if ax is None:\n",
    "        #ax = gca()\n",
    "    for i in range(0,len(clustering.clustercenters)):\n",
    "        plt.text(clustering.clustercenters[i][0]+0.07, clustering.clustercenters[i][1]+0.07, \n",
    "                 i, fontsize=10, color='white')\n"
   ]
  },
  {
   "cell_type": "code",
   "execution_count": 22,
   "metadata": {},
   "outputs": [
    {
     "data": {
      "application/vnd.jupyter.widget-view+json": {
       "model_id": "885f1f52edd1460d9c568c7cf2c3b685",
       "version_major": 2,
       "version_minor": 0
      },
      "text/plain": [
       "FigureCanvasNbAgg()"
      ]
     },
     "metadata": {},
     "output_type": "display_data"
    }
   ],
   "source": [
    "pyemma.plots.plot_free_energy(np.vstack(Y)[:, 0], np.vstack(Y)[:, 1])\n",
    "cc_x = clustering.clustercenters[:, 0]\n",
    "cc_y = clustering.clustercenters[:, 1]\n",
    "plt.plot(cc_x, cc_y, linewidth=0, marker='o', markersize=5, color='white')\n",
    "plot_labels()"
   ]
  },
  {
   "cell_type": "code",
   "execution_count": 17,
   "metadata": {},
   "outputs": [
    {
     "data": {
      "application/vnd.jupyter.widget-view+json": {
       "model_id": "",
       "version_major": 2,
       "version_minor": 0
      },
      "text/plain": [
       "HBox(children=(HBox(children=(Label(value='Obtaining file info'),), layout=Layout(max_width='35%', min_width='…"
      ]
     },
     "metadata": {},
     "output_type": "display_data"
    },
    {
     "name": "stdout",
     "output_type": "stream",
     "text": [
      "\r"
     ]
    },
    {
     "data": {
      "application/vnd.jupyter.widget-view+json": {
       "model_id": "",
       "version_major": 2,
       "version_minor": 0
      },
      "text/plain": [
       "HBox(children=(HBox(children=(Label(value='getting output of KmeansClustering'),), layout=Layout(max_width='35…"
      ]
     },
     "metadata": {},
     "output_type": "display_data"
    },
    {
     "name": "stdout",
     "output_type": "stream",
     "text": [
      "\r"
     ]
    }
   ],
   "source": [
    "data_sample, geoms = molpx.generate.sample(traj_list, topfile, clustering, n_geom_samples=1000, n_points=200)"
   ]
  },
  {
   "cell_type": "code",
   "execution_count": 18,
   "metadata": {},
   "outputs": [
    {
     "name": "stdout",
     "output_type": "stream",
     "text": [
      "size of cluster 0: 78613 structures\n",
      "size of cluster 1: 19614 structures\n",
      "size of cluster 2: 48854 structures\n",
      "size of cluster 3: 10044 structures\n",
      "size of cluster 4: 47784 structures\n",
      "size of cluster 5: 44164 structures\n",
      "size of cluster 6: 100748 structures\n",
      "size of cluster 7: 15429 structures\n",
      "size of cluster 8: 14999 structures\n",
      "size of cluster 9: 18062 structures\n"
     ]
    }
   ],
   "source": [
    "labels = np.concatenate(clustering.dtrajs)\n",
    "mapping = defaultdict(lambda : [])\n",
    "for i, label in enumerate(labels):\n",
    "    mapping[label].append(i)\n",
    "for i in range(0,len(clustering.clustercenters)):\n",
    "    print('size of cluster %d: %d structures' % (i, len(mapping[i])))"
   ]
  },
  {
   "cell_type": "code",
   "execution_count": 35,
   "metadata": {},
   "outputs": [
    {
     "data": {
      "text/plain": [
       "10"
      ]
     },
     "execution_count": 35,
     "metadata": {},
     "output_type": "execute_result"
    }
   ],
   "source": [
    "len(clustering.clustercenters)"
   ]
  },
  {
   "cell_type": "code",
   "execution_count": 36,
   "metadata": {},
   "outputs": [
    {
     "name": "stdout",
     "output_type": "stream",
     "text": [
      "size of cluster 0: 16022 structures\n",
      "size of cluster 1: 87064 structures\n",
      "size of cluster 2: 50547 structures\n",
      "size of cluster 3: 16892 structures\n",
      "size of cluster 4: 36577 structures\n",
      "size of cluster 5: 17799 structures\n",
      "size of cluster 6: 49546 structures\n",
      "size of cluster 7: 58811 structures\n",
      "size of cluster 8: 44723 structures\n",
      "size of cluster 9: 20330 structures\n"
     ]
    }
   ],
   "source": [
    "trajs={}\n",
    "\n",
    "for i in range(0,len(clustering.clustercenters)):\n",
    "    print('size of cluster %d: %d structures' % (i, len(mapping[i])))\n",
    "    geoms[i].save('./cluster_centre_2/{}.pdb'.format(i))"
   ]
  },
  {
   "cell_type": "code",
   "execution_count": null,
   "metadata": {},
   "outputs": [],
   "source": []
  },
  {
   "cell_type": "code",
   "execution_count": null,
   "metadata": {},
   "outputs": [],
   "source": []
  }
 ],
 "metadata": {
  "kernelspec": {
   "display_name": "Python 3",
   "language": "python",
   "name": "python3"
  },
  "language_info": {
   "codemirror_mode": {
    "name": "ipython",
    "version": 3
   },
   "file_extension": ".py",
   "mimetype": "text/x-python",
   "name": "python",
   "nbconvert_exporter": "python",
   "pygments_lexer": "ipython3",
   "version": "3.6.8"
  }
 },
 "nbformat": 4,
 "nbformat_minor": 2
}
