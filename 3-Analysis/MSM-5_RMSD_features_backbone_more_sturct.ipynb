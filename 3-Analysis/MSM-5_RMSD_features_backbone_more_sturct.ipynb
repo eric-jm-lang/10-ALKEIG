{
 "cells": [
  {
   "cell_type": "code",
   "execution_count": 1,
   "metadata": {},
   "outputs": [
    {
     "name": "stdout",
     "output_type": "stream",
     "text": [
      "Python version:\n",
      "3.6.8 |Anaconda custom (64-bit)| (default, Dec 30 2018, 01:22:34) \n",
      "[GCC 7.3.0]\n",
      "\n",
      "matplotlib version: 3.1.0\n",
      "pandas version: 0.24.2\n",
      "numpy version: 1.16.4\n",
      "seaborn version: 0.9.0\n"
     ]
    }
   ],
   "source": [
    "%matplotlib ipympl\n",
    "from matplotlib import pylab as plt\n",
    "import matplotlib\n",
    "import molpx\n",
    "\n",
    "import os\n",
    "import sys\n",
    "import glob\n",
    "from itertools import cycle\n",
    "\n",
    "import numpy as np\n",
    "import pandas as pd\n",
    "\n",
    "from os.path import join\n",
    "\n",
    "import seaborn as sns\n",
    "\n",
    "import mdtraj as md\n",
    "import scipy.cluster.hierarchy\n",
    "from scipy.spatial.distance import squareform\n",
    "\n",
    "import pyemma\n",
    "\n",
    "import random\n",
    "\n",
    "from os.path import join\n",
    "\n",
    "from collections import OrderedDict\n",
    "from collections import defaultdict\n",
    "\n",
    "import unicodedata\n",
    "\n",
    "\n",
    "print(\"Python version:\\n{}\\n\".format(sys.version))\n",
    "print(\"matplotlib version: {}\".format(matplotlib.__version__))\n",
    "print(\"pandas version: {}\".format(pd.__version__))\n",
    "print(\"numpy version: {}\".format(np.__version__))\n",
    "print(\"seaborn version: {}\".format(sns.__version__))"
   ]
  },
  {
   "cell_type": "code",
   "execution_count": 2,
   "metadata": {},
   "outputs": [],
   "source": [
    "indir = './Trajectories_all'\n",
    "topfile =  indir+'/open10_dry.parm7'\n",
    "from glob import glob\n",
    "traj_list = glob(indir+'/*.nc')"
   ]
  },
  {
   "cell_type": "code",
   "execution_count": 3,
   "metadata": {},
   "outputs": [],
   "source": [
    "ref1 = md.load('./Trajectories_all/open10_dry.rst7', top='./Trajectories_all/open10_dry.parm7')\n",
    "ref2 = md.load('./Trajectories_all/closed10_dry.rst7', top='./Trajectories_all/closed10_dry.parm7')\n",
    "ref3 = md.load_pdb('./cluster_centre_2/0.pdb')\n",
    "ref4 = md.load_pdb('./cluster_centre_2/1.pdb')\n",
    "ref5 = md.load_pdb('./cluster_centre_2/2.pdb')\n",
    "ref6 = md.load_pdb('./cluster_centre_2/3.pdb')\n",
    "ref7 = md.load_pdb('./cluster_centre_2/4.pdb')\n",
    "ref8 = md.load_pdb('./cluster_centre_2/5.pdb')\n",
    "ref9 = md.load_pdb('./cluster_centre_2/6.pdb')\n",
    "ref10 = md.load_pdb('./cluster_centre_2/7.pdb')\n",
    "ref11 = md.load_pdb('./cluster_centre_2/8.pdb')\n",
    "ref12 = md.load_pdb('./cluster_centre_2/9.pdb')\n",
    "    "
   ]
  },
  {
   "cell_type": "code",
   "execution_count": 4,
   "metadata": {},
   "outputs": [
    {
     "name": "stdout",
     "output_type": "stream",
     "text": [
      "[atom.index for atom in topology.atoms if atom.is_backbone]\n"
     ]
    }
   ],
   "source": [
    "selection = ref1.topology.select_expression('backbone')\n",
    "print(selection)"
   ]
  },
  {
   "cell_type": "code",
   "execution_count": 5,
   "metadata": {},
   "outputs": [],
   "source": [
    "BB=[atom.index for atom in ref1.topology.atoms if atom.is_backbone]\n"
   ]
  },
  {
   "cell_type": "code",
   "execution_count": 6,
   "metadata": {},
   "outputs": [
    {
     "data": {
      "text/plain": [
       "['minrmsd to frame 0 of <mdtraj.Trajectory with 1 frames, 2808 atoms, 192 residues, and unitcells at 0x7f6a6ca4f0b8>, subset of atoms  ',\n",
       " 'minrmsd to frame 0 of <mdtraj.Trajectory with 1 frames, 2808 atoms, 192 residues, and unitcells at 0x7f6a6caff080>, subset of atoms  ',\n",
       " 'minrmsd to frame 0 of <mdtraj.Trajectory with 1 frames, 2808 atoms, 192 residues, and unitcells at 0x7f6a6c9b0f98>, subset of atoms  ',\n",
       " 'minrmsd to frame 0 of <mdtraj.Trajectory with 1 frames, 2808 atoms, 192 residues, and unitcells at 0x7f6a6c854f98>, subset of atoms  ',\n",
       " 'minrmsd to frame 0 of <mdtraj.Trajectory with 1 frames, 2808 atoms, 192 residues, and unitcells at 0x7f6a6cab3eb8>, subset of atoms  ',\n",
       " 'minrmsd to frame 0 of <mdtraj.Trajectory with 1 frames, 2808 atoms, 192 residues, and unitcells at 0x7f6a6ca25f60>, subset of atoms  ',\n",
       " 'minrmsd to frame 0 of <mdtraj.Trajectory with 1 frames, 2808 atoms, 192 residues, and unitcells at 0x7f6a6c7e5eb8>, subset of atoms  ',\n",
       " 'minrmsd to frame 0 of <mdtraj.Trajectory with 1 frames, 2808 atoms, 192 residues, and unitcells at 0x7f6a6becff60>, subset of atoms  ',\n",
       " 'minrmsd to frame 0 of <mdtraj.Trajectory with 1 frames, 2808 atoms, 192 residues, and unitcells at 0x7f6a6bd93f98>, subset of atoms  ',\n",
       " 'minrmsd to frame 0 of <mdtraj.Trajectory with 1 frames, 2808 atoms, 192 residues, and unitcells at 0x7f6a6bc5af28>, subset of atoms  ',\n",
       " 'minrmsd to frame 0 of <mdtraj.Trajectory with 1 frames, 2808 atoms, 192 residues, and unitcells at 0x7f6a6bb1dfd0>, subset of atoms  ',\n",
       " 'minrmsd to frame 0 of <mdtraj.Trajectory with 1 frames, 2808 atoms, 192 residues, and unitcells at 0x7f6a6b9e7f60>, subset of atoms  ']"
      ]
     },
     "execution_count": 6,
     "metadata": {},
     "output_type": "execute_result"
    }
   ],
   "source": [
    "feat = pyemma.coordinates.featurizer(topfile)\n",
    "feat.add_minrmsd_to_ref(ref1, atom_indices=BB)\n",
    "feat.add_minrmsd_to_ref(ref2, atom_indices=BB)\n",
    "\n",
    "feat.add_minrmsd_to_ref(ref3, atom_indices=BB)\n",
    "feat.add_minrmsd_to_ref(ref4, atom_indices=BB)\n",
    "feat.add_minrmsd_to_ref(ref5, atom_indices=BB)\n",
    "feat.add_minrmsd_to_ref(ref6, atom_indices=BB)\n",
    "feat.add_minrmsd_to_ref(ref7, atom_indices=BB)\n",
    "feat.add_minrmsd_to_ref(ref8, atom_indices=BB)\n",
    "feat.add_minrmsd_to_ref(ref9, atom_indices=BB)\n",
    "feat.add_minrmsd_to_ref(ref10, atom_indices=BB)\n",
    "feat.add_minrmsd_to_ref(ref11, atom_indices=BB)\n",
    "feat.add_minrmsd_to_ref(ref12, atom_indices=BB)\n",
    "feat.describe()"
   ]
  },
  {
   "cell_type": "code",
   "execution_count": 7,
   "metadata": {},
   "outputs": [
    {
     "data": {
      "text/plain": [
       "12"
      ]
     },
     "execution_count": 7,
     "metadata": {},
     "output_type": "execute_result"
    }
   ],
   "source": [
    "feat.dimension()"
   ]
  },
  {
   "cell_type": "code",
   "execution_count": 8,
   "metadata": {},
   "outputs": [
    {
     "data": {
      "application/vnd.jupyter.widget-view+json": {
       "model_id": "",
       "version_major": 2,
       "version_minor": 0
      },
      "text/plain": [
       "HBox(children=(HBox(children=(Label(value='Obtaining file info'),), layout=Layout(max_width='35%', min_width='…"
      ]
     },
     "metadata": {},
     "output_type": "display_data"
    },
    {
     "name": "stdout",
     "output_type": "stream",
     "text": [
      "\r"
     ]
    }
   ],
   "source": [
    "inp = pyemma.coordinates.source(traj_list, feat)"
   ]
  },
  {
   "cell_type": "code",
   "execution_count": 9,
   "metadata": {},
   "outputs": [
    {
     "name": "stdout",
     "output_type": "stream",
     "text": [
      "number of trajectories = 20\n",
      "trajectory length = 10200 frames\n",
      "trajectory time = 510.0 ns\n",
      "trajectory time step = 50.0 ps\n",
      "number of dimension = 12\n",
      "total length = 495311 frames\n",
      "total simulated time = 24.76555 μs\n"
     ]
    }
   ],
   "source": [
    "print('number of trajectories =',inp.number_of_trajectories())\n",
    "print('trajectory length =',inp.trajectory_length(0),'frames')\n",
    "print('trajectory time =',(inp.trajectory_length(0)*50/1000),'ns')\n",
    "print('trajectory time step =',(inp.trajectory_length(0)*50)/inp.trajectory_length(0),'ps')\n",
    "print('number of dimension =',inp.dimension())\n",
    "\n",
    "S=0\n",
    "for i in range(0, inp.number_of_trajectories()):\n",
    "    #print(inp.trajectory_length(i))\n",
    "    S += inp.trajectory_length(i)\n",
    "print('total length =',S,'frames')\n",
    "T=S*50/1000000\n",
    "print('total simulated time =',T,'μs')"
   ]
  },
  {
   "cell_type": "code",
   "execution_count": 10,
   "metadata": {},
   "outputs": [
    {
     "data": {
      "application/vnd.jupyter.widget-view+json": {
       "model_id": "",
       "version_major": 2,
       "version_minor": 0
      },
      "text/plain": [
       "HBox(children=(HBox(children=(Label(value='calculate covariances'),), layout=Layout(max_width='35%', min_width…"
      ]
     },
     "metadata": {},
     "output_type": "display_data"
    },
    {
     "name": "stdout",
     "output_type": "stream",
     "text": [
      "\r",
      "TICA dimension  12\n"
     ]
    }
   ],
   "source": [
    "tica_obj = pyemma.coordinates.tica(data=inp, lag=20, var_cutoff=1)\n",
    "print('TICA dimension ', tica_obj.dimension())"
   ]
  },
  {
   "cell_type": "code",
   "execution_count": 11,
   "metadata": {},
   "outputs": [
    {
     "data": {
      "text/plain": [
       "array([0.15151036, 0.30248441, 0.44975965, 0.5708193 , 0.66062012,\n",
       "       0.73292888, 0.79383688, 0.84615427, 0.8963918 , 0.94027538,\n",
       "       0.97498786, 1.        ])"
      ]
     },
     "execution_count": 11,
     "metadata": {},
     "output_type": "execute_result"
    }
   ],
   "source": [
    "tica_obj.cumvar"
   ]
  },
  {
   "cell_type": "code",
   "execution_count": 12,
   "metadata": {},
   "outputs": [
    {
     "data": {
      "application/vnd.jupyter.widget-view+json": {
       "model_id": "",
       "version_major": 2,
       "version_minor": 0
      },
      "text/plain": [
       "HBox(children=(HBox(children=(Label(value='getting output of TICA'),), layout=Layout(max_width='35%', min_widt…"
      ]
     },
     "metadata": {},
     "output_type": "display_data"
    },
    {
     "name": "stderr",
     "output_type": "stream",
     "text": [
      "ERROR:root:Internal Python error in the inspect module.\n",
      "Below is the traceback from this internal error.\n",
      "\n"
     ]
    },
    {
     "name": "stdout",
     "output_type": "stream",
     "text": [
      "\r",
      "Traceback (most recent call last):\n",
      "  File \"/home/el14718/Software/anaconda3/lib/python3.6/site-packages/IPython/core/interactiveshell.py\", line 3296, in run_code\n",
      "    exec(code_obj, self.user_global_ns, self.user_ns)\n",
      "  File \"<ipython-input-12-efeed2e269f6>\", line 1, in <module>\n",
      "    Y = tica_obj.get_output()\n",
      "  File \"/home/el14718/Software/anaconda3/lib/python3.6/site-packages/pyemma/coordinates/data/_base/transformer.py\", line 226, in get_output\n",
      "    return super(StreamingTransformer, self).get_output(dimensions, stride, skip, chunk)\n",
      "  File \"/home/el14718/Software/anaconda3/lib/python3.6/site-packages/pyemma/coordinates/data/_base/datasource.py\", line 406, in get_output\n",
      "    for itraj, chunk in it:\n",
      "  File \"/home/el14718/Software/anaconda3/lib/python3.6/site-packages/pyemma/coordinates/data/_base/datasource.py\", line 1049, in __next__\n",
      "    X = self._use_cols(self._next_chunk())\n",
      "  File \"/home/el14718/Software/anaconda3/lib/python3.6/site-packages/pyemma/coordinates/data/_base/datasource.py\", line 1166, in _next_chunk\n",
      "    x = self._it._next_chunk()\n",
      "  File \"/home/el14718/Software/anaconda3/lib/python3.6/site-packages/pyemma/coordinates/data/_base/datasource.py\", line 1171, in _next_chunk\n",
      "    x = self.transform_function(x)\n",
      "  File \"/home/el14718/Software/anaconda3/lib/python3.6/site-packages/pyemma/coordinates/data/feature_reader.py\", line 155, in transform\n",
      "    return self.featurizer.transform(data)\n",
      "  File \"/home/el14718/Software/anaconda3/lib/python3.6/site-packages/pyemma/coordinates/data/featurization/featurizer.py\", line 912, in transform\n",
      "    vec = f.transform(traj).astype(np.float32)\n",
      "  File \"/home/el14718/Software/anaconda3/lib/python3.6/site-packages/pyemma/coordinates/data/featurization/misc.py\", line 227, in transform\n",
      "    return np.array(mdtraj.rmsd(traj, self.ref, atom_indices=self.atom_indices), ndmin=2).T\n",
      "  File \"mdtraj/rmsd/_rmsd.pyx\", line 175, in mdtraj._rmsd.rmsd\n",
      "  File \"/home/el14718/Software/anaconda3/lib/python3.6/site-packages/numpy/core/numeric.py\", line 469, in asarray\n",
      "    @set_module('numpy')\n",
      "KeyboardInterrupt\n",
      "\n",
      "During handling of the above exception, another exception occurred:\n",
      "\n",
      "Traceback (most recent call last):\n",
      "  File \"/home/el14718/Software/anaconda3/lib/python3.6/site-packages/IPython/core/interactiveshell.py\", line 2033, in showtraceback\n",
      "    stb = value._render_traceback_()\n",
      "AttributeError: 'KeyboardInterrupt' object has no attribute '_render_traceback_'\n",
      "\n",
      "During handling of the above exception, another exception occurred:\n",
      "\n",
      "Traceback (most recent call last):\n",
      "  File \"/home/el14718/Software/anaconda3/lib/python3.6/site-packages/IPython/core/ultratb.py\", line 1095, in get_records\n",
      "    return _fixed_getinnerframes(etb, number_of_lines_of_context, tb_offset)\n",
      "  File \"/home/el14718/Software/anaconda3/lib/python3.6/site-packages/IPython/core/ultratb.py\", line 313, in wrapped\n",
      "    return f(*args, **kwargs)\n",
      "  File \"/home/el14718/Software/anaconda3/lib/python3.6/site-packages/IPython/core/ultratb.py\", line 347, in _fixed_getinnerframes\n",
      "    records = fix_frame_records_filenames(inspect.getinnerframes(etb, context))\n",
      "  File \"/home/el14718/Software/anaconda3/lib/python3.6/inspect.py\", line 1490, in getinnerframes\n",
      "    frameinfo = (tb.tb_frame,) + getframeinfo(tb, context)\n",
      "  File \"/home/el14718/Software/anaconda3/lib/python3.6/inspect.py\", line 1448, in getframeinfo\n",
      "    filename = getsourcefile(frame) or getfile(frame)\n",
      "  File \"/home/el14718/Software/anaconda3/lib/python3.6/inspect.py\", line 696, in getsourcefile\n",
      "    if getattr(getmodule(object, filename), '__loader__', None) is not None:\n",
      "  File \"/home/el14718/Software/anaconda3/lib/python3.6/inspect.py\", line 742, in getmodule\n",
      "    os.path.realpath(f)] = module.__name__\n",
      "  File \"/home/el14718/Software/anaconda3/lib/python3.6/posixpath.py\", line 395, in realpath\n",
      "    path, ok = _joinrealpath(filename[:0], filename, {})\n",
      "  File \"/home/el14718/Software/anaconda3/lib/python3.6/posixpath.py\", line 429, in _joinrealpath\n",
      "    if not islink(newpath):\n",
      "  File \"/home/el14718/Software/anaconda3/lib/python3.6/posixpath.py\", line 171, in islink\n",
      "    st = os.lstat(path)\n",
      "KeyboardInterrupt\n"
     ]
    },
    {
     "ename": "KeyboardInterrupt",
     "evalue": "",
     "output_type": "error",
     "traceback": [
      "\u001b[0;31m---------------------------------------------------------------------------\u001b[0m"
     ]
    }
   ],
   "source": [
    "Y = tica_obj.get_output()"
   ]
  },
  {
   "cell_type": "code",
   "execution_count": null,
   "metadata": {},
   "outputs": [],
   "source": [
    "mpx_wdg_box = molpx.visualize.FES(traj_list,\n",
    "                                 #MD_trajfiles,\n",
    "                                 topfile,\n",
    "                                 Y,\n",
    "                                 #Y,\n",
    "                                 nbins=50,\n",
    "                                 #proj_idxs=[1,2],\n",
    "                                 proj_labels='TIC',\n",
    "                                 #n_overlays=5,\n",
    "                                )\n",
    "mpx_wdg_box"
   ]
  },
  {
   "cell_type": "code",
   "execution_count": 14,
   "metadata": {},
   "outputs": [
    {
     "data": {
      "application/vnd.jupyter.widget-view+json": {
       "model_id": "a2257c1aada644ecae86a33e37f8ca99",
       "version_major": 2,
       "version_minor": 0
      },
      "text/plain": [
       "FigureCanvasNbAgg()"
      ]
     },
     "metadata": {},
     "output_type": "display_data"
    }
   ],
   "source": [
    "#plt.figure()\n",
    "pyemma.plots.plot_free_energy(np.vstack(Y)[:, 0], np.vstack(Y)[:, 1]);"
   ]
  },
  {
   "cell_type": "code",
   "execution_count": 31,
   "metadata": {},
   "outputs": [
    {
     "data": {
      "application/vnd.jupyter.widget-view+json": {
       "model_id": "e39e8dc9aa284305a5b0b5ec39fde9e6",
       "version_major": 2,
       "version_minor": 0
      },
      "text/plain": [
       "MolPXHBox(children=(VBox(children=(Button(description='NGL widgets', layout=Layout(width='100%'), style=Button…"
      ]
     },
     "metadata": {},
     "output_type": "display_data"
    }
   ],
   "source": [
    "mpx_wdg_box = molpx.visualize.traj(traj_list, \n",
    "                                   topfile, \n",
    "                                   Y,\n",
    "                                   #Y_filenames,                                          \n",
    "                                   plot_FES = False,                                        \n",
    "                                   dt = 0.01, tunits='ns',    \n",
    "                                   #traj_selection = 1,\n",
    "                                   #sharey_traj=False,\n",
    "                                   #max_frames=100,\n",
    "                                   proj_idxs=[0, 1],\n",
    "                                   panel_height=2,    \n",
    "                                   #proj_labels='TIC'\n",
    "                                  )\n",
    "mpx_wdg_box"
   ]
  },
  {
   "cell_type": "markdown",
   "metadata": {},
   "source": [
    "## Regspace Clustering"
   ]
  },
  {
   "cell_type": "code",
   "execution_count": 13,
   "metadata": {},
   "outputs": [],
   "source": [
    "clustering = pyemma.coordinates.cluster_regspace(Y,dmin=0.25)"
   ]
  },
  {
   "cell_type": "code",
   "execution_count": 14,
   "metadata": {},
   "outputs": [],
   "source": [
    "def plot_labels(ax=None):\n",
    "    #if ax is None:\n",
    "        #ax = gca()\n",
    "    for i in range(0,len(clustering.clustercenters)):\n",
    "        plt.text(clustering.clustercenters[i][0]+0.05, clustering.clustercenters[i][1]+0.05, i, fontsize=10, color='black')\n"
   ]
  },
  {
   "cell_type": "code",
   "execution_count": 15,
   "metadata": {},
   "outputs": [
    {
     "data": {
      "application/vnd.jupyter.widget-view+json": {
       "model_id": "f8d13cf8d9da488bab1a0ad07b9da1bd",
       "version_major": 2,
       "version_minor": 0
      },
      "text/plain": [
       "FigureCanvasNbAgg()"
      ]
     },
     "metadata": {},
     "output_type": "display_data"
    },
    {
     "data": {
      "text/plain": [
       "[<matplotlib.lines.Line2D at 0x7f6f8645af28>]"
      ]
     },
     "execution_count": 15,
     "metadata": {},
     "output_type": "execute_result"
    }
   ],
   "source": [
    "#plt.figure()\n",
    "pyemma.plots.plot_free_energy(np.vstack(Y)[:, 0], np.vstack(Y)[:, 1])\n",
    "cc_x = clustering.clustercenters[:, 0]\n",
    "cc_y = clustering.clustercenters[:, 1]\n",
    "plt.plot(cc_x, cc_y, linewidth=0, marker='o', markersize=5, color='black')\n",
    "#plot_labels()"
   ]
  },
  {
   "cell_type": "code",
   "execution_count": 20,
   "metadata": {},
   "outputs": [
    {
     "name": "stdout",
     "output_type": "stream",
     "text": [
      "size of cluster 0: 34 structures\n",
      "size of cluster 1: 9 structures\n",
      "size of cluster 2: 66 structures\n",
      "size of cluster 3: 1611 structures\n",
      "size of cluster 4: 286 structures\n",
      "size of cluster 5: 1538 structures\n",
      "size of cluster 6: 97 structures\n",
      "size of cluster 7: 918 structures\n",
      "size of cluster 8: 77 structures\n",
      "size of cluster 9: 234 structures\n",
      "size of cluster 10: 832 structures\n",
      "size of cluster 11: 50 structures\n",
      "size of cluster 12: 777 structures\n",
      "size of cluster 13: 3073 structures\n",
      "size of cluster 14: 2785 structures\n",
      "size of cluster 15: 1828 structures\n",
      "size of cluster 16: 2226 structures\n",
      "size of cluster 17: 1895 structures\n",
      "size of cluster 18: 144 structures\n",
      "size of cluster 19: 355 structures\n",
      "size of cluster 20: 545 structures\n",
      "size of cluster 21: 262 structures\n",
      "size of cluster 22: 224 structures\n",
      "size of cluster 23: 465 structures\n",
      "size of cluster 24: 591 structures\n",
      "size of cluster 25: 22 structures\n",
      "size of cluster 26: 2225 structures\n",
      "size of cluster 27: 1007 structures\n",
      "size of cluster 28: 954 structures\n",
      "size of cluster 29: 701 structures\n",
      "size of cluster 30: 1452 structures\n",
      "size of cluster 31: 1272 structures\n",
      "size of cluster 32: 2736 structures\n",
      "size of cluster 33: 729 structures\n",
      "size of cluster 34: 3817 structures\n",
      "size of cluster 35: 2416 structures\n",
      "size of cluster 36: 286 structures\n",
      "size of cluster 37: 857 structures\n",
      "size of cluster 38: 313 structures\n",
      "size of cluster 39: 228 structures\n",
      "size of cluster 40: 1223 structures\n",
      "size of cluster 41: 5974 structures\n",
      "size of cluster 42: 4557 structures\n",
      "size of cluster 43: 15326 structures\n",
      "size of cluster 44: 33381 structures\n",
      "size of cluster 45: 22606 structures\n",
      "size of cluster 46: 13640 structures\n",
      "size of cluster 47: 10966 structures\n",
      "size of cluster 48: 20171 structures\n",
      "size of cluster 49: 6506 structures\n",
      "size of cluster 50: 3929 structures\n",
      "size of cluster 51: 771 structures\n",
      "size of cluster 52: 1743 structures\n",
      "size of cluster 53: 9024 structures\n",
      "size of cluster 54: 6667 structures\n",
      "size of cluster 55: 1572 structures\n",
      "size of cluster 56: 7801 structures\n",
      "size of cluster 57: 3078 structures\n",
      "size of cluster 58: 604 structures\n",
      "size of cluster 59: 6262 structures\n",
      "size of cluster 60: 4083 structures\n",
      "size of cluster 61: 1936 structures\n",
      "size of cluster 62: 6076 structures\n",
      "size of cluster 63: 177 structures\n",
      "size of cluster 64: 135 structures\n",
      "size of cluster 65: 32 structures\n",
      "size of cluster 66: 177 structures\n",
      "size of cluster 67: 83 structures\n",
      "size of cluster 68: 566 structures\n",
      "size of cluster 69: 5 structures\n",
      "size of cluster 70: 17 structures\n",
      "size of cluster 71: 175 structures\n",
      "size of cluster 72: 1573 structures\n",
      "size of cluster 73: 716 structures\n",
      "size of cluster 74: 1847 structures\n",
      "size of cluster 75: 3063 structures\n",
      "size of cluster 76: 195 structures\n",
      "size of cluster 77: 449 structures\n",
      "size of cluster 78: 858 structures\n",
      "size of cluster 79: 46 structures\n",
      "size of cluster 80: 2 structures\n",
      "size of cluster 81: 297 structures\n",
      "size of cluster 82: 10 structures\n",
      "size of cluster 83: 34 structures\n",
      "size of cluster 84: 122 structures\n",
      "size of cluster 85: 7 structures\n",
      "size of cluster 86: 476 structures\n",
      "size of cluster 87: 44 structures\n",
      "size of cluster 88: 49 structures\n",
      "size of cluster 89: 941 structures\n",
      "size of cluster 90: 152 structures\n",
      "size of cluster 91: 566 structures\n",
      "size of cluster 92: 67 structures\n",
      "size of cluster 93: 2 structures\n",
      "size of cluster 94: 1 structures\n",
      "size of cluster 95: 160 structures\n",
      "size of cluster 96: 730 structures\n",
      "size of cluster 97: 129 structures\n",
      "size of cluster 98: 23 structures\n",
      "size of cluster 99: 356 structures\n",
      "size of cluster 100: 94 structures\n",
      "size of cluster 101: 8 structures\n",
      "size of cluster 102: 1336 structures\n",
      "size of cluster 103: 138 structures\n",
      "size of cluster 104: 15 structures\n",
      "size of cluster 105: 21 structures\n",
      "size of cluster 106: 10 structures\n",
      "size of cluster 107: 19 structures\n",
      "size of cluster 108: 5 structures\n",
      "size of cluster 109: 2 structures\n",
      "size of cluster 110: 1 structures\n",
      "size of cluster 111: 1 structures\n",
      "size of cluster 112: 40 structures\n",
      "size of cluster 113: 7 structures\n",
      "size of cluster 114: 34 structures\n",
      "size of cluster 115: 5 structures\n",
      "size of cluster 116: 3 structures\n",
      "size of cluster 117: 45 structures\n",
      "size of cluster 118: 1 structures\n",
      "size of cluster 119: 802 structures\n",
      "size of cluster 120: 5554 structures\n",
      "size of cluster 121: 169 structures\n",
      "size of cluster 122: 244 structures\n",
      "size of cluster 123: 2269 structures\n",
      "size of cluster 124: 6543 structures\n",
      "size of cluster 125: 10 structures\n",
      "size of cluster 126: 19 structures\n",
      "size of cluster 127: 9 structures\n",
      "size of cluster 128: 15 structures\n",
      "size of cluster 129: 20 structures\n",
      "size of cluster 130: 9 structures\n",
      "size of cluster 131: 9 structures\n",
      "size of cluster 132: 16 structures\n",
      "size of cluster 133: 16 structures\n",
      "size of cluster 134: 19 structures\n",
      "size of cluster 135: 3 structures\n",
      "size of cluster 136: 20 structures\n",
      "size of cluster 137: 9 structures\n",
      "size of cluster 138: 37 structures\n",
      "size of cluster 139: 8 structures\n",
      "size of cluster 140: 50 structures\n",
      "size of cluster 141: 72 structures\n",
      "size of cluster 142: 11 structures\n",
      "size of cluster 143: 239 structures\n",
      "size of cluster 144: 98 structures\n",
      "size of cluster 145: 1098 structures\n",
      "size of cluster 146: 2975 structures\n",
      "size of cluster 147: 1403 structures\n",
      "size of cluster 148: 17 structures\n",
      "size of cluster 149: 5255 structures\n",
      "size of cluster 150: 1359 structures\n",
      "size of cluster 151: 846 structures\n",
      "size of cluster 152: 11539 structures\n",
      "size of cluster 153: 12464 structures\n",
      "size of cluster 154: 1376 structures\n",
      "size of cluster 155: 3372 structures\n",
      "size of cluster 156: 15294 structures\n",
      "size of cluster 157: 2027 structures\n",
      "size of cluster 158: 104 structures\n",
      "size of cluster 159: 10031 structures\n",
      "size of cluster 160: 2696 structures\n",
      "size of cluster 161: 5942 structures\n",
      "size of cluster 162: 1693 structures\n",
      "size of cluster 163: 2580 structures\n",
      "size of cluster 164: 2220 structures\n",
      "size of cluster 165: 1801 structures\n",
      "size of cluster 166: 7061 structures\n",
      "size of cluster 167: 1545 structures\n",
      "size of cluster 168: 852 structures\n",
      "size of cluster 169: 1077 structures\n",
      "size of cluster 170: 639 structures\n",
      "size of cluster 171: 3127 structures\n",
      "size of cluster 172: 55 structures\n",
      "size of cluster 173: 28 structures\n",
      "size of cluster 174: 4349 structures\n",
      "size of cluster 175: 316 structures\n",
      "size of cluster 176: 17 structures\n",
      "size of cluster 177: 8 structures\n",
      "size of cluster 178: 10 structures\n",
      "size of cluster 179: 9 structures\n",
      "size of cluster 180: 3 structures\n",
      "size of cluster 181: 8 structures\n",
      "size of cluster 182: 10 structures\n",
      "size of cluster 183: 10 structures\n",
      "size of cluster 184: 20 structures\n",
      "size of cluster 185: 11 structures\n",
      "size of cluster 186: 30 structures\n",
      "size of cluster 187: 35 structures\n",
      "size of cluster 188: 12 structures\n",
      "size of cluster 189: 7 structures\n",
      "size of cluster 190: 2 structures\n",
      "size of cluster 191: 76 structures\n",
      "size of cluster 192: 943 structures\n",
      "size of cluster 193: 75 structures\n",
      "size of cluster 194: 1618 structures\n",
      "size of cluster 195: 305 structures\n",
      "size of cluster 196: 147 structures\n",
      "size of cluster 197: 4454 structures\n",
      "size of cluster 198: 791 structures\n",
      "size of cluster 199: 2483 structures\n",
      "size of cluster 200: 67 structures\n",
      "size of cluster 201: 11 structures\n",
      "size of cluster 202: 230 structures\n",
      "size of cluster 203: 1355 structures\n",
      "size of cluster 204: 37 structures\n",
      "size of cluster 205: 472 structures\n",
      "size of cluster 206: 16 structures\n",
      "size of cluster 207: 86 structures\n",
      "size of cluster 208: 3721 structures\n",
      "size of cluster 209: 1053 structures\n",
      "size of cluster 210: 749 structures\n",
      "size of cluster 211: 11 structures\n",
      "size of cluster 212: 1 structures\n",
      "size of cluster 213: 1 structures\n",
      "size of cluster 214: 86 structures\n",
      "size of cluster 215: 118 structures\n",
      "size of cluster 216: 299 structures\n",
      "size of cluster 217: 20 structures\n",
      "size of cluster 218: 575 structures\n",
      "size of cluster 219: 449 structures\n",
      "size of cluster 220: 21 structures\n",
      "size of cluster 221: 17 structures\n",
      "size of cluster 222: 7 structures\n",
      "size of cluster 223: 16 structures\n",
      "size of cluster 224: 4 structures\n",
      "size of cluster 225: 1 structures\n",
      "size of cluster 226: 1 structures\n",
      "size of cluster 227: 4 structures\n",
      "size of cluster 228: 4 structures\n",
      "size of cluster 229: 5 structures\n",
      "size of cluster 230: 5 structures\n",
      "size of cluster 231: 1 structures\n",
      "size of cluster 232: 3 structures\n",
      "size of cluster 233: 264 structures\n",
      "size of cluster 234: 2739 structures\n",
      "size of cluster 235: 782 structures\n",
      "size of cluster 236: 866 structures\n",
      "size of cluster 237: 943 structures\n",
      "size of cluster 238: 1023 structures\n",
      "size of cluster 239: 1356 structures\n",
      "size of cluster 240: 119 structures\n",
      "size of cluster 241: 31 structures\n",
      "size of cluster 242: 994 structures\n",
      "size of cluster 243: 456 structures\n",
      "size of cluster 244: 11 structures\n",
      "size of cluster 245: 666 structures\n",
      "size of cluster 246: 108 structures\n",
      "size of cluster 247: 142 structures\n",
      "size of cluster 248: 115 structures\n",
      "size of cluster 249: 176 structures\n",
      "size of cluster 250: 310 structures\n",
      "size of cluster 251: 152 structures\n",
      "size of cluster 252: 97 structures\n",
      "size of cluster 253: 4 structures\n",
      "size of cluster 254: 17 structures\n",
      "size of cluster 255: 8 structures\n",
      "size of cluster 256: 14 structures\n",
      "size of cluster 257: 85 structures\n",
      "size of cluster 258: 1 structures\n",
      "size of cluster 259: 484 structures\n",
      "size of cluster 260: 189 structures\n",
      "size of cluster 261: 4 structures\n",
      "size of cluster 262: 54 structures\n",
      "size of cluster 263: 60 structures\n",
      "size of cluster 264: 6 structures\n",
      "size of cluster 265: 23 structures\n",
      "size of cluster 266: 47 structures\n",
      "size of cluster 267: 38 structures\n",
      "size of cluster 268: 86 structures\n"
     ]
    }
   ],
   "source": [
    "labels = np.concatenate(clustering.dtrajs)\n",
    "mapping = defaultdict(lambda : [])\n",
    "for i, label in enumerate(labels):\n",
    "    mapping[label].append(i)\n",
    "for i in range(0,len(clustering.clustercenters)):\n",
    "    print('size of cluster %d: %d structures' % (i, len(mapping[i])))\n"
   ]
  },
  {
   "cell_type": "code",
   "execution_count": 21,
   "metadata": {},
   "outputs": [
    {
     "data": {
      "application/vnd.jupyter.widget-view+json": {
       "model_id": "",
       "version_major": 2,
       "version_minor": 0
      },
      "text/plain": [
       "HBox(children=(HBox(children=(Label(value='Obtaining file info'),), layout=Layout(max_width='35%', min_width='…"
      ]
     },
     "metadata": {},
     "output_type": "display_data"
    },
    {
     "name": "stdout",
     "output_type": "stream",
     "text": [
      "\r"
     ]
    }
   ],
   "source": [
    "data_sample, geoms = molpx.generate.sample(traj_list, topfile, clustering, n_geom_samples=200, n_points=200)"
   ]
  },
  {
   "cell_type": "code",
   "execution_count": 22,
   "metadata": {},
   "outputs": [
    {
     "data": {
      "text/plain": [
       "269"
      ]
     },
     "execution_count": 22,
     "metadata": {},
     "output_type": "execute_result"
    }
   ],
   "source": [
    "clustering.max_centers"
   ]
  },
  {
   "cell_type": "code",
   "execution_count": 23,
   "metadata": {},
   "outputs": [
    {
     "name": "stdout",
     "output_type": "stream",
     "text": [
      "size of cluster 0: 34 structures\n",
      "size of cluster 1: 9 structures\n",
      "size of cluster 2: 66 structures\n",
      "size of cluster 3: 1611 structures\n",
      "size of cluster 4: 286 structures\n",
      "size of cluster 5: 1538 structures\n",
      "size of cluster 6: 97 structures\n",
      "size of cluster 7: 918 structures\n",
      "size of cluster 8: 77 structures\n",
      "size of cluster 9: 234 structures\n",
      "size of cluster 10: 832 structures\n",
      "size of cluster 11: 50 structures\n",
      "size of cluster 12: 777 structures\n",
      "size of cluster 13: 3073 structures\n",
      "size of cluster 14: 2785 structures\n",
      "size of cluster 15: 1828 structures\n",
      "size of cluster 16: 2226 structures\n",
      "size of cluster 17: 1895 structures\n",
      "size of cluster 18: 144 structures\n",
      "size of cluster 19: 355 structures\n",
      "size of cluster 20: 545 structures\n",
      "size of cluster 21: 262 structures\n",
      "size of cluster 22: 224 structures\n",
      "size of cluster 23: 465 structures\n",
      "size of cluster 24: 591 structures\n",
      "size of cluster 25: 22 structures\n",
      "size of cluster 26: 2225 structures\n",
      "size of cluster 27: 1007 structures\n",
      "size of cluster 28: 954 structures\n",
      "size of cluster 29: 701 structures\n",
      "size of cluster 30: 1452 structures\n",
      "size of cluster 31: 1272 structures\n",
      "size of cluster 32: 2736 structures\n",
      "size of cluster 33: 729 structures\n",
      "size of cluster 34: 3817 structures\n",
      "size of cluster 35: 2416 structures\n",
      "size of cluster 36: 286 structures\n",
      "size of cluster 37: 857 structures\n",
      "size of cluster 38: 313 structures\n",
      "size of cluster 39: 228 structures\n",
      "size of cluster 40: 1223 structures\n",
      "size of cluster 41: 5974 structures\n",
      "size of cluster 42: 4557 structures\n",
      "size of cluster 43: 15326 structures\n",
      "size of cluster 44: 33381 structures\n",
      "size of cluster 45: 22606 structures\n",
      "size of cluster 46: 13640 structures\n",
      "size of cluster 47: 10966 structures\n",
      "size of cluster 48: 20171 structures\n",
      "size of cluster 49: 6506 structures\n",
      "size of cluster 50: 3929 structures\n",
      "size of cluster 51: 771 structures\n",
      "size of cluster 52: 1743 structures\n",
      "size of cluster 53: 9024 structures\n",
      "size of cluster 54: 6667 structures\n",
      "size of cluster 55: 1572 structures\n",
      "size of cluster 56: 7801 structures\n",
      "size of cluster 57: 3078 structures\n",
      "size of cluster 58: 604 structures\n",
      "size of cluster 59: 6262 structures\n",
      "size of cluster 60: 4083 structures\n",
      "size of cluster 61: 1936 structures\n",
      "size of cluster 62: 6076 structures\n",
      "size of cluster 63: 177 structures\n",
      "size of cluster 64: 135 structures\n",
      "size of cluster 65: 32 structures\n",
      "size of cluster 66: 177 structures\n",
      "size of cluster 67: 83 structures\n",
      "size of cluster 68: 566 structures\n",
      "size of cluster 69: 5 structures\n",
      "size of cluster 70: 17 structures\n",
      "size of cluster 71: 175 structures\n",
      "size of cluster 72: 1573 structures\n",
      "size of cluster 73: 716 structures\n",
      "size of cluster 74: 1847 structures\n",
      "size of cluster 75: 3063 structures\n",
      "size of cluster 76: 195 structures\n",
      "size of cluster 77: 449 structures\n",
      "size of cluster 78: 858 structures\n",
      "size of cluster 79: 46 structures\n",
      "size of cluster 80: 2 structures\n",
      "size of cluster 81: 297 structures\n",
      "size of cluster 82: 10 structures\n",
      "size of cluster 83: 34 structures\n",
      "size of cluster 84: 122 structures\n",
      "size of cluster 85: 7 structures\n",
      "size of cluster 86: 476 structures\n",
      "size of cluster 87: 44 structures\n",
      "size of cluster 88: 49 structures\n",
      "size of cluster 89: 941 structures\n",
      "size of cluster 90: 152 structures\n",
      "size of cluster 91: 566 structures\n",
      "size of cluster 92: 67 structures\n",
      "size of cluster 93: 2 structures\n",
      "size of cluster 94: 1 structures\n",
      "size of cluster 95: 160 structures\n",
      "size of cluster 96: 730 structures\n",
      "size of cluster 97: 129 structures\n",
      "size of cluster 98: 23 structures\n",
      "size of cluster 99: 356 structures\n",
      "size of cluster 100: 94 structures\n",
      "size of cluster 101: 8 structures\n",
      "size of cluster 102: 1336 structures\n",
      "size of cluster 103: 138 structures\n",
      "size of cluster 104: 15 structures\n",
      "size of cluster 105: 21 structures\n",
      "size of cluster 106: 10 structures\n",
      "size of cluster 107: 19 structures\n",
      "size of cluster 108: 5 structures\n",
      "size of cluster 109: 2 structures\n",
      "size of cluster 110: 1 structures\n",
      "size of cluster 111: 1 structures\n",
      "size of cluster 112: 40 structures\n",
      "size of cluster 113: 7 structures\n",
      "size of cluster 114: 34 structures\n",
      "size of cluster 115: 5 structures\n",
      "size of cluster 116: 3 structures\n",
      "size of cluster 117: 45 structures\n",
      "size of cluster 118: 1 structures\n",
      "size of cluster 119: 802 structures\n",
      "size of cluster 120: 5554 structures\n",
      "size of cluster 121: 169 structures\n",
      "size of cluster 122: 244 structures\n",
      "size of cluster 123: 2269 structures\n",
      "size of cluster 124: 6543 structures\n",
      "size of cluster 125: 10 structures\n",
      "size of cluster 126: 19 structures\n",
      "size of cluster 127: 9 structures\n",
      "size of cluster 128: 15 structures\n",
      "size of cluster 129: 20 structures\n",
      "size of cluster 130: 9 structures\n",
      "size of cluster 131: 9 structures\n",
      "size of cluster 132: 16 structures\n",
      "size of cluster 133: 16 structures\n",
      "size of cluster 134: 19 structures\n",
      "size of cluster 135: 3 structures\n",
      "size of cluster 136: 20 structures\n",
      "size of cluster 137: 9 structures\n",
      "size of cluster 138: 37 structures\n",
      "size of cluster 139: 8 structures\n",
      "size of cluster 140: 50 structures\n",
      "size of cluster 141: 72 structures\n",
      "size of cluster 142: 11 structures\n",
      "size of cluster 143: 239 structures\n",
      "size of cluster 144: 98 structures\n",
      "size of cluster 145: 1098 structures\n",
      "size of cluster 146: 2975 structures\n",
      "size of cluster 147: 1403 structures\n",
      "size of cluster 148: 17 structures\n",
      "size of cluster 149: 5255 structures\n",
      "size of cluster 150: 1359 structures\n",
      "size of cluster 151: 846 structures\n",
      "size of cluster 152: 11539 structures\n",
      "size of cluster 153: 12464 structures\n",
      "size of cluster 154: 1376 structures\n",
      "size of cluster 155: 3372 structures\n",
      "size of cluster 156: 15294 structures\n",
      "size of cluster 157: 2027 structures\n",
      "size of cluster 158: 104 structures\n",
      "size of cluster 159: 10031 structures\n",
      "size of cluster 160: 2696 structures\n",
      "size of cluster 161: 5942 structures\n",
      "size of cluster 162: 1693 structures\n",
      "size of cluster 163: 2580 structures\n",
      "size of cluster 164: 2220 structures\n",
      "size of cluster 165: 1801 structures\n",
      "size of cluster 166: 7061 structures\n",
      "size of cluster 167: 1545 structures\n",
      "size of cluster 168: 852 structures\n",
      "size of cluster 169: 1077 structures\n",
      "size of cluster 170: 639 structures\n",
      "size of cluster 171: 3127 structures\n",
      "size of cluster 172: 55 structures\n",
      "size of cluster 173: 28 structures\n",
      "size of cluster 174: 4349 structures\n",
      "size of cluster 175: 316 structures\n",
      "size of cluster 176: 17 structures\n",
      "size of cluster 177: 8 structures\n",
      "size of cluster 178: 10 structures\n",
      "size of cluster 179: 9 structures\n",
      "size of cluster 180: 3 structures\n",
      "size of cluster 181: 8 structures\n",
      "size of cluster 182: 10 structures\n",
      "size of cluster 183: 10 structures\n",
      "size of cluster 184: 20 structures\n",
      "size of cluster 185: 11 structures\n",
      "size of cluster 186: 30 structures\n",
      "size of cluster 187: 35 structures\n",
      "size of cluster 188: 12 structures\n",
      "size of cluster 189: 7 structures\n",
      "size of cluster 190: 2 structures\n",
      "size of cluster 191: 76 structures\n",
      "size of cluster 192: 943 structures\n",
      "size of cluster 193: 75 structures\n",
      "size of cluster 194: 1618 structures\n",
      "size of cluster 195: 305 structures\n",
      "size of cluster 196: 147 structures\n",
      "size of cluster 197: 4454 structures\n",
      "size of cluster 198: 791 structures\n",
      "size of cluster 199: 2483 structures\n",
      "size of cluster 200: 67 structures\n",
      "size of cluster 201: 11 structures\n",
      "size of cluster 202: 230 structures\n",
      "size of cluster 203: 1355 structures\n",
      "size of cluster 204: 37 structures\n",
      "size of cluster 205: 472 structures\n",
      "size of cluster 206: 16 structures\n",
      "size of cluster 207: 86 structures\n",
      "size of cluster 208: 3721 structures\n",
      "size of cluster 209: 1053 structures\n",
      "size of cluster 210: 749 structures\n",
      "size of cluster 211: 11 structures\n",
      "size of cluster 212: 1 structures\n",
      "size of cluster 213: 1 structures\n",
      "size of cluster 214: 86 structures\n",
      "size of cluster 215: 118 structures\n",
      "size of cluster 216: 299 structures\n",
      "size of cluster 217: 20 structures\n",
      "size of cluster 218: 575 structures\n",
      "size of cluster 219: 449 structures\n",
      "size of cluster 220: 21 structures\n",
      "size of cluster 221: 17 structures\n",
      "size of cluster 222: 7 structures\n",
      "size of cluster 223: 16 structures\n",
      "size of cluster 224: 4 structures\n",
      "size of cluster 225: 1 structures\n",
      "size of cluster 226: 1 structures\n",
      "size of cluster 227: 4 structures\n",
      "size of cluster 228: 4 structures\n",
      "size of cluster 229: 5 structures\n",
      "size of cluster 230: 5 structures\n",
      "size of cluster 231: 1 structures\n",
      "size of cluster 232: 3 structures\n",
      "size of cluster 233: 264 structures\n",
      "size of cluster 234: 2739 structures\n"
     ]
    },
    {
     "name": "stdout",
     "output_type": "stream",
     "text": [
      "size of cluster 235: 782 structures\n",
      "size of cluster 236: 866 structures\n",
      "size of cluster 237: 943 structures\n",
      "size of cluster 238: 1023 structures\n",
      "size of cluster 239: 1356 structures\n",
      "size of cluster 240: 119 structures\n",
      "size of cluster 241: 31 structures\n",
      "size of cluster 242: 994 structures\n",
      "size of cluster 243: 456 structures\n",
      "size of cluster 244: 11 structures\n",
      "size of cluster 245: 666 structures\n",
      "size of cluster 246: 108 structures\n",
      "size of cluster 247: 142 structures\n",
      "size of cluster 248: 115 structures\n",
      "size of cluster 249: 176 structures\n",
      "size of cluster 250: 310 structures\n",
      "size of cluster 251: 152 structures\n",
      "size of cluster 252: 97 structures\n",
      "size of cluster 253: 4 structures\n",
      "size of cluster 254: 17 structures\n",
      "size of cluster 255: 8 structures\n",
      "size of cluster 256: 14 structures\n",
      "size of cluster 257: 85 structures\n",
      "size of cluster 258: 1 structures\n",
      "size of cluster 259: 484 structures\n",
      "size of cluster 260: 189 structures\n",
      "size of cluster 261: 4 structures\n",
      "size of cluster 262: 54 structures\n",
      "size of cluster 263: 60 structures\n",
      "size of cluster 264: 6 structures\n",
      "size of cluster 265: 23 structures\n",
      "size of cluster 266: 47 structures\n",
      "size of cluster 267: 38 structures\n",
      "size of cluster 268: 86 structures\n"
     ]
    }
   ],
   "source": [
    "FILE = open( './cluster_centre_1/clustering.log', \"w\" )\n",
    "\n",
    "#trajs={}\n",
    "\n",
    "for i in range(0,clustering.max_centers):\n",
    "    print('size of cluster %d: %d structures' % (i, len(mapping[i])))\n",
    "    print('size of cluster %d: %d structures' % (i, len(mapping[i])), file=FILE)\n",
    "    geoms[i].save('./cluster_centre_1/{}.pdb'.format(i))"
   ]
  },
  {
   "cell_type": "markdown",
   "metadata": {},
   "source": [
    "## K-mean clustering - key clusters"
   ]
  },
  {
   "cell_type": "code",
   "execution_count": 29,
   "metadata": {},
   "outputs": [],
   "source": [
    "n_clusters = 10"
   ]
  },
  {
   "cell_type": "code",
   "execution_count": 30,
   "metadata": {},
   "outputs": [
    {
     "data": {
      "application/vnd.jupyter.widget-view+json": {
       "model_id": "",
       "version_major": 2,
       "version_minor": 0
      },
      "text/plain": [
       "HBox(children=(HBox(children=(Label(value='initialize kmeans++ centers'),), layout=Layout(max_width='35%', min…"
      ]
     },
     "metadata": {},
     "output_type": "display_data"
    },
    {
     "data": {
      "application/vnd.jupyter.widget-view+json": {
       "model_id": "",
       "version_major": 2,
       "version_minor": 0
      },
      "text/plain": [
       "HBox(children=(HBox(children=(Label(value='kmeans iterations'),), layout=Layout(max_width='35%', min_width='35…"
      ]
     },
     "metadata": {},
     "output_type": "display_data"
    },
    {
     "name": "stdout",
     "output_type": "stream",
     "text": [
      "29-06-18 15:10:38 pyemma.coordinates.clustering.kmeans.KmeansClustering[31] INFO     Algorithm did not reach convergence criterion of 1e-05 in 10 iterations. Consider increasing max_iter.\n",
      "\r"
     ]
    }
   ],
   "source": [
    "clustering = pyemma.coordinates.cluster_kmeans(Y,k=n_clusters)"
   ]
  },
  {
   "cell_type": "code",
   "execution_count": 31,
   "metadata": {},
   "outputs": [],
   "source": [
    "def plot_labels(ax=None):\n",
    "    #if ax is None:\n",
    "        #ax = gca()\n",
    "    for i in range(0,len(clustering.clustercenters)):\n",
    "        plt.text(clustering.clustercenters[i][0]+0.05, clustering.clustercenters[i][1]+0.05, \n",
    "                 i, fontsize=10, color='black')\n"
   ]
  },
  {
   "cell_type": "code",
   "execution_count": 32,
   "metadata": {},
   "outputs": [
    {
     "data": {
      "application/vnd.jupyter.widget-view+json": {
       "model_id": "27ac36ee2513423b87430041ae5276eb",
       "version_major": 2,
       "version_minor": 0
      },
      "text/plain": [
       "FigureCanvasNbAgg()"
      ]
     },
     "metadata": {},
     "output_type": "display_data"
    }
   ],
   "source": [
    "pyemma.plots.plot_free_energy(np.vstack(Y)[:, 0], np.vstack(Y)[:, 1])\n",
    "cc_x = clustering.clustercenters[:, 0]\n",
    "cc_y = clustering.clustercenters[:, 1]\n",
    "plt.plot(cc_x, cc_y, linewidth=0, marker='o', markersize=5, color='black')\n",
    "plot_labels()"
   ]
  },
  {
   "cell_type": "code",
   "execution_count": 33,
   "metadata": {},
   "outputs": [
    {
     "data": {
      "application/vnd.jupyter.widget-view+json": {
       "model_id": "",
       "version_major": 2,
       "version_minor": 0
      },
      "text/plain": [
       "HBox(children=(HBox(children=(Label(value='Obtaining file info'),), layout=Layout(max_width='35%', min_width='…"
      ]
     },
     "metadata": {},
     "output_type": "display_data"
    },
    {
     "name": "stdout",
     "output_type": "stream",
     "text": [
      "\r"
     ]
    },
    {
     "data": {
      "application/vnd.jupyter.widget-view+json": {
       "model_id": "",
       "version_major": 2,
       "version_minor": 0
      },
      "text/plain": [
       "HBox(children=(HBox(children=(Label(value='getting output of KmeansClustering'),), layout=Layout(max_width='35…"
      ]
     },
     "metadata": {},
     "output_type": "display_data"
    },
    {
     "name": "stdout",
     "output_type": "stream",
     "text": [
      "\r"
     ]
    }
   ],
   "source": [
    "data_sample, geoms = molpx.generate.sample(traj_list, topfile, clustering, n_geom_samples=1000, n_points=200)"
   ]
  },
  {
   "cell_type": "code",
   "execution_count": 34,
   "metadata": {},
   "outputs": [
    {
     "name": "stdout",
     "output_type": "stream",
     "text": [
      "size of cluster 0: 16022 structures\n",
      "size of cluster 1: 87064 structures\n",
      "size of cluster 2: 50547 structures\n",
      "size of cluster 3: 16892 structures\n",
      "size of cluster 4: 36577 structures\n",
      "size of cluster 5: 17799 structures\n",
      "size of cluster 6: 49546 structures\n",
      "size of cluster 7: 58811 structures\n",
      "size of cluster 8: 44723 structures\n",
      "size of cluster 9: 20330 structures\n"
     ]
    }
   ],
   "source": [
    "labels = np.concatenate(clustering.dtrajs)\n",
    "mapping = defaultdict(lambda : [])\n",
    "for i, label in enumerate(labels):\n",
    "    mapping[label].append(i)\n",
    "for i in range(0,len(clustering.clustercenters)):\n",
    "    print('size of cluster %d: %d structures' % (i, len(mapping[i])))"
   ]
  },
  {
   "cell_type": "code",
   "execution_count": 35,
   "metadata": {},
   "outputs": [
    {
     "data": {
      "text/plain": [
       "10"
      ]
     },
     "execution_count": 35,
     "metadata": {},
     "output_type": "execute_result"
    }
   ],
   "source": [
    "len(clustering.clustercenters)"
   ]
  },
  {
   "cell_type": "code",
   "execution_count": 36,
   "metadata": {},
   "outputs": [
    {
     "name": "stdout",
     "output_type": "stream",
     "text": [
      "size of cluster 0: 16022 structures\n",
      "size of cluster 1: 87064 structures\n",
      "size of cluster 2: 50547 structures\n",
      "size of cluster 3: 16892 structures\n",
      "size of cluster 4: 36577 structures\n",
      "size of cluster 5: 17799 structures\n",
      "size of cluster 6: 49546 structures\n",
      "size of cluster 7: 58811 structures\n",
      "size of cluster 8: 44723 structures\n",
      "size of cluster 9: 20330 structures\n"
     ]
    }
   ],
   "source": [
    "trajs={}\n",
    "\n",
    "for i in range(0,len(clustering.clustercenters)):\n",
    "    print('size of cluster %d: %d structures' % (i, len(mapping[i])))\n",
    "    geoms[i].save('./cluster_centre_2/{}.pdb'.format(i))"
   ]
  },
  {
   "cell_type": "code",
   "execution_count": null,
   "metadata": {},
   "outputs": [],
   "source": []
  },
  {
   "cell_type": "code",
   "execution_count": null,
   "metadata": {},
   "outputs": [],
   "source": []
  }
 ],
 "metadata": {
  "kernelspec": {
   "display_name": "Python 3",
   "language": "python",
   "name": "python3"
  },
  "language_info": {
   "codemirror_mode": {
    "name": "ipython",
    "version": 3
   },
   "file_extension": ".py",
   "mimetype": "text/x-python",
   "name": "python",
   "nbconvert_exporter": "python",
   "pygments_lexer": "ipython3",
   "version": "3.7.8"
  },
  "toc": {
   "base_numbering": 1,
   "nav_menu": {},
   "number_sections": true,
   "sideBar": true,
   "skip_h1_title": false,
   "title_cell": "Table of Contents",
   "title_sidebar": "Contents",
   "toc_cell": false,
   "toc_position": {},
   "toc_section_display": true,
   "toc_window_display": false
  }
 },
 "nbformat": 4,
 "nbformat_minor": 2
}
