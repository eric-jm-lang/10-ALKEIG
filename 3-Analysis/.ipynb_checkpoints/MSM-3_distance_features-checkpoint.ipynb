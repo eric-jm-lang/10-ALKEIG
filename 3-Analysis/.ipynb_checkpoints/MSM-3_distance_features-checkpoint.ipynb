{
 "cells": [
  {
   "cell_type": "code",
   "execution_count": 1,
   "metadata": {},
   "outputs": [
    {
     "name": "stdout",
     "output_type": "stream",
     "text": [
      "Python version:\n",
      "3.6.8 |Anaconda custom (64-bit)| (default, Dec 30 2018, 01:22:34) \n",
      "[GCC 7.3.0]\n",
      "\n",
      "matplotlib version: 3.1.0\n",
      "pandas version: 0.24.2\n",
      "numpy version: 1.16.4\n",
      "seaborn version: 0.9.0\n"
     ]
    }
   ],
   "source": [
    "%matplotlib ipympl\n",
    "from matplotlib import pylab as plt\n",
    "import matplotlib\n",
    "import molpx\n",
    "\n",
    "import os\n",
    "import sys\n",
    "import glob\n",
    "from itertools import cycle\n",
    "\n",
    "import numpy as np\n",
    "import pandas as pd\n",
    "\n",
    "from os.path import join\n",
    "\n",
    "import seaborn as sns\n",
    "\n",
    "import mdtraj as md\n",
    "import scipy.cluster.hierarchy\n",
    "from scipy.spatial.distance import squareform\n",
    "\n",
    "import pyemma\n",
    "\n",
    "import random\n",
    "\n",
    "from os.path import join\n",
    "\n",
    "from collections import OrderedDict\n",
    "from collections import defaultdict\n",
    "\n",
    "import unicodedata\n",
    "\n",
    "\n",
    "print(\"Python version:\\n{}\\n\".format(sys.version))\n",
    "print(\"matplotlib version: {}\".format(matplotlib.__version__))\n",
    "print(\"pandas version: {}\".format(pd.__version__))\n",
    "print(\"numpy version: {}\".format(np.__version__))\n",
    "print(\"seaborn version: {}\".format(sns.__version__))"
   ]
  },
  {
   "cell_type": "code",
   "execution_count": 2,
   "metadata": {},
   "outputs": [],
   "source": [
    "ref1 = md.load('./Trajectories_all/open10_dry.rst7', top='./Trajectories_all/open10_dry.parm7')"
   ]
  },
  {
   "cell_type": "code",
   "execution_count": 3,
   "metadata": {},
   "outputs": [
    {
     "name": "stdout",
     "output_type": "stream",
     "text": [
      "[ACE0, GLY1, GLU2, ILE3, GLY4, GLN5, ALA6, LEU7, LYS8, GLU9, ILE10, GLY11, LYS12, ALA13, LEU14, LYS15, GLU16, ILE17, GLY18, TYR19, ALA20, LEU21, LYS22, GLU23, ILE24, GLY25, GLN26, ALA27, LEU28, LYS29, GLY30, NHE31, ACE32, GLY33, GLU34, ILE35, GLY36, GLN37, ALA38, LEU39, LYS40, GLU41, ILE42, GLY43, LYS44, ALA45, LEU46, LYS47, GLU48, ILE49, GLY50, TYR51, ALA52, LEU53, LYS54, GLU55, ILE56, GLY57, GLN58, ALA59, LEU60, LYS61, GLY62, NHE63, ACE64, GLY65, GLU66, ILE67, GLY68, GLN69, ALA70, LEU71, LYS72, GLU73, ILE74, GLY75, LYS76, ALA77, LEU78, LYS79, GLU80, ILE81, GLY82, TYR83, ALA84, LEU85, LYS86, GLU87, ILE88, GLY89, GLN90, ALA91, LEU92, LYS93, GLY94, NHE95, ACE96, GLY97, GLU98, ILE99, GLY100, GLN101, ALA102, LEU103, LYS104, GLU105, ILE106, GLY107, LYS108, ALA109, LEU110, LYS111, GLU112, ILE113, GLY114, TYR115, ALA116, LEU117, LYS118, GLU119, ILE120, GLY121, GLN122, ALA123, LEU124, LYS125, GLY126, NHE127, ACE128, GLY129, GLU130, ILE131, GLY132, GLN133, ALA134, LEU135, LYS136, GLU137, ILE138, GLY139, LYS140, ALA141, LEU142, LYS143, GLU144, ILE145, GLY146, TYR147, ALA148, LEU149, LYS150, GLU151, ILE152, GLY153, GLN154, ALA155, LEU156, LYS157, GLY158, NHE159, ACE160, GLY161, GLU162, ILE163, GLY164, GLN165, ALA166, LEU167, LYS168, GLU169, ILE170, GLY171, LYS172, ALA173, LEU174, LYS175, GLU176, ILE177, GLY178, TYR179, ALA180, LEU181, LYS182, GLU183, ILE184, GLY185, GLN186, ALA187, LEU188, LYS189, GLY190, NHE191]\n"
     ]
    }
   ],
   "source": [
    "print([residue for residue in ref1.topology.residues])"
   ]
  },
  {
   "cell_type": "code",
   "execution_count": 4,
   "metadata": {},
   "outputs": [
    {
     "name": "stdout",
     "output_type": "stream",
     "text": [
      "[atom.index for atom in topology.atoms if ((atom.name == 'CA') and (0 <= atom.residue.index <= 31))]\n"
     ]
    }
   ],
   "source": [
    "selection = ref1.topology.select_expression('name CA and resid 0 to 31')\n",
    "print(selection)\n"
   ]
  },
  {
   "cell_type": "code",
   "execution_count": 5,
   "metadata": {},
   "outputs": [],
   "source": [
    "chainA=[atom.index for atom in ref1.topology.atoms if ((atom.name == 'CA') and (0 <= atom.residue.index <= 31))]\n",
    "chainB=[atom.index for atom in ref1.topology.atoms if ((atom.name == 'CA') and (32 <= atom.residue.index <= 63))]\n",
    "chainC=[atom.index for atom in ref1.topology.atoms if ((atom.name == 'CA') and (64 <= atom.residue.index <= 95))]\n",
    "chainD=[atom.index for atom in ref1.topology.atoms if ((atom.name == 'CA') and (96 <= atom.residue.index <= 127))]\n",
    "chainE=[atom.index for atom in ref1.topology.atoms if ((atom.name == 'CA') and (128 <= atom.residue.index <= 159))]\n",
    "chainF=[atom.index for atom in ref1.topology.atoms if ((atom.name == 'CA') and (160 <= atom.residue.index <= 191))]"
   ]
  },
  {
   "cell_type": "code",
   "execution_count": 6,
   "metadata": {},
   "outputs": [
    {
     "data": {
      "text/plain": [
       "[[8, 476],\n",
       " [476, 944],\n",
       " [944, 1412],\n",
       " [1412, 1880],\n",
       " [1880, 2348],\n",
       " [2348, 8],\n",
       " [15, 483],\n",
       " [483, 951],\n",
       " [951, 1419],\n",
       " [1419, 1887],\n",
       " [1887, 2355],\n",
       " [2355, 15],\n",
       " [30, 498],\n",
       " [498, 966],\n",
       " [966, 1434],\n",
       " [1434, 1902],\n",
       " [1902, 2370],\n",
       " [2370, 30],\n",
       " [49, 517],\n",
       " [517, 985],\n",
       " [985, 1453],\n",
       " [1453, 1921],\n",
       " [1921, 2389],\n",
       " [2389, 49],\n",
       " [56, 524],\n",
       " [524, 992],\n",
       " [992, 1460],\n",
       " [1460, 1928],\n",
       " [1928, 2396],\n",
       " [2396, 56],\n",
       " [73, 541],\n",
       " [541, 1009],\n",
       " [1009, 1477],\n",
       " [1477, 1945],\n",
       " [1945, 2413],\n",
       " [2413, 73],\n",
       " [83, 551],\n",
       " [551, 1019],\n",
       " [1019, 1487],\n",
       " [1487, 1955],\n",
       " [1955, 2423],\n",
       " [2423, 83],\n",
       " [102, 570],\n",
       " [570, 1038],\n",
       " [1038, 1506],\n",
       " [1506, 1974],\n",
       " [1974, 2442],\n",
       " [2442, 102],\n",
       " [124, 592],\n",
       " [592, 1060],\n",
       " [1060, 1528],\n",
       " [1528, 1996],\n",
       " [1996, 2464],\n",
       " [2464, 124],\n",
       " [139, 607],\n",
       " [607, 1075],\n",
       " [1075, 1543],\n",
       " [1543, 2011],\n",
       " [2011, 2479],\n",
       " [2479, 139],\n",
       " [158, 626],\n",
       " [626, 1094],\n",
       " [1094, 1562],\n",
       " [1562, 2030],\n",
       " [2030, 2498],\n",
       " [2498, 158],\n",
       " [165, 633],\n",
       " [633, 1101],\n",
       " [1101, 1569],\n",
       " [1569, 2037],\n",
       " [2037, 2505],\n",
       " [2505, 165],\n",
       " [187, 655],\n",
       " [655, 1123],\n",
       " [1123, 1591],\n",
       " [1591, 2059],\n",
       " [2059, 2527],\n",
       " [2527, 187],\n",
       " [197, 665],\n",
       " [665, 1133],\n",
       " [1133, 1601],\n",
       " [1601, 2069],\n",
       " [2069, 2537],\n",
       " [2537, 197],\n",
       " [216, 684],\n",
       " [684, 1152],\n",
       " [1152, 1620],\n",
       " [1620, 2088],\n",
       " [2088, 2556],\n",
       " [2556, 216],\n",
       " [238, 706],\n",
       " [706, 1174],\n",
       " [1174, 1642],\n",
       " [1642, 2110],\n",
       " [2110, 2578],\n",
       " [2578, 238],\n",
       " [253, 721],\n",
       " [721, 1189],\n",
       " [1189, 1657],\n",
       " [1657, 2125],\n",
       " [2125, 2593],\n",
       " [2593, 253],\n",
       " [272, 740],\n",
       " [740, 1208],\n",
       " [1208, 1676],\n",
       " [1676, 2144],\n",
       " [2144, 2612],\n",
       " [2612, 272],\n",
       " [279, 747],\n",
       " [747, 1215],\n",
       " [1215, 1683],\n",
       " [1683, 2151],\n",
       " [2151, 2619],\n",
       " [2619, 279],\n",
       " [300, 768],\n",
       " [768, 1236],\n",
       " [1236, 1704],\n",
       " [1704, 2172],\n",
       " [2172, 2640],\n",
       " [2640, 300],\n",
       " [310, 778],\n",
       " [778, 1246],\n",
       " [1246, 1714],\n",
       " [1714, 2182],\n",
       " [2182, 2650],\n",
       " [2650, 310],\n",
       " [329, 797],\n",
       " [797, 1265],\n",
       " [1265, 1733],\n",
       " [1733, 2201],\n",
       " [2201, 2669],\n",
       " [2669, 329],\n",
       " [351, 819],\n",
       " [819, 1287],\n",
       " [1287, 1755],\n",
       " [1755, 2223],\n",
       " [2223, 2691],\n",
       " [2691, 351],\n",
       " [366, 834],\n",
       " [834, 1302],\n",
       " [1302, 1770],\n",
       " [1770, 2238],\n",
       " [2238, 2706],\n",
       " [2706, 366],\n",
       " [385, 853],\n",
       " [853, 1321],\n",
       " [1321, 1789],\n",
       " [1789, 2257],\n",
       " [2257, 2725],\n",
       " [2725, 385],\n",
       " [392, 860],\n",
       " [860, 1328],\n",
       " [1328, 1796],\n",
       " [1796, 2264],\n",
       " [2264, 2732],\n",
       " [2732, 392],\n",
       " [409, 877],\n",
       " [877, 1345],\n",
       " [1345, 1813],\n",
       " [1813, 2281],\n",
       " [2281, 2749],\n",
       " [2749, 409],\n",
       " [419, 887],\n",
       " [887, 1355],\n",
       " [1355, 1823],\n",
       " [1823, 2291],\n",
       " [2291, 2759],\n",
       " [2759, 419],\n",
       " [438, 906],\n",
       " [906, 1374],\n",
       " [1374, 1842],\n",
       " [1842, 2310],\n",
       " [2310, 2778],\n",
       " [2778, 438],\n",
       " [460, 928],\n",
       " [928, 1396],\n",
       " [1396, 1864],\n",
       " [1864, 2332],\n",
       " [2332, 2800],\n",
       " [2800, 460]]"
      ]
     },
     "execution_count": 6,
     "metadata": {},
     "output_type": "execute_result"
    }
   ],
   "source": [
    "contacts=[]\n",
    "for i in range(0,len(chainA)):\n",
    "    contacts.append([chainA[i],chainB[i]])\n",
    "    contacts.append([chainB[i],chainC[i]])\n",
    "    contacts.append([chainC[i],chainD[i]])\n",
    "    contacts.append([chainD[i],chainE[i]])\n",
    "    contacts.append([chainE[i],chainF[i]])\n",
    "    contacts.append([chainF[i],chainA[i]])\n",
    "contacts"
   ]
  },
  {
   "cell_type": "code",
   "execution_count": 7,
   "metadata": {},
   "outputs": [
    {
     "data": {
      "text/plain": [
       "2"
      ]
     },
     "execution_count": 7,
     "metadata": {},
     "output_type": "execute_result"
    }
   ],
   "source": [
    "len(contacts[0])"
   ]
  },
  {
   "cell_type": "code",
   "execution_count": 8,
   "metadata": {},
   "outputs": [],
   "source": [
    "indir = './Trajectories_all'\n",
    "topfile =  indir+'/open10_dry.parm7'\n",
    "from glob import glob\n",
    "traj_list = glob(indir+'/*.nc')"
   ]
  },
  {
   "cell_type": "code",
   "execution_count": 9,
   "metadata": {},
   "outputs": [],
   "source": [
    "ref1 = md.load('./Trajectories_all/open10_dry.rst7', top='./Trajectories_all/open10_dry.parm7')\n",
    "ref2 = md.load('./Trajectories_all/closed10_dry.rst7', top='./Trajectories_all/closed10_dry.parm7')"
   ]
  },
  {
   "cell_type": "code",
   "execution_count": 10,
   "metadata": {},
   "outputs": [
    {
     "data": {
      "text/plain": [
       "['GROUP_MINDIST 0--1: [GLY 1 CA 8...GLY 30 CA 460]--[GLY 33 CA 476...GLY 62 CA 928]',\n",
       " 'GROUP_MINDIST 0--2: [GLY 1 CA 8...GLY 30 CA 460]--[GLY 65 CA 944...GLY 94 CA 1396]',\n",
       " 'GROUP_MINDIST 0--3: [GLY 1 CA 8...GLY 30 CA 460]--[GLY 97 CA 1412...GLY 126 CA 1864]',\n",
       " 'GROUP_MINDIST 0--4: [GLY 1 CA 8...GLY 30 CA 460]--[GLY 129 CA 1880...GLY 158 CA 2332]',\n",
       " 'GROUP_MINDIST 0--5: [GLY 1 CA 8...GLY 30 CA 460]--[GLY 161 CA 2348...GLY 190 CA 2800]',\n",
       " 'GROUP_MINDIST 1--2: [GLY 33 CA 476...GLY 62 CA 928]--[GLY 65 CA 944...GLY 94 CA 1396]',\n",
       " 'GROUP_MINDIST 1--3: [GLY 33 CA 476...GLY 62 CA 928]--[GLY 97 CA 1412...GLY 126 CA 1864]',\n",
       " 'GROUP_MINDIST 1--4: [GLY 33 CA 476...GLY 62 CA 928]--[GLY 129 CA 1880...GLY 158 CA 2332]',\n",
       " 'GROUP_MINDIST 1--5: [GLY 33 CA 476...GLY 62 CA 928]--[GLY 161 CA 2348...GLY 190 CA 2800]',\n",
       " 'GROUP_MINDIST 2--3: [GLY 65 CA 944...GLY 94 CA 1396]--[GLY 97 CA 1412...GLY 126 CA 1864]',\n",
       " 'GROUP_MINDIST 2--4: [GLY 65 CA 944...GLY 94 CA 1396]--[GLY 129 CA 1880...GLY 158 CA 2332]',\n",
       " 'GROUP_MINDIST 2--5: [GLY 65 CA 944...GLY 94 CA 1396]--[GLY 161 CA 2348...GLY 190 CA 2800]',\n",
       " 'GROUP_MINDIST 3--4: [GLY 97 CA 1412...GLY 126 CA 1864]--[GLY 129 CA 1880...GLY 158 CA 2332]',\n",
       " 'GROUP_MINDIST 3--5: [GLY 97 CA 1412...GLY 126 CA 1864]--[GLY 161 CA 2348...GLY 190 CA 2800]',\n",
       " 'GROUP_MINDIST 4--5: [GLY 129 CA 1880...GLY 158 CA 2332]--[GLY 161 CA 2348...GLY 190 CA 2800]']"
      ]
     },
     "execution_count": 10,
     "metadata": {},
     "output_type": "execute_result"
    }
   ],
   "source": [
    "feat = pyemma.coordinates.featurizer(topfile)\n",
    "#feat.add_distances(contacts)\n",
    "feat.add_group_mindist([chainA,chainB,chainC,chainD,chainE,chainF], \n",
    "                       group_pairs='all', threshold=None, periodic=False)\n",
    "#feat.add_contacts(contacts, threshold=0.8)\n",
    "feat.describe()"
   ]
  },
  {
   "cell_type": "code",
   "execution_count": 11,
   "metadata": {},
   "outputs": [
    {
     "data": {
      "text/plain": [
       "15"
      ]
     },
     "execution_count": 11,
     "metadata": {},
     "output_type": "execute_result"
    }
   ],
   "source": [
    "feat.dimension()"
   ]
  },
  {
   "cell_type": "code",
   "execution_count": 12,
   "metadata": {},
   "outputs": [
    {
     "data": {
      "application/vnd.jupyter.widget-view+json": {
       "model_id": "",
       "version_major": 2,
       "version_minor": 0
      },
      "text/plain": [
       "HBox(children=(HBox(children=(Label(value='Obtaining file info'),), layout=Layout(max_width='35%', min_width='…"
      ]
     },
     "metadata": {},
     "output_type": "display_data"
    },
    {
     "name": "stdout",
     "output_type": "stream",
     "text": [
      "\r"
     ]
    }
   ],
   "source": [
    "inp = pyemma.coordinates.source(traj_list, feat)"
   ]
  },
  {
   "cell_type": "code",
   "execution_count": 13,
   "metadata": {},
   "outputs": [
    {
     "name": "stdout",
     "output_type": "stream",
     "text": [
      "number of trajectories = 20\n",
      "trajectory length = 10200 frames\n",
      "trajectory time = 510.0 ns\n",
      "trajectory time step = 50.0 ps\n",
      "number of dimension = 15\n",
      "total length = 495311 frames\n",
      "total simulated time = 24.76555 μs\n"
     ]
    }
   ],
   "source": [
    "print('number of trajectories =',inp.number_of_trajectories())\n",
    "print('trajectory length =',inp.trajectory_length(0),'frames')\n",
    "print('trajectory time =',(inp.trajectory_length(0)*50/1000),'ns')\n",
    "print('trajectory time step =',(inp.trajectory_length(0)*50)/inp.trajectory_length(0),'ps')\n",
    "print('number of dimension =',inp.dimension())\n",
    "\n",
    "S=0\n",
    "for i in range(0, inp.number_of_trajectories()):\n",
    "    #print(inp.trajectory_length(i))\n",
    "    S += inp.trajectory_length(i)\n",
    "print('total length =',S,'frames')\n",
    "T=S*50/1000000\n",
    "print('total simulated time =',T,'μs')"
   ]
  },
  {
   "cell_type": "code",
   "execution_count": 14,
   "metadata": {},
   "outputs": [
    {
     "data": {
      "application/vnd.jupyter.widget-view+json": {
       "model_id": "",
       "version_major": 2,
       "version_minor": 0
      },
      "text/plain": [
       "HBox(children=(HBox(children=(Label(value='calculate covariances'),), layout=Layout(max_width='35%', min_width…"
      ]
     },
     "metadata": {},
     "output_type": "display_data"
    },
    {
     "name": "stdout",
     "output_type": "stream",
     "text": [
      "\r",
      "TICA dimension  9\n"
     ]
    }
   ],
   "source": [
    "tica_obj = pyemma.coordinates.tica(data=inp, lag=20, var_cutoff=0.90)\n",
    "print('TICA dimension ', tica_obj.dimension())"
   ]
  },
  {
   "cell_type": "code",
   "execution_count": 15,
   "metadata": {},
   "outputs": [
    {
     "data": {
      "text/plain": [
       "array([0.14082662, 0.28025206, 0.41624898, 0.54271562, 0.66134126,\n",
       "       0.75314107, 0.81368016, 0.86345223, 0.90119592, 0.93173131,\n",
       "       0.95575481, 0.97357333, 0.98426575, 0.99343842, 1.        ])"
      ]
     },
     "execution_count": 15,
     "metadata": {},
     "output_type": "execute_result"
    }
   ],
   "source": [
    "tica_obj.cumvar"
   ]
  },
  {
   "cell_type": "code",
   "execution_count": 16,
   "metadata": {},
   "outputs": [
    {
     "data": {
      "application/vnd.jupyter.widget-view+json": {
       "model_id": "",
       "version_major": 2,
       "version_minor": 0
      },
      "text/plain": [
       "HBox(children=(HBox(children=(Label(value='getting output of TICA'),), layout=Layout(max_width='35%', min_widt…"
      ]
     },
     "metadata": {},
     "output_type": "display_data"
    },
    {
     "name": "stdout",
     "output_type": "stream",
     "text": [
      "\r"
     ]
    }
   ],
   "source": [
    "Y = tica_obj.get_output()"
   ]
  },
  {
   "cell_type": "code",
   "execution_count": 17,
   "metadata": {},
   "outputs": [
    {
     "data": {
      "application/vnd.jupyter.widget-view+json": {
       "model_id": "",
       "version_major": 2,
       "version_minor": 0
      },
      "text/plain": [
       "HBox(children=(HBox(children=(Label(value='Obtaining file info'),), layout=Layout(max_width='35%', min_width='…"
      ]
     },
     "metadata": {},
     "output_type": "display_data"
    },
    {
     "name": "stdout",
     "output_type": "stream",
     "text": [
      "\r"
     ]
    },
    {
     "data": {
      "application/vnd.jupyter.widget-view+json": {
       "model_id": "",
       "version_major": 2,
       "version_minor": 0
      },
      "text/plain": [
       "HBox(children=(HBox(children=(Label(value='getting output of RegularSpaceClustering'),), layout=Layout(max_wid…"
      ]
     },
     "metadata": {},
     "output_type": "display_data"
    },
    {
     "name": "stdout",
     "output_type": "stream",
     "text": [
      "\r"
     ]
    },
    {
     "data": {
      "application/vnd.jupyter.widget-view+json": {
       "model_id": "ddc90e2329af4493a16fb31bed4d1789",
       "version_major": 2,
       "version_minor": 0
      },
      "text/plain": [
       "MolPXHBox(children=(NGLWidget(count=125), FigureCanvasNbAgg()))"
      ]
     },
     "metadata": {},
     "output_type": "display_data"
    }
   ],
   "source": [
    "mpx_wdg_box = molpx.visualize.FES(traj_list,\n",
    "                                 #MD_trajfiles,\n",
    "                                 topfile,\n",
    "                                 Y,\n",
    "                                 #Y,\n",
    "                                 nbins=50,\n",
    "                                 #proj_idxs=[1,2],\n",
    "                                 proj_labels='TIC',\n",
    "                                 #n_overlays=5,\n",
    "                                )\n",
    "mpx_wdg_box"
   ]
  },
  {
   "cell_type": "code",
   "execution_count": 21,
   "metadata": {},
   "outputs": [
    {
     "data": {
      "application/vnd.jupyter.widget-view+json": {
       "model_id": "",
       "version_major": 2,
       "version_minor": 0
      },
      "text/plain": [
       "FigureCanvasNbAgg()"
      ]
     },
     "metadata": {},
     "output_type": "display_data"
    }
   ],
   "source": [
    "#plt.figure()\n",
    "pyemma.plots.plot_free_energy(np.vstack(Y)[:, 0], np.vstack(Y)[:, 1]);"
   ]
  },
  {
   "cell_type": "code",
   "execution_count": 31,
   "metadata": {},
   "outputs": [
    {
     "data": {
      "application/vnd.jupyter.widget-view+json": {
       "model_id": "e39e8dc9aa284305a5b0b5ec39fde9e6",
       "version_major": 2,
       "version_minor": 0
      },
      "text/plain": [
       "MolPXHBox(children=(VBox(children=(Button(description='NGL widgets', layout=Layout(width='100%'), style=Button…"
      ]
     },
     "metadata": {},
     "output_type": "display_data"
    }
   ],
   "source": [
    "mpx_wdg_box = molpx.visualize.traj(traj_list, \n",
    "                                   topfile, \n",
    "                                   Y,\n",
    "                                   #Y_filenames,                                          \n",
    "                                   plot_FES = False,                                        \n",
    "                                   dt = 0.01, tunits='ns',    \n",
    "                                   #traj_selection = 1,\n",
    "                                   #sharey_traj=False,\n",
    "                                   #max_frames=100,\n",
    "                                   proj_idxs=[0, 1],\n",
    "                                   panel_height=2,    \n",
    "                                   #proj_labels='TIC'\n",
    "                                  )\n",
    "mpx_wdg_box"
   ]
  },
  {
   "cell_type": "markdown",
   "metadata": {},
   "source": [
    "## Regspace Clustering"
   ]
  },
  {
   "cell_type": "code",
   "execution_count": 13,
   "metadata": {},
   "outputs": [],
   "source": [
    "clustering = pyemma.coordinates.cluster_regspace(Y,dmin=0.25)"
   ]
  },
  {
   "cell_type": "code",
   "execution_count": 14,
   "metadata": {},
   "outputs": [],
   "source": [
    "def plot_labels(ax=None):\n",
    "    #if ax is None:\n",
    "        #ax = gca()\n",
    "    for i in range(0,len(clustering.clustercenters)):\n",
    "        plt.text(clustering.clustercenters[i][0]+0.05, clustering.clustercenters[i][1]+0.05, i, fontsize=10, color='black')\n"
   ]
  },
  {
   "cell_type": "code",
   "execution_count": 15,
   "metadata": {},
   "outputs": [
    {
     "data": {
      "application/vnd.jupyter.widget-view+json": {
       "model_id": "f8d13cf8d9da488bab1a0ad07b9da1bd",
       "version_major": 2,
       "version_minor": 0
      },
      "text/plain": [
       "FigureCanvasNbAgg()"
      ]
     },
     "metadata": {},
     "output_type": "display_data"
    },
    {
     "data": {
      "text/plain": [
       "[<matplotlib.lines.Line2D at 0x7f6f8645af28>]"
      ]
     },
     "execution_count": 15,
     "metadata": {},
     "output_type": "execute_result"
    }
   ],
   "source": [
    "#plt.figure()\n",
    "pyemma.plots.plot_free_energy(np.vstack(Y)[:, 0], np.vstack(Y)[:, 1])\n",
    "cc_x = clustering.clustercenters[:, 0]\n",
    "cc_y = clustering.clustercenters[:, 1]\n",
    "plt.plot(cc_x, cc_y, linewidth=0, marker='o', markersize=5, color='black')\n",
    "#plot_labels()"
   ]
  },
  {
   "cell_type": "code",
   "execution_count": 20,
   "metadata": {},
   "outputs": [
    {
     "name": "stdout",
     "output_type": "stream",
     "text": [
      "size of cluster 0: 34 structures\n",
      "size of cluster 1: 9 structures\n",
      "size of cluster 2: 66 structures\n",
      "size of cluster 3: 1611 structures\n",
      "size of cluster 4: 286 structures\n",
      "size of cluster 5: 1538 structures\n",
      "size of cluster 6: 97 structures\n",
      "size of cluster 7: 918 structures\n",
      "size of cluster 8: 77 structures\n",
      "size of cluster 9: 234 structures\n",
      "size of cluster 10: 832 structures\n",
      "size of cluster 11: 50 structures\n",
      "size of cluster 12: 777 structures\n",
      "size of cluster 13: 3073 structures\n",
      "size of cluster 14: 2785 structures\n",
      "size of cluster 15: 1828 structures\n",
      "size of cluster 16: 2226 structures\n",
      "size of cluster 17: 1895 structures\n",
      "size of cluster 18: 144 structures\n",
      "size of cluster 19: 355 structures\n",
      "size of cluster 20: 545 structures\n",
      "size of cluster 21: 262 structures\n",
      "size of cluster 22: 224 structures\n",
      "size of cluster 23: 465 structures\n",
      "size of cluster 24: 591 structures\n",
      "size of cluster 25: 22 structures\n",
      "size of cluster 26: 2225 structures\n",
      "size of cluster 27: 1007 structures\n",
      "size of cluster 28: 954 structures\n",
      "size of cluster 29: 701 structures\n",
      "size of cluster 30: 1452 structures\n",
      "size of cluster 31: 1272 structures\n",
      "size of cluster 32: 2736 structures\n",
      "size of cluster 33: 729 structures\n",
      "size of cluster 34: 3817 structures\n",
      "size of cluster 35: 2416 structures\n",
      "size of cluster 36: 286 structures\n",
      "size of cluster 37: 857 structures\n",
      "size of cluster 38: 313 structures\n",
      "size of cluster 39: 228 structures\n",
      "size of cluster 40: 1223 structures\n",
      "size of cluster 41: 5974 structures\n",
      "size of cluster 42: 4557 structures\n",
      "size of cluster 43: 15326 structures\n",
      "size of cluster 44: 33381 structures\n",
      "size of cluster 45: 22606 structures\n",
      "size of cluster 46: 13640 structures\n",
      "size of cluster 47: 10966 structures\n",
      "size of cluster 48: 20171 structures\n",
      "size of cluster 49: 6506 structures\n",
      "size of cluster 50: 3929 structures\n",
      "size of cluster 51: 771 structures\n",
      "size of cluster 52: 1743 structures\n",
      "size of cluster 53: 9024 structures\n",
      "size of cluster 54: 6667 structures\n",
      "size of cluster 55: 1572 structures\n",
      "size of cluster 56: 7801 structures\n",
      "size of cluster 57: 3078 structures\n",
      "size of cluster 58: 604 structures\n",
      "size of cluster 59: 6262 structures\n",
      "size of cluster 60: 4083 structures\n",
      "size of cluster 61: 1936 structures\n",
      "size of cluster 62: 6076 structures\n",
      "size of cluster 63: 177 structures\n",
      "size of cluster 64: 135 structures\n",
      "size of cluster 65: 32 structures\n",
      "size of cluster 66: 177 structures\n",
      "size of cluster 67: 83 structures\n",
      "size of cluster 68: 566 structures\n",
      "size of cluster 69: 5 structures\n",
      "size of cluster 70: 17 structures\n",
      "size of cluster 71: 175 structures\n",
      "size of cluster 72: 1573 structures\n",
      "size of cluster 73: 716 structures\n",
      "size of cluster 74: 1847 structures\n",
      "size of cluster 75: 3063 structures\n",
      "size of cluster 76: 195 structures\n",
      "size of cluster 77: 449 structures\n",
      "size of cluster 78: 858 structures\n",
      "size of cluster 79: 46 structures\n",
      "size of cluster 80: 2 structures\n",
      "size of cluster 81: 297 structures\n",
      "size of cluster 82: 10 structures\n",
      "size of cluster 83: 34 structures\n",
      "size of cluster 84: 122 structures\n",
      "size of cluster 85: 7 structures\n",
      "size of cluster 86: 476 structures\n",
      "size of cluster 87: 44 structures\n",
      "size of cluster 88: 49 structures\n",
      "size of cluster 89: 941 structures\n",
      "size of cluster 90: 152 structures\n",
      "size of cluster 91: 566 structures\n",
      "size of cluster 92: 67 structures\n",
      "size of cluster 93: 2 structures\n",
      "size of cluster 94: 1 structures\n",
      "size of cluster 95: 160 structures\n",
      "size of cluster 96: 730 structures\n",
      "size of cluster 97: 129 structures\n",
      "size of cluster 98: 23 structures\n",
      "size of cluster 99: 356 structures\n",
      "size of cluster 100: 94 structures\n",
      "size of cluster 101: 8 structures\n",
      "size of cluster 102: 1336 structures\n",
      "size of cluster 103: 138 structures\n",
      "size of cluster 104: 15 structures\n",
      "size of cluster 105: 21 structures\n",
      "size of cluster 106: 10 structures\n",
      "size of cluster 107: 19 structures\n",
      "size of cluster 108: 5 structures\n",
      "size of cluster 109: 2 structures\n",
      "size of cluster 110: 1 structures\n",
      "size of cluster 111: 1 structures\n",
      "size of cluster 112: 40 structures\n",
      "size of cluster 113: 7 structures\n",
      "size of cluster 114: 34 structures\n",
      "size of cluster 115: 5 structures\n",
      "size of cluster 116: 3 structures\n",
      "size of cluster 117: 45 structures\n",
      "size of cluster 118: 1 structures\n",
      "size of cluster 119: 802 structures\n",
      "size of cluster 120: 5554 structures\n",
      "size of cluster 121: 169 structures\n",
      "size of cluster 122: 244 structures\n",
      "size of cluster 123: 2269 structures\n",
      "size of cluster 124: 6543 structures\n",
      "size of cluster 125: 10 structures\n",
      "size of cluster 126: 19 structures\n",
      "size of cluster 127: 9 structures\n",
      "size of cluster 128: 15 structures\n",
      "size of cluster 129: 20 structures\n",
      "size of cluster 130: 9 structures\n",
      "size of cluster 131: 9 structures\n",
      "size of cluster 132: 16 structures\n",
      "size of cluster 133: 16 structures\n",
      "size of cluster 134: 19 structures\n",
      "size of cluster 135: 3 structures\n",
      "size of cluster 136: 20 structures\n",
      "size of cluster 137: 9 structures\n",
      "size of cluster 138: 37 structures\n",
      "size of cluster 139: 8 structures\n",
      "size of cluster 140: 50 structures\n",
      "size of cluster 141: 72 structures\n",
      "size of cluster 142: 11 structures\n",
      "size of cluster 143: 239 structures\n",
      "size of cluster 144: 98 structures\n",
      "size of cluster 145: 1098 structures\n",
      "size of cluster 146: 2975 structures\n",
      "size of cluster 147: 1403 structures\n",
      "size of cluster 148: 17 structures\n",
      "size of cluster 149: 5255 structures\n",
      "size of cluster 150: 1359 structures\n",
      "size of cluster 151: 846 structures\n",
      "size of cluster 152: 11539 structures\n",
      "size of cluster 153: 12464 structures\n",
      "size of cluster 154: 1376 structures\n",
      "size of cluster 155: 3372 structures\n",
      "size of cluster 156: 15294 structures\n",
      "size of cluster 157: 2027 structures\n",
      "size of cluster 158: 104 structures\n",
      "size of cluster 159: 10031 structures\n",
      "size of cluster 160: 2696 structures\n",
      "size of cluster 161: 5942 structures\n",
      "size of cluster 162: 1693 structures\n",
      "size of cluster 163: 2580 structures\n",
      "size of cluster 164: 2220 structures\n",
      "size of cluster 165: 1801 structures\n",
      "size of cluster 166: 7061 structures\n",
      "size of cluster 167: 1545 structures\n",
      "size of cluster 168: 852 structures\n",
      "size of cluster 169: 1077 structures\n",
      "size of cluster 170: 639 structures\n",
      "size of cluster 171: 3127 structures\n",
      "size of cluster 172: 55 structures\n",
      "size of cluster 173: 28 structures\n",
      "size of cluster 174: 4349 structures\n",
      "size of cluster 175: 316 structures\n",
      "size of cluster 176: 17 structures\n",
      "size of cluster 177: 8 structures\n",
      "size of cluster 178: 10 structures\n",
      "size of cluster 179: 9 structures\n",
      "size of cluster 180: 3 structures\n",
      "size of cluster 181: 8 structures\n",
      "size of cluster 182: 10 structures\n",
      "size of cluster 183: 10 structures\n",
      "size of cluster 184: 20 structures\n",
      "size of cluster 185: 11 structures\n",
      "size of cluster 186: 30 structures\n",
      "size of cluster 187: 35 structures\n",
      "size of cluster 188: 12 structures\n",
      "size of cluster 189: 7 structures\n",
      "size of cluster 190: 2 structures\n",
      "size of cluster 191: 76 structures\n",
      "size of cluster 192: 943 structures\n",
      "size of cluster 193: 75 structures\n",
      "size of cluster 194: 1618 structures\n",
      "size of cluster 195: 305 structures\n",
      "size of cluster 196: 147 structures\n",
      "size of cluster 197: 4454 structures\n",
      "size of cluster 198: 791 structures\n",
      "size of cluster 199: 2483 structures\n",
      "size of cluster 200: 67 structures\n",
      "size of cluster 201: 11 structures\n",
      "size of cluster 202: 230 structures\n",
      "size of cluster 203: 1355 structures\n",
      "size of cluster 204: 37 structures\n",
      "size of cluster 205: 472 structures\n",
      "size of cluster 206: 16 structures\n",
      "size of cluster 207: 86 structures\n",
      "size of cluster 208: 3721 structures\n",
      "size of cluster 209: 1053 structures\n",
      "size of cluster 210: 749 structures\n",
      "size of cluster 211: 11 structures\n",
      "size of cluster 212: 1 structures\n",
      "size of cluster 213: 1 structures\n",
      "size of cluster 214: 86 structures\n",
      "size of cluster 215: 118 structures\n",
      "size of cluster 216: 299 structures\n",
      "size of cluster 217: 20 structures\n",
      "size of cluster 218: 575 structures\n",
      "size of cluster 219: 449 structures\n",
      "size of cluster 220: 21 structures\n",
      "size of cluster 221: 17 structures\n",
      "size of cluster 222: 7 structures\n",
      "size of cluster 223: 16 structures\n",
      "size of cluster 224: 4 structures\n",
      "size of cluster 225: 1 structures\n",
      "size of cluster 226: 1 structures\n",
      "size of cluster 227: 4 structures\n",
      "size of cluster 228: 4 structures\n",
      "size of cluster 229: 5 structures\n",
      "size of cluster 230: 5 structures\n",
      "size of cluster 231: 1 structures\n",
      "size of cluster 232: 3 structures\n",
      "size of cluster 233: 264 structures\n",
      "size of cluster 234: 2739 structures\n",
      "size of cluster 235: 782 structures\n",
      "size of cluster 236: 866 structures\n",
      "size of cluster 237: 943 structures\n",
      "size of cluster 238: 1023 structures\n",
      "size of cluster 239: 1356 structures\n",
      "size of cluster 240: 119 structures\n",
      "size of cluster 241: 31 structures\n",
      "size of cluster 242: 994 structures\n",
      "size of cluster 243: 456 structures\n",
      "size of cluster 244: 11 structures\n",
      "size of cluster 245: 666 structures\n",
      "size of cluster 246: 108 structures\n",
      "size of cluster 247: 142 structures\n",
      "size of cluster 248: 115 structures\n",
      "size of cluster 249: 176 structures\n",
      "size of cluster 250: 310 structures\n",
      "size of cluster 251: 152 structures\n",
      "size of cluster 252: 97 structures\n",
      "size of cluster 253: 4 structures\n",
      "size of cluster 254: 17 structures\n",
      "size of cluster 255: 8 structures\n",
      "size of cluster 256: 14 structures\n",
      "size of cluster 257: 85 structures\n",
      "size of cluster 258: 1 structures\n",
      "size of cluster 259: 484 structures\n",
      "size of cluster 260: 189 structures\n",
      "size of cluster 261: 4 structures\n",
      "size of cluster 262: 54 structures\n",
      "size of cluster 263: 60 structures\n",
      "size of cluster 264: 6 structures\n",
      "size of cluster 265: 23 structures\n",
      "size of cluster 266: 47 structures\n",
      "size of cluster 267: 38 structures\n",
      "size of cluster 268: 86 structures\n"
     ]
    }
   ],
   "source": [
    "labels = np.concatenate(clustering.dtrajs)\n",
    "mapping = defaultdict(lambda : [])\n",
    "for i, label in enumerate(labels):\n",
    "    mapping[label].append(i)\n",
    "for i in range(0,len(clustering.clustercenters)):\n",
    "    print('size of cluster %d: %d structures' % (i, len(mapping[i])))\n"
   ]
  },
  {
   "cell_type": "code",
   "execution_count": 21,
   "metadata": {},
   "outputs": [
    {
     "data": {
      "application/vnd.jupyter.widget-view+json": {
       "model_id": "",
       "version_major": 2,
       "version_minor": 0
      },
      "text/plain": [
       "HBox(children=(HBox(children=(Label(value='Obtaining file info'),), layout=Layout(max_width='35%', min_width='…"
      ]
     },
     "metadata": {},
     "output_type": "display_data"
    },
    {
     "name": "stdout",
     "output_type": "stream",
     "text": [
      "\r"
     ]
    }
   ],
   "source": [
    "data_sample, geoms = molpx.generate.sample(traj_list, topfile, clustering, n_geom_samples=200, n_points=200)"
   ]
  },
  {
   "cell_type": "code",
   "execution_count": 22,
   "metadata": {},
   "outputs": [
    {
     "data": {
      "text/plain": [
       "269"
      ]
     },
     "execution_count": 22,
     "metadata": {},
     "output_type": "execute_result"
    }
   ],
   "source": [
    "clustering.max_centers"
   ]
  },
  {
   "cell_type": "code",
   "execution_count": 23,
   "metadata": {},
   "outputs": [
    {
     "name": "stdout",
     "output_type": "stream",
     "text": [
      "size of cluster 0: 34 structures\n",
      "size of cluster 1: 9 structures\n",
      "size of cluster 2: 66 structures\n",
      "size of cluster 3: 1611 structures\n",
      "size of cluster 4: 286 structures\n",
      "size of cluster 5: 1538 structures\n",
      "size of cluster 6: 97 structures\n",
      "size of cluster 7: 918 structures\n",
      "size of cluster 8: 77 structures\n",
      "size of cluster 9: 234 structures\n",
      "size of cluster 10: 832 structures\n",
      "size of cluster 11: 50 structures\n",
      "size of cluster 12: 777 structures\n",
      "size of cluster 13: 3073 structures\n",
      "size of cluster 14: 2785 structures\n",
      "size of cluster 15: 1828 structures\n",
      "size of cluster 16: 2226 structures\n",
      "size of cluster 17: 1895 structures\n",
      "size of cluster 18: 144 structures\n",
      "size of cluster 19: 355 structures\n",
      "size of cluster 20: 545 structures\n",
      "size of cluster 21: 262 structures\n",
      "size of cluster 22: 224 structures\n",
      "size of cluster 23: 465 structures\n",
      "size of cluster 24: 591 structures\n",
      "size of cluster 25: 22 structures\n",
      "size of cluster 26: 2225 structures\n",
      "size of cluster 27: 1007 structures\n",
      "size of cluster 28: 954 structures\n",
      "size of cluster 29: 701 structures\n",
      "size of cluster 30: 1452 structures\n",
      "size of cluster 31: 1272 structures\n",
      "size of cluster 32: 2736 structures\n",
      "size of cluster 33: 729 structures\n",
      "size of cluster 34: 3817 structures\n",
      "size of cluster 35: 2416 structures\n",
      "size of cluster 36: 286 structures\n",
      "size of cluster 37: 857 structures\n",
      "size of cluster 38: 313 structures\n",
      "size of cluster 39: 228 structures\n",
      "size of cluster 40: 1223 structures\n",
      "size of cluster 41: 5974 structures\n",
      "size of cluster 42: 4557 structures\n",
      "size of cluster 43: 15326 structures\n",
      "size of cluster 44: 33381 structures\n",
      "size of cluster 45: 22606 structures\n",
      "size of cluster 46: 13640 structures\n",
      "size of cluster 47: 10966 structures\n",
      "size of cluster 48: 20171 structures\n",
      "size of cluster 49: 6506 structures\n",
      "size of cluster 50: 3929 structures\n",
      "size of cluster 51: 771 structures\n",
      "size of cluster 52: 1743 structures\n",
      "size of cluster 53: 9024 structures\n",
      "size of cluster 54: 6667 structures\n",
      "size of cluster 55: 1572 structures\n",
      "size of cluster 56: 7801 structures\n",
      "size of cluster 57: 3078 structures\n",
      "size of cluster 58: 604 structures\n",
      "size of cluster 59: 6262 structures\n",
      "size of cluster 60: 4083 structures\n",
      "size of cluster 61: 1936 structures\n",
      "size of cluster 62: 6076 structures\n",
      "size of cluster 63: 177 structures\n",
      "size of cluster 64: 135 structures\n",
      "size of cluster 65: 32 structures\n",
      "size of cluster 66: 177 structures\n",
      "size of cluster 67: 83 structures\n",
      "size of cluster 68: 566 structures\n",
      "size of cluster 69: 5 structures\n",
      "size of cluster 70: 17 structures\n",
      "size of cluster 71: 175 structures\n",
      "size of cluster 72: 1573 structures\n",
      "size of cluster 73: 716 structures\n",
      "size of cluster 74: 1847 structures\n",
      "size of cluster 75: 3063 structures\n",
      "size of cluster 76: 195 structures\n",
      "size of cluster 77: 449 structures\n",
      "size of cluster 78: 858 structures\n",
      "size of cluster 79: 46 structures\n",
      "size of cluster 80: 2 structures\n",
      "size of cluster 81: 297 structures\n",
      "size of cluster 82: 10 structures\n",
      "size of cluster 83: 34 structures\n",
      "size of cluster 84: 122 structures\n",
      "size of cluster 85: 7 structures\n",
      "size of cluster 86: 476 structures\n",
      "size of cluster 87: 44 structures\n",
      "size of cluster 88: 49 structures\n",
      "size of cluster 89: 941 structures\n",
      "size of cluster 90: 152 structures\n",
      "size of cluster 91: 566 structures\n",
      "size of cluster 92: 67 structures\n",
      "size of cluster 93: 2 structures\n",
      "size of cluster 94: 1 structures\n",
      "size of cluster 95: 160 structures\n",
      "size of cluster 96: 730 structures\n",
      "size of cluster 97: 129 structures\n",
      "size of cluster 98: 23 structures\n",
      "size of cluster 99: 356 structures\n",
      "size of cluster 100: 94 structures\n",
      "size of cluster 101: 8 structures\n",
      "size of cluster 102: 1336 structures\n",
      "size of cluster 103: 138 structures\n",
      "size of cluster 104: 15 structures\n",
      "size of cluster 105: 21 structures\n",
      "size of cluster 106: 10 structures\n",
      "size of cluster 107: 19 structures\n",
      "size of cluster 108: 5 structures\n",
      "size of cluster 109: 2 structures\n",
      "size of cluster 110: 1 structures\n",
      "size of cluster 111: 1 structures\n",
      "size of cluster 112: 40 structures\n",
      "size of cluster 113: 7 structures\n",
      "size of cluster 114: 34 structures\n",
      "size of cluster 115: 5 structures\n",
      "size of cluster 116: 3 structures\n",
      "size of cluster 117: 45 structures\n",
      "size of cluster 118: 1 structures\n",
      "size of cluster 119: 802 structures\n",
      "size of cluster 120: 5554 structures\n",
      "size of cluster 121: 169 structures\n",
      "size of cluster 122: 244 structures\n",
      "size of cluster 123: 2269 structures\n",
      "size of cluster 124: 6543 structures\n",
      "size of cluster 125: 10 structures\n",
      "size of cluster 126: 19 structures\n",
      "size of cluster 127: 9 structures\n",
      "size of cluster 128: 15 structures\n",
      "size of cluster 129: 20 structures\n",
      "size of cluster 130: 9 structures\n",
      "size of cluster 131: 9 structures\n",
      "size of cluster 132: 16 structures\n",
      "size of cluster 133: 16 structures\n",
      "size of cluster 134: 19 structures\n",
      "size of cluster 135: 3 structures\n",
      "size of cluster 136: 20 structures\n",
      "size of cluster 137: 9 structures\n",
      "size of cluster 138: 37 structures\n",
      "size of cluster 139: 8 structures\n",
      "size of cluster 140: 50 structures\n",
      "size of cluster 141: 72 structures\n",
      "size of cluster 142: 11 structures\n",
      "size of cluster 143: 239 structures\n",
      "size of cluster 144: 98 structures\n",
      "size of cluster 145: 1098 structures\n",
      "size of cluster 146: 2975 structures\n",
      "size of cluster 147: 1403 structures\n",
      "size of cluster 148: 17 structures\n",
      "size of cluster 149: 5255 structures\n",
      "size of cluster 150: 1359 structures\n",
      "size of cluster 151: 846 structures\n",
      "size of cluster 152: 11539 structures\n",
      "size of cluster 153: 12464 structures\n",
      "size of cluster 154: 1376 structures\n",
      "size of cluster 155: 3372 structures\n",
      "size of cluster 156: 15294 structures\n",
      "size of cluster 157: 2027 structures\n",
      "size of cluster 158: 104 structures\n",
      "size of cluster 159: 10031 structures\n",
      "size of cluster 160: 2696 structures\n",
      "size of cluster 161: 5942 structures\n",
      "size of cluster 162: 1693 structures\n",
      "size of cluster 163: 2580 structures\n",
      "size of cluster 164: 2220 structures\n",
      "size of cluster 165: 1801 structures\n",
      "size of cluster 166: 7061 structures\n",
      "size of cluster 167: 1545 structures\n",
      "size of cluster 168: 852 structures\n",
      "size of cluster 169: 1077 structures\n",
      "size of cluster 170: 639 structures\n",
      "size of cluster 171: 3127 structures\n",
      "size of cluster 172: 55 structures\n",
      "size of cluster 173: 28 structures\n",
      "size of cluster 174: 4349 structures\n",
      "size of cluster 175: 316 structures\n",
      "size of cluster 176: 17 structures\n",
      "size of cluster 177: 8 structures\n",
      "size of cluster 178: 10 structures\n",
      "size of cluster 179: 9 structures\n",
      "size of cluster 180: 3 structures\n",
      "size of cluster 181: 8 structures\n",
      "size of cluster 182: 10 structures\n",
      "size of cluster 183: 10 structures\n",
      "size of cluster 184: 20 structures\n",
      "size of cluster 185: 11 structures\n",
      "size of cluster 186: 30 structures\n",
      "size of cluster 187: 35 structures\n",
      "size of cluster 188: 12 structures\n",
      "size of cluster 189: 7 structures\n",
      "size of cluster 190: 2 structures\n",
      "size of cluster 191: 76 structures\n",
      "size of cluster 192: 943 structures\n",
      "size of cluster 193: 75 structures\n",
      "size of cluster 194: 1618 structures\n",
      "size of cluster 195: 305 structures\n",
      "size of cluster 196: 147 structures\n",
      "size of cluster 197: 4454 structures\n",
      "size of cluster 198: 791 structures\n",
      "size of cluster 199: 2483 structures\n",
      "size of cluster 200: 67 structures\n",
      "size of cluster 201: 11 structures\n",
      "size of cluster 202: 230 structures\n",
      "size of cluster 203: 1355 structures\n",
      "size of cluster 204: 37 structures\n",
      "size of cluster 205: 472 structures\n",
      "size of cluster 206: 16 structures\n",
      "size of cluster 207: 86 structures\n",
      "size of cluster 208: 3721 structures\n",
      "size of cluster 209: 1053 structures\n",
      "size of cluster 210: 749 structures\n",
      "size of cluster 211: 11 structures\n",
      "size of cluster 212: 1 structures\n",
      "size of cluster 213: 1 structures\n",
      "size of cluster 214: 86 structures\n",
      "size of cluster 215: 118 structures\n",
      "size of cluster 216: 299 structures\n",
      "size of cluster 217: 20 structures\n",
      "size of cluster 218: 575 structures\n",
      "size of cluster 219: 449 structures\n",
      "size of cluster 220: 21 structures\n",
      "size of cluster 221: 17 structures\n",
      "size of cluster 222: 7 structures\n",
      "size of cluster 223: 16 structures\n",
      "size of cluster 224: 4 structures\n",
      "size of cluster 225: 1 structures\n",
      "size of cluster 226: 1 structures\n",
      "size of cluster 227: 4 structures\n",
      "size of cluster 228: 4 structures\n",
      "size of cluster 229: 5 structures\n",
      "size of cluster 230: 5 structures\n",
      "size of cluster 231: 1 structures\n",
      "size of cluster 232: 3 structures\n",
      "size of cluster 233: 264 structures\n",
      "size of cluster 234: 2739 structures\n"
     ]
    },
    {
     "name": "stdout",
     "output_type": "stream",
     "text": [
      "size of cluster 235: 782 structures\n",
      "size of cluster 236: 866 structures\n",
      "size of cluster 237: 943 structures\n",
      "size of cluster 238: 1023 structures\n",
      "size of cluster 239: 1356 structures\n",
      "size of cluster 240: 119 structures\n",
      "size of cluster 241: 31 structures\n",
      "size of cluster 242: 994 structures\n",
      "size of cluster 243: 456 structures\n",
      "size of cluster 244: 11 structures\n",
      "size of cluster 245: 666 structures\n",
      "size of cluster 246: 108 structures\n",
      "size of cluster 247: 142 structures\n",
      "size of cluster 248: 115 structures\n",
      "size of cluster 249: 176 structures\n",
      "size of cluster 250: 310 structures\n",
      "size of cluster 251: 152 structures\n",
      "size of cluster 252: 97 structures\n",
      "size of cluster 253: 4 structures\n",
      "size of cluster 254: 17 structures\n",
      "size of cluster 255: 8 structures\n",
      "size of cluster 256: 14 structures\n",
      "size of cluster 257: 85 structures\n",
      "size of cluster 258: 1 structures\n",
      "size of cluster 259: 484 structures\n",
      "size of cluster 260: 189 structures\n",
      "size of cluster 261: 4 structures\n",
      "size of cluster 262: 54 structures\n",
      "size of cluster 263: 60 structures\n",
      "size of cluster 264: 6 structures\n",
      "size of cluster 265: 23 structures\n",
      "size of cluster 266: 47 structures\n",
      "size of cluster 267: 38 structures\n",
      "size of cluster 268: 86 structures\n"
     ]
    }
   ],
   "source": [
    "FILE = open( './cluster_centre_1/clustering.log', \"w\" )\n",
    "\n",
    "#trajs={}\n",
    "\n",
    "for i in range(0,clustering.max_centers):\n",
    "    print('size of cluster %d: %d structures' % (i, len(mapping[i])))\n",
    "    print('size of cluster %d: %d structures' % (i, len(mapping[i])), file=FILE)\n",
    "    geoms[i].save('./cluster_centre_1/{}.pdb'.format(i))"
   ]
  },
  {
   "cell_type": "markdown",
   "metadata": {},
   "source": [
    "## K-mean clustering - key clusters"
   ]
  },
  {
   "cell_type": "code",
   "execution_count": 29,
   "metadata": {},
   "outputs": [],
   "source": [
    "n_clusters = 10"
   ]
  },
  {
   "cell_type": "code",
   "execution_count": 30,
   "metadata": {},
   "outputs": [
    {
     "data": {
      "application/vnd.jupyter.widget-view+json": {
       "model_id": "",
       "version_major": 2,
       "version_minor": 0
      },
      "text/plain": [
       "HBox(children=(HBox(children=(Label(value='initialize kmeans++ centers'),), layout=Layout(max_width='35%', min…"
      ]
     },
     "metadata": {},
     "output_type": "display_data"
    },
    {
     "data": {
      "application/vnd.jupyter.widget-view+json": {
       "model_id": "",
       "version_major": 2,
       "version_minor": 0
      },
      "text/plain": [
       "HBox(children=(HBox(children=(Label(value='kmeans iterations'),), layout=Layout(max_width='35%', min_width='35…"
      ]
     },
     "metadata": {},
     "output_type": "display_data"
    },
    {
     "name": "stdout",
     "output_type": "stream",
     "text": [
      "29-06-18 15:10:38 pyemma.coordinates.clustering.kmeans.KmeansClustering[31] INFO     Algorithm did not reach convergence criterion of 1e-05 in 10 iterations. Consider increasing max_iter.\n",
      "\r"
     ]
    }
   ],
   "source": [
    "clustering = pyemma.coordinates.cluster_kmeans(Y,k=n_clusters)"
   ]
  },
  {
   "cell_type": "code",
   "execution_count": 31,
   "metadata": {},
   "outputs": [],
   "source": [
    "def plot_labels(ax=None):\n",
    "    #if ax is None:\n",
    "        #ax = gca()\n",
    "    for i in range(0,len(clustering.clustercenters)):\n",
    "        plt.text(clustering.clustercenters[i][0]+0.05, clustering.clustercenters[i][1]+0.05, \n",
    "                 i, fontsize=10, color='black')\n"
   ]
  },
  {
   "cell_type": "code",
   "execution_count": 32,
   "metadata": {},
   "outputs": [
    {
     "data": {
      "application/vnd.jupyter.widget-view+json": {
       "model_id": "27ac36ee2513423b87430041ae5276eb",
       "version_major": 2,
       "version_minor": 0
      },
      "text/plain": [
       "FigureCanvasNbAgg()"
      ]
     },
     "metadata": {},
     "output_type": "display_data"
    }
   ],
   "source": [
    "pyemma.plots.plot_free_energy(np.vstack(Y)[:, 0], np.vstack(Y)[:, 1])\n",
    "cc_x = clustering.clustercenters[:, 0]\n",
    "cc_y = clustering.clustercenters[:, 1]\n",
    "plt.plot(cc_x, cc_y, linewidth=0, marker='o', markersize=5, color='black')\n",
    "plot_labels()"
   ]
  },
  {
   "cell_type": "code",
   "execution_count": 33,
   "metadata": {},
   "outputs": [
    {
     "data": {
      "application/vnd.jupyter.widget-view+json": {
       "model_id": "",
       "version_major": 2,
       "version_minor": 0
      },
      "text/plain": [
       "HBox(children=(HBox(children=(Label(value='Obtaining file info'),), layout=Layout(max_width='35%', min_width='…"
      ]
     },
     "metadata": {},
     "output_type": "display_data"
    },
    {
     "name": "stdout",
     "output_type": "stream",
     "text": [
      "\r"
     ]
    },
    {
     "data": {
      "application/vnd.jupyter.widget-view+json": {
       "model_id": "",
       "version_major": 2,
       "version_minor": 0
      },
      "text/plain": [
       "HBox(children=(HBox(children=(Label(value='getting output of KmeansClustering'),), layout=Layout(max_width='35…"
      ]
     },
     "metadata": {},
     "output_type": "display_data"
    },
    {
     "name": "stdout",
     "output_type": "stream",
     "text": [
      "\r"
     ]
    }
   ],
   "source": [
    "data_sample, geoms = molpx.generate.sample(traj_list, topfile, clustering, n_geom_samples=1000, n_points=200)"
   ]
  },
  {
   "cell_type": "code",
   "execution_count": 34,
   "metadata": {},
   "outputs": [
    {
     "name": "stdout",
     "output_type": "stream",
     "text": [
      "size of cluster 0: 16022 structures\n",
      "size of cluster 1: 87064 structures\n",
      "size of cluster 2: 50547 structures\n",
      "size of cluster 3: 16892 structures\n",
      "size of cluster 4: 36577 structures\n",
      "size of cluster 5: 17799 structures\n",
      "size of cluster 6: 49546 structures\n",
      "size of cluster 7: 58811 structures\n",
      "size of cluster 8: 44723 structures\n",
      "size of cluster 9: 20330 structures\n"
     ]
    }
   ],
   "source": [
    "labels = np.concatenate(clustering.dtrajs)\n",
    "mapping = defaultdict(lambda : [])\n",
    "for i, label in enumerate(labels):\n",
    "    mapping[label].append(i)\n",
    "for i in range(0,len(clustering.clustercenters)):\n",
    "    print('size of cluster %d: %d structures' % (i, len(mapping[i])))"
   ]
  },
  {
   "cell_type": "code",
   "execution_count": 107,
   "metadata": {},
   "outputs": [
    {
     "data": {
      "text/plain": [
       "9"
      ]
     },
     "execution_count": 107,
     "metadata": {},
     "output_type": "execute_result"
    }
   ],
   "source": [
    "len(clustering.clustercenters)"
   ]
  },
  {
   "cell_type": "code",
   "execution_count": 108,
   "metadata": {},
   "outputs": [
    {
     "name": "stdout",
     "output_type": "stream",
     "text": [
      "size of cluster 0: 16981 structures\n",
      "size of cluster 1: 3 structures\n",
      "size of cluster 2: 3066 structures\n",
      "size of cluster 3: 0 structures\n",
      "size of cluster 4: 0 structures\n",
      "size of cluster 5: 889 structures\n",
      "size of cluster 6: 5 structures\n",
      "size of cluster 7: 381 structures\n",
      "size of cluster 8: 18875 structures\n"
     ]
    }
   ],
   "source": [
    "trajs={}\n",
    "\n",
    "for i in range(0,len(clustering.clustercenters)):\n",
    "    print('size of cluster %d: %d structures' % (i, len(mapping[i])))\n",
    "    geoms[i].save('./cluster_centre_2/{}.pdb'.format(i))"
   ]
  },
  {
   "cell_type": "code",
   "execution_count": null,
   "metadata": {},
   "outputs": [],
   "source": []
  },
  {
   "cell_type": "code",
   "execution_count": null,
   "metadata": {},
   "outputs": [],
   "source": []
  }
 ],
 "metadata": {
  "kernelspec": {
   "display_name": "Python 3",
   "language": "python",
   "name": "python3"
  },
  "language_info": {
   "codemirror_mode": {
    "name": "ipython",
    "version": 3
   },
   "file_extension": ".py",
   "mimetype": "text/x-python",
   "name": "python",
   "nbconvert_exporter": "python",
   "pygments_lexer": "ipython3",
   "version": "3.7.6"
  },
  "toc": {
   "base_numbering": 1,
   "nav_menu": {},
   "number_sections": true,
   "sideBar": true,
   "skip_h1_title": false,
   "title_cell": "Table of Contents",
   "title_sidebar": "Contents",
   "toc_cell": false,
   "toc_position": {},
   "toc_section_display": true,
   "toc_window_display": false
  }
 },
 "nbformat": 4,
 "nbformat_minor": 2
}
