{
 "cells": [
  {
   "cell_type": "code",
   "execution_count": 24,
   "metadata": {},
   "outputs": [
    {
     "name": "stdout",
     "output_type": "stream",
     "text": [
      "Python version:\n",
      "3.6.8 |Anaconda custom (64-bit)| (default, Dec 30 2018, 01:22:34) \n",
      "[GCC 7.3.0]\n",
      "\n",
      "matplotlib version: 3.1.0\n",
      "pandas version: 0.24.2\n",
      "numpy version: 1.16.4\n",
      "seaborn version: 0.9.0\n"
     ]
    }
   ],
   "source": [
    "%matplotlib ipympl\n",
    "from matplotlib import pylab as plt\n",
    "import matplotlib\n",
    "import molpx\n",
    "\n",
    "import os\n",
    "import sys\n",
    "import glob\n",
    "from itertools import cycle\n",
    "\n",
    "import numpy as np\n",
    "import pandas as pd\n",
    "\n",
    "from os.path import join\n",
    "\n",
    "import seaborn as sns\n",
    "\n",
    "import mdtraj as md\n",
    "import scipy.cluster.hierarchy\n",
    "from scipy.spatial.distance import squareform\n",
    "\n",
    "import pyemma\n",
    "\n",
    "import random\n",
    "\n",
    "from os.path import join\n",
    "\n",
    "from collections import OrderedDict\n",
    "from collections import defaultdict\n",
    "\n",
    "import unicodedata\n",
    "\n",
    "\n",
    "print(\"Python version:\\n{}\\n\".format(sys.version))\n",
    "print(\"matplotlib version: {}\".format(matplotlib.__version__))\n",
    "print(\"pandas version: {}\".format(pd.__version__))\n",
    "print(\"numpy version: {}\".format(np.__version__))\n",
    "print(\"seaborn version: {}\".format(sns.__version__))"
   ]
  },
  {
   "cell_type": "code",
   "execution_count": 25,
   "metadata": {},
   "outputs": [],
   "source": [
    "indir = './Trajectories_all'\n",
    "topfile =  indir+'/open10_dry.parm7'\n",
    "from glob import glob\n",
    "traj_list = glob(indir+'/*.nc')"
   ]
  },
  {
   "cell_type": "code",
   "execution_count": 26,
   "metadata": {},
   "outputs": [
    {
     "data": {
      "text/plain": [
       "['./Trajectories_all/closed2_all_dry_2.nc',\n",
       " './Trajectories_all/closed2_all_dry_3.nc',\n",
       " './Trajectories_all/open2_all_dry_4.nc',\n",
       " './Trajectories_all/closed_all_dry_1.nc',\n",
       " './Trajectories_all/open2_all_dry_5.nc',\n",
       " './Trajectories_all/closed2_all_dry_1.nc',\n",
       " './Trajectories_all/closed_all_dry_4.nc',\n",
       " './Trajectories_all/closed2_all_dry_5.nc',\n",
       " './Trajectories_all/closed_all_dry_2.nc',\n",
       " './Trajectories_all/closed_all_dry_3.nc',\n",
       " './Trajectories_all/open_all_dry_4.nc',\n",
       " './Trajectories_all/open_all_dry_3.nc',\n",
       " './Trajectories_all/closed_all_dry_5.nc',\n",
       " './Trajectories_all/open2_all_dry_3.nc',\n",
       " './Trajectories_all/open_all_dry_5.nc',\n",
       " './Trajectories_all/closed2_all_dry_4.nc',\n",
       " './Trajectories_all/open_all_dry_2.nc',\n",
       " './Trajectories_all/open2_all_dry_1.nc',\n",
       " './Trajectories_all/open2_all_dry_2.nc',\n",
       " './Trajectories_all/open_all_dry_1.nc']"
      ]
     },
     "execution_count": 26,
     "metadata": {},
     "output_type": "execute_result"
    }
   ],
   "source": [
    "traj_list"
   ]
  },
  {
   "cell_type": "code",
   "execution_count": 27,
   "metadata": {},
   "outputs": [],
   "source": [
    "ref1 = md.load('./Trajectories_all/open10_dry.rst7', top='./Trajectories_all/open10_dry.parm7')\n",
    "ref2 = md.load('./Trajectories_all/closed10_dry.rst7', top='./Trajectories_all/closed10_dry.parm7')    "
   ]
  },
  {
   "cell_type": "code",
   "execution_count": 28,
   "metadata": {},
   "outputs": [
    {
     "name": "stdout",
     "output_type": "stream",
     "text": [
      "[atom.index for atom in topology.atoms if atom.is_backbone]\n"
     ]
    }
   ],
   "source": [
    "selection = ref1.topology.select_expression('backbone')\n",
    "print(selection)"
   ]
  },
  {
   "cell_type": "code",
   "execution_count": 29,
   "metadata": {},
   "outputs": [],
   "source": [
    "BB=[atom.index for atom in ref1.topology.atoms if atom.is_backbone]"
   ]
  },
  {
   "cell_type": "code",
   "execution_count": 30,
   "metadata": {},
   "outputs": [
    {
     "data": {
      "text/plain": [
       "['minrmsd to frame 0 of <mdtraj.Trajectory with 1 frames, 2808 atoms, 192 residues, and unitcells at 0x7f27910c00b8>, subset of atoms  ',\n",
       " 'minrmsd to frame 0 of <mdtraj.Trajectory with 1 frames, 2808 atoms, 192 residues, and unitcells at 0x7f27990660b8>, subset of atoms  ']"
      ]
     },
     "execution_count": 30,
     "metadata": {},
     "output_type": "execute_result"
    }
   ],
   "source": [
    "feat = pyemma.coordinates.featurizer(topfile)\n",
    "feat.add_minrmsd_to_ref(ref1, atom_indices=BB)\n",
    "feat.add_minrmsd_to_ref(ref2, atom_indices=BB)\n",
    "feat.describe()"
   ]
  },
  {
   "cell_type": "code",
   "execution_count": 31,
   "metadata": {},
   "outputs": [
    {
     "data": {
      "text/plain": [
       "2"
      ]
     },
     "execution_count": 31,
     "metadata": {},
     "output_type": "execute_result"
    }
   ],
   "source": [
    "feat.dimension()"
   ]
  },
  {
   "cell_type": "code",
   "execution_count": 32,
   "metadata": {},
   "outputs": [
    {
     "data": {
      "application/vnd.jupyter.widget-view+json": {
       "model_id": "",
       "version_major": 2,
       "version_minor": 0
      },
      "text/plain": [
       "HBox(children=(HBox(children=(Label(value='Obtaining file info'),), layout=Layout(max_width='35%', min_width='…"
      ]
     },
     "metadata": {},
     "output_type": "display_data"
    },
    {
     "name": "stdout",
     "output_type": "stream",
     "text": [
      "\r"
     ]
    }
   ],
   "source": [
    "inp = pyemma.coordinates.source(traj_list, feat)"
   ]
  },
  {
   "cell_type": "code",
   "execution_count": 33,
   "metadata": {},
   "outputs": [
    {
     "name": "stdout",
     "output_type": "stream",
     "text": [
      "number of trajectories = 20\n",
      "trajectory length = 10200 frames\n",
      "trajectory time = 510.0 ns\n",
      "trajectory time step = 50.0 ps\n",
      "number of dimension = 2\n",
      "total length = 495311 frames\n",
      "total simulated time = 24.76555 μs\n"
     ]
    }
   ],
   "source": [
    "print('number of trajectories =',inp.number_of_trajectories())\n",
    "print('trajectory length =',inp.trajectory_length(0),'frames')\n",
    "print('trajectory time =',(inp.trajectory_length(0)*50/1000),'ns')\n",
    "print('trajectory time step =',(inp.trajectory_length(0)*50)/inp.trajectory_length(0),'ps')\n",
    "print('number of dimension =',inp.dimension())\n",
    "\n",
    "S=0\n",
    "for i in range(0, inp.number_of_trajectories()):\n",
    "    #print(inp.trajectory_length(i))\n",
    "    S += inp.trajectory_length(i)\n",
    "print('total length =',S,'frames')\n",
    "T=S*50/1000000\n",
    "print('total simulated time =',T,'μs')"
   ]
  },
  {
   "cell_type": "code",
   "execution_count": 34,
   "metadata": {},
   "outputs": [
    {
     "data": {
      "application/vnd.jupyter.widget-view+json": {
       "model_id": "",
       "version_major": 2,
       "version_minor": 0
      },
      "text/plain": [
       "HBox(children=(HBox(children=(Label(value='calculate covariances'),), layout=Layout(max_width='35%', min_width…"
      ]
     },
     "metadata": {},
     "output_type": "display_data"
    },
    {
     "name": "stdout",
     "output_type": "stream",
     "text": [
      "\r",
      "TICA dimension  2\n"
     ]
    }
   ],
   "source": [
    "tica_obj = pyemma.coordinates.tica(data=inp, lag=20, var_cutoff=1)\n",
    "print('TICA dimension ', tica_obj.dimension())"
   ]
  },
  {
   "cell_type": "code",
   "execution_count": 35,
   "metadata": {},
   "outputs": [
    {
     "data": {
      "text/plain": [
       "array([0.56679105, 1.        ])"
      ]
     },
     "execution_count": 35,
     "metadata": {},
     "output_type": "execute_result"
    }
   ],
   "source": [
    "tica_obj.cumvar"
   ]
  },
  {
   "cell_type": "code",
   "execution_count": 36,
   "metadata": {},
   "outputs": [
    {
     "data": {
      "application/vnd.jupyter.widget-view+json": {
       "model_id": "",
       "version_major": 2,
       "version_minor": 0
      },
      "text/plain": [
       "HBox(children=(HBox(children=(Label(value='getting output of TICA'),), layout=Layout(max_width='35%', min_widt…"
      ]
     },
     "metadata": {},
     "output_type": "display_data"
    },
    {
     "name": "stdout",
     "output_type": "stream",
     "text": [
      "\r"
     ]
    }
   ],
   "source": [
    "Y = tica_obj.get_output()"
   ]
  },
  {
   "cell_type": "code",
   "execution_count": 38,
   "metadata": {},
   "outputs": [
    {
     "data": {
      "application/vnd.jupyter.widget-view+json": {
       "model_id": "",
       "version_major": 2,
       "version_minor": 0
      },
      "text/plain": [
       "HBox(children=(HBox(children=(Label(value='Obtaining file info'),), layout=Layout(max_width='35%', min_width='…"
      ]
     },
     "metadata": {},
     "output_type": "display_data"
    },
    {
     "name": "stdout",
     "output_type": "stream",
     "text": [
      "\r"
     ]
    },
    {
     "data": {
      "application/vnd.jupyter.widget-view+json": {
       "model_id": "",
       "version_major": 2,
       "version_minor": 0
      },
      "text/plain": [
       "HBox(children=(HBox(children=(Label(value='getting output of RegularSpaceClustering'),), layout=Layout(max_wid…"
      ]
     },
     "metadata": {},
     "output_type": "display_data"
    },
    {
     "name": "stdout",
     "output_type": "stream",
     "text": [
      "\r"
     ]
    },
    {
     "data": {
      "application/vnd.jupyter.widget-view+json": {
       "model_id": "31d04079ec0a45288b3ad279eacafa92",
       "version_major": 2,
       "version_minor": 0
      },
      "text/plain": [
       "MolPXHBox(children=(NGLWidget(count=112), FigureCanvasNbAgg()))"
      ]
     },
     "metadata": {},
     "output_type": "display_data"
    }
   ],
   "source": [
    "mpx_wdg_box = molpx.visualize.FES(traj_list,\n",
    "                                 #MD_trajfiles,\n",
    "                                 topfile,\n",
    "                                 Y,\n",
    "                                 #Y,\n",
    "                                 nbins=50,\n",
    "                                 #proj_idxs=[1,2],\n",
    "                                 proj_labels='TIC',\n",
    "                                 #n_overlays=5,\n",
    "                                )\n",
    "mpx_wdg_box"
   ]
  },
  {
   "cell_type": "code",
   "execution_count": 39,
   "metadata": {},
   "outputs": [
    {
     "data": {
      "application/vnd.jupyter.widget-view+json": {
       "model_id": "72b9f7932d6243579deb7233cf0ab9c1",
       "version_major": 2,
       "version_minor": 0
      },
      "text/plain": [
       "FigureCanvasNbAgg()"
      ]
     },
     "metadata": {},
     "output_type": "display_data"
    }
   ],
   "source": [
    "#plt.figure()\n",
    "pyemma.plots.plot_free_energy(np.vstack(Y)[:, 0], np.vstack(Y)[:, 1]);"
   ]
  },
  {
   "cell_type": "code",
   "execution_count": 40,
   "metadata": {},
   "outputs": [
    {
     "data": {
      "application/vnd.jupyter.widget-view+json": {
       "model_id": "f0ad0b02b54a4bb3bd13bc118fad6b11",
       "version_major": 2,
       "version_minor": 0
      },
      "text/plain": [
       "MolPXHBox(children=(VBox(children=(Button(description='NGL widgets', layout=Layout(width='100%'), style=Button…"
      ]
     },
     "metadata": {},
     "output_type": "display_data"
    }
   ],
   "source": [
    "mpx_wdg_box = molpx.visualize.traj(traj_list, \n",
    "                                   topfile, \n",
    "                                   Y,\n",
    "                                   #Y_filenames,                                          \n",
    "                                   plot_FES = False,                                        \n",
    "                                   dt = 0.01, tunits='ns',    \n",
    "                                   #traj_selection = 1,\n",
    "                                   #sharey_traj=False,\n",
    "                                   #max_frames=100,\n",
    "                                   proj_idxs=[0, 1],\n",
    "                                   panel_height=2,    \n",
    "                                   #proj_labels='TIC'\n",
    "                                  )\n",
    "mpx_wdg_box"
   ]
  },
  {
   "cell_type": "markdown",
   "metadata": {},
   "source": [
    "## Regspace Clustering"
   ]
  },
  {
   "cell_type": "code",
   "execution_count": 17,
   "metadata": {},
   "outputs": [],
   "source": [
    "clustering = pyemma.coordinates.cluster_regspace(Y,dmin=0.25)"
   ]
  },
  {
   "cell_type": "code",
   "execution_count": 18,
   "metadata": {},
   "outputs": [],
   "source": [
    "def plot_labels(ax=None):\n",
    "    #if ax is None:\n",
    "        #ax = gca()\n",
    "    for i in range(0,len(clustering.clustercenters)):\n",
    "        plt.text(clustering.clustercenters[i][0]+0.05, clustering.clustercenters[i][1]+0.05, i, fontsize=10, color='black')\n"
   ]
  },
  {
   "cell_type": "code",
   "execution_count": 19,
   "metadata": {},
   "outputs": [
    {
     "data": {
      "application/vnd.jupyter.widget-view+json": {
       "model_id": "",
       "version_major": 2,
       "version_minor": 0
      },
      "text/plain": [
       "FigureCanvasNbAgg()"
      ]
     },
     "metadata": {},
     "output_type": "display_data"
    },
    {
     "data": {
      "text/plain": [
       "[<matplotlib.lines.Line2D at 0x7f2920067a58>]"
      ]
     },
     "execution_count": 19,
     "metadata": {},
     "output_type": "execute_result"
    }
   ],
   "source": [
    "#plt.figure()\n",
    "pyemma.plots.plot_free_energy(np.vstack(Y)[:, 0], np.vstack(Y)[:, 1])\n",
    "cc_x = clustering.clustercenters[:, 0]\n",
    "cc_y = clustering.clustercenters[:, 1]\n",
    "plt.plot(cc_x, cc_y, linewidth=0, marker='o', markersize=4, color='black')\n",
    "#plot_labels()"
   ]
  },
  {
   "cell_type": "code",
   "execution_count": 20,
   "metadata": {},
   "outputs": [
    {
     "data": {
      "application/vnd.jupyter.widget-view+json": {
       "model_id": "",
       "version_major": 2,
       "version_minor": 0
      },
      "text/plain": [
       "HBox(children=(HBox(children=(Label(value='getting output of RegularSpaceClustering'),), layout=Layout(max_wid…"
      ]
     },
     "metadata": {},
     "output_type": "display_data"
    },
    {
     "name": "stdout",
     "output_type": "stream",
     "text": [
      "\r",
      "size of cluster 0: 401 structures\n",
      "size of cluster 1: 1199 structures\n",
      "size of cluster 2: 346 structures\n",
      "size of cluster 3: 2709 structures\n",
      "size of cluster 4: 3162 structures\n",
      "size of cluster 5: 3908 structures\n",
      "size of cluster 6: 1106 structures\n",
      "size of cluster 7: 2726 structures\n",
      "size of cluster 8: 177 structures\n",
      "size of cluster 9: 786 structures\n",
      "size of cluster 10: 1329 structures\n",
      "size of cluster 11: 412 structures\n",
      "size of cluster 12: 103 structures\n",
      "size of cluster 13: 93 structures\n",
      "size of cluster 14: 239 structures\n",
      "size of cluster 15: 2944 structures\n",
      "size of cluster 16: 1797 structures\n",
      "size of cluster 17: 2522 structures\n",
      "size of cluster 18: 341 structures\n",
      "size of cluster 19: 59 structures\n",
      "size of cluster 20: 4 structures\n",
      "size of cluster 21: 19 structures\n",
      "size of cluster 22: 4689 structures\n",
      "size of cluster 23: 1924 structures\n",
      "size of cluster 24: 4605 structures\n",
      "size of cluster 25: 2814 structures\n",
      "size of cluster 26: 6031 structures\n",
      "size of cluster 27: 1822 structures\n",
      "size of cluster 28: 901 structures\n",
      "size of cluster 29: 451 structures\n",
      "size of cluster 30: 2917 structures\n",
      "size of cluster 31: 1840 structures\n",
      "size of cluster 32: 3377 structures\n",
      "size of cluster 33: 2976 structures\n",
      "size of cluster 34: 2507 structures\n",
      "size of cluster 35: 2880 structures\n",
      "size of cluster 36: 532 structures\n",
      "size of cluster 37: 1748 structures\n",
      "size of cluster 38: 929 structures\n",
      "size of cluster 39: 1284 structures\n",
      "size of cluster 40: 140 structures\n",
      "size of cluster 41: 47 structures\n",
      "size of cluster 42: 3493 structures\n",
      "size of cluster 43: 2279 structures\n",
      "size of cluster 44: 133 structures\n",
      "size of cluster 45: 48 structures\n",
      "size of cluster 46: 40 structures\n",
      "size of cluster 47: 3952 structures\n",
      "size of cluster 48: 810 structures\n",
      "size of cluster 49: 292 structures\n",
      "size of cluster 50: 363 structures\n",
      "size of cluster 51: 4906 structures\n",
      "size of cluster 52: 1863 structures\n",
      "size of cluster 53: 2514 structures\n",
      "size of cluster 54: 136 structures\n",
      "size of cluster 55: 1439 structures\n",
      "size of cluster 56: 308 structures\n",
      "size of cluster 57: 6581 structures\n",
      "size of cluster 58: 1074 structures\n",
      "size of cluster 59: 787 structures\n",
      "size of cluster 60: 227 structures\n",
      "size of cluster 61: 16 structures\n",
      "size of cluster 62: 23 structures\n",
      "size of cluster 63: 1293 structures\n",
      "size of cluster 64: 338 structures\n",
      "size of cluster 65: 3569 structures\n",
      "size of cluster 66: 14712 structures\n",
      "size of cluster 67: 40239 structures\n",
      "size of cluster 68: 29054 structures\n",
      "size of cluster 69: 25544 structures\n",
      "size of cluster 70: 10685 structures\n",
      "size of cluster 71: 4663 structures\n",
      "size of cluster 72: 132 structures\n",
      "size of cluster 73: 23 structures\n",
      "size of cluster 74: 16 structures\n",
      "size of cluster 75: 4567 structures\n",
      "size of cluster 76: 1640 structures\n",
      "size of cluster 77: 2457 structures\n",
      "size of cluster 78: 142 structures\n",
      "size of cluster 79: 531 structures\n",
      "size of cluster 80: 83 structures\n",
      "size of cluster 81: 17 structures\n",
      "size of cluster 82: 946 structures\n",
      "size of cluster 83: 238 structures\n",
      "size of cluster 84: 407 structures\n",
      "size of cluster 85: 94 structures\n",
      "size of cluster 86: 41 structures\n",
      "size of cluster 87: 102 structures\n",
      "size of cluster 88: 6 structures\n",
      "size of cluster 89: 35 structures\n",
      "size of cluster 90: 33 structures\n",
      "size of cluster 91: 27 structures\n",
      "size of cluster 92: 42 structures\n",
      "size of cluster 93: 35 structures\n",
      "size of cluster 94: 18 structures\n",
      "size of cluster 95: 21 structures\n",
      "size of cluster 96: 22 structures\n",
      "size of cluster 97: 20 structures\n",
      "size of cluster 98: 15 structures\n",
      "size of cluster 99: 357 structures\n",
      "size of cluster 100: 4005 structures\n",
      "size of cluster 101: 3871 structures\n",
      "size of cluster 102: 3865 structures\n",
      "size of cluster 103: 2505 structures\n",
      "size of cluster 104: 98 structures\n",
      "size of cluster 105: 241 structures\n",
      "size of cluster 106: 156 structures\n",
      "size of cluster 107: 172 structures\n",
      "size of cluster 108: 530 structures\n",
      "size of cluster 109: 9831 structures\n",
      "size of cluster 110: 527 structures\n",
      "size of cluster 111: 910 structures\n",
      "size of cluster 112: 4632 structures\n",
      "size of cluster 113: 8918 structures\n",
      "size of cluster 114: 4234 structures\n",
      "size of cluster 115: 7532 structures\n",
      "size of cluster 116: 9893 structures\n",
      "size of cluster 117: 2836 structures\n",
      "size of cluster 118: 2308 structures\n",
      "size of cluster 119: 688 structures\n",
      "size of cluster 120: 213 structures\n",
      "size of cluster 121: 1173 structures\n",
      "size of cluster 122: 1237 structures\n",
      "size of cluster 123: 17 structures\n",
      "size of cluster 124: 191 structures\n",
      "size of cluster 125: 349 structures\n",
      "size of cluster 126: 6435 structures\n",
      "size of cluster 127: 15 structures\n",
      "size of cluster 128: 2 structures\n",
      "size of cluster 129: 272 structures\n",
      "size of cluster 130: 47 structures\n",
      "size of cluster 131: 37 structures\n",
      "size of cluster 132: 12211 structures\n",
      "size of cluster 133: 10743 structures\n",
      "size of cluster 134: 4718 structures\n",
      "size of cluster 135: 1780 structures\n",
      "size of cluster 136: 6 structures\n",
      "size of cluster 137: 6 structures\n",
      "size of cluster 138: 12 structures\n",
      "size of cluster 139: 28 structures\n",
      "size of cluster 140: 20 structures\n",
      "size of cluster 141: 13 structures\n",
      "size of cluster 142: 682 structures\n",
      "size of cluster 143: 3210 structures\n",
      "size of cluster 144: 31 structures\n",
      "size of cluster 145: 95 structures\n",
      "size of cluster 146: 538 structures\n",
      "size of cluster 147: 102 structures\n",
      "size of cluster 148: 24 structures\n",
      "size of cluster 149: 292 structures\n",
      "size of cluster 150: 11 structures\n",
      "size of cluster 151: 16 structures\n",
      "size of cluster 152: 23 structures\n",
      "size of cluster 153: 9 structures\n",
      "size of cluster 154: 9 structures\n",
      "size of cluster 155: 9 structures\n",
      "size of cluster 156: 5 structures\n",
      "size of cluster 157: 1 structures\n",
      "size of cluster 158: 21 structures\n",
      "size of cluster 159: 6 structures\n",
      "size of cluster 160: 4 structures\n",
      "size of cluster 161: 7 structures\n",
      "size of cluster 162: 12 structures\n",
      "size of cluster 163: 11 structures\n",
      "size of cluster 164: 11 structures\n",
      "size of cluster 165: 34 structures\n",
      "size of cluster 166: 22 structures\n",
      "size of cluster 167: 25 structures\n",
      "size of cluster 168: 44 structures\n",
      "size of cluster 169: 1199 structures\n",
      "size of cluster 170: 161 structures\n",
      "size of cluster 171: 4437 structures\n",
      "size of cluster 172: 16206 structures\n",
      "size of cluster 173: 2364 structures\n",
      "size of cluster 174: 8414 structures\n",
      "size of cluster 175: 11656 structures\n",
      "size of cluster 176: 2609 structures\n",
      "size of cluster 177: 1605 structures\n",
      "size of cluster 178: 4023 structures\n",
      "size of cluster 179: 2020 structures\n",
      "size of cluster 180: 1717 structures\n",
      "size of cluster 181: 12063 structures\n",
      "size of cluster 182: 14468 structures\n",
      "size of cluster 183: 3299 structures\n",
      "size of cluster 184: 6198 structures\n",
      "size of cluster 185: 1169 structures\n",
      "size of cluster 186: 1179 structures\n",
      "size of cluster 187: 3551 structures\n",
      "size of cluster 188: 385 structures\n",
      "size of cluster 189: 827 structures\n",
      "size of cluster 190: 560 structures\n",
      "size of cluster 191: 215 structures\n",
      "size of cluster 192: 795 structures\n",
      "size of cluster 193: 7639 structures\n",
      "size of cluster 194: 2445 structures\n",
      "size of cluster 195: 1258 structures\n",
      "size of cluster 196: 11 structures\n",
      "size of cluster 197: 7 structures\n",
      "size of cluster 198: 53 structures\n",
      "size of cluster 199: 210 structures\n",
      "size of cluster 200: 79 structures\n",
      "size of cluster 201: 85 structures\n",
      "size of cluster 202: 3 structures\n",
      "size of cluster 203: 63 structures\n",
      "size of cluster 204: 187 structures\n",
      "size of cluster 205: 5 structures\n",
      "size of cluster 206: 10 structures\n",
      "size of cluster 207: 4 structures\n",
      "size of cluster 208: 3649 structures\n",
      "size of cluster 209: 80 structures\n",
      "size of cluster 210: 246 structures\n",
      "size of cluster 211: 1 structures\n",
      "size of cluster 212: 19 structures\n",
      "size of cluster 213: 23 structures\n",
      "size of cluster 214: 634 structures\n",
      "size of cluster 215: 1 structures\n",
      "size of cluster 216: 3128 structures\n",
      "size of cluster 217: 5357 structures\n",
      "size of cluster 218: 659 structures\n",
      "size of cluster 219: 1140 structures\n",
      "size of cluster 220: 921 structures\n",
      "size of cluster 221: 302 structures\n",
      "size of cluster 222: 876 structures\n",
      "size of cluster 223: 1231 structures\n",
      "size of cluster 224: 518 structures\n",
      "size of cluster 225: 1166 structures\n",
      "size of cluster 226: 615 structures\n",
      "size of cluster 227: 331 structures\n",
      "size of cluster 228: 1691 structures\n",
      "size of cluster 229: 35 structures\n",
      "size of cluster 230: 5 structures\n",
      "size of cluster 231: 10 structures\n",
      "size of cluster 232: 33 structures\n",
      "size of cluster 233: 805 structures\n",
      "size of cluster 234: 82 structures\n",
      "size of cluster 235: 1000 structures\n",
      "size of cluster 236: 12 structures\n",
      "size of cluster 237: 10 structures\n",
      "size of cluster 238: 201 structures\n",
      "size of cluster 239: 103 structures\n",
      "size of cluster 240: 162 structures\n",
      "size of cluster 241: 2 structures\n",
      "size of cluster 242: 17 structures\n",
      "size of cluster 243: 107 structures\n",
      "size of cluster 244: 14 structures\n",
      "size of cluster 245: 171 structures\n"
     ]
    }
   ],
   "source": [
    "labels = np.concatenate(clustering.dtrajs)\n",
    "mapping = defaultdict(lambda : [])\n",
    "for i, label in enumerate(labels):\n",
    "    mapping[label].append(i)\n",
    "for i in range(0,len(clustering.clustercenters)):\n",
    "    print('size of cluster %d: %d structures' % (i, len(mapping[i])))\n"
   ]
  },
  {
   "cell_type": "code",
   "execution_count": 21,
   "metadata": {},
   "outputs": [
    {
     "data": {
      "application/vnd.jupyter.widget-view+json": {
       "model_id": "",
       "version_major": 2,
       "version_minor": 0
      },
      "text/plain": [
       "HBox(children=(HBox(children=(Label(value='Obtaining file info'),), layout=Layout(max_width='35%', min_width='…"
      ]
     },
     "metadata": {},
     "output_type": "display_data"
    },
    {
     "name": "stdout",
     "output_type": "stream",
     "text": [
      "\r"
     ]
    }
   ],
   "source": [
    "data_sample, geoms = molpx.generate.sample(traj_list, topfile, clustering, n_geom_samples=200, n_points=200)"
   ]
  },
  {
   "cell_type": "code",
   "execution_count": 22,
   "metadata": {},
   "outputs": [
    {
     "data": {
      "text/plain": [
       "RegularSpaceClustering(dmin=0.25, max_centers=246, metric='euclidean',\n",
       "            n_jobs=4, skip=0, stride=1)"
      ]
     },
     "execution_count": 22,
     "metadata": {},
     "output_type": "execute_result"
    }
   ],
   "source": [
    "clustering"
   ]
  },
  {
   "cell_type": "code",
   "execution_count": 23,
   "metadata": {},
   "outputs": [
    {
     "name": "stdout",
     "output_type": "stream",
     "text": [
      "size of cluster 0: 401 structures\n",
      "size of cluster 1: 1199 structures\n",
      "size of cluster 2: 346 structures\n",
      "size of cluster 3: 2709 structures\n",
      "size of cluster 4: 3162 structures\n",
      "size of cluster 5: 3908 structures\n",
      "size of cluster 6: 1106 structures\n",
      "size of cluster 7: 2726 structures\n",
      "size of cluster 8: 177 structures\n",
      "size of cluster 9: 786 structures\n",
      "size of cluster 10: 1329 structures\n",
      "size of cluster 11: 412 structures\n",
      "size of cluster 12: 103 structures\n",
      "size of cluster 13: 93 structures\n",
      "size of cluster 14: 239 structures\n",
      "size of cluster 15: 2944 structures\n",
      "size of cluster 16: 1797 structures\n",
      "size of cluster 17: 2522 structures\n",
      "size of cluster 18: 341 structures\n",
      "size of cluster 19: 59 structures\n",
      "size of cluster 20: 4 structures\n",
      "size of cluster 21: 19 structures\n",
      "size of cluster 22: 4689 structures\n",
      "size of cluster 23: 1924 structures\n",
      "size of cluster 24: 4605 structures\n",
      "size of cluster 25: 2814 structures\n",
      "size of cluster 26: 6031 structures\n",
      "size of cluster 27: 1822 structures\n",
      "size of cluster 28: 901 structures\n",
      "size of cluster 29: 451 structures\n",
      "size of cluster 30: 2917 structures\n",
      "size of cluster 31: 1840 structures\n",
      "size of cluster 32: 3377 structures\n",
      "size of cluster 33: 2976 structures\n",
      "size of cluster 34: 2507 structures\n",
      "size of cluster 35: 2880 structures\n",
      "size of cluster 36: 532 structures\n",
      "size of cluster 37: 1748 structures\n",
      "size of cluster 38: 929 structures\n",
      "size of cluster 39: 1284 structures\n",
      "size of cluster 40: 140 structures\n",
      "size of cluster 41: 47 structures\n",
      "size of cluster 42: 3493 structures\n",
      "size of cluster 43: 2279 structures\n",
      "size of cluster 44: 133 structures\n",
      "size of cluster 45: 48 structures\n",
      "size of cluster 46: 40 structures\n",
      "size of cluster 47: 3952 structures\n",
      "size of cluster 48: 810 structures\n",
      "size of cluster 49: 292 structures\n",
      "size of cluster 50: 363 structures\n",
      "size of cluster 51: 4906 structures\n",
      "size of cluster 52: 1863 structures\n",
      "size of cluster 53: 2514 structures\n",
      "size of cluster 54: 136 structures\n",
      "size of cluster 55: 1439 structures\n",
      "size of cluster 56: 308 structures\n",
      "size of cluster 57: 6581 structures\n",
      "size of cluster 58: 1074 structures\n",
      "size of cluster 59: 787 structures\n",
      "size of cluster 60: 227 structures\n",
      "size of cluster 61: 16 structures\n",
      "size of cluster 62: 23 structures\n",
      "size of cluster 63: 1293 structures\n",
      "size of cluster 64: 338 structures\n",
      "size of cluster 65: 3569 structures\n",
      "size of cluster 66: 14712 structures\n",
      "size of cluster 67: 40239 structures\n",
      "size of cluster 68: 29054 structures\n",
      "size of cluster 69: 25544 structures\n",
      "size of cluster 70: 10685 structures\n",
      "size of cluster 71: 4663 structures\n",
      "size of cluster 72: 132 structures\n",
      "size of cluster 73: 23 structures\n",
      "size of cluster 74: 16 structures\n",
      "size of cluster 75: 4567 structures\n",
      "size of cluster 76: 1640 structures\n",
      "size of cluster 77: 2457 structures\n",
      "size of cluster 78: 142 structures\n",
      "size of cluster 79: 531 structures\n",
      "size of cluster 80: 83 structures\n",
      "size of cluster 81: 17 structures\n",
      "size of cluster 82: 946 structures\n",
      "size of cluster 83: 238 structures\n",
      "size of cluster 84: 407 structures\n",
      "size of cluster 85: 94 structures\n",
      "size of cluster 86: 41 structures\n",
      "size of cluster 87: 102 structures\n",
      "size of cluster 88: 6 structures\n",
      "size of cluster 89: 35 structures\n",
      "size of cluster 90: 33 structures\n",
      "size of cluster 91: 27 structures\n",
      "size of cluster 92: 42 structures\n",
      "size of cluster 93: 35 structures\n",
      "size of cluster 94: 18 structures\n",
      "size of cluster 95: 21 structures\n",
      "size of cluster 96: 22 structures\n",
      "size of cluster 97: 20 structures\n",
      "size of cluster 98: 15 structures\n",
      "size of cluster 99: 357 structures\n",
      "size of cluster 100: 4005 structures\n",
      "size of cluster 101: 3871 structures\n",
      "size of cluster 102: 3865 structures\n",
      "size of cluster 103: 2505 structures\n",
      "size of cluster 104: 98 structures\n",
      "size of cluster 105: 241 structures\n",
      "size of cluster 106: 156 structures\n",
      "size of cluster 107: 172 structures\n",
      "size of cluster 108: 530 structures\n",
      "size of cluster 109: 9831 structures\n",
      "size of cluster 110: 527 structures\n",
      "size of cluster 111: 910 structures\n",
      "size of cluster 112: 4632 structures\n",
      "size of cluster 113: 8918 structures\n",
      "size of cluster 114: 4234 structures\n",
      "size of cluster 115: 7532 structures\n",
      "size of cluster 116: 9893 structures\n",
      "size of cluster 117: 2836 structures\n",
      "size of cluster 118: 2308 structures\n",
      "size of cluster 119: 688 structures\n",
      "size of cluster 120: 213 structures\n",
      "size of cluster 121: 1173 structures\n",
      "size of cluster 122: 1237 structures\n",
      "size of cluster 123: 17 structures\n",
      "size of cluster 124: 191 structures\n",
      "size of cluster 125: 349 structures\n",
      "size of cluster 126: 6435 structures\n",
      "size of cluster 127: 15 structures\n",
      "size of cluster 128: 2 structures\n",
      "size of cluster 129: 272 structures\n",
      "size of cluster 130: 47 structures\n",
      "size of cluster 131: 37 structures\n",
      "size of cluster 132: 12211 structures\n",
      "size of cluster 133: 10743 structures\n",
      "size of cluster 134: 4718 structures\n",
      "size of cluster 135: 1780 structures\n",
      "size of cluster 136: 6 structures\n",
      "size of cluster 137: 6 structures\n",
      "size of cluster 138: 12 structures\n",
      "size of cluster 139: 28 structures\n",
      "size of cluster 140: 20 structures\n",
      "size of cluster 141: 13 structures\n",
      "size of cluster 142: 682 structures\n",
      "size of cluster 143: 3210 structures\n",
      "size of cluster 144: 31 structures\n",
      "size of cluster 145: 95 structures\n",
      "size of cluster 146: 538 structures\n",
      "size of cluster 147: 102 structures\n",
      "size of cluster 148: 24 structures\n",
      "size of cluster 149: 292 structures\n",
      "size of cluster 150: 11 structures\n",
      "size of cluster 151: 16 structures\n",
      "size of cluster 152: 23 structures\n",
      "size of cluster 153: 9 structures\n",
      "size of cluster 154: 9 structures\n",
      "size of cluster 155: 9 structures\n",
      "size of cluster 156: 5 structures\n",
      "size of cluster 157: 1 structures\n",
      "size of cluster 158: 21 structures\n",
      "size of cluster 159: 6 structures\n",
      "size of cluster 160: 4 structures\n",
      "size of cluster 161: 7 structures\n",
      "size of cluster 162: 12 structures\n",
      "size of cluster 163: 11 structures\n",
      "size of cluster 164: 11 structures\n",
      "size of cluster 165: 34 structures\n",
      "size of cluster 166: 22 structures\n",
      "size of cluster 167: 25 structures\n",
      "size of cluster 168: 44 structures\n",
      "size of cluster 169: 1199 structures\n",
      "size of cluster 170: 161 structures\n",
      "size of cluster 171: 4437 structures\n",
      "size of cluster 172: 16206 structures\n",
      "size of cluster 173: 2364 structures\n",
      "size of cluster 174: 8414 structures\n",
      "size of cluster 175: 11656 structures\n",
      "size of cluster 176: 2609 structures\n",
      "size of cluster 177: 1605 structures\n",
      "size of cluster 178: 4023 structures\n",
      "size of cluster 179: 2020 structures\n",
      "size of cluster 180: 1717 structures\n",
      "size of cluster 181: 12063 structures\n",
      "size of cluster 182: 14468 structures\n",
      "size of cluster 183: 3299 structures\n",
      "size of cluster 184: 6198 structures\n",
      "size of cluster 185: 1169 structures\n",
      "size of cluster 186: 1179 structures\n",
      "size of cluster 187: 3551 structures\n",
      "size of cluster 188: 385 structures\n",
      "size of cluster 189: 827 structures\n",
      "size of cluster 190: 560 structures\n",
      "size of cluster 191: 215 structures\n",
      "size of cluster 192: 795 structures\n",
      "size of cluster 193: 7639 structures\n",
      "size of cluster 194: 2445 structures\n",
      "size of cluster 195: 1258 structures\n",
      "size of cluster 196: 11 structures\n",
      "size of cluster 197: 7 structures\n",
      "size of cluster 198: 53 structures\n",
      "size of cluster 199: 210 structures\n",
      "size of cluster 200: 79 structures\n",
      "size of cluster 201: 85 structures\n",
      "size of cluster 202: 3 structures\n",
      "size of cluster 203: 63 structures\n",
      "size of cluster 204: 187 structures\n",
      "size of cluster 205: 5 structures\n",
      "size of cluster 206: 10 structures\n",
      "size of cluster 207: 4 structures\n",
      "size of cluster 208: 3649 structures\n",
      "size of cluster 209: 80 structures\n",
      "size of cluster 210: 246 structures\n",
      "size of cluster 211: 1 structures\n",
      "size of cluster 212: 19 structures\n",
      "size of cluster 213: 23 structures\n",
      "size of cluster 214: 634 structures\n",
      "size of cluster 215: 1 structures\n",
      "size of cluster 216: 3128 structures\n",
      "size of cluster 217: 5357 structures\n",
      "size of cluster 218: 659 structures\n",
      "size of cluster 219: 1140 structures\n",
      "size of cluster 220: 921 structures\n",
      "size of cluster 221: 302 structures\n",
      "size of cluster 222: 876 structures\n",
      "size of cluster 223: 1231 structures\n",
      "size of cluster 224: 518 structures\n",
      "size of cluster 225: 1166 structures\n",
      "size of cluster 226: 615 structures\n",
      "size of cluster 227: 331 structures\n",
      "size of cluster 228: 1691 structures\n",
      "size of cluster 229: 35 structures\n",
      "size of cluster 230: 5 structures\n",
      "size of cluster 231: 10 structures\n",
      "size of cluster 232: 33 structures\n",
      "size of cluster 233: 805 structures\n",
      "size of cluster 234: 82 structures\n",
      "size of cluster 235: 1000 structures\n"
     ]
    },
    {
     "name": "stdout",
     "output_type": "stream",
     "text": [
      "size of cluster 236: 12 structures\n",
      "size of cluster 237: 10 structures\n",
      "size of cluster 238: 201 structures\n",
      "size of cluster 239: 103 structures\n",
      "size of cluster 240: 162 structures\n",
      "size of cluster 241: 2 structures\n",
      "size of cluster 242: 17 structures\n",
      "size of cluster 243: 107 structures\n",
      "size of cluster 244: 14 structures\n",
      "size of cluster 245: 171 structures\n"
     ]
    }
   ],
   "source": [
    "FILE = open( './cluster_centre_6/clustering.log', \"w\" )\n",
    "\n",
    "#trajs={}\n",
    "\n",
    "for i in range(0,clustering.max_centers):\n",
    "    print('size of cluster %d: %d structures' % (i, len(mapping[i])))\n",
    "    print('size of cluster %d: %d structures' % (i, len(mapping[i])), file=FILE)\n",
    "    geoms[i].save('./cluster_centre_6/{}.pdb'.format(i))"
   ]
  },
  {
   "cell_type": "markdown",
   "metadata": {},
   "source": [
    "## K-mean clustering - key clusters"
   ]
  },
  {
   "cell_type": "code",
   "execution_count": 1,
   "metadata": {},
   "outputs": [],
   "source": [
    "n_clusters = 9"
   ]
  },
  {
   "cell_type": "code",
   "execution_count": 2,
   "metadata": {},
   "outputs": [
    {
     "ename": "NameError",
     "evalue": "name 'pyemma' is not defined",
     "output_type": "error",
     "traceback": [
      "\u001b[0;31m---------------------------------------------------------------------------\u001b[0m",
      "\u001b[0;31mNameError\u001b[0m                                 Traceback (most recent call last)",
      "\u001b[0;32m<ipython-input-2-df3eb080d57b>\u001b[0m in \u001b[0;36m<module>\u001b[0;34m\u001b[0m\n\u001b[0;32m----> 1\u001b[0;31m \u001b[0mclustering\u001b[0m \u001b[0;34m=\u001b[0m \u001b[0mpyemma\u001b[0m\u001b[0;34m.\u001b[0m\u001b[0mcoordinates\u001b[0m\u001b[0;34m.\u001b[0m\u001b[0mcluster_kmeans\u001b[0m\u001b[0;34m(\u001b[0m\u001b[0mY\u001b[0m\u001b[0;34m,\u001b[0m\u001b[0mk\u001b[0m\u001b[0;34m=\u001b[0m\u001b[0mn_clusters\u001b[0m\u001b[0;34m,\u001b[0m \u001b[0mmax_iter\u001b[0m\u001b[0;34m=\u001b[0m\u001b[0;36m1000\u001b[0m\u001b[0;34m,\u001b[0m \u001b[0mn_jobs\u001b[0m\u001b[0;34m=\u001b[0m\u001b[0;36m1\u001b[0m\u001b[0;34m)\u001b[0m\u001b[0;34m\u001b[0m\u001b[0;34m\u001b[0m\u001b[0m\n\u001b[0m",
      "\u001b[0;31mNameError\u001b[0m: name 'pyemma' is not defined"
     ]
    }
   ],
   "source": [
    "clustering = pyemma.coordinates.cluster_kmeans(Y,k=n_clusters, max_iter=1000, n_jobs=1)"
   ]
  },
  {
   "cell_type": "code",
   "execution_count": 37,
   "metadata": {},
   "outputs": [],
   "source": [
    "def plot_labels(ax=None):\n",
    "    #if ax is None:\n",
    "        #ax = gca()\n",
    "    for i in range(0,len(clustering.clustercenters)):\n",
    "        plt.text(clustering.clustercenters[i][0]+0.06, clustering.clustercenters[i][1]+0.07, \n",
    "                 i, fontsize=10, color='white')\n"
   ]
  },
  {
   "cell_type": "code",
   "execution_count": 38,
   "metadata": {},
   "outputs": [
    {
     "data": {
      "application/vnd.jupyter.widget-view+json": {
       "model_id": "af5abf1ce53f440dbcaf30d0ab864529",
       "version_major": 2,
       "version_minor": 0
      },
      "text/plain": [
       "FigureCanvasNbAgg()"
      ]
     },
     "metadata": {},
     "output_type": "display_data"
    }
   ],
   "source": [
    "pyemma.plots.plot_free_energy(np.vstack(Y)[:, 0], np.vstack(Y)[:, 1])\n",
    "cc_x = clustering.clustercenters[:, 0]\n",
    "cc_y = clustering.clustercenters[:, 1]\n",
    "plt.plot(cc_x, cc_y, linewidth=0, marker='o', markersize=5, color='white')\n",
    "plot_labels()"
   ]
  },
  {
   "cell_type": "code",
   "execution_count": 39,
   "metadata": {},
   "outputs": [
    {
     "data": {
      "application/vnd.jupyter.widget-view+json": {
       "model_id": "",
       "version_major": 2,
       "version_minor": 0
      },
      "text/plain": [
       "HBox(children=(HBox(children=(Label(value='getting output of KmeansClustering'),), layout=Layout(max_width='35…"
      ]
     },
     "metadata": {},
     "output_type": "display_data"
    },
    {
     "name": "stdout",
     "output_type": "stream",
     "text": [
      "\r"
     ]
    },
    {
     "ename": "TypeError",
     "evalue": "assign(): incompatible function arguments. The following argument types are supported:\n    1. (self: pyemma.coordinates.clustering._ext.ClusteringBase_f, arg0: numpy.ndarray[float32], arg1: numpy.ndarray[float32], arg2: int) -> numpy.ndarray[int32]\n\nInvoked with: <pyemma.coordinates.clustering._ext.kmeans.Kmeans_f object at 0x7f6b4663cb90>, array([[ 2.60861611, -0.03364826],\n       [ 2.49923372, -0.0317664 ],\n       [ 2.5420084 , -0.2080791 ],\n       ..., \n       [ 0.68795639,  0.30198741],\n       [ 0.85549235,  0.11150016],\n       [ 0.95923531, -0.46881443]], dtype=float32), array([[ 1.0217824 , -0.03522905],\n       [ 0.09768325, -0.42104897],\n       [-1.10583961,  2.84976029],\n       [-1.22955859, -0.04317985],\n       [ 2.0159595 ,  0.18417965],\n       [-1.18714595,  0.92452466],\n       [-0.19298726, -1.43052888],\n       [ 0.09822708,  0.29601359],\n       [ 1.40338683,  0.92942214]], dtype=float32), -1",
     "output_type": "error",
     "traceback": [
      "\u001b[0;31m---------------------------------------------------------------------------\u001b[0m",
      "\u001b[0;31mTypeError\u001b[0m                                 Traceback (most recent call last)",
      "\u001b[0;32m<ipython-input-39-fc84d5d38491>\u001b[0m in \u001b[0;36m<module>\u001b[0;34m()\u001b[0m\n\u001b[0;32m----> 1\u001b[0;31m \u001b[0mnp\u001b[0m\u001b[0;34m.\u001b[0m\u001b[0mconcatenate\u001b[0m\u001b[0;34m(\u001b[0m\u001b[0mclustering2\u001b[0m\u001b[0;34m.\u001b[0m\u001b[0mdtrajs\u001b[0m\u001b[0;34m)\u001b[0m\u001b[0;34m\u001b[0m\u001b[0m\n\u001b[0m",
      "\u001b[0;32m~/Software/anaconda3/lib/python3.6/site-packages/pyemma/coordinates/clustering/interface.py\u001b[0m in \u001b[0;36mdtrajs\u001b[0;34m(self)\u001b[0m\n\u001b[1;32m     99\u001b[0m         \u001b[0;34m\"\"\"Discrete trajectories (assigned data to cluster centers).\"\"\"\u001b[0m\u001b[0;34m\u001b[0m\u001b[0m\n\u001b[1;32m    100\u001b[0m         \u001b[0;32mif\u001b[0m \u001b[0mlen\u001b[0m\u001b[0;34m(\u001b[0m\u001b[0mself\u001b[0m\u001b[0;34m.\u001b[0m\u001b[0m_dtrajs\u001b[0m\u001b[0;34m)\u001b[0m \u001b[0;34m==\u001b[0m \u001b[0;36m0\u001b[0m\u001b[0;34m:\u001b[0m  \u001b[0;31m# nothing assigned yet, doing that now\u001b[0m\u001b[0;34m\u001b[0m\u001b[0m\n\u001b[0;32m--> 101\u001b[0;31m             \u001b[0mself\u001b[0m\u001b[0;34m.\u001b[0m\u001b[0m_dtrajs\u001b[0m \u001b[0;34m=\u001b[0m \u001b[0mself\u001b[0m\u001b[0;34m.\u001b[0m\u001b[0massign\u001b[0m\u001b[0;34m(\u001b[0m\u001b[0mstride\u001b[0m\u001b[0;34m=\u001b[0m\u001b[0;36m1\u001b[0m\u001b[0;34m)\u001b[0m\u001b[0;34m\u001b[0m\u001b[0m\n\u001b[0m\u001b[1;32m    102\u001b[0m \u001b[0;34m\u001b[0m\u001b[0m\n\u001b[1;32m    103\u001b[0m         \u001b[0;32mreturn\u001b[0m \u001b[0mself\u001b[0m\u001b[0;34m.\u001b[0m\u001b[0m_dtrajs\u001b[0m  \u001b[0;31m# returning what we have saved\u001b[0m\u001b[0;34m\u001b[0m\u001b[0m\n",
      "\u001b[0;32m~/Software/anaconda3/lib/python3.6/site-packages/pyemma/coordinates/clustering/interface.py\u001b[0m in \u001b[0;36massign\u001b[0;34m(self, X, stride)\u001b[0m\n\u001b[1;32m    215\u001b[0m             \u001b[0mskip\u001b[0m \u001b[0;34m=\u001b[0m \u001b[0mself\u001b[0m\u001b[0;34m.\u001b[0m\u001b[0mskip\u001b[0m \u001b[0;32mif\u001b[0m \u001b[0mhasattr\u001b[0m\u001b[0;34m(\u001b[0m\u001b[0mself\u001b[0m\u001b[0;34m,\u001b[0m \u001b[0;34m'skip'\u001b[0m\u001b[0;34m)\u001b[0m \u001b[0;32melse\u001b[0m \u001b[0;36m0\u001b[0m\u001b[0;34m\u001b[0m\u001b[0m\n\u001b[1;32m    216\u001b[0m             \u001b[0;31m# map to column vectors\u001b[0m\u001b[0;34m\u001b[0m\u001b[0;34m\u001b[0m\u001b[0m\n\u001b[0;32m--> 217\u001b[0;31m             \u001b[0mmapped\u001b[0m \u001b[0;34m=\u001b[0m \u001b[0mself\u001b[0m\u001b[0;34m.\u001b[0m\u001b[0mget_output\u001b[0m\u001b[0;34m(\u001b[0m\u001b[0mstride\u001b[0m\u001b[0;34m=\u001b[0m\u001b[0mstride\u001b[0m\u001b[0;34m,\u001b[0m \u001b[0mchunk\u001b[0m\u001b[0;34m=\u001b[0m\u001b[0mself\u001b[0m\u001b[0;34m.\u001b[0m\u001b[0mchunksize\u001b[0m\u001b[0;34m,\u001b[0m \u001b[0mskip\u001b[0m\u001b[0;34m=\u001b[0m\u001b[0mskip\u001b[0m\u001b[0;34m)\u001b[0m\u001b[0;34m\u001b[0m\u001b[0m\n\u001b[0m\u001b[1;32m    218\u001b[0m             \u001b[0;31m# flatten and save\u001b[0m\u001b[0;34m\u001b[0m\u001b[0;34m\u001b[0m\u001b[0m\n\u001b[1;32m    219\u001b[0m             \u001b[0mself\u001b[0m\u001b[0;34m.\u001b[0m\u001b[0m_dtrajs\u001b[0m \u001b[0;34m=\u001b[0m \u001b[0;34m[\u001b[0m\u001b[0mnp\u001b[0m\u001b[0;34m.\u001b[0m\u001b[0mtranspose\u001b[0m\u001b[0;34m(\u001b[0m\u001b[0mm\u001b[0m\u001b[0;34m)\u001b[0m\u001b[0;34m[\u001b[0m\u001b[0;36m0\u001b[0m\u001b[0;34m]\u001b[0m \u001b[0;32mfor\u001b[0m \u001b[0mm\u001b[0m \u001b[0;32min\u001b[0m \u001b[0mmapped\u001b[0m\u001b[0;34m]\u001b[0m\u001b[0;34m\u001b[0m\u001b[0m\n",
      "\u001b[0;32m~/Software/anaconda3/lib/python3.6/site-packages/pyemma/coordinates/data/_base/transformer.py\u001b[0m in \u001b[0;36mget_output\u001b[0;34m(self, dimensions, stride, skip, chunk)\u001b[0m\n\u001b[1;32m    225\u001b[0m             \u001b[0mself\u001b[0m\u001b[0;34m.\u001b[0m\u001b[0mestimate\u001b[0m\u001b[0;34m(\u001b[0m\u001b[0mself\u001b[0m\u001b[0;34m.\u001b[0m\u001b[0mdata_producer\u001b[0m\u001b[0;34m,\u001b[0m \u001b[0mstride\u001b[0m\u001b[0;34m=\u001b[0m\u001b[0mstride\u001b[0m\u001b[0;34m)\u001b[0m\u001b[0;34m\u001b[0m\u001b[0m\n\u001b[1;32m    226\u001b[0m \u001b[0;34m\u001b[0m\u001b[0m\n\u001b[0;32m--> 227\u001b[0;31m         \u001b[0;32mreturn\u001b[0m \u001b[0msuper\u001b[0m\u001b[0;34m(\u001b[0m\u001b[0mStreamingTransformer\u001b[0m\u001b[0;34m,\u001b[0m \u001b[0mself\u001b[0m\u001b[0;34m)\u001b[0m\u001b[0;34m.\u001b[0m\u001b[0mget_output\u001b[0m\u001b[0;34m(\u001b[0m\u001b[0mdimensions\u001b[0m\u001b[0;34m,\u001b[0m \u001b[0mstride\u001b[0m\u001b[0;34m,\u001b[0m \u001b[0mskip\u001b[0m\u001b[0;34m,\u001b[0m \u001b[0mchunk\u001b[0m\u001b[0;34m)\u001b[0m\u001b[0;34m\u001b[0m\u001b[0m\n\u001b[0m\u001b[1;32m    228\u001b[0m \u001b[0;34m\u001b[0m\u001b[0m\n\u001b[1;32m    229\u001b[0m \u001b[0;34m\u001b[0m\u001b[0m\n",
      "\u001b[0;32m~/Software/anaconda3/lib/python3.6/site-packages/pyemma/coordinates/data/_base/datasource.py\u001b[0m in \u001b[0;36mget_output\u001b[0;34m(self, dimensions, stride, skip, chunk)\u001b[0m\n\u001b[1;32m    393\u001b[0m             \u001b[0mpg\u001b[0m\u001b[0;34m.\u001b[0m\u001b[0mregister\u001b[0m\u001b[0;34m(\u001b[0m\u001b[0mit\u001b[0m\u001b[0;34m.\u001b[0m\u001b[0mn_chunks\u001b[0m\u001b[0;34m,\u001b[0m \u001b[0mdescription\u001b[0m\u001b[0;34m=\u001b[0m\u001b[0;34m'getting output of %s'\u001b[0m \u001b[0;34m%\u001b[0m \u001b[0mself\u001b[0m\u001b[0;34m.\u001b[0m\u001b[0m__class__\u001b[0m\u001b[0;34m.\u001b[0m\u001b[0m__name__\u001b[0m\u001b[0;34m)\u001b[0m\u001b[0;34m\u001b[0m\u001b[0m\n\u001b[1;32m    394\u001b[0m             \u001b[0;32mwith\u001b[0m \u001b[0mpg\u001b[0m\u001b[0;34m.\u001b[0m\u001b[0mcontext\u001b[0m\u001b[0;34m(\u001b[0m\u001b[0;34m)\u001b[0m\u001b[0;34m,\u001b[0m \u001b[0mit\u001b[0m\u001b[0;34m:\u001b[0m\u001b[0;34m\u001b[0m\u001b[0m\n\u001b[0;32m--> 395\u001b[0;31m                 \u001b[0;32mfor\u001b[0m \u001b[0mitraj\u001b[0m\u001b[0;34m,\u001b[0m \u001b[0mchunk\u001b[0m \u001b[0;32min\u001b[0m \u001b[0mit\u001b[0m\u001b[0;34m:\u001b[0m\u001b[0;34m\u001b[0m\u001b[0m\n\u001b[0m\u001b[1;32m    396\u001b[0m                     \u001b[0mi\u001b[0m \u001b[0;34m=\u001b[0m \u001b[0mslice\u001b[0m\u001b[0;34m(\u001b[0m\u001b[0mit\u001b[0m\u001b[0;34m.\u001b[0m\u001b[0mpos\u001b[0m\u001b[0;34m,\u001b[0m \u001b[0mit\u001b[0m\u001b[0;34m.\u001b[0m\u001b[0mpos\u001b[0m \u001b[0;34m+\u001b[0m \u001b[0mlen\u001b[0m\u001b[0;34m(\u001b[0m\u001b[0mchunk\u001b[0m\u001b[0;34m)\u001b[0m\u001b[0;34m)\u001b[0m\u001b[0;34m\u001b[0m\u001b[0m\n\u001b[1;32m    397\u001b[0m                     \u001b[0;32massert\u001b[0m \u001b[0mi\u001b[0m\u001b[0;34m.\u001b[0m\u001b[0mstop\u001b[0m \u001b[0;34m-\u001b[0m \u001b[0mi\u001b[0m\u001b[0;34m.\u001b[0m\u001b[0mstart\u001b[0m \u001b[0;34m>\u001b[0m \u001b[0;36m0\u001b[0m\u001b[0;34m\u001b[0m\u001b[0m\n",
      "\u001b[0;32m~/Software/anaconda3/lib/python3.6/site-packages/pyemma/coordinates/data/_base/datasource.py\u001b[0m in \u001b[0;36m__next__\u001b[0;34m(self)\u001b[0m\n\u001b[1;32m   1036\u001b[0m         \u001b[0mself\u001b[0m\u001b[0;34m.\u001b[0m\u001b[0m_select_file\u001b[0m\u001b[0;34m(\u001b[0m\u001b[0mself\u001b[0m\u001b[0;34m.\u001b[0m\u001b[0m_itraj\u001b[0m\u001b[0;34m)\u001b[0m\u001b[0;34m\u001b[0m\u001b[0m\n\u001b[1;32m   1037\u001b[0m         \u001b[0;32mtry\u001b[0m\u001b[0;34m:\u001b[0m\u001b[0;34m\u001b[0m\u001b[0m\n\u001b[0;32m-> 1038\u001b[0;31m             \u001b[0mX\u001b[0m \u001b[0;34m=\u001b[0m \u001b[0mself\u001b[0m\u001b[0;34m.\u001b[0m\u001b[0m_use_cols\u001b[0m\u001b[0;34m(\u001b[0m\u001b[0mself\u001b[0m\u001b[0;34m.\u001b[0m\u001b[0m_next_chunk\u001b[0m\u001b[0;34m(\u001b[0m\u001b[0;34m)\u001b[0m\u001b[0;34m)\u001b[0m\u001b[0;34m\u001b[0m\u001b[0m\n\u001b[0m\u001b[1;32m   1039\u001b[0m             \u001b[0mself\u001b[0m\u001b[0;34m.\u001b[0m\u001b[0m_t\u001b[0m \u001b[0;34m+=\u001b[0m \u001b[0mlen\u001b[0m\u001b[0;34m(\u001b[0m\u001b[0mX\u001b[0m\u001b[0;34m)\u001b[0m\u001b[0;34m\u001b[0m\u001b[0m\n\u001b[1;32m   1040\u001b[0m         \u001b[0;32mexcept\u001b[0m \u001b[0mStopIteration\u001b[0m \u001b[0;32mas\u001b[0m \u001b[0me\u001b[0m\u001b[0;34m:\u001b[0m\u001b[0;34m\u001b[0m\u001b[0m\n",
      "\u001b[0;32m~/Software/anaconda3/lib/python3.6/site-packages/pyemma/coordinates/data/_base/datasource.py\u001b[0m in \u001b[0;36m_next_chunk\u001b[0;34m(self)\u001b[0m\n\u001b[1;32m   1158\u001b[0m         \u001b[0;31m# We discard the trajectory index here for transformation\u001b[0m\u001b[0;34m\u001b[0m\u001b[0;34m\u001b[0m\u001b[0m\n\u001b[1;32m   1159\u001b[0m         \u001b[0;32mif\u001b[0m \u001b[0mself\u001b[0m\u001b[0;34m.\u001b[0m\u001b[0mtransform_function\u001b[0m \u001b[0;32mis\u001b[0m \u001b[0;32mnot\u001b[0m \u001b[0;32mNone\u001b[0m\u001b[0;34m:\u001b[0m\u001b[0;34m\u001b[0m\u001b[0m\n\u001b[0;32m-> 1160\u001b[0;31m             \u001b[0mx\u001b[0m \u001b[0;34m=\u001b[0m \u001b[0mself\u001b[0m\u001b[0;34m.\u001b[0m\u001b[0mtransform_function\u001b[0m\u001b[0;34m(\u001b[0m\u001b[0mx\u001b[0m\u001b[0;34m)\u001b[0m\u001b[0;34m\u001b[0m\u001b[0m\n\u001b[0m\u001b[1;32m   1161\u001b[0m         \u001b[0;32mreturn\u001b[0m \u001b[0mx\u001b[0m\u001b[0;34m\u001b[0m\u001b[0m\n\u001b[1;32m   1162\u001b[0m \u001b[0;34m\u001b[0m\u001b[0m\n",
      "\u001b[0;32m~/Software/anaconda3/lib/python3.6/site-packages/pyemma/coordinates/clustering/interface.py\u001b[0m in \u001b[0;36m_transform_array\u001b[0;34m(self, X)\u001b[0m\n\u001b[1;32m    166\u001b[0m             \u001b[0mself\u001b[0m\u001b[0;34m.\u001b[0m\u001b[0m_precentered\u001b[0m \u001b[0;34m=\u001b[0m \u001b[0;32mTrue\u001b[0m\u001b[0;34m\u001b[0m\u001b[0m\n\u001b[1;32m    167\u001b[0m \u001b[0;34m\u001b[0m\u001b[0m\n\u001b[0;32m--> 168\u001b[0;31m         \u001b[0mdtraj\u001b[0m \u001b[0;34m=\u001b[0m \u001b[0mself\u001b[0m\u001b[0;34m.\u001b[0m\u001b[0m_inst\u001b[0m\u001b[0;34m.\u001b[0m\u001b[0massign\u001b[0m\u001b[0;34m(\u001b[0m\u001b[0mX\u001b[0m\u001b[0;34m,\u001b[0m \u001b[0mself\u001b[0m\u001b[0;34m.\u001b[0m\u001b[0mclustercenters\u001b[0m\u001b[0;34m,\u001b[0m \u001b[0mself\u001b[0m\u001b[0;34m.\u001b[0m\u001b[0mn_jobs\u001b[0m\u001b[0;34m)\u001b[0m\u001b[0;34m\u001b[0m\u001b[0m\n\u001b[0m\u001b[1;32m    169\u001b[0m         \u001b[0mres\u001b[0m \u001b[0;34m=\u001b[0m \u001b[0mdtraj\u001b[0m\u001b[0;34m[\u001b[0m\u001b[0;34m:\u001b[0m\u001b[0;34m,\u001b[0m \u001b[0;32mNone\u001b[0m\u001b[0;34m]\u001b[0m  \u001b[0;31m# always return a column vector in this function\u001b[0m\u001b[0;34m\u001b[0m\u001b[0m\n\u001b[1;32m    170\u001b[0m         \u001b[0;32mreturn\u001b[0m \u001b[0mres\u001b[0m\u001b[0;34m\u001b[0m\u001b[0m\n",
      "\u001b[0;31mTypeError\u001b[0m: assign(): incompatible function arguments. The following argument types are supported:\n    1. (self: pyemma.coordinates.clustering._ext.ClusteringBase_f, arg0: numpy.ndarray[float32], arg1: numpy.ndarray[float32], arg2: int) -> numpy.ndarray[int32]\n\nInvoked with: <pyemma.coordinates.clustering._ext.kmeans.Kmeans_f object at 0x7f6b4663cb90>, array([[ 2.60861611, -0.03364826],\n       [ 2.49923372, -0.0317664 ],\n       [ 2.5420084 , -0.2080791 ],\n       ..., \n       [ 0.68795639,  0.30198741],\n       [ 0.85549235,  0.11150016],\n       [ 0.95923531, -0.46881443]], dtype=float32), array([[ 1.0217824 , -0.03522905],\n       [ 0.09768325, -0.42104897],\n       [-1.10583961,  2.84976029],\n       [-1.22955859, -0.04317985],\n       [ 2.0159595 ,  0.18417965],\n       [-1.18714595,  0.92452466],\n       [-0.19298726, -1.43052888],\n       [ 0.09822708,  0.29601359],\n       [ 1.40338683,  0.92942214]], dtype=float32), -1"
     ]
    }
   ],
   "source": [
    "np.concatenate(clustering2.dtrajs)"
   ]
  },
  {
   "cell_type": "code",
   "execution_count": 35,
   "metadata": {},
   "outputs": [
    {
     "data": {
      "application/vnd.jupyter.widget-view+json": {
       "model_id": "",
       "version_major": 2,
       "version_minor": 0
      },
      "text/plain": [
       "HBox(children=(HBox(children=(Label(value='Obtaining file info'),), layout=Layout(max_width='35%', min_width='…"
      ]
     },
     "metadata": {},
     "output_type": "display_data"
    },
    {
     "name": "stdout",
     "output_type": "stream",
     "text": [
      "\r"
     ]
    },
    {
     "data": {
      "application/vnd.jupyter.widget-view+json": {
       "model_id": "",
       "version_major": 2,
       "version_minor": 0
      },
      "text/plain": [
       "HBox(children=(HBox(children=(Label(value='getting output of KmeansClustering'),), layout=Layout(max_width='35…"
      ]
     },
     "metadata": {},
     "output_type": "display_data"
    },
    {
     "name": "stdout",
     "output_type": "stream",
     "text": [
      "\r"
     ]
    },
    {
     "ename": "ValueError",
     "evalue": "Data type not understood <class 'pyemma.coordinates.clustering.kmeans.KmeansClustering'>",
     "output_type": "error",
     "traceback": [
      "\u001b[0;31m---------------------------------------------------------------------------\u001b[0m",
      "\u001b[0;31mTypeError\u001b[0m                                 Traceback (most recent call last)",
      "\u001b[0;32m~/Software/anaconda3/lib/python3.6/site-packages/molpx/generate.py\u001b[0m in \u001b[0;36msample\u001b[0;34m(MD_trajectories, MD_top, projected_trajectories, atom_selection, proj_idxs, n_points, n_geom_samples, keep_all_samples, proj_stride, verbose, return_data)\u001b[0m\n\u001b[1;32m    296\u001b[0m     \u001b[0;32mtry\u001b[0m\u001b[0;34m:\u001b[0m\u001b[0;34m\u001b[0m\u001b[0m\n\u001b[0;32m--> 297\u001b[0;31m         \u001b[0mprojected_trajectories\u001b[0m\u001b[0;34m.\u001b[0m\u001b[0mdtrajs\u001b[0m\u001b[0;34m\u001b[0m\u001b[0m\n\u001b[0m\u001b[1;32m    298\u001b[0m         \u001b[0mcl\u001b[0m \u001b[0;34m=\u001b[0m \u001b[0mprojected_trajectories\u001b[0m\u001b[0;34m\u001b[0m\u001b[0m\n",
      "\u001b[0;32m~/Software/anaconda3/lib/python3.6/site-packages/pyemma/coordinates/clustering/interface.py\u001b[0m in \u001b[0;36mdtrajs\u001b[0;34m(self)\u001b[0m\n\u001b[1;32m    100\u001b[0m         \u001b[0;32mif\u001b[0m \u001b[0mlen\u001b[0m\u001b[0;34m(\u001b[0m\u001b[0mself\u001b[0m\u001b[0;34m.\u001b[0m\u001b[0m_dtrajs\u001b[0m\u001b[0;34m)\u001b[0m \u001b[0;34m==\u001b[0m \u001b[0;36m0\u001b[0m\u001b[0;34m:\u001b[0m  \u001b[0;31m# nothing assigned yet, doing that now\u001b[0m\u001b[0;34m\u001b[0m\u001b[0m\n\u001b[0;32m--> 101\u001b[0;31m             \u001b[0mself\u001b[0m\u001b[0;34m.\u001b[0m\u001b[0m_dtrajs\u001b[0m \u001b[0;34m=\u001b[0m \u001b[0mself\u001b[0m\u001b[0;34m.\u001b[0m\u001b[0massign\u001b[0m\u001b[0;34m(\u001b[0m\u001b[0mstride\u001b[0m\u001b[0;34m=\u001b[0m\u001b[0;36m1\u001b[0m\u001b[0;34m)\u001b[0m\u001b[0;34m\u001b[0m\u001b[0m\n\u001b[0m\u001b[1;32m    102\u001b[0m \u001b[0;34m\u001b[0m\u001b[0m\n",
      "\u001b[0;32m~/Software/anaconda3/lib/python3.6/site-packages/pyemma/coordinates/clustering/interface.py\u001b[0m in \u001b[0;36massign\u001b[0;34m(self, X, stride)\u001b[0m\n\u001b[1;32m    216\u001b[0m             \u001b[0;31m# map to column vectors\u001b[0m\u001b[0;34m\u001b[0m\u001b[0;34m\u001b[0m\u001b[0m\n\u001b[0;32m--> 217\u001b[0;31m             \u001b[0mmapped\u001b[0m \u001b[0;34m=\u001b[0m \u001b[0mself\u001b[0m\u001b[0;34m.\u001b[0m\u001b[0mget_output\u001b[0m\u001b[0;34m(\u001b[0m\u001b[0mstride\u001b[0m\u001b[0;34m=\u001b[0m\u001b[0mstride\u001b[0m\u001b[0;34m,\u001b[0m \u001b[0mchunk\u001b[0m\u001b[0;34m=\u001b[0m\u001b[0mself\u001b[0m\u001b[0;34m.\u001b[0m\u001b[0mchunksize\u001b[0m\u001b[0;34m,\u001b[0m \u001b[0mskip\u001b[0m\u001b[0;34m=\u001b[0m\u001b[0mskip\u001b[0m\u001b[0;34m)\u001b[0m\u001b[0;34m\u001b[0m\u001b[0m\n\u001b[0m\u001b[1;32m    218\u001b[0m             \u001b[0;31m# flatten and save\u001b[0m\u001b[0;34m\u001b[0m\u001b[0;34m\u001b[0m\u001b[0m\n",
      "\u001b[0;32m~/Software/anaconda3/lib/python3.6/site-packages/pyemma/coordinates/data/_base/transformer.py\u001b[0m in \u001b[0;36mget_output\u001b[0;34m(self, dimensions, stride, skip, chunk)\u001b[0m\n\u001b[1;32m    226\u001b[0m \u001b[0;34m\u001b[0m\u001b[0m\n\u001b[0;32m--> 227\u001b[0;31m         \u001b[0;32mreturn\u001b[0m \u001b[0msuper\u001b[0m\u001b[0;34m(\u001b[0m\u001b[0mStreamingTransformer\u001b[0m\u001b[0;34m,\u001b[0m \u001b[0mself\u001b[0m\u001b[0;34m)\u001b[0m\u001b[0;34m.\u001b[0m\u001b[0mget_output\u001b[0m\u001b[0;34m(\u001b[0m\u001b[0mdimensions\u001b[0m\u001b[0;34m,\u001b[0m \u001b[0mstride\u001b[0m\u001b[0;34m,\u001b[0m \u001b[0mskip\u001b[0m\u001b[0;34m,\u001b[0m \u001b[0mchunk\u001b[0m\u001b[0;34m)\u001b[0m\u001b[0;34m\u001b[0m\u001b[0m\n\u001b[0m\u001b[1;32m    228\u001b[0m \u001b[0;34m\u001b[0m\u001b[0m\n",
      "\u001b[0;32m~/Software/anaconda3/lib/python3.6/site-packages/pyemma/coordinates/data/_base/datasource.py\u001b[0m in \u001b[0;36mget_output\u001b[0;34m(self, dimensions, stride, skip, chunk)\u001b[0m\n\u001b[1;32m    394\u001b[0m             \u001b[0;32mwith\u001b[0m \u001b[0mpg\u001b[0m\u001b[0;34m.\u001b[0m\u001b[0mcontext\u001b[0m\u001b[0;34m(\u001b[0m\u001b[0;34m)\u001b[0m\u001b[0;34m,\u001b[0m \u001b[0mit\u001b[0m\u001b[0;34m:\u001b[0m\u001b[0;34m\u001b[0m\u001b[0m\n\u001b[0;32m--> 395\u001b[0;31m                 \u001b[0;32mfor\u001b[0m \u001b[0mitraj\u001b[0m\u001b[0;34m,\u001b[0m \u001b[0mchunk\u001b[0m \u001b[0;32min\u001b[0m \u001b[0mit\u001b[0m\u001b[0;34m:\u001b[0m\u001b[0;34m\u001b[0m\u001b[0m\n\u001b[0m\u001b[1;32m    396\u001b[0m                     \u001b[0mi\u001b[0m \u001b[0;34m=\u001b[0m \u001b[0mslice\u001b[0m\u001b[0;34m(\u001b[0m\u001b[0mit\u001b[0m\u001b[0;34m.\u001b[0m\u001b[0mpos\u001b[0m\u001b[0;34m,\u001b[0m \u001b[0mit\u001b[0m\u001b[0;34m.\u001b[0m\u001b[0mpos\u001b[0m \u001b[0;34m+\u001b[0m \u001b[0mlen\u001b[0m\u001b[0;34m(\u001b[0m\u001b[0mchunk\u001b[0m\u001b[0;34m)\u001b[0m\u001b[0;34m)\u001b[0m\u001b[0;34m\u001b[0m\u001b[0m\n",
      "\u001b[0;32m~/Software/anaconda3/lib/python3.6/site-packages/pyemma/coordinates/data/_base/datasource.py\u001b[0m in \u001b[0;36m__next__\u001b[0;34m(self)\u001b[0m\n\u001b[1;32m   1037\u001b[0m         \u001b[0;32mtry\u001b[0m\u001b[0;34m:\u001b[0m\u001b[0;34m\u001b[0m\u001b[0m\n\u001b[0;32m-> 1038\u001b[0;31m             \u001b[0mX\u001b[0m \u001b[0;34m=\u001b[0m \u001b[0mself\u001b[0m\u001b[0;34m.\u001b[0m\u001b[0m_use_cols\u001b[0m\u001b[0;34m(\u001b[0m\u001b[0mself\u001b[0m\u001b[0;34m.\u001b[0m\u001b[0m_next_chunk\u001b[0m\u001b[0;34m(\u001b[0m\u001b[0;34m)\u001b[0m\u001b[0;34m)\u001b[0m\u001b[0;34m\u001b[0m\u001b[0m\n\u001b[0m\u001b[1;32m   1039\u001b[0m             \u001b[0mself\u001b[0m\u001b[0;34m.\u001b[0m\u001b[0m_t\u001b[0m \u001b[0;34m+=\u001b[0m \u001b[0mlen\u001b[0m\u001b[0;34m(\u001b[0m\u001b[0mX\u001b[0m\u001b[0;34m)\u001b[0m\u001b[0;34m\u001b[0m\u001b[0m\n",
      "\u001b[0;32m~/Software/anaconda3/lib/python3.6/site-packages/pyemma/coordinates/data/_base/datasource.py\u001b[0m in \u001b[0;36m_next_chunk\u001b[0;34m(self)\u001b[0m\n\u001b[1;32m   1159\u001b[0m         \u001b[0;32mif\u001b[0m \u001b[0mself\u001b[0m\u001b[0;34m.\u001b[0m\u001b[0mtransform_function\u001b[0m \u001b[0;32mis\u001b[0m \u001b[0;32mnot\u001b[0m \u001b[0;32mNone\u001b[0m\u001b[0;34m:\u001b[0m\u001b[0;34m\u001b[0m\u001b[0m\n\u001b[0;32m-> 1160\u001b[0;31m             \u001b[0mx\u001b[0m \u001b[0;34m=\u001b[0m \u001b[0mself\u001b[0m\u001b[0;34m.\u001b[0m\u001b[0mtransform_function\u001b[0m\u001b[0;34m(\u001b[0m\u001b[0mx\u001b[0m\u001b[0;34m)\u001b[0m\u001b[0;34m\u001b[0m\u001b[0m\n\u001b[0m\u001b[1;32m   1161\u001b[0m         \u001b[0;32mreturn\u001b[0m \u001b[0mx\u001b[0m\u001b[0;34m\u001b[0m\u001b[0m\n",
      "\u001b[0;32m~/Software/anaconda3/lib/python3.6/site-packages/pyemma/coordinates/clustering/interface.py\u001b[0m in \u001b[0;36m_transform_array\u001b[0;34m(self, X)\u001b[0m\n\u001b[1;32m    167\u001b[0m \u001b[0;34m\u001b[0m\u001b[0m\n\u001b[0;32m--> 168\u001b[0;31m         \u001b[0mdtraj\u001b[0m \u001b[0;34m=\u001b[0m \u001b[0mself\u001b[0m\u001b[0;34m.\u001b[0m\u001b[0m_inst\u001b[0m\u001b[0;34m.\u001b[0m\u001b[0massign\u001b[0m\u001b[0;34m(\u001b[0m\u001b[0mX\u001b[0m\u001b[0;34m,\u001b[0m \u001b[0mself\u001b[0m\u001b[0;34m.\u001b[0m\u001b[0mclustercenters\u001b[0m\u001b[0;34m,\u001b[0m \u001b[0mself\u001b[0m\u001b[0;34m.\u001b[0m\u001b[0mn_jobs\u001b[0m\u001b[0;34m)\u001b[0m\u001b[0;34m\u001b[0m\u001b[0m\n\u001b[0m\u001b[1;32m    169\u001b[0m         \u001b[0mres\u001b[0m \u001b[0;34m=\u001b[0m \u001b[0mdtraj\u001b[0m\u001b[0;34m[\u001b[0m\u001b[0;34m:\u001b[0m\u001b[0;34m,\u001b[0m \u001b[0;32mNone\u001b[0m\u001b[0;34m]\u001b[0m  \u001b[0;31m# always return a column vector in this function\u001b[0m\u001b[0;34m\u001b[0m\u001b[0m\n",
      "\u001b[0;31mTypeError\u001b[0m: assign(): incompatible function arguments. The following argument types are supported:\n    1. (self: pyemma.coordinates.clustering._ext.ClusteringBase_f, arg0: numpy.ndarray[float32], arg1: numpy.ndarray[float32], arg2: int) -> numpy.ndarray[int32]\n\nInvoked with: <pyemma.coordinates.clustering._ext.kmeans.Kmeans_f object at 0x7f6b3bccd6f8>, array([[ 2.60861611, -0.03364826],\n       [ 2.49923372, -0.0317664 ],\n       [ 2.5420084 , -0.2080791 ],\n       ..., \n       [ 0.68795639,  0.30198741],\n       [ 0.85549235,  0.11150016],\n       [ 0.95923531, -0.46881443]], dtype=float32), array([[-1.18997085,  0.92167288],\n       [ 0.10106244, -0.60964543],\n       [ 1.38004208,  0.85697448],\n       [ 0.12135021,  0.56432962],\n       [ 1.8647052 ,  0.13019754],\n       [-1.10730195,  2.85025454],\n       [-1.22935915, -0.04365786],\n       [ 0.18746494, -0.09993138],\n       [-0.2088431 , -1.48354375]], dtype=float32), -1",
      "\nDuring handling of the above exception, another exception occurred:\n",
      "\u001b[0;31mValueError\u001b[0m                                Traceback (most recent call last)",
      "\u001b[0;32m<ipython-input-35-aa4b1d3eea85>\u001b[0m in \u001b[0;36m<module>\u001b[0;34m()\u001b[0m\n\u001b[0;32m----> 1\u001b[0;31m \u001b[0mdata_sample\u001b[0m\u001b[0;34m,\u001b[0m \u001b[0mgeoms\u001b[0m \u001b[0;34m=\u001b[0m \u001b[0mmolpx\u001b[0m\u001b[0;34m.\u001b[0m\u001b[0mgenerate\u001b[0m\u001b[0;34m.\u001b[0m\u001b[0msample\u001b[0m\u001b[0;34m(\u001b[0m\u001b[0mtraj_list\u001b[0m\u001b[0;34m,\u001b[0m \u001b[0mtopfile\u001b[0m\u001b[0;34m,\u001b[0m \u001b[0mclustering\u001b[0m\u001b[0;34m,\u001b[0m \u001b[0mn_geom_samples\u001b[0m\u001b[0;34m=\u001b[0m\u001b[0;36m100\u001b[0m\u001b[0;34m,\u001b[0m \u001b[0mn_points\u001b[0m\u001b[0;34m=\u001b[0m\u001b[0;36m200\u001b[0m\u001b[0;34m)\u001b[0m\u001b[0;34m\u001b[0m\u001b[0m\n\u001b[0m",
      "\u001b[0;32m~/Software/anaconda3/lib/python3.6/site-packages/molpx/generate.py\u001b[0m in \u001b[0;36msample\u001b[0;34m(MD_trajectories, MD_top, projected_trajectories, atom_selection, proj_idxs, n_points, n_geom_samples, keep_all_samples, proj_stride, verbose, return_data)\u001b[0m\n\u001b[1;32m    298\u001b[0m         \u001b[0mcl\u001b[0m \u001b[0;34m=\u001b[0m \u001b[0mprojected_trajectories\u001b[0m\u001b[0;34m\u001b[0m\u001b[0m\n\u001b[1;32m    299\u001b[0m     \u001b[0;32mexcept\u001b[0m\u001b[0;34m:\u001b[0m\u001b[0;34m\u001b[0m\u001b[0m\n\u001b[0;32m--> 300\u001b[0;31m         \u001b[0midata\u001b[0m \u001b[0;34m=\u001b[0m \u001b[0m_bmutils\u001b[0m\u001b[0;34m.\u001b[0m\u001b[0mdata_from_input\u001b[0m\u001b[0;34m(\u001b[0m\u001b[0mprojected_trajectories\u001b[0m\u001b[0;34m)\u001b[0m\u001b[0;34m\u001b[0m\u001b[0m\n\u001b[0m\u001b[1;32m    301\u001b[0m         \u001b[0mcl\u001b[0m \u001b[0;34m=\u001b[0m \u001b[0m_bmutils\u001b[0m\u001b[0;34m.\u001b[0m\u001b[0mregspace_cluster_to_target\u001b[0m\u001b[0;34m(\u001b[0m\u001b[0;34m[\u001b[0m\u001b[0mdd\u001b[0m\u001b[0;34m[\u001b[0m\u001b[0;34m:\u001b[0m\u001b[0;34m,\u001b[0m\u001b[0mproj_idxs\u001b[0m\u001b[0;34m]\u001b[0m \u001b[0;32mfor\u001b[0m \u001b[0mdd\u001b[0m \u001b[0;32min\u001b[0m \u001b[0midata\u001b[0m\u001b[0;34m]\u001b[0m\u001b[0;34m,\u001b[0m \u001b[0mn_points\u001b[0m\u001b[0;34m,\u001b[0m \u001b[0mn_try_max\u001b[0m\u001b[0;34m=\u001b[0m\u001b[0;36m10\u001b[0m\u001b[0;34m,\u001b[0m \u001b[0mverbose\u001b[0m\u001b[0;34m=\u001b[0m\u001b[0mverbose\u001b[0m\u001b[0;34m)\u001b[0m\u001b[0;34m\u001b[0m\u001b[0m\n\u001b[1;32m    302\u001b[0m \u001b[0;34m\u001b[0m\u001b[0m\n",
      "\u001b[0;32m~/Software/anaconda3/lib/python3.6/site-packages/molpx/_bmutils.py\u001b[0m in \u001b[0;36mdata_from_input\u001b[0;34m(projected_data)\u001b[0m\n\u001b[1;32m    575\u001b[0m         \u001b[0mprojected_data\u001b[0m \u001b[0;34m=\u001b[0m \u001b[0;34m[\u001b[0m\u001b[0mprojected_data\u001b[0m\u001b[0;34m]\u001b[0m\u001b[0;34m\u001b[0m\u001b[0m\n\u001b[1;32m    576\u001b[0m     \u001b[0;32melif\u001b[0m \u001b[0;32mnot\u001b[0m \u001b[0misinstance\u001b[0m\u001b[0;34m(\u001b[0m\u001b[0mprojected_data\u001b[0m\u001b[0;34m,\u001b[0m \u001b[0mlist\u001b[0m\u001b[0;34m)\u001b[0m\u001b[0;34m:\u001b[0m\u001b[0;34m\u001b[0m\u001b[0m\n\u001b[0;32m--> 577\u001b[0;31m         \u001b[0;32mraise\u001b[0m \u001b[0mValueError\u001b[0m\u001b[0;34m(\u001b[0m\u001b[0;34m\"Data type not understood %s\"\u001b[0m \u001b[0;34m%\u001b[0m \u001b[0mtype\u001b[0m\u001b[0;34m(\u001b[0m\u001b[0mprojected_data\u001b[0m\u001b[0;34m)\u001b[0m\u001b[0;34m)\u001b[0m\u001b[0;34m\u001b[0m\u001b[0m\n\u001b[0m\u001b[1;32m    578\u001b[0m \u001b[0;34m\u001b[0m\u001b[0m\n\u001b[1;32m    579\u001b[0m     \u001b[0;32mif\u001b[0m \u001b[0m_is_string\u001b[0m\u001b[0;34m(\u001b[0m\u001b[0mprojected_data\u001b[0m\u001b[0;34m[\u001b[0m\u001b[0;36m0\u001b[0m\u001b[0;34m]\u001b[0m\u001b[0;34m)\u001b[0m\u001b[0;34m:\u001b[0m\u001b[0;34m\u001b[0m\u001b[0m\n",
      "\u001b[0;31mValueError\u001b[0m: Data type not understood <class 'pyemma.coordinates.clustering.kmeans.KmeansClustering'>"
     ]
    }
   ],
   "source": [
    "data_sample, geoms = molpx.generate.sample(traj_list, topfile, clustering, n_geom_samples=100, n_points=200)"
   ]
  },
  {
   "cell_type": "code",
   "execution_count": 109,
   "metadata": {},
   "outputs": [
    {
     "name": "stdout",
     "output_type": "stream",
     "text": [
      "size of cluster 0: 172020 structures\n",
      "size of cluster 1: 29653 structures\n",
      "size of cluster 2: 29209 structures\n",
      "size of cluster 3: 57984 structures\n",
      "size of cluster 4: 76233 structures\n",
      "size of cluster 5: 20796 structures\n",
      "size of cluster 6: 12416 structures\n"
     ]
    }
   ],
   "source": [
    "labels = np.concatenate(clustering.dtrajs)\n",
    "mapping = defaultdict(lambda : [])\n",
    "for i, label in enumerate(labels):\n",
    "    mapping[label].append(i)\n",
    "for i in range(0,len(clustering.clustercenters)):\n",
    "    print('size of cluster %d: %d structures' % (i, len(mapping[i])))"
   ]
  },
  {
   "cell_type": "code",
   "execution_count": 110,
   "metadata": {},
   "outputs": [
    {
     "data": {
      "text/plain": [
       "7"
      ]
     },
     "execution_count": 110,
     "metadata": {},
     "output_type": "execute_result"
    }
   ],
   "source": [
    "len(clustering.clustercenters)"
   ]
  },
  {
   "cell_type": "code",
   "execution_count": 111,
   "metadata": {},
   "outputs": [
    {
     "name": "stdout",
     "output_type": "stream",
     "text": [
      "size of cluster 0: 172020 structures\n",
      "size of cluster 1: 29653 structures\n",
      "size of cluster 2: 29209 structures\n",
      "size of cluster 3: 57984 structures\n",
      "size of cluster 4: 76233 structures\n",
      "size of cluster 5: 20796 structures\n",
      "size of cluster 6: 12416 structures\n"
     ]
    }
   ],
   "source": [
    "trajs={}\n",
    "\n",
    "for i in range(0,len(clustering.clustercenters)):\n",
    "    print('size of cluster %d: %d structures' % (i, len(mapping[i])))\n",
    "    geoms[i].save('./cluster_centre_6/{}.pdb'.format(i))"
   ]
  },
  {
   "cell_type": "code",
   "execution_count": null,
   "metadata": {},
   "outputs": [],
   "source": []
  },
  {
   "cell_type": "code",
   "execution_count": null,
   "metadata": {},
   "outputs": [],
   "source": []
  }
 ],
 "metadata": {
  "kernelspec": {
   "display_name": "Python 3",
   "language": "python",
   "name": "python3"
  },
  "language_info": {
   "codemirror_mode": {
    "name": "ipython",
    "version": 3
   },
   "file_extension": ".py",
   "mimetype": "text/x-python",
   "name": "python",
   "nbconvert_exporter": "python",
   "pygments_lexer": "ipython3",
   "version": "3.7.6"
  },
  "toc": {
   "base_numbering": 1,
   "nav_menu": {},
   "number_sections": true,
   "sideBar": true,
   "skip_h1_title": false,
   "title_cell": "Table of Contents",
   "title_sidebar": "Contents",
   "toc_cell": false,
   "toc_position": {},
   "toc_section_display": true,
   "toc_window_display": false
  }
 },
 "nbformat": 4,
 "nbformat_minor": 2
}
