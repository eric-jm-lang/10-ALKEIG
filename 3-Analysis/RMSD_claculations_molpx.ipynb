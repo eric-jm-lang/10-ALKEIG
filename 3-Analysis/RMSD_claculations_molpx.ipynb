{
 "cells": [
  {
   "cell_type": "code",
   "execution_count": 1,
   "metadata": {},
   "outputs": [
    {
     "data": {
      "application/vnd.jupyter.widget-view+json": {
       "model_id": "df2297ee50084451b1a7527259bcdd79",
       "version_major": 2,
       "version_minor": 0
      },
      "text/plain": [
       "_ColormakerRegistry()"
      ]
     },
     "metadata": {},
     "output_type": "display_data"
    }
   ],
   "source": [
    "%matplotlib ipympl\n",
    "from matplotlib import pylab as plt\n",
    "import matplotlib\n",
    "import molpx\n",
    "import mdtraj\n",
    "\n",
    "import numpy as np\n",
    "import pandas as pd\n",
    "\n",
    "import pytraj as pt\n",
    "import pyemma\n",
    "\n",
    "#import matplotlib \n",
    "#import matplotlib.pyplot as plt\n",
    "import seaborn as sns\n",
    "\n",
    "import os\n",
    "import sys\n",
    "import glob"
   ]
  },
  {
   "cell_type": "code",
   "execution_count": 2,
   "metadata": {},
   "outputs": [],
   "source": [
    "rf0=pt.load('./renumber_resid/closed6_dry_rot0.rst7', './renumber_resid/closed6_dry_rot0.parm7')\n",
    "rf1=pt.load('./renumber_resid/closed6_dry_rot1.rst7', './renumber_resid/closed6_dry_rot1.parm7')\n",
    "rf2=pt.load('./renumber_resid/closed6_dry_rot2.rst7', './renumber_resid/closed6_dry_rot2.parm7')\n",
    "rf3=pt.load('./renumber_resid/closed6_dry_rot3.rst7', './renumber_resid/closed6_dry_rot3.parm7')\n",
    "rf4=pt.load('./renumber_resid/closed6_dry_rot4.rst7', './renumber_resid/closed6_dry_rot4.parm7')\n",
    "rf5=pt.load('./renumber_resid/closed6_dry_rot5.rst7', './renumber_resid/closed6_dry_rot5.parm7')\n",
    "\n",
    "rfopen=pt.load('./Trajectories_all/open10_dry.rst7', './Trajectories_all/open10_dry.parm7')"
   ]
  },
  {
   "cell_type": "code",
   "execution_count": 3,
   "metadata": {},
   "outputs": [
    {
     "data": {
      "text/plain": [
       "['./Trajectories_all/closed2_all_dry_1.nc',\n",
       " './Trajectories_all/closed2_all_dry_2.nc',\n",
       " './Trajectories_all/closed2_all_dry_3.nc',\n",
       " './Trajectories_all/closed2_all_dry_4.nc',\n",
       " './Trajectories_all/closed2_all_dry_5.nc',\n",
       " './Trajectories_all/closed_all_dry_1.nc',\n",
       " './Trajectories_all/closed_all_dry_2.nc',\n",
       " './Trajectories_all/closed_all_dry_3.nc',\n",
       " './Trajectories_all/closed_all_dry_4.nc',\n",
       " './Trajectories_all/closed_all_dry_5.nc',\n",
       " './Trajectories_all/open2_all_dry_1.nc',\n",
       " './Trajectories_all/open2_all_dry_2.nc',\n",
       " './Trajectories_all/open2_all_dry_3.nc',\n",
       " './Trajectories_all/open2_all_dry_4.nc',\n",
       " './Trajectories_all/open2_all_dry_5.nc',\n",
       " './Trajectories_all/open_all_dry_1.nc',\n",
       " './Trajectories_all/open_all_dry_2.nc',\n",
       " './Trajectories_all/open_all_dry_3.nc',\n",
       " './Trajectories_all/open_all_dry_4.nc',\n",
       " './Trajectories_all/open_all_dry_5.nc']"
      ]
     },
     "execution_count": 3,
     "metadata": {},
     "output_type": "execute_result"
    }
   ],
   "source": [
    "indir = './Trajectories_all'\n",
    "topfile =  indir+'/closed10_dry.parm7'\n",
    "from glob import glob\n",
    "traj_list = sorted(glob(indir+'/*.nc'))\n",
    "traj_list"
   ]
  },
  {
   "cell_type": "code",
   "execution_count": 4,
   "metadata": {},
   "outputs": [],
   "source": [
    "# results_open=[]\n",
    "# results_closed=[]\n",
    "# for t in traj_list:\n",
    "#     traj=pt.load(t, topfile)\n",
    "#     rmsd0=pt.rmsd(traj,ref=rf0, mask=\"@CA,N,C,O\")\n",
    "#     rmsd1=pt.rmsd(traj,ref=rf1, mask=\"@CA,N,C,O\")\n",
    "#     rmsd2=pt.rmsd(traj,ref=rf2, mask=\"@CA,N,C,O\")\n",
    "#     rmsd3=pt.rmsd(traj,ref=rf3, mask=\"@CA,N,C,O\")\n",
    "#     rmsd4=pt.rmsd(traj,ref=rf4, mask=\"@CA,N,C,O\")\n",
    "#     rmsd5=pt.rmsd(traj,ref=rf5, mask=\"@CA,N,C,O\")\n",
    "    \n",
    "#     rmsd_closed=np.nanmin(np.array([rmsd0,rmsd1,rmsd2,rmsd3,rmsd4,rmsd5]), axis=0)\n",
    "#     results_closed.append(rmsd_closed)\n",
    "    \n",
    "#     rmsd_open=pt.rmsd(traj,ref=rfopen, mask=\"@CA,N,C,O\")\n",
    "#     results_open.append(rmsd_open)"
   ]
  },
  {
   "cell_type": "code",
   "execution_count": 5,
   "metadata": {},
   "outputs": [],
   "source": [
    "results_open=[]\n",
    "results_closed=[]\n",
    "results_time_steps=[]\n",
    "dfs=[]\n",
    "\n",
    "for t_name in traj_list:\n",
    "    traj=pt.load(t_name, topfile)\n",
    "    \n",
    "    rmsd0=pt.rmsd(traj,ref=rf0, mask=\"@CA,N,C,O\")\n",
    "    rmsd1=pt.rmsd(traj,ref=rf1, mask=\"@CA,N,C,O\")\n",
    "    rmsd2=pt.rmsd(traj,ref=rf2, mask=\"@CA,N,C,O\")\n",
    "    rmsd3=pt.rmsd(traj,ref=rf3, mask=\"@CA,N,C,O\")\n",
    "    rmsd4=pt.rmsd(traj,ref=rf4, mask=\"@CA,N,C,O\")\n",
    "    rmsd5=pt.rmsd(traj,ref=rf5, mask=\"@CA,N,C,O\")\n",
    "    \n",
    "    rmsd_closed=np.nanmin(np.array([rmsd0,rmsd1,rmsd2,rmsd3,rmsd4,rmsd5]), axis=0)\n",
    "    results_closed.append(rmsd_closed)\n",
    "    \n",
    "    rmsd_open=pt.rmsd(traj,ref=rfopen, mask=\"@CA,N,C,O\")\n",
    "    results_open.append(rmsd_open)\n",
    "    \n",
    "    time_steps= np.arange(0, traj.n_frames, 1)\n",
    "    results_time_steps.append(time_steps)\n",
    "    \n",
    "    df = pd.DataFrame(rmsd0)\n",
    "    df.columns = [\"rmsd0\"]\n",
    "\n",
    "    df['rmsd1']=rmsd1\n",
    "    df['rmsd2']=rmsd2\n",
    "    df['rmsd3']=rmsd3\n",
    "    df['rmsd4']=rmsd4\n",
    "    df['rmsd5']=rmsd5\n",
    "    df['rmsd_closed']=rmsd_closed\n",
    "    df['rmsd_open']=rmsd_open\n",
    "    df['time_steps']=time_steps\n",
    "    \n",
    "    df['traj_name']=t_name[19:-3]\n",
    "    df['starting_state']=''.join([i for i in t_name[19:-3].split(\"_\")[0] if not i.isdigit()]) \n",
    "    df['run_nb']=t_name[19:-3].split(\"_\")[3]\n",
    "    df['name']=str(t_name[19:-3].split(\"_\")[0]+\"_\"+t_name[19:-3].split(\"_\")[3])\n",
    "        \n",
    "    dfs.append(df)\n",
    "\n",
    "df_all=pd.concat(dfs)"
   ]
  },
  {
   "cell_type": "code",
   "execution_count": 6,
   "metadata": {},
   "outputs": [
    {
     "data": {
      "text/plain": [
       "[array([3.29283901, 3.14108136, 3.19064841, ..., 2.76330264, 2.84370592,\n",
       "        2.72506044]),\n",
       " array([3.13509185, 3.10650117, 3.07819168, ..., 2.7729702 , 2.76714067,\n",
       "        2.62197734]),\n",
       " array([3.25235517, 3.23134928, 3.27760033, ..., 2.97678177, 3.1280924 ,\n",
       "        3.04644166]),\n",
       " array([3.10419759, 3.12663696, 3.1910943 , ..., 2.71771592, 2.57244691,\n",
       "        2.81352801]),\n",
       " array([3.08746212, 3.02312029, 3.01729939, ..., 3.18704188, 3.29371238,\n",
       "        3.39388219]),\n",
       " array([3.13268653, 3.32146137, 2.92280455, ..., 2.48997328, 2.54692554,\n",
       "        2.61030781]),\n",
       " array([3.16269599, 3.06483407, 3.08429716, ..., 2.40458756, 2.49881363,\n",
       "        2.50481145]),\n",
       " array([3.10185449, 3.12973388, 3.17938889, ..., 2.55481854, 2.59165449,\n",
       "        2.55465601]),\n",
       " array([3.08432236, 3.0939119 , 3.12914817, ..., 3.2515993 , 3.22318154,\n",
       "        3.16129724]),\n",
       " array([3.31461102, 3.073023  , 3.06413015, ..., 2.45817988, 2.46914564,\n",
       "        2.53146781]),\n",
       " array([1.0570532 , 1.14203178, 1.05489614, ..., 2.58125025, 2.45092097,\n",
       "        2.62180499]),\n",
       " array([0.97402508, 0.99538413, 1.28662558, ..., 2.37220828, 2.35128999,\n",
       "        2.57195245]),\n",
       " array([0.99086686, 1.01438929, 1.05277846, ..., 2.17086813, 2.14275429,\n",
       "        2.14487713]),\n",
       " array([1.08694987, 1.17219375, 1.13365268, ..., 2.68337781, 2.76107776,\n",
       "        2.54186753]),\n",
       " array([1.0543581 , 1.12235699, 1.14026945, ..., 2.14043035, 2.09617145,\n",
       "        2.10955617]),\n",
       " array([1.00893319, 0.97066023, 0.99163812, ..., 3.21090483, 3.13931232,\n",
       "        2.98889258]),\n",
       " array([1.04607928, 1.07553873, 1.16056563, ..., 2.1657939 , 2.29183497,\n",
       "        2.18829193]),\n",
       " array([0.96313499, 0.96516015, 1.18212866, ..., 2.70453054, 2.75130872,\n",
       "        2.73324562]),\n",
       " array([0.92068621, 1.08003148, 1.14908854, ..., 2.20541527, 2.05117105,\n",
       "        2.11371106]),\n",
       " array([0.94990199, 0.87190329, 1.06690791, ..., 2.10444208, 2.0157411 ,\n",
       "        2.05929618])]"
      ]
     },
     "execution_count": 6,
     "metadata": {},
     "output_type": "execute_result"
    }
   ],
   "source": [
    "results_open"
   ]
  },
  {
   "cell_type": "code",
   "execution_count": 7,
   "metadata": {},
   "outputs": [
    {
     "name": "stdout",
     "output_type": "stream",
     "text": [
      "20\n",
      "10200\n",
      "2\n"
     ]
    }
   ],
   "source": [
    "Y=[]\n",
    "for i in range(0,len(results_open)):  \n",
    "    Z=[]\n",
    "    for j in range(0,len(results_open[i])):\n",
    "        a=np.array([results_closed[i][j],results_open[i][j]])\n",
    "        Z.append(a)\n",
    "    Z=np.array(Z)\n",
    "    Y.append(Z)\n",
    "print(len(Y))\n",
    "print(len(Y[0]))\n",
    "print(len(Y[0][0]))"
   ]
  },
  {
   "cell_type": "code",
   "execution_count": null,
   "metadata": {},
   "outputs": [],
   "source": []
  },
  {
   "cell_type": "code",
   "execution_count": 8,
   "metadata": {},
   "outputs": [],
   "source": [
    "rmsd_open=np.concatenate(results_open, axis=0)\n",
    "rmsd_closed=np.concatenate(results_closed, axis=0)"
   ]
  },
  {
   "cell_type": "code",
   "execution_count": 9,
   "metadata": {},
   "outputs": [
    {
     "data": {
      "application/vnd.jupyter.widget-view+json": {
       "model_id": "fe6696a3ad7649d78d94d822114f69f8",
       "version_major": 2,
       "version_minor": 0
      },
      "text/plain": [
       "FigureCanvasNbAgg()"
      ]
     },
     "metadata": {},
     "output_type": "display_data"
    },
    {
     "data": {
      "text/plain": [
       "[<matplotlib.lines.Line2D at 0x7f6c367aaf10>]"
      ]
     },
     "execution_count": 9,
     "metadata": {},
     "output_type": "execute_result"
    }
   ],
   "source": [
    "plt.plot(rmsd_closed, rmsd_open, marker=\".\", ms=0.5, ls='None') "
   ]
  },
  {
   "cell_type": "code",
   "execution_count": 10,
   "metadata": {},
   "outputs": [
    {
     "data": {
      "application/vnd.jupyter.widget-view+json": {
       "model_id": "2952e3105eb946daa68300254c41ce79",
       "version_major": 2,
       "version_minor": 0
      },
      "text/plain": [
       "FigureCanvasNbAgg()"
      ]
     },
     "metadata": {},
     "output_type": "display_data"
    },
    {
     "data": {
      "text/plain": [
       "(<Figure size 640x480 with 2 Axes>,\n",
       " <matplotlib.axes._subplots.AxesSubplot at 0x7f6c367bcc50>)"
      ]
     },
     "execution_count": 10,
     "metadata": {},
     "output_type": "execute_result"
    }
   ],
   "source": [
    "pyemma.plots.plot_free_energy(rmsd_closed, rmsd_open, nbins=200)"
   ]
  },
  {
   "cell_type": "code",
   "execution_count": 11,
   "metadata": {},
   "outputs": [
    {
     "data": {
      "application/vnd.jupyter.widget-view+json": {
       "model_id": "",
       "version_major": 2,
       "version_minor": 0
      },
      "text/plain": [
       "HBox(children=(FloatProgress(value=0.0, description='initialize kmeans++ centers', layout=Layout(flex='2'), ma…"
      ]
     },
     "metadata": {},
     "output_type": "display_data"
    },
    {
     "data": {
      "application/vnd.jupyter.widget-view+json": {
       "model_id": "",
       "version_major": 2,
       "version_minor": 0
      },
      "text/plain": [
       "HBox(children=(FloatProgress(value=0.0, description='kmeans iterations', layout=Layout(flex='2'), max=1000.0, …"
      ]
     },
     "metadata": {},
     "output_type": "display_data"
    },
    {
     "name": "stdout",
     "output_type": "stream",
     "text": [
      "\r"
     ]
    }
   ],
   "source": [
    "n_clusters = 8\n",
    "clustering = pyemma.coordinates.cluster_kmeans(Y,k=n_clusters, max_iter=1000, n_jobs=1)"
   ]
  },
  {
   "cell_type": "code",
   "execution_count": 12,
   "metadata": {},
   "outputs": [
    {
     "data": {
      "text/plain": [
       "array([[3.1118064, 2.3524902],\n",
       "       [1.5013928, 3.099201 ],\n",
       "       [2.4605315, 3.126813 ],\n",
       "       ...,\n",
       "       [2.032788 , 3.037189 ],\n",
       "       [2.8909838, 2.121652 ],\n",
       "       [2.4119344, 2.7099802]], dtype=float32)"
      ]
     },
     "execution_count": 12,
     "metadata": {},
     "output_type": "execute_result"
    }
   ],
   "source": [
    "clustering.clustercenters"
   ]
  },
  {
   "cell_type": "code",
   "execution_count": 13,
   "metadata": {},
   "outputs": [],
   "source": [
    "def plot_labels(ax=None):\n",
    "    for i in range(0,len(clustering.clustercenters)):\n",
    "        plt.text(clustering.clustercenters[i][0]+0.06, clustering.clustercenters[i][1]+0.07, \n",
    "                 i, fontsize=10, color='black')"
   ]
  },
  {
   "cell_type": "code",
   "execution_count": 14,
   "metadata": {},
   "outputs": [
    {
     "data": {
      "application/vnd.jupyter.widget-view+json": {
       "model_id": "75a4da3967da443ab5638016b519f346",
       "version_major": 2,
       "version_minor": 0
      },
      "text/plain": [
       "FigureCanvasNbAgg()"
      ]
     },
     "metadata": {},
     "output_type": "display_data"
    }
   ],
   "source": [
    "pyemma.plots.plot_free_energy(np.vstack(Y)[:, 0], np.vstack(Y)[:, 1], nbins=200)\n",
    "cc_x = clustering.clustercenters[:, 0]\n",
    "cc_y = clustering.clustercenters[:, 1]\n",
    "plt.plot(cc_x, cc_y, linewidth=0, marker='o', markersize=5, color='white')\n",
    "plot_labels()"
   ]
  },
  {
   "cell_type": "code",
   "execution_count": 15,
   "metadata": {},
   "outputs": [],
   "source": [
    "import molpx\n",
    "import mdtraj as md"
   ]
  },
  {
   "cell_type": "code",
   "execution_count": 16,
   "metadata": {},
   "outputs": [
    {
     "data": {
      "text/plain": [
       "['./Trajectories_all/closed2_all_dry_1.nc',\n",
       " './Trajectories_all/closed2_all_dry_2.nc',\n",
       " './Trajectories_all/closed2_all_dry_3.nc',\n",
       " './Trajectories_all/closed2_all_dry_4.nc',\n",
       " './Trajectories_all/closed2_all_dry_5.nc',\n",
       " './Trajectories_all/closed_all_dry_1.nc',\n",
       " './Trajectories_all/closed_all_dry_2.nc',\n",
       " './Trajectories_all/closed_all_dry_3.nc',\n",
       " './Trajectories_all/closed_all_dry_4.nc',\n",
       " './Trajectories_all/closed_all_dry_5.nc',\n",
       " './Trajectories_all/open2_all_dry_1.nc',\n",
       " './Trajectories_all/open2_all_dry_2.nc',\n",
       " './Trajectories_all/open2_all_dry_3.nc',\n",
       " './Trajectories_all/open2_all_dry_4.nc',\n",
       " './Trajectories_all/open2_all_dry_5.nc',\n",
       " './Trajectories_all/open_all_dry_1.nc',\n",
       " './Trajectories_all/open_all_dry_2.nc',\n",
       " './Trajectories_all/open_all_dry_3.nc',\n",
       " './Trajectories_all/open_all_dry_4.nc',\n",
       " './Trajectories_all/open_all_dry_5.nc']"
      ]
     },
     "execution_count": 16,
     "metadata": {},
     "output_type": "execute_result"
    }
   ],
   "source": [
    "indir = './Trajectories_all'\n",
    "topfile =  indir+'/open10_dry.parm7'\n",
    "from glob import glob\n",
    "traj_list = sorted(glob(indir+'/*.nc'))\n",
    "traj_list"
   ]
  },
  {
   "cell_type": "code",
   "execution_count": 17,
   "metadata": {},
   "outputs": [
    {
     "data": {
      "application/vnd.jupyter.widget-view+json": {
       "model_id": "",
       "version_major": 2,
       "version_minor": 0
      },
      "text/plain": [
       "HBox(children=(FloatProgress(value=0.0, description='Obtaining file info', layout=Layout(flex='2'), max=20.0, …"
      ]
     },
     "metadata": {},
     "output_type": "display_data"
    },
    {
     "name": "stdout",
     "output_type": "stream",
     "text": [
      "\r"
     ]
    },
    {
     "data": {
      "application/vnd.jupyter.widget-view+json": {
       "model_id": "",
       "version_major": 2,
       "version_minor": 0
      },
      "text/plain": [
       "HBox(children=(FloatProgress(value=0.0, description='getting output of RegularSpaceClustering', layout=Layout(…"
      ]
     },
     "metadata": {},
     "output_type": "display_data"
    },
    {
     "name": "stdout",
     "output_type": "stream",
     "text": [
      "\r"
     ]
    },
    {
     "data": {
      "application/vnd.jupyter.widget-view+json": {
       "model_id": "82fe8140db0541d4be52ce4fd78b7b0c",
       "version_major": 2,
       "version_minor": 0
      },
      "text/plain": [
       "MolPXHBox(children=(NGLWidget(max_frame=116), FigureCanvasNbAgg()))"
      ]
     },
     "metadata": {},
     "output_type": "display_data"
    }
   ],
   "source": [
    "mpx_wdg_box = molpx.visualize.FES(traj_list,\n",
    "                                 #MD_trajfiles,\n",
    "                                 topfile,\n",
    "                                 Y,\n",
    "                                 #Y,\n",
    "                                 nbins=50,\n",
    "                                 #proj_idxs=[1,2],\n",
    "                                 #proj_labels='RMSD',\n",
    "                                 #n_overlays=5,\n",
    "                                )\n",
    "mpx_wdg_box"
   ]
  },
  {
   "cell_type": "code",
   "execution_count": null,
   "metadata": {},
   "outputs": [],
   "source": []
  }
 ],
 "metadata": {
  "kernelspec": {
   "display_name": "Python 3",
   "language": "python",
   "name": "python3"
  },
  "language_info": {
   "codemirror_mode": {
    "name": "ipython",
    "version": 3
   },
   "file_extension": ".py",
   "mimetype": "text/x-python",
   "name": "python",
   "nbconvert_exporter": "python",
   "pygments_lexer": "ipython3",
   "version": "3.7.5"
  }
 },
 "nbformat": 4,
 "nbformat_minor": 2
}
