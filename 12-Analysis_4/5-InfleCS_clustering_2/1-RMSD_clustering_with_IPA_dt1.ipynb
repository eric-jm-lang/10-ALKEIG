{
 "cells": [
  {
   "cell_type": "code",
   "execution_count": 1,
   "metadata": {},
   "outputs": [],
   "source": [
    "import numpy as np\n",
    "import pandas as pd\n",
    "\n",
    "import pytraj as pt\n",
    "import mdtraj as md\n",
    "import seaborn as sns\n",
    "\n",
    "%matplotlib inline\n",
    "import matplotlib as mpl\n",
    "mpl.rc(\"font\", family=\"Arial\")\n",
    "import matplotlib.pyplot as plt\n",
    "\n",
    "import pickle\n",
    "import os\n",
    "import sys\n",
    "\n",
    "from glob import glob\n",
    "\n",
    "import free_energy_clustering as FEC"
   ]
  },
  {
   "cell_type": "code",
   "execution_count": 2,
   "metadata": {},
   "outputs": [],
   "source": [
    "rf0=pt.load('../1-Trajectories/0-Parm_rst/closed6_dry_rot0.rst7', \n",
    "            '../1-Trajectories/0-Parm_rst/closed6_dry_rot0.parm7')\n",
    "\n",
    "rf1=pt.load('../1-Trajectories/0-Parm_rst/closed6_dry_rot1.rst7', \n",
    "            '../1-Trajectories/0-Parm_rst/closed6_dry_rot1.parm7')\n",
    "\n",
    "rf2=pt.load('../1-Trajectories/0-Parm_rst//closed6_dry_rot2.rst7',\n",
    "            '../1-Trajectories/0-Parm_rst/closed6_dry_rot2.parm7')\n",
    "\n",
    "rf3=pt.load('../1-Trajectories/0-Parm_rst/closed6_dry_rot3.rst7', \n",
    "            '../1-Trajectories/0-Parm_rst/closed6_dry_rot3.parm7')\n",
    "\n",
    "rf4=pt.load('../1-Trajectories/0-Parm_rst/closed6_dry_rot4.rst7',\n",
    "            '../1-Trajectories/0-Parm_rst/closed6_dry_rot4.parm7')\n",
    "\n",
    "rf5=pt.load('../1-Trajectories/0-Parm_rst/closed6_dry_rot5.rst7', \n",
    "            '../1-Trajectories/0-Parm_rst/closed6_dry_rot5.parm7')\n",
    "\n",
    "rfopen=pt.load('../1-Trajectories/0-Parm_rst/open10_dry.rst7',\n",
    "               '../1-Trajectories/0-Parm_rst/open10_dry.parm7')"
   ]
  },
  {
   "cell_type": "code",
   "execution_count": 3,
   "metadata": {},
   "outputs": [
    {
     "data": {
      "text/plain": [
       "['../1-Trajectories/2-NoEq_with_IPA/closed_ipa_dry_01.nc',\n",
       " '../1-Trajectories/2-NoEq_with_IPA/closed_ipa_dry_02.nc',\n",
       " '../1-Trajectories/2-NoEq_with_IPA/closed_ipa_dry_03.nc',\n",
       " '../1-Trajectories/2-NoEq_with_IPA/closed_ipa_dry_04.nc',\n",
       " '../1-Trajectories/2-NoEq_with_IPA/closed_ipa_dry_05.nc',\n",
       " '../1-Trajectories/2-NoEq_with_IPA/closed_ipa_dry_06.nc',\n",
       " '../1-Trajectories/2-NoEq_with_IPA/closed_ipa_dry_07.nc',\n",
       " '../1-Trajectories/2-NoEq_with_IPA/closed_ipa_dry_08.nc',\n",
       " '../1-Trajectories/2-NoEq_with_IPA/closed_ipa_dry_09.nc',\n",
       " '../1-Trajectories/2-NoEq_with_IPA/closed_ipa_dry_10.nc',\n",
       " '../1-Trajectories/2-NoEq_with_IPA/open_ipa_dry_01.nc',\n",
       " '../1-Trajectories/2-NoEq_with_IPA/open_ipa_dry_02.nc',\n",
       " '../1-Trajectories/2-NoEq_with_IPA/open_ipa_dry_03.nc',\n",
       " '../1-Trajectories/2-NoEq_with_IPA/open_ipa_dry_04.nc',\n",
       " '../1-Trajectories/2-NoEq_with_IPA/open_ipa_dry_05.nc',\n",
       " '../1-Trajectories/2-NoEq_with_IPA/open_ipa_dry_06.nc',\n",
       " '../1-Trajectories/2-NoEq_with_IPA/open_ipa_dry_07.nc',\n",
       " '../1-Trajectories/2-NoEq_with_IPA/open_ipa_dry_08.nc',\n",
       " '../1-Trajectories/2-NoEq_with_IPA/open_ipa_dry_09.nc',\n",
       " '../1-Trajectories/2-NoEq_with_IPA/open_ipa_dry_10.nc',\n",
       " '../1-Trajectories/2-NoEq_with_IPA/open_ipa_dry_11.nc',\n",
       " '../1-Trajectories/2-NoEq_with_IPA/open_ipa_dry_12.nc',\n",
       " '../1-Trajectories/2-NoEq_with_IPA/open_ipa_dry_13.nc',\n",
       " '../1-Trajectories/2-NoEq_with_IPA/open_ipa_dry_14.nc',\n",
       " '../1-Trajectories/2-NoEq_with_IPA/open_ipa_dry_15.nc',\n",
       " '../1-Trajectories/4-Adaptive_sampling_with_IPA/adapt1_ipa_dry_01.nc',\n",
       " '../1-Trajectories/4-Adaptive_sampling_with_IPA/adapt1_ipa_dry_02.nc',\n",
       " '../1-Trajectories/4-Adaptive_sampling_with_IPA/adapt1_ipa_dry_03.nc',\n",
       " '../1-Trajectories/4-Adaptive_sampling_with_IPA/adapt1_ipa_dry_04.nc',\n",
       " '../1-Trajectories/4-Adaptive_sampling_with_IPA/adapt1_ipa_dry_05.nc',\n",
       " '../1-Trajectories/4-Adaptive_sampling_with_IPA/adapt1_ipa_dry_06.nc',\n",
       " '../1-Trajectories/4-Adaptive_sampling_with_IPA/adapt1_ipa_dry_07.nc',\n",
       " '../1-Trajectories/4-Adaptive_sampling_with_IPA/adapt1_ipa_dry_08.nc',\n",
       " '../1-Trajectories/4-Adaptive_sampling_with_IPA/adapt1_ipa_dry_09.nc',\n",
       " '../1-Trajectories/4-Adaptive_sampling_with_IPA/adapt1_ipa_dry_10.nc',\n",
       " '../1-Trajectories/4-Adaptive_sampling_with_IPA/adapt1_ipa_dry_11.nc',\n",
       " '../1-Trajectories/4-Adaptive_sampling_with_IPA/adapt1_ipa_dry_12.nc',\n",
       " '../1-Trajectories/4-Adaptive_sampling_with_IPA/adapt1_ipa_dry_13.nc',\n",
       " '../1-Trajectories/4-Adaptive_sampling_with_IPA/adapt1_ipa_dry_14.nc',\n",
       " '../1-Trajectories/4-Adaptive_sampling_with_IPA/adapt1_ipa_dry_15.nc',\n",
       " '../1-Trajectories/4-Adaptive_sampling_with_IPA/adapt1_ipa_dry_16.nc',\n",
       " '../1-Trajectories/4-Adaptive_sampling_with_IPA/adapt1_ipa_dry_17.nc',\n",
       " '../1-Trajectories/4-Adaptive_sampling_with_IPA/adapt1_ipa_dry_18.nc',\n",
       " '../1-Trajectories/4-Adaptive_sampling_with_IPA/adapt1_ipa_dry_19.nc',\n",
       " '../1-Trajectories/4-Adaptive_sampling_with_IPA/adapt1_ipa_dry_20.nc',\n",
       " '../1-Trajectories/4-Adaptive_sampling_with_IPA/adapt1_ipa_dry_21.nc',\n",
       " '../1-Trajectories/4-Adaptive_sampling_with_IPA/adapt1_ipa_dry_22.nc',\n",
       " '../1-Trajectories/4-Adaptive_sampling_with_IPA/adapt1_ipa_dry_24.nc',\n",
       " '../1-Trajectories/4-Adaptive_sampling_with_IPA/adapt1_ipa_dry_25.nc']"
      ]
     },
     "execution_count": 3,
     "metadata": {},
     "output_type": "execute_result"
    }
   ],
   "source": [
    "indir1 = '../1-Trajectories/2-NoEq_with_IPA'\n",
    "indir2 = '../1-Trajectories/4-Adaptive_sampling_with_IPA'\n",
    "topfile = '../1-Trajectories/0-Parm_rst/open10_dry.parm7'\n",
    "\n",
    "traj_list1 = sorted(glob(indir1+'/*.nc'))\n",
    "traj_list2 = sorted(glob(indir2+'/*.nc'))\n",
    "\n",
    "traj_list=traj_list1+traj_list2\n",
    "traj_list"
   ]
  },
  {
   "cell_type": "code",
   "execution_count": 5,
   "metadata": {},
   "outputs": [],
   "source": [
    "traj = pt.iterload(traj_list, topfile, stride=1)\n",
    "# traj.save('./3-concatenated_trajectories/traj_noeq_IPA_combined_dt1.nc', overwrite=True)\n",
    "# traj= pt.iterload('./3-concatenated_trajectories/traj_noeq_IPA_combined_dt1.nc', topfile, stride=1)"
   ]
  },
  {
   "cell_type": "code",
   "execution_count": 6,
   "metadata": {},
   "outputs": [
    {
     "data": {
      "text/plain": [
       "pytraj.TrajectoryIterator, 834825 frames: \n",
       "Size: 52.396698 (GB)\n",
       "<Topology: 2808 atoms, 192 residues, 6 mols, PBC with box type = truncoct>\n",
       "           "
      ]
     },
     "execution_count": 6,
     "metadata": {},
     "output_type": "execute_result"
    }
   ],
   "source": [
    "traj"
   ]
  },
  {
   "cell_type": "code",
   "execution_count": 7,
   "metadata": {},
   "outputs": [],
   "source": [
    "rmsd0=pt.rmsd(traj,ref=rf0, mask=\"@CA,N,C,O\")\n",
    "rmsd1=pt.rmsd(traj,ref=rf1, mask=\"@CA,N,C,O\")\n",
    "rmsd2=pt.rmsd(traj,ref=rf2, mask=\"@CA,N,C,O\")\n",
    "rmsd3=pt.rmsd(traj,ref=rf3, mask=\"@CA,N,C,O\")\n",
    "rmsd4=pt.rmsd(traj,ref=rf4, mask=\"@CA,N,C,O\")\n",
    "rmsd5=pt.rmsd(traj,ref=rf5, mask=\"@CA,N,C,O\")\n",
    "\n",
    "rmsd_closed=np.nanmin(np.array([rmsd0,rmsd1,rmsd2,rmsd3,rmsd4,rmsd5]), axis=0)\n",
    "\n",
    "rmsd_open=pt.rmsd(traj,ref=rfopen, mask=\"@CA,N,C,O\")\n"
   ]
  },
  {
   "cell_type": "code",
   "execution_count": 8,
   "metadata": {},
   "outputs": [],
   "source": [
    "Z=[]\n",
    "for i in range(0,len(rmsd_open)):\n",
    "    a=np.array([rmsd_closed[i],rmsd_open[i]])\n",
    "    Z.append(a)\n",
    "Z=np.array(Z)"
   ]
  },
  {
   "cell_type": "code",
   "execution_count": 9,
   "metadata": {},
   "outputs": [],
   "source": [
    "with open('./pickled/1-With_IPA/Z_dt1.pickle', 'wb') as outf:\n",
    "    pickle.dump(Z, outf)\n",
    "    \n",
    "# with open('./pickled/2-Without_IPA/Z_dt1.pickle', 'rb') as inf:\n",
    "#     Z = pickle.load(inf)"
   ]
  },
  {
   "cell_type": "code",
   "execution_count": 14,
   "metadata": {},
   "outputs": [
    {
     "name": "stdout",
     "output_type": "stream",
     "text": [
      "*----------------Gaussian mixture model free energy estimator----------------*\n",
      "   n_splits = 1\n",
      "   shuffle_data = False\n",
      "   n_iterations = 5\n",
      "   n_grids = 151\n",
      "   covergence_tol = 0.0001\n",
      "   stack_landscapes = False\n",
      "   x_lims (axes limits) = [[0.0, 4.5], [0.0, 4.5]]\n",
      "   temperature = 293.15\n",
      "   min_n_components = 17\n",
      "   max_n_components = 17\n",
      "   n_components_step = 1\n",
      "   Using weighted data: False\n",
      "*----------------------------------------------------------------------------*\n"
     ]
    }
   ],
   "source": [
    "fec = FEC.FreeEnergyClustering(Z, min_n_components=17, max_n_components=17, temperature=293.15,\n",
    "                               x_lims=[[0.0,4.5],[0.0,4.5]],\n",
    "                               n_iterations=5, n_grids=151, n_splits=1,stack_landscapes=False)"
   ]
  },
  {
   "cell_type": "code",
   "execution_count": 15,
   "metadata": {},
   "outputs": [
    {
     "name": "stdout",
     "output_type": "stream",
     "text": [
      "Estimating density with GMM.\n",
      "# Components = 17\n",
      "Identifying final model with 17 components.\n",
      "Evaluating density in landscape\n",
      "Density grid shape: [151, 151]\n"
     ]
    }
   ],
   "source": [
    "coords, FE_landscape, FE_points = fec.landscape()"
   ]
  },
  {
   "cell_type": "code",
   "execution_count": 16,
   "metadata": {},
   "outputs": [],
   "source": [
    "with open('./pickled/1-With_IPA/coords_dt1.pickle', 'wb') as outf:\n",
    "    pickle.dump(coords, outf)\n",
    "with open('./pickled/1-With_IPA/FE_landscape_dt1.pickle', 'wb') as outf:\n",
    "    pickle.dump(FE_landscape, outf)\n",
    "with open('./pickled/1-With_IPA/FE_points_dt1.pickle', 'wb') as outf:\n",
    "    pickle.dump(FE_points, outf)\n",
    "    \n",
    "# with open('./pickled/1-With_IPA/coords_dt5.pickle', 'rb') as inf:\n",
    "#     coords = pickle.load(inf)\n",
    "# with open('./pickled/1-With_IPA/FE_landscape_dt5.pickle', 'rb') as inf:\n",
    "#     FE_landscape = pickle.load(inf)\n",
    "# with open('./pickled/1-With_IPA/FE_points_dt5.pickle', 'rb') as inf:\n",
    "#     FE_points = pickle.load(inf)\n",
    "\n",
    "# fec.FE_points_ = np.copy(FE_landscape)\n",
    "# fec.FE_landscape_ = np.copy(FE_landscape)\n",
    "# fec.coords_ = coords    "
   ]
  },
  {
   "cell_type": "code",
   "execution_count": 17,
   "metadata": {
    "scrolled": true
   },
   "outputs": [
    {
     "data": {
      "image/png": "[encoded data removed]",
      "text/plain": [
       "<Figure size 360x360 with 2 Axes>"
      ]
     },
     "metadata": {
      "needs_background": "light"
     },
     "output_type": "display_data"
    }
   ],
   "source": [
    "diverging_colors = sns.color_palette(\"RdBu_r\", 19)\n",
    "test_cmap = mpl.colors.LinearSegmentedColormap.from_list(\"\", diverging_colors[0:18])\n",
    "\n",
    "fec.visualize(fontsize=12, savefig=True, xlabel=r'RMSD to closed crystal structure ($\\AA$)',\n",
    "              ylabel=r'RMSD to open crystal structure ($\\AA$)', zlabel='z', title=None,\n",
    "              vmax=4.5, colormap=test_cmap, lim=0.1, n_contour_levels=19, show_data=False, \n",
    "              figsize= [5, 5], transition_point_size=1, core_point_size=5, core_point_edgecolor='k', \n",
    "              colormap2='spectral',clust_point_edgecolor='w', clust_point_facecolor='', \n",
    "              clust_point_size=5, clust_point_linewidth=4, clust_point_marker='s',legend=None,\n",
    "              extend='max', rmsd_point_size=40, rmsd_point_fontsize=10,rmsd_point_color='k', dx=1,\n",
    "              filename='./plots/1-With_IPA/1-FES_with_IPA_dt1', ax=None)"
   ]
  },
  {
   "cell_type": "code",
   "execution_count": null,
   "metadata": {},
   "outputs": [],
   "source": [
    "labels, cluster_centers = fec.cluster(coords, FE_points,Z, assign_transition_points=False)\n",
    "print(\"Cluster center indices: \"+str(cluster_centers))"
   ]
  },
  {
   "cell_type": "code",
   "execution_count": null,
   "metadata": {},
   "outputs": [],
   "source": [
    "with open('./pickled/2-Without_IPA/labels_cluster_centers_no_transition_points_dt1.pickle', 'wb') as outf:\n",
    "    pickle.dump([labels,cluster_centers], outf)"
   ]
  },
  {
   "cell_type": "code",
   "execution_count": null,
   "metadata": {},
   "outputs": [],
   "source": [
    "# Visualize free energy landscape with cluster labels\n",
    "fec.pathways_ = None\n",
    "fec.visualize(fontsize=12, savefig=True, xlabel=r'RMSD to closed crystal structure ($\\AA$)',\n",
    "              ylabel=r'RMSD to open crystal structure ($\\AA$)', zlabel='z', title=None,\n",
    "              vmax=4.25, colormap='nipy_spectral', lim=0.1, n_contour_levels=100, show_data=True, \n",
    "              figsize= [5, 5], transition_point_size=0, core_point_size=0.05, core_point_edgecolor='', \n",
    "              colormap2='viridis',clust_point_edgecolor='', clust_point_facecolor='k', \n",
    "              clust_point_size=30, clust_point_linewidth=0, clust_point_marker='o',legend=None,\n",
    "              extend='neither', rmsd_point_size=40, rmsd_point_fontsize=10, dx=1,\n",
    "              core_point_alpha=0.8, transition_point_alpha=0.0, surface_alpha=0.0,\n",
    "              filename='./plots/2-Without_IPA/3-free_energy_landscape_with_IPA_cluster_dt1_v1.png', ax=None)\n",
    "\n",
    "fec.visualize(fontsize=12, savefig=True, xlabel=r'RMSD to closed crystal structure ($\\AA$)',\n",
    "              ylabel=r'RMSD to open crystal structure ($\\AA$)', zlabel='z', title=None,\n",
    "              vmax=4.25, colormap='nipy_spectral', lim=0.1, n_contour_levels=100, show_data=True, \n",
    "              figsize= [5, 5], transition_point_size=0, core_point_size=0.0, core_point_edgecolor='', \n",
    "              colormap2='jet',clust_point_edgecolor='', clust_point_facecolor='w', \n",
    "              clust_point_size=30, clust_point_linewidth=0, clust_point_marker='o',legend=None,\n",
    "              extend='neither', rmsd_point_size=40, rmsd_point_fontsize=10, dx=1,\n",
    "              core_point_alpha=0.8, transition_point_alpha=0.0, surface_alpha=1,\n",
    "              filename='./plots/2-Without_IPA/3-free_energy_landscape_with_IPA_cluster_dt1_v2.png', ax=None)\n",
    "\n",
    "fec.visualize(fontsize=12, savefig=True, xlabel=r'RMSD to closed crystal structure ($\\AA$)',\n",
    "              ylabel=r'RMSD to open crystal structure ($\\AA$)', zlabel='z', title=None,\n",
    "              vmax=4.25, colormap='coolwarm', lim=0.1, n_contour_levels=19, show_data=True, \n",
    "              figsize= [5, 5], transition_point_size=0, core_point_size=0.0, core_point_edgecolor='', \n",
    "              colormap2='jet',clust_point_edgecolor='', clust_point_facecolor='k', \n",
    "              clust_point_size=30, clust_point_linewidth=0, clust_point_marker='o',legend=None,\n",
    "              extend='max', rmsd_point_size=40, rmsd_point_fontsize=10, dx=1,\n",
    "              core_point_alpha=0.8, transition_point_alpha=0.0, surface_alpha=1,\n",
    "              filename='./plots/2-Without_IPA/3-free_energy_landscape_with_IPA_cluster_dt1_v3.png', ax=None)"
   ]
  },
  {
   "cell_type": "code",
   "execution_count": null,
   "metadata": {},
   "outputs": [],
   "source": [
    "labels, cluster_centers = fec.cluster(coords, FE_points,Z, assign_transition_points=True)\n",
    "print(\"Cluster center indices: \"+str(cluster_centers))"
   ]
  },
  {
   "cell_type": "code",
   "execution_count": null,
   "metadata": {},
   "outputs": [],
   "source": [
    "with open('./pickled/2-Without_IPA/labels_cluster_centers_with_transition_points_dt1.pickle', 'wb') as outf:\n",
    "    pickle.dump([labels,cluster_centers], outf)"
   ]
  },
  {
   "cell_type": "code",
   "execution_count": null,
   "metadata": {},
   "outputs": [],
   "source": [
    "# Visualize free energy landscape with cluster labels\n",
    "fec.pathways_ = None\n",
    "fec.visualize(fontsize=12, savefig=True, xlabel=r'RMSD to closed crystal structure ($\\AA$)',\n",
    "              ylabel=r'RMSD to open crystal structure ($\\AA$)', zlabel='z', title=None,\n",
    "              vmax=4.25, colormap='nipy_spectral', lim=0.1, n_contour_levels=100, show_data=True, \n",
    "              figsize= [5, 5], transition_point_size=0, core_point_size=0.05, core_point_edgecolor='', \n",
    "              colormap2='viridis',clust_point_edgecolor='', clust_point_facecolor='k', \n",
    "              clust_point_size=30, clust_point_linewidth=0, clust_point_marker='o',legend=None,\n",
    "              extend='neither', rmsd_point_size=40, rmsd_point_fontsize=10, dx=1,\n",
    "              core_point_alpha=0.8, transition_point_alpha=0.0, surface_alpha=0.0,\n",
    "              filename='./plots/2-Without_IPA/3-free_energy_landscape_with_IPA_cluster_dt1_v4.png', ax=None)\n",
    "\n",
    "fec.visualize(fontsize=12, savefig=True, xlabel=r'RMSD to closed crystal structure ($\\AA$)',\n",
    "              ylabel=r'RMSD to open crystal structure ($\\AA$)', zlabel='z', title=None,\n",
    "              vmax=4.25, colormap='nipy_spectral', lim=0.1, n_contour_levels=100, show_data=True, \n",
    "              figsize= [5, 5], transition_point_size=0, core_point_size=0.0, core_point_edgecolor='', \n",
    "              colormap2='jet',clust_point_edgecolor='', clust_point_facecolor='w', \n",
    "              clust_point_size=30, clust_point_linewidth=0, clust_point_marker='o',legend=None,\n",
    "              extend='neither', rmsd_point_size=40, rmsd_point_fontsize=10, dx=1,\n",
    "              core_point_alpha=0.8, transition_point_alpha=0.0, surface_alpha=1,\n",
    "              filename='./plots/2-Without_IPA/3-free_energy_landscape_with_IPA_cluster_dt1_v5.png', ax=None)\n",
    "\n",
    "fec.visualize(fontsize=12, savefig=True, xlabel=r'RMSD to closed crystal structure ($\\AA$)',\n",
    "              ylabel=r'RMSD to open crystal structure ($\\AA$)', zlabel='z', title=None,\n",
    "              vmax=4.25, colormap='coolwarm', lim=0.1, n_contour_levels=19, show_data=True, \n",
    "              figsize= [5, 5], transition_point_size=0, core_point_size=0.0, core_point_edgecolor='', \n",
    "              colormap2='jet',clust_point_edgecolor='', clust_point_facecolor='k', \n",
    "              clust_point_size=30, clust_point_linewidth=0, clust_point_marker='o',legend=None,\n",
    "              extend='max', rmsd_point_size=40, rmsd_point_fontsize=10, dx=1,\n",
    "              core_point_alpha=0.8, transition_point_alpha=0.0, surface_alpha=1,\n",
    "              filename='./plots/2-Without_IPA/3-free_energy_landscape_with_IPA_cluster_dt1_v6.png', ax=None)"
   ]
  },
  {
   "cell_type": "code",
   "execution_count": null,
   "metadata": {},
   "outputs": [],
   "source": [
    "labels_old=labels\n",
    "cluster_centers_old=cluster_centers"
   ]
  },
  {
   "cell_type": "code",
   "execution_count": null,
   "metadata": {},
   "outputs": [],
   "source": [
    "labels=labels_old\n",
    "fec.labels_ = np.copy(labels)"
   ]
  },
  {
   "cell_type": "code",
   "execution_count": null,
   "metadata": {},
   "outputs": [],
   "source": [
    "i=1\n",
    "threshold=0.5\n",
    "\n",
    "cluster_FE = FE_points[labels==i]\n",
    "cluster_center_FE = FE_points[int(cluster_centers[i-1])]\n",
    "diff_FE = cluster_FE-cluster_center_FE\n",
    "new_labels = np.zeros(cluster_FE.shape[0])\n",
    "new_labels[diff_FE< threshold] = i\n",
    "\n",
    "labels[labels==i] = np.copy(new_labels)"
   ]
  },
  {
   "cell_type": "code",
   "execution_count": null,
   "metadata": {},
   "outputs": [],
   "source": [
    "i=2\n",
    "threshold=1.0\n",
    "\n",
    "cluster_FE = FE_points[labels==i]\n",
    "cluster_center_FE = FE_points[int(cluster_centers[i-1])]\n",
    "diff_FE = cluster_FE-cluster_center_FE\n",
    "new_labels = np.zeros(cluster_FE.shape[0])\n",
    "new_labels[diff_FE< threshold] = i\n",
    "\n",
    "labels[labels==i] = np.copy(new_labels)"
   ]
  },
  {
   "cell_type": "code",
   "execution_count": null,
   "metadata": {},
   "outputs": [],
   "source": [
    "i=3\n",
    "threshold=0.25\n",
    "\n",
    "cluster_FE = FE_points[labels==i]\n",
    "cluster_center_FE = FE_points[int(cluster_centers[i-1])]\n",
    "diff_FE = cluster_FE-cluster_center_FE\n",
    "new_labels = np.zeros(cluster_FE.shape[0])\n",
    "new_labels[diff_FE< threshold] = i\n",
    "\n",
    "labels[labels==i] = np.copy(new_labels)"
   ]
  },
  {
   "cell_type": "code",
   "execution_count": null,
   "metadata": {},
   "outputs": [],
   "source": [
    "i=4\n",
    "threshold=0.5\n",
    "\n",
    "cluster_FE = FE_points[labels==i]\n",
    "cluster_center_FE = FE_points[int(cluster_centers[i-1])]\n",
    "diff_FE = cluster_FE-cluster_center_FE\n",
    "new_labels = np.zeros(cluster_FE.shape[0])\n",
    "new_labels[diff_FE< threshold] = i\n",
    "\n",
    "labels[labels==i] = np.copy(new_labels)"
   ]
  },
  {
   "cell_type": "code",
   "execution_count": null,
   "metadata": {},
   "outputs": [],
   "source": [
    "i=5\n",
    "threshold=0.5\n",
    "\n",
    "cluster_FE = FE_points[labels==i]\n",
    "cluster_center_FE = FE_points[int(cluster_centers[i-1])]\n",
    "diff_FE = cluster_FE-cluster_center_FE\n",
    "new_labels = np.zeros(cluster_FE.shape[0])\n",
    "new_labels[diff_FE< threshold] = i\n",
    "\n",
    "labels[labels==i] = np.copy(new_labels)"
   ]
  },
  {
   "cell_type": "code",
   "execution_count": null,
   "metadata": {},
   "outputs": [],
   "source": [
    "# Visualize free energy landscape with cluster labels\n",
    "fec.pathways_ = None\n",
    "fec.visualize(fontsize=12, savefig=True, xlabel=r'RMSD to closed crystal structure ($\\AA$)',\n",
    "              ylabel=r'RMSD to open crystal structure ($\\AA$)', zlabel='z', title=None,\n",
    "              vmax=4.25, colormap='nipy_spectral', lim=0.1, n_contour_levels=100, show_data=True, \n",
    "              figsize= [5, 5], transition_point_size=0, core_point_size=0.01, core_point_edgecolor='', \n",
    "              colormap2='jet',clust_point_edgecolor='', clust_point_facecolor='k', \n",
    "              clust_point_size=30, clust_point_linewidth=0, clust_point_marker='o',legend=None,\n",
    "              extend='neither', rmsd_point_size=40, rmsd_point_fontsize=10, dx=1,\n",
    "              core_point_alpha=0.8, transition_point_alpha=0.0, surface_alpha=0.0,\n",
    "              filename='./plots/1-With_IPA/4-free_energy_landscape_with_IPA_cluster_dt1_v1.png', ax=None)\n",
    "\n",
    "fec.visualize(fontsize=12, savefig=True, xlabel=r'RMSD to closed crystal structure ($\\AA$)',\n",
    "              ylabel=r'RMSD to open crystal structure ($\\AA$)', zlabel='z', title=None,\n",
    "              vmax=4.25, colormap='coolwarm', lim=0.1, n_contour_levels=19, show_data=True, \n",
    "              figsize= [5, 5], transition_point_size=0, core_point_size=0.01, core_point_edgecolor='', \n",
    "              colormap2='jet',clust_point_edgecolor='', clust_point_facecolor='k', \n",
    "              clust_point_size=30, clust_point_linewidth=0, clust_point_marker='o',legend=None,\n",
    "              extend='max', rmsd_point_size=40, rmsd_point_fontsize=10, dx=1,\n",
    "              core_point_alpha=0.8, transition_point_alpha=0.0, surface_alpha=1,\n",
    "              filename='./plots/1-With_IPA/4-free_energy_landscape_with_IPA_cluster_dt1_v2.png', ax=None)\n",
    "\n",
    "fec.visualize(fontsize=12, savefig=True, xlabel=r'RMSD to closed crystal structure ($\\AA$)',\n",
    "              ylabel=r'RMSD to open crystal structure ($\\AA$)', zlabel='z', title=None,\n",
    "              vmax=4.25, colormap='coolwarm', lim=0.1, n_contour_levels=19, show_data=True, \n",
    "              figsize= [5, 5], transition_point_size=0, core_point_size=0.0, core_point_edgecolor='', \n",
    "              colormap2='jet',clust_point_edgecolor='', clust_point_facecolor='k', \n",
    "              clust_point_size=30, clust_point_linewidth=0, clust_point_marker='o',legend=None,\n",
    "              extend='max', rmsd_point_size=40, rmsd_point_fontsize=10, dx=1,\n",
    "              core_point_alpha=0.8, transition_point_alpha=0.0, surface_alpha=1,\n",
    "              filename='./plots/1-With_IPA/4-free_energy_landscape_with_IPA_cluster_dt1_v3.png', ax=None)"
   ]
  },
  {
   "cell_type": "code",
   "execution_count": null,
   "metadata": {},
   "outputs": [],
   "source": [
    "# Computing state populations\n",
    "state_populations = fec.population_states(n_sampled_points=100000)"
   ]
  },
  {
   "cell_type": "code",
   "execution_count": null,
   "metadata": {},
   "outputs": [],
   "source": [
    "with open('./pickled/1-With_IPA/state_populations_dt1_alldata.pickle', 'wb') as outf:\n",
    "    pickle.dump(state_populations, outf)\n",
    "\n",
    "with open('./pickled/1-With_IPA/labels_dt1_alldata2.pickle', 'wb') as outf:\n",
    "    pickle.dump(labels, outf)"
   ]
  },
  {
   "cell_type": "code",
   "execution_count": null,
   "metadata": {},
   "outputs": [],
   "source": [
    "# Plotting the state populations\n",
    "\n",
    "plt.figure(figsize=[4.5,2.5]);\n",
    "\n",
    "plt.plot(np.arange(1,state_populations.shape[0]),\n",
    "         state_populations[1::]/state_populations.sum(),\n",
    "         linewidth=2,color=[0.7,0.7,0.7],zorder=-1)\n",
    "\n",
    "plt.scatter(np.arange(1,state_populations.shape[0]),\n",
    "            state_populations[1::]/state_populations.sum(),\n",
    "            s=60,c=np.arange(1,state_populations.shape[0]),cmap='jet',edgecolor='k')\n",
    "\n",
    "plt.title('State populations',fontsize=12)\n",
    "plt.xlabel('State',fontsize=12)\n",
    "plt.ylabel('Probability',fontsize=12)\n",
    "plt.xticks(np.arange(1,state_populations.shape[0]))"
   ]
  },
  {
   "cell_type": "code",
   "execution_count": null,
   "metadata": {},
   "outputs": [],
   "source": [
    "from collections import Counter\n",
    "Counter(labels)"
   ]
  },
  {
   "cell_type": "code",
   "execution_count": null,
   "metadata": {},
   "outputs": [],
   "source": [
    "import mdtraj as md\n",
    "t= md.load('traj_noeq_IPA_combined.nc', top=topfile)\n",
    "t"
   ]
  },
  {
   "cell_type": "code",
   "execution_count": null,
   "metadata": {},
   "outputs": [],
   "source": [
    "os.system('rm '+'./4-full_cluster_trajectories/*.xtc')"
   ]
  },
  {
   "cell_type": "code",
   "execution_count": null,
   "metadata": {},
   "outputs": [],
   "source": [
    "for i in range(1,6):\n",
    "    tmp_traj = t[labels == i]\n",
    "    print(tmp_traj.n_frames)\n",
    "    if tmp_traj.n_frames > 0:\n",
    "        tmp_traj.save_xtc(\"./4-full_cluster_trajectories/cluster\"+ str(i) + \".xtc\")"
   ]
  },
  {
   "cell_type": "code",
   "execution_count": null,
   "metadata": {},
   "outputs": [],
   "source": [
    "rf=[rf0,rf1,rf2,rf3,rf4,rf5]\n",
    "toplist=sorted(glob('../1-Trajectories/0-Parm_rst/closed6_dry_rot*.parm7'))\n",
    "toplist"
   ]
  },
  {
   "cell_type": "code",
   "execution_count": null,
   "metadata": {},
   "outputs": [],
   "source": [
    "traj_clust_list=sorted(glob(\"./4-full_cluster_trajectories/cluster*.xtc\"))\n",
    "for t in traj_clust_list:\n",
    "    print(t[-5])"
   ]
  },
  {
   "cell_type": "code",
   "execution_count": null,
   "metadata": {},
   "outputs": [],
   "source": [
    "new_traj = pt.Trajectory(top=topfile)"
   ]
  },
  {
   "cell_type": "code",
   "execution_count": null,
   "metadata": {},
   "outputs": [],
   "source": [
    "new_traj.n_frames"
   ]
  },
  {
   "cell_type": "code",
   "execution_count": null,
   "metadata": {},
   "outputs": [],
   "source": [
    "# os.system('rm '+'./tmp/*.pdb') \n",
    "traj_clust_list=sorted(glob(\"./4-full_cluster_trajectories/cluster*.xtc\"))\n",
    "\n",
    "for t in traj_clust_list:\n",
    "    traj_clust = pt.iterload(t, topfile, stride=1)\n",
    "    new_traj = pt.Trajectory(top=topfile) # Empty trajectory\n",
    "    \n",
    "    for i in range(0,traj_clust.n_frames,10):\n",
    "        \n",
    "        rmsd0=pt.rmsd(traj_clust[i:i+1],ref=rf0, mask=\"@CA,N,C,O\")\n",
    "        rmsd1=pt.rmsd(traj_clust[i:i+1],ref=rf1, mask=\"@CA,N,C,O\")\n",
    "        rmsd2=pt.rmsd(traj_clust[i:i+1],ref=rf2, mask=\"@CA,N,C,O\")\n",
    "        rmsd3=pt.rmsd(traj_clust[i:i+1],ref=rf3, mask=\"@CA,N,C,O\")\n",
    "        rmsd4=pt.rmsd(traj_clust[i:i+1],ref=rf4, mask=\"@CA,N,C,O\")\n",
    "        rmsd5=pt.rmsd(traj_clust[i:i+1],ref=rf5, mask=\"@CA,N,C,O\")\n",
    "        rmsd_all=np.array([rmsd0,rmsd1,rmsd2,rmsd3,rmsd4,rmsd5])\n",
    "        ali_struct=np.where(rmsd_all == np.nanmin(rmsd_all, axis=0))\n",
    "        nb=int(ali_struct[0])\n",
    "\n",
    "        if nb==0:\n",
    "            new_frame=pt.align(traj_clust[i:i+1],ref=rf[nb],mask=\"@CA,N,C,O\", top=toplist[nb])\n",
    "            new_traj.append(new_frame)\n",
    "#             pt.write_traj('./tmp/{:05d}.pdb'.format(i),new ,  overwrite=True)\n",
    "            \n",
    "#     traj_sampled = pt.iterload(sorted(glob('./tmp/*.pdb')), topfile)\n",
    "    new_traj.save('./5-sampled_cluster_trajectories/sample_cluster{}.xtc'.format(t[-5]), overwrite=True)                     \n",
    "    print(\"Fraction original trajectories\", float(new_traj.n_frames/traj_clust.n_frames))\n",
    "#     os.system('rm '+'./tmp/*.pdb')                 "
   ]
  },
  {
   "cell_type": "code",
   "execution_count": null,
   "metadata": {},
   "outputs": [],
   "source": [
    "traj_clust_list=sorted(glob(\"./4-full_cluster_trajectories/cluster*.xtc\"))\n",
    "\n",
    "for t in traj_clust_list:\n",
    "    traj_clust = pt.iterload(t, topfile, stride=1)\n",
    "    new_traj = pt.Trajectory(top=topfile) # Empty trajectory\n",
    "    min_ref=[]\n",
    "    \n",
    "    for i in range(0,traj_clust.n_frames,10):\n",
    "        \n",
    "        rmsd0=pt.rmsd(traj_clust[i:i+1],ref=rf0, mask=\"@CA,N,C,O\")\n",
    "        rmsd1=pt.rmsd(traj_clust[i:i+1],ref=rf1, mask=\"@CA,N,C,O\")\n",
    "        rmsd2=pt.rmsd(traj_clust[i:i+1],ref=rf2, mask=\"@CA,N,C,O\")\n",
    "        rmsd3=pt.rmsd(traj_clust[i:i+1],ref=rf3, mask=\"@CA,N,C,O\")\n",
    "        rmsd4=pt.rmsd(traj_clust[i:i+1],ref=rf4, mask=\"@CA,N,C,O\")\n",
    "        rmsd5=pt.rmsd(traj_clust[i:i+1],ref=rf5, mask=\"@CA,N,C,O\")\n",
    "        rmsd_all=np.array([rmsd0,rmsd1,rmsd2,rmsd3,rmsd4,rmsd5])\n",
    "        ali_struct=np.where(rmsd_all == np.nanmin(rmsd_all, axis=0))\n",
    "        nb=int(ali_struct[0])\n",
    "        new_frame=pt.align(traj_clust[i:i+1],ref=rf[nb],mask=\"@CA,N,C,O\", top=toplist[nb])\n",
    "        new_traj.append(new_frame)\n",
    "        min_ref.append(nb)\n",
    "\n",
    "    new_traj.save('./4-full_cluster_trajectories/aligned_cluster{}.xtc'.format(t[-5]), overwrite=True)                     \n",
    "    print(\"Fraction original trajectories\", float(new_traj.n_frames/traj_clust.n_frames))\n",
    "    with open('./pickled/1-With_IPA/ref_frame_cluster{}.pickle'.format(t[-5]), 'wb') as outf:\n",
    "        pickle.dump(min_ref, outf)\n",
    " "
   ]
  },
  {
   "cell_type": "code",
   "execution_count": null,
   "metadata": {},
   "outputs": [],
   "source": [
    "0.0083*7942"
   ]
  },
  {
   "cell_type": "code",
   "execution_count": null,
   "metadata": {},
   "outputs": [],
   "source": []
  },
  {
   "cell_type": "code",
   "execution_count": null,
   "metadata": {},
   "outputs": [],
   "source": [
    "for i in range(0,6):\n",
    "    tmp_traj = t[labels == i]\n",
    "    if tmp_traj.n_frames > 0:\n",
    "        tmp_traj.save_xtc(\"cluster\"+ str(i) + \".xtc\")"
   ]
  },
  {
   "cell_type": "code",
   "execution_count": null,
   "metadata": {},
   "outputs": [],
   "source": [
    "traj4= pt.iterload('cluster4.xtc', topfile, stride=1)\n",
    "traj4"
   ]
  },
  {
   "cell_type": "code",
   "execution_count": null,
   "metadata": {},
   "outputs": [],
   "source": [
    "rmsd0=pt.rmsd(traj4,ref=rf0, mask=\"@CA,N,C,O\")\n",
    "rmsd1=pt.rmsd(traj4,ref=rf1, mask=\"@CA,N,C,O\")\n",
    "rmsd2=pt.rmsd(traj4,ref=rf2, mask=\"@CA,N,C,O\")\n",
    "rmsd3=pt.rmsd(traj4,ref=rf3, mask=\"@CA,N,C,O\")\n",
    "rmsd4=pt.rmsd(traj4,ref=rf4, mask=\"@CA,N,C,O\")\n",
    "rmsd5=pt.rmsd(traj4,ref=rf5, mask=\"@CA,N,C,O\")"
   ]
  },
  {
   "cell_type": "code",
   "execution_count": null,
   "metadata": {},
   "outputs": [],
   "source": [
    "rmsd_all=[rmsd0,rmsd1,rmsd2,rmsd3,rmsd4,rmsd5]"
   ]
  },
  {
   "cell_type": "code",
   "execution_count": null,
   "metadata": {},
   "outputs": [],
   "source": [
    "fig, axes = plt.subplots(2, 3, figsize=(8,4), sharex=True, sharey=True)\n",
    "\n",
    "\n",
    "for i, ax in enumerate(axes.flat):\n",
    "    ax.plot(rmsd_all[i])\n",
    "\n",
    "#     ax.set_xlim(0,4.5)\n",
    "#     ax.set_xticks(np.arange(0, 5, 1))    \n",
    "#     ax.set_ylim(0,4.5)\n",
    "#     ax.set_yticks(np.arange(0, 5, 1))     \n",
    "#     ax.set_aspect('equal')\n",
    "\n",
    " \n",
    "# plt.xlabel(r'RMSD to closed crystal structure ($\\AA$)')\n",
    "# plt.ylabel(r'RMSD to open crystal structure ($\\AA$)')\n",
    "    \n",
    "# fig.savefig('./plots/2-Without_IPA/3_sampling_of_individual_trajectories_with_overall_FES.png', dpi=600)"
   ]
  },
  {
   "cell_type": "code",
   "execution_count": null,
   "metadata": {},
   "outputs": [],
   "source": [
    "rmsd_closed=np.nanmin(np.array([rmsd0,rmsd1,rmsd2,rmsd3,rmsd4,rmsd5]), axis=0)\n",
    "plt.plot(rmsd_closed)"
   ]
  },
  {
   "cell_type": "code",
   "execution_count": null,
   "metadata": {},
   "outputs": [],
   "source": [
    "rf=[rf0,rf1,rf2,rf3,rf4,rf5]\n",
    "toplist=sorted(glob('../1-Trajectories/0-Parm_rst/closed6_dry_rot*.parm7'))\n",
    "toplist"
   ]
  },
  {
   "cell_type": "code",
   "execution_count": null,
   "metadata": {},
   "outputs": [],
   "source": [
    "rf=[rf0,rf1,rf2,rf3,rf4,rf5]\n",
    "toplist=sorted(glob('../1-Trajectories/0-Parm_rst/closed6_dry_rot*.parm7'))\n",
    "\n",
    "for i in range(0,traj4.n_frames,100):\n",
    "# for i in [0,1000,8500]:\n",
    "    rmsd0=pt.rmsd(traj4[i:i+1],ref=rf0, mask=\"@CA,N,C,O\")\n",
    "    rmsd1=pt.rmsd(traj4[i:i+1],ref=rf1, mask=\"@CA,N,C,O\")\n",
    "    rmsd2=pt.rmsd(traj4[i:i+1],ref=rf2, mask=\"@CA,N,C,O\")\n",
    "    rmsd3=pt.rmsd(traj4[i:i+1],ref=rf3, mask=\"@CA,N,C,O\")\n",
    "    rmsd4=pt.rmsd(traj4[i:i+1],ref=rf4, mask=\"@CA,N,C,O\")\n",
    "    rmsd5=pt.rmsd(traj4[i:i+1],ref=rf5, mask=\"@CA,N,C,O\")\n",
    "    rmsd_all=np.array([rmsd0,rmsd1,rmsd2,rmsd3,rmsd4,rmsd5])\n",
    "    ali_struct=np.where(rmsd_all == np.nanmin(rmsd_all, axis=0))\n",
    "    nb=int(ali_struct[0])\n",
    "#     print(int(ali_struct[0]))\n",
    "    new=pt.align(traj4[i:i+1],ref=rf[nb],mask=\"@CA,N,C,O\", top=toplist[nb])\n",
    "    pt.write_traj('./tmp/traj4_{}.pdb'.format(i),new ,  overwrite=True)\n",
    "\n",
    "\n"
   ]
  },
  {
   "cell_type": "code",
   "execution_count": null,
   "metadata": {},
   "outputs": [],
   "source": [
    "pt.align(traj4[2:3],ref=rf0, mask=\"@CA,N,C,O\")"
   ]
  },
  {
   "cell_type": "code",
   "execution_count": null,
   "metadata": {},
   "outputs": [],
   "source": [
    "indir_tmp = './tmp'\n",
    "topfile = '../1-Trajectories/0-Parm_rst/open10_dry.parm7'\n",
    "\n",
    "traj4_list = sorted(glob(indir_tmp+'/*.pdb'))\n",
    "traj4_list\n"
   ]
  },
  {
   "cell_type": "code",
   "execution_count": null,
   "metadata": {},
   "outputs": [],
   "source": [
    "traj4_new = pt.iterload(traj4_list, topfile)"
   ]
  },
  {
   "cell_type": "code",
   "execution_count": null,
   "metadata": {},
   "outputs": [],
   "source": [
    "traj4_new"
   ]
  },
  {
   "cell_type": "code",
   "execution_count": null,
   "metadata": {},
   "outputs": [],
   "source": [
    "traj4_new.save('test.xtc', overwrite=True)"
   ]
  },
  {
   "cell_type": "code",
   "execution_count": null,
   "metadata": {},
   "outputs": [],
   "source": [
    "new_rmsd=pt.rmsd_nofit(traj4_new,ref=rf0, mask=\"@CA,N,C,O\")"
   ]
  },
  {
   "cell_type": "code",
   "execution_count": null,
   "metadata": {},
   "outputs": [],
   "source": [
    "plt.plot(new_rmsd)"
   ]
  },
  {
   "cell_type": "code",
   "execution_count": null,
   "metadata": {},
   "outputs": [],
   "source": [
    "indir_tmp = './tmp'\n",
    "topfile = '../1-Trajectories/0-Parm_rst/open10_dry.parm7'\n",
    "\n",
    "traj4_list = sorted(glob(indir_tmp+'/*.pdb'))\n",
    "traj4_new = pt.iterload(traj_list, topfile, stride=1)\n",
    "# traj.save('traj_noeq_IPA_combined.nc', overwrite=True)\n",
    "  "
   ]
  },
  {
   "cell_type": "code",
   "execution_count": null,
   "metadata": {},
   "outputs": [],
   "source": [
    "%rm ./tmp/*  "
   ]
  },
  {
   "cell_type": "code",
   "execution_count": null,
   "metadata": {},
   "outputs": [],
   "source": []
  },
  {
   "cell_type": "code",
   "execution_count": null,
   "metadata": {},
   "outputs": [],
   "source": [
    "tmp_traj = traj[labels == i]\n",
    "\n",
    "if tmp_traj.n_frames > 0:\n",
    "    tmp_traj.save_dcd(\"cluster\"+ str(i) + \".dcd\")"
   ]
  },
  {
   "cell_type": "code",
   "execution_count": null,
   "metadata": {},
   "outputs": [],
   "source": [
    "for i in range(0,5):\n",
    "    traj[cluster_centers[i]:cluster_centers[i]+1].save('./Cluster_centres/Cluster_{}_IPA.pdb'.format(i+1)\n",
    "                                                       , overwrite=True)"
   ]
  },
  {
   "cell_type": "code",
   "execution_count": null,
   "metadata": {},
   "outputs": [],
   "source": [
    "fec.pathways([cluster_centers[0]],[cluster_centers[5]],max_iter=300,\n",
    "             convergence_tol=1e-4,step_size=2e-2,n_points=20)\n",
    "\n",
    "fec.visualize(savefig=False, vmax=8, n_contour_levels=1000, show_data=True, xlabel='X', ylabel='Y', filename='pathways', title='')"
   ]
  },
  {
   "cell_type": "code",
   "execution_count": null,
   "metadata": {},
   "outputs": [],
   "source": []
  },
  {
   "cell_type": "code",
   "execution_count": null,
   "metadata": {},
   "outputs": [],
   "source": []
  },
  {
   "cell_type": "code",
   "execution_count": null,
   "metadata": {},
   "outputs": [],
   "source": []
  },
  {
   "cell_type": "code",
   "execution_count": null,
   "metadata": {},
   "outputs": [],
   "source": [
    "plt.plot(rmsd_closed_all, rmsd_open_all, marker=\".\", ms=0.005, ls='None') "
   ]
  },
  {
   "cell_type": "code",
   "execution_count": null,
   "metadata": {},
   "outputs": [],
   "source": [
    "fig, ax = plt.subplots(figsize=(5.5,4.5))\n",
    "\n",
    "pyemma.plots.plot_free_energy(rmsd_closed_all, rmsd_open_all, nbins=200,ax=ax, cbar=True)\n",
    "\n",
    "ax.scatter(x=0.0, y=3.1458, s=20, c=\"b\", marker=\"s\")\n",
    "ax.scatter(x=3.1458, y=0.0, s=20, c=\"b\", marker=\"s\")\n",
    "\n",
    "ax.set_xlabel(r'RMSD to closed crystal structure ($\\AA$)')\n",
    "ax.set_ylabel(r'RMSD to open crystal structure ($\\AA$)')\n",
    "\n",
    "ax.set(xlim=(0,4.5) , ylim=(0, 4.5))\n",
    "\n",
    "ax.set_xticks(np.arange(0, 5, 0.5))\n",
    "ax.set_yticks(np.arange(0, 5, 0.5))\n",
    "\n",
    "fig.tight_layout()\n",
    "fig.savefig('./plots/FES_rmsd_cmap.png', dpi=800)"
   ]
  },
  {
   "cell_type": "code",
   "execution_count": null,
   "metadata": {},
   "outputs": [],
   "source": [
    "indir = './traj_dry_noeq_with_ipa'\n",
    "topfile = './parm_rst/open10_dry.parm7'\n",
    "\n",
    "traj_list2 = sorted(glob(indir+'/*.nc'))\n",
    "traj_list2"
   ]
  },
  {
   "cell_type": "code",
   "execution_count": null,
   "metadata": {},
   "outputs": [],
   "source": [
    "results_open_ipa=[]\n",
    "results_closed_ipa=[]\n",
    "for t in traj_list2:\n",
    "    traj=pt.load(t, topfile)\n",
    "    rmsd0=pt.rmsd(traj,ref=rf0, mask=\"@CA,N,C,O\")\n",
    "    rmsd1=pt.rmsd(traj,ref=rf1, mask=\"@CA,N,C,O\")\n",
    "    rmsd2=pt.rmsd(traj,ref=rf2, mask=\"@CA,N,C,O\")\n",
    "    rmsd3=pt.rmsd(traj,ref=rf3, mask=\"@CA,N,C,O\")\n",
    "    rmsd4=pt.rmsd(traj,ref=rf4, mask=\"@CA,N,C,O\")\n",
    "    rmsd5=pt.rmsd(traj,ref=rf5, mask=\"@CA,N,C,O\")\n",
    "    \n",
    "    rmsd_closed_ipa=np.nanmin(np.array([rmsd0,rmsd1,rmsd2,rmsd3,rmsd4,rmsd5]), axis=0)\n",
    "    results_closed_ipa.append(rmsd_closed_ipa)\n",
    "    \n",
    "    rmsd_open_ipa=pt.rmsd(traj,ref=rfopen, mask=\"@CA,N,C,O\")\n",
    "    results_open_ipa.append(rmsd_open_ipa)"
   ]
  },
  {
   "cell_type": "code",
   "execution_count": null,
   "metadata": {},
   "outputs": [],
   "source": [
    "rmsd_open_ipa_all=np.concatenate(results_open_ipa, axis=0)\n",
    "rmsd_closed_ipa_all=np.concatenate(results_closed_ipa, axis=0)"
   ]
  },
  {
   "cell_type": "code",
   "execution_count": null,
   "metadata": {},
   "outputs": [],
   "source": [
    "plt.plot(rmsd_closed_ipa_all, rmsd_open_ipa_all, marker=\".\", ms=0.005, ls='None') "
   ]
  },
  {
   "cell_type": "code",
   "execution_count": null,
   "metadata": {},
   "outputs": [],
   "source": [
    "fig, ax = plt.subplots(figsize=(5.5,4.5))\n",
    "\n",
    "pyemma.plots.plot_free_energy(rmsd_closed_ipa_all, rmsd_open_ipa_all, nbins=200,ax=ax, cbar=True)\n",
    "\n",
    "ax.scatter(x=0.0, y=3.1458, s=20, c=\"b\", marker=\"s\")\n",
    "ax.scatter(x=3.1458, y=0.0, s=20, c=\"b\", marker=\"s\")\n",
    "\n",
    "ax.set_xlabel(r'RMSD to closed crystal structure ($\\AA$)')\n",
    "ax.set_ylabel(r'RMSD to open crystal structure ($\\AA$)')\n",
    "\n",
    "ax.set(xlim=(0,4.5) , ylim=(0, 4.5))\n",
    "\n",
    "ax.set_xticks(np.arange(0, 5, 0.5))\n",
    "ax.set_yticks(np.arange(0, 5, 0.5))\n",
    "\n",
    "fig.tight_layout()\n",
    "fig.savefig('./plots/FES_rmsd_IPA_cmap.png', dpi=800)"
   ]
  },
  {
   "cell_type": "code",
   "execution_count": null,
   "metadata": {},
   "outputs": [],
   "source": [
    "indir = './traj_dry_noeq_without_ipa'\n",
    "topfile = './parm_rst/open10_dry.parm7'\n",
    "from glob import glob\n",
    "traj_list3 = sorted(glob(indir+'/open*.nc'))\n",
    "traj_list3"
   ]
  },
  {
   "cell_type": "code",
   "execution_count": null,
   "metadata": {},
   "outputs": [],
   "source": [
    "results_open_openonly=[]\n",
    "results_closed_openonly=[]\n",
    "for t in traj_list3:\n",
    "    traj=pt.load(t, topfile)\n",
    "    rmsd0=pt.rmsd(traj,ref=rf0, mask=\"@CA,N,C,O\")\n",
    "    rmsd1=pt.rmsd(traj,ref=rf1, mask=\"@CA,N,C,O\")\n",
    "    rmsd2=pt.rmsd(traj,ref=rf2, mask=\"@CA,N,C,O\")\n",
    "    rmsd3=pt.rmsd(traj,ref=rf3, mask=\"@CA,N,C,O\")\n",
    "    rmsd4=pt.rmsd(traj,ref=rf4, mask=\"@CA,N,C,O\")\n",
    "    rmsd5=pt.rmsd(traj,ref=rf5, mask=\"@CA,N,C,O\")\n",
    "    \n",
    "    rmsd_closed_openonly=np.nanmin(np.array([rmsd0,rmsd1,rmsd2,rmsd3,rmsd4,rmsd5]), axis=0)\n",
    "    results_closed_openonly.append(rmsd_closed_openonly)\n",
    "    \n",
    "    rmsd_open_openonly=pt.rmsd(traj,ref=rfopen, mask=\"@CA,N,C,O\")\n",
    "    results_open_openonly.append(rmsd_open_openonly)"
   ]
  },
  {
   "cell_type": "code",
   "execution_count": null,
   "metadata": {},
   "outputs": [],
   "source": [
    "rmsd_open_openonly=np.concatenate(results_open_openonly, axis=0)\n",
    "rmsd_closed_openonly=np.concatenate(results_closed_openonly, axis=0)"
   ]
  },
  {
   "cell_type": "code",
   "execution_count": null,
   "metadata": {},
   "outputs": [],
   "source": [
    "fig, ax = plt.subplots(figsize=(5.5,4.5))\n",
    "\n",
    "pyemma.plots.plot_free_energy(rmsd_closed_openonly, rmsd_open_openonly, nbins=200,ax=ax, cbar=True)\n",
    "\n",
    "ax.scatter(x=0.0, y=3.1458, s=20, c=\"b\", marker=\"s\")\n",
    "ax.scatter(x=3.1458, y=0.0, s=20, c=\"b\", marker=\"s\")\n",
    "\n",
    "ax.set_xlabel(r'RMSD to closed crystal structure ($\\AA$)')\n",
    "ax.set_ylabel(r'RMSD to open crystal structure ($\\AA$)')\n",
    "\n",
    "ax.set(xlim=(0,4.5) , ylim=(0, 4.5))\n",
    "\n",
    "ax.set_xticks(np.arange(0, 5, 0.5))\n",
    "ax.set_yticks(np.arange(0, 5, 0.5))\n",
    "\n",
    "fig.tight_layout()\n",
    "fig.savefig('./plots/FES_rmsd_openonly_cmap.png', dpi=800)"
   ]
  },
  {
   "cell_type": "code",
   "execution_count": null,
   "metadata": {},
   "outputs": [],
   "source": [
    "indir = './traj_dry_noeq_without_ipa'\n",
    "topfile = './parm_rst/open10_dry.parm7'\n",
    "from glob import glob\n",
    "traj_list4 = sorted(glob(indir+'/closed*.nc'))\n",
    "traj_list4"
   ]
  },
  {
   "cell_type": "code",
   "execution_count": null,
   "metadata": {},
   "outputs": [],
   "source": [
    "results_open_closedonly=[]\n",
    "results_closed_closedonly=[]\n",
    "for t in traj_list4:\n",
    "    traj=pt.load(t, topfile)\n",
    "    rmsd0=pt.rmsd(traj,ref=rf0, mask=\"@CA,N,C,O\")\n",
    "    rmsd1=pt.rmsd(traj,ref=rf1, mask=\"@CA,N,C,O\")\n",
    "    rmsd2=pt.rmsd(traj,ref=rf2, mask=\"@CA,N,C,O\")\n",
    "    rmsd3=pt.rmsd(traj,ref=rf3, mask=\"@CA,N,C,O\")\n",
    "    rmsd4=pt.rmsd(traj,ref=rf4, mask=\"@CA,N,C,O\")\n",
    "    rmsd5=pt.rmsd(traj,ref=rf5, mask=\"@CA,N,C,O\")\n",
    "    \n",
    "    rmsd_closed_closedonly=np.nanmin(np.array([rmsd0,rmsd1,rmsd2,rmsd3,rmsd4,rmsd5]), axis=0)\n",
    "    results_closed_closedonly.append(rmsd_closed_closedonly)\n",
    "    \n",
    "    rmsd_open_closedonly=pt.rmsd(traj,ref=rfopen, mask=\"@CA,N,C,O\")\n",
    "    results_open_closedonly.append(rmsd_open_closedonly)"
   ]
  },
  {
   "cell_type": "code",
   "execution_count": null,
   "metadata": {},
   "outputs": [],
   "source": [
    "rmsd_open_closedonly=np.concatenate(results_open_closedonly, axis=0)\n",
    "rmsd_closed_closedonly=np.concatenate(results_closed_closedonly, axis=0)"
   ]
  },
  {
   "cell_type": "code",
   "execution_count": null,
   "metadata": {},
   "outputs": [],
   "source": [
    "fig, ax = plt.subplots(figsize=(5.5,4.5))\n",
    "\n",
    "pyemma.plots.plot_free_energy(rmsd_closed_closedonly, rmsd_open_closedonly, nbins=200,ax=ax, cbar=True)\n",
    "\n",
    "ax.scatter(x=0.0, y=3.1458, s=20, c=\"b\", marker=\"s\")\n",
    "ax.scatter(x=3.1458, y=0.0, s=20, c=\"b\", marker=\"s\")\n",
    "\n",
    "ax.set_xlabel(r'RMSD to closed crystal structure ($\\AA$)')\n",
    "ax.set_ylabel(r'RMSD to open crystal structure ($\\AA$)')\n",
    "\n",
    "ax.set(xlim=(0,4.5) , ylim=(0, 4.5))\n",
    "\n",
    "ax.set_xticks(np.arange(0, 5, 0.5))\n",
    "ax.set_yticks(np.arange(0, 5, 0.5))\n",
    "\n",
    "fig.tight_layout()\n",
    "fig.savefig('./plots/FES_rmsd_closedonly_cmap.png', dpi=800)"
   ]
  },
  {
   "cell_type": "code",
   "execution_count": null,
   "metadata": {},
   "outputs": [],
   "source": [
    "fig,ax=plt.subplots(figsize=(4.5,4.5))\n",
    "\n",
    "ax.plot(rmsd_closed_closedonly, rmsd_open_closedonly, marker=\"o\", ms=1, ls='None', c=\"#C44E52\", alpha=0.02) \n",
    "ax.plot(rmsd_closed_openonly, rmsd_open_openonly, marker=\"o\", ms=1, ls='None', c=\"#4C72B0\", alpha=0.02) \n",
    "\n",
    "ax.set(xlim=(0,4.5) , ylim=(0, 4.5))\n",
    "\n",
    "ax.set_xticks(np.arange(0, 5, 0.5))\n",
    "ax.set_yticks(np.arange(0, 5, 0.5))\n",
    "\n",
    "fig.tight_layout()\n",
    "fig.savefig('./plots/rmsd_fromclosed_fromopen.png', dpi=400)"
   ]
  },
  {
   "cell_type": "code",
   "execution_count": null,
   "metadata": {},
   "outputs": [],
   "source": [
    "len(rmsd_closed_closedonly)"
   ]
  },
  {
   "cell_type": "code",
   "execution_count": null,
   "metadata": {},
   "outputs": [],
   "source": [
    "len(rmsd_open_closedonly)"
   ]
  },
  {
   "cell_type": "code",
   "execution_count": null,
   "metadata": {},
   "outputs": [],
   "source": [
    "len(rmsd_open_openonly)"
   ]
  },
  {
   "cell_type": "code",
   "execution_count": null,
   "metadata": {},
   "outputs": [],
   "source": [
    "len(rmsd_closed_openonly)"
   ]
  },
  {
   "cell_type": "code",
   "execution_count": null,
   "metadata": {},
   "outputs": [],
   "source": [
    "indir = './traj_dry_noeq_with_ipa'\n",
    "topfile = './parm_rst/open10_dry.parm7'\n",
    "from glob import glob\n",
    "traj_list5 = sorted(glob(indir+'/open*.nc'))\n",
    "traj_list5"
   ]
  },
  {
   "cell_type": "code",
   "execution_count": null,
   "metadata": {},
   "outputs": [],
   "source": [
    "results_open_ipa_openonly=[]\n",
    "results_closed_ipa_openonly=[]\n",
    "for t in traj_list5:\n",
    "    traj=pt.load(t, topfile)\n",
    "    rmsd0=pt.rmsd(traj,ref=rf0, mask=\"@CA,N,C,O\")\n",
    "    rmsd1=pt.rmsd(traj,ref=rf1, mask=\"@CA,N,C,O\")\n",
    "    rmsd2=pt.rmsd(traj,ref=rf2, mask=\"@CA,N,C,O\")\n",
    "    rmsd3=pt.rmsd(traj,ref=rf3, mask=\"@CA,N,C,O\")\n",
    "    rmsd4=pt.rmsd(traj,ref=rf4, mask=\"@CA,N,C,O\")\n",
    "    rmsd5=pt.rmsd(traj,ref=rf5, mask=\"@CA,N,C,O\")\n",
    "    \n",
    "    rmsd_closed_ipa_openonly=np.nanmin(np.array([rmsd0,rmsd1,rmsd2,rmsd3,rmsd4,rmsd5]), axis=0)\n",
    "    results_closed_ipa_openonly.append(rmsd_closed_ipa_openonly)\n",
    "    \n",
    "    rmsd_open_ipa_openonly=pt.rmsd(traj,ref=rfopen, mask=\"@CA,N,C,O\")\n",
    "    results_open_ipa_openonly.append(rmsd_open_ipa_openonly)"
   ]
  },
  {
   "cell_type": "code",
   "execution_count": null,
   "metadata": {},
   "outputs": [],
   "source": [
    "rmsd_open_ipa_openonly=np.concatenate(results_open_ipa_openonly, axis=0)\n",
    "rmsd_closed_ipa_openonly=np.concatenate(results_closed_ipa_openonly, axis=0)"
   ]
  },
  {
   "cell_type": "code",
   "execution_count": null,
   "metadata": {},
   "outputs": [],
   "source": [
    "fig, ax = plt.subplots(figsize=(5.5,4.5))\n",
    "\n",
    "pyemma.plots.plot_free_energy(rmsd_closed_ipa_openonly, rmsd_open_ipa_openonly, nbins=200,ax=ax, cbar=True)\n",
    "\n",
    "ax.scatter(x=0.0, y=3.1458, s=20, c=\"b\", marker=\"s\")\n",
    "ax.scatter(x=3.1458, y=0.0, s=20, c=\"b\", marker=\"s\")\n",
    "\n",
    "ax.set_xlabel(r'RMSD to closed crystal structure ($\\AA$)')\n",
    "ax.set_ylabel(r'RMSD to open crystal structure ($\\AA$)')\n",
    "\n",
    "ax.set(xlim=(0,4.5) , ylim=(0, 4.5))\n",
    "\n",
    "ax.set_xticks(np.arange(0, 5, 0.5))\n",
    "ax.set_yticks(np.arange(0, 5, 0.5))\n",
    "\n",
    "fig.tight_layout()\n",
    "fig.savefig('./plots/FES_rmsd_openonly_ipa_cmap.png', dpi=800)"
   ]
  },
  {
   "cell_type": "code",
   "execution_count": null,
   "metadata": {},
   "outputs": [],
   "source": [
    "indir = './traj_dry_noeq_with_ipa'\n",
    "topfile = './parm_rst/open10_dry.parm7'\n",
    "from glob import glob\n",
    "traj_list6 = sorted(glob(indir+'/closed*.nc'))\n",
    "traj_list6"
   ]
  },
  {
   "cell_type": "code",
   "execution_count": null,
   "metadata": {},
   "outputs": [],
   "source": [
    "results_open_ipa_closedonly=[]\n",
    "results_closed_ipa_closedonly=[]\n",
    "for t in traj_list6:\n",
    "    traj=pt.load(t, topfile)\n",
    "    rmsd0=pt.rmsd(traj,ref=rf0, mask=\"@CA,N,C,O\")\n",
    "    rmsd1=pt.rmsd(traj,ref=rf1, mask=\"@CA,N,C,O\")\n",
    "    rmsd2=pt.rmsd(traj,ref=rf2, mask=\"@CA,N,C,O\")\n",
    "    rmsd3=pt.rmsd(traj,ref=rf3, mask=\"@CA,N,C,O\")\n",
    "    rmsd4=pt.rmsd(traj,ref=rf4, mask=\"@CA,N,C,O\")\n",
    "    rmsd5=pt.rmsd(traj,ref=rf5, mask=\"@CA,N,C,O\")\n",
    "    \n",
    "    rmsd_closed_ipa_closedonly=np.nanmin(np.array([rmsd0,rmsd1,rmsd2,rmsd3,rmsd4,rmsd5]), axis=0)\n",
    "    results_closed_ipa_closedonly.append(rmsd_closed_ipa_closedonly)\n",
    "    \n",
    "    rmsd_open_ipa_closedonly=pt.rmsd(traj,ref=rfopen, mask=\"@CA,N,C,O\")\n",
    "    results_open_ipa_closedonly.append(rmsd_open_ipa_closedonly)"
   ]
  },
  {
   "cell_type": "code",
   "execution_count": null,
   "metadata": {},
   "outputs": [],
   "source": [
    "rmsd_open_ipa_closedonly=np.concatenate(results_open_ipa_closedonly, axis=0)\n",
    "rmsd_closed_ipa_closedonly=np.concatenate(results_closed_ipa_closedonly, axis=0)"
   ]
  },
  {
   "cell_type": "code",
   "execution_count": null,
   "metadata": {},
   "outputs": [],
   "source": [
    "fig, ax = plt.subplots(figsize=(5.5,4.5))\n",
    "\n",
    "pyemma.plots.plot_free_energy(rmsd_closed_ipa_closedonly, rmsd_open_ipa_closedonly, nbins=200,ax=ax, cbar=True)\n",
    "\n",
    "ax.scatter(x=0.0, y=3.1458, s=20, c=\"b\", marker=\"s\")\n",
    "ax.scatter(x=3.1458, y=0.0, s=20, c=\"b\", marker=\"s\")\n",
    "\n",
    "ax.set_xlabel(r'RMSD to closed crystal structure ($\\AA$)')\n",
    "ax.set_ylabel(r'RMSD to open crystal structure ($\\AA$)')\n",
    "\n",
    "ax.set(xlim=(0,4.5) , ylim=(0, 4.5))\n",
    "\n",
    "ax.set_xticks(np.arange(0, 5, 0.5))\n",
    "ax.set_yticks(np.arange(0, 5, 0.5))\n",
    "\n",
    "fig.tight_layout()\n",
    "fig.savefig('./plots/FES_rmsd_closedonly_ipa_cmap.png', dpi=800)"
   ]
  },
  {
   "cell_type": "code",
   "execution_count": null,
   "metadata": {},
   "outputs": [],
   "source": [
    "len(rmsd_closed_ipa_closedonly)"
   ]
  },
  {
   "cell_type": "code",
   "execution_count": null,
   "metadata": {},
   "outputs": [],
   "source": [
    "len(rmsd_open_ipa_closedonly)"
   ]
  },
  {
   "cell_type": "code",
   "execution_count": null,
   "metadata": {},
   "outputs": [],
   "source": [
    "len(rmsd_closed_ipa_openonly)"
   ]
  },
  {
   "cell_type": "code",
   "execution_count": null,
   "metadata": {},
   "outputs": [],
   "source": [
    "for i in range(0,len(results_open_ipa_openonly)):\n",
    "    print(len(results_open_ipa_openonly[i]))"
   ]
  },
  {
   "cell_type": "code",
   "execution_count": null,
   "metadata": {},
   "outputs": [],
   "source": [
    "for i in range(0,len(results_open_ipa_closedonly)):\n",
    "    print(len(results_open_ipa_closedonly[i]))"
   ]
  },
  {
   "cell_type": "code",
   "execution_count": null,
   "metadata": {},
   "outputs": [],
   "source": [
    "indir = './rep_struct_1'\n",
    "topfile = './parm_rst/open10_dry.parm7'\n",
    "from glob import glob\n",
    "traj_list7 = sorted(glob(indir+'/*.pdb'))\n",
    "traj_list7"
   ]
  },
  {
   "cell_type": "code",
   "execution_count": null,
   "metadata": {},
   "outputs": [],
   "source": [
    "results_open_rep_struct=[]\n",
    "results_closed_rep_struct=[]\n",
    "for t in traj_list7:\n",
    "    traj=pt.load(t, topfile)\n",
    "    rmsd0=pt.rmsd(traj,ref=rf0, mask=\"@CA,N,C,O\")\n",
    "    rmsd1=pt.rmsd(traj,ref=rf1, mask=\"@CA,N,C,O\")\n",
    "    rmsd2=pt.rmsd(traj,ref=rf2, mask=\"@CA,N,C,O\")\n",
    "    rmsd3=pt.rmsd(traj,ref=rf3, mask=\"@CA,N,C,O\")\n",
    "    rmsd4=pt.rmsd(traj,ref=rf4, mask=\"@CA,N,C,O\")\n",
    "    rmsd5=pt.rmsd(traj,ref=rf5, mask=\"@CA,N,C,O\")\n",
    "    \n",
    "    rmsd_closed_rep_struct=np.nanmin(np.array([rmsd0,rmsd1,rmsd2,rmsd3,rmsd4,rmsd5]), axis=0)\n",
    "    results_closed_rep_struct.append(rmsd_closed_rep_struct)\n",
    "    \n",
    "    rmsd_open_rep_struct=pt.rmsd(traj,ref=rfopen, mask=\"@CA,N,C,O\")\n",
    "    results_open_rep_struct.append(rmsd_open_rep_struct)"
   ]
  },
  {
   "cell_type": "code",
   "execution_count": null,
   "metadata": {},
   "outputs": [],
   "source": [
    "rmsd_open_rep_struct=np.concatenate(results_open_rep_struct, axis=0)\n",
    "rmsd_closed_rep_struct=np.concatenate(results_closed_rep_struct, axis=0)"
   ]
  },
  {
   "cell_type": "code",
   "execution_count": null,
   "metadata": {},
   "outputs": [],
   "source": [
    "def plot_labels(ax=None):\n",
    "    #if ax is None:\n",
    "        #ax = gca()\n",
    "    for i in range(0,len(rmsd_open_rep_struct_ipa)):\n",
    "        plt.text(rmsd_closed_rep_struct_ipa[i]+0.04, rmsd_open_rep_struct_ipa[i]+0.04, \n",
    "                 i, fontsize=10, color='white')"
   ]
  },
  {
   "cell_type": "code",
   "execution_count": null,
   "metadata": {},
   "outputs": [],
   "source": [
    "fig, ax = plt.subplots(figsize=(5.5,4.5))\n",
    "\n",
    "pyemma.plots.plot_free_energy(rmsd_closed_all, rmsd_open_all, nbins=200,ax=ax, cbar=True)\n",
    "\n",
    "ax.plot(rmsd_closed_rep_struct, rmsd_open_rep_struct, linewidth=0, marker='o', markersize=5, color='white')\n",
    "\n",
    "ax.scatter(x=0.0, y=3.1458, s=20, c=\"b\", marker=\"s\")\n",
    "ax.scatter(x=3.1458, y=0.0, s=20, c=\"b\", marker=\"s\")\n",
    "\n",
    "ax.set_xlabel(r'RMSD to closed crystal structure ($\\AA$)')\n",
    "ax.set_ylabel(r'RMSD to open crystal structure ($\\AA$)')\n",
    "\n",
    "ax.set(xlim=(0,4.5) , ylim=(0, 4.5))\n",
    "\n",
    "ax.set_xticks(np.arange(0, 5, 0.5))\n",
    "ax.set_yticks(np.arange(0, 5, 0.5))\n",
    "\n",
    "fig.tight_layout()\n",
    "# fig.savefig('./plots/FES_rmsd_cmap.png', dpi=800)"
   ]
  },
  {
   "cell_type": "code",
   "execution_count": null,
   "metadata": {},
   "outputs": [],
   "source": [
    "indir = './rep_struct_ipa_1'\n",
    "topfile = './parm_rst/open10_dry.parm7'\n",
    "from glob import glob\n",
    "traj_list8 = sorted(glob(indir+'/*.pdb'))\n",
    "traj_list8"
   ]
  },
  {
   "cell_type": "code",
   "execution_count": null,
   "metadata": {},
   "outputs": [],
   "source": [
    "results_open_rep_struct_ipa=[]\n",
    "results_closed_rep_struct_ipa=[]\n",
    "for t in traj_list8:\n",
    "    traj=pt.load(t, topfile)\n",
    "    rmsd0=pt.rmsd(traj,ref=rf0, mask=\"@CA,N,C,O\")\n",
    "    rmsd1=pt.rmsd(traj,ref=rf1, mask=\"@CA,N,C,O\")\n",
    "    rmsd2=pt.rmsd(traj,ref=rf2, mask=\"@CA,N,C,O\")\n",
    "    rmsd3=pt.rmsd(traj,ref=rf3, mask=\"@CA,N,C,O\")\n",
    "    rmsd4=pt.rmsd(traj,ref=rf4, mask=\"@CA,N,C,O\")\n",
    "    rmsd5=pt.rmsd(traj,ref=rf5, mask=\"@CA,N,C,O\")\n",
    "    \n",
    "    rmsd_closed_rep_struct_ipa=np.nanmin(np.array([rmsd0,rmsd1,rmsd2,rmsd3,rmsd4,rmsd5]), axis=0)\n",
    "    results_closed_rep_struct_ipa.append(rmsd_closed_rep_struct_ipa)\n",
    "    \n",
    "    rmsd_open_rep_struct_ipa=pt.rmsd(traj,ref=rfopen, mask=\"@CA,N,C,O\")\n",
    "    results_open_rep_struct_ipa.append(rmsd_open_rep_struct_ipa)"
   ]
  },
  {
   "cell_type": "code",
   "execution_count": null,
   "metadata": {},
   "outputs": [],
   "source": [
    "rmsd_open_rep_struct_ipa=np.concatenate(results_open_rep_struct_ipa, axis=0)\n",
    "rmsd_closed_rep_struct_ipa=np.concatenate(results_closed_rep_struct_ipa, axis=0)"
   ]
  },
  {
   "cell_type": "code",
   "execution_count": null,
   "metadata": {},
   "outputs": [],
   "source": [
    "rmsd_open_rep_struct_ipa"
   ]
  },
  {
   "cell_type": "code",
   "execution_count": null,
   "metadata": {},
   "outputs": [],
   "source": [
    "rmsd_closed_rep_struct_ipa"
   ]
  },
  {
   "cell_type": "code",
   "execution_count": null,
   "metadata": {},
   "outputs": [],
   "source": [
    "def plot_labels(ax=None):\n",
    "    #if ax is None:\n",
    "        #ax = gca()\n",
    "    for i in range(0,len(rmsd_open_rep_struct_ipa)):\n",
    "        plt.text(rmsd_closed_rep_struct_ipa[i]+0.04, rmsd_open_rep_struct_ipa[i]+0.04, \n",
    "                 i, fontsize=10, color='white')"
   ]
  },
  {
   "cell_type": "code",
   "execution_count": null,
   "metadata": {},
   "outputs": [],
   "source": [
    "fig, ax = plt.subplots(figsize=(5.5,4.5))\n",
    "\n",
    "pyemma.plots.plot_free_energy(rmsd_closed_ipa, rmsd_open_ipa, nbins=200,ax=ax, cbar=True)\n",
    "\n",
    "ax.plot(rmsd_closed_rep_struct_ipa, rmsd_open_rep_struct_ipa, linewidth=0, marker='o', markersize=5, color='white')\n",
    "\n",
    "plot_labels()\n",
    "\n",
    "ax.scatter(x=0.0, y=3.1458, s=20, c=\"b\", marker=\"s\")\n",
    "ax.scatter(x=3.1458, y=0.0, s=20, c=\"b\", marker=\"s\")\n",
    "\n",
    "ax.set_xlabel(r'RMSD to closed crystal structure ($\\AA$)')\n",
    "ax.set_ylabel(r'RMSD to open crystal structure ($\\AA$)')\n",
    "\n",
    "ax.set(xlim=(0,4.5) , ylim=(0, 4.5))\n",
    "\n",
    "ax.set_xticks(np.arange(0, 5, 0.5))\n",
    "ax.set_yticks(np.arange(0, 5, 0.5))\n",
    "\n",
    "fig.tight_layout()"
   ]
  },
  {
   "cell_type": "code",
   "execution_count": null,
   "metadata": {},
   "outputs": [],
   "source": [
    "Y_ipa=[]\n",
    "for i in range(0,len(results_open_ipa)):  \n",
    "    Z_ipa=[]\n",
    "    for j in range(0,len(results_open_ipa[i])):\n",
    "        a_ipa=np.array([results_closed_ipa[i][j],results_open_ipa[i][j]])\n",
    "        Z_ipa.append(a_ipa)\n",
    "    Z_ipa=np.array(Z_ipa)\n",
    "    Y_ipa.append(Z_ipa)"
   ]
  },
  {
   "cell_type": "code",
   "execution_count": null,
   "metadata": {},
   "outputs": [],
   "source": [
    "fig, ax = plt.subplots(figsize=(5.5,4.5))\n",
    "\n",
    "pyemma.plots.plot_free_energy(np.vstack(Y_ipa)[:, 0], np.vstack(Y_ipa)[:, 1], nbins=200,ax=ax, cbar=True)\n",
    "\n",
    "ax.plot(rmsd_closed_rep_struct_ipa, rmsd_open_rep_struct_ipa, linewidth=0, marker='o', markersize=5, color='white')\n",
    "\n",
    "plot_labels()\n",
    "\n",
    "ax.scatter(x=0.0, y=3.1458, s=20, c=\"b\", marker=\"s\")\n",
    "ax.scatter(x=3.1458, y=0.0, s=20, c=\"b\", marker=\"s\")\n",
    "\n",
    "ax.set_xlabel(r'RMSD to closed crystal structure ($\\AA$)')\n",
    "ax.set_ylabel(r'RMSD to open crystal structure ($\\AA$)')\n",
    "\n",
    "ax.set(xlim=(0,4.5) , ylim=(0, 4.5))\n",
    "\n",
    "ax.set_xticks(np.arange(0, 5, 0.5))\n",
    "ax.set_yticks(np.arange(0, 5, 0.5))\n",
    "\n",
    "fig.tight_layout()"
   ]
  },
  {
   "cell_type": "code",
   "execution_count": null,
   "metadata": {},
   "outputs": [],
   "source": []
  },
  {
   "cell_type": "code",
   "execution_count": null,
   "metadata": {},
   "outputs": [],
   "source": []
  },
  {
   "cell_type": "code",
   "execution_count": null,
   "metadata": {},
   "outputs": [],
   "source": []
  },
  {
   "cell_type": "code",
   "execution_count": null,
   "metadata": {},
   "outputs": [],
   "source": []
  },
  {
   "cell_type": "code",
   "execution_count": null,
   "metadata": {},
   "outputs": [],
   "source": [
    "fig,ax=plt.subplots(figsize=(4.5,4.5))\n",
    "\n",
    "#ax.plot(rmsd_closed_closedonly, rmsd_open_closedonly, marker=\"o\", ms=5, ls='None', c=\"#C44E52\", alpha=0.02) \n",
    "#ax.plot(rmsd_closed_openonly, rmsd_open_openonly, marker=\"o\", ms=5, ls='None', c=\"#4C72B0\", alpha=0.02) \n",
    "ax.plot(rmsd_closed_ipa_all, rmsd_open_ipa_all, marker=\"o\", ms=0.05, ls='None', c=\"#4C72B0\", alpha=0.02)\n",
    "\n",
    "\n",
    "ax.set_xlim(1,4)\n",
    "ax.set_ylim(1, 4)\n",
    "\n",
    "\n",
    "fig.savefig('./plots/rmsd_w_IPA.png', dpi=400)"
   ]
  },
  {
   "cell_type": "code",
   "execution_count": null,
   "metadata": {},
   "outputs": [],
   "source": [
    "fig,ax=plt.subplots(figsize=(4.5,4.5))\n",
    "\n",
    "#ax.plot(rmsd_closed_closedonly, rmsd_open_closedonly, marker=\"o\", ms=5, ls='None', c=\"#C44E52\", alpha=0.02) \n",
    "#ax.plot(rmsd_closed_openonly, rmsd_open_openonly, marker=\"o\", ms=5, ls='None', c=\"#4C72B0\", alpha=0.02) \n",
    "ax.plot(rmsd_closed_all, rmsd_open_all, marker=\"o\", ms=0.05, ls='None', c=\"#C44E52\", alpha=0.02)\n",
    "\n",
    "# ax.plot(rmsd_closed_ipa_all, rmsd_open_ipa_all, marker=\"o\", ms=0.05, ls='None', c=\"#4C72B0\", alpha=0.02) \n",
    "\n",
    "ax.set_xlim(1,4)\n",
    "ax.set_ylim(1, 4)\n",
    "\n",
    "# ax.set_xticks(np.arange(0, 5, 0.5))\n",
    "# ax.set_yticks(np.arange(0, 5, 0.5))\n",
    "\n",
    "# fig.tight_layout()\n",
    "fig.savefig('./plots/rmsd_wo_IPA.png', dpi=400)"
   ]
  },
  {
   "cell_type": "code",
   "execution_count": null,
   "metadata": {},
   "outputs": [],
   "source": [
    "fig,ax=plt.subplots(figsize=(4.5,4.5))\n",
    "\n",
    "#ax.plot(rmsd_closed_closedonly, rmsd_open_closedonly, marker=\"o\", ms=5, ls='None', c=\"#C44E52\", alpha=0.02) \n",
    "#ax.plot(rmsd_closed_openonly, rmsd_open_openonly, marker=\"o\", ms=5, ls='None', c=\"#4C72B0\", alpha=0.02) \n",
    "ax.plot(rmsd_closed_all, rmsd_open_all, marker=\"o\", ms=0.05, ls='None', c=\"#C44E52\", alpha=0.02)\n",
    "\n",
    "ax.plot(rmsd_closed_ipa_all, rmsd_open_ipa_all, marker=\"o\", ms=0.05, ls='None', c=\"#4C72B0\", alpha=0.02) \n",
    "\n",
    "ax.set_xlim(1,4)\n",
    "ax.set_ylim(1, 4)\n",
    "\n",
    "# ax.set_xticks(np.arange(0, 5, 0.5))\n",
    "# ax.set_yticks(np.arange(0, 5, 0.5))\n",
    "\n",
    "# fig.tight_layout()\n",
    "fig.savefig('./plots/rmsd_w_wo_IPA.png', dpi=400)"
   ]
  },
  {
   "cell_type": "code",
   "execution_count": null,
   "metadata": {
    "scrolled": true
   },
   "outputs": [],
   "source": [
    "fig,ax=plt.subplots(figsize=(4.5,4.5))\n",
    "\n",
    "\n",
    "ax.hexbin(rmsd_closed_ipa, rmsd_open_ipa, cmap=\"Oranges\", alpha=0.5, bins='log',\n",
    "          gridsize=200, edgecolors='none', linewidths=0.0) \n",
    "ax.hexbin(rmsd_closed, rmsd_open,cmap=\"Greens\", alpha=0.5, bins='log',\n",
    "          gridsize=200, edgecolors='none', linewidths=0.0) \n",
    "\n",
    "\n",
    "\n",
    "ax.set(xlim=(0,4.5) , ylim=(0, 4.5))\n",
    "\n",
    "ax.set_xticks(np.arange(0, 5, 0.5))\n",
    "ax.set_yticks(np.arange(0, 5, 0.5))\n",
    "\n",
    "fig.tight_layout()"
   ]
  },
  {
   "cell_type": "code",
   "execution_count": null,
   "metadata": {},
   "outputs": [],
   "source": []
  },
  {
   "cell_type": "code",
   "execution_count": null,
   "metadata": {},
   "outputs": [],
   "source": [
    "indir = './traj_dry_open_closed_adapt_all'\n",
    "topfile = './parm_rst/open10_dry.parm7'\n",
    "from glob import glob\n",
    "traj_list3 = sorted(glob(indir+'/open*.nc'))\n",
    "\n",
    "results_open_openonly=[]\n",
    "results_closed_openonly=[]\n",
    "for t in traj_list3:\n",
    "    traj=pt.load(t, topfile, stride=2)\n",
    "    rmsd0=pt.rmsd(traj,ref=rf0, mask=\"@CA,N,C,O\")\n",
    "    rmsd1=pt.rmsd(traj,ref=rf1, mask=\"@CA,N,C,O\")\n",
    "    rmsd2=pt.rmsd(traj,ref=rf2, mask=\"@CA,N,C,O\")\n",
    "    rmsd3=pt.rmsd(traj,ref=rf3, mask=\"@CA,N,C,O\")\n",
    "    rmsd4=pt.rmsd(traj,ref=rf4, mask=\"@CA,N,C,O\")\n",
    "    rmsd5=pt.rmsd(traj,ref=rf5, mask=\"@CA,N,C,O\")\n",
    "    \n",
    "    rmsd_closed_openonly=np.nanmin(np.array([rmsd0,rmsd1,rmsd2,rmsd3,rmsd4,rmsd5]), axis=0)\n",
    "    results_closed_openonly.append(rmsd_closed_openonly)\n",
    "    \n",
    "    rmsd_open_openonly=pt.rmsd(traj,ref=rfopen, mask=\"@CA,N,C,O\")\n",
    "    results_open_openonly.append(rmsd_open_openonly)\n",
    "\n",
    "rmsd_open_openonly=np.concatenate(results_open_openonly, axis=0)\n",
    "rmsd_closed_openonly=np.concatenate(results_closed_openonly, axis=0)\n",
    "\n",
    "fig, ax = plt.subplots(figsize=(5.5,4.5))\n",
    "\n",
    "pyemma.plots.plot_free_energy(rmsd_closed_openonly, rmsd_open_openonly, nbins=100,ax=ax, cbar=True)\n",
    "\n",
    "ax.scatter(x=0.0, y=3.1458, s=20, c=\"b\", marker=\"s\")\n",
    "ax.scatter(x=3.1458, y=0.0, s=20, c=\"b\", marker=\"s\")\n",
    "\n",
    "ax.set_xlabel(r'RMSD to closed crystal structure ($\\AA$)')\n",
    "ax.set_ylabel(r'RMSD to open crystal structure ($\\AA$)')\n",
    "\n",
    "ax.set(xlim=(0,4.5) , ylim=(0, 4.5))\n",
    "\n",
    "ax.set_xticks(np.arange(0, 5, 0.5))\n",
    "ax.set_yticks(np.arange(0, 5, 0.5))\n",
    "\n",
    "fig.tight_layout()\n",
    "fig.savefig('./plots/FES_rmsd_openonly_dt2_cmap.png', dpi=800)"
   ]
  },
  {
   "cell_type": "code",
   "execution_count": null,
   "metadata": {},
   "outputs": [],
   "source": [
    "indir = './traj_dry_open_closed_adapt_all'\n",
    "topfile = './parm_rst/open10_dry.parm7'\n",
    "from glob import glob\n",
    "traj_list4 = sorted(glob(indir+'/closed*.nc'))\n",
    "\n",
    "results_open_closedonly=[]\n",
    "results_closed_closedonly=[]\n",
    "for t in traj_list4:\n",
    "    traj=pt.load(t, topfile, stride=2)\n",
    "    rmsd0=pt.rmsd(traj,ref=rf0, mask=\"@CA,N,C,O\")\n",
    "    rmsd1=pt.rmsd(traj,ref=rf1, mask=\"@CA,N,C,O\")\n",
    "    rmsd2=pt.rmsd(traj,ref=rf2, mask=\"@CA,N,C,O\")\n",
    "    rmsd3=pt.rmsd(traj,ref=rf3, mask=\"@CA,N,C,O\")\n",
    "    rmsd4=pt.rmsd(traj,ref=rf4, mask=\"@CA,N,C,O\")\n",
    "    rmsd5=pt.rmsd(traj,ref=rf5, mask=\"@CA,N,C,O\")\n",
    "    \n",
    "    rmsd_closed_closedonly=np.nanmin(np.array([rmsd0,rmsd1,rmsd2,rmsd3,rmsd4,rmsd5]), axis=0)\n",
    "    results_closed_closedonly.append(rmsd_closed_closedonly)\n",
    "    \n",
    "    rmsd_open_closedonly=pt.rmsd(traj,ref=rfopen, mask=\"@CA,N,C,O\")\n",
    "    results_open_closedonly.append(rmsd_open_closedonly)\n",
    "\n",
    "rmsd_open_closedonly=np.concatenate(results_open_closedonly, axis=0)\n",
    "rmsd_closed_closedonly=np.concatenate(results_closed_closedonly, axis=0)\n",
    "\n",
    "fig, ax = plt.subplots(figsize=(5.5,4.5))\n",
    "\n",
    "pyemma.plots.plot_free_energy(rmsd_closed_closedonly, rmsd_open_closedonly, nbins=100,ax=ax, cbar=True)\n",
    "\n",
    "ax.scatter(x=0.0, y=3.1458, s=20, c=\"b\", marker=\"s\")\n",
    "ax.scatter(x=3.1458, y=0.0, s=20, c=\"b\", marker=\"s\")\n",
    "\n",
    "ax.set_xlabel(r'RMSD to closed crystal structure ($\\AA$)')\n",
    "ax.set_ylabel(r'RMSD to open crystal structure ($\\AA$)')\n",
    "\n",
    "ax.set(xlim=(0,4.5) , ylim=(0, 4.5))\n",
    "\n",
    "ax.set_xticks(np.arange(0, 5, 0.5))\n",
    "ax.set_yticks(np.arange(0, 5, 0.5))\n",
    "\n",
    "fig.tight_layout()\n",
    "fig.savefig('./plots/FES_rmsd_closedonly_dt2_cmap.png', dpi=800)"
   ]
  },
  {
   "cell_type": "code",
   "execution_count": null,
   "metadata": {},
   "outputs": [],
   "source": [
    "traj_list=traj_list4+traj_list3\n",
    "for t in traj_list:\n",
    "    traj=pt.load(t, topfile, stride=2)\n",
    "    rmsd0=pt.rmsd(traj,ref=rf0, mask=\"@CA,N,C,O\")\n",
    "    rmsd1=pt.rmsd(traj,ref=rf1, mask=\"@CA,N,C,O\")\n",
    "    rmsd2=pt.rmsd(traj,ref=rf2, mask=\"@CA,N,C,O\")\n",
    "    rmsd3=pt.rmsd(traj,ref=rf3, mask=\"@CA,N,C,O\")\n",
    "    rmsd4=pt.rmsd(traj,ref=rf4, mask=\"@CA,N,C,O\")\n",
    "    rmsd5=pt.rmsd(traj,ref=rf5, mask=\"@CA,N,C,O\")\n",
    "    \n",
    "    rmsd_closed_closedonly=np.nanmin(np.array([rmsd0,rmsd1,rmsd2,rmsd3,rmsd4,rmsd5]), axis=0)\n",
    "    results_closed_closedonly.append(rmsd_closed_closedonly)\n",
    "    \n",
    "    rmsd_open_closedonly=pt.rmsd(traj,ref=rfopen, mask=\"@CA,N,C,O\")\n",
    "    results_open_closedonly.append(rmsd_open_closedonly)\n",
    "\n",
    "rmsd_open_closedonly=np.concatenate(results_open_closedonly, axis=0)\n",
    "rmsd_closed_closedonly=np.concatenate(results_closed_closedonly, axis=0)\n",
    "\n",
    "fig, ax = plt.subplots(figsize=(5.5,4.5))\n",
    "\n",
    "pyemma.plots.plot_free_energy(rmsd_closed_closedonly, rmsd_open_closedonly, nbins=200,ax=ax, cbar=True)\n",
    "\n",
    "ax.scatter(x=0.0, y=3.1458, s=20, c=\"b\", marker=\"s\")\n",
    "ax.scatter(x=3.1458, y=0.0, s=20, c=\"b\", marker=\"s\")\n",
    "\n",
    "ax.set_xlabel(r'RMSD to closed crystal structure ($\\AA$)')\n",
    "ax.set_ylabel(r'RMSD to open crystal structure ($\\AA$)')\n",
    "\n",
    "ax.set(xlim=(0,4.5) , ylim=(0, 4.5))\n",
    "\n",
    "ax.set_xticks(np.arange(0, 5, 0.5))\n",
    "ax.set_yticks(np.arange(0, 5, 0.5))\n",
    "\n",
    "fig.tight_layout()\n",
    "fig.savefig('./plots/FES_rmsd_closedopenonly_dt2_cmap.png', dpi=800)"
   ]
  },
  {
   "cell_type": "code",
   "execution_count": null,
   "metadata": {},
   "outputs": [],
   "source": [
    "fig,ax=plt.subplots(figsize=(4.5,4.5))\n",
    "\n",
    "ax.plot(rmsd_closed_closedonly, rmsd_open_closedonly, marker=\"o\", ms=1, ls='None', c=\"#C44E52\", alpha=0.02) \n",
    "#ax.plot(rmsd_closed_openonly, rmsd_open_openonly, marker=\"o\", ms=5, ls='None', c=\"#4C72B0\", alpha=0.02) \n",
    "#ax.plot(rmsd_closed, rmsd_open, marker=\"o\", ms=1, ls='None', c=\"#C44E52\", alpha=0.02)\n",
    "\n",
    "ax.plot(rmsd_closed_ipa, rmsd_open_ipa, marker=\"o\", ms=1, ls='None', c=\"#4C72B0\", alpha=0.02) \n",
    "\n",
    "#ax.set(xlim=(0,4.5) , ylim=(0, 4.5))\n",
    "\n",
    "#ax.set_xticks(np.arange(0, 5, 0.5))\n",
    "#ax.set_yticks(np.arange(0, 5, 0.5))\n",
    "\n",
    "fig.tight_layout()"
   ]
  },
  {
   "cell_type": "code",
   "execution_count": null,
   "metadata": {},
   "outputs": [],
   "source": []
  }
 ],
 "metadata": {
  "kernelspec": {
   "display_name": "Python 3",
   "language": "python",
   "name": "python3"
  },
  "language_info": {
   "codemirror_mode": {
    "name": "ipython",
    "version": 3
   },
   "file_extension": ".py",
   "mimetype": "text/x-python",
   "name": "python",
   "nbconvert_exporter": "python",
   "pygments_lexer": "ipython3",
   "version": "3.7.8"
  },
  "toc": {
   "base_numbering": 1,
   "nav_menu": {},
   "number_sections": true,
   "sideBar": true,
   "skip_h1_title": false,
   "title_cell": "Table of Contents",
   "title_sidebar": "Contents",
   "toc_cell": false,
   "toc_position": {},
   "toc_section_display": true,
   "toc_window_display": false
  }
 },
 "nbformat": 4,
 "nbformat_minor": 2
}
