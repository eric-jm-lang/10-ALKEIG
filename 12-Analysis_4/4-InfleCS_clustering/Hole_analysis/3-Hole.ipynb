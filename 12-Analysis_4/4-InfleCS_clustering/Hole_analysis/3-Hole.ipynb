{
 "cells": [
  {
   "cell_type": "code",
   "execution_count": 1,
   "metadata": {},
   "outputs": [],
   "source": [
    "%matplotlib inline\n",
    "import matplotlib as mpl\n",
    "mpl.rc(\"font\", family=\"Arial\")\n",
    "import matplotlib.pyplot as plt\n",
    "\n",
    "import pickle\n",
    "import numpy as np\n",
    "\n",
    "import MDAnalysis as mda\n",
    "import MDAnalysis.analysis.hole\n",
    "import MDAnalysis.analysis.rms\n",
    "from MDAnalysis.analysis.hole import HOLE, HOLEtraj\n"
   ]
  },
  {
   "cell_type": "code",
   "execution_count": 2,
   "metadata": {},
   "outputs": [],
   "source": [
    "def regularized_function(x, y, func, bins=100, range=None):\n",
    "    \"\"\"Compute *func()* over data aggregated in bins.\n",
    "    ``(x,y) --> (x', func(Y'))``  with ``Y' = {y: y(x) where x in x' bin}``\n",
    "    First the data is collected in bins x' along x and then *func* is\n",
    "    applied to all data points Y' that have been collected in the bin.\n",
    "    .. function:: func(y) -> float\n",
    "       *func* takes exactly one argument, a numpy 1D array *y* (the\n",
    "       values in a single bin of the histogram), and reduces it to one\n",
    "       scalar float.\n",
    "    .. Note:: *x* and *y* must be 1D arrays.\n",
    "    :Arguments:\n",
    "       x\n",
    "          abscissa values (for binning)\n",
    "       y\n",
    "          ordinate values (func is applied)\n",
    "       func\n",
    "          a numpy ufunc that takes one argument, func(Y')\n",
    "       bins\n",
    "          number or array\n",
    "       range\n",
    "          limits (used with number of bins)\n",
    "    :Returns:\n",
    "       F,edges\n",
    "          function and edges (``midpoints = 0.5*(edges[:-1]+edges[1:])``)\n",
    "    (This function originated as\n",
    "    :func:`recsql.sqlfunctions.regularized_function`.)\n",
    "    \"\"\"\n",
    "    _x = np.asarray(x)\n",
    "    _y = np.asarray(y)\n",
    "\n",
    "    if len(_x.shape) != 1 or len(_y.shape) != 1:\n",
    "        raise TypeError(\"Can only deal with 1D arrays.\")\n",
    "\n",
    "    # setup of bins (taken from numpy.histogram)\n",
    "    if (range is not None):\n",
    "        mn, mx = range\n",
    "        if (mn > mx):\n",
    "            raise AttributeError('max must be larger than min in range parameter.')\n",
    "\n",
    "    if not np.iterable(bins):\n",
    "        if range is None:\n",
    "            range = (_x.min(), _x.max())\n",
    "        mn, mx = [float(mi) for mi in range]\n",
    "        if mn == mx:\n",
    "            mn -= 0.5\n",
    "            mx += 0.5\n",
    "        bins = np.linspace(mn, mx, bins+1, endpoint=True)\n",
    "    else:\n",
    "        bins = np.asarray(bins)\n",
    "        if (np.diff(bins) < 0).any():\n",
    "            raise ValueError('bins must increase monotonically.')\n",
    "\n",
    "    sorting_index = np.argsort(_x)\n",
    "    sx = _x[sorting_index]\n",
    "    sy = _y[sorting_index]\n",
    "\n",
    "    # boundaries in SORTED data that demarcate bins; position in bin_index is the bin number\n",
    "    bin_index = np.r_[sx.searchsorted(bins[:-1], 'left'),\n",
    "                         sx.searchsorted(bins[-1], 'right')]\n",
    "\n",
    "    # naive implementation: apply operator to each chunk = sy[start:stop] separately\n",
    "    #\n",
    "    # It's not clear to me how one could effectively block this procedure (cf\n",
    "    # block = 65536 in numpy.histogram) because there does not seem to be a\n",
    "    # general way to combine the chunks for different blocks, just think of\n",
    "    # func=median\n",
    "    F = np.zeros(len(bins)-1)  # final function\n",
    "    F[:] = [func(sy[start:stop]) for start,stop in zip(bin_index[:-1],bin_index[1:])]\n",
    "    return F,bins\n"
   ]
  },
  {
   "cell_type": "code",
   "execution_count": 3,
   "metadata": {},
   "outputs": [
    {
     "data": {
      "text/plain": [
       "'hole_open_xray.vmd'"
      ]
     },
     "execution_count": 3,
     "metadata": {},
     "output_type": "execute_result"
    }
   ],
   "source": [
    "open_xray = HOLE(\"../../1-Trajectories/0-Parm_rst/open10_dry.pdb\", endrad=5,\\\n",
    "                   sample=0.1, cvect=[0,0,1], executable=\"/home/el14718/Software/hole2/exe/hole\") \n",
    "open_xray.run()\n",
    "open_xray.collect()\n",
    "open_xray.create_vmd_surface(filename='hole_open_xray.vmd')"
   ]
  },
  {
   "cell_type": "code",
   "execution_count": 5,
   "metadata": {},
   "outputs": [],
   "source": [
    "%cp hole.sph hole_open.sph"
   ]
  },
  {
   "cell_type": "code",
   "execution_count": 7,
   "metadata": {},
   "outputs": [
    {
     "data": {
      "image/png": "[encoded data removed]",
      "text/plain": [
       "<Figure size 360x288 with 1 Axes>"
      ]
     },
     "metadata": {
      "needs_background": "light"
     },
     "output_type": "display_data"
    }
   ],
   "source": [
    "closed_xray = HOLE(\"../../1-Trajectories/0-Parm_rst/closed6_dry_rot1.pdb\", endrad=5,\n",
    "                   sphpdb=\"./hole_open.sph\", sample=0.1, cvect=[0,0,-1], \n",
    "                   executable=\"/home/el14718/Software/hole2/exe/hole\") \n",
    "closed_xray.run()\n",
    "closed_xray.collect()\n",
    "closed_xray.create_vmd_surface(filename='hole_closed_xray.vmd')\n",
    "\n",
    "\n",
    "fig, ax = plt.subplots(figsize=(5,4))\n",
    "ax = open_xray.plot(linewidth=1, color=\"red\", label=False)\n",
    "ax = closed_xray.plot(linewidth=1, color=\"blue\", label=False)\n",
    "\n",
    "# ax.set_xlabel(r'RMSD to closed crystal structure ($\\AA$)')\n",
    "# ax.set_ylabel(r'RMSD to open crystal structure ($\\AA$)')\n",
    "\n",
    "# ax.set(xlim=(0,4.5) , ylim=(0, 4.5))\n",
    "\n",
    "# ax.set_xticks(np.arange(0, 5, 0.5))\n",
    "# ax.set_yticks(np.arange(0, 5, 0.5))\n",
    "\n",
    "# fig.savefig('./plots/1-With_IPA/2_initial_FES.png', dpi=600)"
   ]
  },
  {
   "cell_type": "code",
   "execution_count": null,
   "metadata": {},
   "outputs": [],
   "source": [
    "\n",
    "\n",
    "test = mda.Universe('./test.xtc',\\\n",
    "                  '../test.xtc')\n",
    "H_test = HOLEtraj(U_Hex2_1_holo , step=1, endrad=5, sample=0.1, cvect=[0,0,1], \\\n",
    "             executable=\"/home/el14718/Software/hole2/exe/hole\")  # set path to your hole binary\n",
    "H_test.run()\n",
    "H_test.collect()\n"
   ]
  },
  {
   "cell_type": "code",
   "execution_count": null,
   "metadata": {},
   "outputs": [],
   "source": [
    "%%time\n",
    "\n",
    "open_xray = HOLE(\"../1-Trajectories/0-Parm_rst/open10_dry.pdb\", endrad=5,\\\n",
    "                   sample=0.1, cvect=[0,0,1], executable=\"/home/el14718/el14718/SOFTWARE/hole2/exe/hole\") \n",
    "\n",
    "H_Hex2_1_xray.run()\n",
    "H_Hex2_1_xray.collect()\n",
    "\n",
    "\n",
    "U_Hex2_1_holo = mda.Universe('../4-CC-Hex2/2-MD/ccHex2_all_prod_dry_oriented_noDPH_site1.pdb',\\\n",
    "                  '../4-CC-Hex2/2-MD/ccHex2_all_prod_dry_oriented_noDPH_site1.dcd')\n",
    "alignment = align.AlignTraj(U_Hex2_1_holo, u, filename='../4-CC-Hex2/2-MD/tmp1.dcd')\n",
    "alignment.run()\n",
    "\n",
    "U_Hex2_1_holo = mda.Universe('../4-CC-Hex2/2-MD/tmp.pdb',\\\n",
    "                  '../4-CC-Hex2/2-MD/tmp1.dcd')\n",
    "H_Hex2_1_holo = HOLEtraj(U_Hex2_1_holo , step=100, endrad=5, sample=0.1, cvect=[0,0,1], \\\n",
    "             executable=\"/home/el14718/el14718/SOFTWARE/hole2/exe/hole\")  # set path to your hole binary\n",
    "H_Hex2_1_holo.run()\n",
    "\n",
    "\n",
    "\n",
    "U_Hex2_1_apo = mda.Universe('../4-CC-Hex2/3-MD_apo/ccHex2_all_prod_dry_oriented_centroid_bb_apo.pdb',\\\n",
    "                  '../4-CC-Hex2/3-MD_apo/ccHex2_all_prod_dry_oriented_apo.dcd')\n",
    "alignment = align.AlignTraj(U_Hex2_1_apo, u, filename='../4-CC-Hex2/3-MD_apo/tmp2.dcd')\n",
    "alignment.run()\n",
    "\n",
    "U_Hex2_1_apo = mda.Universe('../4-CC-Hex2/2-MD/tmp.pdb',\\\n",
    "                  '../4-CC-Hex2/3-MD_apo/tmp2.dcd')\n",
    "\n",
    "H_Hex2_1_apo = HOLEtraj(U_Hex2_1_apo , step=100, endrad=5, sample=0.1, cvect=[0,0,1], \\\n",
    "             executable=\"/home/el14718/el14718/SOFTWARE/hole2/exe/hole\")  # set path to your hole binary\n",
    "H_Hex2_1_apo.run()"
   ]
  }
 ],
 "metadata": {
  "kernelspec": {
   "display_name": "Python 3",
   "language": "python",
   "name": "python3"
  },
  "language_info": {
   "codemirror_mode": {
    "name": "ipython",
    "version": 3
   },
   "file_extension": ".py",
   "mimetype": "text/x-python",
   "name": "python",
   "nbconvert_exporter": "python",
   "pygments_lexer": "ipython3",
   "version": "3.7.6"
  },
  "toc": {
   "base_numbering": 1,
   "nav_menu": {},
   "number_sections": true,
   "sideBar": true,
   "skip_h1_title": false,
   "title_cell": "Table of Contents",
   "title_sidebar": "Contents",
   "toc_cell": false,
   "toc_position": {},
   "toc_section_display": true,
   "toc_window_display": false
  }
 },
 "nbformat": 4,
 "nbformat_minor": 4
}
