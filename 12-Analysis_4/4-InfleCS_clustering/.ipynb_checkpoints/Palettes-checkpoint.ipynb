{
 "cells": [
  {
   "cell_type": "code",
   "execution_count": 1,
   "metadata": {},
   "outputs": [],
   "source": [
    "import numpy as np\n",
    "import seaborn as sns\n",
    "import matplotlib.pyplot as plt\n",
    "# sns.set()"
   ]
  },
  {
   "cell_type": "code",
   "execution_count": 6,
   "metadata": {},
   "outputs": [
    {
     "data": {
      "image/png": "[encoded data removed]",
      "text/plain": [
       "<Figure size 1368x72 with 1 Axes>"
      ]
     },
     "metadata": {
      "needs_background": "light"
     },
     "output_type": "display_data"
    }
   ],
   "source": [
    "sns_cmap=sns.diverging_palette(240, 10, n=19)\n",
    "sns.palplot(sns_cmap)"
   ]
  },
  {
   "cell_type": "code",
   "execution_count": 3,
   "metadata": {},
   "outputs": [
    {
     "name": "stdout",
     "output_type": "stream",
     "text": [
      "[(0.2564697186166857, 0.4871591358142198, 0.657003695890986), (0.3328485085735005, 0.5401746927180968, 0.6928181254607496), (0.4092272985303153, 0.5931902496219739, 0.7286325550305134), (0.48823983986495134, 0.6480339291777087, 0.7656819649302689), (0.5646186298217661, 0.7010494860815857, 0.8014963945000326), (0.6462649225342232, 0.7577212882891784, 0.83978078472978), (0.7252774638688593, 0.8125649678449133, 0.8768301946295356), (0.8016562538256742, 0.8655805247487903, 0.9126446241992993), (0.88066879516031, 0.9204242043045252, 0.9496940340990548), (0.95, 0.95, 0.95), (0.9749710350367318, 0.8674365409754395, 0.8754654034897305), (0.9597262374584296, 0.7866939652406939, 0.79961309724851), (0.9449895997994041, 0.7086428086971065, 0.7262892012153304), (0.929744802221102, 0.6279002329623609, 0.65043689497411), (0.913991844723523, 0.5444662380364571, 0.5720561785248489), (0.8992552070644976, 0.4664150814928696, 0.49873228249166923), (0.8840104094861955, 0.38567250575812395, 0.4228799762504488), (0.86927377182717, 0.30762134921453654, 0.34955608021726914), (0.8545371341681446, 0.22957019267094914, 0.2762321841840895)]\n"
     ]
    }
   ],
   "source": [
    "print(sns_cmap)"
   ]
  },
  {
   "cell_type": "code",
   "execution_count": 9,
   "metadata": {},
   "outputs": [
    {
     "data": {
      "image/png": "[encoded data removed]",
      "text/plain": [
       "<Figure size 1368x72 with 1 Axes>"
      ]
     },
     "metadata": {
      "needs_background": "light"
     },
     "output_type": "display_data"
    }
   ],
   "source": [
    "sns_cmap=sns.diverging_palette(240, 10, n=19, l=50, s=80)\n",
    "sns.palplot(sns_cmap)"
   ]
  },
  {
   "cell_type": "code",
   "execution_count": null,
   "metadata": {},
   "outputs": [],
   "source": []
  }
 ],
 "metadata": {
  "kernelspec": {
   "display_name": "Python 3",
   "language": "python",
   "name": "python3"
  },
  "language_info": {
   "codemirror_mode": {
    "name": "ipython",
    "version": 3
   },
   "file_extension": ".py",
   "mimetype": "text/x-python",
   "name": "python",
   "nbconvert_exporter": "python",
   "pygments_lexer": "ipython3",
   "version": "3.7.6"
  },
  "toc": {
   "base_numbering": 1,
   "nav_menu": {},
   "number_sections": true,
   "sideBar": true,
   "skip_h1_title": false,
   "title_cell": "Table of Contents",
   "title_sidebar": "Contents",
   "toc_cell": false,
   "toc_position": {},
   "toc_section_display": true,
   "toc_window_display": false
  }
 },
 "nbformat": 4,
 "nbformat_minor": 4
}
