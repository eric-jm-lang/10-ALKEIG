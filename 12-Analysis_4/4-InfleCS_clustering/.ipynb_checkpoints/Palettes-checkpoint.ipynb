{
 "cells": [
  {
   "cell_type": "code",
   "execution_count": 1,
   "metadata": {},
   "outputs": [],
   "source": [
    "import numpy as np\n",
    "import seaborn as sns\n",
    "import matplotlib.pyplot as plt\n",
    "# sns.set()"
   ]
  },
  {
   "cell_type": "code",
   "execution_count": 2,
   "metadata": {},
   "outputs": [
    {
     "data": {
      "image/png": "[encoded data removed]",
      "text/plain": [
       "<Figure size 1368x72 with 1 Axes>"
      ]
     },
     "metadata": {
      "needs_background": "light"
     },
     "output_type": "display_data"
    }
   ],
   "source": [
    "sns_cmap=sns.diverging_palette(240, 10, n=19)\n",
    "sns.palplot(sns_cmap)"
   ]
  },
  {
   "cell_type": "code",
   "execution_count": 3,
   "metadata": {},
   "outputs": [
    {
     "name": "stdout",
     "output_type": "stream",
     "text": [
      "[(0.2564697186166857, 0.4871591358142198, 0.657003695890986), (0.3328485085735005, 0.5401746927180968, 0.6928181254607496), (0.4092272985303153, 0.5931902496219739, 0.7286325550305134), (0.48823983986495134, 0.6480339291777087, 0.7656819649302689), (0.5646186298217661, 0.7010494860815857, 0.8014963945000326), (0.6462649225342232, 0.7577212882891784, 0.83978078472978), (0.7252774638688593, 0.8125649678449133, 0.8768301946295356), (0.8016562538256742, 0.8655805247487903, 0.9126446241992993), (0.88066879516031, 0.9204242043045252, 0.9496940340990548), (0.95, 0.95, 0.95), (0.9749710350367318, 0.8674365409754395, 0.8754654034897305), (0.9597262374584296, 0.7866939652406939, 0.79961309724851), (0.9449895997994041, 0.7086428086971065, 0.7262892012153304), (0.929744802221102, 0.6279002329623609, 0.65043689497411), (0.913991844723523, 0.5444662380364571, 0.5720561785248489), (0.8992552070644976, 0.4664150814928696, 0.49873228249166923), (0.8840104094861955, 0.38567250575812395, 0.4228799762504488), (0.86927377182717, 0.30762134921453654, 0.34955608021726914), (0.8545371341681446, 0.22957019267094914, 0.2762321841840895)]\n"
     ]
    }
   ],
   "source": [
    "print(sns_cmap)"
   ]
  },
  {
   "cell_type": "code",
   "execution_count": 4,
   "metadata": {},
   "outputs": [
    {
     "data": {
      "image/png": "[encoded data removed]",
      "text/plain": [
       "<Figure size 1368x72 with 1 Axes>"
      ]
     },
     "metadata": {
      "needs_background": "light"
     },
     "output_type": "display_data"
    }
   ],
   "source": [
    "sns_cmap=sns.diverging_palette(240, 10, n=19, l=50, s=80)\n",
    "sns.palplot(sns_cmap)"
   ]
  },
  {
   "cell_type": "code",
   "execution_count": 17,
   "metadata": {},
   "outputs": [
    {
     "data": {
      "image/png": "[encoded data removed]",
      "text/plain": [
       "<Figure size 1512x72 with 1 Axes>"
      ]
     },
     "metadata": {
      "needs_background": "light"
     },
     "output_type": "display_data"
    }
   ],
   "source": [
    "diverging_colors = sns.color_palette(\"RdBu_r\", 21)\n",
    "sns.palplot(diverging_colors)"
   ]
  },
  {
   "cell_type": "code",
   "execution_count": 21,
   "metadata": {},
   "outputs": [
    {
     "data": {
      "text/plain": [
       "[(0.11864667435601696, 0.37923875432525955, 0.6456747404844292),\n",
       " (0.17385620915032685, 0.45882352941176474, 0.7045751633986929),\n",
       " (0.23660130718954256, 0.5418685121107267, 0.7470203767781622),\n",
       " (0.3477893118031528, 0.6302960399846214, 0.7937716262975779),\n",
       " (0.4814302191464823, 0.7148788927335641, 0.839446366782007),\n",
       " (0.6161476355247982, 0.7946943483275665, 0.883044982698962),\n",
       " (0.7324106113033451, 0.8537485582468283, 0.9162629757785468),\n",
       " (0.8312956555171089, 0.9035755478662054, 0.9433294886582084),\n",
       " (0.9014225297962323, 0.9367935409457901, 0.956247597078047),\n",
       " (0.9690888119953864, 0.9664744329104191, 0.9649365628604383),\n",
       " (0.9792387543252595, 0.9191080353710112, 0.8837370242214533),\n",
       " (0.9903114186851212, 0.867435601691657, 0.7951557093425605),\n",
       " (0.9797001153402538, 0.784083044982699, 0.6848904267589389),\n",
       " (0.9630911188004614, 0.6844290657439447, 0.5575547866205306),\n",
       " (0.9222606689734718, 0.5674740484429066, 0.44867358708189153),\n",
       " (0.8715109573241061, 0.4507497116493656, 0.3590157631680123),\n",
       " (0.8115340253748559, 0.32110726643598614, 0.27581699346405225),\n",
       " (0.7450980392156863, 0.18823529411764706, 0.21307189542483662)]"
      ]
     },
     "execution_count": 21,
     "metadata": {},
     "output_type": "execute_result"
    }
   ],
   "source": [
    "diverging_colors[1:-2]"
   ]
  },
  {
   "cell_type": "code",
   "execution_count": 22,
   "metadata": {},
   "outputs": [
    {
     "data": {
      "text/plain": [
       "[(0.06697424067666284, 0.27958477508650526, 0.5072664359861592),\n",
       " (0.11864667435601696, 0.37923875432525955, 0.6456747404844292),\n",
       " (0.17385620915032685, 0.45882352941176474, 0.7045751633986929),\n",
       " (0.23660130718954256, 0.5418685121107267, 0.7470203767781622),\n",
       " (0.3477893118031528, 0.6302960399846214, 0.7937716262975779),\n",
       " (0.4814302191464823, 0.7148788927335641, 0.839446366782007),\n",
       " (0.6161476355247982, 0.7946943483275665, 0.883044982698962),\n",
       " (0.7324106113033451, 0.8537485582468283, 0.9162629757785468),\n",
       " (0.8312956555171089, 0.9035755478662054, 0.9433294886582084),\n",
       " (0.9014225297962323, 0.9367935409457901, 0.956247597078047),\n",
       " (0.9690888119953864, 0.9664744329104191, 0.9649365628604383),\n",
       " (0.9792387543252595, 0.9191080353710112, 0.8837370242214533),\n",
       " (0.9903114186851212, 0.867435601691657, 0.7951557093425605),\n",
       " (0.9797001153402538, 0.784083044982699, 0.6848904267589389),\n",
       " (0.9630911188004614, 0.6844290657439447, 0.5575547866205306),\n",
       " (0.9222606689734718, 0.5674740484429066, 0.44867358708189153),\n",
       " (0.8715109573241061, 0.4507497116493656, 0.3590157631680123),\n",
       " (0.8115340253748559, 0.32110726643598614, 0.27581699346405225),\n",
       " (0.7450980392156863, 0.18823529411764706, 0.21307189542483662),\n",
       " (0.6692041522491349, 0.08489042675893888, 0.16401384083044984),\n",
       " (0.5307958477508654, 0.04059976931949261, 0.1418685121107267)]"
      ]
     },
     "execution_count": 22,
     "metadata": {},
     "output_type": "execute_result"
    }
   ],
   "source": [
    "diverging_colors"
   ]
  },
  {
   "cell_type": "code",
   "execution_count": 11,
   "metadata": {},
   "outputs": [
    {
     "data": {
      "image/png": "[encoded data removed]",
      "text/plain": [
       "<Figure size 864x72 with 1 Axes>"
      ]
     },
     "metadata": {
      "needs_background": "light"
     },
     "output_type": "display_data"
    }
   ],
   "source": [
    "sns.palplot(sns.color_palette(\"Paired\"))"
   ]
  },
  {
   "cell_type": "code",
   "execution_count": 12,
   "metadata": {},
   "outputs": [
    {
     "data": {
      "image/png": "[encoded data removed]",
      "text/plain": [
       "<Figure size 648x72 with 1 Axes>"
      ]
     },
     "metadata": {
      "needs_background": "light"
     },
     "output_type": "display_data"
    }
   ],
   "source": [
    "sns.palplot(sns.color_palette(\"Set1\"))"
   ]
  },
  {
   "cell_type": "code",
   "execution_count": 13,
   "metadata": {},
   "outputs": [
    {
     "data": {
      "image/png": "[encoded data removed]",
      "text/plain": [
       "<Figure size 576x72 with 1 Axes>"
      ]
     },
     "metadata": {
      "needs_background": "light"
     },
     "output_type": "display_data"
    }
   ],
   "source": [
    "sns.palplot(sns.color_palette(\"Set2\"))"
   ]
  },
  {
   "cell_type": "code",
   "execution_count": 14,
   "metadata": {},
   "outputs": [
    {
     "data": {
      "text/plain": [
       "[(0.6509803921568628, 0.807843137254902, 0.8901960784313725),\n",
       " (0.12156862745098039, 0.47058823529411764, 0.7058823529411765),\n",
       " (0.6980392156862745, 0.8745098039215686, 0.5411764705882353),\n",
       " (0.2, 0.6274509803921569, 0.17254901960784313),\n",
       " (0.984313725490196, 0.6039215686274509, 0.6),\n",
       " (0.8901960784313725, 0.10196078431372549, 0.10980392156862745),\n",
       " (0.9921568627450981, 0.7490196078431373, 0.43529411764705883),\n",
       " (1.0, 0.4980392156862745, 0.0),\n",
       " (0.792156862745098, 0.6980392156862745, 0.8392156862745098),\n",
       " (0.41568627450980394, 0.23921568627450981, 0.6039215686274509),\n",
       " (1.0, 1.0, 0.6),\n",
       " (0.6941176470588235, 0.34901960784313724, 0.1568627450980392)]"
      ]
     },
     "execution_count": 14,
     "metadata": {},
     "output_type": "execute_result"
    }
   ],
   "source": [
    "sns.color_palette(\"Paired\")"
   ]
  },
  {
   "cell_type": "code",
   "execution_count": null,
   "metadata": {},
   "outputs": [],
   "source": []
  }
 ],
 "metadata": {
  "kernelspec": {
   "display_name": "Python 3",
   "language": "python",
   "name": "python3"
  },
  "language_info": {
   "codemirror_mode": {
    "name": "ipython",
    "version": 3
   },
   "file_extension": ".py",
   "mimetype": "text/x-python",
   "name": "python",
   "nbconvert_exporter": "python",
   "pygments_lexer": "ipython3",
   "version": "3.7.6"
  },
  "toc": {
   "base_numbering": 1,
   "nav_menu": {},
   "number_sections": true,
   "sideBar": true,
   "skip_h1_title": false,
   "title_cell": "Table of Contents",
   "title_sidebar": "Contents",
   "toc_cell": false,
   "toc_position": {},
   "toc_section_display": true,
   "toc_window_display": false
  }
 },
 "nbformat": 4,
 "nbformat_minor": 4
}
