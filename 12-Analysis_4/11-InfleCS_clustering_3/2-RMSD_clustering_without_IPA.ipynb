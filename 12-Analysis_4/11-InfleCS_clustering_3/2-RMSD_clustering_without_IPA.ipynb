{
 "cells": [
  {
   "cell_type": "code",
   "execution_count": 2,
   "metadata": {},
   "outputs": [],
   "source": [
    "%matplotlib inline\n",
    "import matplotlib as mpl\n",
    "mpl.rc(\"font\", family=\"Arial\")\n",
    "import matplotlib.pyplot as plt\n",
    "from mpl_toolkits.axes_grid1 import make_axes_locatable\n",
    "from matplotlib.colors import ListedColormap, LinearSegmentedColormap\n",
    "from pylab import *\n",
    "\n",
    "import numpy as np\n",
    "import pandas as pd\n",
    "\n",
    "import pytraj as pt\n",
    "import mdtraj as md\n",
    "\n",
    "import pickle\n",
    "import os\n",
    "import sys\n",
    "\n",
    "from glob import glob\n",
    "\n",
    "import free_energy_clustering as FEC"
   ]
  },
  {
   "cell_type": "markdown",
   "metadata": {},
   "source": [
    "## References and trajectories"
   ]
  },
  {
   "cell_type": "code",
   "execution_count": 2,
   "metadata": {},
   "outputs": [],
   "source": [
    "rf0=pt.load('../1-Trajectories/0-Parm_rst/closed6_dry_rot0.rst7', \n",
    "            '../1-Trajectories/0-Parm_rst/closed6_dry_rot0.parm7')\n",
    "\n",
    "rf1=pt.load('../1-Trajectories/0-Parm_rst/closed6_dry_rot1.rst7', \n",
    "            '../1-Trajectories/0-Parm_rst/closed6_dry_rot1.parm7')\n",
    "\n",
    "rf2=pt.load('../1-Trajectories/0-Parm_rst//closed6_dry_rot2.rst7',\n",
    "            '../1-Trajectories/0-Parm_rst/closed6_dry_rot2.parm7')\n",
    "\n",
    "rf3=pt.load('../1-Trajectories/0-Parm_rst/closed6_dry_rot3.rst7', \n",
    "            '../1-Trajectories/0-Parm_rst/closed6_dry_rot3.parm7')\n",
    "\n",
    "rf4=pt.load('../1-Trajectories/0-Parm_rst/closed6_dry_rot4.rst7',\n",
    "            '../1-Trajectories/0-Parm_rst/closed6_dry_rot4.parm7')\n",
    "\n",
    "rf5=pt.load('../1-Trajectories/0-Parm_rst/closed6_dry_rot5.rst7', \n",
    "            '../1-Trajectories/0-Parm_rst/closed6_dry_rot5.parm7')\n",
    "\n",
    "rfopen=pt.load('../1-Trajectories/0-Parm_rst/open10_dry.rst7',\n",
    "               '../1-Trajectories/0-Parm_rst/open10_dry.parm7')"
   ]
  },
  {
   "cell_type": "code",
   "execution_count": 3,
   "metadata": {},
   "outputs": [
    {
     "data": {
      "text/plain": [
       "['../1-Trajectories/1-NoEq_without_IPA/closed_dry_01.nc',\n",
       " '../1-Trajectories/1-NoEq_without_IPA/closed_dry_02.nc',\n",
       " '../1-Trajectories/1-NoEq_without_IPA/closed_dry_03.nc',\n",
       " '../1-Trajectories/1-NoEq_without_IPA/closed_dry_04.nc',\n",
       " '../1-Trajectories/1-NoEq_without_IPA/closed_dry_05.nc',\n",
       " '../1-Trajectories/1-NoEq_without_IPA/closed_dry_06.nc',\n",
       " '../1-Trajectories/1-NoEq_without_IPA/closed_dry_07.nc',\n",
       " '../1-Trajectories/1-NoEq_without_IPA/closed_dry_08.nc',\n",
       " '../1-Trajectories/1-NoEq_without_IPA/closed_dry_09.nc',\n",
       " '../1-Trajectories/1-NoEq_without_IPA/closed_dry_10.nc',\n",
       " '../1-Trajectories/1-NoEq_without_IPA/open_dry_01.nc',\n",
       " '../1-Trajectories/1-NoEq_without_IPA/open_dry_02.nc',\n",
       " '../1-Trajectories/1-NoEq_without_IPA/open_dry_03.nc',\n",
       " '../1-Trajectories/1-NoEq_without_IPA/open_dry_04.nc',\n",
       " '../1-Trajectories/1-NoEq_without_IPA/open_dry_05.nc',\n",
       " '../1-Trajectories/1-NoEq_without_IPA/open_dry_06.nc',\n",
       " '../1-Trajectories/1-NoEq_without_IPA/open_dry_07.nc',\n",
       " '../1-Trajectories/1-NoEq_without_IPA/open_dry_08.nc',\n",
       " '../1-Trajectories/1-NoEq_without_IPA/open_dry_09.nc',\n",
       " '../1-Trajectories/1-NoEq_without_IPA/open_dry_10.nc']"
      ]
     },
     "execution_count": 3,
     "metadata": {},
     "output_type": "execute_result"
    }
   ],
   "source": [
    "indir1 = '../1-Trajectories/1-NoEq_without_IPA'\n",
    "# indir2 = '../1-Trajectories/4-Adaptive_sampling_with_IPA'\n",
    "topfile = '../1-Trajectories/0-Parm_rst/open10_dry.parm7'\n",
    "\n",
    "traj_list1 = sorted(glob(indir1+'/*.nc'))\n",
    "# traj_list2 = sorted(glob(indir2+'/*.nc'))\n",
    "\n",
    "traj_list=traj_list1# +traj_list2\n",
    "traj_list"
   ]
  },
  {
   "cell_type": "markdown",
   "metadata": {},
   "source": [
    "## GMM construction with limited dataset"
   ]
  },
  {
   "cell_type": "markdown",
   "metadata": {},
   "source": [
    "First the GMM is built using uncorrelated data. We assume the data to be uncorrelated for a frame every 500 ps (dt=5)"
   ]
  },
  {
   "cell_type": "markdown",
   "metadata": {},
   "source": [
    "The trajectory is therefore first loaded with a stride of 5"
   ]
  },
  {
   "cell_type": "code",
   "execution_count": 4,
   "metadata": {},
   "outputs": [],
   "source": [
    "traj = pt.iterload(traj_list, topfile, stride=5)"
   ]
  },
  {
   "cell_type": "markdown",
   "metadata": {},
   "source": [
    "The RMSD is then calculated. Because of the symmerty and chain IDs, 6 references are used for the closed form (simplky corresponding to a rotation of the chain IDs, and the minimum RMSD is retained"
   ]
  },
  {
   "cell_type": "code",
   "execution_count": 5,
   "metadata": {},
   "outputs": [],
   "source": [
    "rmsd0=pt.rmsd(traj,ref=rf0, mask=\"@CA,N,C,O\")\n",
    "rmsd1=pt.rmsd(traj,ref=rf1, mask=\"@CA,N,C,O\")\n",
    "rmsd2=pt.rmsd(traj,ref=rf2, mask=\"@CA,N,C,O\")\n",
    "rmsd3=pt.rmsd(traj,ref=rf3, mask=\"@CA,N,C,O\")\n",
    "rmsd4=pt.rmsd(traj,ref=rf4, mask=\"@CA,N,C,O\")\n",
    "rmsd5=pt.rmsd(traj,ref=rf5, mask=\"@CA,N,C,O\")\n",
    "\n",
    "rmsd_closed=np.nanmin(np.array([rmsd0,rmsd1,rmsd2,rmsd3,rmsd4,rmsd5]), axis=0)\n",
    "\n",
    "rmsd_open=pt.rmsd(traj,ref=rfopen, mask=\"@CA,N,C,O\")"
   ]
  },
  {
   "cell_type": "markdown",
   "metadata": {},
   "source": [
    "We construct a array Z with the RMSD to the closed form and to the open form for each frame of the reduced trajectory"
   ]
  },
  {
   "cell_type": "code",
   "execution_count": 6,
   "metadata": {},
   "outputs": [],
   "source": [
    "Z=[]\n",
    "for i in range(0,len(rmsd_open)):\n",
    "    a=np.array([rmsd_closed[i],rmsd_open[i]])\n",
    "    Z.append(a)\n",
    "Z=np.array(Z)"
   ]
  },
  {
   "cell_type": "code",
   "execution_count": 7,
   "metadata": {},
   "outputs": [],
   "source": [
    "with open('./pickled/2-Without_IPA/Z_dt5.pickle', 'wb') as outf:\n",
    "    pickle.dump(Z, outf)\n",
    "    \n",
    "# with open('./pickled/2-Without_IPA/Z_dt5.pickle', 'rb') as inf:\n",
    "#     Z = pickle.load(inf)"
   ]
  },
  {
   "cell_type": "markdown",
   "metadata": {},
   "source": [
    "We need to find the optimum number of components for constructing the GMM so we screen for a window of 2 to 20 components."
   ]
  },
  {
   "cell_type": "code",
   "execution_count": 10,
   "metadata": {},
   "outputs": [
    {
     "name": "stdout",
     "output_type": "stream",
     "text": [
      "*----------------Gaussian mixture model free energy estimator----------------*\n",
      "   n_splits = 1\n",
      "   shuffle_data = False\n",
      "   n_iterations = 5\n",
      "   n_grids = 151\n",
      "   covergence_tol = 0.0001\n",
      "   stack_landscapes = False\n",
      "   x_lims (axes limits) = [[0.0, 4.5], [0.0, 4.5]]\n",
      "   temperature = 293.15\n",
      "   min_n_components = 5\n",
      "   max_n_components = 25\n",
      "   n_components_step = 1\n",
      "   Using weighted data: False\n",
      "*----------------------------------------------------------------------------*\n",
      "Estimating density with GMM.\n",
      "# Components = 5\n",
      "# Components = 6\n",
      "# Components = 7\n",
      "# Components = 8\n",
      "# Components = 9\n",
      "# Components = 10\n",
      "# Components = 11\n",
      "# Components = 12\n",
      "# Components = 13\n",
      "# Components = 14\n",
      "# Components = 15\n",
      "# Components = 16\n",
      "# Components = 17\n",
      "# Components = 18\n",
      "# Components = 19\n",
      "# Components = 20\n",
      "# Components = 21\n",
      "# Components = 22\n",
      "# Components = 23\n",
      "# Components = 24\n",
      "# Components = 25\n",
      "Identifying final model with 11 components.\n",
      "Evaluating density in landscape\n",
      "Density grid shape: [151, 151]\n"
     ]
    }
   ],
   "source": [
    "fec = FEC.FreeEnergyClustering(Z, min_n_components=5, max_n_components=25, temperature=293.15,\n",
    "                               x_lims=[[0.0,4.5],[0.0,4.5]],\n",
    "                               n_iterations=5, n_grids=151, n_splits=1,stack_landscapes=False)\n",
    "coords, FE_landscape, FE_points = fec.landscape()"
   ]
  },
  {
   "cell_type": "markdown",
   "metadata": {},
   "source": [
    "The optimum number of components is 10, so we build and save a GMM with that many components"
   ]
  },
  {
   "cell_type": "code",
   "execution_count": 12,
   "metadata": {},
   "outputs": [
    {
     "name": "stdout",
     "output_type": "stream",
     "text": [
      "*----------------Gaussian mixture model free energy estimator----------------*\n",
      "   n_splits = 1\n",
      "   shuffle_data = False\n",
      "   n_iterations = 5\n",
      "   n_grids = 151\n",
      "   covergence_tol = 0.0001\n",
      "   stack_landscapes = False\n",
      "   x_lims (axes limits) = [[0.0, 4.5], [0.0, 4.5]]\n",
      "   temperature = 293.15\n",
      "   min_n_components = 10\n",
      "   max_n_components = 10\n",
      "   n_components_step = 1\n",
      "   Using weighted data: False\n",
      "*----------------------------------------------------------------------------*\n",
      "Estimating density with GMM.\n",
      "# Components = 10\n",
      "Identifying final model with 10 components.\n",
      "Evaluating density in landscape\n",
      "Density grid shape: [151, 151]\n"
     ]
    }
   ],
   "source": [
    "fec = FEC.FreeEnergyClustering(Z, min_n_components=10, max_n_components=10, temperature=293.15,\n",
    "                               x_lims=[[0.0,4.5],[0.0,4.5]],\n",
    "                               n_iterations=5, n_grids=151, n_splits=1,stack_landscapes=False)\n",
    "coords, FE_landscape, FE_points = fec.landscape()"
   ]
  },
  {
   "cell_type": "code",
   "execution_count": 9,
   "metadata": {},
   "outputs": [],
   "source": [
    "with open('./pickled/2-Without_IPA/coords_dt5.pickle', 'wb') as outf:\n",
    "    pickle.dump(coords, outf)\n",
    "with open('./pickled/2-Without_IPA/FE_landscape_dt5.pickle', 'wb') as outf:\n",
    "    pickle.dump(FE_landscape, outf)\n",
    "with open('./pickled/2-Without_IPA/FE_points_dt5.pickle', 'wb') as outf:\n",
    "    pickle.dump(FE_points, outf)\n",
    "    \n",
    "# with open('./pickled/2-Without_IPA/coords_dt5.pickle', 'rb') as inf:\n",
    "#     coords = pickle.load(inf)\n",
    "# with open('./pickled/2-Without_IPA/FE_landscape_dt5.pickle', 'rb') as inf:\n",
    "#     FE_landscape = pickle.load(inf)\n",
    "# with open('./pickled/2-Without_IPA/FE_points_dt5.pickle', 'rb') as inf:\n",
    "#     FE_points = pickle.load(inf)\n",
    "\n",
    "# fec.FE_points_ = np.copy(FE_landscape)\n",
    "# fec.FE_landscape_ = np.copy(FE_landscape)\n",
    "# fec.coords_ = coords   "
   ]
  },
  {
   "cell_type": "markdown",
   "metadata": {},
   "source": [
    "We can then plot the FES"
   ]
  },
  {
   "cell_type": "code",
   "execution_count": 10,
   "metadata": {},
   "outputs": [
    {
     "name": "stderr",
     "output_type": "stream",
     "text": [
      "/home/el14718/Modelling/10-ALKEIG/12-Analysis_4/11-InfleCS_clustering_3/free_energy_clustering/GMM_free_energy.py:537: MatplotlibDeprecationWarning: You are modifying the state of a globally registered colormap. In future versions, you will not be able to modify a registered colormap in-place. To remove this warning, you can make a copy of the colormap first. cmap = copy.copy(mpl.cm.get_cmap(\"nipy_spectral\"))\n",
      "  my_cmap.set_over('white')\n"
     ]
    },
    {
     "data": {
      "image/png": "[encoded data removed]",
      "text/plain": [
       "<Figure size 360x360 with 2 Axes>"
      ]
     },
     "metadata": {
      "needs_background": "light"
     },
     "output_type": "display_data"
    }
   ],
   "source": [
    "fec.visualize(fontsize=12, savefig=True, xlabel=r'RMSD to closed crystal structure ($\\AA$)',\n",
    "              ylabel=r'RMSD to open crystal structure ($\\AA$)', zlabel='z', title=None,\n",
    "              vmax=4.5, colormap='nipy_spectral', lim=0.1, n_contour_levels=99, show_data=False, \n",
    "              figsize= [5, 5], transition_point_size=1, core_point_size=5, core_point_edgecolor='k', \n",
    "              colormap2='spectral',clust_point_edgecolor='w', clust_point_facecolor='', \n",
    "              clust_point_size=5, clust_point_linewidth=4, clust_point_marker='s',legend=None,\n",
    "              extend='max', rmsd_point_size=40, rmsd_point_fontsize=10,rmsd_point_color='k', dx=1,\n",
    "              filename='./plots/2-Without_IPA/1-FES_with_IPA_dt5', ax=None)"
   ]
  },
  {
   "cell_type": "markdown",
   "metadata": {},
   "source": [
    "## Clustering for the limited dataset"
   ]
  },
  {
   "cell_type": "code",
   "execution_count": 13,
   "metadata": {},
   "outputs": [
    {
     "name": "stdout",
     "output_type": "stream",
     "text": [
      "Clustering free energy landscape...\n",
      "Computing Hessians of density landscape.\n",
      "Point: 22801/22801\n",
      "Constructing connected components.\n",
      "# Graph connections: 9540.0\n",
      "Clustering data points.\n",
      "Cluster labels: [0. 1. 2. 3. 4. 5. 6.]\n",
      "Assigning cluster indices to non-core cluster points.\n",
      "Done clustering.\n",
      "Cluster center indices: [106142  99024  97665 101741  31975  38432]\n"
     ]
    }
   ],
   "source": [
    "labels, cluster_centers = fec.cluster(coords, FE_points,Z, assign_transition_points=True)\n",
    "print(\"Cluster center indices: \"+str(cluster_centers))"
   ]
  },
  {
   "cell_type": "code",
   "execution_count": 15,
   "metadata": {},
   "outputs": [],
   "source": [
    "with open('./pickled/2-Without_IPA/labels_dt5.pickle', 'wb') as outf:\n",
    "    pickle.dump(labels, outf)\n",
    "with open('./pickled/2-Without_IPA/cluster_centers_dt5.pickle', 'wb') as outf:\n",
    "    pickle.dump(cluster_centers, outf)\n",
    "    \n",
    "# with open('./pickled/2-Without_IPA/labels_dt5.pickle', 'rb') as inf:\n",
    "#     labels=pickle.load(inf)\n",
    "# with open('./pickled/2-Without_IPA/cluster_centers_dt5.pickle', 'rb') as inf:\n",
    "#     cluster_centers=pickle.load(inf)\n",
    "    \n",
    "# fec.labels_ = np.copy(labels)\n",
    "# fec.cluster_centers_ = np.copy(cluster_centers)"
   ]
  },
  {
   "cell_type": "code",
   "execution_count": 14,
   "metadata": {},
   "outputs": [
    {
     "name": "stderr",
     "output_type": "stream",
     "text": [
      "/mnt/storage/scratch/el14718/10-ALKEIG/12-Analysis_4/11-InfleCS_clustering_3/free_energy_clustering/GMM_free_energy.py:537: MatplotlibDeprecationWarning: You are modifying the state of a globally registered colormap. In future versions, you will not be able to modify a registered colormap in-place. To remove this warning, you can make a copy of the colormap first. cmap = copy.copy(mpl.cm.get_cmap(\"nipy_spectral\"))\n",
      "  my_cmap.set_over('white')\n"
     ]
    },
    {
     "data": {
      "image/png": "[encoded data removed]",
      "text/plain": [
       "<Figure size 360x360 with 2 Axes>"
      ]
     },
     "metadata": {
      "needs_background": "light"
     },
     "output_type": "display_data"
    }
   ],
   "source": [
    "fec.pathways_ = None\n",
    "fec.visualize(fontsize=12, savefig=True, xlabel=r'RMSD to closed crystal structure ($\\AA$)',\n",
    "              ylabel=r'RMSD to open crystal structure ($\\AA$)', zlabel='z', title=None,\n",
    "              vmax=4.25, colormap='nipy_spectral', lim=0.1, n_contour_levels=100, show_data=True, \n",
    "              figsize= [5, 5], transition_point_size=0, core_point_size=0.05, core_point_edgecolor=None, \n",
    "              colormap2='viridis',clust_point_edgecolor=None, clust_point_facecolor='k', \n",
    "              clust_point_size=30, clust_point_linewidth=0, clust_point_marker='o',legend=None,\n",
    "              extend='neither', rmsd_point_size=40, rmsd_point_fontsize=10, dx=1,\n",
    "              core_point_alpha=0.8, transition_point_alpha=0.0, surface_alpha=0.0,\n",
    "              filename='./plots/2-Without_IPA/2-Cluster_map_with_IPA_dt5.png', ax=None)"
   ]
  },
  {
   "cell_type": "code",
   "execution_count": 10,
   "metadata": {},
   "outputs": [
    {
     "name": "stderr",
     "output_type": "stream",
     "text": [
      "/home/el14718/Modelling/10-ALKEIG/12-Analysis_4/11-InfleCS_clustering_3/free_energy_clustering/GMM_free_energy.py:537: MatplotlibDeprecationWarning: You are modifying the state of a globally registered colormap. In future versions, you will not be able to modify a registered colormap in-place. To remove this warning, you can make a copy of the colormap first. cmap = copy.copy(mpl.cm.get_cmap(\"nipy_spectral\"))\n",
      "  my_cmap.set_over('white')\n"
     ]
    },
    {
     "data": {
      "image/png": "[encoded data removed]",
      "text/plain": [
       "<Figure size 360x360 with 2 Axes>"
      ]
     },
     "metadata": {
      "needs_background": "light"
     },
     "output_type": "display_data"
    }
   ],
   "source": [
    "fec.visualize(fontsize=12, savefig=True, xlabel=r'RMSD to closed crystal structure ($\\AA$)',\n",
    "              ylabel=r'RMSD to open crystal structure ($\\AA$)', zlabel='z', title=None,\n",
    "              vmax=4.25, colormap='nipy_spectral', lim=0.1, n_contour_levels=100, show_data=True, \n",
    "              figsize= [5, 5], transition_point_size=0, core_point_size=0.0, core_point_edgecolor='k', \n",
    "              colormap2='jet',clust_point_edgecolor='k', clust_point_facecolor='w', \n",
    "              clust_point_size=30, clust_point_linewidth=0, clust_point_marker='o',legend=None,\n",
    "              extend='neither', rmsd_point_size=40, rmsd_point_fontsize=10, dx=1,\n",
    "              core_point_alpha=0.8, transition_point_alpha=0.0, surface_alpha=1,\n",
    "              filename='./plots/2-Without_IPA/3-FES_with_IPA_with_cluster_centres_dt5.png', ax=None)"
   ]
  },
  {
   "cell_type": "code",
   "execution_count": 22,
   "metadata": {},
   "outputs": [
    {
     "name": "stdout",
     "output_type": "stream",
     "text": [
      "Sampling points from density.\n",
      "Assigning cluster labels based on precomputed density model clustering.\n",
      "Computing state populations.\n"
     ]
    },
    {
     "data": {
      "text/plain": [
       "array([1.44183135, 5.84789591, 0.52860798, 0.        , 0.17066797,\n",
       "       0.5386793 , 1.47231749])"
      ]
     },
     "execution_count": 22,
     "metadata": {},
     "output_type": "execute_result"
    }
   ],
   "source": [
    "# Computing state populations\n",
    "state_populations = fec.population_states(n_sampled_points=100000)\n",
    "state_populations"
   ]
  },
  {
   "cell_type": "code",
   "execution_count": 23,
   "metadata": {},
   "outputs": [
    {
     "data": {
      "text/plain": [
       "array([14.41831346, 58.47895912,  5.28607981,  0.        ,  1.70667973,\n",
       "        5.38679297, 14.72317491])"
      ]
     },
     "execution_count": 23,
     "metadata": {},
     "output_type": "execute_result"
    }
   ],
   "source": [
    "state_populations*100"
   ]
  },
  {
   "cell_type": "markdown",
   "metadata": {},
   "source": [
    "## Assigning clusters to the full dataset"
   ]
  },
  {
   "cell_type": "markdown",
   "metadata": {},
   "source": [
    "The trajectory is therefore first loaded with a stride of 1"
   ]
  },
  {
   "cell_type": "code",
   "execution_count": 16,
   "metadata": {},
   "outputs": [],
   "source": [
    "traj_all = pt.iterload(traj_list, topfile, stride=1)"
   ]
  },
  {
   "cell_type": "markdown",
   "metadata": {},
   "source": [
    "The RMSD is calculated and the Z array constructed"
   ]
  },
  {
   "cell_type": "code",
   "execution_count": 17,
   "metadata": {},
   "outputs": [],
   "source": [
    "rmsd0=pt.rmsd(traj_all,ref=rf0, mask=\"@CA,N,C,O\")\n",
    "rmsd1=pt.rmsd(traj_all,ref=rf1, mask=\"@CA,N,C,O\")\n",
    "rmsd2=pt.rmsd(traj_all,ref=rf2, mask=\"@CA,N,C,O\")\n",
    "rmsd3=pt.rmsd(traj_all,ref=rf3, mask=\"@CA,N,C,O\")\n",
    "rmsd4=pt.rmsd(traj_all,ref=rf4, mask=\"@CA,N,C,O\")\n",
    "rmsd5=pt.rmsd(traj_all,ref=rf5, mask=\"@CA,N,C,O\")\n",
    "\n",
    "rmsd_closed_all=np.nanmin(np.array([rmsd0,rmsd1,rmsd2,rmsd3,rmsd4,rmsd5]), axis=0)\n",
    "\n",
    "rmsd_open_all=pt.rmsd(traj_all,ref=rfopen, mask=\"@CA,N,C,O\")"
   ]
  },
  {
   "cell_type": "code",
   "execution_count": 18,
   "metadata": {},
   "outputs": [],
   "source": [
    "Z_all=[]\n",
    "for i in range(0,len(rmsd_open_all)):\n",
    "    a=np.array([rmsd_closed_all[i],rmsd_open_all[i]])\n",
    "    Z_all.append(a)\n",
    "Z_all=np.array(Z_all)"
   ]
  },
  {
   "cell_type": "code",
   "execution_count": 19,
   "metadata": {},
   "outputs": [],
   "source": [
    "with open('./pickled/2-Without_IPA/Z_dt1.pickle', 'wb') as outf:\n",
    "    pickle.dump(Z_all, outf)\n",
    "    \n",
    "# with open('./pickled/2-Without_IPA/Z_dt1.pickle', 'rb') as inf:\n",
    "#     Z_all = pickle.load(inf)"
   ]
  },
  {
   "cell_type": "markdown",
   "metadata": {},
   "source": [
    "Then we can assign all the points to the pre-computed clusters"
   ]
  },
  {
   "cell_type": "code",
   "execution_count": 20,
   "metadata": {},
   "outputs": [
    {
     "name": "stdout",
     "output_type": "stream",
     "text": [
      "Assigning cluster labels based on precomputed density model clustering.\n",
      "Assigning cluster indices to non-core cluster points.\n"
     ]
    }
   ],
   "source": [
    "labels_all = fec.evaluate_clustering(Z_all, assign_transition_points=True)"
   ]
  },
  {
   "cell_type": "code",
   "execution_count": 21,
   "metadata": {},
   "outputs": [],
   "source": [
    "with open('./pickled/2-Without_IPA/labels_all.pickle', 'wb') as outf:\n",
    "    pickle.dump(labels_all, outf)\n",
    "\n",
    "# with open('./pickled/2-Without_IPA/labels_all.pickle', 'rb') as inf:\n",
    "#     labels_all=pickle.load(inf)\n",
    "\n",
    "    \n",
    "# fec.labels_ = np.copy(labels_all)\n"
   ]
  },
  {
   "cell_type": "code",
   "execution_count": 26,
   "metadata": {},
   "outputs": [],
   "source": [
    "fec.labels_ = np.copy(labels_all)"
   ]
  },
  {
   "cell_type": "code",
   "execution_count": 1,
   "metadata": {
    "scrolled": true
   },
   "outputs": [
    {
     "ename": "NameError",
     "evalue": "name 'fec' is not defined",
     "output_type": "error",
     "traceback": [
      "\u001b[0;31m---------------------------------------------------------------------------\u001b[0m",
      "\u001b[0;31mNameError\u001b[0m                                 Traceback (most recent call last)",
      "\u001b[0;32m<ipython-input-1-a6a4d00e8259>\u001b[0m in \u001b[0;36m<module>\u001b[0;34m\u001b[0m\n\u001b[1;32m      1\u001b[0m \u001b[0;31m# Computing state populations\u001b[0m\u001b[0;34m\u001b[0m\u001b[0;34m\u001b[0m\u001b[0;34m\u001b[0m\u001b[0m\n\u001b[0;32m----> 2\u001b[0;31m \u001b[0mstate_populations\u001b[0m \u001b[0;34m=\u001b[0m \u001b[0mfec\u001b[0m\u001b[0;34m.\u001b[0m\u001b[0mpopulation_states\u001b[0m\u001b[0;34m(\u001b[0m\u001b[0mn_sampled_points\u001b[0m\u001b[0;34m=\u001b[0m\u001b[0;36m100000\u001b[0m\u001b[0;34m)\u001b[0m\u001b[0;34m\u001b[0m\u001b[0;34m\u001b[0m\u001b[0m\n\u001b[0m\u001b[1;32m      3\u001b[0m \u001b[0mstate_populations\u001b[0m\u001b[0;34m*\u001b[0m\u001b[0;36m100\u001b[0m\u001b[0;34m\u001b[0m\u001b[0;34m\u001b[0m\u001b[0m\n",
      "\u001b[0;31mNameError\u001b[0m: name 'fec' is not defined"
     ]
    }
   ],
   "source": [
    "# Computing state populations\n",
    "state_populations = fec.population_states(n_sampled_points=100000)\n",
    "state_populations*100"
   ]
  },
  {
   "cell_type": "code",
   "execution_count": null,
   "metadata": {},
   "outputs": [],
   "source": []
  }
 ],
 "metadata": {
  "kernelspec": {
   "display_name": "Python 3",
   "language": "python",
   "name": "python3"
  },
  "language_info": {
   "codemirror_mode": {
    "name": "ipython",
    "version": 3
   },
   "file_extension": ".py",
   "mimetype": "text/x-python",
   "name": "python",
   "nbconvert_exporter": "python",
   "pygments_lexer": "ipython3",
   "version": "3.7.8"
  },
  "toc": {
   "base_numbering": 1,
   "nav_menu": {},
   "number_sections": true,
   "sideBar": true,
   "skip_h1_title": false,
   "title_cell": "Table of Contents",
   "title_sidebar": "Contents",
   "toc_cell": false,
   "toc_position": {},
   "toc_section_display": true,
   "toc_window_display": false
  }
 },
 "nbformat": 4,
 "nbformat_minor": 4
}
