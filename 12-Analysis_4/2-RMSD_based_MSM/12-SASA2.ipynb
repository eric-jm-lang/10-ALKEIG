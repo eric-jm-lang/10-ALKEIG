{
 "cells": [
  {
   "cell_type": "code",
   "execution_count": 1,
   "metadata": {},
   "outputs": [],
   "source": [
    "%matplotlib inline\n",
    "import matplotlib as mpl\n",
    "mpl.rc(\"font\", family=\"Arial\")\n",
    "import matplotlib.pyplot as plt\n",
    "from mpl_toolkits.axes_grid1 import make_axes_locatable\n",
    "from matplotlib.colors import ListedColormap, LinearSegmentedColormap\n",
    "from pylab import *\n",
    "\n",
    "import numpy as np\n",
    "import pyemma\n",
    "import pytraj as pt\n",
    "import mdtraj as md\n",
    "\n",
    "import pickle\n",
    "import seaborn as sns\n",
    "from itertools import product\n",
    "from pandas import DataFrame\n",
    "\n",
    "from itertools import cycle\n",
    "import pandas as pd\n",
    "from os.path import join\n",
    "from collections import OrderedDict\n",
    "\n",
    "from pyemma.util.contexts import settings\n",
    "from glob import glob"
   ]
  },
  {
   "cell_type": "code",
   "execution_count": null,
   "metadata": {},
   "outputs": [],
   "source": []
  },
  {
   "cell_type": "code",
   "execution_count": 2,
   "metadata": {},
   "outputs": [],
   "source": [
    "t = md.load('./sample_structures/2-Without_IPA/4-MSM_1000_samples_per_ref/pcca6_ref0.xtc', \n",
    "            top='../1-Trajectories/0-Parm_rst/open10_dry.parm7')"
   ]
  },
  {
   "cell_type": "code",
   "execution_count": null,
   "metadata": {},
   "outputs": [],
   "source": []
  },
  {
   "cell_type": "code",
   "execution_count": 33,
   "metadata": {},
   "outputs": [
    {
     "name": "stdout",
     "output_type": "stream",
     "text": [
      "How many residues? 192\n",
      "Ala 13 residue: ALA13\n",
      "Ala 13 residue: ALA45\n",
      "Ala 13 residue: ALA77\n",
      "Ala 13 residue: ALA109\n",
      "Ala 13 residue: ALA141\n",
      "Ala 13 residue: ALA173\n"
     ]
    }
   ],
   "source": [
    "print('How many residues? %s' % t.n_residues)\n",
    "for i in [13,45,77,109,141,173]:\n",
    "    print('Ala 13 residue: %s' % t.topology.residue(i))"
   ]
  },
  {
   "cell_type": "code",
   "execution_count": 34,
   "metadata": {},
   "outputs": [
    {
     "name": "stdout",
     "output_type": "stream",
     "text": [
      "[atom.index for atom in topology.atoms if (atom.name == 'CB' and atom.residue.index in [13, 45, 77, 109, 141, 173])]\n"
     ]
    }
   ],
   "source": [
    "selection = t.topology.select_expression('name CB and resid 13 45 77 109 141 173')\n",
    "print(selection)"
   ]
  },
  {
   "cell_type": "code",
   "execution_count": 35,
   "metadata": {},
   "outputs": [
    {
     "data": {
      "text/plain": [
       "[189, 657, 1125, 1593, 2061, 2529]"
      ]
     },
     "execution_count": 35,
     "metadata": {},
     "output_type": "execute_result"
    }
   ],
   "source": [
    "[atom.index for atom in t.topology.atoms if (atom.name == 'CB' and atom.residue.index in [13, 45, 77, 109, 141, 173])]"
   ]
  },
  {
   "cell_type": "code",
   "execution_count": 16,
   "metadata": {},
   "outputs": [
    {
     "data": {
      "text/plain": [
       "['./sample_structures/2-Without_IPA/4-MSM_1000_samples_per_ref/pcca1_ref0.xtc',\n",
       " './sample_structures/2-Without_IPA/4-MSM_1000_samples_per_ref/pcca2_ref0.xtc',\n",
       " './sample_structures/2-Without_IPA/4-MSM_1000_samples_per_ref/pcca3_ref0.xtc',\n",
       " './sample_structures/2-Without_IPA/4-MSM_1000_samples_per_ref/pcca4_ref0.xtc',\n",
       " './sample_structures/2-Without_IPA/4-MSM_1000_samples_per_ref/pcca5_ref0.xtc',\n",
       " './sample_structures/2-Without_IPA/4-MSM_1000_samples_per_ref/pcca6_ref0.xtc']"
      ]
     },
     "execution_count": 16,
     "metadata": {},
     "output_type": "execute_result"
    }
   ],
   "source": [
    "traj_list=sorted(glob(\"./sample_structures/2-Without_IPA/4-MSM_1000_samples_per_ref/pcca*_ref0.xtc\"))\n",
    "traj_list"
   ]
  },
  {
   "cell_type": "markdown",
   "metadata": {},
   "source": [
    "## Loading data"
   ]
  },
  {
   "cell_type": "code",
   "execution_count": null,
   "metadata": {},
   "outputs": [],
   "source": [
    "sasa_all=[]\n",
    "traj_list=sorted(glob(\"./sample_structures/2-Without_IPA/4-MSM_1000_samples_per_ref/pcca*_ref0.xtc\"))\n",
    "for t in traj_list:\n",
    "    traj = md.load(t, top='../1-Trajectories/0-Parm_rst/open10_dry.parm7')\n",
    "\n",
    "        \n",
    "    sasa=md.shrake_rupley(traj, probe_radius=0.14, n_sphere_points=960, mode='residue', \n",
    "                         change_radii=None, get_mapping=False)\n",
    "    sasa_all.append(sasa)\n"
   ]
  },
  {
   "cell_type": "code",
   "execution_count": null,
   "metadata": {},
   "outputs": [],
   "source": [
    "for i in [13,45,77,109,141,173]:\n",
    "    print(np.mean(sasa_all[1][:,i]), np.std(sasa_all[1][:,i]))"
   ]
  },
  {
   "cell_type": "code",
   "execution_count": null,
   "metadata": {},
   "outputs": [],
   "source": []
  },
  {
   "cell_type": "code",
   "execution_count": 6,
   "metadata": {},
   "outputs": [
    {
     "name": "stdout",
     "output_type": "stream",
     "text": [
      "PCCA 1 \n",
      "\n",
      "0.0055112825 0.035875753\n",
      "0.0007394868 0.0035714982\n",
      "0.12836124 0.09410487\n",
      "0.14403342 0.060615297\n",
      "0.017749367 0.041385178\n",
      "0.031144068 0.05271551\n",
      "\n",
      "\n",
      "PCCA 2 \n",
      "\n",
      "0.0059987647 0.03826978\n",
      "0.0008029152 0.0032321205\n",
      "0.07785045 0.08841157\n",
      "0.14248718 0.06557926\n",
      "0.035164386 0.08725291\n",
      "0.03514605 0.04570259\n",
      "\n",
      "\n",
      "PCCA 3 \n",
      "\n",
      "0.015869142 0.0703077\n",
      "0.00078479317 0.003242416\n",
      "0.037611566 0.07025408\n",
      "0.19739765 0.11793168\n",
      "0.07363216 0.12514457\n",
      "0.040208515 0.05802555\n",
      "\n",
      "\n",
      "PCCA 4 \n",
      "\n",
      "0.15453957 0.17373762\n",
      "0.0024938695 0.006093023\n",
      "0.03132605 0.04896918\n",
      "0.029415386 0.06418277\n",
      "0.2820518 0.10594648\n",
      "0.013454418 0.024516035\n",
      "\n",
      "\n",
      "PCCA 5 \n",
      "\n",
      "0.14725007 0.16453454\n",
      "0.0036073818 0.008073251\n",
      "0.03161399 0.0505406\n",
      "0.14945981 0.1533722\n",
      "0.18323784 0.17153387\n",
      "0.008590511 0.020339163\n",
      "\n",
      "\n",
      "PCCA 6 \n",
      "\n",
      "0.036990352 0.10394108\n",
      "0.0018330234 0.0054312362\n",
      "0.044606876 0.05675322\n",
      "0.03944332 0.08440136\n",
      "0.30528477 0.109655604\n",
      "0.007829415 0.015648723\n",
      "\n",
      "\n"
     ]
    }
   ],
   "source": [
    "for s in range(0,6):\n",
    "    print('PCCA',s+1,'\\n')\n",
    "    for i in [13,45,77,109,141,173]:\n",
    "        print(np.mean(sasa_all[s][:,i]), np.std(sasa_all[s][:,i]))\n",
    "    print('\\n')"
   ]
  },
  {
   "cell_type": "markdown",
   "metadata": {},
   "source": [
    "# SASA calculated using Amber `surf` command"
   ]
  },
  {
   "cell_type": "markdown",
   "metadata": {},
   "source": [
    "## From crystal Structure"
   ]
  },
  {
   "cell_type": "code",
   "execution_count": 2,
   "metadata": {},
   "outputs": [
    {
     "data": {
      "text/plain": [
       "[array([3.37796071]),\n",
       " array([10.468972]),\n",
       " array([4.83080351]),\n",
       " array([10.39704819]),\n",
       " array([4.28204619]),\n",
       " array([2.95710921])]"
      ]
     },
     "execution_count": 2,
     "metadata": {},
     "output_type": "execute_result"
    }
   ],
   "source": [
    "traj_open = pt.iterload('../1-Trajectories/0-Parm_rst/open10_dry.rst7', \n",
    "                        '../1-Trajectories/0-Parm_rst/open10_dry.parm7')\n",
    "\n",
    "sasa_open_all=[pt.surf(traj_open, ':46@CB'), \n",
    "               pt.surf(traj_open, ':78@CB'), \n",
    "               pt.surf(traj_open, ':110@CB'), \n",
    "               pt.surf(traj_open, ':142@CB'), \n",
    "               pt.surf(traj_open, ':174@CB'), \n",
    "               pt.surf(traj_open, ':14@CB')]\n",
    "\n",
    "sasa_open_all"
   ]
  },
  {
   "cell_type": "code",
   "execution_count": 3,
   "metadata": {},
   "outputs": [
    {
     "data": {
      "text/plain": [
       "[array([4.58195891]),\n",
       " array([7.76625221]),\n",
       " array([20.33505007]),\n",
       " array([4.41514841]),\n",
       " array([6.47253504]),\n",
       " array([5.51322351])]"
      ]
     },
     "execution_count": 3,
     "metadata": {},
     "output_type": "execute_result"
    }
   ],
   "source": [
    "traj_closed = pt.iterload('../1-Trajectories/0-Parm_rst/closed6_dry_rot0.rst7', \n",
    "                          '../1-Trajectories/0-Parm_rst/closed6_dry_rot0.parm7')\n",
    "\n",
    "sasa_closed_all=[pt.surf(traj_closed , ':46@CB'), \n",
    "                 pt.surf(traj_closed , ':78@CB'),\n",
    "                 pt.surf(traj_closed , ':110@CB'),\n",
    "                 pt.surf(traj_closed , ':142@CB'),\n",
    "                 pt.surf(traj_closed , ':174@CB'),\n",
    "                 pt.surf(traj_closed , ':14@CB')]\n",
    "\n",
    "sasa_closed_all"
   ]
  },
  {
   "cell_type": "markdown",
   "metadata": {},
   "source": [
    "## Without IPA"
   ]
  },
  {
   "cell_type": "code",
   "execution_count": 12,
   "metadata": {},
   "outputs": [],
   "source": [
    "sasa_1=[]\n",
    "sasa_2=[]\n",
    "sasa_3=[]\n",
    "sasa_4=[]\n",
    "sasa_5=[]\n",
    "sasa_6=[]\n",
    "\n",
    "traj_list=sorted(glob(\"./sample_structures/2-Without_IPA/5-MSM_10000_samples_per_ref/pcca*_ref0.xtc\"))\n",
    "\n",
    "for t in traj_list:\n",
    "    traj = pt.iterload(t, \"../1-Trajectories/0-Parm_rst/closed6_dry_rot0.parm7\", stride=1)\n",
    "    sasa_6.append(pt.surf(traj, ':14@CB'))\n",
    "    sasa_1.append(pt.surf(traj, ':46@CB'))\n",
    "    sasa_2.append(pt.surf(traj, ':78@CB'))\n",
    "    sasa_3.append(pt.surf(traj, ':110@CB'))\n",
    "    sasa_4.append(pt.surf(traj, ':142@CB'))\n",
    "    sasa_5.append(pt.surf(traj, ':174@CB'))\n",
    "\n",
    "\n",
    "###\n",
    "\n",
    "traj_list=sorted(glob(\"./sample_structures/2-Without_IPA/5-MSM_10000_samples_per_ref/pcca*_ref1.xtc\"))\n",
    "count=0\n",
    "for t in traj_list:\n",
    "    traj = pt.iterload(t, \"../1-Trajectories/0-Parm_rst/closed6_dry_rot1.parm7\", stride=1)\n",
    "    sasa_5[count]=np.append(sasa_5[count], pt.surf(traj, ':14@CB'))\n",
    "    sasa_6[count]=np.append(sasa_6[count], pt.surf(traj, ':46@CB'))\n",
    "    sasa_1[count]=np.append(sasa_1[count], pt.surf(traj, ':78@CB'))\n",
    "    sasa_2[count]=np.append(sasa_2[count], pt.surf(traj, ':110@CB'))\n",
    "    sasa_3[count]=np.append(sasa_3[count], pt.surf(traj, ':142@CB'))\n",
    "    sasa_4[count]=np.append(sasa_4[count], pt.surf(traj, ':174@CB'))\n",
    "    count+=1\n",
    "\n",
    "###\n",
    "\n",
    "traj_list=sorted(glob(\"./sample_structures/2-Without_IPA/5-MSM_10000_samples_per_ref/pcca*_ref2.xtc\"))\n",
    "count=0\n",
    "for t in traj_list:\n",
    "    traj = pt.iterload(t, \"../1-Trajectories/0-Parm_rst/closed6_dry_rot2.parm7\", stride=1)\n",
    "    sasa_4[count]=np.append(sasa_4[count], pt.surf(traj, ':14@CB'))\n",
    "    sasa_5[count]=np.append(sasa_5[count], pt.surf(traj, ':46@CB'))\n",
    "    sasa_6[count]=np.append(sasa_6[count], pt.surf(traj, ':78@CB'))\n",
    "    sasa_1[count]=np.append(sasa_1[count], pt.surf(traj, ':110@CB'))\n",
    "    sasa_2[count]=np.append(sasa_2[count], pt.surf(traj, ':142@CB'))\n",
    "    sasa_3[count]=np.append(sasa_3[count], pt.surf(traj, ':174@CB'))\n",
    "    count+=1\n",
    "\n",
    "###\n",
    "\n",
    "traj_list=sorted(glob(\"./sample_structures/2-Without_IPA/5-MSM_10000_samples_per_ref/pcca*_ref3.xtc\"))\n",
    "count=0\n",
    "for t in traj_list:\n",
    "    traj = pt.iterload(t, \"../1-Trajectories/0-Parm_rst/closed6_dry_rot3.parm7\", stride=1)\n",
    "    sasa_3[count]=np.append(sasa_3[count], pt.surf(traj, ':14@CB'))\n",
    "    sasa_4[count]=np.append(sasa_4[count], pt.surf(traj, ':46@CB'))\n",
    "    sasa_5[count]=np.append(sasa_5[count], pt.surf(traj, ':78@CB'))\n",
    "    sasa_6[count]=np.append(sasa_6[count], pt.surf(traj, ':110@CB'))\n",
    "    sasa_1[count]=np.append(sasa_1[count], pt.surf(traj, ':142@CB'))\n",
    "    sasa_2[count]=np.append(sasa_2[count], pt.surf(traj, ':174@CB'))\n",
    "    count+=1\n",
    "\n",
    "\n",
    "###\n",
    "\n",
    "traj_list=sorted(glob(\"./sample_structures/2-Without_IPA/5-MSM_10000_samples_per_ref/pcca*_ref4.xtc\"))\n",
    "count=0\n",
    "for t in traj_list:\n",
    "    traj = pt.iterload(t, \"../1-Trajectories/0-Parm_rst/closed6_dry_rot4.parm7\", stride=1)\n",
    "    sasa_2[count]=np.append(sasa_2[count], pt.surf(traj, ':14@CB'))\n",
    "    sasa_3[count]=np.append(sasa_3[count], pt.surf(traj, ':46@CB'))\n",
    "    sasa_4[count]=np.append(sasa_4[count], pt.surf(traj, ':78@CB'))\n",
    "    sasa_5[count]=np.append(sasa_5[count], pt.surf(traj, ':110@CB'))\n",
    "    sasa_6[count]=np.append(sasa_6[count], pt.surf(traj, ':142@CB'))\n",
    "    sasa_1[count]=np.append(sasa_1[count], pt.surf(traj, ':174@CB'))\n",
    "    count+=1\n",
    "\n",
    "\n",
    "###\n",
    "\n",
    "traj_list=sorted(glob(\"./sample_structures/2-Without_IPA/5-MSM_10000_samples_per_ref/pcca*_ref5.xtc\"))\n",
    "count=0\n",
    "for t in traj_list:\n",
    "    traj = pt.iterload(t, \"../1-Trajectories/0-Parm_rst/closed6_dry_rot5.parm7\", stride=1)\n",
    "    sasa_1[count]=np.append(sasa_1[count], pt.surf(traj, ':14@CB'))\n",
    "    sasa_2[count]=np.append(sasa_2[count], pt.surf(traj, ':46@CB'))\n",
    "    sasa_3[count]=np.append(sasa_3[count], pt.surf(traj, ':78@CB'))\n",
    "    sasa_4[count]=np.append(sasa_4[count], pt.surf(traj, ':110@CB'))\n",
    "    sasa_5[count]=np.append(sasa_5[count], pt.surf(traj, ':142@CB'))\n",
    "    sasa_6[count]=np.append(sasa_6[count], pt.surf(traj, ':174@CB'))\n",
    "    count+=1\n",
    "\n",
    "sasa_all=[sasa_1, sasa_2, sasa_3, sasa_4, sasa_5, sasa_6]"
   ]
  },
  {
   "cell_type": "code",
   "execution_count": null,
   "metadata": {},
   "outputs": [],
   "source": [
    "print(len(sasa_1), len(sasa_1[0]), len(sasa_all))"
   ]
  },
  {
   "cell_type": "code",
   "execution_count": 13,
   "metadata": {},
   "outputs": [
    {
     "data": {
      "image/png": "[encoded data removed]",
      "text/plain": [
       "<Figure size 864x576 with 37 Axes>"
      ]
     },
     "metadata": {
      "needs_background": "light"
     },
     "output_type": "display_data"
    }
   ],
   "source": [
    "colours=['#c51b7d','#de77ae','#f1b6da','#b8e186','#7fbc41','#4d9221',\n",
    "         '#c51b7d','#de77ae','#f1b6da','#b8e186','#7fbc41','#4d9221',\n",
    "         '#c51b7d','#de77ae','#f1b6da','#b8e186','#7fbc41','#4d9221',\n",
    "         '#c51b7d','#de77ae','#f1b6da','#b8e186','#7fbc41','#4d9221',\n",
    "         '#c51b7d','#de77ae','#f1b6da','#b8e186','#7fbc41','#4d9221',\n",
    "         '#c51b7d','#de77ae','#f1b6da','#b8e186','#7fbc41','#4d9221']\n",
    "\n",
    "\n",
    "# mapped as PCCA 0,1,2,3,4,5 correspond to S2, S1, S3, S4, S6, S5 resp.\n",
    "# Note that chain B is 0 or very small. If 0 creates a large hist, \n",
    "# so used the very small value for entries that are 0\n",
    "pcca=[1,1,1,1,1,1,\n",
    "      0,0,0,0,0,0,\n",
    "      2,2,2,2,2,2,\n",
    "      3,3,3,3,3,3,\n",
    "      5,5,5,5,5,5,\n",
    "      4,4,4,4,4,4]\n",
    "\n",
    "chains=[0,1,2,3,4,5,\n",
    "        0,1,2,3,4,5,\n",
    "        0,1,2,3,4,5,\n",
    "        0,1,2,3,4,5,\n",
    "        0,1,2,3,4,5,\n",
    "        0,1,2,3,4,5]\n",
    "\n",
    "fig, axes = plt.subplots(6, 6, figsize=(12, 8), sharex=True, sharey=True)\n",
    "\n",
    "for i, ax in enumerate(axes.flat):\n",
    "    ax.hist(sasa_all[chains[i]][pcca[i]], \n",
    "            bins=40, \n",
    "            density=True,\n",
    "            range=(0.0,40),\n",
    "            color=colours[i])\n",
    "#     sns.distplot(sasa_all_at_2[pcca[i]][:,at[i]], kde=False, ax=ax, bins=10,norm_hist=False, \n",
    "#                  color=colours[i], hist_kws={\"alpha\": 1})\n",
    "\n",
    "\n",
    "\n",
    "    ax.set_xlim(0.0,40)\n",
    "    ax.set_xticks(np.arange(0, 50, 10))    \n",
    "    ax.set_ylim(0,0.25)\n",
    "    ax.set_yticks(np.arange(0, 0.25, 0.1))     \n",
    "\n",
    "\n",
    "# To have common x and y labels\n",
    "# add a big axis, hide frame\n",
    "fig.add_subplot(111, frameon=False)\n",
    "# hide tick and tick label of the big axis\n",
    "plt.tick_params(labelcolor='none', top=False, bottom=False, left=False, right=False)    \n",
    "plt.xlabel(r'Solvent accessible surface area of CC-Type2-($L_aI_dG_e)_4$ - [Ala13 - $C\\beta$] ($\\AA^2$)')\n",
    "plt.ylabel(r'Probability density')\n",
    "\n",
    "fig.tight_layout()\n",
    "fig.savefig('./plots/2-Without_IPA/32_SASA_Ala13_CB_amber.png', dpi=600)"
   ]
  },
  {
   "cell_type": "code",
   "execution_count": 21,
   "metadata": {},
   "outputs": [
    {
     "data": {
      "text/plain": [
       "array([18292, 16380, 14743, 16923, 18164, 14763])"
      ]
     },
     "execution_count": 21,
     "metadata": {},
     "output_type": "execute_result"
    }
   ],
   "source": [
    "weights=[0.018,0.074,0.040,0.053,0.196,0.620]\n",
    "\n",
    "exposed=[]\n",
    "tot=[]\n",
    "for j in range(0,6):\n",
    "    a=[]\n",
    "    for i in range(0,6):\n",
    "        a.append(np.size(np.where(sasa_all[i][j]>=10)))\n",
    "    exposed.append(a)\n",
    "\n"
   ]
  },
  {
   "cell_type": "code",
   "execution_count": 22,
   "metadata": {},
   "outputs": [
    {
     "data": {
      "text/plain": [
       "array([[   5, 6465, 9042,  197, 1146, 1437],\n",
       "       [  11, 3826, 8856,  659, 1325, 1703],\n",
       "       [  74, 1622, 7964, 1965, 1306, 1812],\n",
       "       [ 732, 1110, 2818, 7193,  186, 4884],\n",
       "       [  26,  583, 7570, 2442,   45, 7498],\n",
       "       [  60, 1485, 2907, 7167,   40, 3104]])"
      ]
     },
     "execution_count": 22,
     "metadata": {},
     "output_type": "execute_result"
    }
   ],
   "source": [
    "np.array(exposed)"
   ]
  },
  {
   "cell_type": "code",
   "execution_count": 25,
   "metadata": {},
   "outputs": [
    {
     "data": {
      "text/plain": [
       "1.001"
      ]
     },
     "execution_count": 25,
     "metadata": {},
     "output_type": "execute_result"
    }
   ],
   "source": [
    "np.array([   5, 6465, 9042,  197, 1146, 1437]).sum()"
   ]
  },
  {
   "cell_type": "code",
   "execution_count": 24,
   "metadata": {},
   "outputs": [
    {
     "data": {
      "text/plain": [
       "array([18292, 16380, 14743, 16923, 18164, 14763])"
      ]
     },
     "execution_count": 24,
     "metadata": {},
     "output_type": "execute_result"
    }
   ],
   "source": [
    "np.array(exposed).sum(axis=1)"
   ]
  },
  {
   "cell_type": "code",
   "execution_count": 32,
   "metadata": {},
   "outputs": [
    {
     "data": {
      "text/plain": [
       "0.26235365"
      ]
     },
     "execution_count": 32,
     "metadata": {},
     "output_type": "execute_result"
    }
   ],
   "source": [
    "np.multiply(np.array(exposed).sum(axis=1), np.array(weights)).sum()/60000"
   ]
  },
  {
   "cell_type": "markdown",
   "metadata": {},
   "source": [
    "## With IPA"
   ]
  },
  {
   "cell_type": "code",
   "execution_count": 2,
   "metadata": {},
   "outputs": [],
   "source": [
    "sasa_1=[]\n",
    "sasa_2=[]\n",
    "sasa_3=[]\n",
    "sasa_4=[]\n",
    "sasa_5=[]\n",
    "sasa_6=[]\n",
    "\n",
    "traj_list=sorted(glob(\"./sample_structures/1-With_IPA/5-MSM_10000_samples_per_ref/pcca*_ref0.xtc\"))\n",
    "\n",
    "for t in traj_list:\n",
    "    traj = pt.iterload(t, \"../1-Trajectories/0-Parm_rst/closed6_dry_rot0.parm7\", stride=1)\n",
    "    sasa_6.append(pt.surf(traj, ':14@CB'))\n",
    "    sasa_1.append(pt.surf(traj, ':46@CB'))\n",
    "    sasa_2.append(pt.surf(traj, ':78@CB'))\n",
    "    sasa_3.append(pt.surf(traj, ':110@CB'))\n",
    "    sasa_4.append(pt.surf(traj, ':142@CB'))\n",
    "    sasa_5.append(pt.surf(traj, ':174@CB'))\n",
    "\n",
    "\n",
    "###\n",
    "\n",
    "traj_list=sorted(glob(\"./sample_structures/1-With_IPA/5-MSM_10000_samples_per_ref/pcca*_ref1.xtc\"))\n",
    "count=0\n",
    "for t in traj_list:\n",
    "    traj = pt.iterload(t, \"../1-Trajectories/0-Parm_rst/closed6_dry_rot1.parm7\", stride=1)\n",
    "    sasa_5[count]=np.append(sasa_5[count], pt.surf(traj, ':14@CB'))\n",
    "    sasa_6[count]=np.append(sasa_6[count], pt.surf(traj, ':46@CB'))\n",
    "    sasa_1[count]=np.append(sasa_1[count], pt.surf(traj, ':78@CB'))\n",
    "    sasa_2[count]=np.append(sasa_2[count], pt.surf(traj, ':110@CB'))\n",
    "    sasa_3[count]=np.append(sasa_3[count], pt.surf(traj, ':142@CB'))\n",
    "    sasa_4[count]=np.append(sasa_4[count], pt.surf(traj, ':174@CB'))\n",
    "    count+=1\n",
    "\n",
    "###\n",
    "\n",
    "traj_list=sorted(glob(\"./sample_structures/1-With_IPA/5-MSM_10000_samples_per_ref/pcca*_ref2.xtc\"))\n",
    "count=0\n",
    "for t in traj_list:\n",
    "    traj = pt.iterload(t, \"../1-Trajectories/0-Parm_rst/closed6_dry_rot2.parm7\", stride=1)\n",
    "    sasa_4[count]=np.append(sasa_4[count], pt.surf(traj, ':14@CB'))\n",
    "    sasa_5[count]=np.append(sasa_5[count], pt.surf(traj, ':46@CB'))\n",
    "    sasa_6[count]=np.append(sasa_6[count], pt.surf(traj, ':78@CB'))\n",
    "    sasa_1[count]=np.append(sasa_1[count], pt.surf(traj, ':110@CB'))\n",
    "    sasa_2[count]=np.append(sasa_2[count], pt.surf(traj, ':142@CB'))\n",
    "    sasa_3[count]=np.append(sasa_3[count], pt.surf(traj, ':174@CB'))\n",
    "    count+=1\n",
    "\n",
    "###\n",
    "\n",
    "traj_list=sorted(glob(\"./sample_structures/1-With_IPA/5-MSM_10000_samples_per_ref/pcca*_ref3.xtc\"))\n",
    "count=0\n",
    "for t in traj_list:\n",
    "    traj = pt.iterload(t, \"../1-Trajectories/0-Parm_rst/closed6_dry_rot3.parm7\", stride=1)\n",
    "    sasa_3[count]=np.append(sasa_3[count], pt.surf(traj, ':14@CB'))\n",
    "    sasa_4[count]=np.append(sasa_4[count], pt.surf(traj, ':46@CB'))\n",
    "    sasa_5[count]=np.append(sasa_5[count], pt.surf(traj, ':78@CB'))\n",
    "    sasa_6[count]=np.append(sasa_6[count], pt.surf(traj, ':110@CB'))\n",
    "    sasa_1[count]=np.append(sasa_1[count], pt.surf(traj, ':142@CB'))\n",
    "    sasa_2[count]=np.append(sasa_2[count], pt.surf(traj, ':174@CB'))\n",
    "    count+=1\n",
    "\n",
    "\n",
    "###\n",
    "\n",
    "traj_list=sorted(glob(\"./sample_structures/1-With_IPA/5-MSM_10000_samples_per_ref/pcca*_ref4.xtc\"))\n",
    "count=0\n",
    "for t in traj_list:\n",
    "    traj = pt.iterload(t, \"../1-Trajectories/0-Parm_rst/closed6_dry_rot4.parm7\", stride=1)\n",
    "    sasa_2[count]=np.append(sasa_2[count], pt.surf(traj, ':14@CB'))\n",
    "    sasa_3[count]=np.append(sasa_3[count], pt.surf(traj, ':46@CB'))\n",
    "    sasa_4[count]=np.append(sasa_4[count], pt.surf(traj, ':78@CB'))\n",
    "    sasa_5[count]=np.append(sasa_5[count], pt.surf(traj, ':110@CB'))\n",
    "    sasa_6[count]=np.append(sasa_6[count], pt.surf(traj, ':142@CB'))\n",
    "    sasa_1[count]=np.append(sasa_1[count], pt.surf(traj, ':174@CB'))\n",
    "    count+=1\n",
    "\n",
    "\n",
    "###\n",
    "\n",
    "traj_list=sorted(glob(\"./sample_structures/1-With_IPA/5-MSM_10000_samples_per_ref/pcca*_ref5.xtc\"))\n",
    "count=0\n",
    "for t in traj_list:\n",
    "    traj = pt.iterload(t, \"../1-Trajectories/0-Parm_rst/closed6_dry_rot5.parm7\", stride=1)\n",
    "    sasa_1[count]=np.append(sasa_1[count], pt.surf(traj, ':14@CB'))\n",
    "    sasa_2[count]=np.append(sasa_2[count], pt.surf(traj, ':46@CB'))\n",
    "    sasa_3[count]=np.append(sasa_3[count], pt.surf(traj, ':78@CB'))\n",
    "    sasa_4[count]=np.append(sasa_4[count], pt.surf(traj, ':110@CB'))\n",
    "    sasa_5[count]=np.append(sasa_5[count], pt.surf(traj, ':142@CB'))\n",
    "    sasa_6[count]=np.append(sasa_6[count], pt.surf(traj, ':174@CB'))\n",
    "    count+=1\n",
    "\n",
    "sasa_ipa_all=[sasa_1, sasa_2, sasa_3, sasa_4, sasa_5, sasa_6]"
   ]
  },
  {
   "cell_type": "code",
   "execution_count": 3,
   "metadata": {},
   "outputs": [
    {
     "name": "stdout",
     "output_type": "stream",
     "text": [
      "5 10000 6\n"
     ]
    }
   ],
   "source": [
    "print(len(sasa_1), len(sasa_1[0]), len(sasa_ipa_all))"
   ]
  },
  {
   "cell_type": "code",
   "execution_count": 4,
   "metadata": {},
   "outputs": [
    {
     "data": {
      "image/png": "[encoded data removed]",
      "text/plain": [
       "<Figure size 864x504 with 31 Axes>"
      ]
     },
     "metadata": {
      "needs_background": "light"
     },
     "output_type": "display_data"
    }
   ],
   "source": [
    "colours=['#c51b7d','#de77ae','#f1b6da','#b8e186','#7fbc41','#4d9221',\n",
    "         '#c51b7d','#de77ae','#f1b6da','#b8e186','#7fbc41','#4d9221',\n",
    "         '#c51b7d','#de77ae','#f1b6da','#b8e186','#7fbc41','#4d9221',\n",
    "         '#c51b7d','#de77ae','#f1b6da','#b8e186','#7fbc41','#4d9221',\n",
    "         '#c51b7d','#de77ae','#f1b6da','#b8e186','#7fbc41','#4d9221',\n",
    "         '#c51b7d','#de77ae','#f1b6da','#b8e186','#7fbc41','#4d9221']\n",
    "\n",
    "\n",
    "# mapped as PCCA 0,1,2,3,4,5 correspond to S2, S1, S3, S4, S6, S5 resp.\n",
    "# Note that chain B is 0 or very small. If 0 creates a large hist, \n",
    "# so used the very small value for entries that are 0\n",
    "pcca=[2,2,2,2,2,2,\n",
    "      1,1,1,1,1,1,\n",
    "      3,3,3,3,3,3,\n",
    "      4,4,4,4,4,4,\n",
    "      0,0,0,0,0,0]\n",
    "\n",
    "chains=[0,1,2,3,4,5,\n",
    "        0,1,2,3,4,5,\n",
    "        0,1,2,3,4,5,\n",
    "        0,1,2,3,4,5,\n",
    "        0,1,2,3,4,5,\n",
    "        0,1,2,3,4,5]\n",
    "\n",
    "fig, axes = plt.subplots(5, 6, figsize=(12, 7), sharex=True, sharey=True)\n",
    "\n",
    "for i, ax in enumerate(axes.flat):\n",
    "    ax.hist(sasa_ipa_all[chains[i]][pcca[i]], \n",
    "            bins=40, \n",
    "            density=True,\n",
    "            range=(0.0,40),\n",
    "            color=colours[i])\n",
    "#     sns.distplot(sasa_all_at_2[pcca[i]][:,at[i]], kde=False, ax=ax, bins=10,norm_hist=False, \n",
    "#                  color=colours[i], hist_kws={\"alpha\": 1})\n",
    "\n",
    "\n",
    "    ax.set_xlim(0.0,40)\n",
    "    ax.set_xticks(np.arange(0, 50, 10))    \n",
    "    ax.set_ylim(0,0.25)\n",
    "    ax.set_yticks(np.arange(0, 0.25, 0.1))   \n",
    "\n",
    "# To have common x and y labels\n",
    "# add a big axis, hide frame\n",
    "fig.add_subplot(111, frameon=False)\n",
    "# hide tick and tick label of the big axis\n",
    "plt.tick_params(labelcolor='none', top=False, bottom=False, left=False, right=False)    \n",
    "plt.xlabel(r'Solvent accessible surface area of CC-Type2-($L_aI_dG_e)_4$ - [Ala13 - $C\\beta$] ($\\AA^2$)')\n",
    "plt.ylabel(r'Probability density')\n",
    "\n",
    "fig.tight_layout()\n",
    "fig.savefig('./plots/1-With_IPA/32_SASA_Ala13_CB_amber.png', dpi=600)"
   ]
  },
  {
   "cell_type": "code",
   "execution_count": 5,
   "metadata": {},
   "outputs": [],
   "source": [
    "weights=[0.029693,0.099180,0.194989,0.162358,0.513779]\n",
    "\n",
    "exposed=[]\n",
    "tot=[]\n",
    "for j in range(0,5):\n",
    "    a=[]\n",
    "    for i in range(0,6):\n",
    "        a.append(np.size(np.where(sasa_ipa_all[i][j]>=10)))\n",
    "    exposed.append(a)\n"
   ]
  },
  {
   "cell_type": "code",
   "execution_count": 6,
   "metadata": {},
   "outputs": [
    {
     "data": {
      "text/plain": [
       "array([27690, 21462, 20282, 22389, 20190])"
      ]
     },
     "execution_count": 6,
     "metadata": {},
     "output_type": "execute_result"
    }
   ],
   "source": [
    "np.array(exposed).sum(axis=1)"
   ]
  },
  {
   "cell_type": "code",
   "execution_count": 8,
   "metadata": {},
   "outputs": [
    {
     "data": {
      "text/plain": [
       "0.3485633083333333"
      ]
     },
     "execution_count": 8,
     "metadata": {},
     "output_type": "execute_result"
    }
   ],
   "source": [
    "np.multiply(np.array(exposed).sum(axis=1), np.array(weights)).sum()/60000"
   ]
  },
  {
   "cell_type": "markdown",
   "metadata": {},
   "source": [
    "## CCHex2"
   ]
  },
  {
   "cell_type": "code",
   "execution_count": 33,
   "metadata": {},
   "outputs": [],
   "source": [
    "traj_list=sorted(glob(\"../1-Trajectories/5-CC-Hex2/ccHex2_*_prod_dry.nc\"))\n",
    "traj = pt.iterload(traj_list, \"../1-Trajectories/5-CC-Hex2/ccHex2_dry.parm7\", stride=10)\n",
    "\n",
    "sasa_6=[pt.surf(traj, ':19@CB')]\n",
    "sasa_1=[pt.surf(traj, ':51@CB')]\n",
    "sasa_2=[pt.surf(traj, ':83@CB')]\n",
    "sasa_3=[pt.surf(traj, ':115@CB')]\n",
    "sasa_4=[pt.surf(traj, ':147@CB')]\n",
    "sasa_5=[pt.surf(traj, ':179@CB')]\n",
    "        \n",
    "sasa_cchex2_all=[sasa_1, sasa_2, sasa_3, sasa_4, sasa_5, sasa_6]"
   ]
  },
  {
   "cell_type": "code",
   "execution_count": 41,
   "metadata": {},
   "outputs": [
    {
     "data": {
      "image/png": "[encoded data removed]",
      "text/plain": [
       "<Figure size 864x180 with 7 Axes>"
      ]
     },
     "metadata": {
      "needs_background": "light"
     },
     "output_type": "display_data"
    }
   ],
   "source": [
    "colours=['#c51b7d','#de77ae','#f1b6da','#b8e186','#7fbc41','#4d9221']\n",
    "\n",
    "fig, axes = plt.subplots(1, 6, figsize=(12, 2.5), sharex=True, sharey=True)\n",
    "\n",
    "for i, ax in enumerate(axes.flat):\n",
    "    ax.hist(sasa_cchex2_all[i], \n",
    "            bins=40, \n",
    "            density=True,\n",
    "            range=(0.0,40),\n",
    "            color=colours[i])\n",
    "#     sns.distplot(sasa_all_at_2[pcca[i]][:,at[i]], kde=False, ax=ax, bins=10,norm_hist=False, \n",
    "#                  color=colours[i], hist_kws={\"alpha\": 1})\n",
    "\n",
    "\n",
    "    ax.set_xlim(0.0,40)\n",
    "    ax.set_xticks(np.arange(0, 50, 10))    \n",
    "    ax.set_ylim(0,0.25)\n",
    "    ax.set_yticks(np.arange(0, 0.25, 0.1))   \n",
    "\n",
    "# To have common x and y labels\n",
    "# add a big axis, hide frame\n",
    "fig.add_subplot(111, frameon=False)\n",
    "# hide tick and tick label of the big axis\n",
    "plt.tick_params(labelcolor='none', top=False, bottom=False, left=False, right=False)    \n",
    "plt.xlabel(r'Solvent accessible surface area of CC-Type2-($S_gL_aI_d)_4$ - [Ala18 - $C\\beta$] ($\\AA^2$)')\n",
    "plt.ylabel(r'Probability density')\n",
    "\n",
    "fig.tight_layout()\n",
    "fig.savefig('./plots/4-ccHex2/32_SASA_Ala13_CB_amber.png', dpi=600)"
   ]
  },
  {
   "cell_type": "markdown",
   "metadata": {},
   "source": [
    "## Without IPA - ref0 only"
   ]
  },
  {
   "cell_type": "code",
   "execution_count": 47,
   "metadata": {},
   "outputs": [
    {
     "data": {
      "image/png": "[encoded data removed]",
      "text/plain": [
       "<Figure size 864x576 with 37 Axes>"
      ]
     },
     "metadata": {
      "needs_background": "light"
     },
     "output_type": "display_data"
    }
   ],
   "source": [
    "colours=['#c51b7d','#de77ae','#f1b6da','#b8e186','#7fbc41','#4d9221',\n",
    "         '#c51b7d','#de77ae','#f1b6da','#b8e186','#7fbc41','#4d9221',\n",
    "         '#c51b7d','#de77ae','#f1b6da','#b8e186','#7fbc41','#4d9221',\n",
    "         '#c51b7d','#de77ae','#f1b6da','#b8e186','#7fbc41','#4d9221',\n",
    "         '#c51b7d','#de77ae','#f1b6da','#b8e186','#7fbc41','#4d9221',\n",
    "         '#c51b7d','#de77ae','#f1b6da','#b8e186','#7fbc41','#4d9221']\n",
    "\n",
    "\n",
    "# mapped as PCCA 0,1,2,3,4,5 correspond to S2, S1, S3, S4, S6, S5 resp.\n",
    "# Note that chain B is 0 or very small. If 0 creates a large hist, \n",
    "# so used the very small value for entries that are 0\n",
    "pcca=[1,1,1,1,1,1,\n",
    "      0,0,0,0,0,0,\n",
    "      2,2,2,2,2,2,\n",
    "      3,3,3,3,3,3,\n",
    "      5,5,5,5,5,5,\n",
    "      4,4,4,4,4,4]\n",
    "\n",
    "chains=[0,1,2,3,4,5,\n",
    "        0,1,2,3,4,5,\n",
    "        0,1,2,3,4,5,\n",
    "        0,1,2,3,4,5,\n",
    "        0,1,2,3,4,5,\n",
    "        0,1,2,3,4,5]\n",
    "\n",
    "fig, axes = plt.subplots(6, 6, figsize=(12, 8), sharex=True, sharey=True)\n",
    "\n",
    "for i, ax in enumerate(axes.flat):\n",
    "    ax.hist(sasa_all[chains[i]][pcca[i]], \n",
    "            bins=40, \n",
    "            density=True,\n",
    "            range=(0.0,40),\n",
    "            color=colours[i])\n",
    "#     sns.distplot(sasa_all_at_2[pcca[i]][:,at[i]], kde=False, ax=ax, bins=10,norm_hist=False, \n",
    "#                  color=colours[i], hist_kws={\"alpha\": 1})\n",
    "\n",
    "\n",
    "\n",
    "    ax.set_xlim(0.0,40)\n",
    "    ax.set_xticks(np.arange(0, 40, 10))    \n",
    "#     ax.set_ylim(0,8000)\n",
    "#     ax.set_yticks(np.arange(0, 5, 1))     \n",
    "#     ax.set_aspect('equal')\n",
    "\n",
    "# To have common x and y labels\n",
    "# add a big axis, hide frame\n",
    "fig.add_subplot(111, frameon=False)\n",
    "# hide tick and tick label of the big axis\n",
    "plt.tick_params(labelcolor='none', top=False, bottom=False, left=False, right=False)    \n",
    "plt.xlabel(r'Solvent accessible surface area of Ala13 CB ($\\AA^2$)')\n",
    "plt.ylabel(r'Probability density')\n",
    "\n",
    "fig.tight_layout()\n",
    "fig.savefig('./plots/2-Without_IPA/32_SASA_Ala13_CB_amber.png', dpi=600)"
   ]
  },
  {
   "cell_type": "markdown",
   "metadata": {},
   "source": [
    "## With IPA - Ref0 only"
   ]
  },
  {
   "cell_type": "code",
   "execution_count": 48,
   "metadata": {},
   "outputs": [],
   "source": [
    "traj_list_ipa=sorted(glob(\"./sample_structures/1-With_IPA/5-MSM_10000_samples_per_ref/pcca*_ref0.xtc\"))\n",
    "sasa_ipa_a=[]\n",
    "sasa_ipa_b=[]\n",
    "sasa_ipa_c=[]\n",
    "sasa_ipa_d=[]\n",
    "sasa_ipa_e=[]\n",
    "sasa_ipa_f=[]\n",
    "for t in traj_list_ipa:\n",
    "    traj = pt.iterload(t, '../1-Trajectories/0-Parm_rst/open10_dry.parm7', stride=1)\n",
    "    sasa_ipa_a.append(pt.surf(traj, ':14@CB'))\n",
    "    sasa_ipa_b.append(pt.surf(traj, ':46@CB'))\n",
    "    sasa_ipa_c.append(pt.surf(traj, ':78@CB'))\n",
    "    sasa_ipa_d.append(pt.surf(traj, ':110@CB'))\n",
    "    sasa_ipa_e.append(pt.surf(traj, ':142@CB'))\n",
    "    sasa_ipa_f.append(pt.surf(traj, ':174@CB'))"
   ]
  },
  {
   "cell_type": "code",
   "execution_count": 50,
   "metadata": {},
   "outputs": [],
   "source": [
    "sasa_ipa_all=[sasa_ipa_b, sasa_ipa_c, sasa_ipa_d, sasa_ipa_e, sasa_ipa_f, sasa_ipa_a]"
   ]
  },
  {
   "cell_type": "code",
   "execution_count": 51,
   "metadata": {},
   "outputs": [
    {
     "data": {
      "image/png": "[encoded data removed]",
      "text/plain": [
       "<Figure size 864x576 with 31 Axes>"
      ]
     },
     "metadata": {
      "needs_background": "light"
     },
     "output_type": "display_data"
    }
   ],
   "source": [
    "colours=['#c51b7d','#de77ae','#f1b6da','#b8e186','#7fbc41','#4d9221',\n",
    "         '#c51b7d','#de77ae','#f1b6da','#b8e186','#7fbc41','#4d9221',\n",
    "         '#c51b7d','#de77ae','#f1b6da','#b8e186','#7fbc41','#4d9221',\n",
    "         '#c51b7d','#de77ae','#f1b6da','#b8e186','#7fbc41','#4d9221',\n",
    "         '#c51b7d','#de77ae','#f1b6da','#b8e186','#7fbc41','#4d9221',\n",
    "         '#c51b7d','#de77ae','#f1b6da','#b8e186','#7fbc41','#4d9221']\n",
    "\n",
    "\n",
    "# mapped as PCCA 0,1,2,3,4,5 correspond to S2, S1, S3, S4, S6, S5 resp.\n",
    "# Note that chain B is 0 or very small. If 0 creates a large hist, \n",
    "# so used the very small value for entries that are 0\n",
    "pcca=[2,2,2,2,2,2,\n",
    "      1,1,1,1,1,1,\n",
    "      3,3,3,3,3,3,\n",
    "      4,4,4,4,4,4,\n",
    "      0,0,0,0,0,0]\n",
    "\n",
    "chains=[0,1,2,3,4,5,\n",
    "        0,1,2,3,4,5,\n",
    "        0,1,2,3,4,5,\n",
    "        0,1,2,3,4,5,\n",
    "        0,1,2,3,4,5,\n",
    "        0,1,2,3,4,5]\n",
    "\n",
    "fig, axes = plt.subplots(5, 6, figsize=(12, 8), sharex=True, sharey=True)\n",
    "\n",
    "for i, ax in enumerate(axes.flat):\n",
    "    ax.hist(sasa_ipa_all[chains[i]][pcca[i]], \n",
    "            bins=40, \n",
    "            density=True,\n",
    "            range=(0.0,40),\n",
    "            color=colours[i])\n",
    "#     sns.distplot(sasa_all_at_2[pcca[i]][:,at[i]], kde=False, ax=ax, bins=10,norm_hist=False, \n",
    "#                  color=colours[i], hist_kws={\"alpha\": 1})\n",
    "\n",
    "\n",
    "\n",
    "    ax.set_xlim(0.0,40)\n",
    "    ax.set_xticks(np.arange(0, 40, 10))    \n",
    "#     ax.set_ylim(0,8000)\n",
    "#     ax.set_yticks(np.arange(0, 5, 1))     \n",
    "#     ax.set_aspect('equal')\n",
    "\n",
    "# To have common x and y labels\n",
    "# add a big axis, hide frame\n",
    "fig.add_subplot(111, frameon=False)\n",
    "# hide tick and tick label of the big axis\n",
    "plt.tick_params(labelcolor='none', top=False, bottom=False, left=False, right=False)    \n",
    "plt.xlabel(r'Solvent accessible surface area of Ala13 CB ($\\AA^2$)')\n",
    "plt.ylabel(r'Probability density')\n",
    "\n",
    "fig.tight_layout()\n",
    "fig.savefig('./plots/1-With_IPA/32_SASA_Ala13_CB_amber.png', dpi=600)"
   ]
  },
  {
   "cell_type": "code",
   "execution_count": 52,
   "metadata": {},
   "outputs": [
    {
     "name": "stdout",
     "output_type": "stream",
     "text": [
      "0 2\n",
      "1 2\n",
      "2 2\n",
      "3 2\n",
      "4 2\n",
      "5 2\n",
      "0 1\n",
      "1 1\n",
      "2 1\n",
      "3 1\n",
      "4 1\n",
      "5 1\n",
      "0 3\n",
      "1 3\n",
      "2 3\n",
      "3 3\n",
      "4 3\n",
      "5 3\n",
      "0 4\n",
      "1 4\n",
      "2 4\n",
      "3 4\n",
      "4 4\n",
      "5 4\n",
      "0 0\n",
      "1 0\n",
      "2 0\n",
      "3 0\n",
      "4 0\n",
      "5 0\n"
     ]
    }
   ],
   "source": [
    "pcca=[2,2,2,2,2,2,\n",
    "      1,1,1,1,1,1,\n",
    "      3,3,3,3,3,3,\n",
    "      4,4,4,4,4,4,\n",
    "      0,0,0,0,0,0]\n",
    "\n",
    "chains=[0,1,2,3,4,5,\n",
    "        0,1,2,3,4,5,\n",
    "        0,1,2,3,4,5,\n",
    "        0,1,2,3,4,5,\n",
    "        0,1,2,3,4,5,\n",
    "        0,1,2,3,4,5]\n",
    "\n",
    "for i in range(0,30):\n",
    "    print(chains[i],pcca[i])"
   ]
  },
  {
   "cell_type": "code",
   "execution_count": 88,
   "metadata": {},
   "outputs": [
    {
     "data": {
      "image/png": "[encoded data removed]",
      "text/plain": [
       "<Figure size 864x720 with 30 Axes>"
      ]
     },
     "metadata": {
      "needs_background": "light"
     },
     "output_type": "display_data"
    }
   ],
   "source": [
    "#mapped as (B,C,D)(E,F,A)\n",
    "at=[657, 1125, 1593, 2061, 2529, 189,\n",
    "    657, 1125, 1593, 2061, 2529, 189,\n",
    "    657, 1125, 1593, 2061, 2529, 189,\n",
    "    657, 1125, 1593, 2061, 2529, 189,\n",
    "    657, 1125, 1593, 2061, 2529, 189]\n",
    "\n",
    "colours=['#c51b7d','#de77ae','#f1b6da','#b8e186','#7fbc41','#4d9221',\n",
    "         '#c51b7d','#de77ae','#f1b6da','#b8e186','#7fbc41','#4d9221',\n",
    "         '#c51b7d','#de77ae','#f1b6da','#b8e186','#7fbc41','#4d9221',\n",
    "         '#c51b7d','#de77ae','#f1b6da','#b8e186','#7fbc41','#4d9221',\n",
    "         '#c51b7d','#de77ae','#f1b6da','#b8e186','#7fbc41','#4d9221']\n",
    "\n",
    "\n",
    "# mapped as PCCA 0,1,2,3,4,5 correspond to S2, S1, S3, S4, S6, S5 resp.\n",
    "# Note that chain B is 0 or very small. If 0 creates a large hist, \n",
    "# so used the very small value for entries that are 0\n",
    "pcca=[2,2,2,2,2,2,\n",
    "      1,1,1,1,1,1,\n",
    "      3,3,3,3,3,3,\n",
    "      4,4,4,4,4,4,\n",
    "      0,0,0,0,0,0]\n",
    "\n",
    "fig, axes = plt.subplots(5, 6, figsize=(12, 10), sharex=False, sharey=False)\n",
    "\n",
    "for i, ax in enumerate(axes.flat):\n",
    "    sns.distplot(sasa_all_ipa[pcca[i]][:,at[i]], kde=False, ax=ax, bins=20, \n",
    "                 color=colours[i], hist_kws={\"alpha\": 1})\n",
    "\n",
    "    ax.set_xlim(0,0.06)\n",
    "#     ax.set_ylim(0,700)\n",
    "#     ax.set_xticks(np.arange(0, 5, 1))    \n",
    "\n",
    "#     ax.set_yticks(np.arange(0, 5, 1))     \n",
    "#     ax.set_aspect('equal')\n",
    "\n",
    "# # To have common x and y labels\n",
    "# # add a big axis, hide frame\n",
    "# fig.add_subplot(111, frameon=False)\n",
    "# # hide tick and tick label of the big axis\n",
    "# plt.tick_params(labelcolor='none', top=False, bottom=False, left=False, right=False)    \n",
    "# plt.xlabel(r'RMSD to closed crystal structure ($\\AA$)')\n",
    "# plt.ylabel(r'RMSD to open crystal structure ($\\AA$)')"
   ]
  },
  {
   "cell_type": "code",
   "execution_count": 87,
   "metadata": {},
   "outputs": [
    {
     "data": {
      "image/png": "[encoded data removed]",
      "text/plain": [
       "<Figure size 864x864 with 36 Axes>"
      ]
     },
     "metadata": {
      "needs_background": "light"
     },
     "output_type": "display_data"
    }
   ],
   "source": [
    "#mapped as (B,C,D)(E,F,A)\n",
    "at=[657, 1125, 1593, 2061, 2529, 189,\n",
    "    657, 1125, 1593, 2061, 2529, 189,\n",
    "    657, 1125, 1593, 2061, 2529, 189,\n",
    "    657, 1125, 1593, 2061, 2529, 189,\n",
    "    657, 1125, 1593, 2061, 2529, 189,\n",
    "    657, 1125, 1593, 2061, 2529, 189]\n",
    "\n",
    "colours=['#c51b7d','#de77ae','#f1b6da','#b8e186','#7fbc41','#4d9221',\n",
    "         '#c51b7d','#de77ae','#f1b6da','#b8e186','#7fbc41','#4d9221',\n",
    "         '#c51b7d','#de77ae','#f1b6da','#b8e186','#7fbc41','#4d9221',\n",
    "         '#c51b7d','#de77ae','#f1b6da','#b8e186','#7fbc41','#4d9221',\n",
    "         '#c51b7d','#de77ae','#f1b6da','#b8e186','#7fbc41','#4d9221',\n",
    "         '#c51b7d','#de77ae','#f1b6da','#b8e186','#7fbc41','#4d9221']\n",
    "\n",
    "\n",
    "# mapped as PCCA 0,1,2,3,4,5 correspond to S2, S1, S3, S4, S6, S5 resp.\n",
    "# Note that chain B is 0 or very small. If 0 creates a large hist, \n",
    "# so used the very small value for entries that are 0\n",
    "pcca=[2,1,1,1,1,1,\n",
    "      2,0,0,0,0,0,\n",
    "      2,2,2,2,2,2,\n",
    "      2,3,3,3,3,3,\n",
    "      2,5,5,5,5,5,\n",
    "      2,4,4,4,4,4]\n",
    "\n",
    "fig, axes = plt.subplots(6, 6, figsize=(12, 12), sharex=False, sharey=False)\n",
    "\n",
    "for i, ax in enumerate(axes.flat):\n",
    "    sns.distplot(sasa_all[pcca[i]][:,at[i]], kde=False, ax=ax, bins=10, \n",
    "                 color=colours[i], hist_kws={\"alpha\": 1})\n",
    "\n",
    "#     ax.set_xlim(0,0.06)\n",
    "#     ax.set_xticks(np.arange(0, 5, 1))    \n",
    "#     ax.set_ylim(0,700)\n",
    "#     ax.set_yticks(np.arange(0, 5, 1))     \n",
    "#     ax.set_aspect('equal')"
   ]
  },
  {
   "cell_type": "code",
   "execution_count": null,
   "metadata": {},
   "outputs": [],
   "source": []
  },
  {
   "cell_type": "markdown",
   "metadata": {},
   "source": [
    "## Without IPA"
   ]
  },
  {
   "cell_type": "code",
   "execution_count": 89,
   "metadata": {},
   "outputs": [],
   "source": [
    "traj_list_2=sorted(glob(\"./sample_structures/2-Without_IPA/5-MSM_10000_samples_per_ref/pcca*_ref0.xtc\"))\n",
    "sasa_all_at_2=[]\n",
    "for t in traj_list_2:\n",
    "    traj = md.load(t, top='../1-Trajectories/0-Parm_rst/open10_dry.parm7')\n",
    "    sasa=md.shrake_rupley(traj, probe_radius=0.14, n_sphere_points=960, mode='atom', \n",
    "                         change_radii=None, get_mapping=False)\n",
    "    sasa_all_at_2.append(sasa)\n",
    "\n",
    "with open('./pickled/2-Without_IPA/sasa_all_at_2.pickle', 'wb') as outf:\n",
    "    pickle.dump(sasa_all_at_2, outf)"
   ]
  },
  {
   "cell_type": "code",
   "execution_count": 90,
   "metadata": {},
   "outputs": [],
   "source": [
    "sasa_all_res_2=[]\n",
    "for t in traj_list_2:\n",
    "    traj = md.load(t, top='../1-Trajectories/0-Parm_rst/open10_dry.parm7')\n",
    "    sasa=md.shrake_rupley(traj, probe_radius=0.14, n_sphere_points=960, mode='residue', \n",
    "                         change_radii=None, get_mapping=False)\n",
    "    sasa_all_res_2.append(sasa)\n",
    "\n",
    "with open('./pickled/2-Without_IPA/sasa_all_res_2.pickle', 'wb') as outf:\n",
    "    pickle.dump(sasa_all_res_2, outf)"
   ]
  },
  {
   "cell_type": "code",
   "execution_count": 7,
   "metadata": {},
   "outputs": [],
   "source": [
    "with open('./pickled/2-Without_IPA/sasa_all_at_2.pickle', 'rb') as inf:\n",
    "    sasa_all_at_2 = pickle.load(inf)\n",
    "with open('./pickled/2-Without_IPA/sasa_all_res_2.pickle', 'rb') as inf:\n",
    "    sasa_all_res_2 = pickle.load(inf)"
   ]
  },
  {
   "cell_type": "code",
   "execution_count": 59,
   "metadata": {},
   "outputs": [
    {
     "data": {
      "image/png": "[encoded data removed]",
      "text/plain": [
       "<Figure size 864x576 with 37 Axes>"
      ]
     },
     "metadata": {
      "needs_background": "light"
     },
     "output_type": "display_data"
    }
   ],
   "source": [
    "# mapped as (B,C,D)(E,F,A)\n",
    "at=[657, 1125, 1593, 2061, 2529, 189,\n",
    "    657, 1125, 1593, 2061, 2529, 189,\n",
    "    657, 1125, 1593, 2061, 2529, 189,\n",
    "    657, 1125, 1593, 2061, 2529, 189,\n",
    "    657, 1125, 1593, 2061, 2529, 189,\n",
    "    657, 1125, 1593, 2061, 2529, 189]\n",
    "\n",
    "colours=['#c51b7d','#de77ae','#f1b6da','#b8e186','#7fbc41','#4d9221',\n",
    "         '#c51b7d','#de77ae','#f1b6da','#b8e186','#7fbc41','#4d9221',\n",
    "         '#c51b7d','#de77ae','#f1b6da','#b8e186','#7fbc41','#4d9221',\n",
    "         '#c51b7d','#de77ae','#f1b6da','#b8e186','#7fbc41','#4d9221',\n",
    "         '#c51b7d','#de77ae','#f1b6da','#b8e186','#7fbc41','#4d9221',\n",
    "         '#c51b7d','#de77ae','#f1b6da','#b8e186','#7fbc41','#4d9221']\n",
    "\n",
    "\n",
    "# mapped as PCCA 0,1,2,3,4,5 correspond to S2, S1, S3, S4, S6, S5 resp.\n",
    "# Note that chain B is 0 or very small. If 0 creates a large hist, \n",
    "# so used the very small value for entries that are 0\n",
    "pcca=[1,1,1,1,1,1,\n",
    "      0,0,0,0,0,0,\n",
    "      2,2,2,2,2,2,\n",
    "      3,3,3,3,3,3,\n",
    "      5,5,5,5,5,5,\n",
    "      4,4,4,4,4,4]\n",
    "\n",
    "fig, axes = plt.subplots(6, 6, figsize=(12, 8), sharex=True, sharey=False)\n",
    "\n",
    "for i, ax in enumerate(axes.flat):\n",
    "    ax.hist(sasa_all_at_2[pcca[i]][:,at[i]], bins=16, density=True,\n",
    "            range=(0.0,0.08),\n",
    "            color=colours[i])\n",
    "#     sns.distplot(sasa_all_at_2[pcca[i]][:,at[i]], kde=False, ax=ax, bins=10,norm_hist=False, \n",
    "#                  color=colours[i], hist_kws={\"alpha\": 1})\n",
    "\n",
    "\n",
    "\n",
    "    ax.set_xlim(0.0,0.08)\n",
    "    ax.set_xticks(np.arange(0, 0.09, 0.02))    \n",
    "#     ax.set_ylim(0,8000)\n",
    "#     ax.set_yticks(np.arange(0, 5, 1))     \n",
    "#     ax.set_aspect('equal')\n",
    "\n",
    "# To have common x and y labels\n",
    "# add a big axis, hide frame\n",
    "fig.add_subplot(111, frameon=False)\n",
    "# hide tick and tick label of the big axis\n",
    "plt.tick_params(labelcolor='none', top=False, bottom=False, left=False, right=False)    \n",
    "plt.xlabel(r'Solvent accessible surface area of Ala13 CB ($\\AA^2$)')\n",
    "plt.ylabel(r'Probability density')\n",
    "\n",
    "fig.tight_layout()\n",
    "fig.savefig('./plots/2-Without_IPA/30_SASA_Ala13_CB.png', dpi=600)"
   ]
  },
  {
   "cell_type": "code",
   "execution_count": 78,
   "metadata": {},
   "outputs": [
    {
     "data": {
      "image/png": "[encoded data removed]",
      "text/plain": [
       "<Figure size 864x864 with 37 Axes>"
      ]
     },
     "metadata": {
      "needs_background": "light"
     },
     "output_type": "display_data"
    }
   ],
   "source": [
    "#mapped as (B,C,D)(E,F,A)\n",
    "at=[45,77,109,141,173,13,\n",
    "    45,77,109,141,173,13,\n",
    "    45,77,109,141,173,13,\n",
    "    45,77,109,141,173,13,\n",
    "    45,77,109,141,173,13,\n",
    "    45,77,109,141,173,13]\n",
    "\n",
    "colours=['#c51b7d','#de77ae','#f1b6da','#b8e186','#7fbc41','#4d9221',\n",
    "         '#c51b7d','#de77ae','#f1b6da','#b8e186','#7fbc41','#4d9221',\n",
    "         '#c51b7d','#de77ae','#f1b6da','#b8e186','#7fbc41','#4d9221',\n",
    "         '#c51b7d','#de77ae','#f1b6da','#b8e186','#7fbc41','#4d9221',\n",
    "         '#c51b7d','#de77ae','#f1b6da','#b8e186','#7fbc41','#4d9221',\n",
    "         '#c51b7d','#de77ae','#f1b6da','#b8e186','#7fbc41','#4d9221']\n",
    "\n",
    "\n",
    "# mapped as PCCA 0,1,2,3,4,5 correspond to S2, S1, S3, S4, S6, S5 resp.\n",
    "# Note that chain B is 0 or very small. If 0 creates a large hist, \n",
    "# so used the very small value for entries that are 0\n",
    "pcca=[1,1,1,1,1,1,\n",
    "      0,0,0,0,0,0,\n",
    "      2,2,2,2,2,2,\n",
    "      3,3,3,3,3,3,\n",
    "      5,5,5,5,5,5,\n",
    "      4,4,4,4,4,4]\n",
    "\n",
    "fig, axes = plt.subplots(6, 6, figsize=(12, 12), sharex=True, sharey=True)\n",
    "\n",
    "for i, ax in enumerate(axes.flat):\n",
    "    ax.hist(sasa_all_res_2[pcca[i]][:,at[i]], bins=24, density=True,\n",
    "            range=(0.0,0.6),\n",
    "            color=colours[i])\n",
    "#     sns.distplot(sasa_all_at_2[pcca[i]][:,at[i]], kde=False, ax=ax, bins=10,norm_hist=False, \n",
    "#                  color=colours[i], hist_kws={\"alpha\": 1})\n",
    "\n",
    "\n",
    "\n",
    "    ax.set_xlim(0.0,0.60)\n",
    "    ax.set_xticks(np.arange(0, 0.7, 0.2))    \n",
    "    ax.set_ylim(0.0,30)\n",
    "    ax.set_yticks(np.arange(0, 40, 10))\n",
    "#     ax.set_aspect('equal')\n",
    "\n",
    "# To have common x and y labels\n",
    "# add a big axis, hide frame\n",
    "fig.add_subplot(111, frameon=False)\n",
    "# hide tick and tick label of the big axis\n",
    "plt.tick_params(labelcolor='none', top=False, bottom=False, left=False, right=False)    \n",
    "plt.xlabel(r'Solvent accessible surface area of Ala13 CB ($\\AA^2$)')\n",
    "plt.ylabel(r'Probability density')\n",
    "\n",
    "# fig.tight_layout()\n",
    "fig.savefig('./plots/2-Without_IPA/31_SASA_Ala13_residue.png', dpi=600)"
   ]
  },
  {
   "cell_type": "markdown",
   "metadata": {},
   "source": [
    "## With IPA"
   ]
  },
  {
   "cell_type": "code",
   "execution_count": 3,
   "metadata": {},
   "outputs": [],
   "source": [
    "traj_list_ipa_2=sorted(glob(\"./sample_structures/1-With_IPA/5-MSM_10000_samples_per_ref/pcca*_ref0.xtc\"))\n",
    "sasa_all_at_ipa_2=[]\n",
    "for t in traj_list_2:\n",
    "    traj = md.load(t, top='../1-Trajectories/0-Parm_rst/open10_dry.parm7')\n",
    "    sasa=md.shrake_rupley(traj, probe_radius=0.14, n_sphere_points=960, mode='atom', \n",
    "                         change_radii=None, get_mapping=False)\n",
    "    sasa_all_at_ipa_2.append(sasa)\n",
    "\n",
    "with open('./pickled/1-With_IPA/sasa_all_at_ipa_2.pickle', 'wb') as outf:\n",
    "    pickle.dump(sasa_all_at_ipa_2, outf)"
   ]
  },
  {
   "cell_type": "code",
   "execution_count": 4,
   "metadata": {},
   "outputs": [],
   "source": [
    "sasa_all_res_ipa_2=[]\n",
    "for t in traj_list_2:\n",
    "    traj = md.load(t, top='../1-Trajectories/0-Parm_rst/open10_dry.parm7')\n",
    "    sasa=md.shrake_rupley(traj, probe_radius=0.14, n_sphere_points=960, mode='residue', \n",
    "                         change_radii=None, get_mapping=False)\n",
    "    sasa_all_res_ipa_2.append(sasa)\n",
    "\n",
    "with open('./pickled/1-With_IPA/sasa_all_res_ipa_2.pickle', 'wb') as outf:\n",
    "    pickle.dump(sasa_all_res_ipa_2, outf)"
   ]
  },
  {
   "cell_type": "code",
   "execution_count": 71,
   "metadata": {},
   "outputs": [
    {
     "data": {
      "image/png": "[encoded data removed]",
      "text/plain": [
       "<Figure size 864x576 with 31 Axes>"
      ]
     },
     "metadata": {
      "needs_background": "light"
     },
     "output_type": "display_data"
    }
   ],
   "source": [
    "#mapped as (B,C,D)(E,F,A)\n",
    "at=[657, 1125, 1593, 2061, 2529, 189,\n",
    "    657, 1125, 1593, 2061, 2529, 189,\n",
    "    657, 1125, 1593, 2061, 2529, 189,\n",
    "    657, 1125, 1593, 2061, 2529, 189,\n",
    "    657, 1125, 1593, 2061, 2529, 189]\n",
    "\n",
    "colours=['#c51b7d','#de77ae','#f1b6da','#b8e186','#7fbc41','#4d9221',\n",
    "         '#c51b7d','#de77ae','#f1b6da','#b8e186','#7fbc41','#4d9221',\n",
    "         '#c51b7d','#de77ae','#f1b6da','#b8e186','#7fbc41','#4d9221',\n",
    "         '#c51b7d','#de77ae','#f1b6da','#b8e186','#7fbc41','#4d9221',\n",
    "         '#c51b7d','#de77ae','#f1b6da','#b8e186','#7fbc41','#4d9221']\n",
    "\n",
    "\n",
    "# mapped as PCCA 0,1,2,3,4,5 correspond to S2, S1, S3, S4, S6, S5 resp.\n",
    "# Note that chain B is 0 or very small. If 0 creates a large hist, \n",
    "# so used the very small value for entries that are 0\n",
    "pcca=[2,2,2,2,2,2,\n",
    "      1,1,1,1,1,1,\n",
    "      3,3,3,3,3,3,\n",
    "      4,4,4,4,4,4,\n",
    "      0,0,0,0,0,0]\n",
    "\n",
    "fig, axes = plt.subplots(5, 6, figsize=(12, 8), sharex=True, sharey=False)\n",
    "\n",
    "for i, ax in enumerate(axes.flat):\n",
    "    ax.hist(sasa_all_at_ipa_2[pcca[i]][:,at[i]], bins=16, density=True,\n",
    "            range=(0.0,0.08),\n",
    "            color=colours[i])\n",
    "#     sns.distplot(sasa_all_at_2[pcca[i]][:,at[i]], kde=False, ax=ax, bins=10,norm_hist=False, \n",
    "#                  color=colours[i], hist_kws={\"alpha\": 1})\n",
    "\n",
    "\n",
    "\n",
    "    ax.set_xlim(0.0,0.08)\n",
    "    ax.set_xticks(np.arange(0, 0.09, 0.02))    \n",
    "#     ax.set_ylim(0,8000)\n",
    "#     ax.set_yticks(np.arange(0, 5, 1))     \n",
    "#     ax.set_aspect('equal')\n",
    "\n",
    "# To have common x and y labels\n",
    "# add a big axis, hide frame\n",
    "fig.add_subplot(111, frameon=False)\n",
    "# hide tick and tick label of the big axis\n",
    "plt.tick_params(labelcolor='none', top=False, bottom=False, left=False, right=False)    \n",
    "plt.xlabel(r'Solvent accessible surface area of Ala13 CB ($\\AA^2$)')\n",
    "plt.ylabel(r'Probability density')\n",
    "\n",
    "fig.tight_layout()\n",
    "fig.savefig('./plots/1-With_IPA/30_SASA_Ala13_CB.png', dpi=600)"
   ]
  },
  {
   "cell_type": "code",
   "execution_count": 76,
   "metadata": {},
   "outputs": [
    {
     "data": {
      "image/png": "[encoded data removed]",
      "text/plain": [
       "<Figure size 864x720 with 31 Axes>"
      ]
     },
     "metadata": {
      "needs_background": "light"
     },
     "output_type": "display_data"
    }
   ],
   "source": [
    "#mapped as (B,C,D)(E,F,A)\n",
    "at=[45,77,109,141,173,13,\n",
    "    45,77,109,141,173,13,\n",
    "    45,77,109,141,173,13,\n",
    "    45,77,109,141,173,13,\n",
    "    45,77,109,141,173,13,\n",
    "    45,77,109,141,173,13]\n",
    "\n",
    "colours=['#c51b7d','#de77ae','#f1b6da','#b8e186','#7fbc41','#4d9221',\n",
    "         '#c51b7d','#de77ae','#f1b6da','#b8e186','#7fbc41','#4d9221',\n",
    "         '#c51b7d','#de77ae','#f1b6da','#b8e186','#7fbc41','#4d9221',\n",
    "         '#c51b7d','#de77ae','#f1b6da','#b8e186','#7fbc41','#4d9221',\n",
    "         '#c51b7d','#de77ae','#f1b6da','#b8e186','#7fbc41','#4d9221',\n",
    "         '#c51b7d','#de77ae','#f1b6da','#b8e186','#7fbc41','#4d9221']\n",
    "\n",
    "\n",
    "# mapped as PCCA 0,1,2,3,4,5 correspond to S2, S1, S3, S4, S6, S5 resp.\n",
    "# Note that chain B is 0 or very small. If 0 creates a large hist, \n",
    "# so used the very small value for entries that are 0\n",
    "pcca=[2,2,2,2,2,2,\n",
    "      1,1,1,1,1,1,\n",
    "      3,3,3,3,3,3,\n",
    "      4,4,4,4,4,4,\n",
    "      0,0,0,0,0,0]\n",
    "\n",
    "fig, axes = plt.subplots(5, 6, figsize=(12, 10), sharex=True, sharey=True)\n",
    "\n",
    "for i, ax in enumerate(axes.flat):\n",
    "    ax.hist(sasa_all_res_2[pcca[i]][:,at[i]], bins=24, density=True,\n",
    "            range=(0.0,0.6),\n",
    "            color=colours[i])\n",
    "#     sns.distplot(sasa_all_at_2[pcca[i]][:,at[i]], kde=False, ax=ax, bins=10,norm_hist=False, \n",
    "#                  color=colours[i], hist_kws={\"alpha\": 1})\n",
    "\n",
    "\n",
    "\n",
    "    ax.set_xlim(0.0,0.60)\n",
    "    ax.set_xticks(np.arange(0, 0.7, 0.2))    \n",
    "    ax.set_ylim(0.0,30)\n",
    "    ax.set_yticks(np.arange(0, 40, 10))     \n",
    "#     ax.set_aspect('equal')\n",
    "\n",
    "# To have common x and y labels\n",
    "# add a big axis, hide frame\n",
    "fig.add_subplot(111, frameon=False)\n",
    "# hide tick and tick label of the big axis\n",
    "plt.tick_params(labelcolor='none', top=False, bottom=False, left=False, right=False)    \n",
    "plt.xlabel(r'Solvent accessible surface area of Ala13 CB ($\\AA^2$)')\n",
    "plt.ylabel(r'Probability density')\n",
    "\n",
    "# fig.tight_layout()\n",
    "fig.savefig('./plots/1-With_IPA/31_SASA_Ala13_residue.png', dpi=600)"
   ]
  },
  {
   "cell_type": "code",
   "execution_count": null,
   "metadata": {},
   "outputs": [],
   "source": []
  }
 ],
 "metadata": {
  "kernelspec": {
   "display_name": "Python 3",
   "language": "python",
   "name": "python3"
  },
  "language_info": {
   "codemirror_mode": {
    "name": "ipython",
    "version": 3
   },
   "file_extension": ".py",
   "mimetype": "text/x-python",
   "name": "python",
   "nbconvert_exporter": "python",
   "pygments_lexer": "ipython3",
   "version": "3.7.6"
  },
  "toc": {
   "base_numbering": 1,
   "nav_menu": {},
   "number_sections": true,
   "sideBar": true,
   "skip_h1_title": false,
   "title_cell": "Table of Contents",
   "title_sidebar": "Contents",
   "toc_cell": false,
   "toc_position": {},
   "toc_section_display": true,
   "toc_window_display": false
  }
 },
 "nbformat": 4,
 "nbformat_minor": 4
}
