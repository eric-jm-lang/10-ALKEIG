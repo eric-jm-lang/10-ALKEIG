{
 "cells": [
  {
   "cell_type": "code",
   "execution_count": 1,
   "metadata": {},
   "outputs": [],
   "source": [
    "%matplotlib inline\n",
    "import matplotlib as mpl\n",
    "mpl.rc(\"font\", family=\"Arial\")\n",
    "import matplotlib.pyplot as plt\n",
    "from mpl_toolkits.axes_grid1 import make_axes_locatable\n",
    "from matplotlib.colors import ListedColormap, LinearSegmentedColormap\n",
    "from pylab import *\n",
    "\n",
    "import numpy as np\n",
    "import pyemma\n",
    "import pytraj as pt\n",
    "import mdtraj as md\n",
    "\n",
    "import pickle\n",
    "import seaborn as sns\n",
    "from itertools import product\n",
    "from pandas import DataFrame\n",
    "\n",
    "from itertools import cycle\n",
    "import pandas as pd\n",
    "from os.path import join\n",
    "from collections import OrderedDict\n",
    "\n",
    "from pyemma.util.contexts import settings\n",
    "from glob import glob"
   ]
  },
  {
   "cell_type": "markdown",
   "metadata": {},
   "source": [
    "# SASA calculated using Amber `surf` command"
   ]
  },
  {
   "cell_type": "markdown",
   "metadata": {},
   "source": [
    "## From crystal Structure"
   ]
  },
  {
   "cell_type": "code",
   "execution_count": 24,
   "metadata": {},
   "outputs": [
    {
     "data": {
      "text/plain": [
       "[array([3.37796071]),\n",
       " array([10.468972]),\n",
       " array([4.83080351]),\n",
       " array([10.39704819]),\n",
       " array([4.28204619]),\n",
       " array([2.95710921])]"
      ]
     },
     "execution_count": 24,
     "metadata": {},
     "output_type": "execute_result"
    }
   ],
   "source": [
    "traj_open = pt.iterload('../1-Trajectories/0-Parm_rst/open10_dry.rst7', \n",
    "                        '../1-Trajectories/0-Parm_rst/open10_dry.parm7')\n",
    "\n",
    "sasa_open_all=[pt.surf(traj_open, ':46@CB'), \n",
    "               pt.surf(traj_open, ':78@CB'), \n",
    "               pt.surf(traj_open, ':110@CB'), \n",
    "               pt.surf(traj_open, ':142@CB'), \n",
    "               pt.surf(traj_open, ':174@CB'), \n",
    "               pt.surf(traj_open, ':14@CB')]\n",
    "\n",
    "sasa_open_all"
   ]
  },
  {
   "cell_type": "code",
   "execution_count": 25,
   "metadata": {},
   "outputs": [
    {
     "data": {
      "text/plain": [
       "[array([4.58195891]),\n",
       " array([7.76625221]),\n",
       " array([20.33505007]),\n",
       " array([4.41514841]),\n",
       " array([6.47253504]),\n",
       " array([5.51322351])]"
      ]
     },
     "execution_count": 25,
     "metadata": {},
     "output_type": "execute_result"
    }
   ],
   "source": [
    "traj_closed = pt.iterload('../1-Trajectories/0-Parm_rst/closed6_dry_rot0.rst7', \n",
    "                          '../1-Trajectories/0-Parm_rst/closed6_dry_rot0.parm7')\n",
    "\n",
    "sasa_closed_all=[pt.surf(traj_closed , ':46@CB'), \n",
    "                 pt.surf(traj_closed , ':78@CB'),\n",
    "                 pt.surf(traj_closed , ':110@CB'),\n",
    "                 pt.surf(traj_closed , ':142@CB'),\n",
    "                 pt.surf(traj_closed , ':174@CB'),\n",
    "                 pt.surf(traj_closed , ':14@CB')]\n",
    "\n",
    "sasa_closed_all"
   ]
  },
  {
   "cell_type": "markdown",
   "metadata": {},
   "source": [
    "## Without IPA"
   ]
  },
  {
   "cell_type": "code",
   "execution_count": 12,
   "metadata": {},
   "outputs": [],
   "source": [
    "sasa_1=[]\n",
    "sasa_2=[]\n",
    "sasa_3=[]\n",
    "sasa_4=[]\n",
    "sasa_5=[]\n",
    "sasa_6=[]\n",
    "\n",
    "traj_list=sorted(glob(\"./sample_structures/2-Without_IPA/5-MSM_10000_samples_per_ref/pcca*_ref0.xtc\"))\n",
    "\n",
    "for t in traj_list:\n",
    "    traj = pt.iterload(t, \"../1-Trajectories/0-Parm_rst/closed6_dry_rot0.parm7\", stride=1)\n",
    "    sasa_6.append(pt.surf(traj, ':14@CB'))\n",
    "    sasa_1.append(pt.surf(traj, ':46@CB'))\n",
    "    sasa_2.append(pt.surf(traj, ':78@CB'))\n",
    "    sasa_3.append(pt.surf(traj, ':110@CB'))\n",
    "    sasa_4.append(pt.surf(traj, ':142@CB'))\n",
    "    sasa_5.append(pt.surf(traj, ':174@CB'))\n",
    "\n",
    "\n",
    "###\n",
    "\n",
    "traj_list=sorted(glob(\"./sample_structures/2-Without_IPA/5-MSM_10000_samples_per_ref/pcca*_ref1.xtc\"))\n",
    "count=0\n",
    "for t in traj_list:\n",
    "    traj = pt.iterload(t, \"../1-Trajectories/0-Parm_rst/closed6_dry_rot1.parm7\", stride=1)\n",
    "    sasa_5[count]=np.append(sasa_5[count], pt.surf(traj, ':14@CB'))\n",
    "    sasa_6[count]=np.append(sasa_6[count], pt.surf(traj, ':46@CB'))\n",
    "    sasa_1[count]=np.append(sasa_1[count], pt.surf(traj, ':78@CB'))\n",
    "    sasa_2[count]=np.append(sasa_2[count], pt.surf(traj, ':110@CB'))\n",
    "    sasa_3[count]=np.append(sasa_3[count], pt.surf(traj, ':142@CB'))\n",
    "    sasa_4[count]=np.append(sasa_4[count], pt.surf(traj, ':174@CB'))\n",
    "    count+=1\n",
    "\n",
    "###\n",
    "\n",
    "traj_list=sorted(glob(\"./sample_structures/2-Without_IPA/5-MSM_10000_samples_per_ref/pcca*_ref2.xtc\"))\n",
    "count=0\n",
    "for t in traj_list:\n",
    "    traj = pt.iterload(t, \"../1-Trajectories/0-Parm_rst/closed6_dry_rot2.parm7\", stride=1)\n",
    "    sasa_4[count]=np.append(sasa_4[count], pt.surf(traj, ':14@CB'))\n",
    "    sasa_5[count]=np.append(sasa_5[count], pt.surf(traj, ':46@CB'))\n",
    "    sasa_6[count]=np.append(sasa_6[count], pt.surf(traj, ':78@CB'))\n",
    "    sasa_1[count]=np.append(sasa_1[count], pt.surf(traj, ':110@CB'))\n",
    "    sasa_2[count]=np.append(sasa_2[count], pt.surf(traj, ':142@CB'))\n",
    "    sasa_3[count]=np.append(sasa_3[count], pt.surf(traj, ':174@CB'))\n",
    "    count+=1\n",
    "\n",
    "###\n",
    "\n",
    "traj_list=sorted(glob(\"./sample_structures/2-Without_IPA/5-MSM_10000_samples_per_ref/pcca*_ref3.xtc\"))\n",
    "count=0\n",
    "for t in traj_list:\n",
    "    traj = pt.iterload(t, \"../1-Trajectories/0-Parm_rst/closed6_dry_rot3.parm7\", stride=1)\n",
    "    sasa_3[count]=np.append(sasa_3[count], pt.surf(traj, ':14@CB'))\n",
    "    sasa_4[count]=np.append(sasa_4[count], pt.surf(traj, ':46@CB'))\n",
    "    sasa_5[count]=np.append(sasa_5[count], pt.surf(traj, ':78@CB'))\n",
    "    sasa_6[count]=np.append(sasa_6[count], pt.surf(traj, ':110@CB'))\n",
    "    sasa_1[count]=np.append(sasa_1[count], pt.surf(traj, ':142@CB'))\n",
    "    sasa_2[count]=np.append(sasa_2[count], pt.surf(traj, ':174@CB'))\n",
    "    count+=1\n",
    "\n",
    "\n",
    "###\n",
    "\n",
    "traj_list=sorted(glob(\"./sample_structures/2-Without_IPA/5-MSM_10000_samples_per_ref/pcca*_ref4.xtc\"))\n",
    "count=0\n",
    "for t in traj_list:\n",
    "    traj = pt.iterload(t, \"../1-Trajectories/0-Parm_rst/closed6_dry_rot4.parm7\", stride=1)\n",
    "    sasa_2[count]=np.append(sasa_2[count], pt.surf(traj, ':14@CB'))\n",
    "    sasa_3[count]=np.append(sasa_3[count], pt.surf(traj, ':46@CB'))\n",
    "    sasa_4[count]=np.append(sasa_4[count], pt.surf(traj, ':78@CB'))\n",
    "    sasa_5[count]=np.append(sasa_5[count], pt.surf(traj, ':110@CB'))\n",
    "    sasa_6[count]=np.append(sasa_6[count], pt.surf(traj, ':142@CB'))\n",
    "    sasa_1[count]=np.append(sasa_1[count], pt.surf(traj, ':174@CB'))\n",
    "    count+=1\n",
    "\n",
    "\n",
    "###\n",
    "\n",
    "traj_list=sorted(glob(\"./sample_structures/2-Without_IPA/5-MSM_10000_samples_per_ref/pcca*_ref5.xtc\"))\n",
    "count=0\n",
    "for t in traj_list:\n",
    "    traj = pt.iterload(t, \"../1-Trajectories/0-Parm_rst/closed6_dry_rot5.parm7\", stride=1)\n",
    "    sasa_1[count]=np.append(sasa_1[count], pt.surf(traj, ':14@CB'))\n",
    "    sasa_2[count]=np.append(sasa_2[count], pt.surf(traj, ':46@CB'))\n",
    "    sasa_3[count]=np.append(sasa_3[count], pt.surf(traj, ':78@CB'))\n",
    "    sasa_4[count]=np.append(sasa_4[count], pt.surf(traj, ':110@CB'))\n",
    "    sasa_5[count]=np.append(sasa_5[count], pt.surf(traj, ':142@CB'))\n",
    "    sasa_6[count]=np.append(sasa_6[count], pt.surf(traj, ':174@CB'))\n",
    "    count+=1\n",
    "\n",
    "sasa_all=[sasa_1, sasa_2, sasa_3, sasa_4, sasa_5, sasa_6]"
   ]
  },
  {
   "cell_type": "code",
   "execution_count": null,
   "metadata": {},
   "outputs": [],
   "source": [
    "print(len(sasa_1), len(sasa_1[0]), len(sasa_all))"
   ]
  },
  {
   "cell_type": "code",
   "execution_count": 13,
   "metadata": {},
   "outputs": [
    {
     "data": {
      "image/png": "[encoded data removed]",
      "text/plain": [
       "<Figure size 864x576 with 37 Axes>"
      ]
     },
     "metadata": {
      "needs_background": "light"
     },
     "output_type": "display_data"
    }
   ],
   "source": [
    "colours=['#c51b7d','#de77ae','#f1b6da','#b8e186','#7fbc41','#4d9221',\n",
    "         '#c51b7d','#de77ae','#f1b6da','#b8e186','#7fbc41','#4d9221',\n",
    "         '#c51b7d','#de77ae','#f1b6da','#b8e186','#7fbc41','#4d9221',\n",
    "         '#c51b7d','#de77ae','#f1b6da','#b8e186','#7fbc41','#4d9221',\n",
    "         '#c51b7d','#de77ae','#f1b6da','#b8e186','#7fbc41','#4d9221',\n",
    "         '#c51b7d','#de77ae','#f1b6da','#b8e186','#7fbc41','#4d9221']\n",
    "\n",
    "\n",
    "# mapped as PCCA 0,1,2,3,4,5 correspond to S2, S1, S3, S4, S6, S5 resp.\n",
    "# Note that chain B is 0 or very small. If 0 creates a large hist, \n",
    "# so used the very small value for entries that are 0\n",
    "pcca=[1,1,1,1,1,1,\n",
    "      0,0,0,0,0,0,\n",
    "      2,2,2,2,2,2,\n",
    "      3,3,3,3,3,3,\n",
    "      5,5,5,5,5,5,\n",
    "      4,4,4,4,4,4]\n",
    "\n",
    "chains=[0,1,2,3,4,5,\n",
    "        0,1,2,3,4,5,\n",
    "        0,1,2,3,4,5,\n",
    "        0,1,2,3,4,5,\n",
    "        0,1,2,3,4,5,\n",
    "        0,1,2,3,4,5]\n",
    "\n",
    "fig, axes = plt.subplots(6, 6, figsize=(12, 8), sharex=True, sharey=True)\n",
    "\n",
    "for i, ax in enumerate(axes.flat):\n",
    "    ax.hist(sasa_all[chains[i]][pcca[i]], \n",
    "            bins=40, \n",
    "            density=True,\n",
    "            range=(0.0,40),\n",
    "            color=colours[i])\n",
    "#     sns.distplot(sasa_all_at_2[pcca[i]][:,at[i]], kde=False, ax=ax, bins=10,norm_hist=False, \n",
    "#                  color=colours[i], hist_kws={\"alpha\": 1})\n",
    "\n",
    "\n",
    "\n",
    "    ax.set_xlim(0.0,40)\n",
    "    ax.set_xticks(np.arange(0, 50, 10))    \n",
    "    ax.set_ylim(0,0.25)\n",
    "    ax.set_yticks(np.arange(0, 0.25, 0.1))     \n",
    "\n",
    "\n",
    "# To have common x and y labels\n",
    "# add a big axis, hide frame\n",
    "fig.add_subplot(111, frameon=False)\n",
    "# hide tick and tick label of the big axis\n",
    "plt.tick_params(labelcolor='none', top=False, bottom=False, left=False, right=False)    \n",
    "plt.xlabel(r'Solvent accessible surface area of CC-Type2-($L_aI_dG_e)_4$ - [Ala13 - $C\\beta$] ($\\AA^2$)')\n",
    "plt.ylabel(r'Probability density')\n",
    "\n",
    "fig.tight_layout()\n",
    "fig.savefig('./plots/2-Without_IPA/32_SASA_Ala13_CB_amber.png', dpi=600)"
   ]
  },
  {
   "cell_type": "code",
   "execution_count": 21,
   "metadata": {},
   "outputs": [
    {
     "data": {
      "text/plain": [
       "array([18292, 16380, 14743, 16923, 18164, 14763])"
      ]
     },
     "execution_count": 21,
     "metadata": {},
     "output_type": "execute_result"
    }
   ],
   "source": [
    "weights=[0.018,0.074,0.040,0.053,0.196,0.620]\n",
    "\n",
    "exposed=[]\n",
    "tot=[]\n",
    "for j in range(0,6):\n",
    "    a=[]\n",
    "    for i in range(0,6):\n",
    "        a.append(np.size(np.where(sasa_all[i][j]>=10)))\n",
    "    exposed.append(a)\n",
    "\n"
   ]
  },
  {
   "cell_type": "code",
   "execution_count": 22,
   "metadata": {},
   "outputs": [
    {
     "data": {
      "text/plain": [
       "array([[   5, 6465, 9042,  197, 1146, 1437],\n",
       "       [  11, 3826, 8856,  659, 1325, 1703],\n",
       "       [  74, 1622, 7964, 1965, 1306, 1812],\n",
       "       [ 732, 1110, 2818, 7193,  186, 4884],\n",
       "       [  26,  583, 7570, 2442,   45, 7498],\n",
       "       [  60, 1485, 2907, 7167,   40, 3104]])"
      ]
     },
     "execution_count": 22,
     "metadata": {},
     "output_type": "execute_result"
    }
   ],
   "source": [
    "np.array(exposed)"
   ]
  },
  {
   "cell_type": "code",
   "execution_count": 25,
   "metadata": {},
   "outputs": [
    {
     "data": {
      "text/plain": [
       "1.001"
      ]
     },
     "execution_count": 25,
     "metadata": {},
     "output_type": "execute_result"
    }
   ],
   "source": [
    "np.array([   5, 6465, 9042,  197, 1146, 1437]).sum()"
   ]
  },
  {
   "cell_type": "code",
   "execution_count": 24,
   "metadata": {},
   "outputs": [
    {
     "data": {
      "text/plain": [
       "array([18292, 16380, 14743, 16923, 18164, 14763])"
      ]
     },
     "execution_count": 24,
     "metadata": {},
     "output_type": "execute_result"
    }
   ],
   "source": [
    "np.array(exposed).sum(axis=1)"
   ]
  },
  {
   "cell_type": "code",
   "execution_count": 32,
   "metadata": {},
   "outputs": [
    {
     "data": {
      "text/plain": [
       "0.26235365"
      ]
     },
     "execution_count": 32,
     "metadata": {},
     "output_type": "execute_result"
    }
   ],
   "source": [
    "np.multiply(np.array(exposed).sum(axis=1), np.array(weights)).sum()/60000"
   ]
  },
  {
   "cell_type": "markdown",
   "metadata": {},
   "source": [
    "## With IPA"
   ]
  },
  {
   "cell_type": "code",
   "execution_count": 2,
   "metadata": {},
   "outputs": [],
   "source": [
    "sasa_1=[]\n",
    "sasa_2=[]\n",
    "sasa_3=[]\n",
    "sasa_4=[]\n",
    "sasa_5=[]\n",
    "sasa_6=[]\n",
    "\n",
    "traj_list=sorted(glob(\"./sample_structures/1-With_IPA/5-MSM_10000_samples_per_ref/pcca*_ref0.xtc\"))\n",
    "\n",
    "for t in traj_list:\n",
    "    traj = pt.iterload(t, \"../1-Trajectories/0-Parm_rst/closed6_dry_rot0.parm7\", stride=1)\n",
    "    sasa_6.append(pt.surf(traj, ':14@CB'))\n",
    "    sasa_1.append(pt.surf(traj, ':46@CB'))\n",
    "    sasa_2.append(pt.surf(traj, ':78@CB'))\n",
    "    sasa_3.append(pt.surf(traj, ':110@CB'))\n",
    "    sasa_4.append(pt.surf(traj, ':142@CB'))\n",
    "    sasa_5.append(pt.surf(traj, ':174@CB'))\n",
    "\n",
    "\n",
    "###\n",
    "\n",
    "traj_list=sorted(glob(\"./sample_structures/1-With_IPA/5-MSM_10000_samples_per_ref/pcca*_ref1.xtc\"))\n",
    "count=0\n",
    "for t in traj_list:\n",
    "    traj = pt.iterload(t, \"../1-Trajectories/0-Parm_rst/closed6_dry_rot1.parm7\", stride=1)\n",
    "    sasa_5[count]=np.append(sasa_5[count], pt.surf(traj, ':14@CB'))\n",
    "    sasa_6[count]=np.append(sasa_6[count], pt.surf(traj, ':46@CB'))\n",
    "    sasa_1[count]=np.append(sasa_1[count], pt.surf(traj, ':78@CB'))\n",
    "    sasa_2[count]=np.append(sasa_2[count], pt.surf(traj, ':110@CB'))\n",
    "    sasa_3[count]=np.append(sasa_3[count], pt.surf(traj, ':142@CB'))\n",
    "    sasa_4[count]=np.append(sasa_4[count], pt.surf(traj, ':174@CB'))\n",
    "    count+=1\n",
    "\n",
    "###\n",
    "\n",
    "traj_list=sorted(glob(\"./sample_structures/1-With_IPA/5-MSM_10000_samples_per_ref/pcca*_ref2.xtc\"))\n",
    "count=0\n",
    "for t in traj_list:\n",
    "    traj = pt.iterload(t, \"../1-Trajectories/0-Parm_rst/closed6_dry_rot2.parm7\", stride=1)\n",
    "    sasa_4[count]=np.append(sasa_4[count], pt.surf(traj, ':14@CB'))\n",
    "    sasa_5[count]=np.append(sasa_5[count], pt.surf(traj, ':46@CB'))\n",
    "    sasa_6[count]=np.append(sasa_6[count], pt.surf(traj, ':78@CB'))\n",
    "    sasa_1[count]=np.append(sasa_1[count], pt.surf(traj, ':110@CB'))\n",
    "    sasa_2[count]=np.append(sasa_2[count], pt.surf(traj, ':142@CB'))\n",
    "    sasa_3[count]=np.append(sasa_3[count], pt.surf(traj, ':174@CB'))\n",
    "    count+=1\n",
    "\n",
    "###\n",
    "\n",
    "traj_list=sorted(glob(\"./sample_structures/1-With_IPA/5-MSM_10000_samples_per_ref/pcca*_ref3.xtc\"))\n",
    "count=0\n",
    "for t in traj_list:\n",
    "    traj = pt.iterload(t, \"../1-Trajectories/0-Parm_rst/closed6_dry_rot3.parm7\", stride=1)\n",
    "    sasa_3[count]=np.append(sasa_3[count], pt.surf(traj, ':14@CB'))\n",
    "    sasa_4[count]=np.append(sasa_4[count], pt.surf(traj, ':46@CB'))\n",
    "    sasa_5[count]=np.append(sasa_5[count], pt.surf(traj, ':78@CB'))\n",
    "    sasa_6[count]=np.append(sasa_6[count], pt.surf(traj, ':110@CB'))\n",
    "    sasa_1[count]=np.append(sasa_1[count], pt.surf(traj, ':142@CB'))\n",
    "    sasa_2[count]=np.append(sasa_2[count], pt.surf(traj, ':174@CB'))\n",
    "    count+=1\n",
    "\n",
    "\n",
    "###\n",
    "\n",
    "traj_list=sorted(glob(\"./sample_structures/1-With_IPA/5-MSM_10000_samples_per_ref/pcca*_ref4.xtc\"))\n",
    "count=0\n",
    "for t in traj_list:\n",
    "    traj = pt.iterload(t, \"../1-Trajectories/0-Parm_rst/closed6_dry_rot4.parm7\", stride=1)\n",
    "    sasa_2[count]=np.append(sasa_2[count], pt.surf(traj, ':14@CB'))\n",
    "    sasa_3[count]=np.append(sasa_3[count], pt.surf(traj, ':46@CB'))\n",
    "    sasa_4[count]=np.append(sasa_4[count], pt.surf(traj, ':78@CB'))\n",
    "    sasa_5[count]=np.append(sasa_5[count], pt.surf(traj, ':110@CB'))\n",
    "    sasa_6[count]=np.append(sasa_6[count], pt.surf(traj, ':142@CB'))\n",
    "    sasa_1[count]=np.append(sasa_1[count], pt.surf(traj, ':174@CB'))\n",
    "    count+=1\n",
    "\n",
    "\n",
    "###\n",
    "\n",
    "traj_list=sorted(glob(\"./sample_structures/1-With_IPA/5-MSM_10000_samples_per_ref/pcca*_ref5.xtc\"))\n",
    "count=0\n",
    "for t in traj_list:\n",
    "    traj = pt.iterload(t, \"../1-Trajectories/0-Parm_rst/closed6_dry_rot5.parm7\", stride=1)\n",
    "    sasa_1[count]=np.append(sasa_1[count], pt.surf(traj, ':14@CB'))\n",
    "    sasa_2[count]=np.append(sasa_2[count], pt.surf(traj, ':46@CB'))\n",
    "    sasa_3[count]=np.append(sasa_3[count], pt.surf(traj, ':78@CB'))\n",
    "    sasa_4[count]=np.append(sasa_4[count], pt.surf(traj, ':110@CB'))\n",
    "    sasa_5[count]=np.append(sasa_5[count], pt.surf(traj, ':142@CB'))\n",
    "    sasa_6[count]=np.append(sasa_6[count], pt.surf(traj, ':174@CB'))\n",
    "    count+=1\n",
    "\n",
    "sasa_ipa_all=[sasa_1, sasa_2, sasa_3, sasa_4, sasa_5, sasa_6]"
   ]
  },
  {
   "cell_type": "code",
   "execution_count": 3,
   "metadata": {},
   "outputs": [
    {
     "name": "stdout",
     "output_type": "stream",
     "text": [
      "5 10000 6\n"
     ]
    }
   ],
   "source": [
    "print(len(sasa_1), len(sasa_1[0]), len(sasa_ipa_all))"
   ]
  },
  {
   "cell_type": "code",
   "execution_count": 4,
   "metadata": {},
   "outputs": [
    {
     "data": {
      "image/png": "[encoded data removed]",
      "text/plain": [
       "<Figure size 864x504 with 31 Axes>"
      ]
     },
     "metadata": {
      "needs_background": "light"
     },
     "output_type": "display_data"
    }
   ],
   "source": [
    "colours=['#c51b7d','#de77ae','#f1b6da','#b8e186','#7fbc41','#4d9221',\n",
    "         '#c51b7d','#de77ae','#f1b6da','#b8e186','#7fbc41','#4d9221',\n",
    "         '#c51b7d','#de77ae','#f1b6da','#b8e186','#7fbc41','#4d9221',\n",
    "         '#c51b7d','#de77ae','#f1b6da','#b8e186','#7fbc41','#4d9221',\n",
    "         '#c51b7d','#de77ae','#f1b6da','#b8e186','#7fbc41','#4d9221',\n",
    "         '#c51b7d','#de77ae','#f1b6da','#b8e186','#7fbc41','#4d9221']\n",
    "\n",
    "\n",
    "# mapped as PCCA 0,1,2,3,4,5 correspond to S2, S1, S3, S4, S6, S5 resp.\n",
    "# Note that chain B is 0 or very small. If 0 creates a large hist, \n",
    "# so used the very small value for entries that are 0\n",
    "pcca=[2,2,2,2,2,2,\n",
    "      1,1,1,1,1,1,\n",
    "      3,3,3,3,3,3,\n",
    "      4,4,4,4,4,4,\n",
    "      0,0,0,0,0,0]\n",
    "\n",
    "chains=[0,1,2,3,4,5,\n",
    "        0,1,2,3,4,5,\n",
    "        0,1,2,3,4,5,\n",
    "        0,1,2,3,4,5,\n",
    "        0,1,2,3,4,5,\n",
    "        0,1,2,3,4,5]\n",
    "\n",
    "fig, axes = plt.subplots(5, 6, figsize=(12, 7), sharex=True, sharey=True)\n",
    "\n",
    "for i, ax in enumerate(axes.flat):\n",
    "    ax.hist(sasa_ipa_all[chains[i]][pcca[i]], \n",
    "            bins=40, \n",
    "            density=True,\n",
    "            range=(0.0,40),\n",
    "            color=colours[i])\n",
    "#     sns.distplot(sasa_all_at_2[pcca[i]][:,at[i]], kde=False, ax=ax, bins=10,norm_hist=False, \n",
    "#                  color=colours[i], hist_kws={\"alpha\": 1})\n",
    "\n",
    "\n",
    "    ax.set_xlim(0.0,40)\n",
    "    ax.set_xticks(np.arange(0, 50, 10))    \n",
    "    ax.set_ylim(0,0.25)\n",
    "    ax.set_yticks(np.arange(0, 0.25, 0.1))   \n",
    "\n",
    "# To have common x and y labels\n",
    "# add a big axis, hide frame\n",
    "fig.add_subplot(111, frameon=False)\n",
    "# hide tick and tick label of the big axis\n",
    "plt.tick_params(labelcolor='none', top=False, bottom=False, left=False, right=False)    \n",
    "plt.xlabel(r'Solvent accessible surface area of CC-Type2-($L_aI_dG_e)_4$ - [Ala13 - $C\\beta$] ($\\AA^2$)')\n",
    "plt.ylabel(r'Probability density')\n",
    "\n",
    "fig.tight_layout()\n",
    "fig.savefig('./plots/1-With_IPA/32_SASA_Ala13_CB_amber.png', dpi=600)"
   ]
  },
  {
   "cell_type": "code",
   "execution_count": 5,
   "metadata": {},
   "outputs": [],
   "source": [
    "weights=[0.029693,0.099180,0.194989,0.162358,0.513779]\n",
    "\n",
    "exposed=[]\n",
    "tot=[]\n",
    "for j in range(0,5):\n",
    "    a=[]\n",
    "    for i in range(0,6):\n",
    "        a.append(np.size(np.where(sasa_ipa_all[i][j]>=10)))\n",
    "    exposed.append(a)\n"
   ]
  },
  {
   "cell_type": "code",
   "execution_count": 6,
   "metadata": {},
   "outputs": [
    {
     "data": {
      "text/plain": [
       "array([27690, 21462, 20282, 22389, 20190])"
      ]
     },
     "execution_count": 6,
     "metadata": {},
     "output_type": "execute_result"
    }
   ],
   "source": [
    "np.array(exposed).sum(axis=1)"
   ]
  },
  {
   "cell_type": "code",
   "execution_count": 8,
   "metadata": {},
   "outputs": [
    {
     "data": {
      "text/plain": [
       "0.3485633083333333"
      ]
     },
     "execution_count": 8,
     "metadata": {},
     "output_type": "execute_result"
    }
   ],
   "source": [
    "np.multiply(np.array(exposed).sum(axis=1), np.array(weights)).sum()/60000"
   ]
  },
  {
   "cell_type": "markdown",
   "metadata": {},
   "source": [
    "## CCHex2"
   ]
  },
  {
   "cell_type": "code",
   "execution_count": 33,
   "metadata": {},
   "outputs": [],
   "source": [
    "traj_list=sorted(glob(\"../1-Trajectories/5-CC-Hex2/ccHex2_*_prod_dry.nc\"))\n",
    "traj = pt.iterload(traj_list, \"../1-Trajectories/5-CC-Hex2/ccHex2_dry.parm7\", stride=10)\n",
    "\n",
    "sasa_6=[pt.surf(traj, ':19@CB')]\n",
    "sasa_1=[pt.surf(traj, ':51@CB')]\n",
    "sasa_2=[pt.surf(traj, ':83@CB')]\n",
    "sasa_3=[pt.surf(traj, ':115@CB')]\n",
    "sasa_4=[pt.surf(traj, ':147@CB')]\n",
    "sasa_5=[pt.surf(traj, ':179@CB')]\n",
    "        \n",
    "sasa_cchex2_all=[sasa_1, sasa_2, sasa_3, sasa_4, sasa_5, sasa_6]"
   ]
  },
  {
   "cell_type": "code",
   "execution_count": 41,
   "metadata": {},
   "outputs": [
    {
     "data": {
      "image/png": "[encoded data removed]",
      "text/plain": [
       "<Figure size 864x180 with 7 Axes>"
      ]
     },
     "metadata": {
      "needs_background": "light"
     },
     "output_type": "display_data"
    }
   ],
   "source": [
    "colours=['#c51b7d','#de77ae','#f1b6da','#b8e186','#7fbc41','#4d9221']\n",
    "\n",
    "fig, axes = plt.subplots(1, 6, figsize=(12, 2.5), sharex=True, sharey=True)\n",
    "\n",
    "for i, ax in enumerate(axes.flat):\n",
    "    ax.hist(sasa_cchex2_all[i], \n",
    "            bins=40, \n",
    "            density=True,\n",
    "            range=(0.0,40),\n",
    "            color=colours[i])\n",
    "#     sns.distplot(sasa_all_at_2[pcca[i]][:,at[i]], kde=False, ax=ax, bins=10,norm_hist=False, \n",
    "#                  color=colours[i], hist_kws={\"alpha\": 1})\n",
    "\n",
    "\n",
    "    ax.set_xlim(0.0,40)\n",
    "    ax.set_xticks(np.arange(0, 50, 10))    \n",
    "    ax.set_ylim(0,0.25)\n",
    "    ax.set_yticks(np.arange(0, 0.25, 0.1))   \n",
    "\n",
    "# To have common x and y labels\n",
    "# add a big axis, hide frame\n",
    "fig.add_subplot(111, frameon=False)\n",
    "# hide tick and tick label of the big axis\n",
    "plt.tick_params(labelcolor='none', top=False, bottom=False, left=False, right=False)    \n",
    "plt.xlabel(r'Solvent accessible surface area of CC-Type2-($S_gL_aI_d)_4$ - [Ala18 - $C\\beta$] ($\\AA^2$)')\n",
    "plt.ylabel(r'Probability density')\n",
    "\n",
    "fig.tight_layout()\n",
    "fig.savefig('./plots/4-ccHex2/32_SASA_Ala13_CB_amber.png', dpi=600)"
   ]
  },
  {
   "cell_type": "markdown",
   "metadata": {},
   "source": [
    "## Test including IPA molecules"
   ]
  },
  {
   "cell_type": "code",
   "execution_count": 97,
   "metadata": {},
   "outputs": [
    {
     "data": {
      "text/plain": [
       "pytraj.Trajectory, 5000 frames: \n",
       "Size: 1.687109 (GB)\n",
       "<Topology: 15096 atoms, 1216 residues, 1030 mols, PBC with box type = truncoct>\n",
       "           "
      ]
     },
     "execution_count": 97,
     "metadata": {},
     "output_type": "execute_result"
    }
   ],
   "source": [
    "traj = pt.load(\"../1-Trajectories/6-States_with_IPA/adapt1_ipa_dry_20_aligned.nc\", \n",
    "                   \"../1-Trajectories/6-States_with_IPA/adapt1_ipa_dry_20.parm7\", stride=1)\n",
    "traj"
   ]
  },
  {
   "cell_type": "code",
   "execution_count": 92,
   "metadata": {},
   "outputs": [
    {
     "data": {
      "text/plain": [
       "pytraj.Trajectory, 5000 frames: \n",
       "Size: 0.313818 (GB)\n",
       "<Topology: 2808 atoms, 192 residues, 6 mols, PBC with box type = truncoct>\n",
       "           "
      ]
     },
     "execution_count": 92,
     "metadata": {},
     "output_type": "execute_result"
    }
   ],
   "source": [
    "traj=pt.strip(traj, \":IPA\")\n",
    "traj"
   ]
  },
  {
   "cell_type": "code",
   "execution_count": 98,
   "metadata": {},
   "outputs": [],
   "source": [
    "sasa_test=[pt.surf(traj, ':46@CB'), \n",
    "               pt.surf(traj, ':78@CB'), \n",
    "               pt.surf(traj, ':110@CB'), \n",
    "               pt.surf(traj, ':142@CB'), \n",
    "               pt.surf(traj, ':174@CB'), \n",
    "               pt.surf(traj, ':14@CB')]"
   ]
  },
  {
   "cell_type": "code",
   "execution_count": 94,
   "metadata": {},
   "outputs": [
    {
     "data": {
      "image/png": "[encoded data removed]",
      "text/plain": [
       "<Figure size 864x180 with 7 Axes>"
      ]
     },
     "metadata": {
      "needs_background": "light"
     },
     "output_type": "display_data"
    }
   ],
   "source": [
    "colours=['#c51b7d','#de77ae','#f1b6da','#b8e186','#7fbc41','#4d9221']\n",
    "\n",
    "fig, axes = plt.subplots(1, 6, figsize=(12, 2.5), sharex=True, sharey=True)\n",
    "\n",
    "for i, ax in enumerate(axes.flat):\n",
    "    ax.hist(sasa_test[i], \n",
    "            bins=40, \n",
    "            density=True,\n",
    "            range=(0.0,40),\n",
    "            color=colours[i])\n",
    "#     sns.distplot(sasa_all_at_2[pcca[i]][:,at[i]], kde=False, ax=ax, bins=10,norm_hist=False, \n",
    "#                  color=colours[i], hist_kws={\"alpha\": 1})\n",
    "\n",
    "\n",
    "    ax.set_xlim(0.0,40)\n",
    "    ax.set_xticks(np.arange(0, 50, 10))    \n",
    "    ax.set_ylim(0,0.25)\n",
    "    ax.set_yticks(np.arange(0, 0.25, 0.1))   \n",
    "\n",
    "# To have common x and y labels\n",
    "# add a big axis, hide frame\n",
    "fig.add_subplot(111, frameon=False)\n",
    "# hide tick and tick label of the big axis\n",
    "plt.tick_params(labelcolor='none', top=False, bottom=False, left=False, right=False)    \n",
    "# plt.xlabel(r'Solvent accessible surface area of CC-Type2-($S_gL_aI_d)_4$ - [Ala18 - $C\\beta$] ($\\AA^2$)')\n",
    "plt.ylabel(r'Probability density')\n",
    "\n",
    "fig.tight_layout()"
   ]
  },
  {
   "cell_type": "code",
   "execution_count": 99,
   "metadata": {},
   "outputs": [
    {
     "data": {
      "image/png": "[encoded data removed]",
      "text/plain": [
       "<Figure size 864x180 with 7 Axes>"
      ]
     },
     "metadata": {
      "needs_background": "light"
     },
     "output_type": "display_data"
    }
   ],
   "source": [
    "colours=['#c51b7d','#de77ae','#f1b6da','#b8e186','#7fbc41','#4d9221']\n",
    "\n",
    "fig, axes = plt.subplots(1, 6, figsize=(12, 2.5), sharex=True, sharey=True)\n",
    "\n",
    "for i, ax in enumerate(axes.flat):\n",
    "    ax.hist(sasa_test[i], \n",
    "            bins=40, \n",
    "            density=True,\n",
    "            range=(0.0,40),\n",
    "            color=colours[i])\n",
    "#     sns.distplot(sasa_all_at_2[pcca[i]][:,at[i]], kde=False, ax=ax, bins=10,norm_hist=False, \n",
    "#                  color=colours[i], hist_kws={\"alpha\": 1})\n",
    "\n",
    "\n",
    "    ax.set_xlim(0.0,40)\n",
    "    ax.set_xticks(np.arange(0, 50, 10))    \n",
    "    ax.set_ylim(0,0.25)\n",
    "    ax.set_yticks(np.arange(0, 0.25, 0.1))   \n",
    "\n",
    "# To have common x and y labels\n",
    "# add a big axis, hide frame\n",
    "fig.add_subplot(111, frameon=False)\n",
    "# hide tick and tick label of the big axis\n",
    "plt.tick_params(labelcolor='none', top=False, bottom=False, left=False, right=False)    \n",
    "# plt.xlabel(r'Solvent accessible surface area of CC-Type2-($S_gL_aI_d)_4$ - [Ala18 - $C\\beta$] ($\\AA^2$)')\n",
    "plt.ylabel(r'Probability density')\n",
    "\n",
    "fig.tight_layout()"
   ]
  },
  {
   "cell_type": "code",
   "execution_count": 83,
   "metadata": {},
   "outputs": [],
   "source": [
    "sasa_1=[]\n",
    "sasa_2=[]\n",
    "sasa_3=[]\n",
    "sasa_4=[]\n",
    "sasa_5=[]\n",
    "sasa_6=[]\n",
    "\n",
    "traj_list=sorted(glob(\"./sample_structures/1-With_IPA/3-MSM_10000_samples/pcca*.xtc\"))\n",
    "\n",
    "for t in traj_list:\n",
    "    traj = pt.iterload(t, \"../1-Trajectories/0-Parm_rst/closed6_dry_rot0.parm7\", stride=10)\n",
    "    sasa_6.append(pt.surf(traj, ':14@CB'))\n",
    "    sasa_1.append(pt.surf(traj, ':46@CB'))\n",
    "    sasa_2.append(pt.surf(traj, ':78@CB'))\n",
    "    sasa_3.append(pt.surf(traj, ':110@CB'))\n",
    "    sasa_4.append(pt.surf(traj, ':142@CB'))\n",
    "    sasa_5.append(pt.surf(traj, ':174@CB'))"
   ]
  },
  {
   "cell_type": "code",
   "execution_count": 84,
   "metadata": {},
   "outputs": [],
   "source": [
    "sasa_test=[sasa_1, sasa_2, sasa_3, sasa_4, sasa_5, sasa_6]"
   ]
  },
  {
   "cell_type": "code",
   "execution_count": 85,
   "metadata": {},
   "outputs": [
    {
     "data": {
      "text/plain": [
       "[array([25.97745848, 21.76620545, 23.60954632, ..., 29.84951021,\n",
       "        24.4256855 , 24.35909417]),\n",
       " array([ 2.78067584, 31.34013034,  4.29896951, ...,  1.05959123,\n",
       "         2.60121619,  5.62172576]),\n",
       " array([ 3.34666144, -1.23955456,  4.27554192, ...,  3.11149062,\n",
       "         3.74573304,  1.21149679]),\n",
       " array([ 3.48421023, 20.39927786,  6.23406183, ..., 25.76494259,\n",
       "         5.64036281,  1.63325879]),\n",
       " array([ 5.40041376,  4.27469385, -3.47154522, ...,  2.16282534,\n",
       "         6.27661829,  2.43068333])]"
      ]
     },
     "execution_count": 85,
     "metadata": {},
     "output_type": "execute_result"
    }
   ],
   "source": [
    "sasa_1"
   ]
  },
  {
   "cell_type": "code",
   "execution_count": null,
   "metadata": {},
   "outputs": [],
   "source": []
  },
  {
   "cell_type": "code",
   "execution_count": null,
   "metadata": {},
   "outputs": [],
   "source": []
  },
  {
   "cell_type": "code",
   "execution_count": 86,
   "metadata": {},
   "outputs": [
    {
     "data": {
      "image/png": "[encoded data removed]",
      "text/plain": [
       "<Figure size 864x504 with 31 Axes>"
      ]
     },
     "metadata": {
      "needs_background": "light"
     },
     "output_type": "display_data"
    }
   ],
   "source": [
    "colours=['#c51b7d','#de77ae','#f1b6da','#b8e186','#7fbc41','#4d9221',\n",
    "         '#c51b7d','#de77ae','#f1b6da','#b8e186','#7fbc41','#4d9221',\n",
    "         '#c51b7d','#de77ae','#f1b6da','#b8e186','#7fbc41','#4d9221',\n",
    "         '#c51b7d','#de77ae','#f1b6da','#b8e186','#7fbc41','#4d9221',\n",
    "         '#c51b7d','#de77ae','#f1b6da','#b8e186','#7fbc41','#4d9221',\n",
    "         '#c51b7d','#de77ae','#f1b6da','#b8e186','#7fbc41','#4d9221']\n",
    "\n",
    "\n",
    "# mapped as PCCA 0,1,2,3,4,5 correspond to S2, S1, S3, S4, S6, S5 resp.\n",
    "# Note that chain B is 0 or very small. If 0 creates a large hist, \n",
    "# so used the very small value for entries that are 0\n",
    "pcca=[2,2,2,2,2,2,\n",
    "      1,1,1,1,1,1,\n",
    "      3,3,3,3,3,3,\n",
    "      4,4,4,4,4,4,\n",
    "      0,0,0,0,0,0]\n",
    "\n",
    "chains=[0,1,2,3,4,5,\n",
    "        0,1,2,3,4,5,\n",
    "        0,1,2,3,4,5,\n",
    "        0,1,2,3,4,5,\n",
    "        0,1,2,3,4,5,\n",
    "        0,1,2,3,4,5]\n",
    "\n",
    "fig, axes = plt.subplots(5, 6, figsize=(12, 7), sharex=True, sharey=True)\n",
    "\n",
    "for i, ax in enumerate(axes.flat):\n",
    "    ax.hist(sasa_test[chains[i]][pcca[i]], \n",
    "            bins=40, \n",
    "            density=True,\n",
    "            range=(0.0,40),\n",
    "            color=colours[i])\n",
    "#     sns.distplot(sasa_all_at_2[pcca[i]][:,at[i]], kde=False, ax=ax, bins=10,norm_hist=False, \n",
    "#                  color=colours[i], hist_kws={\"alpha\": 1})\n",
    "\n",
    "\n",
    "    ax.set_xlim(0.0,40)\n",
    "    ax.set_xticks(np.arange(0, 50, 10))    \n",
    "    ax.set_ylim(0,0.25)\n",
    "    ax.set_yticks(np.arange(0, 0.25, 0.1))   \n",
    "\n",
    "# To have common x and y labels\n",
    "# add a big axis, hide frame\n",
    "fig.add_subplot(111, frameon=False)\n",
    "# hide tick and tick label of the big axis\n",
    "plt.tick_params(labelcolor='none', top=False, bottom=False, left=False, right=False)    \n",
    "plt.xlabel(r'Solvent accessible surface area of CC-Type2-($L_aI_dG_e)_4$ - [Ala13 - $C\\beta$] ($\\AA^2$)')\n",
    "plt.ylabel(r'Probability density')\n",
    "\n",
    "fig.tight_layout()"
   ]
  },
  {
   "cell_type": "code",
   "execution_count": null,
   "metadata": {},
   "outputs": [],
   "source": []
  }
 ],
 "metadata": {
  "kernelspec": {
   "display_name": "Python 3",
   "language": "python",
   "name": "python3"
  },
  "language_info": {
   "codemirror_mode": {
    "name": "ipython",
    "version": 3
   },
   "file_extension": ".py",
   "mimetype": "text/x-python",
   "name": "python",
   "nbconvert_exporter": "python",
   "pygments_lexer": "ipython3",
   "version": "3.7.8"
  },
  "toc": {
   "base_numbering": 1,
   "nav_menu": {},
   "number_sections": true,
   "sideBar": true,
   "skip_h1_title": false,
   "title_cell": "Table of Contents",
   "title_sidebar": "Contents",
   "toc_cell": false,
   "toc_position": {},
   "toc_section_display": true,
   "toc_window_display": false
  }
 },
 "nbformat": 4,
 "nbformat_minor": 4
}
