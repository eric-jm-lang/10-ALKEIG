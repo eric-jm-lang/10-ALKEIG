{
 "cells": [
  {
   "cell_type": "code",
   "execution_count": 2,
   "metadata": {},
   "outputs": [],
   "source": [
    "%matplotlib inline\n",
    "import matplotlib as mpl\n",
    "mpl.rc(\"font\", family=\"Arial\")\n",
    "import matplotlib.pyplot as plt\n",
    "from mpl_toolkits.axes_grid1 import make_axes_locatable\n",
    "from matplotlib.colors import ListedColormap, LinearSegmentedColormap\n",
    "import seaborn as sns"
   ]
  },
  {
   "cell_type": "code",
   "execution_count": 28,
   "metadata": {},
   "outputs": [
    {
     "data": {
      "image/png": "[encoded data removed]",
      "text/plain": [
       "<Figure size 936x72 with 1 Axes>"
      ]
     },
     "metadata": {
      "needs_background": "light"
     },
     "output_type": "display_data"
    }
   ],
   "source": [
    "from pylab import *\n",
    "\n",
    "hexlist=[]\n",
    "\n",
    "cmap = cm.get_cmap(\"RdBu\", 13)    # PiYG\n",
    "\n",
    "for i in range(cmap.N):\n",
    "    rgb = cmap(i)[:3] # will return rgba, we take only first 3 so we get rgb\n",
    "    hexlist.append(matplotlib.colors.rgb2hex(rgb))\n",
    "sns.set_palette(hexlist)\n",
    "sns.palplot(sns.color_palette())\n",
    "my_cmap_ipa=ListedColormap([hexlist[7],hexlist[6],hexlist[8],hexlist[9],hexlist[11],hexlist[10]])"
   ]
  },
  {
   "cell_type": "code",
   "execution_count": 21,
   "metadata": {},
   "outputs": [
    {
     "data": {
      "image/png": "[encoded data removed]",
      "text/plain": [
       "<Figure size 864x72 with 1 Axes>"
      ]
     },
     "metadata": {
      "needs_background": "light"
     },
     "output_type": "display_data"
    }
   ],
   "source": [
    "from pylab import *\n",
    "\n",
    "hexlist=[]\n",
    "\n",
    "cmap = cm.get_cmap(\"Reds\", 12)    # PiYG\n",
    "\n",
    "for i in range(cmap.N):\n",
    "    rgb = cmap(i)[:3] # will return rgba, we take only first 3 so we get rgb\n",
    "    hexlist.append(matplotlib.colors.rgb2hex(rgb))\n",
    "sns.set_palette(hexlist)\n",
    "sns.palplot(sns.color_palette())\n",
    "my_cmap_ipa=ListedColormap([hexlist[11],hexlist[8],hexlist[7],hexlist[9],hexlist[10]])"
   ]
  },
  {
   "cell_type": "code",
   "execution_count": null,
   "metadata": {},
   "outputs": [],
   "source": [
    "from pylab import *\n",
    "\n",
    "hexlist=[]\n",
    "\n",
    "cmap = cm.get_cmap(\"viridis\", 9)    # PiYG\n",
    "\n",
    "for i in range(cmap.N):\n",
    "    rgb = cmap(i)[:3] # will return rgba, we take only first 3 so we get rgb\n",
    "    hexlist.append(matplotlib.colors.rgb2hex(rgb))\n",
    "sns.set_palette(hexlist)\n",
    "sns.palplot(sns.color_palette())\n",
    "my_cmap=ListedColormap([hexlist[1],hexlist[3],hexlist[4],hexlist[7],hexlist[8],hexlist[6]])\n",
    "my_cmap_ipa=ListedColormap([hexlist[0],hexlist[5],hexlist[2],hexlist[7],hexlist[8]])"
   ]
  }
 ],
 "metadata": {
  "kernelspec": {
   "display_name": "Python 3",
   "language": "python",
   "name": "python3"
  },
  "language_info": {
   "codemirror_mode": {
    "name": "ipython",
    "version": 3
   },
   "file_extension": ".py",
   "mimetype": "text/x-python",
   "name": "python",
   "nbconvert_exporter": "python",
   "pygments_lexer": "ipython3",
   "version": "3.7.6"
  },
  "toc": {
   "base_numbering": 1,
   "nav_menu": {},
   "number_sections": true,
   "sideBar": true,
   "skip_h1_title": false,
   "title_cell": "Table of Contents",
   "title_sidebar": "Contents",
   "toc_cell": false,
   "toc_position": {},
   "toc_section_display": true,
   "toc_window_display": false
  }
 },
 "nbformat": 4,
 "nbformat_minor": 4
}
