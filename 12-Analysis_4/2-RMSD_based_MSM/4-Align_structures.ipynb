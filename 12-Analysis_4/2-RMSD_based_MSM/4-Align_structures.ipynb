{
 "cells": [
  {
   "cell_type": "code",
   "execution_count": 1,
   "metadata": {},
   "outputs": [],
   "source": [
    "import numpy as np\n",
    "import pytraj as pt\n",
    "import pickle\n",
    "from glob import glob"
   ]
  },
  {
   "cell_type": "code",
   "execution_count": 2,
   "metadata": {},
   "outputs": [],
   "source": [
    "rf0=pt.load('../1-Trajectories/0-Parm_rst/closed6_dry_rot0.rst7', \n",
    "            '../1-Trajectories/0-Parm_rst/closed6_dry_rot0.parm7')\n",
    "\n",
    "rf1=pt.load('../1-Trajectories/0-Parm_rst/closed6_dry_rot1.rst7', \n",
    "            '../1-Trajectories/0-Parm_rst/closed6_dry_rot1.parm7')\n",
    "\n",
    "rf2=pt.load('../1-Trajectories/0-Parm_rst//closed6_dry_rot2.rst7',\n",
    "            '../1-Trajectories/0-Parm_rst/closed6_dry_rot2.parm7')\n",
    "\n",
    "rf3=pt.load('../1-Trajectories/0-Parm_rst/closed6_dry_rot3.rst7', \n",
    "            '../1-Trajectories/0-Parm_rst/closed6_dry_rot3.parm7')\n",
    "\n",
    "rf4=pt.load('../1-Trajectories/0-Parm_rst/closed6_dry_rot4.rst7',\n",
    "            '../1-Trajectories/0-Parm_rst/closed6_dry_rot4.parm7')\n",
    "\n",
    "rf5=pt.load('../1-Trajectories/0-Parm_rst/closed6_dry_rot5.rst7', \n",
    "            '../1-Trajectories/0-Parm_rst/closed6_dry_rot5.parm7')\n",
    "\n",
    "rfopen=pt.load('../1-Trajectories/0-Parm_rst/open10_dry.rst7',\n",
    "               '../1-Trajectories/0-Parm_rst/open10_dry.parm7')"
   ]
  },
  {
   "cell_type": "code",
   "execution_count": 3,
   "metadata": {},
   "outputs": [],
   "source": [
    "topfile = '../1-Trajectories/0-Parm_rst/open10_dry.parm7'"
   ]
  },
  {
   "cell_type": "code",
   "execution_count": 4,
   "metadata": {},
   "outputs": [
    {
     "data": {
      "text/plain": [
       "['../1-Trajectories/0-Parm_rst/closed6_dry_rot0.parm7',\n",
       " '../1-Trajectories/0-Parm_rst/closed6_dry_rot1.parm7',\n",
       " '../1-Trajectories/0-Parm_rst/closed6_dry_rot2.parm7',\n",
       " '../1-Trajectories/0-Parm_rst/closed6_dry_rot3.parm7',\n",
       " '../1-Trajectories/0-Parm_rst/closed6_dry_rot4.parm7',\n",
       " '../1-Trajectories/0-Parm_rst/closed6_dry_rot5.parm7']"
      ]
     },
     "execution_count": 4,
     "metadata": {},
     "output_type": "execute_result"
    }
   ],
   "source": [
    "rf=[rf0,rf1,rf2,rf3,rf4,rf5]\n",
    "toplist=sorted(glob('../1-Trajectories/0-Parm_rst/closed6_dry_rot*.parm7'))\n",
    "toplist"
   ]
  },
  {
   "cell_type": "code",
   "execution_count": 5,
   "metadata": {},
   "outputs": [
    {
     "name": "stdout",
     "output_type": "stream",
     "text": [
      "1\n",
      "2\n",
      "3\n",
      "4\n",
      "5\n"
     ]
    }
   ],
   "source": [
    "traj_clust_list=sorted(glob(\"./sample_structures/1-With_IPA/1-MSM_1000_samples/pcca*_samples.xtc\"))\n",
    "for t in traj_clust_list:\n",
    "    print(t[-13])"
   ]
  },
  {
   "cell_type": "code",
   "execution_count": 6,
   "metadata": {},
   "outputs": [
    {
     "name": "stdout",
     "output_type": "stream",
     "text": [
      "Fraction original trajectories 1.0\n",
      "Fraction original trajectories 1.0\n",
      "Fraction original trajectories 1.0\n",
      "Fraction original trajectories 1.0\n",
      "Fraction original trajectories 1.0\n"
     ]
    }
   ],
   "source": [
    "traj_clust_list=sorted(glob(\"./sample_structures/1-With_IPA/1-MSM_1000_samples/pcca*_samples.xtc\"))\n",
    "\n",
    "for t in traj_clust_list:\n",
    "    traj_clust = pt.iterload(t, topfile, stride=1)\n",
    "    new_traj = pt.Trajectory(top=topfile) # Empty trajectory\n",
    "    min_ref=[]\n",
    "    \n",
    "    for i in range(0,traj_clust.n_frames,1):\n",
    "        \n",
    "        rmsd0=pt.rmsd(traj_clust[i:i+1],ref=rf0, mask=\"@CA,N,C,O\")\n",
    "        rmsd1=pt.rmsd(traj_clust[i:i+1],ref=rf1, mask=\"@CA,N,C,O\")\n",
    "        rmsd2=pt.rmsd(traj_clust[i:i+1],ref=rf2, mask=\"@CA,N,C,O\")\n",
    "        rmsd3=pt.rmsd(traj_clust[i:i+1],ref=rf3, mask=\"@CA,N,C,O\")\n",
    "        rmsd4=pt.rmsd(traj_clust[i:i+1],ref=rf4, mask=\"@CA,N,C,O\")\n",
    "        rmsd5=pt.rmsd(traj_clust[i:i+1],ref=rf5, mask=\"@CA,N,C,O\")\n",
    "        \n",
    "        rmsd_all=np.array([rmsd0,rmsd1,rmsd2,rmsd3,rmsd4,rmsd5])\n",
    "        \n",
    "        ali_struct=np.where(rmsd_all == np.nanmin(rmsd_all, axis=0))\n",
    "        nb=int(ali_struct[0])\n",
    "        new_frame=pt.align(traj_clust[i:i+1],ref=rf[nb],mask=\"@CA,N,C,O\", top=toplist[nb])\n",
    "        new_traj.append(new_frame)\n",
    "        min_ref.append(nb)\n",
    "\n",
    "    new_traj.save('./sample_structures/1-With_IPA/2-MSM_1000_samples_aligned/pcca{}.xtc'.format(t[-13]), \n",
    "                  overwrite=True)  \n",
    "    \n",
    "    print(\"Fraction original trajectories\", float(new_traj.n_frames/traj_clust.n_frames))\n",
    "    \n",
    "    with open('./sample_structures/1-With_IPA/2-MSM_1000_samples_aligned/ref_frame_pcca{}.pickle'.format(t[-5])\n",
    "              , 'wb') as outf:\n",
    "        pickle.dump(min_ref, outf)"
   ]
  },
  {
   "cell_type": "code",
   "execution_count": 7,
   "metadata": {},
   "outputs": [
    {
     "name": "stdout",
     "output_type": "stream",
     "text": [
      "Fraction original trajectories 1.0\n",
      "Fraction original trajectories 1.0\n",
      "Fraction original trajectories 1.0\n",
      "Fraction original trajectories 1.0\n",
      "Fraction original trajectories 1.0\n",
      "Fraction original trajectories 1.0\n"
     ]
    }
   ],
   "source": [
    "traj_clust_list=sorted(glob(\"./sample_structures/2-Without_IPA/1-MSM_1000_samples/pcca*_samples.xtc\"))\n",
    "\n",
    "for t in traj_clust_list:\n",
    "    traj_clust = pt.iterload(t, topfile, stride=1)\n",
    "    new_traj = pt.Trajectory(top=topfile) # Empty trajectory\n",
    "    min_ref=[]\n",
    "    \n",
    "    for i in range(0,traj_clust.n_frames,1):\n",
    "        \n",
    "        rmsd0=pt.rmsd(traj_clust[i:i+1],ref=rf0, mask=\"@CA,N,C,O\")\n",
    "        rmsd1=pt.rmsd(traj_clust[i:i+1],ref=rf1, mask=\"@CA,N,C,O\")\n",
    "        rmsd2=pt.rmsd(traj_clust[i:i+1],ref=rf2, mask=\"@CA,N,C,O\")\n",
    "        rmsd3=pt.rmsd(traj_clust[i:i+1],ref=rf3, mask=\"@CA,N,C,O\")\n",
    "        rmsd4=pt.rmsd(traj_clust[i:i+1],ref=rf4, mask=\"@CA,N,C,O\")\n",
    "        rmsd5=pt.rmsd(traj_clust[i:i+1],ref=rf5, mask=\"@CA,N,C,O\")\n",
    "        \n",
    "        rmsd_all=np.array([rmsd0,rmsd1,rmsd2,rmsd3,rmsd4,rmsd5])\n",
    "        \n",
    "        ali_struct=np.where(rmsd_all == np.nanmin(rmsd_all, axis=0))\n",
    "        nb=int(ali_struct[0])\n",
    "        new_frame=pt.align(traj_clust[i:i+1],ref=rf[nb],mask=\"@CA,N,C,O\", top=toplist[nb])\n",
    "        new_traj.append(new_frame)\n",
    "        min_ref.append(nb)\n",
    "\n",
    "    new_traj.save('./sample_structures/2-Without_IPA/2-MSM_1000_samples_aligned/pcca{}.xtc'.format(t[-13]), \n",
    "                  overwrite=True)  \n",
    "    \n",
    "    print(\"Fraction original trajectories\", float(new_traj.n_frames/traj_clust.n_frames))\n",
    "    \n",
    "    with open('./sample_structures/2-Without_IPA/2-MSM_1000_samples_aligned/ref_frame_pcca{}.pickle'.format(t[-5])\n",
    "              , 'wb') as outf:\n",
    "        pickle.dump(min_ref, outf)"
   ]
  },
  {
   "cell_type": "code",
   "execution_count": null,
   "metadata": {},
   "outputs": [],
   "source": []
  }
 ],
 "metadata": {
  "kernelspec": {
   "display_name": "Python 3",
   "language": "python",
   "name": "python3"
  },
  "language_info": {
   "codemirror_mode": {
    "name": "ipython",
    "version": 3
   },
   "file_extension": ".py",
   "mimetype": "text/x-python",
   "name": "python",
   "nbconvert_exporter": "python",
   "pygments_lexer": "ipython3",
   "version": "3.7.8"
  },
  "toc": {
   "base_numbering": 1,
   "nav_menu": {},
   "number_sections": true,
   "sideBar": true,
   "skip_h1_title": false,
   "title_cell": "Table of Contents",
   "title_sidebar": "Contents",
   "toc_cell": false,
   "toc_position": {},
   "toc_section_display": true,
   "toc_window_display": false
  }
 },
 "nbformat": 4,
 "nbformat_minor": 4
}
