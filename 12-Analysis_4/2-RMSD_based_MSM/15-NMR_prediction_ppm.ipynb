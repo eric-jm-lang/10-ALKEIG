{
 "cells": [
  {
   "cell_type": "code",
   "execution_count": 1,
   "metadata": {},
   "outputs": [],
   "source": [
    "%matplotlib inline\n",
    "import matplotlib as mpl\n",
    "mpl.rc(\"font\", family=\"Arial\")\n",
    "import matplotlib.pyplot as plt\n",
    "from mpl_toolkits.axes_grid1 import make_axes_locatable\n",
    "from matplotlib.colors import ListedColormap, LinearSegmentedColormap\n",
    "from pylab import *\n",
    "\n",
    "import numpy as np\n",
    "import pyemma\n",
    "import pytraj as pt\n",
    "import mdtraj as md\n",
    "\n",
    "import pickle\n",
    "import seaborn as sns\n",
    "from itertools import product\n",
    "from pandas import DataFrame\n",
    "\n",
    "from itertools import cycle\n",
    "import pandas as pd\n",
    "from os.path import join\n",
    "from collections import OrderedDict\n",
    "\n",
    "from pyemma.util.contexts import settings\n",
    "from glob import glob\n",
    "\n",
    "from scipy.stats import gaussian_kde"
   ]
  },
  {
   "cell_type": "markdown",
   "metadata": {},
   "source": [
    "## Create PDB files"
   ]
  },
  {
   "cell_type": "code",
   "execution_count": null,
   "metadata": {},
   "outputs": [],
   "source": [
    "topfile = '../1-Trajectories/0-Parm_rst/open10_dry.parm7'\n",
    "indir_sample = './sample_structures/2-Without_IPA/6-MSM_10000_samples_per_ref_for_ppm'\n",
    "traj_list_sample = sorted(glob(indir_sample+'/*.xtc'))\n",
    "for t in traj_list_sample:\n",
    "    traj=pt.load(t, topfile, stride=1)\n",
    "    pt.write_traj(\"./sample_structures/2-Without_IPA/6-MSM_10000_samples_per_ref_for_ppm/pcca{}_ref{}.pdb\".format(t[-10], t[-5]), \n",
    "                  traj, overwrite=True, options='model')"
   ]
  },
  {
   "cell_type": "code",
   "execution_count": 74,
   "metadata": {},
   "outputs": [],
   "source": [
    "topfile = '../1-Trajectories/0-Parm_rst/open10_dry.parm7'\n",
    "indir_sample = './sample_structures/2-Without_IPA/4-MSM_1000_samples_per_ref'\n",
    "traj_list_sample = sorted(glob(indir_sample+'/*.xtc'))\n",
    "for t in traj_list_sample:\n",
    "    traj=pt.load(t, topfile, stride=1)\n",
    "    pt.write_traj(\"./sample_structures/2-Without_IPA/4-MSM_1000_samples_per_ref/pcca{}_ref{}.pdb\".format(t[-10], t[-5]), \n",
    "                  traj, overwrite=True, options='model')"
   ]
  },
  {
   "cell_type": "code",
   "execution_count": 75,
   "metadata": {},
   "outputs": [],
   "source": [
    "topfile = '../1-Trajectories/0-Parm_rst/open10_dry.parm7'\n",
    "indir_sample = './sample_structures/1-With_IPA/4-MSM_1000_samples_per_ref'\n",
    "traj_list_sample = sorted(glob(indir_sample+'/*.xtc'))\n",
    "for t in traj_list_sample:\n",
    "    traj=pt.load(t, topfile, stride=1)\n",
    "    pt.write_traj(\"./sample_structures/1-With_IPA/4-MSM_1000_samples_per_ref/pcca{}_ref{}.pdb\".format(t[-10], t[-5]), \n",
    "                  traj, overwrite=True, options='model')"
   ]
  },
  {
   "cell_type": "code",
   "execution_count": null,
   "metadata": {},
   "outputs": [],
   "source": [
    "topfile = '../1-Trajectories/0-Parm_rst/open10_dry.parm7'\n",
    "indir_sample = './sample_structures/1-With_IPA/6-MSM_10000_samples_per_ref_for_ppm'\n",
    "traj_list_sample = sorted(glob(indir_sample+'/*.xtc'))\n",
    "for t in traj_list_sample:\n",
    "    traj=pt.load(t, topfile, stride=1)\n",
    "    pt.write_traj(\"./sample_structures/1-With_IPA/6-MSM_10000_samples_per_ref_for_ppm/pcca{}_ref{}.pdb\".format(t[-10], t[-5]), \n",
    "                  traj, overwrite=True, options='model')"
   ]
  },
  {
   "cell_type": "markdown",
   "metadata": {},
   "source": [
    "## Run ppm and parse results"
   ]
  },
  {
   "cell_type": "markdown",
   "metadata": {},
   "source": [
    "```\n",
    "#!/bin/bash\n",
    "\n",
    "for f in *.pdb; do\n",
    "\n",
    "        name=$(echo \"$f\" | cut -f 1 -d '.')\n",
    "\n",
    "        grep -v \"ACE\" ${name}.pdb > ${name}.tmp; mv ${name}.tmp ${name}.pdb\n",
    "        grep -v \"NHE\" ${name}.pdb > ${name}.tmp; mv ${name}.tmp ${name}.pdb\n",
    "        grep -v \"TER\" ${name}.pdb > ${name}.tmp; mv ${name}.tmp ${name}.pdb\n",
    "\n",
    "        ppm_linux_64.exe -pdb ${name}.pdb -pre ${name}.dat -begin 0 -stop 9999 -para pdb\n",
    "        ppm_linux_64.exe -pdb ${name}.pdb -pre ${name}_old.dat -begin 0 -stop 9999 -para old\n",
    "\n",
    "        for file in ${name}_CB_pre.dat ${name}_HB_pre.dat ${name}_CB_pre_old.dat ${name}_HB_pre_old.dat; do\n",
    "                if [ -f $file ] ; then\n",
    "                        rm $file\n",
    "                fi\n",
    "        done\n",
    "\n",
    "        for i in 14 46 78 110 142 174; do\n",
    "\n",
    "                grep \"${i}      ALA       CB\" ${name}.dat | awk '{print $6}' >> ${name}_CB_pre.dat\n",
    "                grep \"${i}      ALA       HB\" ${name}.dat | awk '{print $6}' >> ${name}_HB_pre.dat\n",
    "                grep \"${i}      ALA       CB\" ${name}_old.dat | awk '{print $6}'  >> ${name}_CB_pre_old.dat\n",
    "                grep \"${i}      ALA       HB\" ${name}_old.dat | awk '{print $6}'>> ${name}_HB_pre_old.dat\n",
    "        done\n",
    "done\n",
    "\n",
    "```"
   ]
  },
  {
   "cell_type": "markdown",
   "metadata": {},
   "source": [
    "## Prediction using ppm_one"
   ]
  },
  {
   "cell_type": "markdown",
   "metadata": {},
   "source": [
    "### Parse output for ppm_one"
   ]
  },
  {
   "cell_type": "markdown",
   "metadata": {},
   "source": [
    "This is ugly and should rely on different loops, etc. but I needed to do it quickly and this way was easier and faster"
   ]
  },
  {
   "cell_type": "markdown",
   "metadata": {},
   "source": [
    "#### Without IPA"
   ]
  },
  {
   "cell_type": "code",
   "execution_count": 63,
   "metadata": {},
   "outputs": [],
   "source": [
    "CB=[]\n",
    "HB=[]\n",
    "# Weights of each reference trajectory (i.e. fraction of ref0, ref1, etc... for each pcca)\n",
    "weights_ref=[[0.67,0.03,0.21,0.03,0.05,0.00],\n",
    "[0.69,0.02,0.17,0.04,0.07,0.01],\n",
    "[0.73,0.02,0.11,0.10,0.04,0.01],\n",
    "[0.72,0.03,0.03,0.17,0.03,0.02],\n",
    "[0.40,0.07,0.14,0.20,0.06,0.13],\n",
    "[0.65,0.04,0.07,0.16,0.04,0.04]]\n",
    "\n",
    "for i in range(0,6):\n",
    "    CB_pcca=[]\n",
    "    HB_pcca=[]\n",
    "    \n",
    "    #Ref0\n",
    "    \n",
    "    a=np.loadtxt(fname=\"./sample_structures/2-Without_IPA/6-MSM_10000_samples_per_ref_for_ppm/pcca{}_ref0_CB_pre.dat\".format(i+1))\n",
    "    CB_pcca.append(np.array([a[1],a[2],a[3],a[4],a[5],a[0]])*weights_ref[i][0]) # This is so all have the same chain topology\n",
    "\n",
    "    a=np.loadtxt(fname=\"./sample_structures/2-Without_IPA/6-MSM_10000_samples_per_ref_for_ppm/pcca{}_ref0_HB_pre.dat\".format(i+1))\n",
    "    HB_pcca.append(np.array([a[1],a[2],a[3],a[4],a[5],a[0]])*weights_ref[i][0])\n",
    "    \n",
    "    #Ref1\n",
    "    \n",
    "    a=np.loadtxt(fname=\"./sample_structures/2-Without_IPA/6-MSM_10000_samples_per_ref_for_ppm/pcca{}_ref1_CB_pre.dat\".format(i+1))\n",
    "    CB_pcca.append(np.array([a[2],a[3],a[4],a[5],a[0],a[1]])*weights_ref[i][1])\n",
    "\n",
    "    a=np.loadtxt(fname=\"./sample_structures/2-Without_IPA/6-MSM_10000_samples_per_ref_for_ppm/pcca{}_ref1_HB_pre.dat\".format(i+1))\n",
    "    HB_pcca.append(np.array([a[2],a[3],a[4],a[5],a[0],a[1]])*weights_ref[i][1])\n",
    "\n",
    "    #Ref2\n",
    "    \n",
    "    a=np.loadtxt(fname=\"./sample_structures/2-Without_IPA/6-MSM_10000_samples_per_ref_for_ppm/pcca{}_ref2_CB_pre.dat\".format(i+1))\n",
    "    CB_pcca.append(np.array([a[3],a[4],a[5],a[0],a[1],a[2]])*weights_ref[i][2])\n",
    "\n",
    "    a=np.loadtxt(fname=\"./sample_structures/2-Without_IPA/6-MSM_10000_samples_per_ref_for_ppm/pcca{}_ref2_HB_pre.dat\".format(i+1))\n",
    "    HB_pcca.append(np.array([a[3],a[4],a[5],a[0],a[1],a[2]])*weights_ref[i][2])\n",
    "    \n",
    "    #Ref3\n",
    "    \n",
    "    a=np.loadtxt(fname=\"./sample_structures/2-Without_IPA/6-MSM_10000_samples_per_ref_for_ppm/pcca{}_ref3_CB_pre.dat\".format(i+1))\n",
    "    CB_pcca.append(np.array([a[4],a[5],a[0],a[1],a[2],a[3]])*weights_ref[i][3])\n",
    "\n",
    "    a=np.loadtxt(fname=\"./sample_structures/2-Without_IPA/6-MSM_10000_samples_per_ref_for_ppm/pcca{}_ref3_HB_pre.dat\".format(i+1))\n",
    "    HB_pcca.append(np.array([a[4],a[5],a[0],a[1],a[2],a[3]])*weights_ref[i][3])\n",
    "    \n",
    "    #Ref4\n",
    "    \n",
    "    a=np.loadtxt(fname=\"./sample_structures/2-Without_IPA/6-MSM_10000_samples_per_ref_for_ppm/pcca{}_ref4_CB_pre.dat\".format(i+1))\n",
    "    CB_pcca.append(np.array([a[5],a[0],a[1],a[2],a[3],a[4]])*weights_ref[i][4])\n",
    "\n",
    "    a=np.loadtxt(fname=\"./sample_structures/2-Without_IPA/6-MSM_10000_samples_per_ref_for_ppm/pcca{}_ref4_HB_pre.dat\".format(i+1))\n",
    "    HB_pcca.append(np.array([a[5],a[0],a[1],a[2],a[3],a[4]])*weights_ref[i][4])\n",
    "    \n",
    "    #Ref5\n",
    "    \n",
    "    a=np.loadtxt(fname=\"./sample_structures/2-Without_IPA/6-MSM_10000_samples_per_ref_for_ppm/pcca{}_ref5_CB_pre.dat\".format(i+1))\n",
    "    CB_pcca.append(np.array([a[0],a[1],a[2],a[3],a[4],a[5]])*weights_ref[i][5])\n",
    "\n",
    "    a=np.loadtxt(fname=\"./sample_structures/2-Without_IPA/6-MSM_10000_samples_per_ref_for_ppm/pcca{}_ref5_HB_pre.dat\".format(i+1))\n",
    "    HB_pcca.append(np.array([a[0],a[1],a[2],a[3],a[4],a[5]])*weights_ref[i][5])\n",
    "    \n",
    "    CB.append(np.sum(CB_pcca, axis=0))\n",
    "    HB.append(np.sum(HB_pcca, axis=0))"
   ]
  },
  {
   "cell_type": "markdown",
   "metadata": {},
   "source": [
    "#### With IPA"
   ]
  },
  {
   "cell_type": "code",
   "execution_count": 64,
   "metadata": {},
   "outputs": [],
   "source": [
    "CB_ipa=[]\n",
    "HB_ipa=[]\n",
    "\n",
    "weights_ref=[[0.13,0.19,0.12,0.24,0.08,0.23],\n",
    "[0.65,0.01,0.08,0.16,0.05,0.06],\n",
    "[0.56,0.02,0.02,0.26,0.04,0.10],\n",
    "[0.02,0.01,0.48,0.01,0.47,0.01],\n",
    "[0.25,0.04,0.21,0.23,0.04,0.23]]\n",
    "\n",
    "for i in range(0,5):\n",
    "    CB_pcca=[]\n",
    "    HB_pcca=[]\n",
    "    \n",
    "    #Ref0\n",
    "    \n",
    "    a=np.loadtxt(fname=\"./sample_structures/1-With_IPA/6-MSM_10000_samples_per_ref_for_ppm/pcca{}_ref0_CB_pre.dat\".format(i+1))\n",
    "    CB_pcca.append(np.array([a[1],a[2],a[3],a[4],a[5],a[0]])*weights_ref[i][0])\n",
    "\n",
    "    a=np.loadtxt(fname=\"./sample_structures/1-With_IPA/6-MSM_10000_samples_per_ref_for_ppm/pcca{}_ref0_HB_pre.dat\".format(i+1))\n",
    "    HB_pcca.append(np.array([a[1],a[2],a[3],a[4],a[5],a[0]])*weights_ref[i][0])\n",
    "    \n",
    "    #Ref1\n",
    "    \n",
    "    a=np.loadtxt(fname=\"./sample_structures/1-With_IPA/6-MSM_10000_samples_per_ref_for_ppm/pcca{}_ref1_CB_pre.dat\".format(i+1))\n",
    "    CB_pcca.append(np.array([a[2],a[3],a[4],a[5],a[0],a[1]])*weights_ref[i][1])\n",
    "\n",
    "    a=np.loadtxt(fname=\"./sample_structures/1-With_IPA/6-MSM_10000_samples_per_ref_for_ppm/pcca{}_ref1_HB_pre.dat\".format(i+1))\n",
    "    HB_pcca.append(np.array([a[2],a[3],a[4],a[5],a[0],a[1]])*weights_ref[i][1])\n",
    "\n",
    "    #Ref2\n",
    "    \n",
    "    a=np.loadtxt(fname=\"./sample_structures/1-With_IPA/6-MSM_10000_samples_per_ref_for_ppm/pcca{}_ref2_CB_pre.dat\".format(i+1))\n",
    "    CB_pcca.append(np.array([a[3],a[4],a[5],a[0],a[1],a[2]])*weights_ref[i][2])\n",
    "\n",
    "    a=np.loadtxt(fname=\"./sample_structures/1-With_IPA/6-MSM_10000_samples_per_ref_for_ppm/pcca{}_ref2_HB_pre.dat\".format(i+1))\n",
    "    HB_pcca.append(np.array([a[3],a[4],a[5],a[0],a[1],a[2]])*weights_ref[i][2])\n",
    "    \n",
    "    #Ref3\n",
    "    \n",
    "    a=np.loadtxt(fname=\"./sample_structures/1-With_IPA/6-MSM_10000_samples_per_ref_for_ppm/pcca{}_ref3_CB_pre.dat\".format(i+1))\n",
    "    CB_pcca.append(np.array([a[4],a[5],a[0],a[1],a[2],a[3]])*weights_ref[i][3])\n",
    "\n",
    "    a=np.loadtxt(fname=\"./sample_structures/1-With_IPA/6-MSM_10000_samples_per_ref_for_ppm/pcca{}_ref3_HB_pre.dat\".format(i+1))\n",
    "    HB_pcca.append(np.array([a[4],a[5],a[0],a[1],a[2],a[3]])*weights_ref[i][3])\n",
    "    \n",
    "    #Ref4\n",
    "    \n",
    "    a=np.loadtxt(fname=\"./sample_structures/1-With_IPA/6-MSM_10000_samples_per_ref_for_ppm/pcca{}_ref4_CB_pre.dat\".format(i+1))\n",
    "    CB_pcca.append(np.array([a[5],a[0],a[1],a[2],a[3],a[4]])*weights_ref[i][4])\n",
    "\n",
    "    a=np.loadtxt(fname=\"./sample_structures/1-With_IPA/6-MSM_10000_samples_per_ref_for_ppm/pcca{}_ref4_HB_pre.dat\".format(i+1))\n",
    "    HB_pcca.append(np.array([a[5],a[0],a[1],a[2],a[3],a[4]])*weights_ref[i][4])\n",
    "    \n",
    "    #Ref5\n",
    "    \n",
    "    a=np.loadtxt(fname=\"./sample_structures/1-With_IPA/6-MSM_10000_samples_per_ref_for_ppm/pcca{}_ref5_CB_pre.dat\".format(i+1))\n",
    "    CB_pcca.append(np.array([a[0],a[1],a[2],a[3],a[4],a[5]])*weights_ref[i][5])\n",
    "\n",
    "    a=np.loadtxt(fname=\"./sample_structures/1-With_IPA/6-MSM_10000_samples_per_ref_for_ppm/pcca{}_ref5_HB_pre.dat\".format(i+1))\n",
    "    HB_pcca.append(np.array([a[0],a[1],a[2],a[3],a[4],a[5]])*weights_ref[i][5])\n",
    "    \n",
    "    CB_ipa.append(np.sum(CB_pcca, axis=0))\n",
    "    HB_ipa.append(np.sum(HB_pcca, axis=0))"
   ]
  },
  {
   "cell_type": "markdown",
   "metadata": {},
   "source": [
    "### Plots for ppm_one"
   ]
  },
  {
   "cell_type": "markdown",
   "metadata": {},
   "source": [
    "#### Without IPA"
   ]
  },
  {
   "cell_type": "code",
   "execution_count": 40,
   "metadata": {},
   "outputs": [
    {
     "data": {
      "image/png": "[encoded data removed]",
      "text/plain": [
       "<Figure size 864x190.8 with 7 Axes>"
      ]
     },
     "metadata": {
      "needs_background": "light"
     },
     "output_type": "display_data"
    }
   ],
   "source": [
    "pcca=[1,0,2,3,5,4]\n",
    "fig, axes = plt.subplots(1, 6, figsize=(12, 2.65), sharex=True, sharey=True)\n",
    "\n",
    "for i, ax in enumerate(axes.flat):\n",
    "    ax.scatter(HB[pcca[i]], CB[pcca[i]],s=50,\n",
    "               c=['#c51b7d','#de77ae','#f1b6da','#b8e186','#7fbc41','#4d9221'])\n",
    "\n",
    "#     sns.distplot(sasa_all_at_2[pcca[i]][:,at[i]], kde=False, ax=ax, bins=10,norm_hist=False, \n",
    "#                  color=colours[i], hist_kws={\"alpha\": 1})\n",
    "\n",
    "\n",
    "    ax.set_xlim(1.35,1.6)\n",
    "# #     ax.set_xticks(np.arange(0, 40, 10))    \n",
    "    ax.set_ylim(17.5,19)\n",
    "# #     ax.set_yticks(np.arange(0, 5, 1))     \n",
    "# #     ax.set_aspect('equal')\n",
    "\n",
    "plt.gca().invert_xaxis()\n",
    "plt.gca().invert_yaxis()\n",
    "\n",
    "# # To have common x and y labels\n",
    "# # add a big axis, hide frame\n",
    "fig.add_subplot(111, frameon=False)\n",
    "# # hide tick and tick label of the big axis\n",
    "plt.tick_params(labelcolor='none', top=False, bottom=False, left=False, right=False)  \n",
    "\n",
    "plt.xlabel(r'$^{1}$H ppm')\n",
    "plt.ylabel(r'$^{13}$C ppm')\n",
    "\n",
    "fig.tight_layout()\n",
    "fig.savefig('./plots/2-Without_IPA/40_ppm_one_predictions.png', dpi=600)"
   ]
  },
  {
   "cell_type": "code",
   "execution_count": 68,
   "metadata": {},
   "outputs": [
    {
     "data": {
      "image/png": "[encoded data removed]",
      "text/plain": [
       "<Figure size 180x172.8 with 1 Axes>"
      ]
     },
     "metadata": {
      "needs_background": "light"
     },
     "output_type": "display_data"
    }
   ],
   "source": [
    "# Weights from stationary distribution of MSM\n",
    "\n",
    "weights=[[0.018,0.074,0.040,0.053,0.196,0.620],\n",
    "         [0.018,0.074,0.040,0.053,0.196,0.620],\n",
    "         [0.018,0.074,0.040,0.053,0.196,0.620],\n",
    "         [0.018,0.074,0.040,0.053,0.196,0.620],\n",
    "         [0.018,0.074,0.040,0.053,0.196,0.620],\n",
    "         [0.018,0.074,0.040,0.053,0.196,0.620]]\n",
    "\n",
    "\n",
    "x= np.array(HB).flatten()\n",
    "y= np.array(CB).flatten()\n",
    "w= np.array(weights).T.flatten()\n",
    "# fit an array of size [Ndim, Nsamples]\n",
    "data = np.vstack([x, y])\n",
    "kde = gaussian_kde(data,weights=w)\n",
    "\n",
    "# evaluate on a regular grid\n",
    "xgrid = np.linspace(1.35,1.6, 100)\n",
    "ygrid = np.linspace(17.5,19, 100)\n",
    "Xgrid, Ygrid = np.meshgrid(xgrid, ygrid)\n",
    "Z = kde.evaluate(np.vstack([Xgrid.ravel(), Ygrid.ravel()]))\n",
    "\n",
    "# Plot the result as an image\n",
    "fig, ax = plt.subplots(1, 1, figsize=(2.5, 2.4))\n",
    "plt.imshow(Z.reshape(Xgrid.shape),\n",
    "           origin='lower', aspect='auto',\n",
    "           extent=[1.35,1.6, 17.5,19],\n",
    "           cmap='nipy_spectral_r')\n",
    "\n",
    "ax.set_yticks(np.arange(17.5, 19.5, 0.5))\n",
    "# cb = plt.colorbar()\n",
    "plt.gca().invert_xaxis()\n",
    "plt.gca().invert_yaxis()\n",
    "\n",
    "plt.xlabel(r'$^{1}$H ppm')\n",
    "plt.ylabel(r'$^{13}$C ppm')\n",
    "\n",
    "fig.tight_layout()\n",
    "fig.savefig('./plots/2-Without_IPA/41_ppm_one_predictions_density.png', dpi=600)"
   ]
  },
  {
   "cell_type": "markdown",
   "metadata": {},
   "source": [
    "#### With IPA"
   ]
  },
  {
   "cell_type": "code",
   "execution_count": 56,
   "metadata": {},
   "outputs": [
    {
     "data": {
      "image/png": "[encoded data removed]",
      "text/plain": [
       "<Figure size 720x190.8 with 6 Axes>"
      ]
     },
     "metadata": {
      "needs_background": "light"
     },
     "output_type": "display_data"
    }
   ],
   "source": [
    "pcca=[2,1,3,4,0]\n",
    "fig, axes = plt.subplots(1, 5, figsize=(10, 2.65), sharex=True, sharey=True)\n",
    "\n",
    "for i, ax in enumerate(axes.flat):\n",
    "    ax.scatter(HB_ipa[pcca[i]], CB_ipa[pcca[i]],s=50,\n",
    "               c=['#c51b7d','#de77ae','#f1b6da','#b8e186','#7fbc41','#4d9221'])\n",
    "\n",
    "#     sns.distplot(sasa_all_at_2[pcca[i]][:,at[i]], kde=False, ax=ax, bins=10,norm_hist=False, \n",
    "#                  color=colours[i], hist_kws={\"alpha\": 1})\n",
    "\n",
    "\n",
    "    ax.set_xlim(1.35,1.6)\n",
    "# #     ax.set_xticks(np.arange(0, 40, 10))    \n",
    "    ax.set_ylim(17.5,19)\n",
    "# #     ax.set_yticks(np.arange(0, 5, 1))     \n",
    "# #     ax.set_aspect('equal')\n",
    "\n",
    "plt.gca().invert_xaxis()\n",
    "plt.gca().invert_yaxis()\n",
    "\n",
    "# # To have common x and y labels\n",
    "# # add a big axis, hide frame\n",
    "fig.add_subplot(111, frameon=False)\n",
    "# # hide tick and tick label of the big axis\n",
    "plt.tick_params(labelcolor='none', top=False, bottom=False, left=False, right=False)  \n",
    "\n",
    "plt.xlabel(r'$^{1}$H ppm')\n",
    "plt.ylabel(r'$^{13}$C ppm')\n",
    "\n",
    "\n",
    "\n",
    "fig.tight_layout()\n",
    "fig.savefig('./plots/1-With_IPA/40_ppm_one_predictions.png', dpi=600)"
   ]
  },
  {
   "cell_type": "code",
   "execution_count": 69,
   "metadata": {},
   "outputs": [
    {
     "data": {
      "image/png": "[encoded data removed]",
      "text/plain": [
       "<Figure size 180x172.8 with 1 Axes>"
      ]
     },
     "metadata": {
      "needs_background": "light"
     },
     "output_type": "display_data"
    }
   ],
   "source": [
    "weights_ipa=[[0.029693,0.099180,0.194989,0.162358,0.513779],\n",
    "             [0.029693,0.099180,0.194989,0.162358,0.513779],\n",
    "             [0.029693,0.099180,0.194989,0.162358,0.513779],\n",
    "             [0.029693,0.099180,0.194989,0.162358,0.513779],\n",
    "             [0.029693,0.099180,0.194989,0.162358,0.513779],\n",
    "             [0.029693,0.099180,0.194989,0.162358,0.513779]]\n",
    "\n",
    "x= np.array(HB_ipa).flatten()\n",
    "y= np.array(CB_ipa).flatten()\n",
    "w= np.array(weights_ipa).T.flatten()\n",
    "# fit an array of size [Ndim, Nsamples]\n",
    "data = np.vstack([x, y])\n",
    "kde = gaussian_kde(data,weights=w)\n",
    "\n",
    "# evaluate on a regular grid\n",
    "xgrid = np.linspace(1.35,1.6, 100)\n",
    "ygrid = np.linspace(17.5,19, 100)\n",
    "Xgrid, Ygrid = np.meshgrid(xgrid, ygrid)\n",
    "Z = kde.evaluate(np.vstack([Xgrid.ravel(), Ygrid.ravel()]))\n",
    "\n",
    "# Plot the result as an image\n",
    "fig, ax = plt.subplots(1, 1, figsize=(2.5, 2.4))\n",
    "plt.imshow(Z.reshape(Xgrid.shape),\n",
    "           origin='lower', aspect='auto',\n",
    "           extent=[1.35,1.6, 17.5,19],\n",
    "           cmap='nipy_spectral_r')\n",
    "\n",
    "ax.set_yticks(np.arange(17.5, 19.5, 0.5))\n",
    "# cb = plt.colorbar()\n",
    "plt.gca().invert_xaxis()\n",
    "plt.gca().invert_yaxis()\n",
    "\n",
    "plt.xlabel(r'$^{1}$H ppm')\n",
    "plt.ylabel(r'$^{13}$C ppm')\n",
    "\n",
    "fig.tight_layout()\n",
    "fig.savefig('./plots/1-With_IPA/41_ppm_one_predictions_density.png', dpi=600)"
   ]
  },
  {
   "cell_type": "markdown",
   "metadata": {},
   "source": [
    "## Predictions for ppm_old"
   ]
  },
  {
   "cell_type": "markdown",
   "metadata": {},
   "source": [
    "### Parse output for ppm_old"
   ]
  },
  {
   "cell_type": "markdown",
   "metadata": {},
   "source": [
    "#### Without IPA"
   ]
  },
  {
   "cell_type": "code",
   "execution_count": 70,
   "metadata": {},
   "outputs": [],
   "source": [
    "CB=[]\n",
    "HB=[]\n",
    "\n",
    "weights_ref=[[0.67,0.03,0.21,0.03,0.05,0.00],\n",
    "[0.69,0.02,0.17,0.04,0.07,0.01],\n",
    "[0.73,0.02,0.11,0.10,0.04,0.01],\n",
    "[0.72,0.03,0.03,0.17,0.03,0.02],\n",
    "[0.40,0.07,0.14,0.20,0.06,0.13],\n",
    "[0.65,0.04,0.07,0.16,0.04,0.04]]\n",
    "\n",
    "for i in range(0,6):\n",
    "    CB_pcca=[]\n",
    "    HB_pcca=[]\n",
    "    \n",
    "    #Ref0\n",
    "    \n",
    "    a=np.loadtxt(fname=\"./sample_structures/2-Without_IPA/6-MSM_10000_samples_per_ref_for_ppm/pcca{}_ref0_CB_pre_old.dat\".format(i+1))\n",
    "    CB_pcca.append(np.array([a[1],a[2],a[3],a[4],a[5],a[0]])*weights_ref[i][0])\n",
    "\n",
    "    a=np.loadtxt(fname=\"./sample_structures/2-Without_IPA/6-MSM_10000_samples_per_ref_for_ppm/pcca{}_ref0_HB_pre_old.dat\".format(i+1))\n",
    "    HB_pcca.append(np.array([a[1],a[2],a[3],a[4],a[5],a[0]])*weights_ref[i][0])\n",
    "    \n",
    "    #Ref1\n",
    "    \n",
    "    a=np.loadtxt(fname=\"./sample_structures/2-Without_IPA/6-MSM_10000_samples_per_ref_for_ppm/pcca{}_ref1_CB_pre_old.dat\".format(i+1))\n",
    "    CB_pcca.append(np.array([a[2],a[3],a[4],a[5],a[0],a[1]])*weights_ref[i][1])\n",
    "\n",
    "    a=np.loadtxt(fname=\"./sample_structures/2-Without_IPA/6-MSM_10000_samples_per_ref_for_ppm/pcca{}_ref1_HB_pre_old.dat\".format(i+1))\n",
    "    HB_pcca.append(np.array([a[2],a[3],a[4],a[5],a[0],a[1]])*weights_ref[i][1])\n",
    "\n",
    "    #Ref2\n",
    "    \n",
    "    a=np.loadtxt(fname=\"./sample_structures/2-Without_IPA/6-MSM_10000_samples_per_ref_for_ppm/pcca{}_ref2_CB_pre_old.dat\".format(i+1))\n",
    "    CB_pcca.append(np.array([a[3],a[4],a[5],a[0],a[1],a[2]])*weights_ref[i][2])\n",
    "\n",
    "    a=np.loadtxt(fname=\"./sample_structures/2-Without_IPA/6-MSM_10000_samples_per_ref_for_ppm/pcca{}_ref2_HB_pre_old.dat\".format(i+1))\n",
    "    HB_pcca.append(np.array([a[3],a[4],a[5],a[0],a[1],a[2]])*weights_ref[i][2])\n",
    "    \n",
    "    #Ref3\n",
    "    \n",
    "    a=np.loadtxt(fname=\"./sample_structures/2-Without_IPA/6-MSM_10000_samples_per_ref_for_ppm/pcca{}_ref3_CB_pre_old.dat\".format(i+1))\n",
    "    CB_pcca.append(np.array([a[4],a[5],a[0],a[1],a[2],a[3]])*weights_ref[i][3])\n",
    "\n",
    "    a=np.loadtxt(fname=\"./sample_structures/2-Without_IPA/6-MSM_10000_samples_per_ref_for_ppm/pcca{}_ref3_HB_pre_old.dat\".format(i+1))\n",
    "    HB_pcca.append(np.array([a[4],a[5],a[0],a[1],a[2],a[3]])*weights_ref[i][3])\n",
    "    \n",
    "    #Ref4\n",
    "    \n",
    "    a=np.loadtxt(fname=\"./sample_structures/2-Without_IPA/6-MSM_10000_samples_per_ref_for_ppm/pcca{}_ref4_CB_pre_old.dat\".format(i+1))\n",
    "    CB_pcca.append(np.array([a[5],a[0],a[1],a[2],a[3],a[4]])*weights_ref[i][4])\n",
    "\n",
    "    a=np.loadtxt(fname=\"./sample_structures/2-Without_IPA/6-MSM_10000_samples_per_ref_for_ppm/pcca{}_ref4_HB_pre_old.dat\".format(i+1))\n",
    "    HB_pcca.append(np.array([a[5],a[0],a[1],a[2],a[3],a[4]])*weights_ref[i][4])\n",
    "    \n",
    "    #Ref5\n",
    "    \n",
    "    a=np.loadtxt(fname=\"./sample_structures/2-Without_IPA/6-MSM_10000_samples_per_ref_for_ppm/pcca{}_ref5_CB_pre_old.dat\".format(i+1))\n",
    "    CB_pcca.append(np.array([a[0],a[1],a[2],a[3],a[4],a[5]])*weights_ref[i][5])\n",
    "\n",
    "    a=np.loadtxt(fname=\"./sample_structures/2-Without_IPA/6-MSM_10000_samples_per_ref_for_ppm/pcca{}_ref5_HB_pre_old.dat\".format(i+1))\n",
    "    HB_pcca.append(np.array([a[0],a[1],a[2],a[3],a[4],a[5]])*weights_ref[i][5])\n",
    "    \n",
    "    CB.append(np.sum(CB_pcca, axis=0))\n",
    "    HB.append(np.sum(HB_pcca, axis=0))"
   ]
  },
  {
   "cell_type": "markdown",
   "metadata": {},
   "source": [
    "#### With IPA"
   ]
  },
  {
   "cell_type": "code",
   "execution_count": 71,
   "metadata": {},
   "outputs": [],
   "source": [
    "\n",
    "CB_ipa=[]\n",
    "HB_ipa=[]\n",
    "\n",
    "weights_ref=[[0.13,0.19,0.12,0.24,0.08,0.23],\n",
    "[0.65,0.01,0.08,0.16,0.05,0.06],\n",
    "[0.56,0.02,0.02,0.26,0.04,0.10],\n",
    "[0.02,0.01,0.48,0.01,0.47,0.01],\n",
    "[0.25,0.04,0.21,0.23,0.04,0.23]]\n",
    "\n",
    "for i in range(0,5):\n",
    "    CB_pcca=[]\n",
    "    HB_pcca=[]\n",
    "    \n",
    "    #Ref0\n",
    "    \n",
    "    a=np.loadtxt(fname=\"./sample_structures/1-With_IPA/6-MSM_10000_samples_per_ref_for_ppm/pcca{}_ref0_CB_pre_old.dat\".format(i+1))\n",
    "    CB_pcca.append(np.array([a[1],a[2],a[3],a[4],a[5],a[0]])*weights_ref[i][0])\n",
    "\n",
    "    a=np.loadtxt(fname=\"./sample_structures/1-With_IPA/6-MSM_10000_samples_per_ref_for_ppm/pcca{}_ref0_HB_pre_old.dat\".format(i+1))\n",
    "    HB_pcca.append(np.array([a[1],a[2],a[3],a[4],a[5],a[0]])*weights_ref[i][0])\n",
    "    \n",
    "    #Ref1\n",
    "    \n",
    "    a=np.loadtxt(fname=\"./sample_structures/1-With_IPA/6-MSM_10000_samples_per_ref_for_ppm/pcca{}_ref1_CB_pre_old.dat\".format(i+1))\n",
    "    CB_pcca.append(np.array([a[2],a[3],a[4],a[5],a[0],a[1]])*weights_ref[i][1])\n",
    "\n",
    "    a=np.loadtxt(fname=\"./sample_structures/1-With_IPA/6-MSM_10000_samples_per_ref_for_ppm/pcca{}_ref1_HB_pre_old.dat\".format(i+1))\n",
    "    HB_pcca.append(np.array([a[2],a[3],a[4],a[5],a[0],a[1]])*weights_ref[i][1])\n",
    "\n",
    "    #Ref2\n",
    "    \n",
    "    a=np.loadtxt(fname=\"./sample_structures/1-With_IPA/6-MSM_10000_samples_per_ref_for_ppm/pcca{}_ref2_CB_pre_old.dat\".format(i+1))\n",
    "    CB_pcca.append(np.array([a[3],a[4],a[5],a[0],a[1],a[2]])*weights_ref[i][2])\n",
    "\n",
    "    a=np.loadtxt(fname=\"./sample_structures/1-With_IPA/6-MSM_10000_samples_per_ref_for_ppm/pcca{}_ref2_HB_pre_old.dat\".format(i+1))\n",
    "    HB_pcca.append(np.array([a[3],a[4],a[5],a[0],a[1],a[2]])*weights_ref[i][2])\n",
    "    \n",
    "    #Ref3\n",
    "    \n",
    "    a=np.loadtxt(fname=\"./sample_structures/1-With_IPA/6-MSM_10000_samples_per_ref_for_ppm/pcca{}_ref3_CB_pre_old.dat\".format(i+1))\n",
    "    CB_pcca.append(np.array([a[4],a[5],a[0],a[1],a[2],a[3]])*weights_ref[i][3])\n",
    "\n",
    "    a=np.loadtxt(fname=\"./sample_structures/1-With_IPA/6-MSM_10000_samples_per_ref_for_ppm/pcca{}_ref3_HB_pre_old.dat\".format(i+1))\n",
    "    HB_pcca.append(np.array([a[4],a[5],a[0],a[1],a[2],a[3]])*weights_ref[i][3])\n",
    "    \n",
    "    #Ref4\n",
    "    \n",
    "    a=np.loadtxt(fname=\"./sample_structures/1-With_IPA/6-MSM_10000_samples_per_ref_for_ppm/pcca{}_ref4_CB_pre_old.dat\".format(i+1))\n",
    "    CB_pcca.append(np.array([a[5],a[0],a[1],a[2],a[3],a[4]])*weights_ref[i][4])\n",
    "\n",
    "    a=np.loadtxt(fname=\"./sample_structures/1-With_IPA/6-MSM_10000_samples_per_ref_for_ppm/pcca{}_ref4_HB_pre_old.dat\".format(i+1))\n",
    "    HB_pcca.append(np.array([a[5],a[0],a[1],a[2],a[3],a[4]])*weights_ref[i][4])\n",
    "    \n",
    "    #Ref5\n",
    "    \n",
    "    a=np.loadtxt(fname=\"./sample_structures/1-With_IPA/6-MSM_10000_samples_per_ref_for_ppm/pcca{}_ref5_CB_pre_old.dat\".format(i+1))\n",
    "    CB_pcca.append(np.array([a[0],a[1],a[2],a[3],a[4],a[5]])*weights_ref[i][5])\n",
    "\n",
    "    a=np.loadtxt(fname=\"./sample_structures/1-With_IPA/6-MSM_10000_samples_per_ref_for_ppm/pcca{}_ref5_HB_pre_old.dat\".format(i+1))\n",
    "    HB_pcca.append(np.array([a[0],a[1],a[2],a[3],a[4],a[5]])*weights_ref[i][5])\n",
    "    \n",
    "    CB_ipa.append(np.sum(CB_pcca, axis=0))\n",
    "    HB_ipa.append(np.sum(HB_pcca, axis=0))"
   ]
  },
  {
   "cell_type": "markdown",
   "metadata": {},
   "source": [
    "### Plots for ppm_old"
   ]
  },
  {
   "cell_type": "markdown",
   "metadata": {},
   "source": [
    "#### Without IPA"
   ]
  },
  {
   "cell_type": "code",
   "execution_count": 53,
   "metadata": {},
   "outputs": [
    {
     "data": {
      "image/png": "[encoded data removed]",
      "text/plain": [
       "<Figure size 864x190.8 with 7 Axes>"
      ]
     },
     "metadata": {
      "needs_background": "light"
     },
     "output_type": "display_data"
    }
   ],
   "source": [
    "pcca=[1,0,2,3,5,4]\n",
    "fig, axes = plt.subplots(1, 6, figsize=(12, 2.65), sharex=True, sharey=True)\n",
    "\n",
    "for i, ax in enumerate(axes.flat):\n",
    "    ax.scatter(HB[pcca[i]], CB[pcca[i]],s=50,\n",
    "               c=['#c51b7d','#de77ae','#f1b6da','#b8e186','#7fbc41','#4d9221'])\n",
    "\n",
    "#     sns.distplot(sasa_all_at_2[pcca[i]][:,at[i]], kde=False, ax=ax, bins=10,norm_hist=False, \n",
    "#                  color=colours[i], hist_kws={\"alpha\": 1})\n",
    "\n",
    "\n",
    "    ax.set_xlim(1.35,1.6) \n",
    "    ax.set_ylim(18,19.5)\n",
    "#     ax.set_xticks(np.arange(0, 40, 10)) \n",
    "#     ax.set_yticks(np.arange(0, 5, 1))     \n",
    "#     ax.set_aspect('equal')\n",
    "\n",
    "plt.gca().invert_xaxis()\n",
    "plt.gca().invert_yaxis()\n",
    "\n",
    "# # To have common x and y labels\n",
    "# # add a big axis, hide frame\n",
    "fig.add_subplot(111, frameon=False)\n",
    "# # hide tick and tick label of the big axis\n",
    "plt.tick_params(labelcolor='none', top=False, bottom=False, left=False, right=False)  \n",
    "\n",
    "plt.xlabel(r'$^{1}$H ppm')\n",
    "plt.ylabel(r'$^{13}$C ppm')\n",
    "\n",
    "fig.tight_layout()\n",
    "fig.savefig('./plots/2-Without_IPA/42_ppm_old_predictions.png', dpi=600)"
   ]
  },
  {
   "cell_type": "code",
   "execution_count": 72,
   "metadata": {},
   "outputs": [
    {
     "data": {
      "image/png": "[encoded data removed]",
      "text/plain": [
       "<Figure size 180x172.8 with 1 Axes>"
      ]
     },
     "metadata": {
      "needs_background": "light"
     },
     "output_type": "display_data"
    }
   ],
   "source": [
    "# Weights from stationary distribution of MSM\n",
    "\n",
    "weights=[[0.018,0.074,0.040,0.053,0.196,0.620],\n",
    "         [0.018,0.074,0.040,0.053,0.196,0.620],\n",
    "         [0.018,0.074,0.040,0.053,0.196,0.620],\n",
    "         [0.018,0.074,0.040,0.053,0.196,0.620],\n",
    "         [0.018,0.074,0.040,0.053,0.196,0.620],\n",
    "         [0.018,0.074,0.040,0.053,0.196,0.620]]\n",
    "\n",
    "\n",
    "x= np.array(HB).flatten()\n",
    "y= np.array(CB).flatten()\n",
    "w= np.array(weights).T.flatten()\n",
    "# fit an array of size [Ndim, Nsamples]\n",
    "data = np.vstack([x, y])\n",
    "kde = gaussian_kde(data,weights=w)\n",
    "# evaluate on a regular grid\n",
    "xgrid = np.linspace(1.35,1.6, 100)\n",
    "ygrid = np.linspace(18,19.5, 100)\n",
    "Xgrid, Ygrid = np.meshgrid(xgrid, ygrid)\n",
    "Z = kde.evaluate(np.vstack([Xgrid.ravel(), Ygrid.ravel()]))\n",
    "\n",
    "# Plot the result as an image\n",
    "fig, ax = plt.subplots(1, 1, figsize=(2.5, 2.4))\n",
    "plt.imshow(Z.reshape(Xgrid.shape),\n",
    "           origin='lower', aspect='auto',\n",
    "           extent=[1.35,1.6, 18,19.5],\n",
    "           cmap='nipy_spectral_r')\n",
    "\n",
    "ax.set_yticks(np.arange(18,20, 0.5))\n",
    "# cb = plt.colorbar()\n",
    "plt.gca().invert_xaxis()\n",
    "plt.gca().invert_yaxis()\n",
    "\n",
    "plt.xlabel(r'$^{1}$H ppm')\n",
    "plt.ylabel(r'$^{13}$C ppm')\n",
    "\n",
    "fig.tight_layout()\n",
    "fig.savefig('./plots/2-Without_IPA/43_ppm_old_predictions_density.png', dpi=600)"
   ]
  },
  {
   "cell_type": "markdown",
   "metadata": {},
   "source": [
    "#### With IPA"
   ]
  },
  {
   "cell_type": "code",
   "execution_count": 60,
   "metadata": {},
   "outputs": [
    {
     "data": {
      "image/png": "[encoded data removed]",
      "text/plain": [
       "<Figure size 720x190.8 with 6 Axes>"
      ]
     },
     "metadata": {
      "needs_background": "light"
     },
     "output_type": "display_data"
    }
   ],
   "source": [
    "pcca=[2,1,3,4,0]\n",
    "fig, axes = plt.subplots(1, 5, figsize=(10, 2.65), sharex=True, sharey=True)\n",
    "\n",
    "for i, ax in enumerate(axes.flat):\n",
    "    ax.scatter(HB_ipa[pcca[i]], CB_ipa[pcca[i]],s=50,\n",
    "               c=['#c51b7d','#de77ae','#f1b6da','#b8e186','#7fbc41','#4d9221'])\n",
    "\n",
    "#     sns.distplot(sasa_all_at_2[pcca[i]][:,at[i]], kde=False, ax=ax, bins=10,norm_hist=False, \n",
    "#                  color=colours[i], hist_kws={\"alpha\": 1})\n",
    "\n",
    "\n",
    "    ax.set_xlim(1.35,1.6) \n",
    "    ax.set_ylim(18,19.5)\n",
    "#     ax.set_xticks(np.arange(0, 40, 10))  \n",
    "#     ax.set_yticks(np.arange(0, 5, 1))     \n",
    "#     ax.set_aspect('equal')\n",
    "\n",
    "plt.gca().invert_xaxis()\n",
    "plt.gca().invert_yaxis()\n",
    "\n",
    "# # To have common x and y labels\n",
    "# # add a big axis, hide frame\n",
    "fig.add_subplot(111, frameon=False)\n",
    "# # hide tick and tick label of the big axis\n",
    "plt.tick_params(labelcolor='none', top=False, bottom=False, left=False, right=False)  \n",
    "\n",
    "plt.xlabel(r'$^{1}$H ppm')\n",
    "plt.ylabel(r'$^{13}$C ppm')\n",
    "\n",
    "\n",
    "\n",
    "fig.tight_layout()\n",
    "fig.savefig('./plots/1-With_IPA/42_ppm_old_predictions.png', dpi=600)"
   ]
  },
  {
   "cell_type": "code",
   "execution_count": 73,
   "metadata": {},
   "outputs": [
    {
     "data": {
      "image/png": "[encoded data removed]",
      "text/plain": [
       "<Figure size 180x172.8 with 1 Axes>"
      ]
     },
     "metadata": {
      "needs_background": "light"
     },
     "output_type": "display_data"
    }
   ],
   "source": [
    "weights_ipa=[[0.029693,0.099180,0.194989,0.162358,0.513779],\n",
    "             [0.029693,0.099180,0.194989,0.162358,0.513779],\n",
    "             [0.029693,0.099180,0.194989,0.162358,0.513779],\n",
    "             [0.029693,0.099180,0.194989,0.162358,0.513779],\n",
    "             [0.029693,0.099180,0.194989,0.162358,0.513779],\n",
    "             [0.029693,0.099180,0.194989,0.162358,0.513779]]\n",
    "\n",
    "x= np.array(HB_ipa).flatten()\n",
    "y= np.array(CB_ipa).flatten()\n",
    "w= np.array(weights_ipa).T.flatten()\n",
    "# fit an array of size [Ndim, Nsamples]\n",
    "data = np.vstack([x, y])\n",
    "kde = gaussian_kde(data,weights=w)\n",
    "\n",
    "# evaluate on a regular grid\n",
    "xgrid = np.linspace(1.35,1.6, 100)\n",
    "ygrid = np.linspace(18,19.5, 100)\n",
    "Xgrid, Ygrid = np.meshgrid(xgrid, ygrid)\n",
    "Z = kde.evaluate(np.vstack([Xgrid.ravel(), Ygrid.ravel()]))\n",
    "\n",
    "# Plot the result as an image\n",
    "fig, ax = plt.subplots(1, 1, figsize=(2.5, 2.4))\n",
    "plt.imshow(Z.reshape(Xgrid.shape),\n",
    "           origin='lower', aspect='auto',\n",
    "           extent=[1.35,1.6, 18,19.5],\n",
    "           cmap='nipy_spectral_r')\n",
    "\n",
    "ax.set_yticks(np.arange(18,20, 0.5))\n",
    "# cb = plt.colorbar()\n",
    "plt.gca().invert_xaxis()\n",
    "plt.gca().invert_yaxis()\n",
    "\n",
    "plt.xlabel(r'$^{1}$H ppm')\n",
    "plt.ylabel(r'$^{13}$C ppm')\n",
    "fig.tight_layout()\n",
    "fig.savefig('./plots/1-With_IPA/43_ppm_old_predictions_density.png', dpi=600)"
   ]
  },
  {
   "cell_type": "code",
   "execution_count": null,
   "metadata": {},
   "outputs": [],
   "source": []
  },
  {
   "cell_type": "code",
   "execution_count": null,
   "metadata": {},
   "outputs": [],
   "source": []
  },
  {
   "cell_type": "code",
   "execution_count": null,
   "metadata": {},
   "outputs": [],
   "source": []
  }
 ],
 "metadata": {
  "kernelspec": {
   "display_name": "Python 3",
   "language": "python",
   "name": "python3"
  },
  "language_info": {
   "codemirror_mode": {
    "name": "ipython",
    "version": 3
   },
   "file_extension": ".py",
   "mimetype": "text/x-python",
   "name": "python",
   "nbconvert_exporter": "python",
   "pygments_lexer": "ipython3",
   "version": "3.7.6"
  },
  "toc": {
   "base_numbering": 1,
   "nav_menu": {},
   "number_sections": true,
   "sideBar": true,
   "skip_h1_title": false,
   "title_cell": "Table of Contents",
   "title_sidebar": "Contents",
   "toc_cell": false,
   "toc_position": {},
   "toc_section_display": true,
   "toc_window_display": false
  }
 },
 "nbformat": 4,
 "nbformat_minor": 4
}
