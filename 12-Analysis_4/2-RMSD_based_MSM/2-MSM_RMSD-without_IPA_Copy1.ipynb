{
 "cells": [
  {
   "cell_type": "code",
   "execution_count": 11,
   "metadata": {},
   "outputs": [],
   "source": [
    "%matplotlib inline\n",
    "import matplotlib as mpl\n",
    "mpl.rc(\"font\", family=\"Arial\")\n",
    "import matplotlib.pyplot as plt\n",
    "from mpl_toolkits.axes_grid1 import make_axes_locatable\n",
    "from matplotlib.colors import ListedColormap, LinearSegmentedColormap\n",
    "from pylab import *\n",
    "\n",
    "import numpy as np\n",
    "import pyemma\n",
    "import pytraj as pt\n",
    "import mdtraj as md\n",
    "\n",
    "import pickle\n",
    "import seaborn as sns\n",
    "\n",
    "from pyemma.util.contexts import settings\n",
    "from glob import glob"
   ]
  },
  {
   "cell_type": "markdown",
   "metadata": {},
   "source": [
    "## Loading data"
   ]
  },
  {
   "cell_type": "code",
   "execution_count": 2,
   "metadata": {},
   "outputs": [],
   "source": [
    "rf0=pt.load('../1-Trajectories/0-Parm_rst/closed6_dry_rot0.rst7', \n",
    "            '../1-Trajectories/0-Parm_rst/closed6_dry_rot0.parm7')\n",
    "\n",
    "rf1=pt.load('../1-Trajectories/0-Parm_rst/closed6_dry_rot1.rst7', \n",
    "            '../1-Trajectories/0-Parm_rst/closed6_dry_rot1.parm7')\n",
    "\n",
    "rf2=pt.load('../1-Trajectories/0-Parm_rst//closed6_dry_rot2.rst7',\n",
    "            '../1-Trajectories/0-Parm_rst/closed6_dry_rot2.parm7')\n",
    "\n",
    "rf3=pt.load('../1-Trajectories/0-Parm_rst/closed6_dry_rot3.rst7', \n",
    "            '../1-Trajectories/0-Parm_rst/closed6_dry_rot3.parm7')\n",
    "\n",
    "rf4=pt.load('../1-Trajectories/0-Parm_rst/closed6_dry_rot4.rst7',\n",
    "            '../1-Trajectories/0-Parm_rst/closed6_dry_rot4.parm7')\n",
    "\n",
    "rf5=pt.load('../1-Trajectories/0-Parm_rst/closed6_dry_rot5.rst7', \n",
    "            '../1-Trajectories/0-Parm_rst/closed6_dry_rot5.parm7')\n",
    "\n",
    "rfopen=pt.load('../1-Trajectories/0-Parm_rst/open10_dry.rst7',\n",
    "               '../1-Trajectories/0-Parm_rst/open10_dry.parm7')"
   ]
  },
  {
   "cell_type": "code",
   "execution_count": 3,
   "metadata": {},
   "outputs": [
    {
     "data": {
      "text/plain": [
       "['../1-Trajectories/1-NoEq_without_IPA/closed_dry_01.nc',\n",
       " '../1-Trajectories/1-NoEq_without_IPA/closed_dry_02.nc',\n",
       " '../1-Trajectories/1-NoEq_without_IPA/closed_dry_03.nc',\n",
       " '../1-Trajectories/1-NoEq_without_IPA/closed_dry_04.nc',\n",
       " '../1-Trajectories/1-NoEq_without_IPA/closed_dry_05.nc',\n",
       " '../1-Trajectories/1-NoEq_without_IPA/closed_dry_06.nc',\n",
       " '../1-Trajectories/1-NoEq_without_IPA/closed_dry_07.nc',\n",
       " '../1-Trajectories/1-NoEq_without_IPA/closed_dry_08.nc',\n",
       " '../1-Trajectories/1-NoEq_without_IPA/closed_dry_09.nc',\n",
       " '../1-Trajectories/1-NoEq_without_IPA/closed_dry_10.nc',\n",
       " '../1-Trajectories/1-NoEq_without_IPA/open_dry_01.nc',\n",
       " '../1-Trajectories/1-NoEq_without_IPA/open_dry_02.nc',\n",
       " '../1-Trajectories/1-NoEq_without_IPA/open_dry_03.nc',\n",
       " '../1-Trajectories/1-NoEq_without_IPA/open_dry_04.nc',\n",
       " '../1-Trajectories/1-NoEq_without_IPA/open_dry_05.nc',\n",
       " '../1-Trajectories/1-NoEq_without_IPA/open_dry_06.nc',\n",
       " '../1-Trajectories/1-NoEq_without_IPA/open_dry_07.nc',\n",
       " '../1-Trajectories/1-NoEq_without_IPA/open_dry_08.nc',\n",
       " '../1-Trajectories/1-NoEq_without_IPA/open_dry_09.nc',\n",
       " '../1-Trajectories/1-NoEq_without_IPA/open_dry_10.nc']"
      ]
     },
     "execution_count": 3,
     "metadata": {},
     "output_type": "execute_result"
    }
   ],
   "source": [
    "indir1 = '../1-Trajectories/1-NoEq_without_IPA'\n",
    "indir2 = '../1-Trajectories/3-Adaptive_sampling_without_IPA'\n",
    "topfile = '../1-Trajectories/0-Parm_rst/open10_dry.parm7'\n",
    "\n",
    "traj_list1 = sorted(glob(indir1+'/*.nc'))\n",
    "traj_list2 = sorted(glob(indir2+'/*.nc'))\n",
    "\n",
    "traj_list=traj_list1 # +traj_list2\n",
    "traj_list"
   ]
  },
  {
   "cell_type": "markdown",
   "metadata": {},
   "source": [
    "## RMSD 'features'"
   ]
  },
  {
   "cell_type": "code",
   "execution_count": null,
   "metadata": {},
   "outputs": [],
   "source": [
    "results_open=[]\n",
    "results_closed=[]\n",
    "for t in traj_list:\n",
    "    traj=pt.load(t, topfile, stride=1)\n",
    "    rmsd0=pt.rmsd(traj,ref=rf0, mask=\"@CA,N,C,O\")\n",
    "    rmsd1=pt.rmsd(traj,ref=rf1, mask=\"@CA,N,C,O\")\n",
    "    rmsd2=pt.rmsd(traj,ref=rf2, mask=\"@CA,N,C,O\")\n",
    "    rmsd3=pt.rmsd(traj,ref=rf3, mask=\"@CA,N,C,O\")\n",
    "    rmsd4=pt.rmsd(traj,ref=rf4, mask=\"@CA,N,C,O\")\n",
    "    rmsd5=pt.rmsd(traj,ref=rf5, mask=\"@CA,N,C,O\")\n",
    "    \n",
    "    rmsd_closed=np.nanmin(np.array([rmsd0,rmsd1,rmsd2,rmsd3,rmsd4,rmsd5]), axis=0)\n",
    "    results_closed.append(rmsd_closed)\n",
    "    \n",
    "    rmsd_open=pt.rmsd(traj,ref=rfopen, mask=\"@CA,N,C,O\")\n",
    "    results_open.append(rmsd_open)"
   ]
  },
  {
   "cell_type": "markdown",
   "metadata": {},
   "source": [
    "Create a Y matrix similar to that optained with PyEMMA after TICA analysis"
   ]
  },
  {
   "cell_type": "code",
   "execution_count": null,
   "metadata": {},
   "outputs": [],
   "source": [
    "Y=[]\n",
    "for i in range(0,len(results_open)):  \n",
    "    Z=[]\n",
    "    for j in range(0,len(results_open[i])):\n",
    "        a=np.array([results_closed[i][j],results_open[i][j]])\n",
    "        Z.append(a)\n",
    "    Z=np.array(Z)\n",
    "    Y.append(Z)\n",
    "print(len(Y))\n",
    "print(len(Y[0]))\n",
    "print(len(Y[0][0]))"
   ]
  },
  {
   "cell_type": "code",
   "execution_count": null,
   "metadata": {},
   "outputs": [],
   "source": [
    "tot=0\n",
    "for i in range(0,len(Y)):\n",
    "    tot+=len(Y[i])\n",
    "print(\"simulated time:\", tot/10000, \"microseconds\")"
   ]
  },
  {
   "cell_type": "code",
   "execution_count": 4,
   "metadata": {},
   "outputs": [],
   "source": [
    "# with open('./pickled/2-Without_IPA/1_Y.pickle', 'wb') as outf:\n",
    "#     pickle.dump(Y, outf)\n",
    "    \n",
    "with open('./pickled/2-Without_IPA/1_Y.pickle', 'rb') as inf:\n",
    "    Y = pickle.load(inf)"
   ]
  },
  {
   "cell_type": "code",
   "execution_count": 5,
   "metadata": {},
   "outputs": [],
   "source": [
    "Y_concat= np.concatenate(Y)"
   ]
  },
  {
   "cell_type": "markdown",
   "metadata": {},
   "source": [
    "## Density and initial FES"
   ]
  },
  {
   "cell_type": "code",
   "execution_count": null,
   "metadata": {},
   "outputs": [],
   "source": [
    "fig, axes = plt.subplots(1, 2, figsize=(10, 4))\n",
    "pyemma.plots.plot_feature_histograms(\n",
    "    Y_concat,\n",
    "    ax=axes[0],\n",
    "    feature_labels=[r'RMSD to closed', r'RMSD to open'],\n",
    "    ylog=False, color=\"midnightblue\")\n",
    "\n",
    "\n",
    "axes[0].set_xlabel(r'RMSD ($\\AA$)')\n",
    "\n",
    "axes[0].set(xlim=(0,4.5))\n",
    "\n",
    "axes[0].set_xticks(np.arange(0, 5, 0.5))\n",
    "\n",
    "pyemma.plots.plot_density(*Y_concat[:, :2].T, ax=axes[1], logscale=False, nbins=100, alpha=1)\n",
    "\n",
    "axes[1].scatter(x=0.0, y=3.1458, s=20, c=\"midnightblue\", marker=\"s\")\n",
    "axes[1].scatter(x=3.1458, y=0.0, s=20, c=\"midnightblue\", marker=\"s\")\n",
    "\n",
    "axes[1].set_aspect('equal')\n",
    "axes[1].text(0.1, 3.2458, \"Closed \\ncrystal \\nstructure\", c=\"black\", fontsize=7)\n",
    "axes[1].text(3.2458, 0.1, \"Open \\ncrystal \\nstructure\", c=\"black\", fontsize=7)\n",
    "\n",
    "axes[1].set_xlabel(r'RMSD to closed crystal structure ($\\AA$)')\n",
    "axes[1].set_ylabel(r'RMSD to open crystal structure ($\\AA$)')\n",
    "\n",
    "axes[1].set(xlim=(0,4.5) , ylim=(0, 4.5))\n",
    "\n",
    "axes[1].set_xticks(np.arange(0, 5, 0.5))\n",
    "axes[1].set_yticks(np.arange(0, 5, 0.5))\n",
    "\n",
    "\n",
    "# fig.tight_layout()\n",
    "fig.savefig('./plots/2-Without_IPA/1_density.png', dpi=600)"
   ]
  },
  {
   "cell_type": "code",
   "execution_count": null,
   "metadata": {},
   "outputs": [],
   "source": [
    "import seaborn as sns\n",
    "\n",
    "fig, ax = plt.subplots(figsize=(5,4))\n",
    "\n",
    "\n",
    "\n",
    "pyemma.plots.plot_free_energy(*Y_concat[:, :2].T,\n",
    "                              nbins=100, ax=ax,\n",
    "                              kT=0.5825, \n",
    "                              cbar=True,cmap='coolwarm',ncontours=18,\n",
    "                              cbar_label=\"Free energy (kcal/mol)\")\n",
    "\n",
    "ax.scatter(x=0.0, y=3.1458, s=20, c=\"black\", marker=\"s\")\n",
    "ax.scatter(x=3.1458, y=0.0, s=20, c=\"black\", marker=\"s\")\n",
    "\n",
    "ax.set_aspect('equal')\n",
    "ax.text(0.1, 3.2458, \"Closed \\ncrystal \\nstructure\", c=\"black\", fontsize=7)\n",
    "ax.text(3.2458, 0.1, \"Open \\ncrystal \\nstructure\", c=\"black\", fontsize=7)\n",
    "\n",
    "ax.set_xlabel(r'RMSD to closed crystal structure ($\\AA$)')\n",
    "ax.set_ylabel(r'RMSD to open crystal structure ($\\AA$)')\n",
    "\n",
    "ax.set(xlim=(0,4.5) , ylim=(0, 4.5))\n",
    "\n",
    "ax.set_xticks(np.arange(0, 5, 0.5))\n",
    "ax.set_yticks(np.arange(0, 5, 0.5))\n",
    "\n",
    "# fig.tight_layout()\n",
    "fig.savefig('./plots/2-Without_IPA/2_initial_FES.png', dpi=600)"
   ]
  },
  {
   "cell_type": "code",
   "execution_count": null,
   "metadata": {},
   "outputs": [],
   "source": [
    "import seaborn as sns\n",
    "\n",
    "diverging_colors = sns.color_palette(\"RdBu_r\", 19)\n",
    "sns_cmap = mpl.colors.LinearSegmentedColormap.from_list(\"\", diverging_colors[0:18])\n",
    "\n",
    "fig, ax = plt.subplots(figsize=(5,4))\n",
    "\n",
    "\n",
    "\n",
    "pyemma.plots.plot_free_energy(*Y_concat[:, :2].T,\n",
    "                              nbins=100, ax=ax,\n",
    "                              kT=0.5825, \n",
    "                              cbar=True,cmap=sns_cmap,ncontours=18,\n",
    "                              cbar_label=\"Free energy (kcal/mol)\")\n",
    "\n",
    "ax.scatter(x=0.0, y=3.1458, s=20, c=\"black\", marker=\"s\")\n",
    "ax.scatter(x=3.1458, y=0.0, s=20, c=\"black\", marker=\"s\")\n",
    "\n",
    "ax.set_aspect('equal')\n",
    "ax.text(0.1, 3.2458, \"Closed \\ncrystal \\nstructure\", c=\"black\", fontsize=7)\n",
    "ax.text(3.2458, 0.1, \"Open \\ncrystal \\nstructure\", c=\"black\", fontsize=7)\n",
    "\n",
    "ax.set_xlabel(r'RMSD to closed crystal structure ($\\AA$)')\n",
    "ax.set_ylabel(r'RMSD to open crystal structure ($\\AA$)')\n",
    "\n",
    "ax.set(xlim=(0,4.5) , ylim=(0, 4.5))\n",
    "\n",
    "ax.set_xticks(np.arange(0, 5, 0.5))\n",
    "ax.set_yticks(np.arange(0, 5, 0.5))\n",
    "\n",
    "# fig.tight_layout()\n",
    "fig.savefig('./plots/2-Without_IPA/2_initial_FES_cmap2.png', dpi=600)"
   ]
  },
  {
   "cell_type": "code",
   "execution_count": null,
   "metadata": {},
   "outputs": [],
   "source": [
    "fig, axes = plt.subplots(4, 5, figsize=(8,7), sharex=True, sharey=True)\n",
    "\n",
    "\n",
    "for i, ax in enumerate(axes.flat):\n",
    "    ax.scatter(Y[i][:,0], Y[i][:,1],s=0.5, marker='o',c=range(0,len(Y[i])), alpha=0.5, linewidths=0.0)\n",
    "    \n",
    "    ax.set_xlim(0,4.5)\n",
    "    ax.set_xticks(np.arange(0, 5, 1))    \n",
    "    ax.set_ylim(0,4.5)\n",
    "    ax.set_yticks(np.arange(0, 5, 1))     \n",
    "    ax.set_aspect('equal')\n",
    "\n",
    "# To have common x and y labels   \n",
    "# add a big axis, hide frame\n",
    "fig.add_subplot(111, frameon=False)\n",
    "# hide tick and tick label of the big axis\n",
    "plt.tick_params(labelcolor='none', top=False, bottom=False, left=False, right=False)    \n",
    "plt.xlabel(r'RMSD to closed crystal structure ($\\AA$)')\n",
    "plt.ylabel(r'RMSD to open crystal structure ($\\AA$)')\n",
    "\n",
    "fig.savefig('./plots/2-Without_IPA/3_sampling_of_individual_trajectories.png', dpi=800)"
   ]
  },
  {
   "cell_type": "code",
   "execution_count": null,
   "metadata": {},
   "outputs": [],
   "source": [
    "fig, axes = plt.subplots(4, 5, figsize=(8,7), sharex=True, sharey=True)\n",
    "\n",
    "\n",
    "for i, ax in enumerate(axes.flat):\n",
    "    pyemma.plots.plot_density(\n",
    "    *Y_concat[:, :2].T, ax=ax, cbar=False, alpha=0.05, nbins=100, cmap=\"gray\")\n",
    "    ax.scatter(Y[i][:,0], Y[i][:,1],s=0.5, marker='o',linewidths=0.0,c=range(0,len(Y[i])), alpha=0.5)\n",
    "    ax.set_xlim(0,4.5)\n",
    "    ax.set_xticks(np.arange(0, 5, 1))    \n",
    "    ax.set_ylim(0,4.5)\n",
    "    ax.set_yticks(np.arange(0, 5, 1))     \n",
    "    ax.set_aspect('equal')\n",
    "\n",
    "# To have common x and y labels\n",
    "# add a big axis, hide frame\n",
    "fig.add_subplot(111, frameon=False)\n",
    "# hide tick and tick label of the big axis\n",
    "plt.tick_params(labelcolor='none', top=False, bottom=False, left=False, right=False)    \n",
    "plt.xlabel(r'RMSD to closed crystal structure ($\\AA$)')\n",
    "plt.ylabel(r'RMSD to open crystal structure ($\\AA$)')\n",
    "    \n",
    "fig.savefig('./plots/2-Without_IPA/3_sampling_of_individual_trajectories_with_overall_FES.png', dpi=800)"
   ]
  },
  {
   "cell_type": "markdown",
   "metadata": {},
   "source": [
    "## Clustering"
   ]
  },
  {
   "cell_type": "code",
   "execution_count": null,
   "metadata": {},
   "outputs": [],
   "source": [
    "n_clustercenters = [10, 100, 200, 300, 400, 500, 600, 700, 800, 900, 1000,1200, 1400, 1600, 1800, 2000]\n",
    "\n",
    "scores = np.zeros((len(n_clustercenters), 5))\n",
    "for n, k in enumerate(n_clustercenters):\n",
    "    for m in range(5):\n",
    "        with pyemma.util.contexts.settings(show_progress_bars=True):\n",
    "            _cl = pyemma.coordinates.cluster_kmeans(\n",
    "                Y, k=k, max_iter=500, stride=50)\n",
    "            _msm = pyemma.msm.estimate_markov_model(_cl.dtrajs, 5)\n",
    "            scores[n, m] = _msm.score_cv(\n",
    "                _cl.dtrajs, n=1, score_method='VAMP2', score_k=min(10, k))"
   ]
  },
  {
   "cell_type": "code",
   "execution_count": null,
   "metadata": {},
   "outputs": [],
   "source": [
    "fig, ax = plt.subplots()\n",
    "lower, upper = pyemma.util.statistics.confidence_interval(scores.T.tolist(), conf=0.9)\n",
    "ax.fill_between(n_clustercenters, lower, upper, alpha=0.3)\n",
    "ax.plot(n_clustercenters, np.mean(scores, axis=1), '-o')\n",
    "# ax.semilogx()\n",
    "ax.set_xlabel('number of cluster centers')\n",
    "ax.set_ylabel('VAMP-2 score')\n",
    "fig.savefig('./plots/2-Without_IPA/4_optimum_cluster_number.png', dpi=600)"
   ]
  },
  {
   "cell_type": "code",
   "execution_count": null,
   "metadata": {},
   "outputs": [],
   "source": [
    "fig, ax = plt.subplots()\n",
    "lower, upper = pyemma.util.statistics.confidence_interval(scores.T.tolist(), conf=0.9)\n",
    "ax.fill_between(n_clustercenters, lower, upper, alpha=0.3)\n",
    "ax.plot(n_clustercenters, np.mean(scores, axis=1), '-o')\n",
    "# ax.semilogx()\n",
    "ax.set_xlabel('number of cluster centers')\n",
    "ax.set_ylabel('VAMP-2 score')\n",
    "ax.set_xlim(300, 1600)\n",
    "ax.set_ylim(5.75, 5.95)\n",
    "fig.tight_layout()"
   ]
  },
  {
   "cell_type": "code",
   "execution_count": null,
   "metadata": {},
   "outputs": [],
   "source": [
    "cluster = pyemma.coordinates.cluster_kmeans(\n",
    "    Y, k=1000, max_iter=500, stride=10)\n",
    "dtrajs_concatenated = np.concatenate(cluster.dtrajs)"
   ]
  },
  {
   "cell_type": "code",
   "execution_count": 6,
   "metadata": {},
   "outputs": [],
   "source": [
    "# with open('./pickled/2-Without_IPA/1_cluster.pickle', 'wb') as outf:\n",
    "#     pickle.dump(cluster, outf)\n",
    "    \n",
    "with open('./pickled/2-Without_IPA/1_cluster.pickle', 'rb') as inf:\n",
    "    cluster = pickle.load(inf)\n",
    "dtrajs_concatenated = np.concatenate(cluster.dtrajs)"
   ]
  },
  {
   "cell_type": "code",
   "execution_count": 7,
   "metadata": {},
   "outputs": [
    {
     "data": {
      "text/plain": [
       "KmeansClustering(clustercenters=array([[2.15655, 2.71957],\n",
       "       [3.04182, 2.41531],\n",
       "       ...,\n",
       "       [2.79853, 2.58618],\n",
       "       [3.01406, 2.57222]], dtype=float32),\n",
       "         fixed_seed=1769825337, init_strategy='kmeans++', keep_data=False,\n",
       "         max_iter=500, metric='euclidean', n_clusters=1000, n_jobs=4,\n",
       "         oom_strategy='memmap', skip=0, stride=10, tolerance=1e-05)"
      ]
     },
     "execution_count": 7,
     "metadata": {},
     "output_type": "execute_result"
    }
   ],
   "source": [
    "cluster"
   ]
  },
  {
   "cell_type": "code",
   "execution_count": null,
   "metadata": {},
   "outputs": [],
   "source": [
    "fig, ax = plt.subplots(figsize=(4, 4))\n",
    "pyemma.plots.plot_density(\n",
    "    *Y_concat[:, :2].T, ax=ax, cbar=False, alpha=0.3, nbins=100)\n",
    "ax.scatter(*cluster.clustercenters[:, :2].T, s=0.5, c='C1')\n",
    "ax.set_xlabel(r'RMSD to closed crystal structure ($\\AA$)')\n",
    "ax.set_ylabel(r'RMSD to open crystal structure ($\\AA$)')\n",
    "\n",
    "ax.set(xlim=(0,4.5) , ylim=(0, 4.5))\n",
    "\n",
    "ax.set_xticks(np.arange(0, 5, 0.5))\n",
    "ax.set_yticks(np.arange(0, 5, 0.5))\n",
    "\n",
    "ax.scatter(x=0.0, y=3.1458, s=20, c=\"midnightblue\", marker=\"s\")\n",
    "ax.scatter(x=3.1458, y=0.0, s=20, c=\"midnightblue\", marker=\"s\")\n",
    "\n",
    "ax.set_aspect('equal')\n",
    "ax.text(0.1, 3.2458, \"Closed \\ncrystal \\nstructure\", c=\"black\", fontsize=7)\n",
    "ax.text(3.2458, 0.1, \"Open \\ncrystal \\nstructure\", c=\"black\", fontsize=7)\n",
    "\n",
    "fig.savefig('./plots/2-Without_IPA/5_clustering.png', dpi=600)"
   ]
  },
  {
   "cell_type": "code",
   "execution_count": null,
   "metadata": {},
   "outputs": [],
   "source": [
    "its = pyemma.msm.its(cluster.dtrajs, lags=500, nits=10, errors=None)"
   ]
  },
  {
   "cell_type": "code",
   "execution_count": null,
   "metadata": {},
   "outputs": [],
   "source": [
    "with open('./pickled/2-Without_IPA/1_its_2000.pickle', 'wb') as outf:\n",
    "    pickle.dump(its, outf)\n",
    "    \n",
    "# with open('./pickled/2-Without_IPA/1_its_2000.pickle', 'rb') as inf:\n",
    "#     its = pickle.load(inf)"
   ]
  },
  {
   "cell_type": "code",
   "execution_count": null,
   "metadata": {},
   "outputs": [],
   "source": [
    "its"
   ]
  },
  {
   "cell_type": "code",
   "execution_count": null,
   "metadata": {},
   "outputs": [],
   "source": [
    "fig, ax = plt.subplots(figsize=(8, 4))\n",
    "\n",
    "pyemma.plots.plot_implied_timescales(its, ax=ax,units='ns', dt=0.1, ylog=True,);\n",
    "\n",
    "# ax.set_xlim(0,60)\n",
    "ax.set_xlabel(\"Lag time (ns)\")\n",
    "ax.set_ylabel(\"Implied timescale (ns)\")\n",
    "\n",
    "\n",
    "fig.savefig('./plots/2-Without_IPA/6_lagtime_1.png', dpi=600)"
   ]
  },
  {
   "cell_type": "code",
   "execution_count": null,
   "metadata": {},
   "outputs": [],
   "source": [
    "fig, axes = plt.subplots(1, 2, figsize=(10, 4))\n",
    "\n",
    "pyemma.plots.plot_implied_timescales(its, ax=axes[0],units='ns', dt=0.1, ylog=True,);\n",
    "pyemma.plots.plot_implied_timescales(its,ax=axes[1], units='ns', dt=0.1, ylog=False);\n",
    "\n",
    "axes[0].set_xlabel(\"Lag time (ns)\")\n",
    "axes[0].set_ylabel(\"Implied timescale (ns)\")\n",
    "axes[1].set_xlabel(\"Lag time (ns)\")\n",
    "axes[1].set_ylabel(\"Implied timescale (ns)\")\n",
    "\n",
    "# fig.savefig('./plots/2-Without_IPA/6_lagtime_1.png', dpi=600)"
   ]
  },
  {
   "cell_type": "code",
   "execution_count": null,
   "metadata": {},
   "outputs": [],
   "source": [
    "fig, ax = plt.subplots(figsize=(4, 4))\n",
    "pyemma.plots.plot_implied_timescales(its, units='ns', dt=0.1, ylog=False);\n",
    "ax.set(xlim=(39,41) , ylim=(25, 50))"
   ]
  },
  {
   "cell_type": "code",
   "execution_count": null,
   "metadata": {},
   "outputs": [],
   "source": [
    "msm = pyemma.msm.bayesian_markov_model(cluster.dtrajs, lag=300, dt_traj='0.1 ns')\n",
    "print('fraction of states used = {:.2f}'.format(msm.active_state_fraction))\n",
    "print('fraction of counts used = {:.2f}'.format(msm.active_count_fraction))"
   ]
  },
  {
   "cell_type": "code",
   "execution_count": 8,
   "metadata": {},
   "outputs": [],
   "source": [
    "# with open('./pickled/2-Without_IPA/1_msm.pickle', 'wb') as outf:\n",
    "#     pickle.dump(msm, outf)\n",
    "    \n",
    "with open('./pickled/2-Without_IPA/1_msm.pickle', 'rb') as inf:\n",
    "    msm = pickle.load(inf)"
   ]
  },
  {
   "cell_type": "code",
   "execution_count": 9,
   "metadata": {},
   "outputs": [
    {
     "data": {
      "text/plain": [
       "BayesianMSM(conf=0.95, connectivity='largest', core_set=None,\n",
       "      count_mode='effective', dt_traj='0.1 ns', lag=300,\n",
       "      milestoning_method='last_core', mincount_connectivity='1/n',\n",
       "      nsamples=100, nsteps=31, reversible=True, show_progress=True,\n",
       "      sparse=False, statdist_constraint=None)"
      ]
     },
     "execution_count": 9,
     "metadata": {},
     "output_type": "execute_result"
    }
   ],
   "source": [
    "msm"
   ]
  },
  {
   "cell_type": "code",
   "execution_count": null,
   "metadata": {},
   "outputs": [],
   "source": [
    "fig, axes = plt.subplots(1, 3, figsize=(15, 4), sharex=True, sharey=True)\n",
    "\n",
    "pyemma.plots.plot_contour(\n",
    "    *Y_concat[:, :2].T,\n",
    "    msm.pi[dtrajs_concatenated],\n",
    "    ax=axes[0], bins=100,\n",
    "    mask=True, alpha=0.8,\n",
    "    cbar_label='stationary distribution')\n",
    "\n",
    "pyemma.plots.plot_free_energy(\n",
    "    *Y_concat[:, :2].T,\n",
    "    weights=None,\n",
    "    ax=axes[1], bins=100,\n",
    "    kT=0.5825, \n",
    "    legacy=False,#cmap='coolwarm',ncontours=18,\n",
    "#     vmin=0.0, vmax=5.0,\n",
    "    cbar_label=\"Free energy (kcal/mol)\"\n",
    ")\n",
    "\n",
    "pyemma.plots.plot_free_energy(\n",
    "    *Y_concat[:, :2].T, \n",
    "    weights=np.concatenate(msm.trajectory_weights()),\n",
    "    ax=axes[2], bins=100,\n",
    "    kT=0.5825,legacy=False,#cmap='coolwarm',ncontours=21,\n",
    "#     vmin=0.0, vmax=5.0, levels=100,\n",
    "    cbar_label=\"Free energy (kcal/mol)\"\n",
    ")\n",
    "\n",
    "axes[0].set_title('Stationary distribution', fontweight='bold')\n",
    "axes[1].set_title('Initial free energy surface', fontweight='bold')\n",
    "axes[2].set_title('Reweighted free energy surface', fontweight='bold')\n",
    "\n",
    "axes[0].set_xlabel(r'RMSD to closed crystal structure ($\\AA$)')\n",
    "axes[0].set_ylabel(r'RMSD to open crystal structure ($\\AA$)')\n",
    "axes[0].set(xlim=(0,4.5) , ylim=(0, 4.5))\n",
    "axes[0].set_xticks(np.arange(0, 5, 0.5))\n",
    "axes[0].set_yticks(np.arange(0, 5, 0.5))\n",
    "\n",
    "axes[1].set_xlabel(r'RMSD to closed crystal structure ($\\AA$)')\n",
    "axes[1].set_ylabel(r'RMSD to open crystal structure ($\\AA$)')\n",
    "axes[1].set(xlim=(0,4.5) , ylim=(0, 4.5))\n",
    "axes[1].set_xticks(np.arange(0, 5, 0.5))\n",
    "axes[1].set_yticks(np.arange(0, 5, 0.5))\n",
    "\n",
    "axes[2].set_xlabel(r'RMSD to closed crystal structure ($\\AA$)')\n",
    "axes[2].set_ylabel(r'RMSD to open crystal structure ($\\AA$)')\n",
    "axes[2].set(xlim=(0,4.5) , ylim=(0, 4.5))\n",
    "axes[2].set_xticks(np.arange(0, 5, 0.5))\n",
    "axes[2].set_yticks(np.arange(0, 5, 0.5))\n",
    "\n",
    "axes[0].set_aspect('equal')\n",
    "axes[1].set_aspect('equal')\n",
    "axes[2].set_aspect('equal')\n",
    "\n",
    "fig.savefig('./plots/2-Without_IPA/7_free_energy_surfaces.png', dpi=600)"
   ]
  },
  {
   "cell_type": "code",
   "execution_count": null,
   "metadata": {},
   "outputs": [],
   "source": [
    "fig, axes = plt.subplots(1, 3, figsize=(15, 4), sharex=True, sharey=True)\n",
    "\n",
    "pyemma.plots.plot_contour(\n",
    "    *Y_concat[:, :2].T,\n",
    "    msm.pi[dtrajs_concatenated],\n",
    "    ax=axes[0], bins=100,\n",
    "    mask=True, alpha=0.8,\n",
    "    cbar_label='stationary distribution')\n",
    "\n",
    "pyemma.plots.plot_free_energy(\n",
    "    *Y_concat[:, :2].T,\n",
    "    weights=None,\n",
    "    ax=axes[1], bins=100,\n",
    "    kT=0.5825, \n",
    "    legacy=False,cmap=\"RdBu_r\",ncontours=19,\n",
    "#     vmin=0.0, vmax=5.0,\n",
    "    cbar_label=\"Free energy (kcal/mol)\"\n",
    ")\n",
    "\n",
    "pyemma.plots.plot_free_energy(\n",
    "    *Y_concat[:, :2].T, \n",
    "    weights=np.concatenate(msm.trajectory_weights()),\n",
    "    ax=axes[2], bins=100,\n",
    "    kT=0.5825,legacy=False,cmap=\"RdBu_r\",ncontours=19,\n",
    "#     vmin=0.0, vmax=5.0, levels=100,\n",
    "    cbar_label=\"Free energy (kcal/mol)\"\n",
    ")\n",
    "\n",
    "axes[0].set_title('Stationary distribution', fontweight='bold')\n",
    "axes[1].set_title('Initial free energy surface', fontweight='bold')\n",
    "axes[2].set_title('Reweighted free energy surface', fontweight='bold')\n",
    "\n",
    "axes[0].set_xlabel(r'RMSD to closed crystal structure ($\\AA$)')\n",
    "axes[0].set_ylabel(r'RMSD to open crystal structure ($\\AA$)')\n",
    "axes[0].set(xlim=(0,4.5) , ylim=(0, 4.5))\n",
    "axes[0].set_xticks(np.arange(0, 5, 0.5))\n",
    "axes[0].set_yticks(np.arange(0, 5, 0.5))\n",
    "\n",
    "axes[1].set_xlabel(r'RMSD to closed crystal structure ($\\AA$)')\n",
    "axes[1].set_ylabel(r'RMSD to open crystal structure ($\\AA$)')\n",
    "axes[1].set(xlim=(0,4.5) , ylim=(0, 4.5))\n",
    "axes[1].set_xticks(np.arange(0, 5, 0.5))\n",
    "axes[1].set_yticks(np.arange(0, 5, 0.5))\n",
    "\n",
    "axes[2].set_xlabel(r'RMSD to closed crystal structure ($\\AA$)')\n",
    "axes[2].set_ylabel(r'RMSD to open crystal structure ($\\AA$)')\n",
    "axes[2].set(xlim=(0,4.5) , ylim=(0, 4.5))\n",
    "axes[2].set_xticks(np.arange(0, 5, 0.5))\n",
    "axes[2].set_yticks(np.arange(0, 5, 0.5))\n",
    "\n",
    "axes[0].set_aspect('equal')\n",
    "axes[1].set_aspect('equal')\n",
    "axes[2].set_aspect('equal')\n",
    "\n",
    "fig.savefig('./plots/2-Without_IPA/7_free_energy_surfaces_cmap2.png', dpi=600)"
   ]
  },
  {
   "cell_type": "code",
   "execution_count": 10,
   "metadata": {},
   "outputs": [
    {
     "data": {
      "image/png": "[encoded data removed]",
      "text/plain": [
       "<Figure size 360x288 with 2 Axes>"
      ]
     },
     "metadata": {
      "needs_background": "light"
     },
     "output_type": "display_data"
    }
   ],
   "source": [
    "fig, ax = plt.subplots(figsize=(5,4))\n",
    "\n",
    "\n",
    "\n",
    "pyemma.plots.plot_free_energy(*Y_concat[:, :2].T,\n",
    "                              nbins=100, ax=ax,\n",
    "                              kT=0.5825, weights=np.concatenate(msm.trajectory_weights()),\n",
    "                              cbar=True,cmap=\"RdBu_r\",ncontours=19,\n",
    "                              cbar_label=\"Free energy (kcal/mol)\")\n",
    "\n",
    "ax.scatter(x=0.0, y=3.1458, s=20, c=\"black\", marker=\"s\")\n",
    "ax.scatter(x=3.1458, y=0.0, s=20, c=\"black\", marker=\"s\")\n",
    "\n",
    "ax.set_aspect('equal')\n",
    "ax.text(0.1, 3.2458, \"Closed \\ncrystal \\nstructure\", c=\"black\", fontsize=7)\n",
    "ax.text(3.2458, 0.1, \"Open \\ncrystal \\nstructure\", c=\"black\", fontsize=7)\n",
    "\n",
    "ax.set_xlabel(r'RMSD to closed crystal structure ($\\AA$)')\n",
    "ax.set_ylabel(r'RMSD to open crystal structure ($\\AA$)')\n",
    "\n",
    "ax.set(xlim=(0,4.5) , ylim=(0, 4.5))\n",
    "\n",
    "ax.set_xticks(np.arange(0, 5, 0.5))\n",
    "ax.set_yticks(np.arange(0, 5, 0.5))\n",
    "\n",
    "# fig.tight_layout()\n",
    "fig.savefig('./plots//2-Without_IPA/8_reweighted_FES_cmap2.png', dpi=600)"
   ]
  },
  {
   "cell_type": "code",
   "execution_count": null,
   "metadata": {},
   "outputs": [],
   "source": [
    "cktest6 = msm.cktest(6)\n",
    "pyemma.plots.plot_cktest(cktest6, dt=0.1, units='ns');"
   ]
  },
  {
   "cell_type": "code",
   "execution_count": null,
   "metadata": {},
   "outputs": [],
   "source": [
    "def its_separation_err(ts, ts_err):\n",
    "    \"\"\"\n",
    "    Error propagation from ITS standard deviation to timescale separation.\n",
    "    \"\"\"\n",
    "    return ts[:-1] / ts[1:] * np.sqrt(\n",
    "        (ts_err[:-1] / ts[:-1])**2 + (ts_err[1:] / ts[1:])**2)\n",
    "\n",
    "\n",
    "nits = 10\n",
    "\n",
    "timescales_mean = msm.sample_mean('timescales', k=nits)\n",
    "timescales_std = msm.sample_std('timescales', k=nits)\n",
    "\n",
    "fig, axes = plt.subplots(1, 2, figsize=(10, 4))\n",
    "\n",
    "axes[0].errorbar(\n",
    "    range(1, nits + 1),\n",
    "    timescales_mean, \n",
    "    yerr=timescales_std, \n",
    "    fmt='.', markersize=10)\n",
    "axes[1].errorbar(\n",
    "    range(1, nits),\n",
    "    timescales_mean[:-1] / timescales_mean[1:], \n",
    "    yerr=its_separation_err(\n",
    "        timescales_mean, \n",
    "        timescales_std), \n",
    "    fmt='.', \n",
    "    markersize=10,\n",
    "    color='C0')\n",
    "\n",
    "for i, ax in enumerate(axes):\n",
    "    ax.set_xticks(range(1, nits + 1))\n",
    "    ax.grid(True, axis='x', linestyle=':')\n",
    "    \n",
    "axes[0].axhline(msm.lag * 0.1, lw=1.5, color='k')\n",
    "axes[0].axhspan(0, msm.lag * 0.1, alpha=0.3, color='k')\n",
    "axes[0].set_xlabel('implied timescale index')\n",
    "axes[0].set_ylabel('implied timescales / ns')\n",
    "axes[1].set_xticks(range(1, nits))\n",
    "axes[1].set_xticklabels(\n",
    "    [\"{:d}/{:d}\".format(k, k + 1) for k in range(1, nits + 2)],\n",
    "    rotation=45)\n",
    "axes[1].set_xlabel('implied timescale indices')\n",
    "axes[1].set_ylabel('timescale separation')\n",
    "\n",
    "fig.savefig('./plots/2-Without_IPA/9_its_separation.png', dpi=600)"
   ]
  },
  {
   "cell_type": "code",
   "execution_count": null,
   "metadata": {},
   "outputs": [],
   "source": [
    "eigvec = msm.eigenvectors_right()\n",
    "print('The first eigenvector is one: {} (min={}, max={})'.format(\n",
    "    np.allclose(eigvec[:, 0], 1, atol=1e-15), eigvec[:, 0].min(), eigvec[:, 0].max()))\n",
    "\n",
    "fig, axes = plt.subplots(2, 4, figsize=(15, 6), sharex=True, sharey=True)\n",
    "for i, ax in enumerate(axes.flat):\n",
    "    pyemma.plots.plot_contour(\n",
    "        *Y_concat[:, :2].T,\n",
    "        eigvec[dtrajs_concatenated, i + 1],\n",
    "        ax=ax,\n",
    "        cmap='PiYG',\n",
    "        cbar_label='{}. right eigenvector'.format(i + 2),\n",
    "        mask=True)\n",
    "    \n",
    "    ax.set_xlim(0,4.5)\n",
    "    ax.set_xticks(np.arange(0, 5, 0.5))\n",
    "    ax.set_aspect('equal')\n",
    "\n",
    "axes[1,0].set_xlabel(r'RMSD to closed crystal structure ($\\AA$)')\n",
    "axes[1,1].set_xlabel(r'RMSD to closed crystal structure ($\\AA$)')\n",
    "axes[1,2].set_xlabel(r'RMSD to closed crystal structure ($\\AA$)')\n",
    "axes[1,3].set_xlabel(r'RMSD to closed crystal structure ($\\AA$)')\n",
    "axes[0,0].set_ylim(0,4.5)\n",
    "axes[0,0].set_yticks(np.arange(0, 5, 0.5))\n",
    "axes[0,0].set_ylabel(r'RMSD to open crystal structure ($\\AA$)')\n",
    "axes[1,0].set_ylim(0,4.5)\n",
    "axes[1,0].set_yticks(np.arange(0, 5, 0.5))\n",
    "axes[1,0].set_ylabel(r'RMSD to open crystal structure ($\\AA$)')\n",
    "\n",
    "# fig.tight_layout()\n",
    "fig.savefig('./plots/2-Without_IPA/10_eigenvectors.png', dpi=600)"
   ]
  },
  {
   "cell_type": "markdown",
   "metadata": {},
   "source": [
    "## PCCA metastable states"
   ]
  },
  {
   "cell_type": "code",
   "execution_count": 12,
   "metadata": {},
   "outputs": [],
   "source": [
    "nstates=6\n",
    "msm.pcca(nstates)\n",
    "\n",
    "dtrajs_concatenated = np.concatenate(cluster.dtrajs)\n",
    "metastable_traj = msm.metastable_assignments[dtrajs_concatenated]"
   ]
  },
  {
   "cell_type": "code",
   "execution_count": 38,
   "metadata": {},
   "outputs": [
    {
     "data": {
      "image/png": "[encoded data removed]",
      "text/plain": [
       "<Figure size 360x288 with 2 Axes>"
      ]
     },
     "metadata": {
      "needs_background": "light"
     },
     "output_type": "display_data"
    }
   ],
   "source": [
    "black_cmap = ListedColormap([\"k\",\"k\",\"k\",\"k\",\"k\",\"k\"])\n",
    "\n",
    "diverging_colors = sns.color_palette(\"RdBu_r\", 19)\n",
    "sns_cmap = ListedColormap(diverging_colors[0:18])\n",
    "\n",
    "\n",
    "fig, ax = plt.subplots(figsize=(5, 4))\n",
    "\n",
    "\n",
    "pyemma.plots.plot_free_energy(\n",
    "    *Y_concat[:, :2].T, \n",
    "#     weights=np.concatenate(msm.trajectory_weights()),\n",
    "    ax=ax, nbins=100,\n",
    "    kT=0.5825, legacy=False, alpha=1, cmap=sns_cmap,\n",
    "#     vmin=0.0, vmax=5.0, \n",
    "    levels=19,\n",
    "    cbar_label=\"Free energy (kcal/mol)\"\n",
    ")\n",
    "\n",
    "_, _, misc = pyemma.plots.plot_state_map(\n",
    "    *Y_concat.T, metastable_traj, ax=ax, alpha=0.15, nbins=100, cbar=False,cmap=black_cmap)\n",
    "\n",
    "\n",
    "ax.set_xlabel(r'RMSD to closed crystal structure ($\\AA$)')\n",
    "ax.set_ylabel(r'RMSD to open crystal structure ($\\AA$)')\n",
    "ax.set_aspect('equal')\n",
    "ax.set(xlim=(0,4.5) , ylim=(0, 4.5))\n",
    "\n",
    "ax.set_xticks(np.arange(0, 5, 0.5))\n",
    "ax.set_yticks(np.arange(0, 5, 0.5))\n",
    "\n",
    "fig.savefig('./plots/2-Without_IPA/11_metastable_state_bondaries.png', dpi=600)"
   ]
  },
  {
   "cell_type": "code",
   "execution_count": null,
   "metadata": {},
   "outputs": [],
   "source": [
    "fig, axes = plt.subplots(1, 2, figsize=(10, 4), sharex=True, sharey=False)\n",
    "\n",
    "_, _, misc = pyemma.plots.plot_state_map(\n",
    "    *Y_concat[:, :2].T, metastable_traj, ax=axes[0], zorder=-1, nbins=100)\n",
    "\n",
    "misc['cbar'].set_ticklabels(range(1, nstates + 1))  # set state numbers 1 ... nstates\n",
    "\n",
    "pyemma.plots.plot_free_energy(\n",
    "    *Y_concat[:, :2].T, \n",
    "    weights=np.concatenate(msm.trajectory_weights()),\n",
    "    ax=axes[1], nbins=100,\n",
    "    kT=0.5825, legacy=False,\n",
    "#     vmin=0.0, vmax=5.0, levels=100,\n",
    "    cbar_label=\"Free energy (kcal/mol)\"\n",
    ")\n",
    "\n",
    "axes[0].set_title('Metastable states', fontweight='bold')\n",
    "axes[1].set_title('Reweighted free energy surface', fontweight='bold')\n",
    "\n",
    "axes[0].set_xlabel(r'RMSD to closed crystal structure ($\\AA$)')\n",
    "axes[0].set_ylabel(r'RMSD to open crystal structure ($\\AA$)')\n",
    "axes[0].set(xlim=(0,4.5) , ylim=(0, 4.5))\n",
    "axes[0].set_xticks(np.arange(0, 5, 0.5))\n",
    "axes[0].set_yticks(np.arange(0, 5, 0.5))\n",
    "\n",
    "axes[1].set_xlabel(r'RMSD to closed crystal structure ($\\AA$)')\n",
    "axes[1].set_ylabel(r'RMSD to open crystal structure ($\\AA$)')\n",
    "axes[1].set(xlim=(0,4.5) , ylim=(0, 4.5))\n",
    "axes[1].set_xticks(np.arange(0, 5, 0.5))\n",
    "axes[1].set_yticks(np.arange(0, 5, 0.5))\n",
    "\n",
    "\n",
    "axes[0].set_aspect('equal')\n",
    "axes[1].set_aspect('equal')\n",
    "\n",
    "\n",
    "# fig.savefig('./plots/12_metastable_states.png', dpi=600)"
   ]
  },
  {
   "cell_type": "code",
   "execution_count": 17,
   "metadata": {},
   "outputs": [
    {
     "data": {
      "image/png": "[encoded data removed]",
      "text/plain": [
       "<Figure size 576x72 with 1 Axes>"
      ]
     },
     "metadata": {
      "needs_background": "light"
     },
     "output_type": "display_data"
    }
   ],
   "source": [
    "hexlist=[]\n",
    "\n",
    "cmap = cm.get_cmap(\"Blues\",8)    # PiYG\n",
    "\n",
    "for i in range(cmap.N):\n",
    "    rgb = cmap(i)[:3] # will return rgba, we take only first 3 so we get rgb\n",
    "    hexlist.append(matplotlib.colors.rgb2hex(rgb))\n",
    "sns.set_palette(hexlist)\n",
    "sns.palplot(sns.color_palette())\n",
    "# my_cmap=[hexlist[2],hexlist[1],hexlist[3],hexlist[4],hexlist[6],hexlist[5]]\n",
    "my_cmap=ListedColormap([hexlist[3],hexlist[2],hexlist[4],hexlist[5],hexlist[7],hexlist[6]])"
   ]
  },
  {
   "cell_type": "code",
   "execution_count": 25,
   "metadata": {},
   "outputs": [
    {
     "data": {
      "image/png": "[encoded data removed]",
      "text/plain": [
       "<Figure size 360x288 with 1 Axes>"
      ]
     },
     "metadata": {
      "needs_background": "light"
     },
     "output_type": "display_data"
    }
   ],
   "source": [
    "fig, ax = plt.subplots(figsize=(5, 4))\n",
    "\n",
    "_, _, misc = pyemma.plots.plot_state_map(\n",
    "    *Y_concat[:, :2].T, metastable_traj, ax=ax, \n",
    "    cmap=my_cmap, cbar=False,\n",
    "    zorder=-1, nbins=100)\n",
    "\n",
    "# misc['cbar'].set_ticklabels(range(1, nstates + 1))  # set state numbers 1 ... nstates\n",
    "\n",
    "ax.set_xlabel(r'RMSD to closed crystal structure ($\\AA$)')\n",
    "ax.set_ylabel(r'RMSD to open crystal structure ($\\AA$)')\n",
    "ax.set(xlim=(0,4.5) , ylim=(0, 4.5))\n",
    "ax.set_xticks(np.arange(0, 5, 0.5))\n",
    "ax.set_yticks(np.arange(0, 5, 0.5))\n",
    "ax.set_aspect('equal')\n",
    "\n",
    "ax.text(1.5,3.1,r'$\\mathcal{S}_1$',c='k')\n",
    "ax.text(2.55,3.3,r'$\\mathcal{S}_2$',c='k')\n",
    "ax.text(2.2,2.6,r'$\\mathcal{S}_3$',c='k')\n",
    "ax.text(3.4,2.9,r'$\\mathcal{S}_4$',c='k')\n",
    "ax.text(3.,2.5,r'$\\mathcal{S}_5$',c='w' )\n",
    "ax.text(2.8,1.9,r'$\\mathcal{S}_6$',c='w' )\n",
    "\n",
    "fig.savefig('./plots/2-Without_IPA/12_metastable_states.png', dpi=600)"
   ]
  },
  {
   "cell_type": "code",
   "execution_count": null,
   "metadata": {},
   "outputs": [],
   "source": [
    "pcca_samples = msm.sample_by_distributions(msm.metastable_distributions, 1000)"
   ]
  },
  {
   "cell_type": "code",
   "execution_count": null,
   "metadata": {},
   "outputs": [],
   "source": [
    "traj_source = pyemma.coordinates.source(traj_list, top=topfile, stride=1)\n",
    "pyemma.coordinates.save_trajs(\n",
    "    traj_source,\n",
    "    pcca_samples,\n",
    "    outfiles=['./sample_structures/2-Without_IPA/1-MSM_1000_samples/pcca{}_samples.xtc'.format(n + 1)\n",
    "              for n in range(msm.n_metastable)])"
   ]
  },
  {
   "cell_type": "markdown",
   "metadata": {},
   "source": [
    "### Position metastable samples "
   ]
  },
  {
   "cell_type": "code",
   "execution_count": null,
   "metadata": {},
   "outputs": [],
   "source": [
    "indir_sample = './sample_structures/2-Without_IPA/1-MSM_1000_samples'\n",
    "traj_list_sample = sorted(glob(indir_sample+'/*.xtc'))\n",
    "traj_list_sample"
   ]
  },
  {
   "cell_type": "code",
   "execution_count": null,
   "metadata": {},
   "outputs": [],
   "source": [
    "results_open_sample=[]\n",
    "results_closed_sample=[]\n",
    "for t in traj_list_sample:\n",
    "    traj=pt.load(t, topfile, stride=1)\n",
    "    rmsd0=pt.rmsd(traj,ref=rf0, mask=\"@CA,N,C,O\")\n",
    "    rmsd1=pt.rmsd(traj,ref=rf1, mask=\"@CA,N,C,O\")\n",
    "    rmsd2=pt.rmsd(traj,ref=rf2, mask=\"@CA,N,C,O\")\n",
    "    rmsd3=pt.rmsd(traj,ref=rf3, mask=\"@CA,N,C,O\")\n",
    "    rmsd4=pt.rmsd(traj,ref=rf4, mask=\"@CA,N,C,O\")\n",
    "    rmsd5=pt.rmsd(traj,ref=rf5, mask=\"@CA,N,C,O\")\n",
    "    \n",
    "    rmsd_closed=np.nanmin(np.array([rmsd0,rmsd1,rmsd2,rmsd3,rmsd4,rmsd5]), axis=0)\n",
    "    results_closed_sample.append(rmsd_closed)\n",
    "    \n",
    "    rmsd_open=pt.rmsd(traj,ref=rfopen, mask=\"@CA,N,C,O\")\n",
    "    results_open_sample.append(rmsd_open)"
   ]
  },
  {
   "cell_type": "code",
   "execution_count": null,
   "metadata": {},
   "outputs": [],
   "source": [
    "rmsd_open_sample=np.concatenate(results_open_sample, axis=0)\n",
    "rmsd_closed_sample=np.concatenate(results_closed_sample, axis=0)"
   ]
  },
  {
   "cell_type": "code",
   "execution_count": null,
   "metadata": {},
   "outputs": [],
   "source": [
    "fig, ax = plt.subplots(figsize=(5, 5))\n",
    "\n",
    "pyemma.plots.plot_free_energy(\n",
    "    *Y_concat[:, :2].T, \n",
    "    weights=np.concatenate(msm.trajectory_weights()),\n",
    "    ax=ax, nbins=100,\n",
    "    kT=0.5825, \n",
    "    cbar=False\n",
    ")\n",
    "\n",
    "ax.plot(rmsd_closed_sample, rmsd_open_sample, linewidth=0, marker='o', markersize=0.5, color='white')\n",
    "\n",
    "ax.set_xlabel(r'RMSD to closed crystal structure ($\\AA$)')\n",
    "ax.set_ylabel(r'RMSD to open crystal structure ($\\AA$)')\n",
    "ax.set_aspect('equal')\n",
    "\n",
    "fig.savefig('./plots/1-With_IPA/13_sample_structures.png', dpi=600)"
   ]
  },
  {
   "cell_type": "markdown",
   "metadata": {},
   "source": [
    "## MFPT"
   ]
  },
  {
   "cell_type": "code",
   "execution_count": 26,
   "metadata": {},
   "outputs": [
    {
     "name": "stdout",
     "output_type": "stream",
     "text": [
      "state\tπ\t\tG/kT\n",
      "1\t0.017856\t4.025397\n",
      "2\t0.073715\t2.607547\n",
      "3\t0.039865\t3.222247\n",
      "4\t0.052693\t2.943272\n",
      "5\t0.195613\t1.631618\n",
      "6\t0.620257\t0.477621\n"
     ]
    }
   ],
   "source": [
    "print('state\\tπ\\t\\tG/kT')\n",
    "for i, s in enumerate(msm.metastable_sets):\n",
    "    p = msm.pi[s].sum()\n",
    "    print('{}\\t{:f}\\t{:f}'.format(i + 1, p, -np.log(p)))"
   ]
  },
  {
   "cell_type": "code",
   "execution_count": 27,
   "metadata": {},
   "outputs": [
    {
     "name": "stdout",
     "output_type": "stream",
     "text": [
      "MFPT / μs:\n"
     ]
    },
    {
     "data": {
      "text/html": [
       "<div>\n",
       "<style scoped>\n",
       "    .dataframe tbody tr th:only-of-type {\n",
       "        vertical-align: middle;\n",
       "    }\n",
       "\n",
       "    .dataframe tbody tr th {\n",
       "        vertical-align: top;\n",
       "    }\n",
       "\n",
       "    .dataframe thead th {\n",
       "        text-align: right;\n",
       "    }\n",
       "</style>\n",
       "<table border=\"1\" class=\"dataframe\">\n",
       "  <thead>\n",
       "    <tr style=\"text-align: right;\">\n",
       "      <th></th>\n",
       "      <th>1</th>\n",
       "      <th>2</th>\n",
       "      <th>3</th>\n",
       "      <th>4</th>\n",
       "      <th>5</th>\n",
       "      <th>6</th>\n",
       "    </tr>\n",
       "  </thead>\n",
       "  <tbody>\n",
       "    <tr>\n",
       "      <th>1</th>\n",
       "      <td>0.00</td>\n",
       "      <td>0.20</td>\n",
       "      <td>0.73</td>\n",
       "      <td>1.97</td>\n",
       "      <td>1.29</td>\n",
       "      <td>0.87</td>\n",
       "    </tr>\n",
       "    <tr>\n",
       "      <th>2</th>\n",
       "      <td>3.46</td>\n",
       "      <td>0.00</td>\n",
       "      <td>0.69</td>\n",
       "      <td>1.91</td>\n",
       "      <td>1.22</td>\n",
       "      <td>0.81</td>\n",
       "    </tr>\n",
       "    <tr>\n",
       "      <th>3</th>\n",
       "      <td>6.42</td>\n",
       "      <td>2.95</td>\n",
       "      <td>0.00</td>\n",
       "      <td>1.62</td>\n",
       "      <td>0.94</td>\n",
       "      <td>0.51</td>\n",
       "    </tr>\n",
       "    <tr>\n",
       "      <th>4</th>\n",
       "      <td>9.87</td>\n",
       "      <td>6.35</td>\n",
       "      <td>3.53</td>\n",
       "      <td>0.00</td>\n",
       "      <td>0.48</td>\n",
       "      <td>0.09</td>\n",
       "    </tr>\n",
       "    <tr>\n",
       "      <th>5</th>\n",
       "      <td>10.03</td>\n",
       "      <td>6.52</td>\n",
       "      <td>3.70</td>\n",
       "      <td>1.34</td>\n",
       "      <td>0.00</td>\n",
       "      <td>0.09</td>\n",
       "    </tr>\n",
       "    <tr>\n",
       "      <th>6</th>\n",
       "      <td>9.95</td>\n",
       "      <td>6.43</td>\n",
       "      <td>3.60</td>\n",
       "      <td>1.24</td>\n",
       "      <td>0.39</td>\n",
       "      <td>0.00</td>\n",
       "    </tr>\n",
       "  </tbody>\n",
       "</table>\n",
       "</div>"
      ],
      "text/plain": [
       "       1     2     3     4     5     6\n",
       "1   0.00  0.20  0.73  1.97  1.29  0.87\n",
       "2   3.46  0.00  0.69  1.91  1.22  0.81\n",
       "3   6.42  2.95  0.00  1.62  0.94  0.51\n",
       "4   9.87  6.35  3.53  0.00  0.48  0.09\n",
       "5  10.03  6.52  3.70  1.34  0.00  0.09\n",
       "6   9.95  6.43  3.60  1.24  0.39  0.00"
      ]
     },
     "execution_count": 27,
     "metadata": {},
     "output_type": "execute_result"
    }
   ],
   "source": [
    "from itertools import product\n",
    "\n",
    "mfpt = np.zeros((nstates, nstates))\n",
    "for i, j in product(range(nstates), repeat=2):\n",
    "    mfpt[i, j] = msm.mfpt(\n",
    "        msm.metastable_sets[i],\n",
    "        msm.metastable_sets[j])\n",
    "\n",
    "from pandas import DataFrame\n",
    "print('MFPT / μs:')\n",
    "DataFrame(np.round(mfpt/1000, decimals=2), index=range(1, nstates + 1), columns=range(1, nstates + 1))"
   ]
  },
  {
   "cell_type": "markdown",
   "metadata": {},
   "source": [
    "Already in ns because msm was created with option `dt_traj='0.1 ns'`"
   ]
  },
  {
   "cell_type": "code",
   "execution_count": 28,
   "metadata": {},
   "outputs": [],
   "source": [
    "inverse_mfpt = np.zeros_like(mfpt)\n",
    "nz = mfpt.nonzero()\n",
    "inverse_mfpt[nz] = 1.0 / mfpt[nz]\n",
    "\n",
    "metastable_traj = msm.metastable_assignments[dtrajs_concatenated]\n",
    "highest_membership = msm.metastable_distributions.argmax(1)\n",
    "coarse_state_centers = cluster.clustercenters[msm.active_set[highest_membership]]"
   ]
  },
  {
   "cell_type": "code",
   "execution_count": 29,
   "metadata": {},
   "outputs": [
    {
     "name": "stdout",
     "output_type": "stream",
     "text": [
      "[0.01785633 0.07371517 0.03986538 0.05269302 0.19561282 0.62025729]\n"
     ]
    }
   ],
   "source": [
    "stat_dist=[]\n",
    "for i, s in enumerate(msm.metastable_sets):\n",
    "    stat_dist.append(msm.pi[s].sum())\n",
    "print(np.array(stat_dist))"
   ]
  },
  {
   "cell_type": "code",
   "execution_count": 36,
   "metadata": {},
   "outputs": [
    {
     "data": {
      "image/png": "[encoded data removed]",
      "text/plain": [
       "<Figure size 864x864 with 1 Axes>"
      ]
     },
     "metadata": {},
     "output_type": "display_data"
    }
   ],
   "source": [
    "fig, ax = plt.subplots(figsize=(12, 12))\n",
    "\n",
    "pyemma.plots.plot_network(\n",
    "    inverse_mfpt,\n",
    "    pos=coarse_state_centers,\n",
    "    figpadding=0,\n",
    "    arrow_label_format='%.1f',\n",
    "    arrow_labels=mfpt/1000,\n",
    "    size=16,\n",
    "    state_colors=[hexlist[3],hexlist[2],hexlist[4],hexlist[5],hexlist[7],hexlist[6]],\n",
    "    state_labels=[r'$\\mathcal{S}_2$',r'$\\mathcal{S}_1$',r'$\\mathcal{S}_3$',\n",
    "                  r'$\\mathcal{S}_4$',r'$\\mathcal{S}_6$',r'$\\mathcal{S}_5$'],\n",
    "    state_sizes=np.array(stat_dist),\n",
    "    arrow_scale=6.0, arrow_curvature=3,\n",
    "    show_frame=False,\n",
    "    arrow_label_size=14,\n",
    "    fontweight='bold',\n",
    "    ax=ax)\n",
    "\n",
    "# ax.set_xlabel(r'RMSD to closed crystal structure ($\\AA$)')\n",
    "# ax.set_ylabel(r'RMSD to open crystal structure ($\\AA$)')\n",
    "ax.set(xlim=(1.5,3.5) , ylim=(2.0,3.25))\n",
    "# ax.set_xticks(np.arange(2, 4.5, 0.5))\n",
    "# ax.set_yticks(np.arange(1.5, 4, 0.5))\n",
    "ax.set_aspect('equal')\n",
    "\n",
    "fig.savefig('./plots/2-Without_IPA/14_MFPT.png', dpi=600)"
   ]
  },
  {
   "cell_type": "code",
   "execution_count": null,
   "metadata": {},
   "outputs": [],
   "source": []
  }
 ],
 "metadata": {
  "kernelspec": {
   "display_name": "Python 3",
   "language": "python",
   "name": "python3"
  },
  "language_info": {
   "codemirror_mode": {
    "name": "ipython",
    "version": 3
   },
   "file_extension": ".py",
   "mimetype": "text/x-python",
   "name": "python",
   "nbconvert_exporter": "python",
   "pygments_lexer": "ipython3",
   "version": "3.7.6"
  },
  "toc": {
   "base_numbering": 1,
   "nav_menu": {},
   "number_sections": true,
   "sideBar": true,
   "skip_h1_title": false,
   "title_cell": "Table of Contents",
   "title_sidebar": "Contents",
   "toc_cell": false,
   "toc_position": {},
   "toc_section_display": true,
   "toc_window_display": false
  }
 },
 "nbformat": 4,
 "nbformat_minor": 4
}
